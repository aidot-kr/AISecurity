{
  "nbformat": 4,
  "nbformat_minor": 0,
  "metadata": {
    "kernelspec": {
      "display_name": "Python 3",
      "language": "python",
      "name": "python3"
    },
    "language_info": {
      "codemirror_mode": {
        "name": "ipython",
        "version": 3
      },
      "file_extension": ".py",
      "mimetype": "text/x-python",
      "name": "python",
      "nbconvert_exporter": "python",
      "pygments_lexer": "ipython3",
      "version": "3.7.3"
    },
    "colab": {
      "name": "10_Seq2Seq.ipynb",
      "provenance": [],
      "collapsed_sections": [],
      "include_colab_link": true
    }
  },
  "cells": [
    {
      "cell_type": "markdown",
      "metadata": {
        "id": "view-in-github",
        "colab_type": "text"
      },
      "source": [
        "<a href=\"https://colab.research.google.com/github/aidot-kr/AISecurity/blob/master/10_Seq2Seq.ipynb\" target=\"_parent\"><img src=\"https://colab.research.google.com/assets/colab-badge.svg\" alt=\"Open In Colab\"/></a>"
      ]
    },
    {
      "cell_type": "markdown",
      "metadata": {
        "id": "0cIrSqdeIuSr"
      },
      "source": [
        "#### 짧은 영어 문장을 짧은 프랑스어 문장으로 번역하는 예제"
      ]
    },
    {
      "cell_type": "markdown",
      "metadata": {
        "id": "-kYrh1gAIuSs"
      },
      "source": [
        "##### 1. 라이브러리 로드 및 변수 초기화"
      ]
    },
    {
      "cell_type": "code",
      "metadata": {
        "id": "JDOtPHSGIuSt"
      },
      "source": [
        "from __future__ import print_function\n",
        "\n",
        "from keras.models import Model\n",
        "from keras.layers import Input, LSTM, Dense\n",
        "import numpy as np\n",
        "\n",
        "batch_size = 64  # 훈련을 위한 배치 크기\n",
        "epochs = 100  # 훈련 할 에포크 수\n",
        "latent_dim = 256  # 인코딩 공간의 잠재 된 차원 수\n",
        "num_samples = 10000  # 훈련 할 샘플 수\n",
        "\n",
        "data_path = 'fra-eng/fra.txt' # 데이터 경로"
      ],
      "execution_count": 6,
      "outputs": []
    },
    {
      "cell_type": "markdown",
      "metadata": {
        "id": "TLA1oct_IuSw"
      },
      "source": [
        "##### 2. 학습에 사용할 데이터 로드"
      ]
    },
    {
      "cell_type": "code",
      "source": [
        "from google.colab import drive\n",
        "drive.mount('/content/drive')"
      ],
      "metadata": {
        "colab": {
          "base_uri": "https://localhost:8080/"
        },
        "id": "L7vDo_I_rFog",
        "outputId": "85e0d8b7-2b9a-4b50-c385-72f27c4cc516"
      },
      "execution_count": 2,
      "outputs": [
        {
          "output_type": "stream",
          "name": "stdout",
          "text": [
            "Drive already mounted at /content/drive; to attempt to forcibly remount, call drive.mount(\"/content/drive\", force_remount=True).\n"
          ]
        }
      ]
    },
    {
      "cell_type": "code",
      "source": [
        "cd /content/drive/My\\ Drive/AISecurity"
      ],
      "metadata": {
        "colab": {
          "base_uri": "https://localhost:8080/"
        },
        "id": "YRzlWQ9arIsz",
        "outputId": "44b5a2ff-ed0d-4fe0-d9e7-ee986c174db1"
      },
      "execution_count": 3,
      "outputs": [
        {
          "output_type": "stream",
          "name": "stdout",
          "text": [
            "/content/drive/My Drive/AISecurity\n"
          ]
        }
      ]
    },
    {
      "cell_type": "code",
      "source": [
        "ls"
      ],
      "metadata": {
        "colab": {
          "base_uri": "https://localhost:8080/"
        },
        "id": "accCBRSXrK-z",
        "outputId": "76c7c3b3-86c5-48f6-8209-c50672910a62"
      },
      "execution_count": 4,
      "outputs": [
        {
          "output_type": "stream",
          "name": "stdout",
          "text": [
            " 10_Seq2Seq.ipynb\n",
            " 11_Attention.ipynb\n",
            " 11_nmt_with_attention_사본.ipynb\n",
            " 11_nmt_with_attention.ipynb\n",
            " 12_transformer.ipynb\n",
            "'13_BERT Classification.ipynb'\n",
            " 2_TFIDF.ipynb\n",
            " 3_SimpleCrawling.ipynb\n",
            " 4_MeCab.ipynb\n",
            " 4_Pre_Processing.ipynb\n",
            " 5_OneHotEncode.ipynb\n",
            " 5_Word2Vec-FastText.ipynb\n",
            " 6_Similarity.ipynb\n",
            " 6_TopicModeling_bak.ipynb\n",
            " 6_TopicModeling.ipynb\n",
            " 7_ngram.ipynb\n",
            " 9-1_RNN.ipynb\n",
            " 9-1_rnn.py\n",
            " 9-2_LSTM.ipynb\n",
            " 9-3_GRU.ipynb\n",
            " 9-4_BLSTM.ipynb\n",
            "'(bak)(11_attention.ipynb'\n",
            "'(Bak)12_Transformer.ipynb'\n",
            "'(bak)13_BERT Classification.ipynb'\n",
            " convert_tensorflow_1_to_tensorflow_2_on_google_colab.ipynb\n",
            " deu.txt\n",
            " eng-fra.txt\n",
            " kor.txt\n",
            " model.pt\n",
            " \u001b[0m\u001b[01;34mmulti_cased_L-12_H-768_A-12\u001b[0m/\n",
            " ratings.txt\n",
            " report.txt\n",
            " Sample.ipynb\n",
            " spam.csv\n",
            " spam_test.csv\n",
            " spam_train.csv\n",
            " spa.txt\n",
            " temp2.ipynb\n",
            " temp.py\n",
            " \u001b[01;34mtraining_checkpoints\u001b[0m/\n"
          ]
        }
      ]
    },
    {
      "cell_type": "code",
      "metadata": {
        "id": "tOC7UcQKIuSx"
      },
      "source": [
        "# 데이터 백터화\n",
        "input_texts = []\n",
        "target_texts = []\n",
        "input_characters = set()\n",
        "target_characters = set()\n",
        "with open(data_path, 'r', encoding='utf-8') as f:\n",
        "    lines = f.read().split('\\n')\n",
        "for line in lines[: min(num_samples, len(lines) - 1)]:    \n",
        "    input_text, target_text = line.split('\\t')\n",
        "    # Tab을 시작 문자로 사용하고 \\n 은 종료 문자\n",
        "    target_text = '\\t' + target_text + '\\n'\n",
        "    input_texts.append(input_text)\n",
        "    target_texts.append(target_text)\n",
        "    for char in input_text:\n",
        "        if char not in input_characters:\n",
        "            input_characters.add(char)\n",
        "    for char in target_text:\n",
        "        if char not in target_characters:\n",
        "            target_characters.add(char)"
      ],
      "execution_count": 8,
      "outputs": []
    },
    {
      "cell_type": "markdown",
      "metadata": {
        "id": "uygmUaW6IuS0"
      },
      "source": [
        "##### 3. 학습 대상 데이터 확인"
      ]
    },
    {
      "cell_type": "code",
      "metadata": {
        "id": "mreQbrC8IuS1",
        "colab": {
          "base_uri": "https://localhost:8080/"
        },
        "outputId": "d323d2c6-5732-4e81-b9a8-60aaa7369730"
      },
      "source": [
        "input_characters = sorted(list(input_characters))\n",
        "target_characters = sorted(list(target_characters))\n",
        "num_encoder_tokens = len(input_characters)\n",
        "num_decoder_tokens = len(target_characters)\n",
        "max_encoder_seq_length = max([len(txt) for txt in input_texts])\n",
        "max_decoder_seq_length = max([len(txt) for txt in target_texts])\n",
        "\n",
        "print('Number of samples:', len(input_texts))\n",
        "print('Number of unique input tokens:', num_encoder_tokens)\n",
        "print('Number of unique output tokens:', num_decoder_tokens)\n",
        "print('Max sequence length for inputs:', max_encoder_seq_length)\n",
        "print('Max sequence length for outputs:', max_decoder_seq_length)"
      ],
      "execution_count": 9,
      "outputs": [
        {
          "output_type": "stream",
          "name": "stdout",
          "text": [
            "Number of samples: 10000\n",
            "Number of unique input tokens: 71\n",
            "Number of unique output tokens: 91\n",
            "Max sequence length for inputs: 16\n",
            "Max sequence length for outputs: 59\n"
          ]
        }
      ]
    },
    {
      "cell_type": "markdown",
      "metadata": {
        "id": "yX4ZEinzIuS5"
      },
      "source": [
        "##### 4. 번역에 사용될 문장들을 3차원 배열(encoder_input_data, decoder_input_data, decoder_target_data)로 초기화"
      ]
    },
    {
      "cell_type": "code",
      "metadata": {
        "id": "if5WTlpeIuS5"
      },
      "source": [
        "input_token_index = dict(\n",
        "    [(char, i) for i, char in enumerate(input_characters)])\n",
        "target_token_index = dict(\n",
        "    [(char, i) for i, char in enumerate(target_characters)])\n",
        "\n",
        "# encoder_input_data는 (num_pairs, max_english_sentence_length, num_english_characters) \n",
        "# 형태의 3차원 배열로 영어 문장의 one-hot 형식 벡터 데이터로 초기화.\n",
        "encoder_input_data = np.zeros(\n",
        "    (len(input_texts), max_encoder_seq_length, num_encoder_tokens),\n",
        "    dtype='float32')\n",
        "# decoder_input_data는 (num_pairs, max_french_sentence_length, num_french_characters)\n",
        "# 형태의 3차원 배열로 불어 문장의 one-hot형식 벡터 데이터로 초기화.\n",
        "decoder_input_data = np.zeros(\n",
        "    (len(input_texts), max_decoder_seq_length, num_decoder_tokens),\n",
        "    dtype='float32')\n",
        "# decoder_target_data는 decoder_input_data와 같지만\n",
        "# 하나의 time step만큼 offset 됨. \n",
        "# decoder_target_data[:, t, :]는 decoder_input_data[:, t + 1, :]와 동일.\n",
        "decoder_target_data = np.zeros(\n",
        "    (len(input_texts), max_decoder_seq_length, num_decoder_tokens),\n",
        "    dtype='float32')"
      ],
      "execution_count": 10,
      "outputs": []
    },
    {
      "cell_type": "markdown",
      "metadata": {
        "id": "r81ucdHJIuS9"
      },
      "source": [
        "##### 5. 문장들을 3차원 배열(encoder_input_data, decoder_input_data, decoder_target_data)로 변환."
      ]
    },
    {
      "cell_type": "code",
      "metadata": {
        "id": "JHBU4CO7IuS-"
      },
      "source": [
        "for i, (input_text, target_text) in enumerate(zip(input_texts, target_texts)):\n",
        "    for t, char in enumerate(input_text):\n",
        "        encoder_input_data[i, t, input_token_index[char]] = 1.\n",
        "    encoder_input_data[i, t + 1:, input_token_index[' ']] = 1.\n",
        "    for t, char in enumerate(target_text):\n",
        "        # decoder_target_data는 한 번의 단계로 decoder_input_data보다 앞서 있음.\n",
        "        decoder_input_data[i, t, target_token_index[char]] = 1.\n",
        "        if t > 0:\n",
        "            decoder_target_data[i, t - 1, target_token_index[char]] = 1.\n",
        "    decoder_input_data[i, t + 1:, target_token_index[' ']] = 1.\n",
        "    decoder_target_data[i, t:, target_token_index[' ']] = 1."
      ],
      "execution_count": 11,
      "outputs": []
    },
    {
      "cell_type": "markdown",
      "metadata": {
        "id": "dQK9-IAcIuTA"
      },
      "source": [
        "##### 6. 기본 LSTM 기반의 encoder 생성"
      ]
    },
    {
      "cell_type": "code",
      "metadata": {
        "scrolled": true,
        "id": "Ib9udnh1IuTA"
      },
      "source": [
        "# 입력 시퀀스의 정의와 처리\n",
        "encoder_inputs = Input(shape=(None, num_encoder_tokens))\n",
        "encoder = LSTM(latent_dim, return_state=True)\n",
        "encoder_outputs, state_h, state_c = encoder(encoder_inputs)\n",
        "# `encoder_outputs`는 버리고 상태(`state_h, state_c`)는 유지\n",
        "encoder_states = [state_h, state_c]"
      ],
      "execution_count": 12,
      "outputs": []
    },
    {
      "cell_type": "markdown",
      "metadata": {
        "id": "6ZrI2a0LIuTD"
      },
      "source": [
        "##### 7. 기본 LSTM 기반의 decoder 생성"
      ]
    },
    {
      "cell_type": "code",
      "metadata": {
        "id": "mUSfwLelIuTD"
      },
      "source": [
        "# `encoder_states`를 초기 상태로 사용해 decoder를 설정\n",
        "decoder_inputs = Input(shape=(None, num_decoder_tokens))\n",
        "# 전체 출력 시퀀스를 반환하고 내부 상태도 반환하도록 decoder를 설정. \n",
        "# 학습 모델에서 상태를 반환하도록 하진 않지만, inference에서 사용할 예정.\n",
        "decoder_lstm = LSTM(latent_dim, return_sequences=True, return_state=True)\n",
        "decoder_outputs, _, _ = decoder_lstm(decoder_inputs,\n",
        "                                     initial_state=encoder_states)\n",
        "decoder_dense = Dense(num_decoder_tokens, activation='softmax')\n",
        "decoder_outputs = decoder_dense(decoder_outputs)"
      ],
      "execution_count": 13,
      "outputs": []
    },
    {
      "cell_type": "markdown",
      "metadata": {
        "id": "wlqLbMqrIuTG"
      },
      "source": [
        "##### 8. 기본 LSTM 기반의 Seq2Seq model을 주어진 encoder_input_data와 decoder_input_data로 decoder_target_data를 예측. (해당 model은 teacher forcing을 사용)"
      ]
    },
    {
      "cell_type": "code",
      "metadata": {
        "id": "hVDVhr9DIuTG",
        "colab": {
          "base_uri": "https://localhost:8080/"
        },
        "outputId": "9b2280d5-1da9-4ca7-be0c-219689230133"
      },
      "source": [
        "# `encoder_input_data`와 `decoder_input_data`를 `decoder_target_data`로 반환하도록 모델을 정의\n",
        "model = Model([encoder_inputs, decoder_inputs], decoder_outputs)\n",
        "\n",
        "# 학습 실행\n",
        "model.compile(optimizer='rmsprop', loss='categorical_crossentropy',\n",
        "              metrics=['accuracy'])\n",
        "model.fit([encoder_input_data, decoder_input_data], decoder_target_data,\n",
        "          batch_size=batch_size,\n",
        "          epochs=epochs,\n",
        "          validation_split=0.2)\n",
        "# 모델 저장\n",
        "model.save('s2s.h5')"
      ],
      "execution_count": null,
      "outputs": [
        {
          "output_type": "stream",
          "name": "stdout",
          "text": [
            "Epoch 1/100\n",
            "125/125 [==============================] - 50s 371ms/step - loss: 1.2110 - accuracy: 0.7178 - val_loss: 1.1289 - val_accuracy: 0.6899\n",
            "Epoch 2/100\n",
            "125/125 [==============================] - 46s 364ms/step - loss: 0.8720 - accuracy: 0.7645 - val_loss: 0.8946 - val_accuracy: 0.7543\n",
            "Epoch 3/100\n",
            "125/125 [==============================] - 48s 388ms/step - loss: 0.7003 - accuracy: 0.8029 - val_loss: 0.7931 - val_accuracy: 0.7699\n",
            "Epoch 4/100\n",
            "125/125 [==============================] - 45s 359ms/step - loss: 0.6101 - accuracy: 0.8224 - val_loss: 0.7134 - val_accuracy: 0.7916\n",
            "Epoch 5/100\n",
            " 58/125 [============>.................] - ETA: 21s - loss: 0.5712 - accuracy: 0.8326"
          ]
        }
      ]
    },
    {
      "cell_type": "markdown",
      "metadata": {
        "id": "JRnCEwBgIuTI"
      },
      "source": [
        "##### 9. 샘플링 할 encoder, decoder 모델 정의"
      ]
    },
    {
      "cell_type": "code",
      "metadata": {
        "id": "M7mJCD5RIuTI"
      },
      "source": [
        "# 샘플링 모델 정의\n",
        "encoder_model = Model(encoder_inputs, encoder_states)\n",
        "\n",
        "decoder_state_input_h = Input(shape=(latent_dim,))\n",
        "decoder_state_input_c = Input(shape=(latent_dim,))\n",
        "decoder_states_inputs = [decoder_state_input_h, decoder_state_input_c]\n",
        "decoder_outputs, state_h, state_c = decoder_lstm(\n",
        "    decoder_inputs, initial_state = decoder_states_inputs)\n",
        "decoder_states = [state_h, state_c]\n",
        "decoder_outputs = decoder_dense(decoder_outputs)\n",
        "decoder_model = Model(\n",
        "    [decoder_inputs] + decoder_states_inputs,\n",
        "    [decoder_outputs] + decoder_states)"
      ],
      "execution_count": null,
      "outputs": []
    },
    {
      "cell_type": "markdown",
      "metadata": {
        "id": "dwxCDG3sIuTL"
      },
      "source": [
        "##### 10. model이 정상적으로 작동하는지 확인하기 위한 색인 생성"
      ]
    },
    {
      "cell_type": "code",
      "metadata": {
        "id": "T-CQwONuIuTL"
      },
      "source": [
        "# 시퀀스를 다시 해독하기 위한 역방향 조회 토큰 색인\n",
        "reverse_input_char_index = dict(\n",
        "    (i, char) for char, i in input_token_index.items())\n",
        "reverse_target_char_index = dict(\n",
        "    (i, char) for char, i in target_token_index.items())"
      ],
      "execution_count": null,
      "outputs": []
    },
    {
      "cell_type": "markdown",
      "metadata": {
        "id": "KrgCHwkYIuTN"
      },
      "source": [
        "##### 11. 문장 Decoding을 위한 함수 (model이 정상적으로 작동하는지 확인을 위한 함수)"
      ]
    },
    {
      "cell_type": "code",
      "metadata": {
        "id": "jjyZNlU1IuTO"
      },
      "source": [
        "def decode_sequence(input_seq):\n",
        "    # 상태 벡터로서 입력값을 encode\n",
        "    states_value = encoder_model.predict(input_seq)\n",
        "\n",
        "    # 길이가 1인 빈 목표 시퀀스를 생성\n",
        "    target_seq = np.zeros((1, 1, num_decoder_tokens))\n",
        "    # 대상 시퀀스 첫 번째 문자를 시작 문자로 기재.\n",
        "    target_seq[0, 0, target_token_index['\\t']] = 1.\n",
        "\n",
        "    # 시퀀스들의 batch에 대한 샘플링 반복(간소화를 위해, 배치 크기는 1로 상정)\n",
        "    stop_condition = False\n",
        "    decoded_sentence = ''\n",
        "    while not stop_condition:\n",
        "        output_tokens, h, c = decoder_model.predict(\n",
        "            [target_seq] + states_value)\n",
        "\n",
        "        # 토큰으로 샘플링\n",
        "        sampled_token_index = np.argmax(output_tokens[0, -1, :])\n",
        "        sampled_char = reverse_target_char_index[sampled_token_index]\n",
        "        decoded_sentence += sampled_char\n",
        "\n",
        "        # 탈출 조건 : 최대 길이에 도달하거나\n",
        "        # 종료 문자를 찾을 경우\n",
        "        if (sampled_char == '\\n' or\n",
        "           len(decoded_sentence) > max_decoder_seq_length):\n",
        "            stop_condition = True\n",
        "\n",
        "        # (길이 1인) 목표 시퀀스 업데이트\n",
        "        target_seq = np.zeros((1, 1, num_decoder_tokens))\n",
        "        target_seq[0, 0, sampled_token_index] = 1.\n",
        "\n",
        "        # 상태 업데이트\n",
        "        states_value = [h, c]\n",
        "\n",
        "    return decoded_sentence"
      ],
      "execution_count": null,
      "outputs": []
    },
    {
      "cell_type": "markdown",
      "metadata": {
        "id": "fZq2wLn0IuTQ"
      },
      "source": [
        "##### 12. encoder_input_data의 샘플을 decoder_target_data의 표본으로 변환 (model이 정상적으로 작동하는지 확인)"
      ]
    },
    {
      "cell_type": "code",
      "metadata": {
        "id": "cRiDgEAnIuTR"
      },
      "source": [
        "for seq_index in range(100):\n",
        "    input_seq = encoder_input_data[seq_index: seq_index + 1]\n",
        "    decoded_sentence = decode_sequence(input_seq)\n",
        "    print('-')\n",
        "    print('Input sentence:', input_texts[seq_index])\n",
        "    print('Decoded sentence:', decoded_sentence)"
      ],
      "execution_count": null,
      "outputs": []
    },
    {
      "cell_type": "code",
      "source": [
        ""
      ],
      "metadata": {
        "id": "H0AOyWFgsvIK"
      },
      "execution_count": null,
      "outputs": []
    }
  ]
}