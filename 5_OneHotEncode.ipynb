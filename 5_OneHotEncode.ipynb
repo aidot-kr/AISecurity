{
  "nbformat": 4,
  "nbformat_minor": 0,
  "metadata": {
    "kernelspec": {
      "display_name": "Python 3",
      "language": "python",
      "name": "python3"
    },
    "language_info": {
      "codemirror_mode": {
        "name": "ipython",
        "version": 3
      },
      "file_extension": ".py",
      "mimetype": "text/x-python",
      "name": "python",
      "nbconvert_exporter": "python",
      "pygments_lexer": "ipython3",
      "version": "3.7.5"
    },
    "colab": {
      "name": "5.OneHotEncode.ipynb",
      "provenance": [],
      "collapsed_sections": [],
      "include_colab_link": true
    }
  },
  "cells": [
    {
      "cell_type": "markdown",
      "metadata": {
        "id": "view-in-github",
        "colab_type": "text"
      },
      "source": [
        "<a href=\"https://colab.research.google.com/github/aidot-kr/AISecurity/blob/master/5_OneHotEncode.ipynb\" target=\"_parent\"><img src=\"https://colab.research.google.com/assets/colab-badge.svg\" alt=\"Open In Colab\"/></a>"
      ]
    },
    {
      "cell_type": "markdown",
      "metadata": {
        "id": "rghpDLtfIc7I"
      },
      "source": [
        "# Word Embedding"
      ]
    },
    {
      "cell_type": "markdown",
      "metadata": {
        "id": "PEFf4V54Ic7I"
      },
      "source": [
        "- [scikit-learn을 사용한 One hot Encode]"
      ]
    },
    {
      "cell_type": "code",
      "metadata": {
        "id": "UnEPbGweIc7J",
        "outputId": "c6c0fa9d-b6ca-4a4d-a086-f9819eef9003",
        "colab": {
          "base_uri": "https://localhost:8080/",
          "height": 233
        }
      },
      "source": [
        "from numpy import array\n",
        "from numpy import argmax\n",
        "from sklearn.preprocessing import LabelEncoder\n",
        "from sklearn.preprocessing import OneHotEncoder\n",
        "\n",
        "data = ['seoul', 'cyber', 'go', 'seoul', 'University'] # 사용할 데이터 정의\n",
        "values = array(data)\n",
        "\n",
        "# 정수 인코딩을 통해서 인덱스 생성\n",
        "label_encoder = LabelEncoder() \n",
        "integer_encoded = label_encoder.fit_transform(values)\n",
        "print(integer_encoded)\n",
        "\n",
        "# 인덱스를 기준으로 바이러리 인코딩\n",
        "onehot_encoder = OneHotEncoder(sparse=False) \n",
        "integer_encoded = integer_encoded.reshape(len(integer_encoded), 1) # 행과 열 재조정 \n",
        "print(integer_encoded)\n",
        "onehot_encoded = onehot_encoder.fit_transform(integer_encoded)\n",
        "print(onehot_encoded)\n",
        "\n",
        "# 가장 큰 값을 가진 인덱스의 실제 데이터 조회\n",
        "inverted = label_encoder.inverse_transform([argmax(onehot_encoded[0, :])])\n",
        "print(inverted)"
      ],
      "execution_count": 2,
      "outputs": [
        {
          "output_type": "stream",
          "text": [
            "[3 1 2 3 0]\n",
            "[[3]\n",
            " [1]\n",
            " [2]\n",
            " [3]\n",
            " [0]]\n",
            "[[0. 0. 0. 1.]\n",
            " [0. 1. 0. 0.]\n",
            " [0. 0. 1. 0.]\n",
            " [0. 0. 0. 1.]\n",
            " [1. 0. 0. 0.]]\n",
            "['seoul']\n"
          ],
          "name": "stdout"
        }
      ]
    },
    {
      "cell_type": "markdown",
      "metadata": {
        "id": "BToZO4KBIc7P"
      },
      "source": [
        "- Kereas를 사용한 One-hot Encode "
      ]
    },
    {
      "cell_type": "code",
      "metadata": {
        "id": "iK5WsN-fIc7P",
        "outputId": "18818dc5-4ee2-4a21-ee67-5f7d1a994e91",
        "colab": {
          "base_uri": "https://localhost:8080/",
          "height": 161
        }
      },
      "source": [
        "from tensorflow.keras.preprocessing.text import Tokenizer\n",
        "from keras.utils import to_categorical\n",
        "\n",
        "samples = ['seoul', 'cyber', 'go', 'seoul', 'University'] # 사용할 데이터 정의\n",
        "\n",
        "# 가장 빈도가 높은 1,000개의 단어만 선택하도록 Tokenizer 객체를 만듭니다.\n",
        "tokenizer = Tokenizer()\n",
        "# 단어 인덱스를 구축합니다.\n",
        "tokenizer.fit_on_texts(samples)\n",
        "print('워드 인덱스:',tokenizer.word_index)\n",
        "print('출현 빈도:',tokenizer.word_counts)\n",
        "\n",
        "# 문자열을 정수 인덱스의 리스트로 변환합니다.\n",
        "sequences = tokenizer.texts_to_sequences(samples)\n",
        "print('정수 인덱스:',sequences)\n",
        "\n",
        "# 원-핫 엔코딩 처리\n",
        "encoded = to_categorical(sequences)\n",
        "print(encoded)"
      ],
      "execution_count": 3,
      "outputs": [
        {
          "output_type": "stream",
          "text": [
            "워드 인덱스: {'seoul': 1, 'cyber': 2, 'go': 3, 'university': 4}\n",
            "출현 빈도: OrderedDict([('seoul', 2), ('cyber', 1), ('go', 1), ('university', 1)])\n",
            "정수 인덱스: [[1], [2], [3], [1], [4]]\n",
            "[[0. 1. 0. 0. 0.]\n",
            " [0. 0. 1. 0. 0.]\n",
            " [0. 0. 0. 1. 0.]\n",
            " [0. 1. 0. 0. 0.]\n",
            " [0. 0. 0. 0. 1.]]\n"
          ],
          "name": "stdout"
        }
      ]
    },
    {
      "cell_type": "markdown",
      "metadata": {
        "id": "kvd3N0LSIc7S"
      },
      "source": [
        "- Sklearn의 CountVectorizer를 활용한 Bag of Words"
      ]
    },
    {
      "cell_type": "code",
      "metadata": {
        "id": "0NCzzTOkIc7S",
        "outputId": "78b89c8e-5b77-440d-e39f-a9c1e47fc5b3",
        "colab": {
          "base_uri": "https://localhost:8080/",
          "height": 143
        }
      },
      "source": [
        "from sklearn.feature_extraction.text import CountVectorizer \n",
        "corpus = ['This is the first document.',\n",
        "          'This document is the second document.',\n",
        "          'And this is the third one.',\n",
        "          'Is this the first document?']\n",
        "vectorizer = CountVectorizer() # 텍스트 문서 모음을 토큰 수 행렬로 변환\n",
        "word_vectors = vectorizer.fit_transform(corpus)  # 어휘 사전을 기반으로  document-term matrix으로 반환\n",
        "print(\"Index:\", vectorizer.vocabulary_) \n",
        "print(\"Features:\", vectorizer.get_feature_names())\n",
        "print(\"Values: \\n\", word_vectors.toarray()) "
      ],
      "execution_count": 4,
      "outputs": [
        {
          "output_type": "stream",
          "text": [
            "Index: {'this': 8, 'is': 3, 'the': 6, 'first': 2, 'document': 1, 'second': 5, 'and': 0, 'third': 7, 'one': 4}\n",
            "Features: ['and', 'document', 'first', 'is', 'one', 'second', 'the', 'third', 'this']\n",
            "Values: \n",
            " [[0 1 1 1 0 0 1 0 1]\n",
            " [0 2 0 1 0 1 1 0 1]\n",
            " [1 0 0 1 1 0 1 1 1]\n",
            " [0 1 1 1 0 0 1 0 1]]\n"
          ],
          "name": "stdout"
        }
      ]
    },
    {
      "cell_type": "markdown",
      "metadata": {
        "id": "bLUxNrUGIc7V"
      },
      "source": [
        "## 엔코딩 후 모델 적용예시 - Naive Bayes(스팸분류)\n"
      ]
    },
    {
      "cell_type": "markdown",
      "metadata": {
        "id": "rLstoNupIc7V"
      },
      "source": [
        "1. 라이브러리 Import"
      ]
    },
    {
      "cell_type": "code",
      "metadata": {
        "id": "g_pzieEwIc7W"
      },
      "source": [
        "import nltk #자연어 처리 패키지\n",
        "from nltk.corpus import stopwords #NLTK에서 제공되는 불용어 사전\n",
        "import string # Python  문자열 처리 클래스\n",
        "import pandas as pd # 데이터분석 라이브러리\n",
        "\n",
        "# 사이킷런(scikit-learn)의 model_selection 패키지 안에 train_test_split 모듈\n",
        "# 손쉽게 train set(학습 데이터 셋)과 test set(테스트 셋)을 분리\n",
        "from sklearn.model_selection import train_test_split \n",
        "\n",
        "# 여러과정의 전처리를 일괄처리\n",
        "from sklearn.pipeline import Pipeline \n",
        "\n",
        "# 문서 집합에서 단어 토큰을 생성하고 각 단어의 수를 세어 BOW 인코딩한 벡터\n",
        "from sklearn.feature_extraction.text import CountVectorizer \n",
        "\n",
        "# 카운트 행렬을 표준화 된 tf 또는 tf-idf 표현으로 변환\n",
        "from sklearn.feature_extraction.text import TfidfTransformer\n",
        "\n",
        "# naive_bayes 서브패키지\n",
        "from sklearn.naive_bayes import MultinomialNB\n",
        "\n",
        "# 사이킷런 성능 평가 패키지\n",
        "from sklearn.metrics import classification_report,confusion_matrix"
      ],
      "execution_count": 1,
      "outputs": []
    },
    {
      "cell_type": "markdown",
      "metadata": {
        "id": "n7RxOBDwIc7Y"
      },
      "source": [
        "2. Dataset 다운로드 및 정제"
      ]
    },
    {
      "cell_type": "markdown",
      "metadata": {
        "id": "NcGP4SI8Ic7Y"
      },
      "source": [
        "1) 아래의 URL에서 DataSet 다운로드 가능\n",
        "- https://www.kaggle.com/uciml/sms-spam-collection-dataset"
      ]
    },
    {
      "cell_type": "code",
      "metadata": {
        "id": "Sa4K2rp-S62A",
        "outputId": "c99eb477-e5d3-4856-b7b2-7b53199e8815",
        "colab": {
          "base_uri": "https://localhost:8080/",
          "height": 53
        }
      },
      "source": [
        "# 구글 드라이브와 연동\n",
        "import os\n",
        "print(os.getcwd())\n",
        "!ls"
      ],
      "execution_count": 2,
      "outputs": [
        {
          "output_type": "stream",
          "text": [
            "/content\n",
            "sample_data\n"
          ],
          "name": "stdout"
        }
      ]
    },
    {
      "cell_type": "code",
      "metadata": {
        "id": "VsZhywWmTBt-",
        "outputId": "bc847e6a-8ac0-49ff-c366-7ef34f641eff",
        "colab": {
          "base_uri": "https://localhost:8080/",
          "height": 35
        }
      },
      "source": [
        "from google.colab import drive\n",
        "drive.mount('/content/drive')"
      ],
      "execution_count": 3,
      "outputs": [
        {
          "output_type": "stream",
          "text": [
            "Mounted at /content/drive\n"
          ],
          "name": "stdout"
        }
      ]
    },
    {
      "cell_type": "code",
      "metadata": {
        "id": "mpCc-vLWTNAq",
        "outputId": "284f2a75-0ef7-4183-f213-0b9d9d66e5e3",
        "colab": {
          "base_uri": "https://localhost:8080/",
          "height": 35
        }
      },
      "source": [
        "# 마운트된 내 드라이브와 파일 확인\n",
        "!ls"
      ],
      "execution_count": 4,
      "outputs": [
        {
          "output_type": "stream",
          "text": [
            "drive  sample_data\n"
          ],
          "name": "stdout"
        }
      ]
    },
    {
      "cell_type": "code",
      "metadata": {
        "id": "FXF-5KkGTaET",
        "outputId": "70392260-0b49-48df-a725-9a513faac871",
        "colab": {
          "base_uri": "https://localhost:8080/",
          "height": 35
        }
      },
      "source": [
        "cd /content/drive/My\\ Drive/AISecurity"
      ],
      "execution_count": 5,
      "outputs": [
        {
          "output_type": "stream",
          "text": [
            "/content/drive/My Drive/AISecurity\n"
          ],
          "name": "stdout"
        }
      ]
    },
    {
      "cell_type": "code",
      "metadata": {
        "id": "tsloEx-tTjzv",
        "outputId": "a548d5d3-ce88-4bb0-9712-83db8fb4aad9",
        "colab": {
          "base_uri": "https://localhost:8080/",
          "height": 71
        }
      },
      "source": [
        "ls"
      ],
      "execution_count": 6,
      "outputs": [
        {
          "output_type": "stream",
          "text": [
            "2.TFIDF.ipynb           4_Pre_Processing.ipynb     Sample.ipynb\n",
            "3.SimpleCrawling.ipynb  5.OneHotEncode.ipynb       spam.csv\n",
            "4_MeCab.ipynb           5.Word2Vec-FastText.ipynb\n"
          ],
          "name": "stdout"
        }
      ]
    },
    {
      "cell_type": "code",
      "metadata": {
        "id": "HiEg2b7gIc7Z",
        "outputId": "862e6511-aef9-4a16-ca42-87e1c39592ec",
        "colab": {
          "base_uri": "https://localhost:8080/",
          "height": 359
        }
      },
      "source": [
        "messages = pd.read_csv('spam.csv', encoding='latin-1') # ISO-8859-1, 라틴1으로 엔코딩\n",
        "messages.head(10)"
      ],
      "execution_count": 7,
      "outputs": [
        {
          "output_type": "execute_result",
          "data": {
            "text/html": [
              "<div>\n",
              "<style scoped>\n",
              "    .dataframe tbody tr th:only-of-type {\n",
              "        vertical-align: middle;\n",
              "    }\n",
              "\n",
              "    .dataframe tbody tr th {\n",
              "        vertical-align: top;\n",
              "    }\n",
              "\n",
              "    .dataframe thead th {\n",
              "        text-align: right;\n",
              "    }\n",
              "</style>\n",
              "<table border=\"1\" class=\"dataframe\">\n",
              "  <thead>\n",
              "    <tr style=\"text-align: right;\">\n",
              "      <th></th>\n",
              "      <th>v1</th>\n",
              "      <th>v2</th>\n",
              "      <th>Unnamed: 2</th>\n",
              "      <th>Unnamed: 3</th>\n",
              "      <th>Unnamed: 4</th>\n",
              "    </tr>\n",
              "  </thead>\n",
              "  <tbody>\n",
              "    <tr>\n",
              "      <th>0</th>\n",
              "      <td>ham</td>\n",
              "      <td>Go until jurong point, crazy.. Available only ...</td>\n",
              "      <td>NaN</td>\n",
              "      <td>NaN</td>\n",
              "      <td>NaN</td>\n",
              "    </tr>\n",
              "    <tr>\n",
              "      <th>1</th>\n",
              "      <td>ham</td>\n",
              "      <td>Ok lar... Joking wif u oni...</td>\n",
              "      <td>NaN</td>\n",
              "      <td>NaN</td>\n",
              "      <td>NaN</td>\n",
              "    </tr>\n",
              "    <tr>\n",
              "      <th>2</th>\n",
              "      <td>spam</td>\n",
              "      <td>Free entry in 2 a wkly comp to win FA Cup fina...</td>\n",
              "      <td>NaN</td>\n",
              "      <td>NaN</td>\n",
              "      <td>NaN</td>\n",
              "    </tr>\n",
              "    <tr>\n",
              "      <th>3</th>\n",
              "      <td>ham</td>\n",
              "      <td>U dun say so early hor... U c already then say...</td>\n",
              "      <td>NaN</td>\n",
              "      <td>NaN</td>\n",
              "      <td>NaN</td>\n",
              "    </tr>\n",
              "    <tr>\n",
              "      <th>4</th>\n",
              "      <td>ham</td>\n",
              "      <td>Nah I don't think he goes to usf, he lives aro...</td>\n",
              "      <td>NaN</td>\n",
              "      <td>NaN</td>\n",
              "      <td>NaN</td>\n",
              "    </tr>\n",
              "    <tr>\n",
              "      <th>5</th>\n",
              "      <td>spam</td>\n",
              "      <td>FreeMsg Hey there darling it's been 3 week's n...</td>\n",
              "      <td>NaN</td>\n",
              "      <td>NaN</td>\n",
              "      <td>NaN</td>\n",
              "    </tr>\n",
              "    <tr>\n",
              "      <th>6</th>\n",
              "      <td>ham</td>\n",
              "      <td>Even my brother is not like to speak with me. ...</td>\n",
              "      <td>NaN</td>\n",
              "      <td>NaN</td>\n",
              "      <td>NaN</td>\n",
              "    </tr>\n",
              "    <tr>\n",
              "      <th>7</th>\n",
              "      <td>ham</td>\n",
              "      <td>As per your request 'Melle Melle (Oru Minnamin...</td>\n",
              "      <td>NaN</td>\n",
              "      <td>NaN</td>\n",
              "      <td>NaN</td>\n",
              "    </tr>\n",
              "    <tr>\n",
              "      <th>8</th>\n",
              "      <td>spam</td>\n",
              "      <td>WINNER!! As a valued network customer you have...</td>\n",
              "      <td>NaN</td>\n",
              "      <td>NaN</td>\n",
              "      <td>NaN</td>\n",
              "    </tr>\n",
              "    <tr>\n",
              "      <th>9</th>\n",
              "      <td>spam</td>\n",
              "      <td>Had your mobile 11 months or more? U R entitle...</td>\n",
              "      <td>NaN</td>\n",
              "      <td>NaN</td>\n",
              "      <td>NaN</td>\n",
              "    </tr>\n",
              "  </tbody>\n",
              "</table>\n",
              "</div>"
            ],
            "text/plain": [
              "     v1  ... Unnamed: 4\n",
              "0   ham  ...        NaN\n",
              "1   ham  ...        NaN\n",
              "2  spam  ...        NaN\n",
              "3   ham  ...        NaN\n",
              "4   ham  ...        NaN\n",
              "5  spam  ...        NaN\n",
              "6   ham  ...        NaN\n",
              "7   ham  ...        NaN\n",
              "8  spam  ...        NaN\n",
              "9  spam  ...        NaN\n",
              "\n",
              "[10 rows x 5 columns]"
            ]
          },
          "metadata": {
            "tags": []
          },
          "execution_count": 7
        }
      ]
    },
    {
      "cell_type": "markdown",
      "metadata": {
        "id": "W8Q9Ou3MIc7b"
      },
      "source": [
        "2) DataSet 컬럼 정제 (불필요한 컬럼 삭제, 컬럼명 변경)"
      ]
    },
    {
      "cell_type": "code",
      "metadata": {
        "scrolled": false,
        "id": "ebdcrBbGIc7b",
        "outputId": "a390eac4-844b-41da-e8c1-545d002f2539",
        "colab": {
          "base_uri": "https://localhost:8080/",
          "height": 359
        }
      },
      "source": [
        "messages.drop(['Unnamed: 2','Unnamed: 3','Unnamed: 4'],axis=1,inplace=True)\n",
        "messages = messages.rename(columns={'v1': 'class','v2': 'text'})\n",
        "messages.head(10)"
      ],
      "execution_count": 8,
      "outputs": [
        {
          "output_type": "execute_result",
          "data": {
            "text/html": [
              "<div>\n",
              "<style scoped>\n",
              "    .dataframe tbody tr th:only-of-type {\n",
              "        vertical-align: middle;\n",
              "    }\n",
              "\n",
              "    .dataframe tbody tr th {\n",
              "        vertical-align: top;\n",
              "    }\n",
              "\n",
              "    .dataframe thead th {\n",
              "        text-align: right;\n",
              "    }\n",
              "</style>\n",
              "<table border=\"1\" class=\"dataframe\">\n",
              "  <thead>\n",
              "    <tr style=\"text-align: right;\">\n",
              "      <th></th>\n",
              "      <th>class</th>\n",
              "      <th>text</th>\n",
              "    </tr>\n",
              "  </thead>\n",
              "  <tbody>\n",
              "    <tr>\n",
              "      <th>0</th>\n",
              "      <td>ham</td>\n",
              "      <td>Go until jurong point, crazy.. Available only ...</td>\n",
              "    </tr>\n",
              "    <tr>\n",
              "      <th>1</th>\n",
              "      <td>ham</td>\n",
              "      <td>Ok lar... Joking wif u oni...</td>\n",
              "    </tr>\n",
              "    <tr>\n",
              "      <th>2</th>\n",
              "      <td>spam</td>\n",
              "      <td>Free entry in 2 a wkly comp to win FA Cup fina...</td>\n",
              "    </tr>\n",
              "    <tr>\n",
              "      <th>3</th>\n",
              "      <td>ham</td>\n",
              "      <td>U dun say so early hor... U c already then say...</td>\n",
              "    </tr>\n",
              "    <tr>\n",
              "      <th>4</th>\n",
              "      <td>ham</td>\n",
              "      <td>Nah I don't think he goes to usf, he lives aro...</td>\n",
              "    </tr>\n",
              "    <tr>\n",
              "      <th>5</th>\n",
              "      <td>spam</td>\n",
              "      <td>FreeMsg Hey there darling it's been 3 week's n...</td>\n",
              "    </tr>\n",
              "    <tr>\n",
              "      <th>6</th>\n",
              "      <td>ham</td>\n",
              "      <td>Even my brother is not like to speak with me. ...</td>\n",
              "    </tr>\n",
              "    <tr>\n",
              "      <th>7</th>\n",
              "      <td>ham</td>\n",
              "      <td>As per your request 'Melle Melle (Oru Minnamin...</td>\n",
              "    </tr>\n",
              "    <tr>\n",
              "      <th>8</th>\n",
              "      <td>spam</td>\n",
              "      <td>WINNER!! As a valued network customer you have...</td>\n",
              "    </tr>\n",
              "    <tr>\n",
              "      <th>9</th>\n",
              "      <td>spam</td>\n",
              "      <td>Had your mobile 11 months or more? U R entitle...</td>\n",
              "    </tr>\n",
              "  </tbody>\n",
              "</table>\n",
              "</div>"
            ],
            "text/plain": [
              "  class                                               text\n",
              "0   ham  Go until jurong point, crazy.. Available only ...\n",
              "1   ham                      Ok lar... Joking wif u oni...\n",
              "2  spam  Free entry in 2 a wkly comp to win FA Cup fina...\n",
              "3   ham  U dun say so early hor... U c already then say...\n",
              "4   ham  Nah I don't think he goes to usf, he lives aro...\n",
              "5  spam  FreeMsg Hey there darling it's been 3 week's n...\n",
              "6   ham  Even my brother is not like to speak with me. ...\n",
              "7   ham  As per your request 'Melle Melle (Oru Minnamin...\n",
              "8  spam  WINNER!! As a valued network customer you have...\n",
              "9  spam  Had your mobile 11 months or more? U R entitle..."
            ]
          },
          "metadata": {
            "tags": []
          },
          "execution_count": 8
        }
      ]
    },
    {
      "cell_type": "markdown",
      "metadata": {
        "id": "p_7mADeGIc7e"
      },
      "source": [
        "3) DataSet 탐색적 데이터 분석\n",
        "- 스팸 class가 약 15%이며, 중복된 메시지도 일부 존재함"
      ]
    },
    {
      "cell_type": "code",
      "metadata": {
        "scrolled": true,
        "id": "m_4CZZ3UIc7e",
        "outputId": "ebb4b49d-63c7-4ffb-a3de-e7cdc45ff884",
        "colab": {
          "base_uri": "https://localhost:8080/",
          "height": 173
        }
      },
      "source": [
        "messages.groupby('class').describe()"
      ],
      "execution_count": 9,
      "outputs": [
        {
          "output_type": "execute_result",
          "data": {
            "text/html": [
              "<div>\n",
              "<style scoped>\n",
              "    .dataframe tbody tr th:only-of-type {\n",
              "        vertical-align: middle;\n",
              "    }\n",
              "\n",
              "    .dataframe tbody tr th {\n",
              "        vertical-align: top;\n",
              "    }\n",
              "\n",
              "    .dataframe thead tr th {\n",
              "        text-align: left;\n",
              "    }\n",
              "\n",
              "    .dataframe thead tr:last-of-type th {\n",
              "        text-align: right;\n",
              "    }\n",
              "</style>\n",
              "<table border=\"1\" class=\"dataframe\">\n",
              "  <thead>\n",
              "    <tr>\n",
              "      <th></th>\n",
              "      <th colspan=\"4\" halign=\"left\">text</th>\n",
              "    </tr>\n",
              "    <tr>\n",
              "      <th></th>\n",
              "      <th>count</th>\n",
              "      <th>unique</th>\n",
              "      <th>top</th>\n",
              "      <th>freq</th>\n",
              "    </tr>\n",
              "    <tr>\n",
              "      <th>class</th>\n",
              "      <th></th>\n",
              "      <th></th>\n",
              "      <th></th>\n",
              "      <th></th>\n",
              "    </tr>\n",
              "  </thead>\n",
              "  <tbody>\n",
              "    <tr>\n",
              "      <th>ham</th>\n",
              "      <td>4825</td>\n",
              "      <td>4516</td>\n",
              "      <td>Sorry, I'll call later</td>\n",
              "      <td>30</td>\n",
              "    </tr>\n",
              "    <tr>\n",
              "      <th>spam</th>\n",
              "      <td>747</td>\n",
              "      <td>653</td>\n",
              "      <td>Please call our customer service representativ...</td>\n",
              "      <td>4</td>\n",
              "    </tr>\n",
              "  </tbody>\n",
              "</table>\n",
              "</div>"
            ],
            "text/plain": [
              "       text                                                               \n",
              "      count unique                                                top freq\n",
              "class                                                                     \n",
              "ham    4825   4516                             Sorry, I'll call later   30\n",
              "spam    747    653  Please call our customer service representativ...    4"
            ]
          },
          "metadata": {
            "tags": []
          },
          "execution_count": 9
        }
      ]
    },
    {
      "cell_type": "markdown",
      "metadata": {
        "id": "xIsoR4IeIc7g"
      },
      "source": [
        "- 메시지 길이 분석: 햄(스팸아님)은 200자 이내, 스팸은 130자 이상의 값이 다수"
      ]
    },
    {
      "cell_type": "code",
      "metadata": {
        "scrolled": true,
        "id": "57drB9g6Ic7h",
        "outputId": "3c6a2deb-ff66-4626-f09b-86484a99de50",
        "colab": {
          "base_uri": "https://localhost:8080/",
          "height": 451
        }
      },
      "source": [
        "messages['length'] = messages['text'].apply(len) # 각 로우의 텍스트 길이를 계산하여 length 필드에 추가함\n",
        "messages.hist(column='length',by='class',bins=50, figsize=(15,6))"
      ],
      "execution_count": 10,
      "outputs": [
        {
          "output_type": "execute_result",
          "data": {
            "text/plain": [
              "array([<matplotlib.axes._subplots.AxesSubplot object at 0x7f37fb99c828>,\n",
              "       <matplotlib.axes._subplots.AxesSubplot object at 0x7f37fb8faac8>],\n",
              "      dtype=object)"
            ]
          },
          "metadata": {
            "tags": []
          },
          "execution_count": 10
        },
        {
          "output_type": "display_data",
          "data": {
            "image/png": "[encoded data removed]",
            "text/plain": [
              "<Figure size 1080x432 with 2 Axes>"
            ]
          },
          "metadata": {
            "tags": [],
            "needs_background": "light"
          }
        }
      ]
    },
    {
      "cell_type": "markdown",
      "metadata": {
        "id": "6LhJgBJ9Ic7j"
      },
      "source": [
        "- 특수기호(문자구분자), 불용어, 소문자 처리 함수"
      ]
    },
    {
      "cell_type": "code",
      "metadata": {
        "id": "jcCshZodIc7k",
        "outputId": "3461bee7-e582-4c72-d7bf-c9ded2e6399d",
        "colab": {
          "base_uri": "https://localhost:8080/",
          "height": 53
        }
      },
      "source": [
        "import nltk\n",
        "nltk.download('stopwords')\n",
        "\n",
        "def process_text(text):\n",
        "    #1 문자 구분자 제거\n",
        "    nopunc = [char for char in text if char not in string.punctuation]\n",
        "    nopunc = ''.join(nopunc)\n",
        "    \n",
        "    #2 불용어 제거\n",
        "    clean_words = [word for word in nopunc.split() if word.lower() not in stopwords.words('english')]\n",
        "    \n",
        "    #3 리스트 반환\n",
        "    return clean_words"
      ],
      "execution_count": 11,
      "outputs": [
        {
          "output_type": "stream",
          "text": [
            "[nltk_data] Downloading package stopwords to /root/nltk_data...\n",
            "[nltk_data]   Unzipping corpora/stopwords.zip.\n"
          ],
          "name": "stdout"
        }
      ]
    },
    {
      "cell_type": "code",
      "metadata": {
        "id": "Otgo5NWKIc7m",
        "outputId": "82dc4602-c77f-4d94-e1b6-2da51ac8e363",
        "colab": {
          "base_uri": "https://localhost:8080/",
          "height": 215
        }
      },
      "source": [
        "messages['text'].apply(process_text).head(10)"
      ],
      "execution_count": 12,
      "outputs": [
        {
          "output_type": "execute_result",
          "data": {
            "text/plain": [
              "0    [Go, jurong, point, crazy, Available, bugis, n...\n",
              "1                       [Ok, lar, Joking, wif, u, oni]\n",
              "2    [Free, entry, 2, wkly, comp, win, FA, Cup, fin...\n",
              "3        [U, dun, say, early, hor, U, c, already, say]\n",
              "4    [Nah, dont, think, goes, usf, lives, around, t...\n",
              "5    [FreeMsg, Hey, darling, 3, weeks, word, back, ...\n",
              "6    [Even, brother, like, speak, treat, like, aids...\n",
              "7    [per, request, Melle, Melle, Oru, Minnaminungi...\n",
              "8    [WINNER, valued, network, customer, selected, ...\n",
              "9    [mobile, 11, months, U, R, entitled, Update, l...\n",
              "Name: text, dtype: object"
            ]
          },
          "metadata": {
            "tags": []
          },
          "execution_count": 12
        }
      ]
    },
    {
      "cell_type": "markdown",
      "metadata": {
        "id": "L6DLAFAKIc7p"
      },
      "source": [
        "3) 데이터 집합을 분할하여 기능 훈련 및 테스트 데이터 생성\n",
        "- train_test_split함수를 사용하여 테스트 크기가 0.2인 테스트 데이터 생성\n",
        "- random_state를 사용하여 동일한 값의 테스트 데이터 생성"
      ]
    },
    {
      "cell_type": "code",
      "metadata": {
        "id": "LVni4mH8Ic7p"
      },
      "source": [
        "msg_train, msg_test, class_train, class_test = train_test_split(messages['text'],messages['class'],test_size=0.2, random_state = 15)"
      ],
      "execution_count": 13,
      "outputs": []
    },
    {
      "cell_type": "markdown",
      "metadata": {
        "id": "e7HPsdg3Ic7r"
      },
      "source": [
        "4) 사이킷런의 CountVectorizer를 통해 피처 생성\n",
        " - 사전에 정의한 함수인 'process_text'를 사용하여 토큰을 추출함\n",
        " - 각 문서에서 토큰의 출현 빈도 계산\n",
        " - 각 문서를 BOW 인코딩 벡터로 변환한다."
      ]
    },
    {
      "cell_type": "code",
      "metadata": {
        "id": "M4-n2aEhIc7r",
        "outputId": "a0433141-0bd6-49b2-a0ae-a9d7353f4f1f",
        "colab": {
          "base_uri": "https://localhost:8080/",
          "height": 143
        }
      },
      "source": [
        "bow = CountVectorizer(analyzer=process_text)\n",
        "train_data_features = bow.fit_transform(msg_train, class_train)\n",
        "bow"
      ],
      "execution_count": 40,
      "outputs": [
        {
          "output_type": "execute_result",
          "data": {
            "text/plain": [
              "CountVectorizer(analyzer=<function process_text at 0x7f59d96b5950>,\n",
              "                binary=False, decode_error='strict',\n",
              "                dtype=<class 'numpy.int64'>, encoding='utf-8', input='content',\n",
              "                lowercase=True, max_df=1.0, max_features=None, min_df=1,\n",
              "                ngram_range=(1, 1), preprocessor=None, stop_words=None,\n",
              "                strip_accents=None, token_pattern='(?u)\\\\b\\\\w\\\\w+\\\\b',\n",
              "                tokenizer=None, vocabulary=None)"
            ]
          },
          "metadata": {
            "tags": []
          },
          "execution_count": 40
        }
      ]
    },
    {
      "cell_type": "code",
      "metadata": {
        "id": "o1dDlemqIc7t"
      },
      "source": [
        "# 각 문서의 토큰 카운트 확인\n",
        "sorted(bow.vocabulary_.items(), key=lambda x:x[1], reverse=True)"
      ],
      "execution_count": null,
      "outputs": []
    },
    {
      "cell_type": "markdown",
      "metadata": {
        "id": "f3Tznf0Q-ZG-"
      },
      "source": [
        "5) 모델 적용 - PipeLine 적용하여 코드 간략화\n",
        "\n",
        "- 공통적으로 들어있는 단어의 경우 가중치를 축소\n",
        "\n",
        "- TfidfTransformer 파라미터\n",
        "\n",
        "- norm='l2' 각 문서의 피처 벡터에 대한 정규화 방식 결정 \n",
        " .L2 : 벡터의 각 원소의 제곱의 합이 1이 되도록 구성, 기본 값\n",
        " .L1 : 벡터의 각 원소의 절댓값의 합이 1이 되도록 크기를 조절\n",
        "\n",
        "- smooth_idf=False 피처 생성시 0인 값에 대해 작은 값을 합한 스무딩 피처 구성여부 결정\n",
        "\n",
        "- sublinear_tf=False TF (Term-Frequency, 단어빈도) 값의 스무딩(smoothing) 여부를 결정\n",
        "\n",
        "- use_idf=True TF-IDF를 사용해 피처를 만들 것인지 아니면 단어 빈도 자체를 사용할 것인지 여부"
      ]
    },
    {
      "cell_type": "code",
      "metadata": {
        "id": "SZbyCYl9Khdu"
      },
      "source": [
        "pipeline = Pipeline([\n",
        "    ('count_vect',CountVectorizer(analyzer=process_text)), # 단어를 process_text 함수 처리 후 BoW전환\n",
        "    ('tfidf',TfidfTransformer()), # TF-IDF로 변환\n",
        "    ('classifier',MultinomialNB()) # TF-IDF vectors 를 베이즈정리 분류기로 학습\n",
        "])"
      ],
      "execution_count": 18,
      "outputs": []
    },
    {
      "cell_type": "code",
      "metadata": {
        "id": "rsaQmL-OKm3G",
        "outputId": "776d5ecb-acb9-4aa4-bbb9-94a2ca42890c",
        "colab": {
          "base_uri": "https://localhost:8080/",
          "height": 359
        }
      },
      "source": [
        "%time temp= pipeline.fit(msg_train,class_train)\n",
        "print(temp)"
      ],
      "execution_count": 19,
      "outputs": [
        {
          "output_type": "stream",
          "text": [
            "CPU times: user 5.82 s, sys: 682 ms, total: 6.51 s\n",
            "Wall time: 6.51 s\n",
            "Pipeline(memory=None,\n",
            "         steps=[('count_vect',\n",
            "                 CountVectorizer(analyzer=<function process_text at 0x7f37fb73d378>,\n",
            "                                 binary=False, decode_error='strict',\n",
            "                                 dtype=<class 'numpy.int64'>, encoding='utf-8',\n",
            "                                 input='content', lowercase=True, max_df=1.0,\n",
            "                                 max_features=None, min_df=1,\n",
            "                                 ngram_range=(1, 1), preprocessor=None,\n",
            "                                 stop_words=None, strip_accents=None,\n",
            "                                 token_pattern='(?u)\\\\b\\\\w\\\\w+\\\\b',\n",
            "                                 tokenizer=None, vocabulary=None)),\n",
            "                ('tfidf',\n",
            "                 TfidfTransformer(norm='l2', smooth_idf=True,\n",
            "                                  sublinear_tf=False, use_idf=True)),\n",
            "                ('classifier',\n",
            "                 MultinomialNB(alpha=1.0, class_prior=None, fit_prior=True))],\n",
            "         verbose=False)\n"
          ],
          "name": "stdout"
        }
      ]
    },
    {
      "cell_type": "code",
      "metadata": {
        "id": "fjLxnqsIK0KX",
        "outputId": "e30e0017-8285-4971-8e40-79a180ae78de",
        "colab": {
          "base_uri": "https://localhost:8080/",
          "height": 35
        }
      },
      "source": [
        "predictions = pipeline.predict(msg_test)\n",
        "predictions"
      ],
      "execution_count": 20,
      "outputs": [
        {
          "output_type": "execute_result",
          "data": {
            "text/plain": [
              "array(['ham', 'ham', 'ham', ..., 'ham', 'ham', 'ham'], dtype='<U4')"
            ]
          },
          "metadata": {
            "tags": []
          },
          "execution_count": 20
        }
      ]
    },
    {
      "cell_type": "code",
      "metadata": {
        "id": "6LTfA2AJLmYk",
        "outputId": "cfba6fcb-11b7-47f7-b4ae-0a92c15e7dbd",
        "colab": {
          "base_uri": "https://localhost:8080/",
          "height": 179
        }
      },
      "source": [
        "print(classification_report(class_test,predictions))"
      ],
      "execution_count": 21,
      "outputs": [
        {
          "output_type": "stream",
          "text": [
            "              precision    recall  f1-score   support\n",
            "\n",
            "         ham       0.96      1.00      0.98       983\n",
            "        spam       1.00      0.67      0.81       132\n",
            "\n",
            "    accuracy                           0.96      1115\n",
            "   macro avg       0.98      0.84      0.89      1115\n",
            "weighted avg       0.96      0.96      0.96      1115\n",
            "\n"
          ],
          "name": "stdout"
        }
      ]
    }
  ]
}