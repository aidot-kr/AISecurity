{
  "nbformat": 4,
  "nbformat_minor": 0,
  "metadata": {
    "kernelspec": {
      "display_name": "Python 3",
      "language": "python",
      "name": "python3"
    },
    "language_info": {
      "codemirror_mode": {
        "name": "ipython",
        "version": 3
      },
      "file_extension": ".py",
      "mimetype": "text/x-python",
      "name": "python",
      "nbconvert_exporter": "python",
      "pygments_lexer": "ipython3",
      "version": "3.7.5"
    },
    "colab": {
      "name": "5.OneHotEncode.ipynb",
      "provenance": [],
      "include_colab_link": true
    }
  },
  "cells": [
    {
      "cell_type": "markdown",
      "metadata": {
        "id": "view-in-github",
        "colab_type": "text"
      },
      "source": [
        "<a href=\"https://colab.research.google.com/github/aidot-kr/AISecurity/blob/master/5_OneHotEncode.ipynb\" target=\"_parent\"><img src=\"https://colab.research.google.com/assets/colab-badge.svg\" alt=\"Open In Colab\"/></a>"
      ]
    },
    {
      "cell_type": "markdown",
      "metadata": {
        "id": "rghpDLtfIc7I"
      },
      "source": [
        "# Word Embedding"
      ]
    },
    {
      "cell_type": "markdown",
      "metadata": {
        "id": "PEFf4V54Ic7I"
      },
      "source": [
        "- scikit-learn을 사용한 One hot Encode \n",
        "- 참고URL: https://machinelearningmastery.com/how-to-one-hot-encode-sequence-data-in-python/"
      ]
    },
    {
      "cell_type": "code",
      "metadata": {
        "id": "UnEPbGweIc7J",
        "outputId": "300f2a96-5521-4870-e278-49944dec6f9e",
        "colab": {
          "base_uri": "https://localhost:8080/",
          "height": 161
        }
      },
      "source": [
        "from numpy import array\n",
        "from numpy import argmax\n",
        "from sklearn.preprocessing import LabelEncoder\n",
        "from sklearn.preprocessing import OneHotEncoder\n",
        "\n",
        "data = ['cold', 'cold', 'warm', 'cold', 'hot'] # 사용할 데이터 정의\n",
        "values = array(data)\n",
        "print(values)\n",
        "\n",
        "# 정수 인코딩을 통해서 인덱스 생성\n",
        "label_encoder = LabelEncoder() \n",
        "integer_encoded = label_encoder.fit_transform(values)\n",
        "print(integer_encoded)\n",
        "\n",
        "# 인덱스를 기준으로 바이러리 인코딩\n",
        "onehot_encoder = OneHotEncoder(sparse=False)\n",
        "integer_encoded = integer_encoded.reshape(len(integer_encoded), 1)\n",
        "onehot_encoded = onehot_encoder.fit_transform(integer_encoded)\n",
        "print(onehot_encoded)\n",
        "\n",
        "# 가장 큰 값을 가진 인덱스의 실제 데이터 조회\n",
        "inverted = label_encoder.inverse_transform([argmax(onehot_encoded[0, :])])\n",
        "print(inverted)"
      ],
      "execution_count": 1,
      "outputs": [
        {
          "output_type": "stream",
          "text": [
            "['cold' 'cold' 'warm' 'cold' 'hot']\n",
            "[0 0 2 0 1]\n",
            "[[1. 0. 0.]\n",
            " [1. 0. 0.]\n",
            " [0. 0. 1.]\n",
            " [1. 0. 0.]\n",
            " [0. 1. 0.]]\n",
            "['cold']\n"
          ],
          "name": "stdout"
        }
      ]
    },
    {
      "cell_type": "markdown",
      "metadata": {
        "id": "BToZO4KBIc7P"
      },
      "source": [
        "- Kereas를 사용한 One-hot Encode \n",
        "\n",
        "\n",
        "https://subinium.github.io/Keras-6-1/\n",
        "https://machinelearningmastery.com/how-to-one-hot-encode-sequence-data-in-python/\n",
        "https://medium.com/@omicro03/%EC%9E%90%EC%97%B0%EC%96%B4%EC%B2%98%EB%A6%AC-nlp-6%EC%9D%BC%EC%B0%A8-%EB%8D%B0%EC%9D%B4%ED%84%B0%EC%9D%98-%EB%B6%84%EB%A6%AC-%EC%A0%95%EC%88%98%EC%9D%B8%EC%BD%94%EB%94%A9-332670c73388"
      ]
    },
    {
      "cell_type": "code",
      "metadata": {
        "id": "iK5WsN-fIc7P",
        "outputId": "342a0a90-3a1e-45e8-954c-4d5b0725bdd0",
        "colab": {
          "base_uri": "https://localhost:8080/",
          "height": 161
        }
      },
      "source": [
        "from tensorflow.keras.preprocessing.text import Tokenizer\n",
        "from keras.utils import to_categorical\n",
        "\n",
        "#samples = ['The cat sat on the mat.']\n",
        "samples = ['cold', 'cold', 'warm', 'cold', 'hot']\n",
        "\n",
        "# 가장 빈도가 높은 1,000개의 단어만 선택하도록 Tokenizer 객체를 만듭니다.\n",
        "tokenizer = Tokenizer()\n",
        "# 단어 인덱스를 구축합니다.\n",
        "tokenizer.fit_on_texts(samples)\n",
        "print('워드 인덱스:',tokenizer.word_index)\n",
        "print('출현 빈도:',tokenizer.word_counts)\n",
        "\n",
        "# 문자열을 정수 인덱스의 리스트로 변환합니다.\n",
        "sequences = tokenizer.texts_to_sequences(samples)\n",
        "print('정수 인덱스:',sequences)\n",
        "\n",
        "# 원-핫 엔코딩 처리\n",
        "encoded = to_categorical(sequences)\n",
        "print(encoded)"
      ],
      "execution_count": 6,
      "outputs": [
        {
          "output_type": "stream",
          "text": [
            "워드 인덱스: {'cold': 1, 'warm': 2, 'hot': 3}\n",
            "출현 빈도: OrderedDict([('cold', 3), ('warm', 1), ('hot', 1)])\n",
            "정수 인덱스: [[1], [1], [2], [1], [3]]\n",
            "[[0. 1. 0. 0.]\n",
            " [0. 1. 0. 0.]\n",
            " [0. 0. 1. 0.]\n",
            " [0. 1. 0. 0.]\n",
            " [0. 0. 0. 1.]]\n"
          ],
          "name": "stdout"
        }
      ]
    },
    {
      "cell_type": "markdown",
      "metadata": {
        "id": "kvd3N0LSIc7S"
      },
      "source": [
        "- Sklearn의 CountVectorizer를 활용한 Bag of Words"
      ]
    },
    {
      "cell_type": "code",
      "metadata": {
        "id": "0NCzzTOkIc7S",
        "outputId": "5684248e-fd9d-49b4-941a-aa4f33bf15e2",
        "colab": {
          "base_uri": "https://localhost:8080/",
          "height": 143
        }
      },
      "source": [
        "from sklearn.feature_extraction.text import CountVectorizer \n",
        "corpus = ['This is the first document.',\n",
        "          'This document is the second document.',\n",
        "          'And this is the third one.',\n",
        "          'Is this the first document?']\n",
        "vectorizer = CountVectorizer() # 텍스트 문서 모음을 토큰 수 행렬로 변환\n",
        "word_vectors = vectorizer.fit_transform(corpus)  # 어휘 사전을 기반으로  document-term matrix으로 반환\n",
        "print(\"Index:\", vectorizer.vocabulary_) \n",
        "print(\"Features:\", vectorizer.get_feature_names())\n",
        "print(\"Values: \\n\", word_vectors.toarray()) "
      ],
      "execution_count": 7,
      "outputs": [
        {
          "output_type": "stream",
          "text": [
            "Index: {'this': 8, 'is': 3, 'the': 6, 'first': 2, 'document': 1, 'second': 5, 'and': 0, 'third': 7, 'one': 4}\n",
            "Features: ['and', 'document', 'first', 'is', 'one', 'second', 'the', 'third', 'this']\n",
            "Values: \n",
            " [[0 1 1 1 0 0 1 0 1]\n",
            " [0 2 0 1 0 1 1 0 1]\n",
            " [1 0 0 1 1 0 1 1 1]\n",
            " [0 1 1 1 0 0 1 0 1]]\n"
          ],
          "name": "stdout"
        }
      ]
    },
    {
      "cell_type": "markdown",
      "metadata": {
        "id": "bLUxNrUGIc7V"
      },
      "source": [
        "## Bag of Words 적용, Naive Bayes\n",
        "- 참고 URL) https://www.datasciencelearner.com/naive-bayes-classifier-spam-filter-example/\n",
        "- https://colab.research.google.com/drive/14HcWVXEQ8OwUuNLcYWg0ZDT1RtpMVl7b#scrollTo=wN2taWylhhrw\n"
      ]
    },
    {
      "cell_type": "markdown",
      "metadata": {
        "id": "rLstoNupIc7V"
      },
      "source": [
        "1. 라이브러리 Import"
      ]
    },
    {
      "cell_type": "code",
      "metadata": {
        "id": "g_pzieEwIc7W"
      },
      "source": [
        "import nltk #자연어 처리 패키지\n",
        "from nltk.corpus import stopwords #NLTK에서 제공되는 불용어 사전\n",
        "import string # Python  문자열 처리 클래스\n",
        "import pandas as pd # 데이터분석 라이브러리\n",
        "\n",
        "# 사이킷런(scikit-learn)의 model_selection 패키지 안에 train_test_split 모듈\n",
        "# 손쉽게 train set(학습 데이터 셋)과 test set(테스트 셋)을 분리\n",
        "from sklearn.model_selection import train_test_split \n",
        "# 여러과정의 전처리를 일괄처리\n",
        "from sklearn.pipeline import Pipeline \n",
        "# 문서 집합에서 단어 토큰을 생성하고 각 단어의 수를 세어 BOW 인코딩한 벡터\n",
        "from sklearn.feature_extraction.text import CountVectorizer \n",
        "# 카운트 행렬을 표준화 된 tf 또는 tf-idf 표현으로 변환\n",
        "from sklearn.feature_extraction.text import TfidfTransformer\n",
        "# naive_bayes 서브패키지\n",
        "from sklearn.naive_bayes import MultinomialNB\n",
        "# 사이킷런 성능 평가 패키지\n",
        "from sklearn.metrics import classification_report,confusion_matrix"
      ],
      "execution_count": 8,
      "outputs": []
    },
    {
      "cell_type": "markdown",
      "metadata": {
        "id": "n7RxOBDwIc7Y"
      },
      "source": [
        "2. Dataset 다운로드 및 정제"
      ]
    },
    {
      "cell_type": "markdown",
      "metadata": {
        "id": "NcGP4SI8Ic7Y"
      },
      "source": [
        "1) 아래의 URL에서 DataSet 다운로드 가능\n",
        "- https://www.kaggle.com/uciml/sms-spam-collection-dataset"
      ]
    },
    {
      "cell_type": "code",
      "metadata": {
        "id": "HiEg2b7gIc7Z",
        "outputId": "12992015-b518-4178-d11a-39abef1c14e7",
        "colab": {
          "base_uri": "https://localhost:8080/",
          "height": 340
        }
      },
      "source": [
        "messages = pd.read_csv('spam.csv', encoding='latin-1') # ISO-8859-1, 라틴1으로 엔코딩\n",
        "messages.head(10)"
      ],
      "execution_count": 9,
      "outputs": [
        {
          "output_type": "error",
          "ename": "FileNotFoundError",
          "evalue": "ignored",
          "traceback": [
            "\u001b[0;31m---------------------------------------------------------------------------\u001b[0m",
            "\u001b[0;31mFileNotFoundError\u001b[0m                         Traceback (most recent call last)",
            "\u001b[0;32m<ipython-input-9-66e824956411>\u001b[0m in \u001b[0;36m<module>\u001b[0;34m()\u001b[0m\n\u001b[0;32m----> 1\u001b[0;31m \u001b[0mmessages\u001b[0m \u001b[0;34m=\u001b[0m \u001b[0mpd\u001b[0m\u001b[0;34m.\u001b[0m\u001b[0mread_csv\u001b[0m\u001b[0;34m(\u001b[0m\u001b[0;34m'spam.csv'\u001b[0m\u001b[0;34m,\u001b[0m \u001b[0mencoding\u001b[0m\u001b[0;34m=\u001b[0m\u001b[0;34m'latin-1'\u001b[0m\u001b[0;34m)\u001b[0m \u001b[0;31m# ISO-8859-1, 라틴1으로 엔코딩\u001b[0m\u001b[0;34m\u001b[0m\u001b[0;34m\u001b[0m\u001b[0m\n\u001b[0m\u001b[1;32m      2\u001b[0m \u001b[0mmessages\u001b[0m\u001b[0;34m.\u001b[0m\u001b[0mhead\u001b[0m\u001b[0;34m(\u001b[0m\u001b[0;36m10\u001b[0m\u001b[0;34m)\u001b[0m\u001b[0;34m\u001b[0m\u001b[0;34m\u001b[0m\u001b[0m\n",
            "\u001b[0;32m/usr/local/lib/python3.6/dist-packages/pandas/io/parsers.py\u001b[0m in \u001b[0;36mparser_f\u001b[0;34m(filepath_or_buffer, sep, delimiter, header, names, index_col, usecols, squeeze, prefix, mangle_dupe_cols, dtype, engine, converters, true_values, false_values, skipinitialspace, skiprows, skipfooter, nrows, na_values, keep_default_na, na_filter, verbose, skip_blank_lines, parse_dates, infer_datetime_format, keep_date_col, date_parser, dayfirst, cache_dates, iterator, chunksize, compression, thousands, decimal, lineterminator, quotechar, quoting, doublequote, escapechar, comment, encoding, dialect, error_bad_lines, warn_bad_lines, delim_whitespace, low_memory, memory_map, float_precision)\u001b[0m\n\u001b[1;32m    674\u001b[0m         )\n\u001b[1;32m    675\u001b[0m \u001b[0;34m\u001b[0m\u001b[0m\n\u001b[0;32m--> 676\u001b[0;31m         \u001b[0;32mreturn\u001b[0m \u001b[0m_read\u001b[0m\u001b[0;34m(\u001b[0m\u001b[0mfilepath_or_buffer\u001b[0m\u001b[0;34m,\u001b[0m \u001b[0mkwds\u001b[0m\u001b[0;34m)\u001b[0m\u001b[0;34m\u001b[0m\u001b[0;34m\u001b[0m\u001b[0m\n\u001b[0m\u001b[1;32m    677\u001b[0m \u001b[0;34m\u001b[0m\u001b[0m\n\u001b[1;32m    678\u001b[0m     \u001b[0mparser_f\u001b[0m\u001b[0;34m.\u001b[0m\u001b[0m__name__\u001b[0m \u001b[0;34m=\u001b[0m \u001b[0mname\u001b[0m\u001b[0;34m\u001b[0m\u001b[0;34m\u001b[0m\u001b[0m\n",
            "\u001b[0;32m/usr/local/lib/python3.6/dist-packages/pandas/io/parsers.py\u001b[0m in \u001b[0;36m_read\u001b[0;34m(filepath_or_buffer, kwds)\u001b[0m\n\u001b[1;32m    446\u001b[0m \u001b[0;34m\u001b[0m\u001b[0m\n\u001b[1;32m    447\u001b[0m     \u001b[0;31m# Create the parser.\u001b[0m\u001b[0;34m\u001b[0m\u001b[0;34m\u001b[0m\u001b[0;34m\u001b[0m\u001b[0m\n\u001b[0;32m--> 448\u001b[0;31m     \u001b[0mparser\u001b[0m \u001b[0;34m=\u001b[0m \u001b[0mTextFileReader\u001b[0m\u001b[0;34m(\u001b[0m\u001b[0mfp_or_buf\u001b[0m\u001b[0;34m,\u001b[0m \u001b[0;34m**\u001b[0m\u001b[0mkwds\u001b[0m\u001b[0;34m)\u001b[0m\u001b[0;34m\u001b[0m\u001b[0;34m\u001b[0m\u001b[0m\n\u001b[0m\u001b[1;32m    449\u001b[0m \u001b[0;34m\u001b[0m\u001b[0m\n\u001b[1;32m    450\u001b[0m     \u001b[0;32mif\u001b[0m \u001b[0mchunksize\u001b[0m \u001b[0;32mor\u001b[0m \u001b[0miterator\u001b[0m\u001b[0;34m:\u001b[0m\u001b[0;34m\u001b[0m\u001b[0;34m\u001b[0m\u001b[0m\n",
            "\u001b[0;32m/usr/local/lib/python3.6/dist-packages/pandas/io/parsers.py\u001b[0m in \u001b[0;36m__init__\u001b[0;34m(self, f, engine, **kwds)\u001b[0m\n\u001b[1;32m    878\u001b[0m             \u001b[0mself\u001b[0m\u001b[0;34m.\u001b[0m\u001b[0moptions\u001b[0m\u001b[0;34m[\u001b[0m\u001b[0;34m\"has_index_names\"\u001b[0m\u001b[0;34m]\u001b[0m \u001b[0;34m=\u001b[0m \u001b[0mkwds\u001b[0m\u001b[0;34m[\u001b[0m\u001b[0;34m\"has_index_names\"\u001b[0m\u001b[0;34m]\u001b[0m\u001b[0;34m\u001b[0m\u001b[0;34m\u001b[0m\u001b[0m\n\u001b[1;32m    879\u001b[0m \u001b[0;34m\u001b[0m\u001b[0m\n\u001b[0;32m--> 880\u001b[0;31m         \u001b[0mself\u001b[0m\u001b[0;34m.\u001b[0m\u001b[0m_make_engine\u001b[0m\u001b[0;34m(\u001b[0m\u001b[0mself\u001b[0m\u001b[0;34m.\u001b[0m\u001b[0mengine\u001b[0m\u001b[0;34m)\u001b[0m\u001b[0;34m\u001b[0m\u001b[0;34m\u001b[0m\u001b[0m\n\u001b[0m\u001b[1;32m    881\u001b[0m \u001b[0;34m\u001b[0m\u001b[0m\n\u001b[1;32m    882\u001b[0m     \u001b[0;32mdef\u001b[0m \u001b[0mclose\u001b[0m\u001b[0;34m(\u001b[0m\u001b[0mself\u001b[0m\u001b[0;34m)\u001b[0m\u001b[0;34m:\u001b[0m\u001b[0;34m\u001b[0m\u001b[0;34m\u001b[0m\u001b[0m\n",
            "\u001b[0;32m/usr/local/lib/python3.6/dist-packages/pandas/io/parsers.py\u001b[0m in \u001b[0;36m_make_engine\u001b[0;34m(self, engine)\u001b[0m\n\u001b[1;32m   1112\u001b[0m     \u001b[0;32mdef\u001b[0m \u001b[0m_make_engine\u001b[0m\u001b[0;34m(\u001b[0m\u001b[0mself\u001b[0m\u001b[0;34m,\u001b[0m \u001b[0mengine\u001b[0m\u001b[0;34m=\u001b[0m\u001b[0;34m\"c\"\u001b[0m\u001b[0;34m)\u001b[0m\u001b[0;34m:\u001b[0m\u001b[0;34m\u001b[0m\u001b[0;34m\u001b[0m\u001b[0m\n\u001b[1;32m   1113\u001b[0m         \u001b[0;32mif\u001b[0m \u001b[0mengine\u001b[0m \u001b[0;34m==\u001b[0m \u001b[0;34m\"c\"\u001b[0m\u001b[0;34m:\u001b[0m\u001b[0;34m\u001b[0m\u001b[0;34m\u001b[0m\u001b[0m\n\u001b[0;32m-> 1114\u001b[0;31m             \u001b[0mself\u001b[0m\u001b[0;34m.\u001b[0m\u001b[0m_engine\u001b[0m \u001b[0;34m=\u001b[0m \u001b[0mCParserWrapper\u001b[0m\u001b[0;34m(\u001b[0m\u001b[0mself\u001b[0m\u001b[0;34m.\u001b[0m\u001b[0mf\u001b[0m\u001b[0;34m,\u001b[0m \u001b[0;34m**\u001b[0m\u001b[0mself\u001b[0m\u001b[0;34m.\u001b[0m\u001b[0moptions\u001b[0m\u001b[0;34m)\u001b[0m\u001b[0;34m\u001b[0m\u001b[0;34m\u001b[0m\u001b[0m\n\u001b[0m\u001b[1;32m   1115\u001b[0m         \u001b[0;32melse\u001b[0m\u001b[0;34m:\u001b[0m\u001b[0;34m\u001b[0m\u001b[0;34m\u001b[0m\u001b[0m\n\u001b[1;32m   1116\u001b[0m             \u001b[0;32mif\u001b[0m \u001b[0mengine\u001b[0m \u001b[0;34m==\u001b[0m \u001b[0;34m\"python\"\u001b[0m\u001b[0;34m:\u001b[0m\u001b[0;34m\u001b[0m\u001b[0;34m\u001b[0m\u001b[0m\n",
            "\u001b[0;32m/usr/local/lib/python3.6/dist-packages/pandas/io/parsers.py\u001b[0m in \u001b[0;36m__init__\u001b[0;34m(self, src, **kwds)\u001b[0m\n\u001b[1;32m   1872\u001b[0m         \u001b[0;32mif\u001b[0m \u001b[0mkwds\u001b[0m\u001b[0;34m.\u001b[0m\u001b[0mget\u001b[0m\u001b[0;34m(\u001b[0m\u001b[0;34m\"compression\"\u001b[0m\u001b[0;34m)\u001b[0m \u001b[0;32mis\u001b[0m \u001b[0;32mNone\u001b[0m \u001b[0;32mand\u001b[0m \u001b[0mencoding\u001b[0m\u001b[0;34m:\u001b[0m\u001b[0;34m\u001b[0m\u001b[0;34m\u001b[0m\u001b[0m\n\u001b[1;32m   1873\u001b[0m             \u001b[0;32mif\u001b[0m \u001b[0misinstance\u001b[0m\u001b[0;34m(\u001b[0m\u001b[0msrc\u001b[0m\u001b[0;34m,\u001b[0m \u001b[0mstr\u001b[0m\u001b[0;34m)\u001b[0m\u001b[0;34m:\u001b[0m\u001b[0;34m\u001b[0m\u001b[0;34m\u001b[0m\u001b[0m\n\u001b[0;32m-> 1874\u001b[0;31m                 \u001b[0msrc\u001b[0m \u001b[0;34m=\u001b[0m \u001b[0mopen\u001b[0m\u001b[0;34m(\u001b[0m\u001b[0msrc\u001b[0m\u001b[0;34m,\u001b[0m \u001b[0;34m\"rb\"\u001b[0m\u001b[0;34m)\u001b[0m\u001b[0;34m\u001b[0m\u001b[0;34m\u001b[0m\u001b[0m\n\u001b[0m\u001b[1;32m   1875\u001b[0m                 \u001b[0mself\u001b[0m\u001b[0;34m.\u001b[0m\u001b[0mhandles\u001b[0m\u001b[0;34m.\u001b[0m\u001b[0mappend\u001b[0m\u001b[0;34m(\u001b[0m\u001b[0msrc\u001b[0m\u001b[0;34m)\u001b[0m\u001b[0;34m\u001b[0m\u001b[0;34m\u001b[0m\u001b[0m\n\u001b[1;32m   1876\u001b[0m \u001b[0;34m\u001b[0m\u001b[0m\n",
            "\u001b[0;31mFileNotFoundError\u001b[0m: [Errno 2] No such file or directory: 'spam.csv'"
          ]
        }
      ]
    },
    {
      "cell_type": "markdown",
      "metadata": {
        "id": "W8Q9Ou3MIc7b"
      },
      "source": [
        "2) DataSet 컬럼 정제 (불필요한 컬럼 삭제, 컬럼명 변경)"
      ]
    },
    {
      "cell_type": "code",
      "metadata": {
        "scrolled": false,
        "id": "ebdcrBbGIc7b",
        "outputId": "f1d006b9-557d-4820-91ff-4a41d0a090d1"
      },
      "source": [
        "messages.drop(['Unnamed: 2','Unnamed: 3','Unnamed: 4'],axis=1,inplace=True)\n",
        "messages = messages.rename(columns={'v1': 'class','v2': 'text'})\n",
        "messages.head(10)"
      ],
      "execution_count": null,
      "outputs": [
        {
          "output_type": "execute_result",
          "data": {
            "text/html": [
              "<div>\n",
              "<style scoped>\n",
              "    .dataframe tbody tr th:only-of-type {\n",
              "        vertical-align: middle;\n",
              "    }\n",
              "\n",
              "    .dataframe tbody tr th {\n",
              "        vertical-align: top;\n",
              "    }\n",
              "\n",
              "    .dataframe thead th {\n",
              "        text-align: right;\n",
              "    }\n",
              "</style>\n",
              "<table border=\"1\" class=\"dataframe\">\n",
              "  <thead>\n",
              "    <tr style=\"text-align: right;\">\n",
              "      <th></th>\n",
              "      <th>class</th>\n",
              "      <th>text</th>\n",
              "    </tr>\n",
              "  </thead>\n",
              "  <tbody>\n",
              "    <tr>\n",
              "      <th>0</th>\n",
              "      <td>ham</td>\n",
              "      <td>Go until jurong point, crazy.. Available only ...</td>\n",
              "    </tr>\n",
              "    <tr>\n",
              "      <th>1</th>\n",
              "      <td>ham</td>\n",
              "      <td>Ok lar... Joking wif u oni...</td>\n",
              "    </tr>\n",
              "    <tr>\n",
              "      <th>2</th>\n",
              "      <td>spam</td>\n",
              "      <td>Free entry in 2 a wkly comp to win FA Cup fina...</td>\n",
              "    </tr>\n",
              "    <tr>\n",
              "      <th>3</th>\n",
              "      <td>ham</td>\n",
              "      <td>U dun say so early hor... U c already then say...</td>\n",
              "    </tr>\n",
              "    <tr>\n",
              "      <th>4</th>\n",
              "      <td>ham</td>\n",
              "      <td>Nah I don't think he goes to usf, he lives aro...</td>\n",
              "    </tr>\n",
              "    <tr>\n",
              "      <th>5</th>\n",
              "      <td>spam</td>\n",
              "      <td>FreeMsg Hey there darling it's been 3 week's n...</td>\n",
              "    </tr>\n",
              "    <tr>\n",
              "      <th>6</th>\n",
              "      <td>ham</td>\n",
              "      <td>Even my brother is not like to speak with me. ...</td>\n",
              "    </tr>\n",
              "    <tr>\n",
              "      <th>7</th>\n",
              "      <td>ham</td>\n",
              "      <td>As per your request 'Melle Melle (Oru Minnamin...</td>\n",
              "    </tr>\n",
              "    <tr>\n",
              "      <th>8</th>\n",
              "      <td>spam</td>\n",
              "      <td>WINNER!! As a valued network customer you have...</td>\n",
              "    </tr>\n",
              "    <tr>\n",
              "      <th>9</th>\n",
              "      <td>spam</td>\n",
              "      <td>Had your mobile 11 months or more? U R entitle...</td>\n",
              "    </tr>\n",
              "  </tbody>\n",
              "</table>\n",
              "</div>"
            ],
            "text/plain": [
              "  class                                               text\n",
              "0   ham  Go until jurong point, crazy.. Available only ...\n",
              "1   ham                      Ok lar... Joking wif u oni...\n",
              "2  spam  Free entry in 2 a wkly comp to win FA Cup fina...\n",
              "3   ham  U dun say so early hor... U c already then say...\n",
              "4   ham  Nah I don't think he goes to usf, he lives aro...\n",
              "5  spam  FreeMsg Hey there darling it's been 3 week's n...\n",
              "6   ham  Even my brother is not like to speak with me. ...\n",
              "7   ham  As per your request 'Melle Melle (Oru Minnamin...\n",
              "8  spam  WINNER!! As a valued network customer you have...\n",
              "9  spam  Had your mobile 11 months or more? U R entitle..."
            ]
          },
          "metadata": {
            "tags": []
          },
          "execution_count": 118
        }
      ]
    },
    {
      "cell_type": "markdown",
      "metadata": {
        "id": "p_7mADeGIc7e"
      },
      "source": [
        "3) DataSet 탐색적 데이터 분석\n",
        "- 스팸 class가 약 15%이며, 중복된 메시지도 일부 존재함"
      ]
    },
    {
      "cell_type": "code",
      "metadata": {
        "scrolled": true,
        "id": "m_4CZZ3UIc7e",
        "outputId": "d48558df-f9b1-4218-ab3e-858ffadfc9d5"
      },
      "source": [
        "messages.groupby('class').describe()"
      ],
      "execution_count": null,
      "outputs": [
        {
          "output_type": "execute_result",
          "data": {
            "text/html": [
              "<div>\n",
              "<style scoped>\n",
              "    .dataframe tbody tr th:only-of-type {\n",
              "        vertical-align: middle;\n",
              "    }\n",
              "\n",
              "    .dataframe tbody tr th {\n",
              "        vertical-align: top;\n",
              "    }\n",
              "\n",
              "    .dataframe thead tr th {\n",
              "        text-align: left;\n",
              "    }\n",
              "\n",
              "    .dataframe thead tr:last-of-type th {\n",
              "        text-align: right;\n",
              "    }\n",
              "</style>\n",
              "<table border=\"1\" class=\"dataframe\">\n",
              "  <thead>\n",
              "    <tr>\n",
              "      <th></th>\n",
              "      <th colspan=\"4\" halign=\"left\">text</th>\n",
              "    </tr>\n",
              "    <tr>\n",
              "      <th></th>\n",
              "      <th>count</th>\n",
              "      <th>unique</th>\n",
              "      <th>top</th>\n",
              "      <th>freq</th>\n",
              "    </tr>\n",
              "    <tr>\n",
              "      <th>class</th>\n",
              "      <th></th>\n",
              "      <th></th>\n",
              "      <th></th>\n",
              "      <th></th>\n",
              "    </tr>\n",
              "  </thead>\n",
              "  <tbody>\n",
              "    <tr>\n",
              "      <th>ham</th>\n",
              "      <td>4825</td>\n",
              "      <td>4516</td>\n",
              "      <td>Sorry, I'll call later</td>\n",
              "      <td>30</td>\n",
              "    </tr>\n",
              "    <tr>\n",
              "      <th>spam</th>\n",
              "      <td>747</td>\n",
              "      <td>653</td>\n",
              "      <td>Please call our customer service representativ...</td>\n",
              "      <td>4</td>\n",
              "    </tr>\n",
              "  </tbody>\n",
              "</table>\n",
              "</div>"
            ],
            "text/plain": [
              "       text                                                               \n",
              "      count unique                                                top freq\n",
              "class                                                                     \n",
              "ham    4825   4516                             Sorry, I'll call later   30\n",
              "spam    747    653  Please call our customer service representativ...    4"
            ]
          },
          "metadata": {
            "tags": []
          },
          "execution_count": 87
        }
      ]
    },
    {
      "cell_type": "markdown",
      "metadata": {
        "id": "xIsoR4IeIc7g"
      },
      "source": [
        "- 메시지 길이 분석: 햄(스팸아님)은 200자 이내, 스팸은 130자 이상의 값이 다수"
      ]
    },
    {
      "cell_type": "code",
      "metadata": {
        "scrolled": true,
        "id": "57drB9g6Ic7h",
        "outputId": "d83eddc8-a650-4905-eda0-fcb868002e16"
      },
      "source": [
        "messages['length'] = messages['text'].apply(len) # 각 로우의 텍스트 길이를 계산하여 length 필드에 추가함\n",
        "messages.hist(column='length',by='class',bins=50, figsize=(15,6))"
      ],
      "execution_count": null,
      "outputs": [
        {
          "output_type": "execute_result",
          "data": {
            "text/plain": [
              "array([<matplotlib.axes._subplots.AxesSubplot object at 0x176b1fa10>,\n",
              "       <matplotlib.axes._subplots.AxesSubplot object at 0x176b73c10>],\n",
              "      dtype=object)"
            ]
          },
          "metadata": {
            "tags": []
          },
          "execution_count": 204
        },
        {
          "output_type": "display_data",
          "data": {
            "image/png": "[encoded data removed]",
            "text/plain": [
              "<Figure size 1080x432 with 2 Axes>"
            ]
          },
          "metadata": {
            "tags": [],
            "needs_background": "light"
          }
        }
      ]
    },
    {
      "cell_type": "markdown",
      "metadata": {
        "id": "6LhJgBJ9Ic7j"
      },
      "source": [
        "- 특수기호(문자구분자), 불용어, 소문자 처리 함수"
      ]
    },
    {
      "cell_type": "code",
      "metadata": {
        "id": "jcCshZodIc7k"
      },
      "source": [
        "def process_text(text):\n",
        "    #1 문자 구분자 제거\n",
        "    nopunc = [char for char in text if char not in string.punctuation]\n",
        "    nopunc = ''.join(nopunc)\n",
        "    \n",
        "    #2 불용어 제거\n",
        "    clean_words = [word for word in nopunc.split() if word.lower() not in stopwords.words('english')]\n",
        "    \n",
        "    #3 리스트 반환\n",
        "    return clean_words"
      ],
      "execution_count": null,
      "outputs": []
    },
    {
      "cell_type": "code",
      "metadata": {
        "id": "Otgo5NWKIc7m",
        "outputId": "c40ab273-cba5-4548-fc7e-5167d18f5688"
      },
      "source": [
        "messages['text'].apply(process_text).head(10)"
      ],
      "execution_count": null,
      "outputs": [
        {
          "output_type": "execute_result",
          "data": {
            "text/plain": [
              "0    [Go, jurong, point, crazy, Available, bugis, n...\n",
              "1                       [Ok, lar, Joking, wif, u, oni]\n",
              "2    [Free, entry, 2, wkly, comp, win, FA, Cup, fin...\n",
              "3        [U, dun, say, early, hor, U, c, already, say]\n",
              "4    [Nah, dont, think, goes, usf, lives, around, t...\n",
              "5    [FreeMsg, Hey, darling, 3, weeks, word, back, ...\n",
              "6    [Even, brother, like, speak, treat, like, aids...\n",
              "7    [per, request, Melle, Melle, Oru, Minnaminungi...\n",
              "8    [WINNER, valued, network, customer, selected, ...\n",
              "9    [mobile, 11, months, U, R, entitled, Update, l...\n",
              "Name: text, dtype: object"
            ]
          },
          "metadata": {
            "tags": []
          },
          "execution_count": 124
        }
      ]
    },
    {
      "cell_type": "markdown",
      "metadata": {
        "id": "L6DLAFAKIc7p"
      },
      "source": [
        "3) 데이터 집합을 분할하여 기능 훈련 및 테스트 데이터 생성\n",
        "- train_test_split함수를 사용하여 테스트 크기가 0.2인 테스트 데이터 생성\n",
        "- random_state를 사용하여 동일한 값의 테스트 데이터 생성"
      ]
    },
    {
      "cell_type": "code",
      "metadata": {
        "id": "LVni4mH8Ic7p"
      },
      "source": [
        "msg_train, msg_test, class_train, class_test = train_test_split(messages['text'],messages['class'],test_size=0.2, random_state = 15)"
      ],
      "execution_count": null,
      "outputs": []
    },
    {
      "cell_type": "markdown",
      "metadata": {
        "id": "e7HPsdg3Ic7r"
      },
      "source": [
        "4) 사이킷런의 CountVectorizer를 통해 피처 생성\n",
        " - 사전에 정의한 함수인 'process_text'를 사용하여 토큰을 추출함\n",
        " - 각 문서에서 토큰의 출현 빈도 계산\n",
        " - 각 문서를 BOW 인코딩 벡터로 변환한다."
      ]
    },
    {
      "cell_type": "code",
      "metadata": {
        "id": "M4-n2aEhIc7r",
        "outputId": "e90a2b98-101a-454d-ce9a-f7fc0e43dff6"
      },
      "source": [
        "bow = CountVectorizer(analyzer=process_text)\n",
        "train_data_features = bow.fit_transform(msg_train, class_train)\n",
        "bow"
      ],
      "execution_count": null,
      "outputs": [
        {
          "output_type": "execute_result",
          "data": {
            "text/plain": [
              "CountVectorizer(analyzer=<function process_text at 0x1524ca3b0>)"
            ]
          },
          "metadata": {
            "tags": []
          },
          "execution_count": 178
        }
      ]
    },
    {
      "cell_type": "code",
      "metadata": {
        "id": "o1dDlemqIc7t",
        "outputId": "c60da2db-eca1-4ac6-f7ad-1fc0b69c8d40"
      },
      "source": [
        "# 각 문서의 토큰 카운트 확인\n",
        "sorted(bow.vocabulary_.items(), key=lambda x:x[1], reverse=True)"
      ],
      "execution_count": null,
      "outputs": [
        {
          "output_type": "execute_result",
          "data": {
            "text/plain": [
              "[('åÔrents', 10009),\n",
              " ('åÒIts', 10008),\n",
              " ('åÒHarry', 10007),\n",
              " ('åÐ', 10006),\n",
              " ('åÈ10', 10005),\n",
              " ('å£s', 10004),\n",
              " ('å£900', 10003),\n",
              " ('å£800', 10002),\n",
              " ('å£79', 10001),\n",
              " ('å£75000', 10000),\n",
              " ('å£750', 9999),\n",
              " ('å£71', 9998),\n",
              " ('å£600', 9997),\n",
              " ('å£6', 9996),\n",
              " ('å£5month', 9995),\n",
              " ('å£54', 9994),\n",
              " ('å£50å£500', 9993),\n",
              " ('å£50award', 9992),\n",
              " ('å£500000', 9991),\n",
              " ('å£5000', 9990),\n",
              " ('å£500', 9989),\n",
              " ('å£50', 9988),\n",
              " ('å£5', 9987),\n",
              " ('å£48', 9986),\n",
              " ('å£450', 9985),\n",
              " ('å£400', 9984),\n",
              " ('å£3wk', 9983),\n",
              " ('å£350', 9982),\n",
              " ('å£3365', 9981),\n",
              " ('å£3350', 9980),\n",
              " ('å£300', 9979),\n",
              " ('å£3', 9978),\n",
              " ('å£250', 9977),\n",
              " ('å£2000', 9976),\n",
              " ('å£200', 9975),\n",
              " ('å£1minMobsmoreLKPOBOX177HP51FL', 9974),\n",
              " ('å£1million', 9973),\n",
              " ('å£150wk', 9972),\n",
              " ('å£150pmmorefrommobile2BremovedMobyPOBox734LS27YF', 9971),\n",
              " ('å£150pm', 9970),\n",
              " ('å£150perweeksub', 9969),\n",
              " ('å£150perWKsub', 9968),\n",
              " ('å£150msg', 9967),\n",
              " ('å£150ea', 9966),\n",
              " ('å£1500', 9965),\n",
              " ('å£150', 9964),\n",
              " ('å£1450', 9963),\n",
              " ('å£1250', 9962),\n",
              " ('å£125', 9961),\n",
              " ('å£12', 9960),\n",
              " ('å£1000CALL', 9959),\n",
              " ('å£100000', 9958),\n",
              " ('å£10000', 9957),\n",
              " ('å£1000', 9956),\n",
              " ('å£100', 9955),\n",
              " ('å£10', 9954),\n",
              " ('å£1', 9953),\n",
              " ('ÌÏll', 9952),\n",
              " ('ÌÏ', 9951),\n",
              " ('Ì©', 9950),\n",
              " ('Ìll', 9949),\n",
              " ('Ì', 9948),\n",
              " ('\\x89ÛÒ', 9947),\n",
              " ('\\x89ÛÏHarry', 9946),\n",
              " ('\\x89ÛÏ', 9945),\n",
              " ('\\x89ÛThanks', 9944),\n",
              " ('\\x89Û', 9943),\n",
              " ('zyada', 9942),\n",
              " ('zoom', 9941),\n",
              " ('zed', 9940),\n",
              " ('zealand', 9939),\n",
              " ('zac', 9938),\n",
              " ('yuou', 9937),\n",
              " ('yuo', 9936),\n",
              " ('yummy', 9935),\n",
              " ('yrs', 9934),\n",
              " ('yr', 9933),\n",
              " ('yowifes', 9932),\n",
              " ('you\\x89Û÷ll', 9931),\n",
              " ('youwhen', 9930),\n",
              " ('youwanna', 9929),\n",
              " ('youve', 9928),\n",
              " ('youuuuu', 9927),\n",
              " ('youthats', 9926),\n",
              " ('youso', 9925),\n",
              " ('yourinclusive', 9924),\n",
              " ('youre', 9923),\n",
              " ('younger', 9922),\n",
              " ('young', 9921),\n",
              " ('youmy', 9920),\n",
              " ('youmoney', 9919),\n",
              " ('youll', 9918),\n",
              " ('yould', 9917),\n",
              " ('youkwhere', 9916),\n",
              " ('youdearwith', 9915),\n",
              " ('youd', 9914),\n",
              " ('youany', 9913),\n",
              " ('youTo', 9912),\n",
              " ('youPhone', 9911),\n",
              " ('yorge', 9910),\n",
              " ('yor', 9909),\n",
              " ('yogasana', 9908),\n",
              " ('yoga', 9907),\n",
              " ('yoHere', 9906),\n",
              " ('yo', 9905),\n",
              " ('ym', 9904),\n",
              " ('yijuehotmailcom', 9903),\n",
              " ('yijue', 9902),\n",
              " ('yifeng', 9901),\n",
              " ('yetunde', 9900),\n",
              " ('yet', 9899),\n",
              " ('yesterday', 9898),\n",
              " ('yest', 9897),\n",
              " ('yes', 9896),\n",
              " ('yer', 9895),\n",
              " ('yep', 9894),\n",
              " ('yeovil', 9893),\n",
              " ('yellow', 9892),\n",
              " ('yelling', 9891),\n",
              " ('years', 9890),\n",
              " ('year', 9889),\n",
              " ('yeah', 9888),\n",
              " ('yday', 9887),\n",
              " ('yck', 9886),\n",
              " ('yay', 9885),\n",
              " ('yards', 9884),\n",
              " ('yan', 9883),\n",
              " ('yalrigu', 9882),\n",
              " ('yahoo', 9881),\n",
              " ('yah', 9880),\n",
              " ('ya', 9879),\n",
              " ('xy', 9878),\n",
              " ('xxxxxxxxxxxxxX', 9877),\n",
              " ('xxxxxxxx', 9876),\n",
              " ('xxxxxxx', 9875),\n",
              " ('xxxmobilemovieclubcomnQJKGIGHJJGCBL', 9874),\n",
              " ('xxx', 9873),\n",
              " ('xx', 9872),\n",
              " ('xuhui', 9871),\n",
              " ('xt', 9870),\n",
              " ('xnet', 9869),\n",
              " ('xmas', 9868),\n",
              " ('xins', 9867),\n",
              " ('xin', 9866),\n",
              " ('xavier', 9865),\n",
              " ('xam', 9864),\n",
              " ('x', 9863),\n",
              " ('wylie', 9862),\n",
              " ('wwwtxttowincouk', 9861),\n",
              " ('wwwtxt82228com', 9860),\n",
              " ('wwwtxt43com', 9859),\n",
              " ('wwwtxt2shopcom', 9858),\n",
              " ('wwwtklscom', 9857),\n",
              " ('wwwtextpodnet', 9856),\n",
              " ('wwwtextcompcom', 9855),\n",
              " ('wwwtcbiz', 9854),\n",
              " ('wwwsmsconet', 9853),\n",
              " ('wwwsantacallingcom', 9852),\n",
              " ('wwwrtfsphostingcom', 9851),\n",
              " ('wwwringtonescouk', 9850),\n",
              " ('wwwringtonekingcouk', 9849),\n",
              " ('wwwregalportfoliocouk', 9848),\n",
              " ('wwwphb1com', 9847),\n",
              " ('wwworangecoukow', 9846),\n",
              " ('wwwmusictrivianet', 9845),\n",
              " ('wwwmovietriviatv', 9844),\n",
              " ('wwwldewcom1win150ppmx3age16', 9843),\n",
              " ('wwwldewcom', 9842),\n",
              " ('wwwgetzedcouk', 9841),\n",
              " ('wwwgambtv', 9840),\n",
              " ('wwwfullonsmscom', 9839),\n",
              " ('wwwflirtpartyus', 9838),\n",
              " ('wwwdbuknet', 9837),\n",
              " ('wwwcomuknet', 9836),\n",
              " ('wwwcnupdatescomnewsletter', 9835),\n",
              " ('wwwclubmobycom', 9834),\n",
              " ('wwwcashbincouk', 9833),\n",
              " ('wwwbridalpetticoatdreamscouk', 9832),\n",
              " ('wwwareyouuniquecouk', 9831),\n",
              " ('wwwSMSacunatalie2k9', 9830),\n",
              " ('wwwSMSacunat27081980', 9829),\n",
              " ('wwwSMSacuhmmross', 9828),\n",
              " ('wwwSMSacugoldviking', 9827),\n",
              " ('wwwSMSacubootydelious', 9826),\n",
              " ('wwwLdewcomsubs161win150ppmx3', 9825),\n",
              " ('wwwLdewcom1win150ppmx3age16subscription', 9824),\n",
              " ('wwwLdewcom1win150ppmx3age16', 9823),\n",
              " ('wwwIdewcom', 9822),\n",
              " ('wwwB4Utelecom', 9821),\n",
              " ('wwwApplausestorecom', 9820),\n",
              " ('www80488biz', 9819),\n",
              " ('www4tcbiz', 9818),\n",
              " ('www07781482378com', 9817),\n",
              " ('wun', 9816),\n",
              " ('wuldnt', 9815),\n",
              " ('wuld', 9814),\n",
              " ('wudnt', 9813),\n",
              " ('wud', 9812),\n",
              " ('wthout', 9811),\n",
              " ('wth', 9810),\n",
              " ('wtf', 9809),\n",
              " ('wtc', 9808),\n",
              " ('wt', 9807),\n",
              " ('ws', 9806),\n",
              " ('wrote', 9805),\n",
              " ('wrongly', 9804),\n",
              " ('wrong', 9803),\n",
              " ('wrnog', 9802),\n",
              " ('wrks', 9801),\n",
              " ('wrking', 9800),\n",
              " ('wrk', 9799),\n",
              " ('writhing', 9798),\n",
              " ('write', 9797),\n",
              " ('wrenching', 9796),\n",
              " ('wrench', 9795),\n",
              " ('wrecked', 9794),\n",
              " ('wquestion', 9793),\n",
              " ('wow', 9792),\n",
              " ('wouldnt', 9791),\n",
              " ('woulda', 9790),\n",
              " ('would', 9789),\n",
              " ('wot', 9788),\n",
              " ('worthless', 9787),\n",
              " ('worth', 9786),\n",
              " ('worst', 9785),\n",
              " ('worse', 9784),\n",
              " ('worryuse', 9783),\n",
              " ('worrying', 9782),\n",
              " ('worry', 9781),\n",
              " ('worries', 9780),\n",
              " ('worried', 9779),\n",
              " ('worms', 9778),\n",
              " ('worldvery', 9777),\n",
              " ('worlds', 9776),\n",
              " ('worldmay', 9775),\n",
              " ('worldgnun', 9774),\n",
              " ('world', 9773),\n",
              " ('works', 9772),\n",
              " ('workout', 9771),\n",
              " ('working', 9770),\n",
              " ('workin', 9769),\n",
              " ('workage', 9768),\n",
              " ('workLove', 9767),\n",
              " ('workAnd', 9766),\n",
              " ('work', 9765),\n",
              " ('words', 9764),\n",
              " ('wordnot', 9763),\n",
              " ('wordSTART', 9762),\n",
              " ('wordCOLLECT', 9761),\n",
              " ('word', 9760),\n",
              " ('worc', 9759),\n",
              " ('woozles', 9758),\n",
              " ('woould', 9757),\n",
              " ('woot', 9756),\n",
              " ('wont', 9755),\n",
              " ('wonders', 9754),\n",
              " ('wondering', 9753),\n",
              " ('wonderful', 9752),\n",
              " ('wonder', 9751),\n",
              " ('wondarfull', 9750),\n",
              " ('women', 9749),\n",
              " ('womdarfull', 9748),\n",
              " ('woman', 9747),\n",
              " ('woken', 9746),\n",
              " ('woke', 9745),\n",
              " ('wocay', 9744),\n",
              " ('woah', 9743),\n",
              " ('wo', 9742),\n",
              " ('wnt', 9741),\n",
              " ('wmlid820554ad0a1705572711firsttrueåÁC', 9740),\n",
              " ('wmlid1b6a5ecef91ff937819firsttrue180430JUL05', 9739),\n",
              " ('wld', 9738),\n",
              " ('wlcome', 9737),\n",
              " ('wks', 9736),\n",
              " ('wknd', 9735),\n",
              " ('wkly', 9734),\n",
              " ('wkg', 9733),\n",
              " ('wkend', 9732),\n",
              " ('wk', 9731),\n",
              " ('wiv', 9730),\n",
              " ('witout', 9729),\n",
              " ('witot', 9728),\n",
              " ('witin', 9727),\n",
              " ('without', 9726),\n",
              " ('within', 9725),\n",
              " ('wither', 9724),\n",
              " ('withdraw', 9723),\n",
              " ('wit', 9722),\n",
              " ('wiskey', 9721),\n",
              " ('wishlist', 9720),\n",
              " ('wishing', 9719),\n",
              " ('wishin', 9718),\n",
              " ('wishes', 9717),\n",
              " ('wish', 9716),\n",
              " ('wise', 9715),\n",
              " ('wisdom', 9714),\n",
              " ('wiproyou', 9713),\n",
              " ('wipro', 9712),\n",
              " ('wins', 9711),\n",
              " ('winning', 9710),\n",
              " ('winner', 9709),\n",
              " ('wining', 9708),\n",
              " ('wine', 9707),\n",
              " ('windy', 9706),\n",
              " ('winds', 9705),\n",
              " ('windows', 9704),\n",
              " ('window', 9703),\n",
              " ('wind', 9702),\n",
              " ('win', 9701),\n",
              " ('willpower', 9700),\n",
              " ('willing', 9699),\n",
              " ('wildest', 9698),\n",
              " ('wil', 9697),\n",
              " ('wikipediacom', 9696),\n",
              " ('wihtuot', 9695),\n",
              " ('wifi', 9694),\n",
              " ('wife', 9693),\n",
              " ('wif', 9692),\n",
              " ('widelivecomindex', 9691),\n",
              " ('wid', 9690),\n",
              " ('wicket', 9689),\n",
              " ('wi', 9688),\n",
              " ('whr', 9687),\n",
              " ('whose', 9686),\n",
              " ('whos', 9685),\n",
              " ('whole', 9684),\n",
              " ('whn', 9683),\n",
              " ('white', 9682),\n",
              " ('whispers', 9681),\n",
              " ('whillTake', 9680),\n",
              " ('whileamp', 9679),\n",
              " ('whether', 9678),\n",
              " ('wherever', 9677),\n",
              " ('wheres', 9676),\n",
              " ('whereare', 9675),\n",
              " ('whens', 9674),\n",
              " ('whenever', 9673),\n",
              " ('wheellock', 9672),\n",
              " ('wheel', 9671),\n",
              " ('wheat', 9670),\n",
              " ('whats', 9669),\n",
              " ('whatever', 9668),\n",
              " ('weåÕve', 9667),\n",
              " ('we\\x89Û÷re', 9666),\n",
              " ('we\\x89Û÷ll', 9665),\n",
              " ('wetherspoons', 9664),\n",
              " ('wet', 9663),\n",
              " ('westshore', 9662),\n",
              " ('westonzoyland', 9661),\n",
              " ('west', 9660),\n",
              " ('wesleys', 9659),\n",
              " ('wesley', 9658),\n",
              " ('werent', 9657),\n",
              " ('wer', 9656),\n",
              " ('went', 9655),\n",
              " ('wenever', 9654),\n",
              " ('wen', 9653),\n",
              " ('welp', 9652),\n",
              " ('wellyou', 9651),\n",
              " ('welltake', 9650),\n",
              " ('welli', 9649),\n",
              " ('well', 9648),\n",
              " ('welcomes', 9647),\n",
              " ('welcome', 9646),\n",
              " ('weirdo', 9645),\n",
              " ('weirdest', 9644),\n",
              " ('weird', 9643),\n",
              " ('weightHaha', 9642),\n",
              " ('weight', 9641),\n",
              " ('weigh', 9640),\n",
              " ('weekstop', 9639),\n",
              " ('weeks', 9638),\n",
              " ('weekly', 9637),\n",
              " ('weekends', 9636),\n",
              " ('weekend', 9635),\n",
              " ('week', 9634),\n",
              " ('weeddeficient', 9633),\n",
              " ('weed', 9632),\n",
              " ('wee', 9631),\n",
              " ('weds', 9630),\n",
              " ('wednesday', 9629),\n",
              " ('wedding', 9628),\n",
              " ('weddin', 9627),\n",
              " ('wed', 9626),\n",
              " ('websitenow', 9625),\n",
              " ('website', 9624),\n",
              " ('webadres', 9623),\n",
              " ('web', 9622),\n",
              " ('weather', 9621),\n",
              " ('weasels', 9620),\n",
              " ('weaseling', 9619),\n",
              " ('wearing', 9618),\n",
              " ('wear', 9617),\n",
              " ('weakness', 9616),\n",
              " ('weak', 9615),\n",
              " ('wc1n3xx', 9614),\n",
              " ('wc', 9613),\n",
              " ('way', 9612),\n",
              " ('watts', 9611),\n",
              " ('wats', 9610),\n",
              " ('watll', 9609),\n",
              " ('watevr', 9608),\n",
              " ('watever', 9607),\n",
              " ('water', 9606),\n",
              " ('watchng', 9605),\n",
              " ('watching', 9604),\n",
              " ('watchin', 9603),\n",
              " ('watches', 9602),\n",
              " ('watched', 9601),\n",
              " ('watch', 9600),\n",
              " ('wat', 9599),\n",
              " ('wasting', 9598),\n",
              " ('wasted', 9597),\n",
              " ('waste', 9596),\n",
              " ('wasnåÕt', 9595),\n",
              " ('wasn\\x89Û÷t', 9594),\n",
              " ('wasnt', 9593),\n",
              " ('washob', 9592),\n",
              " ('warranty', 9591),\n",
              " ('warning', 9590),\n",
              " ('warner', 9589),\n",
              " ('warned', 9588),\n",
              " ('warming', 9587),\n",
              " ('warm', 9586),\n",
              " ('wap', 9585),\n",
              " ('wants', 9584),\n",
              " ('wanting', 9583),\n",
              " ('wanted', 9582),\n",
              " ('want', 9581),\n",
              " ('wanna', 9580),\n",
              " ('wana', 9579),\n",
              " ('wan', 9578),\n",
              " ('wamma', 9577),\n",
              " ('walsall', 9576),\n",
              " ('walmart', 9575),\n",
              " ('walls', 9574),\n",
              " ('wallpaperall', 9573),\n",
              " ('wallpaper', 9572),\n",
              " ('wallet', 9571),\n",
              " ('walks', 9570),\n",
              " ('walking', 9569),\n",
              " ('walkin', 9568),\n",
              " ('walked', 9567),\n",
              " ('walkabout', 9566),\n",
              " ('walk', 9565),\n",
              " ('waliking', 9564),\n",
              " ('waking', 9563),\n",
              " ('wake', 9562),\n",
              " ('waiting', 9561),\n",
              " ('waitin', 9560),\n",
              " ('waited', 9559),\n",
              " ('wait', 9558),\n",
              " ('waht', 9557),\n",
              " ('waheed', 9556),\n",
              " ('wahay', 9555),\n",
              " ('wahala', 9554),\n",
              " ('wadebridgeI', 9553),\n",
              " ('wa', 9552),\n",
              " ('w8in', 9551),\n",
              " ('w1t1jy', 9550),\n",
              " ('w', 9549),\n",
              " ('vtired', 9548),\n",
              " ('vth', 9547),\n",
              " ('vs', 9546),\n",
              " ('vry', 9545),\n",
              " ('vpist', 9544),\n",
              " ('vouchersText', 9543),\n",
              " ('vouchers', 9542),\n",
              " ('voucher', 9541),\n",
              " ('vote', 9540),\n",
              " ('vomiting', 9539),\n",
              " ('vomitin', 9538),\n",
              " ('vomit', 9537),\n",
              " ('volcanoes', 9536),\n",
              " ('voicemail', 9535),\n",
              " ('voice', 9534),\n",
              " ('vodka', 9533),\n",
              " ('vodafone', 9532),\n",
              " ('vldo', 9531),\n",
              " ('vl', 9530),\n",
              " ('viveki', 9529),\n",
              " ('vitamin', 9528),\n",
              " ('vital', 9527),\n",
              " ('visitors', 9526),\n",
              " ('visitneed', 9525),\n",
              " ('visit', 9524),\n",
              " ('visionsmscom', 9523),\n",
              " ('visa', 9522),\n",
              " ('virtual', 9521),\n",
              " ('virgins', 9520),\n",
              " ('virgin', 9519),\n",
              " ('virgils', 9518),\n",
              " ('violence', 9517),\n",
              " ('violated', 9516),\n",
              " ('vinobanagar', 9515),\n",
              " ('village', 9514),\n",
              " ('vill', 9513),\n",
              " ('vilikkamt', 9512),\n",
              " ('vikkyim', 9511),\n",
              " ('vikky', 9510),\n",
              " ('vijaykanth', 9509),\n",
              " ('vijay', 9508),\n",
              " ('view', 9507),\n",
              " ('videosounds2', 9506),\n",
              " ('videosound', 9505),\n",
              " ('videopic', 9504),\n",
              " ('videochat', 9503),\n",
              " ('video', 9502),\n",
              " ('victoria', 9501),\n",
              " ('vic', 9500),\n",
              " ('vibrator', 9499),\n",
              " ('vibrant', 9498),\n",
              " ('via', 9497),\n",
              " ('vewy', 9496),\n",
              " ('versus', 9495),\n",
              " ('version', 9494),\n",
              " ('verify', 9493),\n",
              " ('verified', 9492),\n",
              " ('venugopal', 9491),\n",
              " ('venaam', 9490),\n",
              " ('velachery', 9489),\n",
              " ('vehicle', 9488),\n",
              " ('veggie', 9487),\n",
              " ('vegetables', 9486),\n",
              " ('vegas', 9485),\n",
              " ('vday', 9484),\n",
              " ('vava', 9483),\n",
              " ('vasai', 9482),\n",
              " ('vary', 9481),\n",
              " ('varma', 9480),\n",
              " ('various', 9479),\n",
              " ('varaya', 9478),\n",
              " ('valuing', 9477),\n",
              " ('valued', 9476),\n",
              " ('valueMorning', 9475),\n",
              " ('value', 9474),\n",
              " ('valuable', 9473),\n",
              " ('valid', 9472),\n",
              " ('valentine', 9471),\n",
              " ('vale', 9470),\n",
              " ('vaazhthukkal', 9469),\n",
              " ('v', 9468),\n",
              " ('uxxxx', 9467),\n",
              " ('uworld', 9466),\n",
              " ('uve', 9465),\n",
              " ('uv', 9464),\n",
              " ('uup', 9463),\n",
              " ('uttered', 9462),\n",
              " ('utter', 9461),\n",
              " ('uterus', 9460),\n",
              " ('usually', 9459),\n",
              " ('usualiam', 9458),\n",
              " ('usual', 9457),\n",
              " ('usps', 9456),\n",
              " ('usno', 9455),\n",
              " ('using', 9454),\n",
              " ('usf', 9453),\n",
              " ('uses', 9452),\n",
              " ('user', 9451),\n",
              " ('useless', 9450),\n",
              " ('useful', 9449),\n",
              " ('used', 9448),\n",
              " ('use', 9447),\n",
              " ('uscedu', 9446),\n",
              " ('usc', 9445),\n",
              " ('usb', 9444),\n",
              " ('usLET', 9443),\n",
              " ('usGET', 9442),\n",
              " ('us', 9441),\n",
              " ('urself', 9440),\n",
              " ('urmomi', 9439),\n",
              " ('urination', 9438),\n",
              " ('urgnt', 9437),\n",
              " ('urgentlyits', 9436),\n",
              " ('urgentbut', 9435),\n",
              " ('urgent', 9434),\n",
              " ('ure', 9433),\n",
              " ('ur', 9432),\n",
              " ('upto', 9431),\n",
              " ('upstairs', 9430),\n",
              " ('upsetits', 9429),\n",
              " ('upseti', 9428),\n",
              " ('upset', 9427),\n",
              " ('upping', 9426),\n",
              " ('upon', 9425),\n",
              " ('upload', 9424),\n",
              " ('uphad', 9423),\n",
              " ('upgrading', 9422),\n",
              " ('upgrade', 9421),\n",
              " ('update', 9420),\n",
              " ('upcharge', 9419),\n",
              " ('unsubscribed', 9418),\n",
              " ('unsubscribe', 9417),\n",
              " ('unsoldnow', 9416),\n",
              " ('unsoldmike', 9415),\n",
              " ('unsold', 9414),\n",
              " ('unredeemed', 9413),\n",
              " ('unrecognized', 9412),\n",
              " ('unnecessarily', 9411),\n",
              " ('unlimited', 9410),\n",
              " ('unless', 9409),\n",
              " ('unknown', 9408),\n",
              " ('units', 9407),\n",
              " ('unique', 9406),\n",
              " ('unintentionally', 9405),\n",
              " ('unintentional', 9404),\n",
              " ('uniform', 9403),\n",
              " ('uni', 9402),\n",
              " ('unhappy', 9401),\n",
              " ('unhappiness', 9400),\n",
              " ('unfortuntly', 9399),\n",
              " ('unfortunately', 9398),\n",
              " ('unfolds', 9397),\n",
              " ('uneventful', 9396),\n",
              " ('unemployed', 9395),\n",
              " ('undrstndng', 9394),\n",
              " ('undrstnd', 9393),\n",
              " ('underwear', 9392),\n",
              " ('understood', 9391),\n",
              " ('understanding', 9390),\n",
              " ('understand', 9389),\n",
              " ('underdtand', 9388),\n",
              " ('uncut', 9387),\n",
              " ('uncountable', 9386),\n",
              " ('unconvinced', 9385),\n",
              " ('unconsciously', 9384),\n",
              " ('unconscious', 9383),\n",
              " ('uncomfortable', 9382),\n",
              " ('uncles', 9381),\n",
              " ('uncle', 9380),\n",
              " ('unclaimed', 9379),\n",
              " ('unbelievable', 9378),\n",
              " ('unable', 9377),\n",
              " ('un', 9376),\n",
              " ('umma', 9375),\n",
              " ('um', 9374),\n",
              " ('ultimatum', 9373),\n",
              " ('ull', 9372),\n",
              " ('uks', 9371),\n",
              " ('uk', 9370),\n",
              " ('uif', 9369),\n",
              " ('uh', 9368),\n",
              " ('ugos', 9367),\n",
              " ('ubi', 9366),\n",
              " ('ubandu', 9365),\n",
              " ('uSo', 9364),\n",
              " ('uOthrwise', 9363),\n",
              " ('u', 9362),\n",
              " ('types', 9361),\n",
              " ('typelyk', 9360),\n",
              " ('type', 9359),\n",
              " ('tylers', 9358),\n",
              " ('tyler', 9357),\n",
              " ('txts', 9356),\n",
              " ('txtjourney', 9355),\n",
              " ('txting', 9354),\n",
              " ('txtin', 9353),\n",
              " ('txt', 9352),\n",
              " ('two', 9351),\n",
              " ('twins', 9350),\n",
              " ('twice', 9349),\n",
              " ('twenty', 9348),\n",
              " ('twat', 9347),\n",
              " ('tvlol', 9346),\n",
              " ('tvhe', 9345),\n",
              " ('tv', 9344),\n",
              " ('turns', 9343),\n",
              " ('turning', 9342),\n",
              " ('turned', 9341),\n",
              " ('turn', 9340),\n",
              " ('turkeys', 9339),\n",
              " ('tune', 9338),\n",
              " ('tul', 9337),\n",
              " ('tuition', 9336),\n",
              " ('tuesday', 9335),\n",
              " ('tues', 9334),\n",
              " ('tue', 9333),\n",
              " ('ttyl', 9332),\n",
              " ('tts', 9331),\n",
              " ('tt', 9330),\n",
              " ('tsunamis', 9329),\n",
              " ('tshirt', 9328),\n",
              " ('ts', 9327),\n",
              " ('trying', 9326),\n",
              " ('tryin', 9325),\n",
              " ('try', 9324),\n",
              " ('truth', 9323),\n",
              " ('trusting', 9322),\n",
              " ('trust', 9321),\n",
              " ('truly', 9320),\n",
              " ('truffles', 9319),\n",
              " ('truekDo', 9318),\n",
              " ('true', 9317),\n",
              " ('truck', 9316),\n",
              " ('trouser', 9315),\n",
              " ('troubleshooting', 9314),\n",
              " ('trouble', 9313),\n",
              " ('triumphed', 9312),\n",
              " ('trishul', 9311),\n",
              " ('trips', 9310),\n",
              " ('trip', 9309),\n",
              " ('tried', 9308),\n",
              " ('trial', 9307),\n",
              " ('trek', 9306),\n",
              " ('tree', 9305),\n",
              " ('trebles', 9304),\n",
              " ('treats', 9303),\n",
              " ('treatin', 9302),\n",
              " ('treated', 9301),\n",
              " ('treat', 9300),\n",
              " ('treasure', 9299),\n",
              " ('treadmill', 9298),\n",
              " ('treacle', 9297),\n",
              " ('traveling', 9296),\n",
              " ('travel', 9295),\n",
              " ('trauma', 9294),\n",
              " ('transport', 9293),\n",
              " ('transfred', 9292),\n",
              " ('transfr', 9291),\n",
              " ('transferred', 9290),\n",
              " ('transfered', 9289),\n",
              " ('transfer', 9288),\n",
              " ('transcribing', 9287),\n",
              " ('tranquility', 9286),\n",
              " ('tram', 9285),\n",
              " ('trains', 9284),\n",
              " ('training', 9283),\n",
              " ('train', 9282),\n",
              " ('traffic', 9281),\n",
              " ('track', 9280),\n",
              " ('tp', 9279),\n",
              " ('toyota', 9278),\n",
              " ('town', 9277),\n",
              " ('towards', 9276),\n",
              " ('tour', 9275),\n",
              " ('toughest', 9274),\n",
              " ('tough', 9273),\n",
              " ('touched', 9272),\n",
              " ('touch', 9271),\n",
              " ('totally', 9270),\n",
              " ('total', 9269),\n",
              " ('tot', 9268),\n",
              " ('toss', 9267),\n",
              " ('toshiba', 9266),\n",
              " ('tosend', 9265),\n",
              " ('torture', 9264),\n",
              " ('tortilla', 9263),\n",
              " ('torrents', 9262),\n",
              " ('torch', 9261),\n",
              " ('tops', 9260),\n",
              " ('toppoly', 9259),\n",
              " ('topped', 9258),\n",
              " ('topicsorry', 9257),\n",
              " ('top', 9256),\n",
              " ('tootsie', 9255),\n",
              " ('toothpaste', 9254),\n",
              " ('toot', 9253),\n",
              " ('toopray', 9252),\n",
              " ('tooo', 9251),\n",
              " ('tool', 9250),\n",
              " ('tookplace', 9249),\n",
              " ('took', 9248),\n",
              " ('tooPray', 9247),\n",
              " ('tons', 9246),\n",
              " ('tonite', 9245),\n",
              " ('tonights', 9244),\n",
              " ('tonight', 9243),\n",
              " ('tongued', 9242),\n",
              " ('tones', 9241),\n",
              " ('tone', 9240),\n",
              " ('tomorrowtoday', 9239),\n",
              " ('tomorrowcall', 9238),\n",
              " ('tomorrow', 9237),\n",
              " ('tomorro', 9236),\n",
              " ('tomoCant', 9235),\n",
              " ('tomo', 9234),\n",
              " ('tomeandsaidTHIS', 9233),\n",
              " ('tomarrow', 9232),\n",
              " ('tom', 9231),\n",
              " ('tolerance', 9230),\n",
              " ('toldshe', 9229),\n",
              " ('told', 9228),\n",
              " ('tol', 9227),\n",
              " ('toking', 9226),\n",
              " ('token', 9225),\n",
              " ('tok', 9224),\n",
              " ('toilet', 9223),\n",
              " ('tohar', 9222),\n",
              " ('together', 9221),\n",
              " ('tog', 9220),\n",
              " ('todays', 9219),\n",
              " ('todayhe', 9218),\n",
              " ('todaybut', 9217),\n",
              " ('todayGood', 9216),\n",
              " ('todayFrom', 9215),\n",
              " ('today', 9214),\n",
              " ('tobacco', 9213),\n",
              " ('toa', 9212),\n",
              " ('toDo', 9211),\n",
              " ('toClaim', 9210),\n",
              " ('tmrw', 9209),\n",
              " ('tmr', 9208),\n",
              " ('tming', 9207),\n",
              " ('tm', 9206),\n",
              " ('tlk', 9205),\n",
              " ('tkts', 9204),\n",
              " ('tke', 9203),\n",
              " ('tiz', 9202),\n",
              " ('tiwary', 9201),\n",
              " ('titleso', 9200),\n",
              " ('tis', 9199),\n",
              " ('tirupur', 9198),\n",
              " ('tirunelvali', 9197),\n",
              " ('tiring', 9196),\n",
              " ('tired', 9195),\n",
              " ('tips', 9194),\n",
              " ('timings', 9193),\n",
              " ('timing', 9192),\n",
              " ('timi', 9191),\n",
              " ('timeslil', 9190),\n",
              " ('times', 9189),\n",
              " ('timehope', 9188),\n",
              " ('timedhoni', 9187),\n",
              " ('timeYour', 9186),\n",
              " ('time', 9185),\n",
              " ('till', 9184),\n",
              " ('til', 9183),\n",
              " ('tiime', 9182),\n",
              " ('tihs', 9181),\n",
              " ('tightly', 9180),\n",
              " ('tight', 9179),\n",
              " ('tiempo', 9178),\n",
              " ('tickets', 9177),\n",
              " ('ticket', 9176),\n",
              " ('thx', 9175),\n",
              " ('thus', 9174),\n",
              " ('thursday', 9173),\n",
              " ('thurs', 9172),\n",
              " ('thuglyfe', 9171),\n",
              " ('thts', 9170),\n",
              " ('tht', 9169),\n",
              " ('ths', 9168),\n",
              " ('thruRespect', 9167),\n",
              " ('thru', 9166),\n",
              " ('throws', 9165),\n",
              " ('thrown', 9164),\n",
              " ('throwing', 9163),\n",
              " ('throwin', 9162),\n",
              " ('throw', 9161),\n",
              " ('throat', 9160),\n",
              " ('thriller', 9159),\n",
              " ('threw', 9158),\n",
              " ('three', 9157),\n",
              " ('thread', 9156),\n",
              " ('thousands', 9155),\n",
              " ('thoughtsI', 9154),\n",
              " ('thoughts', 9153),\n",
              " ('thought', 9152),\n",
              " ('though', 9151),\n",
              " ('thou', 9150),\n",
              " ('thot', 9149),\n",
              " ('thoso', 9148),\n",
              " ('tho', 9147),\n",
              " ('thnk', 9146),\n",
              " ('thm', 9145),\n",
              " ('thkin', 9144),\n",
              " ('thk', 9143),\n",
              " ('thisdon', 9142),\n",
              " ('thirunelvali', 9141),\n",
              " ('thinl', 9140),\n",
              " ('thinks', 9139),\n",
              " ('thinking', 9138),\n",
              " ('thinkin', 9137),\n",
              " ('thinked', 9136),\n",
              " ('thinkThis', 9135),\n",
              " ('think', 9134),\n",
              " ('things', 9133),\n",
              " ('thinghow', 9132),\n",
              " ('thing', 9131),\n",
              " ('thin', 9130),\n",
              " ('thia', 9129),\n",
              " ('theyre', 9128),\n",
              " ('theyll', 9127),\n",
              " ('thesmszonecom', 9126),\n",
              " ('thesis', 9125),\n",
              " ('thesedays', 9124),\n",
              " ('therexx', 9123),\n",
              " ('theres', 9122),\n",
              " ('theregoodnight', 9121),\n",
              " ('theredo', 9120),\n",
              " ('thenwill', 9119),\n",
              " ('themes', 9118),\n",
              " ('themed', 9117),\n",
              " ('themP', 9116),\n",
              " ('theatre', 9115),\n",
              " ('theKingshead', 9114),\n",
              " ('the4th', 9113),\n",
              " ('thatåÕs', 9112),\n",
              " ('that\\x89Û÷s', 9111),\n",
              " ('thats', 9110),\n",
              " ('thatnow', 9109),\n",
              " ('thatll', 9108),\n",
              " ('thati', 9107),\n",
              " ('thatdont', 9106),\n",
              " ('thatd', 9105),\n",
              " ('thanxxx', 9104),\n",
              " ('thanx', 9103),\n",
              " ('thanksgiving', 9102),\n",
              " ('thanks2', 9101),\n",
              " ('thanks', 9100),\n",
              " ('thank', 9099),\n",
              " ('thangamits', 9098),\n",
              " ('thangam', 9097),\n",
              " ('thandiyachu', 9096),\n",
              " ('th', 9095),\n",
              " ('tgxxrz', 9094),\n",
              " ('textsweekend', 9093),\n",
              " ('texts', 9092),\n",
              " ('textoperator', 9091),\n",
              " ('texting', 9090),\n",
              " ('textin', 9089),\n",
              " ('texted', 9088),\n",
              " ('textbook', 9087),\n",
              " ('textand', 9086),\n",
              " ('text', 9085),\n",
              " ('texas', 9084),\n",
              " ('tests', 9083),\n",
              " ('testing', 9082),\n",
              " ('test', 9081),\n",
              " ('tescos', 9080),\n",
              " ('terrorist', 9079),\n",
              " ('terrific', 9078),\n",
              " ('terrible', 9077),\n",
              " ('terms', 9076),\n",
              " ('term', 9075),\n",
              " ('tendencies', 9074),\n",
              " ('ten', 9073),\n",
              " ('temple', 9072),\n",
              " ('temp', 9071),\n",
              " ('temales', 9070),\n",
              " ('teluguthts', 9069),\n",
              " ('telugu', 9068),\n",
              " ('telphone', 9067),\n",
              " ('telly', 9066),\n",
              " ('tells', 9065),\n",
              " ('telling', 9064),\n",
              " ('tell', 9063),\n",
              " ('telephone', 9062),\n",
              " ('tel', 9061),\n",
              " ('teju', 9060),\n",
              " ('teethis', 9059),\n",
              " ('teeth', 9058),\n",
              " ('teenager', 9057),\n",
              " ('technologies', 9056),\n",
              " ('technical', 9055),\n",
              " ('tech', 9054),\n",
              " ('teasing', 9053),\n",
              " ('tears', 9052),\n",
              " ('tear', 9051),\n",
              " ('teams', 9050),\n",
              " ('team', 9049),\n",
              " ('teacoffee', 9048),\n",
              " ('teaches', 9047),\n",
              " ('teacher', 9046),\n",
              " ('teach', 9045),\n",
              " ('tea', 9044),\n",
              " ('tddnewsletteremc1couk', 9043),\n",
              " ('tc', 9042),\n",
              " ('tb', 9041),\n",
              " ('taylors', 9040),\n",
              " ('taylor', 9039),\n",
              " ('taxt', 9038),\n",
              " ('taxless', 9037),\n",
              " ('taxi', 9036),\n",
              " ('taxes', 9035),\n",
              " ('taunton', 9034),\n",
              " ('tau', 9033),\n",
              " ('tat', 9032),\n",
              " ('taste', 9031),\n",
              " ('tarpon', 9030),\n",
              " ('tariffs', 9029),\n",
              " ('tape', 9028),\n",
              " ('tap', 9027),\n",
              " ('tantrums', 9026),\n",
              " ('tank', 9025),\n",
              " ('tampa', 9024),\n",
              " ('tamilnaduthen', 9023),\n",
              " ('tallent', 9022),\n",
              " ('tallahassee', 9021),\n",
              " ('tall', 9020),\n",
              " ('talks', 9019),\n",
              " ('talking', 9018),\n",
              " ('talk', 9017),\n",
              " ('talents', 9016),\n",
              " ('talent', 9015),\n",
              " ('taking', 9014),\n",
              " ('takin', 9013),\n",
              " ('takes', 9012),\n",
              " ('takenOnly', 9011),\n",
              " ('taken', 9010),\n",
              " ...]"
            ]
          },
          "metadata": {
            "tags": []
          },
          "execution_count": 194
        }
      ]
    },
    {
      "cell_type": "code",
      "metadata": {
        "id": "EgaALuN0Ic7w",
        "outputId": "786c7593-b8ba-42c2-fc11-a0efdbb65271"
      },
      "source": [
        "import numpy as np\n",
        "vocab = bow.get_feature_names()\n",
        "dist = np.sum(train_data_features, axis=0)\n",
        "\n",
        "for tag, count in zip(vocab, dist):\n",
        "    print(count, tag)\n",
        "    \n",
        "pd.DataFrame(dist, columns=vocab)\n",
        "\n",
        "#pd.DataFrame(train_data_features[:100].toarray(), columns=vocab).head()"
      ],
      "execution_count": null,
      "outputs": [
        {
          "output_type": "stream",
          "text": [
            "[[2 2 1 ... 1 1 1]] 0\n"
          ],
          "name": "stdout"
        },
        {
          "output_type": "execute_result",
          "data": {
            "text/html": [
              "<div>\n",
              "<style scoped>\n",
              "    .dataframe tbody tr th:only-of-type {\n",
              "        vertical-align: middle;\n",
              "    }\n",
              "\n",
              "    .dataframe tbody tr th {\n",
              "        vertical-align: top;\n",
              "    }\n",
              "\n",
              "    .dataframe thead th {\n",
              "        text-align: right;\n",
              "    }\n",
              "</style>\n",
              "<table border=\"1\" class=\"dataframe\">\n",
              "  <thead>\n",
              "    <tr style=\"text-align: right;\">\n",
              "      <th></th>\n",
              "      <th>0</th>\n",
              "      <th>008704050406</th>\n",
              "      <th>0089my</th>\n",
              "      <th>01223585334</th>\n",
              "      <th>0125698789</th>\n",
              "      <th>020603</th>\n",
              "      <th>0207</th>\n",
              "      <th>02070836089</th>\n",
              "      <th>02072069400</th>\n",
              "      <th>02073162414</th>\n",
              "      <th>...</th>\n",
              "      <th>å£75000</th>\n",
              "      <th>å£79</th>\n",
              "      <th>å£800</th>\n",
              "      <th>å£900</th>\n",
              "      <th>å£s</th>\n",
              "      <th>åÈ10</th>\n",
              "      <th>åÐ</th>\n",
              "      <th>åÒHarry</th>\n",
              "      <th>åÒIts</th>\n",
              "      <th>åÔrents</th>\n",
              "    </tr>\n",
              "  </thead>\n",
              "  <tbody>\n",
              "    <tr>\n",
              "      <th>0</th>\n",
              "      <td>2</td>\n",
              "      <td>2</td>\n",
              "      <td>1</td>\n",
              "      <td>1</td>\n",
              "      <td>1</td>\n",
              "      <td>3</td>\n",
              "      <td>2</td>\n",
              "      <td>1</td>\n",
              "      <td>1</td>\n",
              "      <td>2</td>\n",
              "      <td>...</td>\n",
              "      <td>3</td>\n",
              "      <td>1</td>\n",
              "      <td>6</td>\n",
              "      <td>7</td>\n",
              "      <td>1</td>\n",
              "      <td>1</td>\n",
              "      <td>2</td>\n",
              "      <td>1</td>\n",
              "      <td>1</td>\n",
              "      <td>1</td>\n",
              "    </tr>\n",
              "  </tbody>\n",
              "</table>\n",
              "<p>1 rows × 10010 columns</p>\n",
              "</div>"
            ],
            "text/plain": [
              "   0  008704050406  0089my  01223585334  0125698789  020603  0207  \\\n",
              "0  2             2       1            1           1       3     2   \n",
              "\n",
              "   02070836089  02072069400  02073162414  ...  å£75000  å£79  å£800  å£900  \\\n",
              "0            1            1            2  ...        3     1      6      7   \n",
              "\n",
              "   å£s  åÈ10  åÐ  åÒHarry  åÒIts  åÔrents  \n",
              "0    1     1   2        1      1        1  \n",
              "\n",
              "[1 rows x 10010 columns]"
            ]
          },
          "metadata": {
            "tags": []
          },
          "execution_count": 182
        }
      ]
    },
    {
      "cell_type": "markdown",
      "metadata": {
        "id": "n74qpxjDIc7y"
      },
      "source": [
        "5) TF-IDF(Term Frequency – Inverse Document Frequency) 인코딩\n",
        "- 공통적으로 들어있는 단어의 경우 가중치를 축소\n",
        "\n",
        "- TfidfTransformer 파라미터\n",
        "\n",
        "- norm='l2' 각 문서의 피처 벡터에 대한 정규화 방식 결정 \n",
        " .L2 : 벡터의 각 원소의 제곱의 합이 1이 되도록 구성, 기본 값\n",
        " .L1 : 벡터의 각 원소의 절댓값의 합이 1이 되도록 크기를 조절\n",
        "\n",
        "- smooth_idf=False 피처 생성시 0인 값에 대해 작은 값을 합한 스무딩 피처 구성여부 결정\n",
        "\n",
        "- sublinear_tf=False TF (Term-Frequency, 단어빈도) 값의 스무딩(smoothing) 여부를 결정\n",
        "\n",
        "- use_idf=True TF-IDF를 사용해 피처를 만들 것인지 아니면 단어 빈도 자체를 사용할 것인지 여부"
      ]
    },
    {
      "cell_type": "code",
      "metadata": {
        "id": "XBfrw7pQIc7y",
        "outputId": "39543dcb-0bdb-4a53-f73e-792019f2deb1"
      },
      "source": [
        "tfidf = TfidfTransformer()\n",
        "tfidf_vector = tfidf.fit_transform(temp)\n",
        "tfidf_vector\n"
      ],
      "execution_count": null,
      "outputs": [
        {
          "output_type": "execute_result",
          "data": {
            "text/plain": [
              "<4457x10010 sparse matrix of type '<class 'numpy.float64'>'\n",
              "\twith 40493 stored elements in Compressed Sparse Row format>"
            ]
          },
          "metadata": {
            "tags": []
          },
          "execution_count": 163
        }
      ]
    },
    {
      "cell_type": "code",
      "metadata": {
        "id": "xrWs4RG-Ic70",
        "outputId": "b592e4bd-1836-4b8a-dc3d-64a42da78bd3"
      },
      "source": [
        "import numpy as np\n",
        "vocab = bow.get_feature_names()\n",
        "dist = np.sum(tfidf_vector, axis=0)\n",
        "\n",
        "for tag, count in zip(vocab, dist):\n",
        "    print(count, tag)\n",
        "    \n",
        "pd.DataFrame(dist, columns=vocab)"
      ],
      "execution_count": null,
      "outputs": [
        {
          "output_type": "stream",
          "text": [
            "[[0.43407075 0.52177282 0.25159911 ... 0.27854106 0.30030863 0.23368328]] 0\n"
          ],
          "name": "stdout"
        },
        {
          "output_type": "execute_result",
          "data": {
            "text/html": [
              "<div>\n",
              "<style scoped>\n",
              "    .dataframe tbody tr th:only-of-type {\n",
              "        vertical-align: middle;\n",
              "    }\n",
              "\n",
              "    .dataframe tbody tr th {\n",
              "        vertical-align: top;\n",
              "    }\n",
              "\n",
              "    .dataframe thead th {\n",
              "        text-align: right;\n",
              "    }\n",
              "</style>\n",
              "<table border=\"1\" class=\"dataframe\">\n",
              "  <thead>\n",
              "    <tr style=\"text-align: right;\">\n",
              "      <th></th>\n",
              "      <th>0</th>\n",
              "      <th>008704050406</th>\n",
              "      <th>0089my</th>\n",
              "      <th>01223585334</th>\n",
              "      <th>0125698789</th>\n",
              "      <th>020603</th>\n",
              "      <th>0207</th>\n",
              "      <th>02070836089</th>\n",
              "      <th>02072069400</th>\n",
              "      <th>02073162414</th>\n",
              "      <th>...</th>\n",
              "      <th>å£75000</th>\n",
              "      <th>å£79</th>\n",
              "      <th>å£800</th>\n",
              "      <th>å£900</th>\n",
              "      <th>å£s</th>\n",
              "      <th>åÈ10</th>\n",
              "      <th>åÐ</th>\n",
              "      <th>åÒHarry</th>\n",
              "      <th>åÒIts</th>\n",
              "      <th>åÔrents</th>\n",
              "    </tr>\n",
              "  </thead>\n",
              "  <tbody>\n",
              "    <tr>\n",
              "      <th>0</th>\n",
              "      <td>0.434071</td>\n",
              "      <td>0.521773</td>\n",
              "      <td>0.251599</td>\n",
              "      <td>0.227628</td>\n",
              "      <td>0.432018</td>\n",
              "      <td>0.849647</td>\n",
              "      <td>0.502705</td>\n",
              "      <td>0.653126</td>\n",
              "      <td>0.275191</td>\n",
              "      <td>0.609939</td>\n",
              "      <td>...</td>\n",
              "      <td>0.800168</td>\n",
              "      <td>0.333889</td>\n",
              "      <td>1.53195</td>\n",
              "      <td>1.906877</td>\n",
              "      <td>0.279844</td>\n",
              "      <td>0.46646</td>\n",
              "      <td>0.511549</td>\n",
              "      <td>0.278541</td>\n",
              "      <td>0.300309</td>\n",
              "      <td>0.233683</td>\n",
              "    </tr>\n",
              "  </tbody>\n",
              "</table>\n",
              "<p>1 rows × 10010 columns</p>\n",
              "</div>"
            ],
            "text/plain": [
              "          0  008704050406    0089my  01223585334  0125698789    020603  \\\n",
              "0  0.434071      0.521773  0.251599     0.227628    0.432018  0.849647   \n",
              "\n",
              "       0207  02070836089  02072069400  02073162414  ...   å£75000      å£79  \\\n",
              "0  0.502705     0.653126     0.275191     0.609939  ...  0.800168  0.333889   \n",
              "\n",
              "     å£800     å£900       å£s     åÈ10        åÐ   åÒHarry     åÒIts  \\\n",
              "0  1.53195  1.906877  0.279844  0.46646  0.511549  0.278541  0.300309   \n",
              "\n",
              "    åÔrents  \n",
              "0  0.233683  \n",
              "\n",
              "[1 rows x 10010 columns]"
            ]
          },
          "metadata": {
            "tags": []
          },
          "execution_count": 185
        }
      ]
    },
    {
      "cell_type": "code",
      "metadata": {
        "scrolled": true,
        "id": "Mbz3Mqk2Ic73"
      },
      "source": [
        "def prun_example():\n",
        "    bow = CountVectorizer(analyzer=process_text)\n",
        "    bow.fit(msg_train, class_train)    "
      ],
      "execution_count": null,
      "outputs": []
    },
    {
      "cell_type": "markdown",
      "metadata": {
        "id": "2w4H9L-mIc75"
      },
      "source": [
        "- 전체 로직의 실행시간 측정 예시(반드시 필요한 코드는 아님)\n",
        " . ncalls - 함수가 호출된 횟수.\n",
        " . tottime - 이 함수 내에서 소요된 시간(초 단위), 다른 함수를 호출하면 그 함수의 시간은 포함하지 않음. (초 단위)\n",
        " . percall - tottime을 ncalls로 나눈 값\n",
        " . cumtime - 이 함수 내에서 소요된 시간. 다른 함수를 호출할 때 그 함수 내에서 소요된 시간을 포함함. (초 단위)\n",
        " . percall - cumtime을 ncalls로 나눈 값."
      ]
    },
    {
      "cell_type": "code",
      "metadata": {
        "id": "uue9hI7xIc75",
        "outputId": "dddc94d7-c486-4295-f84d-82abbd175a0c"
      },
      "source": [
        "%prun prun_example()"
      ],
      "execution_count": null,
      "outputs": [
        {
          "output_type": "stream",
          "text": [
            " "
          ],
          "name": "stdout"
        }
      ]
    },
    {
      "cell_type": "markdown",
      "metadata": {
        "id": "-fVTRL9dIc77"
      },
      "source": [
        "## Pipeline을 사용하여 일괄처리"
      ]
    },
    {
      "cell_type": "code",
      "metadata": {
        "id": "Kh6vaTl9Ic79"
      },
      "source": [
        "pipeline = Pipeline([\n",
        "    ('bow',CountVectorizer(analyzer=process_text)), # 단어를 process_text 함수 처리 후 BoW전환\n",
        "    ('tfidf',TfidfTransformer()), # BoW를 가중치가 부여된 TF-IDF로 변환\n",
        "    ('classifier',MultinomialNB()) # TF-IDF vectors 를 베이즈정리 분류기로 학습\n",
        "])"
      ],
      "execution_count": null,
      "outputs": []
    },
    {
      "cell_type": "code",
      "metadata": {
        "scrolled": true,
        "id": "XsF4HCZGIc7-",
        "outputId": "e5eee813-b49f-4ae2-a7f2-909d61c5766a"
      },
      "source": [
        "%time temp= pipeline.fit(msg_train,class_train)\n",
        "print(temp)"
      ],
      "execution_count": null,
      "outputs": [
        {
          "output_type": "execute_result",
          "data": {
            "text/plain": [
              "Pipeline(steps=[('bow',\n",
              "                 CountVectorizer(analyzer=<function process_text at 0x14da84710>)),\n",
              "                ('tfidf', TfidfTransformer()),\n",
              "                ('classifier', MultinomialNB())])"
            ]
          },
          "metadata": {
            "tags": []
          },
          "execution_count": 109
        }
      ]
    },
    {
      "cell_type": "code",
      "metadata": {
        "id": "ejHoXYqAIc8A"
      },
      "source": [
        "predictions = pipeline.predict(msg_test)"
      ],
      "execution_count": null,
      "outputs": []
    },
    {
      "cell_type": "code",
      "metadata": {
        "id": "TFx_sOX2Ic8I",
        "outputId": "3ea68c98-5b11-47f4-b041-d11435bc75c1"
      },
      "source": [
        "predictions"
      ],
      "execution_count": null,
      "outputs": [
        {
          "output_type": "execute_result",
          "data": {
            "text/plain": [
              "array(['ham', 'ham', 'ham', ..., 'ham', 'ham', 'ham'], dtype='<U4')"
            ]
          },
          "metadata": {
            "tags": []
          },
          "execution_count": 111
        }
      ]
    },
    {
      "cell_type": "code",
      "metadata": {
        "scrolled": false,
        "id": "NhuP6jcQIc8L",
        "outputId": "5c5f75cb-1f89-49da-abf8-47875a903a92"
      },
      "source": [
        "print(classification_report(class_test,predictions))"
      ],
      "execution_count": null,
      "outputs": [
        {
          "output_type": "stream",
          "text": [
            "              precision    recall  f1-score   support\n",
            "\n",
            "         ham       0.96      1.00      0.98       955\n",
            "        spam       1.00      0.75      0.86       160\n",
            "\n",
            "    accuracy                           0.96      1115\n",
            "   macro avg       0.98      0.88      0.92      1115\n",
            "weighted avg       0.97      0.96      0.96      1115\n",
            "\n"
          ],
          "name": "stdout"
        }
      ]
    },
    {
      "cell_type": "code",
      "metadata": {
        "id": "lFXiawK9Ic8N"
      },
      "source": [
        "from sklearn.feature_extraction.text import TfidfVectorizer\n",
        "X = ['Tom plays soccer','Tom loves soccer and baseball','baseball is his hobby and his job']\n",
        "tfidf_vectorizer = TfidfVectorizer(stop_words='english')\n",
        "tfidf_matrix = tfidf_vectorizer.fit_transform(X)"
      ],
      "execution_count": null,
      "outputs": []
    },
    {
      "cell_type": "code",
      "metadata": {
        "scrolled": true,
        "id": "q1tqE0cxIc8O",
        "outputId": "e50da181-733a-4ad7-f216-193934ab9be7"
      },
      "source": [
        "print(tfidf_matrix.toarray())"
      ],
      "execution_count": null,
      "outputs": [
        {
          "output_type": "stream",
          "text": [
            "[[0.         0.         0.         0.         0.68091856 0.51785612\n",
            "  0.51785612]\n",
            " [0.45985353 0.         0.         0.60465213 0.         0.45985353\n",
            "  0.45985353]\n",
            " [0.4736296  0.62276601 0.62276601 0.         0.         0.\n",
            "  0.        ]]\n"
          ],
          "name": "stdout"
        }
      ]
    },
    {
      "cell_type": "code",
      "metadata": {
        "id": "DrJoXDpQIc8Q",
        "outputId": "91d1111c-83a1-4aab-93cd-f766c332e9ff"
      },
      "source": [
        "tfidf_vectorizer.vocabulary_"
      ],
      "execution_count": null,
      "outputs": [
        {
          "output_type": "execute_result",
          "data": {
            "text/plain": [
              "{'tom': 6,\n",
              " 'plays': 4,\n",
              " 'soccer': 5,\n",
              " 'loves': 3,\n",
              " 'baseball': 0,\n",
              " 'hobby': 1,\n",
              " 'job': 2}"
            ]
          },
          "metadata": {
            "tags": []
          },
          "execution_count": 201
        }
      ]
    },
    {
      "cell_type": "code",
      "metadata": {
        "id": "OXw_MpocIc8R"
      },
      "source": [
        ""
      ],
      "execution_count": null,
      "outputs": []
    }
  ]
}