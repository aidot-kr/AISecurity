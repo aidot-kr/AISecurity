{
 "cells": [
  {
   "cell_type": "markdown",
   "metadata": {},
   "source": [
    "### MNIST image에서 image가 0에서 9중 어떤 숫자인지 예측하는 Bidirectional LSTM\n",
    "#### - MNIST : 0에서 9까지의 image data로써, 각 이미지는 28x28의 matrix로 구성되어 있음.\n",
    "#### - 28x28 image matrix를 순차적으로 읽어 학습해야  학습된 matrix가 어떤 숫자인지 알수 있음. \n",
    "#### - image matrix를 28번의 Time step으로 나누어 넣은 후 학습."
   ]
  },
  {
   "cell_type": "markdown",
   "metadata": {},
   "source": [
    "##### 1) 라이브러리 로드"
   ]
  },
  {
   "cell_type": "code",
   "execution_count": 3,
   "metadata": {
    "scrolled": true
   },
   "outputs": [
    {
     "name": "stdout",
     "output_type": "stream",
     "text": [
      "Extracting ./mnist/data/train-images-idx3-ubyte.gz\n",
      "Extracting ./mnist/data/train-labels-idx1-ubyte.gz\n",
      "Extracting ./mnist/data/t10k-images-idx3-ubyte.gz\n",
      "Extracting ./mnist/data/t10k-labels-idx1-ubyte.gz\n"
     ]
    }
   ],
   "source": [
    "# coding: utf-8\n",
    "\n",
    "import tensorflow as tf\n",
    "import numpy as np\n",
    "import time\n",
    "from tensorflow.examples.tutorials.mnist import input_data\n",
    "mnist = input_data.read_data_sets(\"./mnist/data/\", one_hot=True)\n",
    "\n",
    "np.random.seed(144)"
   ]
  },
  {
   "cell_type": "code",
   "execution_count": 4,
   "metadata": {},
   "outputs": [
    {
     "name": "stdout",
     "output_type": "stream",
     "text": [
      "Datasets(train=<tensorflow.contrib.learn.python.learn.datasets.mnist.DataSet object at 0x00000190AB1AAF60>, validation=<tensorflow.contrib.learn.python.learn.datasets.mnist.DataSet object at 0x00000190AB1C9438>, test=<tensorflow.contrib.learn.python.learn.datasets.mnist.DataSet object at 0x00000190AB1C95F8>)\n"
     ]
    }
   ],
   "source": [
    "print(mnist)"
   ]
  },
  {
   "cell_type": "markdown",
   "metadata": {},
   "source": [
    "##### 2) 변수 초기화"
   ]
  },
  {
   "cell_type": "code",
   "execution_count": 5,
   "metadata": {},
   "outputs": [],
   "source": [
    "learning_rate = 0.001\n",
    "training_epochs = 10 # 전체 데이터 학습 반복 횟수 (정확도 향상)\n",
    "batch_size = 256     # 한번에 처리할 데이터 개수\n",
    "\n",
    "# 입력되는 이미지 사이즈 28*28\n",
    "input_size = 28   # input size(=input dimension)는 셀에 입력되는 리스트 길이\n",
    "input_steps = 28  # input step(=sequence length)은 입력되는 리스트를 몇개의 time-step에 나누어 담을 것인가?  \n",
    "n_hidden = 128\n",
    "n_classes = 10    # classification label 개수"
   ]
  },
  {
   "cell_type": "markdown",
   "metadata": {},
   "source": [
    "##### 3) placeholder 와 variable 선언"
   ]
  },
  {
   "cell_type": "code",
   "execution_count": 6,
   "metadata": {},
   "outputs": [
    {
     "name": "stdout",
     "output_type": "stream",
     "text": [
      "WARNING:tensorflow:From C:\\Users\\user\\Anaconda3\\lib\\site-packages\\tensorflow\\python\\framework\\op_def_library.py:263: colocate_with (from tensorflow.python.framework.ops) is deprecated and will be removed in a future version.\n",
      "Instructions for updating:\n",
      "Colocations handled automatically by placer.\n",
      "Tensor(\"Placeholder:0\", shape=(?, 28, 28), dtype=float32)\n",
      "Tensor(\"Placeholder_1:0\", shape=(?, 10), dtype=float32)\n"
     ]
    }
   ],
   "source": [
    "X = tf.placeholder(tf.float32,[None, input_steps, input_size])\n",
    "Y = tf.placeholder(tf.float32,[None, n_classes])\n",
    "\n",
    "W = tf.Variable(tf.random_normal([n_hidden * 2, n_classes]))\n",
    "b = tf.Variable(tf.random_normal([n_classes]))\n",
    "\n",
    "keep_prob = tf.placeholder(tf.float32)\n",
    "\n",
    "print(X)\n",
    "print(Y)"
   ]
  },
  {
   "cell_type": "markdown",
   "metadata": {},
   "source": [
    "##### 4) 정방향, 역방향 LSTM Cell 2개 생성 (각 Cell에 대한 Dropout으로 Overfitting 방지)"
   ]
  },
  {
   "cell_type": "code",
   "execution_count": 5,
   "metadata": {},
   "outputs": [
    {
     "name": "stdout",
     "output_type": "stream",
     "text": [
      "WARNING:tensorflow:From <ipython-input-5-9c266774dfe6>:2: LSTMCell.__init__ (from tensorflow.python.ops.rnn_cell_impl) is deprecated and will be removed in a future version.\n",
      "Instructions for updating:\n",
      "This class is equivalent as tf.keras.layers.LSTMCell, and will be replaced by that in Tensorflow 2.0.\n",
      "WARNING:tensorflow:From <ipython-input-5-9c266774dfe6>:7: bidirectional_dynamic_rnn (from tensorflow.python.ops.rnn) is deprecated and will be removed in a future version.\n",
      "Instructions for updating:\n",
      "Please use `keras.layers.Bidirectional(keras.layers.RNN(cell))`, which is equivalent to this API\n",
      "WARNING:tensorflow:From C:\\Users\\user\\Anaconda3\\lib\\site-packages\\tensorflow\\python\\ops\\rnn.py:443: dynamic_rnn (from tensorflow.python.ops.rnn) is deprecated and will be removed in a future version.\n",
      "Instructions for updating:\n",
      "Please use `keras.layers.RNN(cell)`, which is equivalent to this API\n",
      "WARNING:tensorflow:From C:\\Users\\user\\Anaconda3\\lib\\site-packages\\tensorflow\\python\\ops\\rnn_cell_impl.py:1259: calling dropout (from tensorflow.python.ops.nn_ops) with keep_prob is deprecated and will be removed in a future version.\n",
      "Instructions for updating:\n",
      "Please use `rate` instead of `keep_prob`. Rate should be set to `rate = 1 - keep_prob`.\n"
     ]
    }
   ],
   "source": [
    "lstm_fw_cell = tf.nn.rnn_cell.LSTMCell(num_units = n_hidden, state_is_tuple = True)\n",
    "lstm_fw_cell = tf.nn.rnn_cell.DropoutWrapper(lstm_fw_cell, output_keep_prob=keep_prob)\n",
    "lstm_bw_cell = tf.nn.rnn_cell.LSTMCell(num_units = n_hidden, state_is_tuple = True)\n",
    "lstm_bw_cell = tf.nn.rnn_cell.DropoutWrapper(lstm_bw_cell, output_keep_prob=keep_prob)\n",
    "\n",
    "outputs,_ = tf.nn.bidirectional_dynamic_rnn(lstm_fw_cell,lstm_bw_cell, X, dtype = tf.float32)"
   ]
  },
  {
   "cell_type": "markdown",
   "metadata": {},
   "source": [
    "##### 5) 결과 값 병합"
   ]
  },
  {
   "cell_type": "code",
   "execution_count": 6,
   "metadata": {},
   "outputs": [],
   "source": [
    "outputs_fw = tf.transpose(outputs[0], [1,0,2])\n",
    "outputs_bw = tf.transpose(outputs[1], [1,0,2])\n",
    "\n",
    "outputs_concat = tf.concat([outputs_fw[-1], outputs_bw[-1]], axis=1)\n",
    "\n",
    "pred = tf.matmul(outputs_concat,W) + b\n",
    "\n",
    "cost = tf.reduce_mean(tf.nn.softmax_cross_entropy_with_logits(logits = pred, labels = Y))\n",
    "optimizer = tf.train.AdamOptimizer(learning_rate).minimize(cost)\n",
    "\n",
    "correct_prediction = tf.equal(tf.argmax(pred,1),tf.argmax(Y,1))\n",
    "accuracy = tf.reduce_mean(tf.cast(correct_prediction, tf.float32))"
   ]
  },
  {
   "cell_type": "markdown",
   "metadata": {},
   "source": [
    "##### 6) 학습 및 예측"
   ]
  },
  {
   "cell_type": "code",
   "execution_count": 8,
   "metadata": {},
   "outputs": [
    {
     "name": "stdout",
     "output_type": "stream",
     "text": [
      "Eopch: 1, cost= 0.673620\n",
      "Accuracy: 0.9346\n",
      "Eopch: 2, cost= 0.186167\n",
      "Accuracy: 0.9593\n",
      "Eopch: 3, cost= 0.124113\n",
      "Accuracy: 0.9655\n",
      "Eopch: 4, cost= 0.098185\n",
      "Accuracy: 0.9764\n",
      "Eopch: 5, cost= 0.081090\n",
      "Accuracy: 0.9755\n",
      "Eopch: 6, cost= 0.065739\n",
      "Accuracy: 0.9793\n",
      "Eopch: 7, cost= 0.059047\n",
      "Accuracy: 0.9817\n",
      "Eopch: 8, cost= 0.048674\n",
      "Accuracy: 0.9813\n",
      "Eopch: 9, cost= 0.045496\n",
      "Accuracy: 0.9828\n",
      "Eopch:10, cost= 0.038620\n",
      "Accuracy: 0.9855\n",
      "execution time : 417.2646760940552\n"
     ]
    }
   ],
   "source": [
    "sess = tf.Session()\n",
    "sess.run(tf.global_variables_initializer())\n",
    "\n",
    "global_step = 0\n",
    "\n",
    "start_time = time.time()\n",
    "\n",
    "for epoch in range(training_epochs):\n",
    "    avg_cost = 0\n",
    "    total_batch = int(mnist.train.num_examples/batch_size)\n",
    "    \n",
    "    for i in range(total_batch):\n",
    "        batch_x, batch_y = mnist.train.next_batch(batch_size)\n",
    "        batch_x = batch_x.reshape((batch_size, input_steps, input_size)).astype(np.float32)\n",
    "        \n",
    "        c, _ = sess.run([cost, optimizer], feed_dict={X:batch_x, Y:batch_y, keep_prob:0.9})\n",
    "    \n",
    "        avg_cost += c/total_batch\n",
    "        \n",
    "        global_step += 1\n",
    "    \n",
    "    test_data = mnist.test.images.reshape((-1, input_steps, input_size))\n",
    "    test_label = mnist.test.labels\n",
    "    \n",
    "    print('Eopch:{:2d}, cost={:9f}'.format((epoch+1), avg_cost))\n",
    "    print('Accuracy:', accuracy.eval(session=sess, feed_dict={X:test_data, Y:test_label, keep_prob:1.0}))\n",
    "    \n",
    "end_time = time.time()\n",
    "    \n",
    "print(\"execution time :\", (end_time - start_time))"
   ]
  },
  {
   "cell_type": "code",
   "execution_count": null,
   "metadata": {},
   "outputs": [],
   "source": []
  }
 ],
 "metadata": {
  "kernelspec": {
   "display_name": "Python 3",
   "language": "python",
   "name": "python3"
  },
  "language_info": {
   "codemirror_mode": {
    "name": "ipython",
    "version": 3
   },
   "file_extension": ".py",
   "mimetype": "text/x-python",
   "name": "python",
   "nbconvert_exporter": "python",
   "pygments_lexer": "ipython3",
   "version": "3.7.3"
  }
 },
 "nbformat": 4,
 "nbformat_minor": 2
}
