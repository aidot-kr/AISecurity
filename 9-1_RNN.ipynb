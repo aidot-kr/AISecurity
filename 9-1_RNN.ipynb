{
 "cells": [
  {
   "cell_type": "markdown",
   "metadata": {},
   "source": [
    "### hihello에서 마지막 o를 추측하는 예제"
   ]
  },
  {
   "cell_type": "markdown",
   "metadata": {},
   "source": [
    "#### 1. 데이터 초기화"
   ]
  },
  {
   "cell_type": "code",
   "execution_count": 1,
   "metadata": {},
   "outputs": [],
   "source": [
    "import tensorflow as tf\n",
    "import numpy as np\n",
    "\n",
    "# 1) 학습 데이터 \"hihello\" 에서 중복되지 않는 문자를 숫자로 표현한다.\n",
    "idx2char = ['h', 'i', 'e', 'l', 'o'] # h = 0, i = 1, e = 2, L = 3, o = 4\n",
    "\n",
    "x_data = [[0, 1, 0, 2, 3, 3]] # hihell\n",
    "\n",
    "# 2) 숫자로 표현된 데이터를 one-hot encoding 한다.\n",
    "x_one_hot = [[[1, 0, 0, 0, 0],  # h = 0\n",
    "              [0, 1, 0, 0, 0],  # i = 1\n",
    "              [1, 0, 0, 0, 0],  # h = 0\n",
    "              [0, 0, 1, 0, 0],  # e = 2\n",
    "              [0, 0, 0, 1, 0],  # l = 3\n",
    "              [0, 0, 0, 1, 0]]] # l = 3\n",
    "\n",
    "# 3) 답안으로 사용할 데이터를 생성한다.\n",
    "y_data = [[1, 0, 2, 3, 3, 4]] # ihello"
   ]
  },
  {
   "cell_type": "markdown",
   "metadata": {},
   "source": [
    "#### 2. 파라미터 초기화"
   ]
  },
  {
   "cell_type": "code",
   "execution_count": 3,
   "metadata": {},
   "outputs": [
    {
     "name": "stdout",
     "output_type": "stream",
     "text": [
      "X :  Tensor(\"Placeholder_2:0\", shape=(?, 6, 5), dtype=float32)\n",
      "Y :  Tensor(\"Placeholder_3:0\", shape=(?, 6), dtype=int32)\n"
     ]
    }
   ],
   "source": [
    "num_claases = 5      # 정답 크기 (one-hot으로 나타내는 크기)\n",
    "input_dim = 5        # one-hot size, 입력값은 0부터 4까지 총 5개.\n",
    "hidden_size = 5      # output size, one-hot size와 같음.\n",
    "sequence_length = 6  # 입력으로 들어가는 문장 길이, ihello = 6\n",
    "batch_size = 1       # 한문장씩 배치. (학습에 사용되는 문자가 하나밖에 없기때문)\n",
    "learning_rate = 0.1  # 학습율\n",
    "\n",
    "# placeholder 선언 (선언과 동시에 초기화 하는 것이 아니라 선언 후, 값을 전달한다.)\n",
    "X = tf.placeholder(tf.float32, [None, sequence_length, input_dim])\n",
    "Y = tf.placeholder(tf.int32, [None, sequence_length])"
   ]
  },
  {
   "cell_type": "markdown",
   "metadata": {},
   "source": [
    "#### 3. BasicRNNCell 실행"
   ]
  },
  {
   "cell_type": "code",
   "execution_count": 4,
   "metadata": {},
   "outputs": [
    {
     "name": "stdout",
     "output_type": "stream",
     "text": [
      "\n",
      "WARNING: The TensorFlow contrib module will not be included in TensorFlow 2.0.\n",
      "For more information, please see:\n",
      "  * https://github.com/tensorflow/community/blob/master/rfcs/20180907-contrib-sunset.md\n",
      "  * https://github.com/tensorflow/addons\n",
      "If you depend on functionality not listed there, please file an issue.\n",
      "\n",
      "WARNING:tensorflow:From <ipython-input-4-a46711557a89>:3: BasicRNNCell.__init__ (from tensorflow.python.ops.rnn_cell_impl) is deprecated and will be removed in a future version.\n",
      "Instructions for updating:\n",
      "This class is equivalent as tf.keras.layers.SimpleRNNCell, and will be replaced by that in Tensorflow 2.0.\n",
      "basic_cell :  <tensorflow.python.ops.rnn_cell_impl.BasicRNNCell object at 0x00000259B4D9FC50>\n",
      "initial_state :  Tensor(\"BasicRNNCellZeroState/zeros:0\", shape=(1, 5), dtype=float32)\n"
     ]
    }
   ],
   "source": [
    "# 은닉층에서 표현되는 one-hot 값을 전달한다. (hidden_size = 5)\n",
    "# 기본적인 RNNCell을 생성한다.\n",
    "basic_cell = tf.contrib.rnn.BasicRNNCell(num_units=hidden_size)\n",
    "\n",
    "# cell을 0으로 초기화 한다.\n",
    "initial_state = basic_cell.zero_state(batch_size, tf.float32)"
   ]
  },
  {
   "cell_type": "markdown",
   "metadata": {},
   "source": [
    "#### 4. dynamic_rnn 실행"
   ]
  },
  {
   "cell_type": "code",
   "execution_count": 5,
   "metadata": {},
   "outputs": [
    {
     "name": "stdout",
     "output_type": "stream",
     "text": [
      "WARNING:tensorflow:From <ipython-input-5-eb2ef5bcc439>:3: dynamic_rnn (from tensorflow.python.ops.rnn) is deprecated and will be removed in a future version.\n",
      "Instructions for updating:\n",
      "Please use `keras.layers.RNN(cell)`, which is equivalent to this API\n",
      "WARNING:tensorflow:From C:\\Users\\user\\Anaconda3\\lib\\site-packages\\tensorflow\\python\\ops\\tensor_array_ops.py:162: colocate_with (from tensorflow.python.framework.ops) is deprecated and will be removed in a future version.\n",
      "Instructions for updating:\n",
      "Colocations handled automatically by placer.\n",
      "outputs :  Tensor(\"rnn/transpose_1:0\", shape=(1, 6, 5), dtype=float32)\n",
      "_states :  Tensor(\"rnn/while/Exit_3:0\", shape=(1, 5), dtype=float32)\n",
      "weights :  Tensor(\"ones:0\", shape=(1, 6), dtype=float32)\n"
     ]
    }
   ],
   "source": [
    "# RNNCell로 지정된 반복 신경망을 만든다.\n",
    "# 내부적으로 __call__() 함수를 호출하여 Time Step 마다 Cell의 복사본을 만들고 서로 연결한다.\n",
    "outputs, _states = tf.nn.dynamic_rnn(basic_cell, X, initial_state=initial_state, dtype=tf.float32)\n",
    "\n",
    "# 모든 요소가 1로 설정된 Tensor를 생성한다.\n",
    "weights = tf.ones([batch_size, sequence_length])"
   ]
  },
  {
   "cell_type": "markdown",
   "metadata": {},
   "source": [
    "#### 5. Cross Entropy 생성"
   ]
  },
  {
   "cell_type": "code",
   "execution_count": 6,
   "metadata": {
    "scrolled": true
   },
   "outputs": [
    {
     "name": "stdout",
     "output_type": "stream",
     "text": [
      "seq_loss :  Tensor(\"sequence_loss/truediv:0\", shape=(), dtype=float32)\n"
     ]
    }
   ],
   "source": [
    "# RNNCell에 대한 Cross Entropy 생성.\n",
    "# 예측값을 넣어준다. 예측값과 실제값이 얼마나 차이나는지 계산\n",
    "seq_loss = tf.contrib.seq2seq.sequence_loss(logits=outputs, targets=Y, weights=weights)"
   ]
  },
  {
   "cell_type": "markdown",
   "metadata": {},
   "source": [
    "#### 6. Optimizer 실행"
   ]
  },
  {
   "cell_type": "code",
   "execution_count": 7,
   "metadata": {},
   "outputs": [
    {
     "name": "stdout",
     "output_type": "stream",
     "text": [
      "loss :  Tensor(\"Mean:0\", shape=(), dtype=float32)\n",
      "train :  name: \"Adam\"\n",
      "op: \"NoOp\"\n",
      "input: \"^Adam/update_rnn/basic_rnn_cell/kernel/ApplyAdam\"\n",
      "input: \"^Adam/update_rnn/basic_rnn_cell/bias/ApplyAdam\"\n",
      "input: \"^Adam/Assign\"\n",
      "input: \"^Adam/Assign_1\"\n",
      "\n"
     ]
    }
   ],
   "source": [
    "# Tensor의 차원에서 요소의 평균 계산.\n",
    "loss = tf.reduce_mean(seq_loss)\n",
    "\n",
    "# Adam 알고리즘을 이용한 최적화 (확률론적 최적화 방법)\n",
    "train = tf.train.AdamOptimizer(learning_rate=learning_rate).minimize(loss)"
   ]
  },
  {
   "cell_type": "markdown",
   "metadata": {},
   "source": [
    "#### 7. 학습 실행"
   ]
  },
  {
   "cell_type": "code",
   "execution_count": 8,
   "metadata": {},
   "outputs": [
    {
     "name": "stdout",
     "output_type": "stream",
     "text": [
      "step =  0 , loss =  1.7799318 , prediction =  [[3 0 3 3 3 3]] , target =  [[1, 0, 2, 3, 3, 4]]\n",
      "\tPrediction =  lhllll\n",
      "step =  400 , loss =  0.4460805 , prediction =  [[1 0 2 3 3 4]] , target =  [[1, 0, 2, 3, 3, 4]]\n",
      "\tPrediction =  ihello\n",
      "step =  800 , loss =  0.44182736 , prediction =  [[1 0 2 3 3 4]] , target =  [[1, 0, 2, 3, 3, 4]]\n",
      "\tPrediction =  ihello\n",
      "step =  1200 , loss =  0.4400568 , prediction =  [[1 0 2 3 3 4]] , target =  [[1, 0, 2, 3, 3, 4]]\n",
      "\tPrediction =  ihello\n",
      "step =  1600 , loss =  0.4389721 , prediction =  [[1 0 2 3 3 4]] , target =  [[1, 0, 2, 3, 3, 4]]\n",
      "\tPrediction =  ihello\n",
      "step =  2000 , loss =  0.438248 , prediction =  [[1 0 2 3 3 4]] , target =  [[1, 0, 2, 3, 3, 4]]\n",
      "\tPrediction =  ihello\n"
     ]
    }
   ],
   "source": [
    "# tf.argmax(a, 0), 1차원 배열에서 가장 큰 값을 찾아 인덱스를 리턴.\n",
    "y = prediction = tf.argmax(outputs, axis=2)\n",
    "\n",
    "# tf.Session(), 파이썬 객체와 데이터, 객체의 메모리가 할당되어 있는 실행 환경 사이를 연결.\n",
    "with tf.Session() as sess:\n",
    "    \n",
    "    # Tensor Flow 변수 초기화 \n",
    "    sess.run(tf.global_variables_initializer())\n",
    "    \n",
    "    for step in range(2001):\n",
    "        \n",
    "        # 학습 연산 수행\n",
    "        loss_val, _ = sess.run([loss, train], feed_dict={X: x_one_hot, Y: y_data})\n",
    "        result = sess.run(y, feed_dict={X: x_one_hot})\n",
    "        \n",
    "        if step % 400 ==0:\n",
    "            print(\"step = \", step, \", loss = \", loss_val, \", prediction = \", result, \", target = \", y_data)\n",
    "\n",
    "            # 예측된 문자열\n",
    "            result_str = [idx2char[c] for c in np.squeeze(result)]\n",
    "            \n",
    "            print(\"\\tPrediction = \", ''.join(result_str))"
   ]
  },
  {
   "cell_type": "code",
   "execution_count": null,
   "metadata": {},
   "outputs": [],
   "source": []
  }
 ],
 "metadata": {
  "kernelspec": {
   "display_name": "Python 3",
   "language": "python",
   "name": "python3"
  },
  "language_info": {
   "codemirror_mode": {
    "name": "ipython",
    "version": 3
   },
   "file_extension": ".py",
   "mimetype": "text/x-python",
   "name": "python",
   "nbconvert_exporter": "python",
   "pygments_lexer": "ipython3",
   "version": "3.7.3"
  }
 },
 "nbformat": 4,
 "nbformat_minor": 2
}
