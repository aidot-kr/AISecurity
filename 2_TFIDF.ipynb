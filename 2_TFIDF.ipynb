{
  "nbformat": 4,
  "nbformat_minor": 0,
  "metadata": {
    "kernelspec": {
      "display_name": "Python 3",
      "language": "python",
      "name": "python3"
    },
    "language_info": {
      "codemirror_mode": {
        "name": "ipython",
        "version": 3
      },
      "file_extension": ".py",
      "mimetype": "text/x-python",
      "name": "python",
      "nbconvert_exporter": "python",
      "pygments_lexer": "ipython3",
      "version": "3.7.5"
    },
    "colab": {
      "provenance": [],
      "include_colab_link": true
    }
  },
  "cells": [
    {
      "cell_type": "markdown",
      "metadata": {
        "id": "view-in-github",
        "colab_type": "text"
      },
      "source": [
        "<a href=\"https://colab.research.google.com/github/aidot-kr/AISecurity/blob/master/2_TFIDF.ipynb\" target=\"_parent\"><img src=\"https://colab.research.google.com/assets/colab-badge.svg\" alt=\"Open In Colab\"/></a>"
      ]
    },
    {
      "cell_type": "markdown",
      "metadata": {
        "id": "APvYMGeuc2-7"
      },
      "source": [
        "# 텍스트 데이터 수집 및 TF/IDF 분석\n",
        " - 무료로 수집가능한 Corpus : http://www.nltk.org/howto/corpus.html\n",
        "\n",
        "* 말뭉치(Corpus)의 사용사례\n",
        " - NLTK(Natural Language Toolkit)패키지는 실무 및 연구용을 활용이 가능한 자연어 처리 패키지\n",
        " - 말뭉치, 토큰 생성, 형태소 분석, 품사 태깅에 사용할 수 있음\n",
        "\n",
        "* NLTK 말뭉치 유형 예시\n",
        " - brown : 약 100만 단어의 묶음 샘플로 브라운대학교에서 표준적 영어문장을 정리함\n",
        " - gutenberg : 저작권이 말소된 문학작품의 샘플\n",
        " - names : 8000개의 남성과 여성의 이름 리스트\n",
        " - words : 가장 빈번하게 사용하는 영어 단어 23만 5000개\n",
        " - stopwords : 14개 유형의 언어가 지원되며, 가장 일반적인 불용어(stop word) 리스트"
      ]
    },
    {
      "cell_type": "markdown",
      "metadata": {
        "id": "HKJbQJdBc2-8"
      },
      "source": [
        "# NLTK에서 제공되는 말뭉치(Corpus)를 조회하고, \"영화리뷰\"와 관련된 말뭉치를 다운"
      ]
    },
    {
      "cell_type": "code",
      "metadata": {
        "scrolled": false,
        "id": "V6W41gAgc2-9",
        "colab": {
          "base_uri": "https://localhost:8080/"
        },
        "outputId": "3ef4bb91-a3f6-4467-ad28-4a03a968008c"
      },
      "source": [
        "import nltk.corpus\n",
        "\n",
        "print(dir(nltk.corpus))\n",
        "nltk.download(\"movie_reviews\", quiet=True)"
      ],
      "execution_count": 27,
      "outputs": [
        {
          "output_type": "stream",
          "name": "stdout",
          "text": [
            "['AlignedCorpusReader', 'AlpinoCorpusReader', 'BCP47CorpusReader', 'BNCCorpusReader', 'BracketParseCorpusReader', 'CHILDESCorpusReader', 'CMUDictCorpusReader', 'CategorizedBracketParseCorpusReader', 'CategorizedCorpusReader', 'CategorizedPlaintextCorpusReader', 'CategorizedSentencesCorpusReader', 'CategorizedTaggedCorpusReader', 'ChasenCorpusReader', 'ChunkedCorpusReader', 'ComparativeSentencesCorpusReader', 'ConllChunkCorpusReader', 'ConllCorpusReader', 'CorpusReader', 'CrubadanCorpusReader', 'DependencyCorpusReader', 'EuroparlCorpusReader', 'FramenetCorpusReader', 'IEERCorpusReader', 'IPIPANCorpusReader', 'IndianCorpusReader', 'KNBCorpusReader', 'LazyCorpusLoader', 'LinThesaurusCorpusReader', 'MTECorpusReader', 'MWAPPDBCorpusReader', 'MacMorphoCorpusReader', 'NKJPCorpusReader', 'NPSChatCorpusReader', 'NombankCorpusReader', 'NonbreakingPrefixesCorpusReader', 'OpinionLexiconCorpusReader', 'PPAttachmentCorpusReader', 'PanLexLiteCorpusReader', 'PanlexSwadeshCorpusReader', 'Pl196xCorpusReader', 'PlaintextCorpusReader', 'PortugueseCategorizedPlaintextCorpusReader', 'PropbankCorpusReader', 'ProsConsCorpusReader', 'RTECorpusReader', 'RegexpTokenizer', 'ReviewsCorpusReader', 'SemcorCorpusReader', 'SensevalCorpusReader', 'SentiSynset', 'SentiWordNetCorpusReader', 'SinicaTreebankCorpusReader', 'StringCategoryCorpusReader', 'SwadeshCorpusReader', 'SwitchboardCorpusReader', 'SyntaxCorpusReader', 'TEICorpusView', 'TaggedCorpusReader', 'TimitCorpusReader', 'TimitTaggedCorpusReader', 'ToolboxCorpusReader', 'TwitterCorpusReader', 'UdhrCorpusReader', 'UnicharsCorpusReader', 'VerbnetCorpusReader', 'WordListCorpusReader', 'WordNetCorpusReader', 'WordNetICCorpusReader', 'XMLCorpusReader', 'YCOECorpusReader', '__annotations__', '__builtins__', '__cached__', '__doc__', '__file__', '__loader__', '__name__', '__package__', '__path__', '__spec__', 'abc', 'alpino', 'bcp47', 'brown', 'cess_cat', 'cess_esp', 'cmudict', 'comparative_sentences', 'comtrans', 'conll2000', 'conll2002', 'conll2007', 'crubadan', 'demo', 'dependency_treebank', 'extended_omw', 'find_corpus_fileids', 'floresta', 'framenet', 'framenet15', 'gazetteers', 'genesis', 'gutenberg', 'ieer', 'inaugural', 'indian', 'jeita', 'knbc', 'lin_thesaurus', 'mac_morpho', 'machado', 'masc_tagged', 'movie_reviews', 'multext_east', 'names', 'nombank', 'nombank_ptb', 'nonbreaking_prefixes', 'nps_chat', 'opinion_lexicon', 'perluniprops', 'ppattach', 'product_reviews_1', 'product_reviews_2', 'propbank', 'propbank_ptb', 'pros_cons', 'ptb', 'qc', 're', 'reader', 'reuters', 'rte', 'semcor', 'senseval', 'sentence_polarity', 'sentiwordnet', 'shakespeare', 'sinica_treebank', 'state_union', 'stopwords', 'subjectivity', 'swadesh', 'swadesh110', 'swadesh207', 'switchboard', 'tagged_treebank_para_block_reader', 'timit', 'timit_tagged', 'toolbox', 'treebank', 'treebank_chunk', 'treebank_raw', 'twitter_samples', 'udhr', 'udhr2', 'universal_treebanks', 'util', 'verbnet', 'webtext', 'wordnet', 'wordnet2021', 'wordnet31', 'wordnet_ic', 'words']\n"
          ]
        },
        {
          "output_type": "execute_result",
          "data": {
            "text/plain": [
              "True"
            ]
          },
          "metadata": {},
          "execution_count": 27
        }
      ]
    },
    {
      "cell_type": "markdown",
      "metadata": {
        "id": "newdvvo4c2_A"
      },
      "source": [
        "# 영화리뷰 코퍼스의 파일 리스트 확인"
      ]
    },
    {
      "cell_type": "code",
      "metadata": {
        "id": "DepofMmrc2_A",
        "colab": {
          "base_uri": "https://localhost:8080/"
        },
        "outputId": "52c31708-693b-43b9-b3a0-cf44772271e0"
      },
      "source": [
        "fileList = nltk.corpus.movie_reviews.fileids()\n",
        "len(fileList)\n",
        "fileList[:5]"
      ],
      "execution_count": 28,
      "outputs": [
        {
          "output_type": "execute_result",
          "data": {
            "text/plain": [
              "['neg/cv000_29416.txt',\n",
              " 'neg/cv001_19502.txt',\n",
              " 'neg/cv002_17424.txt',\n",
              " 'neg/cv003_12683.txt',\n",
              " 'neg/cv004_12641.txt']"
            ]
          },
          "metadata": {},
          "execution_count": 28
        }
      ]
    },
    {
      "cell_type": "markdown",
      "metadata": {
        "id": "e_n7YCnBc2_C"
      },
      "source": [
        "* 전체 영화리뷰 목록 중 부정적 리뷰의견 조회"
      ]
    },
    {
      "cell_type": "code",
      "metadata": {
        "scrolled": true,
        "id": "aDxudEIPc2_D",
        "colab": {
          "base_uri": "https://localhost:8080/"
        },
        "outputId": "170e7fe9-1536-4527-983d-31d6a0b8706f"
      },
      "source": [
        "review_txt1 = nltk.corpus.movie_reviews.raw(\"neg/cv000_29416.txt\")\n",
        "print(review_txt1[:4043])"
      ],
      "execution_count": 29,
      "outputs": [
        {
          "output_type": "stream",
          "name": "stdout",
          "text": [
            "plot : two teen couples go to a church party , drink and then drive . \n",
            "they get into an accident . \n",
            "one of the guys dies , but his girlfriend continues to see him in her life , and has nightmares . \n",
            "what's the deal ? \n",
            "watch the movie and \" sorta \" find out . . . \n",
            "critique : a mind-fuck movie for the teen generation that touches on a very cool idea , but presents it in a very bad package . \n",
            "which is what makes this review an even harder one to write , since i generally applaud films which attempt to break the mold , mess with your head and such ( lost highway & memento ) , but there are good and bad ways of making all types of films , and these folks just didn't snag this one correctly . \n",
            "they seem to have taken this pretty neat concept , but executed it terribly . \n",
            "so what are the problems with the movie ? \n",
            "well , its main problem is that it's simply too jumbled . \n",
            "it starts off \" normal \" but then downshifts into this \" fantasy \" world in which you , as an audience member , have no idea what's going on . \n",
            "there are dreams , there are characters coming back from the dead , there are others who look like the dead , there are strange apparitions , there are disappearances , there are a looooot of chase scenes , there are tons of weird things that happen , and most of it is simply not explained . \n",
            "now i personally don't mind trying to unravel a film every now and then , but when all it does is give me the same clue over and over again , i get kind of fed up after a while , which is this film's biggest problem . \n",
            "it's obviously got this big secret to hide , but it seems to want to hide it completely until its final five minutes . \n",
            "and do they make things entertaining , thrilling or even engaging , in the meantime ? \n",
            "not really . \n",
            "the sad part is that the arrow and i both dig on flicks like this , so we actually figured most of it out by the half-way point , so all of the strangeness after that did start to make a little bit of sense , but it still didn't the make the film all that more entertaining . \n",
            "i guess the bottom line with movies like this is that you should always make sure that the audience is \" into it \" even before they are given the secret password to enter your world of understanding . \n",
            "i mean , showing melissa sagemiller running away from visions for about 20 minutes throughout the movie is just plain lazy ! ! \n",
            "okay , we get it . . . there \n",
            "are people chasing her and we don't know who they are . \n",
            "do we really need to see it over and over again ? \n",
            "how about giving us different scenes offering further insight into all of the strangeness going down in the movie ? \n",
            "apparently , the studio took this film away from its director and chopped it up themselves , and it shows . \n",
            "there might've been a pretty decent teen mind-fuck movie in here somewhere , but i guess \" the suits \" decided that turning it into a music video with little edge , would make more sense . \n",
            "the actors are pretty good for the most part , although wes bentley just seemed to be playing the exact same character that he did in american beauty , only in a new neighborhood . \n",
            "but my biggest kudos go out to sagemiller , who holds her own throughout the entire film , and actually has you feeling her character's unraveling . \n",
            "overall , the film doesn't stick because it doesn't entertain , it's confusing , it rarely excites and it feels pretty redundant for most of its runtime , despite a pretty cool ending and explanation to all of the craziness that came before it . \n",
            "oh , and by the way , this is not a horror or teen slasher flick . . . it's \n",
            "just packaged to look that way because someone is apparently assuming that the genre is still hot with the kids . \n",
            "it also wrapped production two years ago and has been sitting on the shelves ever since . \n",
            "whatever . . . skip \n",
            "it ! \n",
            "where's joblo coming from ? \n",
            "a nightmare of elm street 3 ( 7/10 ) - blair witch 2 ( 7/10 ) - the crow ( 9/10 ) - the crow : salvation ( 4/10 ) - lost highway ( 10/10 ) - memento ( 10/10 ) - the others ( 9/10 ) - stir of echoes ( 8/10 ) \n",
            "\n"
          ]
        }
      ]
    },
    {
      "cell_type": "markdown",
      "metadata": {
        "id": "Qi0QdIY7c2_F"
      },
      "source": [
        "# 모델기반의 클러스터링을 위해 TF-IDF를 사용하는 예제\n",
        " - Python을 활용하여 TF 계산"
      ]
    },
    {
      "cell_type": "code",
      "metadata": {
        "id": "4zeKkwcmc2_F",
        "colab": {
          "base_uri": "https://localhost:8080/"
        },
        "outputId": "7d0917d7-6a53-48bc-f733-34a0d65f39dd"
      },
      "source": [
        "# 말뭉치(Corpus)를 통합하여 단어집합 구성\n",
        "import pandas as pd\n",
        "import math\n",
        "\n",
        "# 분석을 위해 수집된 말뭉치(Corpus)를 입력\n",
        "text_corpus = ['여기는 나의 작업 공간이며 나는 작업 중이다', '나는 그 작업 공간에 있다', '내일도 퇴사준비 작업 예정이다' ]\n",
        "\n",
        "# 각각의 문서에서 단어를 추출\n",
        "text1_list = text_corpus[0].split(\" \")\n",
        "text2_list = text_corpus[1].split(\" \")\n",
        "text3_list = text_corpus[2].split(\" \")\n",
        "\n",
        "# 공통적으로 중복된 단어를 제거, 제거전 15개의 단어\n",
        "doc_set= set(text1_list).union(set(text2_list)).union(set(text3_list))\n",
        "\n",
        "# 4개의 중복 단어를 제거하고 14개의 단어집합(Set) 구성\n",
        "print(doc_set)"
      ],
      "execution_count": 30,
      "outputs": [
        {
          "output_type": "stream",
          "name": "stdout",
          "text": [
            "{'나는', '예정이다', '나의', '있다', '공간이며', '작업', '공간에', '그', '내일도', '중이다', '퇴사준비', '여기는'}\n"
          ]
        }
      ]
    },
    {
      "cell_type": "code",
      "metadata": {
        "colab": {
          "base_uri": "https://localhost:8080/"
        },
        "id": "Kwn7Doa6Ro8P",
        "outputId": "20a23a53-9b98-4741-dc1d-582aecbfd64c"
      },
      "source": [
        "print(text_corpus[0])"
      ],
      "execution_count": 31,
      "outputs": [
        {
          "output_type": "stream",
          "name": "stdout",
          "text": [
            "여기는 나의 작업 공간이며 나는 작업 중이다\n"
          ]
        }
      ]
    },
    {
      "cell_type": "markdown",
      "metadata": {
        "id": "rt6jp9SBc2_I"
      },
      "source": [
        " - doc_set의 전체 단어집합을 딕셔너리를 생성하며 값은 모두 0으로 저장하고, 빈도 추가"
      ]
    },
    {
      "cell_type": "code",
      "metadata": {
        "id": "7ogR0UXHc2_J",
        "colab": {
          "base_uri": "https://localhost:8080/"
        },
        "outputId": "0f09bdc3-e4a5-4b64-f60e-f846bc3b1103"
      },
      "source": [
        "# dict.fromkeys는 키가 들어있는 리스트를 넣으면 딕셔너리를 생성\n",
        "text1_dict = dict.fromkeys(doc_set, 0)\n",
        "text2_dict = dict.fromkeys(doc_set, 0)\n",
        "text3_dict = dict.fromkeys(doc_set, 0)\n",
        "\n",
        "# 딕셔너리는 키-값을 쌍으로 관리 용이\n",
        "print(text1_dict)\n",
        "print(text1_dict['공간이며'])"
      ],
      "execution_count": 32,
      "outputs": [
        {
          "output_type": "stream",
          "name": "stdout",
          "text": [
            "{'나는': 0, '예정이다': 0, '나의': 0, '있다': 0, '공간이며': 0, '작업': 0, '공간에': 0, '그': 0, '내일도': 0, '중이다': 0, '퇴사준비': 0, '여기는': 0}\n",
            "0\n"
          ]
        }
      ]
    },
    {
      "cell_type": "code",
      "metadata": {
        "id": "FF38J-2Ec2_L",
        "colab": {
          "base_uri": "https://localhost:8080/"
        },
        "outputId": "f5d6691b-9d25-4a25-d1a2-2ffe3c579f9c"
      },
      "source": [
        "# 문서별로 해당 단어가 확인되면 리스트의 값을 1개씩 증가\n",
        "for text_word in text1_list:\n",
        "    text1_dict[text_word]+=1\n",
        "\n",
        "for text_word in text2_list:\n",
        "    text2_dict[text_word]+=1\n",
        "\n",
        "for text_word in text3_list:\n",
        "    text3_dict[text_word]+=1\n",
        "\n",
        "print(text1_dict)"
      ],
      "execution_count": 33,
      "outputs": [
        {
          "output_type": "stream",
          "name": "stdout",
          "text": [
            "{'나는': 1, '예정이다': 0, '나의': 1, '있다': 0, '공간이며': 1, '작업': 2, '공간에': 0, '그': 0, '내일도': 0, '중이다': 1, '퇴사준비': 0, '여기는': 1}\n"
          ]
        }
      ]
    },
    {
      "cell_type": "code",
      "metadata": {
        "id": "UO3L_dw9c2_N",
        "colab": {
          "base_uri": "https://localhost:8080/",
          "height": 143
        },
        "outputId": "043fcf47-7e4f-4a1a-8809-beb9b87967aa"
      },
      "source": [
        "# 문서별 단어빈도가 확인 리스트를 하나의 데이터프레임으로 합산\n",
        "pd.DataFrame([text1_dict, text2_dict, text3_dict])"
      ],
      "execution_count": 34,
      "outputs": [
        {
          "output_type": "execute_result",
          "data": {
            "text/plain": [
              "   나는  예정이다  나의  있다  공간이며  작업  공간에  그  내일도  중이다  퇴사준비  여기는\n",
              "0   1     0   1   0     1   2    0  0    0    1     0    1\n",
              "1   1     0   0   1     0   1    1  1    0    0     0    0\n",
              "2   0     1   0   0     0   1    0  0    1    0     1    0"
            ],
            "text/html": [
              "\n",
              "  <div id=\"df-da565f43-6e75-43d7-8260-2e1e2c37a9c5\">\n",
              "    <div class=\"colab-df-container\">\n",
              "      <div>\n",
              "<style scoped>\n",
              "    .dataframe tbody tr th:only-of-type {\n",
              "        vertical-align: middle;\n",
              "    }\n",
              "\n",
              "    .dataframe tbody tr th {\n",
              "        vertical-align: top;\n",
              "    }\n",
              "\n",
              "    .dataframe thead th {\n",
              "        text-align: right;\n",
              "    }\n",
              "</style>\n",
              "<table border=\"1\" class=\"dataframe\">\n",
              "  <thead>\n",
              "    <tr style=\"text-align: right;\">\n",
              "      <th></th>\n",
              "      <th>나는</th>\n",
              "      <th>예정이다</th>\n",
              "      <th>나의</th>\n",
              "      <th>있다</th>\n",
              "      <th>공간이며</th>\n",
              "      <th>작업</th>\n",
              "      <th>공간에</th>\n",
              "      <th>그</th>\n",
              "      <th>내일도</th>\n",
              "      <th>중이다</th>\n",
              "      <th>퇴사준비</th>\n",
              "      <th>여기는</th>\n",
              "    </tr>\n",
              "  </thead>\n",
              "  <tbody>\n",
              "    <tr>\n",
              "      <th>0</th>\n",
              "      <td>1</td>\n",
              "      <td>0</td>\n",
              "      <td>1</td>\n",
              "      <td>0</td>\n",
              "      <td>1</td>\n",
              "      <td>2</td>\n",
              "      <td>0</td>\n",
              "      <td>0</td>\n",
              "      <td>0</td>\n",
              "      <td>1</td>\n",
              "      <td>0</td>\n",
              "      <td>1</td>\n",
              "    </tr>\n",
              "    <tr>\n",
              "      <th>1</th>\n",
              "      <td>1</td>\n",
              "      <td>0</td>\n",
              "      <td>0</td>\n",
              "      <td>1</td>\n",
              "      <td>0</td>\n",
              "      <td>1</td>\n",
              "      <td>1</td>\n",
              "      <td>1</td>\n",
              "      <td>0</td>\n",
              "      <td>0</td>\n",
              "      <td>0</td>\n",
              "      <td>0</td>\n",
              "    </tr>\n",
              "    <tr>\n",
              "      <th>2</th>\n",
              "      <td>0</td>\n",
              "      <td>1</td>\n",
              "      <td>0</td>\n",
              "      <td>0</td>\n",
              "      <td>0</td>\n",
              "      <td>1</td>\n",
              "      <td>0</td>\n",
              "      <td>0</td>\n",
              "      <td>1</td>\n",
              "      <td>0</td>\n",
              "      <td>1</td>\n",
              "      <td>0</td>\n",
              "    </tr>\n",
              "  </tbody>\n",
              "</table>\n",
              "</div>\n",
              "      <button class=\"colab-df-convert\" onclick=\"convertToInteractive('df-da565f43-6e75-43d7-8260-2e1e2c37a9c5')\"\n",
              "              title=\"Convert this dataframe to an interactive table.\"\n",
              "              style=\"display:none;\">\n",
              "        \n",
              "  <svg xmlns=\"http://www.w3.org/2000/svg\" height=\"24px\"viewBox=\"0 0 24 24\"\n",
              "       width=\"24px\">\n",
              "    <path d=\"M0 0h24v24H0V0z\" fill=\"none\"/>\n",
              "    <path d=\"M18.56 5.44l.94 2.06.94-2.06 2.06-.94-2.06-.94-.94-2.06-.94 2.06-2.06.94zm-11 1L8.5 8.5l.94-2.06 2.06-.94-2.06-.94L8.5 2.5l-.94 2.06-2.06.94zm10 10l.94 2.06.94-2.06 2.06-.94-2.06-.94-.94-2.06-.94 2.06-2.06.94z\"/><path d=\"M17.41 7.96l-1.37-1.37c-.4-.4-.92-.59-1.43-.59-.52 0-1.04.2-1.43.59L10.3 9.45l-7.72 7.72c-.78.78-.78 2.05 0 2.83L4 21.41c.39.39.9.59 1.41.59.51 0 1.02-.2 1.41-.59l7.78-7.78 2.81-2.81c.8-.78.8-2.07 0-2.86zM5.41 20L4 18.59l7.72-7.72 1.47 1.35L5.41 20z\"/>\n",
              "  </svg>\n",
              "      </button>\n",
              "      \n",
              "  <style>\n",
              "    .colab-df-container {\n",
              "      display:flex;\n",
              "      flex-wrap:wrap;\n",
              "      gap: 12px;\n",
              "    }\n",
              "\n",
              "    .colab-df-convert {\n",
              "      background-color: #E8F0FE;\n",
              "      border: none;\n",
              "      border-radius: 50%;\n",
              "      cursor: pointer;\n",
              "      display: none;\n",
              "      fill: #1967D2;\n",
              "      height: 32px;\n",
              "      padding: 0 0 0 0;\n",
              "      width: 32px;\n",
              "    }\n",
              "\n",
              "    .colab-df-convert:hover {\n",
              "      background-color: #E2EBFA;\n",
              "      box-shadow: 0px 1px 2px rgba(60, 64, 67, 0.3), 0px 1px 3px 1px rgba(60, 64, 67, 0.15);\n",
              "      fill: #174EA6;\n",
              "    }\n",
              "\n",
              "    [theme=dark] .colab-df-convert {\n",
              "      background-color: #3B4455;\n",
              "      fill: #D2E3FC;\n",
              "    }\n",
              "\n",
              "    [theme=dark] .colab-df-convert:hover {\n",
              "      background-color: #434B5C;\n",
              "      box-shadow: 0px 1px 3px 1px rgba(0, 0, 0, 0.15);\n",
              "      filter: drop-shadow(0px 1px 2px rgba(0, 0, 0, 0.3));\n",
              "      fill: #FFFFFF;\n",
              "    }\n",
              "  </style>\n",
              "\n",
              "      <script>\n",
              "        const buttonEl =\n",
              "          document.querySelector('#df-da565f43-6e75-43d7-8260-2e1e2c37a9c5 button.colab-df-convert');\n",
              "        buttonEl.style.display =\n",
              "          google.colab.kernel.accessAllowed ? 'block' : 'none';\n",
              "\n",
              "        async function convertToInteractive(key) {\n",
              "          const element = document.querySelector('#df-da565f43-6e75-43d7-8260-2e1e2c37a9c5');\n",
              "          const dataTable =\n",
              "            await google.colab.kernel.invokeFunction('convertToInteractive',\n",
              "                                                     [key], {});\n",
              "          if (!dataTable) return;\n",
              "\n",
              "          const docLinkHtml = 'Like what you see? Visit the ' +\n",
              "            '<a target=\"_blank\" href=https://colab.research.google.com/notebooks/data_table.ipynb>data table notebook</a>'\n",
              "            + ' to learn more about interactive tables.';\n",
              "          element.innerHTML = '';\n",
              "          dataTable['output_type'] = 'display_data';\n",
              "          await google.colab.output.renderOutput(dataTable, element);\n",
              "          const docLink = document.createElement('div');\n",
              "          docLink.innerHTML = docLinkHtml;\n",
              "          element.appendChild(docLink);\n",
              "        }\n",
              "      </script>\n",
              "    </div>\n",
              "  </div>\n",
              "  "
            ]
          },
          "metadata": {},
          "execution_count": 34
        }
      ]
    },
    {
      "cell_type": "markdown",
      "metadata": {
        "id": "NU-K3L2mc2_P"
      },
      "source": [
        "* 문서 중에서의 출현 빈도를 출현비율로 변경\n",
        "  - TF는 각 문서에서의 해당 단어의 빈도로 계산\n",
        "  - 해당 단어 개수 / 해당 문서 전체 단어 개수"
      ]
    },
    {
      "cell_type": "code",
      "metadata": {
        "id": "R4G5Kvibc2_P",
        "colab": {
          "base_uri": "https://localhost:8080/",
          "height": 180
        },
        "outputId": "eabcef06-3833-4760-f5ae-16cd42f85cd9"
      },
      "source": [
        "# TF를 구하기 위한 함수 정의\n",
        "def getTF(temp_dic, temp_list):\n",
        "    tfDict = {}\n",
        "    wordCnt = len(temp_list)\n",
        "    for word_str, count in temp_dic.items():\n",
        "        tfDict[word_str] = count/float(wordCnt)\n",
        "        #print(word_str)\n",
        "        #print(count)\n",
        "    return tfDict\n",
        "\n",
        "# TF함수를 사용하여 각 문서 단어별 TF를 계산\n",
        "text1_tfDict = getTF(text1_dict, text1_list)\n",
        "text2_tfDict = getTF(text2_dict, text2_list)\n",
        "text3_tfDict = getTF(text3_dict, text3_list)\n",
        "\n",
        "print(text1_dict)\n",
        "print(text1_list)\n",
        "\n",
        "# 전체 문서를 표형태의 데이터프레임으로 표현\n",
        "tf_df= pd.DataFrame([text1_tfDict, text2_tfDict, text3_tfDict])\n",
        "tf_df"
      ],
      "execution_count": 35,
      "outputs": [
        {
          "output_type": "stream",
          "name": "stdout",
          "text": [
            "{'나는': 1, '예정이다': 0, '나의': 1, '있다': 0, '공간이며': 1, '작업': 2, '공간에': 0, '그': 0, '내일도': 0, '중이다': 1, '퇴사준비': 0, '여기는': 1}\n",
            "['여기는', '나의', '작업', '공간이며', '나는', '작업', '중이다']\n"
          ]
        },
        {
          "output_type": "execute_result",
          "data": {
            "text/plain": [
              "         나는  예정이다        나의   있다      공간이며        작업  공간에    그   내일도  \\\n",
              "0  0.142857  0.00  0.142857  0.0  0.142857  0.285714  0.0  0.0  0.00   \n",
              "1  0.200000  0.00  0.000000  0.2  0.000000  0.200000  0.2  0.2  0.00   \n",
              "2  0.000000  0.25  0.000000  0.0  0.000000  0.250000  0.0  0.0  0.25   \n",
              "\n",
              "        중이다  퇴사준비       여기는  \n",
              "0  0.142857  0.00  0.142857  \n",
              "1  0.000000  0.00  0.000000  \n",
              "2  0.000000  0.25  0.000000  "
            ],
            "text/html": [
              "\n",
              "  <div id=\"df-7fe3cc13-ce3b-4b01-956e-432b25355925\">\n",
              "    <div class=\"colab-df-container\">\n",
              "      <div>\n",
              "<style scoped>\n",
              "    .dataframe tbody tr th:only-of-type {\n",
              "        vertical-align: middle;\n",
              "    }\n",
              "\n",
              "    .dataframe tbody tr th {\n",
              "        vertical-align: top;\n",
              "    }\n",
              "\n",
              "    .dataframe thead th {\n",
              "        text-align: right;\n",
              "    }\n",
              "</style>\n",
              "<table border=\"1\" class=\"dataframe\">\n",
              "  <thead>\n",
              "    <tr style=\"text-align: right;\">\n",
              "      <th></th>\n",
              "      <th>나는</th>\n",
              "      <th>예정이다</th>\n",
              "      <th>나의</th>\n",
              "      <th>있다</th>\n",
              "      <th>공간이며</th>\n",
              "      <th>작업</th>\n",
              "      <th>공간에</th>\n",
              "      <th>그</th>\n",
              "      <th>내일도</th>\n",
              "      <th>중이다</th>\n",
              "      <th>퇴사준비</th>\n",
              "      <th>여기는</th>\n",
              "    </tr>\n",
              "  </thead>\n",
              "  <tbody>\n",
              "    <tr>\n",
              "      <th>0</th>\n",
              "      <td>0.142857</td>\n",
              "      <td>0.00</td>\n",
              "      <td>0.142857</td>\n",
              "      <td>0.0</td>\n",
              "      <td>0.142857</td>\n",
              "      <td>0.285714</td>\n",
              "      <td>0.0</td>\n",
              "      <td>0.0</td>\n",
              "      <td>0.00</td>\n",
              "      <td>0.142857</td>\n",
              "      <td>0.00</td>\n",
              "      <td>0.142857</td>\n",
              "    </tr>\n",
              "    <tr>\n",
              "      <th>1</th>\n",
              "      <td>0.200000</td>\n",
              "      <td>0.00</td>\n",
              "      <td>0.000000</td>\n",
              "      <td>0.2</td>\n",
              "      <td>0.000000</td>\n",
              "      <td>0.200000</td>\n",
              "      <td>0.2</td>\n",
              "      <td>0.2</td>\n",
              "      <td>0.00</td>\n",
              "      <td>0.000000</td>\n",
              "      <td>0.00</td>\n",
              "      <td>0.000000</td>\n",
              "    </tr>\n",
              "    <tr>\n",
              "      <th>2</th>\n",
              "      <td>0.000000</td>\n",
              "      <td>0.25</td>\n",
              "      <td>0.000000</td>\n",
              "      <td>0.0</td>\n",
              "      <td>0.000000</td>\n",
              "      <td>0.250000</td>\n",
              "      <td>0.0</td>\n",
              "      <td>0.0</td>\n",
              "      <td>0.25</td>\n",
              "      <td>0.000000</td>\n",
              "      <td>0.25</td>\n",
              "      <td>0.000000</td>\n",
              "    </tr>\n",
              "  </tbody>\n",
              "</table>\n",
              "</div>\n",
              "      <button class=\"colab-df-convert\" onclick=\"convertToInteractive('df-7fe3cc13-ce3b-4b01-956e-432b25355925')\"\n",
              "              title=\"Convert this dataframe to an interactive table.\"\n",
              "              style=\"display:none;\">\n",
              "        \n",
              "  <svg xmlns=\"http://www.w3.org/2000/svg\" height=\"24px\"viewBox=\"0 0 24 24\"\n",
              "       width=\"24px\">\n",
              "    <path d=\"M0 0h24v24H0V0z\" fill=\"none\"/>\n",
              "    <path d=\"M18.56 5.44l.94 2.06.94-2.06 2.06-.94-2.06-.94-.94-2.06-.94 2.06-2.06.94zm-11 1L8.5 8.5l.94-2.06 2.06-.94-2.06-.94L8.5 2.5l-.94 2.06-2.06.94zm10 10l.94 2.06.94-2.06 2.06-.94-2.06-.94-.94-2.06-.94 2.06-2.06.94z\"/><path d=\"M17.41 7.96l-1.37-1.37c-.4-.4-.92-.59-1.43-.59-.52 0-1.04.2-1.43.59L10.3 9.45l-7.72 7.72c-.78.78-.78 2.05 0 2.83L4 21.41c.39.39.9.59 1.41.59.51 0 1.02-.2 1.41-.59l7.78-7.78 2.81-2.81c.8-.78.8-2.07 0-2.86zM5.41 20L4 18.59l7.72-7.72 1.47 1.35L5.41 20z\"/>\n",
              "  </svg>\n",
              "      </button>\n",
              "      \n",
              "  <style>\n",
              "    .colab-df-container {\n",
              "      display:flex;\n",
              "      flex-wrap:wrap;\n",
              "      gap: 12px;\n",
              "    }\n",
              "\n",
              "    .colab-df-convert {\n",
              "      background-color: #E8F0FE;\n",
              "      border: none;\n",
              "      border-radius: 50%;\n",
              "      cursor: pointer;\n",
              "      display: none;\n",
              "      fill: #1967D2;\n",
              "      height: 32px;\n",
              "      padding: 0 0 0 0;\n",
              "      width: 32px;\n",
              "    }\n",
              "\n",
              "    .colab-df-convert:hover {\n",
              "      background-color: #E2EBFA;\n",
              "      box-shadow: 0px 1px 2px rgba(60, 64, 67, 0.3), 0px 1px 3px 1px rgba(60, 64, 67, 0.15);\n",
              "      fill: #174EA6;\n",
              "    }\n",
              "\n",
              "    [theme=dark] .colab-df-convert {\n",
              "      background-color: #3B4455;\n",
              "      fill: #D2E3FC;\n",
              "    }\n",
              "\n",
              "    [theme=dark] .colab-df-convert:hover {\n",
              "      background-color: #434B5C;\n",
              "      box-shadow: 0px 1px 3px 1px rgba(0, 0, 0, 0.15);\n",
              "      filter: drop-shadow(0px 1px 2px rgba(0, 0, 0, 0.3));\n",
              "      fill: #FFFFFF;\n",
              "    }\n",
              "  </style>\n",
              "\n",
              "      <script>\n",
              "        const buttonEl =\n",
              "          document.querySelector('#df-7fe3cc13-ce3b-4b01-956e-432b25355925 button.colab-df-convert');\n",
              "        buttonEl.style.display =\n",
              "          google.colab.kernel.accessAllowed ? 'block' : 'none';\n",
              "\n",
              "        async function convertToInteractive(key) {\n",
              "          const element = document.querySelector('#df-7fe3cc13-ce3b-4b01-956e-432b25355925');\n",
              "          const dataTable =\n",
              "            await google.colab.kernel.invokeFunction('convertToInteractive',\n",
              "                                                     [key], {});\n",
              "          if (!dataTable) return;\n",
              "\n",
              "          const docLinkHtml = 'Like what you see? Visit the ' +\n",
              "            '<a target=\"_blank\" href=https://colab.research.google.com/notebooks/data_table.ipynb>data table notebook</a>'\n",
              "            + ' to learn more about interactive tables.';\n",
              "          element.innerHTML = '';\n",
              "          dataTable['output_type'] = 'display_data';\n",
              "          await google.colab.output.renderOutput(dataTable, element);\n",
              "          const docLink = document.createElement('div');\n",
              "          docLink.innerHTML = docLinkHtml;\n",
              "          element.appendChild(docLink);\n",
              "        }\n",
              "      </script>\n",
              "    </div>\n",
              "  </div>\n",
              "  "
            ]
          },
          "metadata": {},
          "execution_count": 35
        }
      ]
    },
    {
      "cell_type": "markdown",
      "metadata": {
        "id": "eGzjTZ3Nc2_S"
      },
      "source": [
        "* Python의 활용하여 IDF 계산\n",
        "  - IDF는 전체 문서 중 특정 문서에서만 출현하는 단어를 추출\n",
        "  - log(전체 문서 수 / 해당 단어가 포함된 문서 수)"
      ]
    },
    {
      "cell_type": "code",
      "metadata": {
        "id": "caj_sHBrc2_S",
        "colab": {
          "base_uri": "https://localhost:8080/"
        },
        "outputId": "295d962d-91b4-436f-dd08-a1754dfe8579"
      },
      "source": [
        "# IDF를 구하기 위한 함수 정의\n",
        "def getIDF(temp_dict):\n",
        "    tmp = {}\n",
        "    totalCnt = len(temp_dict)\n",
        "\n",
        "    tmp = dict.fromkeys(temp_dict[0].keys(), 0)\n",
        "    for doc in temp_dict:\n",
        "        for strword, cntword in doc.items():\n",
        "            if cntword > 0:\n",
        "                tmp[strword] += 1\n",
        "\n",
        "    for sWord, intCnt in tmp.items():\n",
        "        tmp[sWord] = math.log10(totalCnt / float(intCnt)) + 1\n",
        "\n",
        "    return tmp\n",
        "\n",
        "# 전체문서를 입력 값으로 getIDF함수를 통해서 계산\n",
        "idf_dict = getIDF([text1_dict, text2_dict, text3_dict])\n",
        "idf_dict\n"
      ],
      "execution_count": 36,
      "outputs": [
        {
          "output_type": "execute_result",
          "data": {
            "text/plain": [
              "{'나는': 1.1760912590556813,\n",
              " '예정이다': 1.4771212547196624,\n",
              " '나의': 1.4771212547196624,\n",
              " '있다': 1.4771212547196624,\n",
              " '공간이며': 1.4771212547196624,\n",
              " '작업': 1.0,\n",
              " '공간에': 1.4771212547196624,\n",
              " '그': 1.4771212547196624,\n",
              " '내일도': 1.4771212547196624,\n",
              " '중이다': 1.4771212547196624,\n",
              " '퇴사준비': 1.4771212547196624,\n",
              " '여기는': 1.4771212547196624}"
            ]
          },
          "metadata": {},
          "execution_count": 36
        }
      ]
    },
    {
      "cell_type": "markdown",
      "metadata": {
        "id": "NWAPA0e9c2_V"
      },
      "source": [
        "* Python의 활용하여 TF-IDF 계산\n",
        "  - TF-IDF는 TF와 IDF를 합산하여 계산  "
      ]
    },
    {
      "cell_type": "code",
      "metadata": {
        "id": "Vf53hxoAc2_W",
        "colab": {
          "base_uri": "https://localhost:8080/",
          "height": 143
        },
        "outputId": "2ad589d9-7862-4e05-83f0-9aa406b8926c"
      },
      "source": [
        "# TF-IDF를 구하기 위한 함수 정의\n",
        "def getTFIDF(temp_dict, temp_idf):\n",
        "    tmp = {}\n",
        "    for strword, cntword  in temp_dict.items():\n",
        "        tmp[strword] = cntword*temp_idf[strword]\n",
        "    return tmp\n",
        "\n",
        "# 해당 문서의 TF단어와 IDF로 계산된 전체 단어와 합산\n",
        "text1_idfdict = getTFIDF(text1_tfDict, idf_dict)\n",
        "text2_idfdict = getTFIDF(text2_tfDict, idf_dict)\n",
        "text3_idfdict = getTFIDF(text3_tfDict, idf_dict)\n",
        "\n",
        "# 데이터 프레임으로 전환\n",
        "tfidf_df = pd.DataFrame([text1_idfdict, text2_idfdict,text3_idfdict ])\n",
        "tfidf_df"
      ],
      "execution_count": 37,
      "outputs": [
        {
          "output_type": "execute_result",
          "data": {
            "text/plain": [
              "         나는     예정이다        나의        있다      공간이며        작업       공간에  \\\n",
              "0  0.168013  0.00000  0.211017  0.000000  0.211017  0.285714  0.000000   \n",
              "1  0.235218  0.00000  0.000000  0.295424  0.000000  0.200000  0.295424   \n",
              "2  0.000000  0.36928  0.000000  0.000000  0.000000  0.250000  0.000000   \n",
              "\n",
              "          그      내일도       중이다     퇴사준비       여기는  \n",
              "0  0.000000  0.00000  0.211017  0.00000  0.211017  \n",
              "1  0.295424  0.00000  0.000000  0.00000  0.000000  \n",
              "2  0.000000  0.36928  0.000000  0.36928  0.000000  "
            ],
            "text/html": [
              "\n",
              "  <div id=\"df-fee39535-9f59-452e-836e-76d387590c3b\">\n",
              "    <div class=\"colab-df-container\">\n",
              "      <div>\n",
              "<style scoped>\n",
              "    .dataframe tbody tr th:only-of-type {\n",
              "        vertical-align: middle;\n",
              "    }\n",
              "\n",
              "    .dataframe tbody tr th {\n",
              "        vertical-align: top;\n",
              "    }\n",
              "\n",
              "    .dataframe thead th {\n",
              "        text-align: right;\n",
              "    }\n",
              "</style>\n",
              "<table border=\"1\" class=\"dataframe\">\n",
              "  <thead>\n",
              "    <tr style=\"text-align: right;\">\n",
              "      <th></th>\n",
              "      <th>나는</th>\n",
              "      <th>예정이다</th>\n",
              "      <th>나의</th>\n",
              "      <th>있다</th>\n",
              "      <th>공간이며</th>\n",
              "      <th>작업</th>\n",
              "      <th>공간에</th>\n",
              "      <th>그</th>\n",
              "      <th>내일도</th>\n",
              "      <th>중이다</th>\n",
              "      <th>퇴사준비</th>\n",
              "      <th>여기는</th>\n",
              "    </tr>\n",
              "  </thead>\n",
              "  <tbody>\n",
              "    <tr>\n",
              "      <th>0</th>\n",
              "      <td>0.168013</td>\n",
              "      <td>0.00000</td>\n",
              "      <td>0.211017</td>\n",
              "      <td>0.000000</td>\n",
              "      <td>0.211017</td>\n",
              "      <td>0.285714</td>\n",
              "      <td>0.000000</td>\n",
              "      <td>0.000000</td>\n",
              "      <td>0.00000</td>\n",
              "      <td>0.211017</td>\n",
              "      <td>0.00000</td>\n",
              "      <td>0.211017</td>\n",
              "    </tr>\n",
              "    <tr>\n",
              "      <th>1</th>\n",
              "      <td>0.235218</td>\n",
              "      <td>0.00000</td>\n",
              "      <td>0.000000</td>\n",
              "      <td>0.295424</td>\n",
              "      <td>0.000000</td>\n",
              "      <td>0.200000</td>\n",
              "      <td>0.295424</td>\n",
              "      <td>0.295424</td>\n",
              "      <td>0.00000</td>\n",
              "      <td>0.000000</td>\n",
              "      <td>0.00000</td>\n",
              "      <td>0.000000</td>\n",
              "    </tr>\n",
              "    <tr>\n",
              "      <th>2</th>\n",
              "      <td>0.000000</td>\n",
              "      <td>0.36928</td>\n",
              "      <td>0.000000</td>\n",
              "      <td>0.000000</td>\n",
              "      <td>0.000000</td>\n",
              "      <td>0.250000</td>\n",
              "      <td>0.000000</td>\n",
              "      <td>0.000000</td>\n",
              "      <td>0.36928</td>\n",
              "      <td>0.000000</td>\n",
              "      <td>0.36928</td>\n",
              "      <td>0.000000</td>\n",
              "    </tr>\n",
              "  </tbody>\n",
              "</table>\n",
              "</div>\n",
              "      <button class=\"colab-df-convert\" onclick=\"convertToInteractive('df-fee39535-9f59-452e-836e-76d387590c3b')\"\n",
              "              title=\"Convert this dataframe to an interactive table.\"\n",
              "              style=\"display:none;\">\n",
              "        \n",
              "  <svg xmlns=\"http://www.w3.org/2000/svg\" height=\"24px\"viewBox=\"0 0 24 24\"\n",
              "       width=\"24px\">\n",
              "    <path d=\"M0 0h24v24H0V0z\" fill=\"none\"/>\n",
              "    <path d=\"M18.56 5.44l.94 2.06.94-2.06 2.06-.94-2.06-.94-.94-2.06-.94 2.06-2.06.94zm-11 1L8.5 8.5l.94-2.06 2.06-.94-2.06-.94L8.5 2.5l-.94 2.06-2.06.94zm10 10l.94 2.06.94-2.06 2.06-.94-2.06-.94-.94-2.06-.94 2.06-2.06.94z\"/><path d=\"M17.41 7.96l-1.37-1.37c-.4-.4-.92-.59-1.43-.59-.52 0-1.04.2-1.43.59L10.3 9.45l-7.72 7.72c-.78.78-.78 2.05 0 2.83L4 21.41c.39.39.9.59 1.41.59.51 0 1.02-.2 1.41-.59l7.78-7.78 2.81-2.81c.8-.78.8-2.07 0-2.86zM5.41 20L4 18.59l7.72-7.72 1.47 1.35L5.41 20z\"/>\n",
              "  </svg>\n",
              "      </button>\n",
              "      \n",
              "  <style>\n",
              "    .colab-df-container {\n",
              "      display:flex;\n",
              "      flex-wrap:wrap;\n",
              "      gap: 12px;\n",
              "    }\n",
              "\n",
              "    .colab-df-convert {\n",
              "      background-color: #E8F0FE;\n",
              "      border: none;\n",
              "      border-radius: 50%;\n",
              "      cursor: pointer;\n",
              "      display: none;\n",
              "      fill: #1967D2;\n",
              "      height: 32px;\n",
              "      padding: 0 0 0 0;\n",
              "      width: 32px;\n",
              "    }\n",
              "\n",
              "    .colab-df-convert:hover {\n",
              "      background-color: #E2EBFA;\n",
              "      box-shadow: 0px 1px 2px rgba(60, 64, 67, 0.3), 0px 1px 3px 1px rgba(60, 64, 67, 0.15);\n",
              "      fill: #174EA6;\n",
              "    }\n",
              "\n",
              "    [theme=dark] .colab-df-convert {\n",
              "      background-color: #3B4455;\n",
              "      fill: #D2E3FC;\n",
              "    }\n",
              "\n",
              "    [theme=dark] .colab-df-convert:hover {\n",
              "      background-color: #434B5C;\n",
              "      box-shadow: 0px 1px 3px 1px rgba(0, 0, 0, 0.15);\n",
              "      filter: drop-shadow(0px 1px 2px rgba(0, 0, 0, 0.3));\n",
              "      fill: #FFFFFF;\n",
              "    }\n",
              "  </style>\n",
              "\n",
              "      <script>\n",
              "        const buttonEl =\n",
              "          document.querySelector('#df-fee39535-9f59-452e-836e-76d387590c3b button.colab-df-convert');\n",
              "        buttonEl.style.display =\n",
              "          google.colab.kernel.accessAllowed ? 'block' : 'none';\n",
              "\n",
              "        async function convertToInteractive(key) {\n",
              "          const element = document.querySelector('#df-fee39535-9f59-452e-836e-76d387590c3b');\n",
              "          const dataTable =\n",
              "            await google.colab.kernel.invokeFunction('convertToInteractive',\n",
              "                                                     [key], {});\n",
              "          if (!dataTable) return;\n",
              "\n",
              "          const docLinkHtml = 'Like what you see? Visit the ' +\n",
              "            '<a target=\"_blank\" href=https://colab.research.google.com/notebooks/data_table.ipynb>data table notebook</a>'\n",
              "            + ' to learn more about interactive tables.';\n",
              "          element.innerHTML = '';\n",
              "          dataTable['output_type'] = 'display_data';\n",
              "          await google.colab.output.renderOutput(dataTable, element);\n",
              "          const docLink = document.createElement('div');\n",
              "          docLink.innerHTML = docLinkHtml;\n",
              "          element.appendChild(docLink);\n",
              "        }\n",
              "      </script>\n",
              "    </div>\n",
              "  </div>\n",
              "  "
            ]
          },
          "metadata": {},
          "execution_count": 37
        }
      ]
    },
    {
      "cell_type": "markdown",
      "metadata": {
        "id": "cWckkfArc2_a"
      },
      "source": [
        "# sklearn을 활용하여 TF, DF, TF-IDF 계산\n",
        "  - sklearn의 TF-IDF는 한글자는 자동으로 제외됨\n",
        "  - IDF의 '0'반환을 최소화하기 위해 가중치 +1이 적용\n",
        "  - 불용어처리, 최소/최대빈도, 분석기준(단어, 글자) 정의 및 다양한 파라미터 제공"
      ]
    },
    {
      "cell_type": "code",
      "metadata": {
        "id": "NDGxzX7hc2_a",
        "outputId": "c07b9c48-8485-41a9-fdba-efbcdc46337b",
        "colab": {
          "base_uri": "https://localhost:8080/",
          "height": 143
        }
      },
      "source": [
        "import numpy as np\n",
        "import pandas as pd\n",
        "from sklearn.feature_extraction.text import TfidfVectorizer\n",
        "\n",
        "# 분석을 위해 수집된 말뭉치(Corpus)를 입력\n",
        "text_corpus = ['여기는 나의 작업 공간이며 나는 작업 중이다', '나는 그 작업 공간에 있다', '내일도 작업 예정이다' ]\n",
        "\n",
        "# 입력된 문서와 분석결과를 직관적으로 분석하기 위해 전환처리\n",
        "df_text_corpus  = pd.DataFrame([text_corpus]).T\n",
        "# text_corpus을 컬럼명으로 지정\n",
        "df_text_corpus.columns=['text_corpus']\n",
        "\n",
        "# 사이키런의 TfidfVectorizer를 생성하고 코퍼스를 전환처리\n",
        "tfidf_o = TfidfVectorizer()\n",
        "tfidf_dense = tfidf_o.fit_transform(df_text_corpus['text_corpus']).todense()\n",
        "words_list = tfidf_o.get_feature_names_out()\n",
        "\n",
        "# 데이터 프레임으로 전환\n",
        "df_text_corpus = df_text_corpus.join(pd.DataFrame(tfidf_dense, columns=words_list))\n",
        "df_text_corpus"
      ],
      "execution_count": 38,
      "outputs": [
        {
          "output_type": "execute_result",
          "data": {
            "text/plain": [
              "                text_corpus       공간에      공간이며        나는        나의       내일도  \\\n",
              "0  여기는 나의 작업 공간이며 나는 작업 중이다  0.000000  0.409146  0.311166  0.409146  0.000000   \n",
              "1            나는 그 작업 공간에 있다  0.584483  0.000000  0.444514  0.000000  0.000000   \n",
              "2               내일도 작업 예정이다  0.000000  0.000000  0.000000  0.000000  0.652491   \n",
              "\n",
              "        여기는      예정이다        있다        작업       중이다  \n",
              "0  0.409146  0.000000  0.000000  0.483296  0.409146  \n",
              "1  0.000000  0.000000  0.584483  0.345205  0.000000  \n",
              "2  0.000000  0.652491  0.000000  0.385372  0.000000  "
            ],
            "text/html": [
              "\n",
              "  <div id=\"df-cc695380-3c82-4105-8a0a-0486efe55684\">\n",
              "    <div class=\"colab-df-container\">\n",
              "      <div>\n",
              "<style scoped>\n",
              "    .dataframe tbody tr th:only-of-type {\n",
              "        vertical-align: middle;\n",
              "    }\n",
              "\n",
              "    .dataframe tbody tr th {\n",
              "        vertical-align: top;\n",
              "    }\n",
              "\n",
              "    .dataframe thead th {\n",
              "        text-align: right;\n",
              "    }\n",
              "</style>\n",
              "<table border=\"1\" class=\"dataframe\">\n",
              "  <thead>\n",
              "    <tr style=\"text-align: right;\">\n",
              "      <th></th>\n",
              "      <th>text_corpus</th>\n",
              "      <th>공간에</th>\n",
              "      <th>공간이며</th>\n",
              "      <th>나는</th>\n",
              "      <th>나의</th>\n",
              "      <th>내일도</th>\n",
              "      <th>여기는</th>\n",
              "      <th>예정이다</th>\n",
              "      <th>있다</th>\n",
              "      <th>작업</th>\n",
              "      <th>중이다</th>\n",
              "    </tr>\n",
              "  </thead>\n",
              "  <tbody>\n",
              "    <tr>\n",
              "      <th>0</th>\n",
              "      <td>여기는 나의 작업 공간이며 나는 작업 중이다</td>\n",
              "      <td>0.000000</td>\n",
              "      <td>0.409146</td>\n",
              "      <td>0.311166</td>\n",
              "      <td>0.409146</td>\n",
              "      <td>0.000000</td>\n",
              "      <td>0.409146</td>\n",
              "      <td>0.000000</td>\n",
              "      <td>0.000000</td>\n",
              "      <td>0.483296</td>\n",
              "      <td>0.409146</td>\n",
              "    </tr>\n",
              "    <tr>\n",
              "      <th>1</th>\n",
              "      <td>나는 그 작업 공간에 있다</td>\n",
              "      <td>0.584483</td>\n",
              "      <td>0.000000</td>\n",
              "      <td>0.444514</td>\n",
              "      <td>0.000000</td>\n",
              "      <td>0.000000</td>\n",
              "      <td>0.000000</td>\n",
              "      <td>0.000000</td>\n",
              "      <td>0.584483</td>\n",
              "      <td>0.345205</td>\n",
              "      <td>0.000000</td>\n",
              "    </tr>\n",
              "    <tr>\n",
              "      <th>2</th>\n",
              "      <td>내일도 작업 예정이다</td>\n",
              "      <td>0.000000</td>\n",
              "      <td>0.000000</td>\n",
              "      <td>0.000000</td>\n",
              "      <td>0.000000</td>\n",
              "      <td>0.652491</td>\n",
              "      <td>0.000000</td>\n",
              "      <td>0.652491</td>\n",
              "      <td>0.000000</td>\n",
              "      <td>0.385372</td>\n",
              "      <td>0.000000</td>\n",
              "    </tr>\n",
              "  </tbody>\n",
              "</table>\n",
              "</div>\n",
              "      <button class=\"colab-df-convert\" onclick=\"convertToInteractive('df-cc695380-3c82-4105-8a0a-0486efe55684')\"\n",
              "              title=\"Convert this dataframe to an interactive table.\"\n",
              "              style=\"display:none;\">\n",
              "        \n",
              "  <svg xmlns=\"http://www.w3.org/2000/svg\" height=\"24px\"viewBox=\"0 0 24 24\"\n",
              "       width=\"24px\">\n",
              "    <path d=\"M0 0h24v24H0V0z\" fill=\"none\"/>\n",
              "    <path d=\"M18.56 5.44l.94 2.06.94-2.06 2.06-.94-2.06-.94-.94-2.06-.94 2.06-2.06.94zm-11 1L8.5 8.5l.94-2.06 2.06-.94-2.06-.94L8.5 2.5l-.94 2.06-2.06.94zm10 10l.94 2.06.94-2.06 2.06-.94-2.06-.94-.94-2.06-.94 2.06-2.06.94z\"/><path d=\"M17.41 7.96l-1.37-1.37c-.4-.4-.92-.59-1.43-.59-.52 0-1.04.2-1.43.59L10.3 9.45l-7.72 7.72c-.78.78-.78 2.05 0 2.83L4 21.41c.39.39.9.59 1.41.59.51 0 1.02-.2 1.41-.59l7.78-7.78 2.81-2.81c.8-.78.8-2.07 0-2.86zM5.41 20L4 18.59l7.72-7.72 1.47 1.35L5.41 20z\"/>\n",
              "  </svg>\n",
              "      </button>\n",
              "      \n",
              "  <style>\n",
              "    .colab-df-container {\n",
              "      display:flex;\n",
              "      flex-wrap:wrap;\n",
              "      gap: 12px;\n",
              "    }\n",
              "\n",
              "    .colab-df-convert {\n",
              "      background-color: #E8F0FE;\n",
              "      border: none;\n",
              "      border-radius: 50%;\n",
              "      cursor: pointer;\n",
              "      display: none;\n",
              "      fill: #1967D2;\n",
              "      height: 32px;\n",
              "      padding: 0 0 0 0;\n",
              "      width: 32px;\n",
              "    }\n",
              "\n",
              "    .colab-df-convert:hover {\n",
              "      background-color: #E2EBFA;\n",
              "      box-shadow: 0px 1px 2px rgba(60, 64, 67, 0.3), 0px 1px 3px 1px rgba(60, 64, 67, 0.15);\n",
              "      fill: #174EA6;\n",
              "    }\n",
              "\n",
              "    [theme=dark] .colab-df-convert {\n",
              "      background-color: #3B4455;\n",
              "      fill: #D2E3FC;\n",
              "    }\n",
              "\n",
              "    [theme=dark] .colab-df-convert:hover {\n",
              "      background-color: #434B5C;\n",
              "      box-shadow: 0px 1px 3px 1px rgba(0, 0, 0, 0.15);\n",
              "      filter: drop-shadow(0px 1px 2px rgba(0, 0, 0, 0.3));\n",
              "      fill: #FFFFFF;\n",
              "    }\n",
              "  </style>\n",
              "\n",
              "      <script>\n",
              "        const buttonEl =\n",
              "          document.querySelector('#df-cc695380-3c82-4105-8a0a-0486efe55684 button.colab-df-convert');\n",
              "        buttonEl.style.display =\n",
              "          google.colab.kernel.accessAllowed ? 'block' : 'none';\n",
              "\n",
              "        async function convertToInteractive(key) {\n",
              "          const element = document.querySelector('#df-cc695380-3c82-4105-8a0a-0486efe55684');\n",
              "          const dataTable =\n",
              "            await google.colab.kernel.invokeFunction('convertToInteractive',\n",
              "                                                     [key], {});\n",
              "          if (!dataTable) return;\n",
              "\n",
              "          const docLinkHtml = 'Like what you see? Visit the ' +\n",
              "            '<a target=\"_blank\" href=https://colab.research.google.com/notebooks/data_table.ipynb>data table notebook</a>'\n",
              "            + ' to learn more about interactive tables.';\n",
              "          element.innerHTML = '';\n",
              "          dataTable['output_type'] = 'display_data';\n",
              "          await google.colab.output.renderOutput(dataTable, element);\n",
              "          const docLink = document.createElement('div');\n",
              "          docLink.innerHTML = docLinkHtml;\n",
              "          element.appendChild(docLink);\n",
              "        }\n",
              "      </script>\n",
              "    </div>\n",
              "  </div>\n",
              "  "
            ]
          },
          "metadata": {},
          "execution_count": 38
        }
      ]
    },
    {
      "cell_type": "markdown",
      "metadata": {
        "id": "EVMkgD23c2_d"
      },
      "source": [
        "# 모델기반의 클러스터링을 위한 k-Means 적용예제(1)\n",
        "* K-Means\n",
        " - 주어진 데이터를 K개의 클러스터로 묶는 알고리즘\n",
        " - 많은 양의 텍스트 데이터를 분류하여 적정 코퍼스구성을 위해 사용\n",
        "* K-Means 적용시 고려사항\n",
        " - 중심점에 따라 클러스터가 민감하게 변함\n",
        " - k의 개수를 선정하는 문제 존재\n",
        " - 적정 k(클러스터링 개수)의 산정은 Elbow, Silhouette Method 등 활용"
      ]
    },
    {
      "cell_type": "markdown",
      "metadata": {
        "id": "JGIX5-k4c2_d"
      },
      "source": [
        " - 경제와 영화 관련 뉴스 제목을 군집의 개수 2개로 구분"
      ]
    },
    {
      "cell_type": "code",
      "metadata": {
        "id": "G5YQJfpvc2_d",
        "outputId": "6759ac8f-689b-4020-d5ae-3bf6b0c7d488",
        "colab": {
          "base_uri": "https://localhost:8080/",
          "height": 75
        }
      },
      "source": [
        "from sklearn.feature_extraction.text import TfidfVectorizer\n",
        "from sklearn.cluster import KMeans\n",
        "\n",
        "# 분석에 필요한 말뭉치(corpus) 정의\n",
        "documents = [\"한은 저유가 당분간 계속 주요국 물가 하방 압력\",\n",
        "             \"경총 국민 절반 이상이 동결 요구\",\n",
        "             \"경제 바닥 통과 기대 강화\",\n",
        "             \"도시 가스 물가 향상 기여\",\n",
        "             \"예측 불가능한 하늘에 도전했던 사람들 영화\",\n",
        "             \"전주 국제 영화 상영작\",\n",
        "             \"백상 예술 대상 영화 감독 봉준호\",\n",
        "             \"한번도 본적 없는 새로운 액션 영화\"]\n",
        "\n",
        "vectorizer = TfidfVectorizer()\n",
        "X = vectorizer.fit_transform(documents)\n",
        "\n",
        "# k-means++ 알고리즘을 적용, k개는 2개로 선정\n",
        "# init은 초기화 방법으로 random과 k-means++ 선택 가능\n",
        "# max_iter는 최대 반혹 횟수\n",
        "# n_init는 초기 중심 위치 시도 횟수, 기본은 10으로 사용\n",
        "true_k = 2\n",
        "model = KMeans(n_clusters=true_k, init='k-means++', max_iter=100, n_init=10)\n",
        "model.fit(X)"
      ],
      "execution_count": 39,
      "outputs": [
        {
          "output_type": "execute_result",
          "data": {
            "text/plain": [
              "KMeans(max_iter=100, n_clusters=2, n_init=10)"
            ],
            "text/html": [
              "<style>#sk-container-id-2 {color: black;background-color: white;}#sk-container-id-2 pre{padding: 0;}#sk-container-id-2 div.sk-toggleable {background-color: white;}#sk-container-id-2 label.sk-toggleable__label {cursor: pointer;display: block;width: 100%;margin-bottom: 0;padding: 0.3em;box-sizing: border-box;text-align: center;}#sk-container-id-2 label.sk-toggleable__label-arrow:before {content: \"▸\";float: left;margin-right: 0.25em;color: #696969;}#sk-container-id-2 label.sk-toggleable__label-arrow:hover:before {color: black;}#sk-container-id-2 div.sk-estimator:hover label.sk-toggleable__label-arrow:before {color: black;}#sk-container-id-2 div.sk-toggleable__content {max-height: 0;max-width: 0;overflow: hidden;text-align: left;background-color: #f0f8ff;}#sk-container-id-2 div.sk-toggleable__content pre {margin: 0.2em;color: black;border-radius: 0.25em;background-color: #f0f8ff;}#sk-container-id-2 input.sk-toggleable__control:checked~div.sk-toggleable__content {max-height: 200px;max-width: 100%;overflow: auto;}#sk-container-id-2 input.sk-toggleable__control:checked~label.sk-toggleable__label-arrow:before {content: \"▾\";}#sk-container-id-2 div.sk-estimator input.sk-toggleable__control:checked~label.sk-toggleable__label {background-color: #d4ebff;}#sk-container-id-2 div.sk-label input.sk-toggleable__control:checked~label.sk-toggleable__label {background-color: #d4ebff;}#sk-container-id-2 input.sk-hidden--visually {border: 0;clip: rect(1px 1px 1px 1px);clip: rect(1px, 1px, 1px, 1px);height: 1px;margin: -1px;overflow: hidden;padding: 0;position: absolute;width: 1px;}#sk-container-id-2 div.sk-estimator {font-family: monospace;background-color: #f0f8ff;border: 1px dotted black;border-radius: 0.25em;box-sizing: border-box;margin-bottom: 0.5em;}#sk-container-id-2 div.sk-estimator:hover {background-color: #d4ebff;}#sk-container-id-2 div.sk-parallel-item::after {content: \"\";width: 100%;border-bottom: 1px solid gray;flex-grow: 1;}#sk-container-id-2 div.sk-label:hover label.sk-toggleable__label {background-color: #d4ebff;}#sk-container-id-2 div.sk-serial::before {content: \"\";position: absolute;border-left: 1px solid gray;box-sizing: border-box;top: 0;bottom: 0;left: 50%;z-index: 0;}#sk-container-id-2 div.sk-serial {display: flex;flex-direction: column;align-items: center;background-color: white;padding-right: 0.2em;padding-left: 0.2em;position: relative;}#sk-container-id-2 div.sk-item {position: relative;z-index: 1;}#sk-container-id-2 div.sk-parallel {display: flex;align-items: stretch;justify-content: center;background-color: white;position: relative;}#sk-container-id-2 div.sk-item::before, #sk-container-id-2 div.sk-parallel-item::before {content: \"\";position: absolute;border-left: 1px solid gray;box-sizing: border-box;top: 0;bottom: 0;left: 50%;z-index: -1;}#sk-container-id-2 div.sk-parallel-item {display: flex;flex-direction: column;z-index: 1;position: relative;background-color: white;}#sk-container-id-2 div.sk-parallel-item:first-child::after {align-self: flex-end;width: 50%;}#sk-container-id-2 div.sk-parallel-item:last-child::after {align-self: flex-start;width: 50%;}#sk-container-id-2 div.sk-parallel-item:only-child::after {width: 0;}#sk-container-id-2 div.sk-dashed-wrapped {border: 1px dashed gray;margin: 0 0.4em 0.5em 0.4em;box-sizing: border-box;padding-bottom: 0.4em;background-color: white;}#sk-container-id-2 div.sk-label label {font-family: monospace;font-weight: bold;display: inline-block;line-height: 1.2em;}#sk-container-id-2 div.sk-label-container {text-align: center;}#sk-container-id-2 div.sk-container {/* jupyter's `normalize.less` sets `[hidden] { display: none; }` but bootstrap.min.css set `[hidden] { display: none !important; }` so we also need the `!important` here to be able to override the default hidden behavior on the sphinx rendered scikit-learn.org. See: https://github.com/scikit-learn/scikit-learn/issues/21755 */display: inline-block !important;position: relative;}#sk-container-id-2 div.sk-text-repr-fallback {display: none;}</style><div id=\"sk-container-id-2\" class=\"sk-top-container\"><div class=\"sk-text-repr-fallback\"><pre>KMeans(max_iter=100, n_clusters=2, n_init=10)</pre><b>In a Jupyter environment, please rerun this cell to show the HTML representation or trust the notebook. <br />On GitHub, the HTML representation is unable to render, please try loading this page with nbviewer.org.</b></div><div class=\"sk-container\" hidden><div class=\"sk-item\"><div class=\"sk-estimator sk-toggleable\"><input class=\"sk-toggleable__control sk-hidden--visually\" id=\"sk-estimator-id-2\" type=\"checkbox\" checked><label for=\"sk-estimator-id-2\" class=\"sk-toggleable__label sk-toggleable__label-arrow\">KMeans</label><div class=\"sk-toggleable__content\"><pre>KMeans(max_iter=100, n_clusters=2, n_init=10)</pre></div></div></div></div></div>"
            ]
          },
          "metadata": {},
          "execution_count": 39
        }
      ]
    },
    {
      "cell_type": "markdown",
      "metadata": {
        "id": "hScTF7Tvc2_f"
      },
      "source": [
        " - 2개의 그룹의 주요 키워드와 새로운 뉴스제목의 그룹을 예측분류"
      ]
    },
    {
      "cell_type": "code",
      "metadata": {
        "id": "mHDHEqctc2_g",
        "outputId": "b7fdb567-c995-4a2c-952a-ff97f4e11e56",
        "colab": {
          "base_uri": "https://localhost:8080/"
        }
      },
      "source": [
        "print(\"Top terms per cluster:\")\n",
        "order_centroids = model.cluster_centers_.argsort()[:, ::-1]\n",
        "terms = vectorizer.get_feature_names_out()\n",
        "for i in range(true_k):\n",
        "    print(\"Cluster %d:\" % i),\n",
        "    for ind in order_centroids[i, :10]:\n",
        "        print(' %s' % terms[ind]),\n",
        "    print\n",
        "\n",
        "print(\"\\n\")\n",
        "print(\"Prediction\")\n",
        "\n",
        "Y = vectorizer.transform([\"서울 환경 영화 공동 주최\"])\n",
        "prediction = model.predict(Y)\n",
        "print(prediction)\n",
        "\n",
        "Y = vectorizer.transform([\"세계 경제 물가 침체 예상\"])\n",
        "prediction = model.predict(Y)\n",
        "print(prediction)"
      ],
      "execution_count": 40,
      "outputs": [
        {
          "output_type": "stream",
          "name": "stdout",
          "text": [
            "Top terms per cluster:\n",
            "Cluster 0:\n",
            " 영화\n",
            " 상영작\n",
            " 전주\n",
            " 국제\n",
            " 도전했던\n",
            " 대상\n",
            " 백상\n",
            " 본적\n",
            " 봉준호\n",
            " 사람들\n",
            "Cluster 1:\n",
            " 물가\n",
            " 향상\n",
            " 기여\n",
            " 도시\n",
            " 가스\n",
            " 통과\n",
            " 강화\n",
            " 바닥\n",
            " 기대\n",
            " 경제\n",
            "\n",
            "\n",
            "Prediction\n",
            "[0]\n",
            "[1]\n"
          ]
        }
      ]
    }
  ]
}