{
  "nbformat": 4,
  "nbformat_minor": 0,
  "metadata": {
    "kernelspec": {
      "display_name": "Python 3",
      "language": "python",
      "name": "python3"
    },
    "language_info": {
      "codemirror_mode": {
        "name": "ipython",
        "version": 3
      },
      "file_extension": ".py",
      "mimetype": "text/x-python",
      "name": "python",
      "nbconvert_exporter": "python",
      "pygments_lexer": "ipython3",
      "version": "3.7.7"
    },
    "colab": {
      "name": "3.SimpleCrawling.ipynb",
      "provenance": [],
      "include_colab_link": true
    }
  },
  "cells": [
    {
      "cell_type": "markdown",
      "metadata": {
        "id": "view-in-github",
        "colab_type": "text"
      },
      "source": [
        "<a href=\"https://colab.research.google.com/github/aidot-kr/AISecurity/blob/master/3_SimpleCrawling.ipynb\" target=\"_parent\"><img src=\"https://colab.research.google.com/assets/colab-badge.svg\" alt=\"Open In Colab\"/></a>"
      ]
    },
    {
      "cell_type": "markdown",
      "metadata": {
        "id": "ILOo2Gqn4iNy",
        "colab_type": "text"
      },
      "source": [
        "# wikipedia 텍스트 데이터 수집\n",
        "* wikipedia\n",
        "\n",
        " 1) wikipedia dump 파일 다운로드\n",
        " - 위키백과의 전체 데이터세트를 다운로드 가능\n",
        " - 전체 데이터세트를 기준으로 말뭉치(corpus)로 활용가능, 단, xml 파싱 처리필요\n",
        " - 데이터세트는 정기적으로 최신화되어 제공되고 있음(약1개월 주기)\n",
        "    https://dumps.wikimedia.org/kowiki/   \n",
        " 2) wikipedia 라이브러리를 활용\n",
        " - python3의 wikipedia-api 라이브러리 활용\n",
        " - 필요한 부분 검색을 통해서 수집 가능\n",
        " "
      ]
    },
    {
      "cell_type": "markdown",
      "metadata": {
        "id": "C3GMOmKe4iNz",
        "colab_type": "text"
      },
      "source": [
        "## Open API를 사용한 데이터 수집\n",
        "- wikipedia-api 라이브러리 사용\n",
        "- https://pypi.org/project/Wikipedia-API/"
      ]
    },
    {
      "cell_type": "code",
      "metadata": {
        "id": "x9nrTcI_4iN0",
        "colab_type": "code",
        "colab": {
          "base_uri": "https://localhost:8080/",
          "height": 289
        },
        "outputId": "f265d23c-07b6-4544-e15c-78ab740f76a5"
      },
      "source": [
        "!pip3 install wikipedia-api"
      ],
      "execution_count": 5,
      "outputs": [
        {
          "output_type": "stream",
          "text": [
            "Collecting wikipedia-api\n",
            "  Downloading https://files.pythonhosted.org/packages/ef/3d/289963bbf51f8d00cdf7483cdc2baee25ba877e8b4eb72157c47211e3b57/Wikipedia-API-0.5.4.tar.gz\n",
            "Requirement already satisfied: requests in /usr/local/lib/python3.6/dist-packages (from wikipedia-api) (2.23.0)\n",
            "Requirement already satisfied: chardet<4,>=3.0.2 in /usr/local/lib/python3.6/dist-packages (from requests->wikipedia-api) (3.0.4)\n",
            "Requirement already satisfied: idna<3,>=2.5 in /usr/local/lib/python3.6/dist-packages (from requests->wikipedia-api) (2.10)\n",
            "Requirement already satisfied: urllib3!=1.25.0,!=1.25.1,<1.26,>=1.21.1 in /usr/local/lib/python3.6/dist-packages (from requests->wikipedia-api) (1.24.3)\n",
            "Requirement already satisfied: certifi>=2017.4.17 in /usr/local/lib/python3.6/dist-packages (from requests->wikipedia-api) (2020.6.20)\n",
            "Building wheels for collected packages: wikipedia-api\n",
            "  Building wheel for wikipedia-api (setup.py) ... \u001b[?25l\u001b[?25hdone\n",
            "  Created wheel for wikipedia-api: filename=Wikipedia_API-0.5.4-cp36-none-any.whl size=13462 sha256=94a3857b41875a5161137d6831f1427553330894cc647fc1f6a61da58df88199\n",
            "  Stored in directory: /root/.cache/pip/wheels/bf/40/42/ba1d497f3712281b659dd65b566fc868035c859239571a725a\n",
            "Successfully built wikipedia-api\n",
            "Installing collected packages: wikipedia-api\n",
            "Successfully installed wikipedia-api-0.5.4\n"
          ],
          "name": "stdout"
        }
      ]
    },
    {
      "cell_type": "code",
      "metadata": {
        "scrolled": true,
        "id": "49nQ-cRX4iN3",
        "colab_type": "code",
        "colab": {}
      },
      "source": [
        "# 설치된 라이브리 호출\n",
        "import wikipediaapi"
      ],
      "execution_count": 8,
      "outputs": []
    },
    {
      "cell_type": "code",
      "metadata": {
        "id": "1EzixTwy4iN5",
        "colab_type": "code",
        "colab": {
          "base_uri": "https://localhost:8080/",
          "height": 35
        },
        "outputId": "b810e4b1-928f-4fa3-baec-076d489bd89c"
      },
      "source": [
        "# 페이지 요약 정보를 수집\n",
        "wiki_txt=wikipediaapi.Wikipedia('ko')\n",
        "search_nm = '스미싱'\n",
        "\n",
        "# 해당 페이지가 존재하는지 확인\n",
        "page_py = wiki_txt.page(search_nm) \n",
        "print(\"Page - Exists: %s\" % page_py.exists())"
      ],
      "execution_count": 9,
      "outputs": [
        {
          "output_type": "stream",
          "text": [
            "Page - Exists: True\n"
          ],
          "name": "stdout"
        }
      ]
    },
    {
      "cell_type": "code",
      "metadata": {
        "id": "9HO-_1LK4iN7",
        "colab_type": "code",
        "colab": {
          "base_uri": "https://localhost:8080/",
          "height": 91
        },
        "outputId": "b0170e1b-745a-4d94-d290-f62ca289fe5a"
      },
      "source": [
        "# 페이지의 제목과 내용 요약을 수집\n",
        "print(\"Page - Title: %s\" % page_py.title)\n",
        "print(\"Page - Summary: %s\" % page_py.summary[0:1000])"
      ],
      "execution_count": 10,
      "outputs": [
        {
          "output_type": "stream",
          "text": [
            "Page - Title: 스미싱\n",
            "Page - Summary: 문자메시지 피싱(SMS phishing, 스미싱, Smishing)은 문자메시지를 이용한 피싱이다. 스미싱은 SMS(문자메시지)와 피싱(Phising)의 합성어이다.\n",
            "신뢰할 수 있는 사람 또는 기업이 보낸 것처럼 가장하여 개인비밀정보를 요구하거나 휴대폰 소액 결제를 유도한다. 최근 들어 스마트폰 이용자들이 늘어남에 따라 돌잔치, 결혼 청첩장 등이 도착하였다고 하면서 링크를 걸어 안드로이드 애플리케이션 설치파일인 apk 파일을 설치하도록 유도하여 휴대폰 내의 정보를 빼가는 수법이 늘고 있다.\n"
          ],
          "name": "stdout"
        }
      ]
    },
    {
      "cell_type": "code",
      "metadata": {
        "id": "hkG0dbNn4iN9",
        "colab_type": "code",
        "colab": {
          "base_uri": "https://localhost:8080/",
          "height": 325
        },
        "outputId": "f162777b-4de7-4226-ce2a-0186736b9f22"
      },
      "source": [
        "# 페이지의 내용 전체를 수집\n",
        "wiki = wikipediaapi.Wikipedia( language='ko', extract_format=wikipediaapi.ExtractFormat.WIKI) \n",
        "p_wiki = wiki.page(search_nm) \n",
        "print(p_wiki.text)"
      ],
      "execution_count": 11,
      "outputs": [
        {
          "output_type": "stream",
          "text": [
            "문자메시지 피싱(SMS phishing, 스미싱, Smishing)은 문자메시지를 이용한 피싱이다. 스미싱은 SMS(문자메시지)와 피싱(Phising)의 합성어이다.\n",
            "신뢰할 수 있는 사람 또는 기업이 보낸 것처럼 가장하여 개인비밀정보를 요구하거나 휴대폰 소액 결제를 유도한다. 최근 들어 스마트폰 이용자들이 늘어남에 따라 돌잔치, 결혼 청첩장 등이 도착하였다고 하면서 링크를 걸어 안드로이드 애플리케이션 설치파일인 apk 파일을 설치하도록 유도하여 휴대폰 내의 정보를 빼가는 수법이 늘고 있다.\n",
            "\n",
            "피해 예방법\n",
            "OS가 안드로이드 단말기인 경우, Google Play 이외의 경로를 통한 응용 애플리케이션의 설치를 허용 또는 차단하는 기능인 \"알수 없는 소스\"의 옵션을 제공하고 있으므로, 해당 부분의 체크를 해제함\n",
            "구글플레이 스토어에서 \"스미싱 차단\"을 검색하여 스미싱 차단 전용 앱을 설치함.\n",
            "스미싱 차단 (잡았다 피싱) : https://play.google.com/store/apps/details?id=org.azki.smishing\n",
            "\n",
            "같이 보기\n",
            "단문 메시지 서비스\n",
            "피싱\n",
            "피싱프리\n",
            "\n",
            "각주\n",
            "외부 링크\n",
            "경찰청 사이버안전국 예방수칙\n"
          ],
          "name": "stdout"
        }
      ]
    },
    {
      "cell_type": "markdown",
      "metadata": {
        "id": "y1I_71V34iOA",
        "colab_type": "text"
      },
      "source": [
        "# 웹페이지 크롤링\n",
        "## Request 라이브러리 활용\n",
        " - feedparser를 통해서 xml 파싱처리 : https://pythonhosted.org/feedparser/index.html"
      ]
    },
    {
      "cell_type": "code",
      "metadata": {
        "id": "fp3QGqPwRSif",
        "colab_type": "code",
        "colab": {
          "base_uri": "https://localhost:8080/",
          "height": 217
        },
        "outputId": "fb9818ca-5301-4a78-a33c-2de93407c9e6"
      },
      "source": [
        "!pip3 install feedparser"
      ],
      "execution_count": 13,
      "outputs": [
        {
          "output_type": "stream",
          "text": [
            "Collecting feedparser\n",
            "\u001b[?25l  Downloading https://files.pythonhosted.org/packages/91/d8/7d37fec71ff7c9dbcdd80d2b48bcdd86d6af502156fc93846fb0102cb2c4/feedparser-5.2.1.tar.bz2 (192kB)\n",
            "\r\u001b[K     |█▊                              | 10kB 19.5MB/s eta 0:00:01\r\u001b[K     |███▍                            | 20kB 6.4MB/s eta 0:00:01\r\u001b[K     |█████▏                          | 30kB 6.3MB/s eta 0:00:01\r\u001b[K     |██████▉                         | 40kB 6.8MB/s eta 0:00:01\r\u001b[K     |████████▌                       | 51kB 6.4MB/s eta 0:00:01\r\u001b[K     |██████████▎                     | 61kB 6.9MB/s eta 0:00:01\r\u001b[K     |████████████                    | 71kB 6.9MB/s eta 0:00:01\r\u001b[K     |█████████████▋                  | 81kB 6.6MB/s eta 0:00:01\r\u001b[K     |███████████████▍                | 92kB 7.0MB/s eta 0:00:01\r\u001b[K     |█████████████████               | 102kB 7.4MB/s eta 0:00:01\r\u001b[K     |██████████████████▊             | 112kB 7.4MB/s eta 0:00:01\r\u001b[K     |████████████████████▌           | 122kB 7.4MB/s eta 0:00:01\r\u001b[K     |██████████████████████▏         | 133kB 7.4MB/s eta 0:00:01\r\u001b[K     |███████████████████████▉        | 143kB 7.4MB/s eta 0:00:01\r\u001b[K     |█████████████████████████▋      | 153kB 7.4MB/s eta 0:00:01\r\u001b[K     |███████████████████████████▎    | 163kB 7.4MB/s eta 0:00:01\r\u001b[K     |█████████████████████████████   | 174kB 7.4MB/s eta 0:00:01\r\u001b[K     |██████████████████████████████▊ | 184kB 7.4MB/s eta 0:00:01\r\u001b[K     |████████████████████████████████| 194kB 7.4MB/s \n",
            "\u001b[?25hBuilding wheels for collected packages: feedparser\n",
            "  Building wheel for feedparser (setup.py) ... \u001b[?25l\u001b[?25hdone\n",
            "  Created wheel for feedparser: filename=feedparser-5.2.1-cp36-none-any.whl size=44939 sha256=ed0551f4eac82ecfab9f566237e7926d0bffee6236202be63e6d13fd4d8b12e5\n",
            "  Stored in directory: /root/.cache/pip/wheels/8c/69/b7/f52763c41c5471df57703a0ef718a32a5e81ee35dcf6d4f97f\n",
            "Successfully built feedparser\n",
            "Installing collected packages: feedparser\n",
            "Successfully installed feedparser-5.2.1\n"
          ],
          "name": "stdout"
        }
      ]
    },
    {
      "cell_type": "code",
      "metadata": {
        "id": "goNtKAir4iOA",
        "colab_type": "code",
        "colab": {
          "base_uri": "https://localhost:8080/",
          "height": 73
        },
        "outputId": "2186678c-67d9-4049-94da-3d6720877135"
      },
      "source": [
        "import requests\n",
        "import feedparser\n",
        "\n",
        "page = requests.get('http://www.boannews.com/media/news_rss.xml')\n",
        "page.encoding='euc-kr' # 한글이 깨지는 경우 사용\n",
        "html = page.text\n",
        "data = feedparser.parse(html)\n",
        "print(data.entries[0].title)\n",
        "print(data.entries[0].description)"
      ],
      "execution_count": 14,
      "outputs": [
        {
          "output_type": "stream",
          "text": [
            "서울특별시, 광역 지자체 최초로 ISMS-P 인증 획득했다\n",
            "‘대표 홈페이지, 생활복지 통합정보, 법인 시설관리’ 3개 홈페이지 인증 획득[보안뉴스 박미영 기자] 서울시가 전국 광역 지자체 중 최초로 과학기술정보통신부 산하 한국인터넷진흥원으로부터 정보보호·개인정보보호 관리체계(ISMS-P) 인증을 획득했다고 밝혔다.ISMS-P 인증은 과학기술정보통신부가 인증 기관의 개인정보처리시스템(홈페이지, 행정시스템 등)에 대해\n"
          ],
          "name": "stdout"
        }
      ]
    },
    {
      "cell_type": "markdown",
      "metadata": {
        "id": "TZg0PJXF4iOC",
        "colab_type": "text"
      },
      "source": [
        "## BeautifulSoup 라이브러리 활용"
      ]
    },
    {
      "cell_type": "code",
      "metadata": {
        "id": "W9OpYTh94iOD",
        "colab_type": "code",
        "colab": {
          "base_uri": "https://localhost:8080/",
          "height": 305
        },
        "outputId": "9719b0e5-59de-4cc8-cec3-689387ffbac6"
      },
      "source": [
        "from bs4 import BeautifulSoup\n",
        "page = requests.get('http://www.boannews.com')\n",
        "\n",
        "html = page.text\n",
        "soup = BeautifulSoup(html, 'html.parser')\n",
        "my_titles = soup.select(\n",
        "    'p[class=t3]'\n",
        "    )\n",
        "for title in my_titles:\n",
        "    # Tag안의 텍스트\n",
        "   print(title.text)\n"
      ],
      "execution_count": 15,
      "outputs": [
        {
          "output_type": "stream",
          "text": [
            "SKT, 양자암호통신 관련 세계 표...\n",
            "개인정보보호위원회, 교육 강화 위해...\n",
            "한국전자인증, 공공기관 웹사이트 대...\n",
            "트렌드마이크로, 오픈소스 보안기업 ...\n",
            "삼성SDS, ‘REAL 2020’서...\n",
            "2020년 경기도 온라인 블록체인 ...\n",
            "화웨이 5G MEC 솔루션, 5G ...\n",
            "[인사] 산업통상자원부 국장급 전보...\n",
            "지진, 어디까지 알고 있니?\n",
            "도로 색깔 따라 가면 곧바로 화재 ...\n",
            "인명 피해 줄이는 화재탐지경보장치,...\n",
            "행안부, 7일부터 13일까지 지진안...\n",
            "첨단 기술 접목된 가정용 보안 카메...\n",
            "스마트시티 구축으로 미래 희망 도시...\n",
            "시흥시, ‘스마트시티 혁신성장동력 ...\n",
            "LG유플러스, 마스크 착용·체온 감...\n"
          ],
          "name": "stdout"
        }
      ]
    }
  ]
}