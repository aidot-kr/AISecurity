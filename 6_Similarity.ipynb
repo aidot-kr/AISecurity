{
  "nbformat": 4,
  "nbformat_minor": 0,
  "metadata": {
    "kernelspec": {
      "display_name": "Python 3",
      "language": "python",
      "name": "python3"
    },
    "language_info": {
      "codemirror_mode": {
        "name": "ipython",
        "version": 3
      },
      "file_extension": ".py",
      "mimetype": "text/x-python",
      "name": "python",
      "nbconvert_exporter": "python",
      "pygments_lexer": "ipython3",
      "version": "3.7.5"
    },
    "colab": {
      "name": "6.Similarity.ipynb",
      "provenance": [],
      "collapsed_sections": [],
      "machine_shape": "hm",
      "include_colab_link": true
    },
    "accelerator": "GPU"
  },
  "cells": [
    {
      "cell_type": "markdown",
      "metadata": {
        "id": "view-in-github",
        "colab_type": "text"
      },
      "source": [
        "<a href=\"https://colab.research.google.com/github/aidot-kr/AISecurity/blob/master/6_Similarity.ipynb\" target=\"_parent\"><img src=\"https://colab.research.google.com/assets/colab-badge.svg\" alt=\"Open In Colab\"/></a>"
      ]
    },
    {
      "cell_type": "markdown",
      "metadata": {
        "id": "nDDtpFbALEzl"
      },
      "source": [
        "## Similarity"
      ]
    },
    {
      "cell_type": "markdown",
      "metadata": {
        "id": "foH0QO39LEzm"
      },
      "source": [
        "1. 코사인 유사도(Cosine Similarity)\n",
        " - 두 벡터 사이의 각도의 코사인을 측정 하여 유사성을 계산\n",
        " - 코사인 유사성을 사용하여 문장을 벡터로 변환\n",
        " - 1) BoW(TF) : 일반적인 문서 유사도 비교에 좋음\n",
        " - 2) TF-IDF : 검색의 목적에는 유용함\n",
        " - 3) Word2Vec : 문맥기반의 유사성 비교에 용이"
      ]
    },
    {
      "cell_type": "code",
      "metadata": {
        "id": "H1y5ID91LEzm"
      },
      "source": [
        "# 코사인 유사도 비교대상 문서\n",
        "doc_A = \"카카오페이가 개인정보가 털려 ㅋㅋ 본인도 모르는 카카오 결제가 되는 등 피해를 본 이용자에게 수사 결과가 나오기 전에 먼저 보상하기로 하는 등 강화된 이용자 보호 정책을 도입한다.\"\n",
        "doc_B = \"카카오페이가 내달 도입 예정인 새 정책의 핵심은 개인정보 도용 등 부정 결제로 인한 피해 사례를 접수하면 외부 기관의 수사 의뢰와는 별개로 자체 사고 조사를 해서 선량한 피해자로 판명되면 먼저 보상하겠다는 것이다.\"\n",
        "doc_C = \"지금까지 고객이 카카오 휴대폰 파손에 따른 보험 혜택을 받으려면 AS센터를 방문해 수리를 받고, 종이로 된 수리 명세서와 영수증을 다시 보험사 측에 제출해야 했다.\"\n",
        "\n",
        "documents = [doc_A, doc_B, doc_C]"
      ],
      "execution_count": 2,
      "outputs": []
    },
    {
      "cell_type": "code",
      "metadata": {
        "id": "6HuF1dGALEzp"
      },
      "source": [
        "# 한글 불용어 처리를 위한 함수\n",
        "import re\n",
        "def clean_sentense(txt):\n",
        "    pattern = '(\\d\\d\\d-\\d\\d\\d\\d-\\d\\d\\d\\d)' # 전화번호 제거 (000-0000-0000),\\d: 숫자 1개\n",
        "    txt = re.sub(pattern=pattern, repl='', string=txt)          \n",
        "    pattern = '([a-zA-Z0-9_.+-]+@[a-zA-Z0-9-]+\\.[a-zA-Z0-9-.]+)' # E-mail제거, a-z 사이의 문자, \n",
        "    txt = re.sub(pattern=pattern, repl='', string=txt)\n",
        "    pattern = '(http|ftp|https)://(?:[-\\w.]|(?:%[\\da-fA-F]{2}))+' # URL제거\n",
        "    txt = re.sub(pattern=pattern, repl='', string=txt)\n",
        "    pattern = '([ㄱ-ㅎㅏ-ㅣ]+)'  # 한글 자음, 모음 제거\n",
        "    txt = re.sub(pattern=pattern, repl='', string=txt)\n",
        "    pattern = '<[^>]*>'         # HTML 태그 제거\n",
        "    txt = re.sub(pattern=pattern, repl='', string=txt)\n",
        "    pattern = '[^\\w\\s]'         # 특수기호제거\n",
        "    txt = re.sub(pattern=pattern, repl='', string=txt)\n",
        "    \n",
        "    return txt   "
      ],
      "execution_count": 3,
      "outputs": []
    },
    {
      "cell_type": "code",
      "metadata": {
        "id": "epPtjNhF3bP5",
        "outputId": "6cea6dbf-9bb4-48f9-f238-0a2499a06691",
        "colab": {
          "base_uri": "https://localhost:8080/",
          "height": 611
        }
      },
      "source": [
        "!pip3 install konlpy"
      ],
      "execution_count": 6,
      "outputs": [
        {
          "output_type": "stream",
          "text": [
            "Collecting konlpy\n",
            "\u001b[?25l  Downloading https://files.pythonhosted.org/packages/85/0e/f385566fec837c0b83f216b2da65db9997b35dd675e107752005b7d392b1/konlpy-0.5.2-py2.py3-none-any.whl (19.4MB)\n",
            "\u001b[K     |████████████████████████████████| 19.4MB 1.1MB/s \n",
            "\u001b[?25hCollecting tweepy>=3.7.0\n",
            "  Downloading https://files.pythonhosted.org/packages/bb/7c/99d51f80f3b77b107ebae2634108717362c059a41384a1810d13e2429a81/tweepy-3.9.0-py2.py3-none-any.whl\n",
            "Collecting colorama\n",
            "  Downloading https://files.pythonhosted.org/packages/c9/dc/45cdef1b4d119eb96316b3117e6d5708a08029992b2fee2c143c7a0a5cc5/colorama-0.4.3-py2.py3-none-any.whl\n",
            "Collecting JPype1>=0.7.0\n",
            "\u001b[?25l  Downloading https://files.pythonhosted.org/packages/8b/f7/a368401e630f0e390dd0e62c39fb928e5b23741b53c2360ee7d376660927/JPype1-1.0.2-cp36-cp36m-manylinux2010_x86_64.whl (3.8MB)\n",
            "\u001b[K     |████████████████████████████████| 3.8MB 62.4MB/s \n",
            "\u001b[?25hRequirement already satisfied: lxml>=4.1.0 in /usr/local/lib/python3.6/dist-packages (from konlpy) (4.2.6)\n",
            "Requirement already satisfied: numpy>=1.6 in /usr/local/lib/python3.6/dist-packages (from konlpy) (1.18.5)\n",
            "Collecting beautifulsoup4==4.6.0\n",
            "\u001b[?25l  Downloading https://files.pythonhosted.org/packages/9e/d4/10f46e5cfac773e22707237bfcd51bbffeaf0a576b0a847ec7ab15bd7ace/beautifulsoup4-4.6.0-py3-none-any.whl (86kB)\n",
            "\u001b[K     |████████████████████████████████| 92kB 10.9MB/s \n",
            "\u001b[?25hRequirement already satisfied: requests[socks]>=2.11.1 in /usr/local/lib/python3.6/dist-packages (from tweepy>=3.7.0->konlpy) (2.23.0)\n",
            "Requirement already satisfied: requests-oauthlib>=0.7.0 in /usr/local/lib/python3.6/dist-packages (from tweepy>=3.7.0->konlpy) (1.3.0)\n",
            "Requirement already satisfied: six>=1.10.0 in /usr/local/lib/python3.6/dist-packages (from tweepy>=3.7.0->konlpy) (1.15.0)\n",
            "Requirement already satisfied: typing-extensions; python_version < \"3.8\" in /usr/local/lib/python3.6/dist-packages (from JPype1>=0.7.0->konlpy) (3.7.4.3)\n",
            "Requirement already satisfied: certifi>=2017.4.17 in /usr/local/lib/python3.6/dist-packages (from requests[socks]>=2.11.1->tweepy>=3.7.0->konlpy) (2020.6.20)\n",
            "Requirement already satisfied: urllib3!=1.25.0,!=1.25.1,<1.26,>=1.21.1 in /usr/local/lib/python3.6/dist-packages (from requests[socks]>=2.11.1->tweepy>=3.7.0->konlpy) (1.24.3)\n",
            "Requirement already satisfied: idna<3,>=2.5 in /usr/local/lib/python3.6/dist-packages (from requests[socks]>=2.11.1->tweepy>=3.7.0->konlpy) (2.10)\n",
            "Requirement already satisfied: chardet<4,>=3.0.2 in /usr/local/lib/python3.6/dist-packages (from requests[socks]>=2.11.1->tweepy>=3.7.0->konlpy) (3.0.4)\n",
            "Requirement already satisfied: PySocks!=1.5.7,>=1.5.6; extra == \"socks\" in /usr/local/lib/python3.6/dist-packages (from requests[socks]>=2.11.1->tweepy>=3.7.0->konlpy) (1.7.1)\n",
            "Requirement already satisfied: oauthlib>=3.0.0 in /usr/local/lib/python3.6/dist-packages (from requests-oauthlib>=0.7.0->tweepy>=3.7.0->konlpy) (3.1.0)\n",
            "Installing collected packages: tweepy, colorama, JPype1, beautifulsoup4, konlpy\n",
            "  Found existing installation: tweepy 3.6.0\n",
            "    Uninstalling tweepy-3.6.0:\n",
            "      Successfully uninstalled tweepy-3.6.0\n",
            "  Found existing installation: beautifulsoup4 4.6.3\n",
            "    Uninstalling beautifulsoup4-4.6.3:\n",
            "      Successfully uninstalled beautifulsoup4-4.6.3\n",
            "Successfully installed JPype1-1.0.2 beautifulsoup4-4.6.0 colorama-0.4.3 konlpy-0.5.2 tweepy-3.9.0\n"
          ],
          "name": "stdout"
        }
      ]
    },
    {
      "cell_type": "code",
      "metadata": {
        "id": "xIArPluQLEzr"
      },
      "source": [
        "# 형태소 분석기를 사용하여 문서 처리 (특정 POS 추출, 1글자 제외)\n",
        "from konlpy.tag import Kkma\n",
        "kkma = Kkma()\n",
        "\n",
        "# 명사와 동사만 추출하는 함수\n",
        "def extPOS(x):\n",
        "    allowed_postags=['NNG', 'NNP', 'VV']\n",
        "    texts = kkma.pos(x) \n",
        "    texts_out = []\n",
        "    #print(texts)\n",
        "    \n",
        "    for sent in texts:         \n",
        "        if sent[1] in allowed_postags:\n",
        "            texts_out.append(sent[0])\n",
        "    \n",
        "    return \" \".join(texts_out)"
      ],
      "execution_count": 7,
      "outputs": []
    },
    {
      "cell_type": "code",
      "metadata": {
        "id": "dNQS98DxLEzs",
        "outputId": "e1c1b66a-3d6d-4ddb-b277-305631f6a55d",
        "colab": {
          "base_uri": "https://localhost:8080/",
          "height": 71
        }
      },
      "source": [
        "documents = [clean_sentense(sent) for sent in documents ]\n",
        "documents = [extPOS(doc) for doc in documents ]\n",
        "\n",
        "documents"
      ],
      "execution_count": 8,
      "outputs": [
        {
          "output_type": "execute_result",
          "data": {
            "text/plain": [
              "['카카오 이 개인 정보 털리 본인 모르 카카오 결제 되 피해 보 이용자 수사 결과 나오 전 보상 하 등 강화 이용자 보호 정책 도입',\n",
              " '카카오 이 내달 도입 예정 새 정책 핵심 개인 정보 도용 부정 결제 인하 피해 사례 접수 외부 기관 수사 의뢰 별개 자체 사고 조사 하 선량 피해자 판명 보상',\n",
              " '지금 고객 카카오 휴대폰 파손 따르 보험 혜택 받으 센터 방문 수리 받 종이 되 수리 명세서 영수증 보험사 제출 하']"
            ]
          },
          "metadata": {
            "tags": []
          },
          "execution_count": 8
        }
      ]
    },
    {
      "cell_type": "code",
      "metadata": {
        "id": "nVGCHImOLEzv",
        "outputId": "d8de38f7-0275-4982-c538-5cffc0773132",
        "colab": {
          "base_uri": "https://localhost:8080/",
          "height": 159
        }
      },
      "source": [
        "# Scikit Learn 라이브러리 선언\n",
        "from sklearn.feature_extraction.text import CountVectorizer\n",
        "import pandas as pd\n",
        "\n",
        "# Document Term Matrix 생성, Bag of Words 를 사용하여 기간 빈도를 계산함\n",
        "count_vectorizer = CountVectorizer()\n",
        "sparse_matrix = count_vectorizer.fit_transform(documents)\n",
        "\n",
        "# (선택) Sparse Matrix를 Pandas Dataframe으로 변환(조회용) \n",
        "doc_term_matrix = sparse_matrix.todense()\n",
        "df = pd.DataFrame(doc_term_matrix, \n",
        "                  columns=count_vectorizer.get_feature_names(), \n",
        "                  index=['doc_A', 'doc_B', 'doc_C'])\n",
        "df"
      ],
      "execution_count": 9,
      "outputs": [
        {
          "output_type": "execute_result",
          "data": {
            "text/html": [
              "<div>\n",
              "<style scoped>\n",
              "    .dataframe tbody tr th:only-of-type {\n",
              "        vertical-align: middle;\n",
              "    }\n",
              "\n",
              "    .dataframe tbody tr th {\n",
              "        vertical-align: top;\n",
              "    }\n",
              "\n",
              "    .dataframe thead th {\n",
              "        text-align: right;\n",
              "    }\n",
              "</style>\n",
              "<table border=\"1\" class=\"dataframe\">\n",
              "  <thead>\n",
              "    <tr style=\"text-align: right;\">\n",
              "      <th></th>\n",
              "      <th>강화</th>\n",
              "      <th>개인</th>\n",
              "      <th>결과</th>\n",
              "      <th>결제</th>\n",
              "      <th>고객</th>\n",
              "      <th>기관</th>\n",
              "      <th>나오</th>\n",
              "      <th>내달</th>\n",
              "      <th>도용</th>\n",
              "      <th>도입</th>\n",
              "      <th>따르</th>\n",
              "      <th>명세서</th>\n",
              "      <th>모르</th>\n",
              "      <th>받으</th>\n",
              "      <th>방문</th>\n",
              "      <th>별개</th>\n",
              "      <th>보상</th>\n",
              "      <th>보험</th>\n",
              "      <th>보험사</th>\n",
              "      <th>보호</th>\n",
              "      <th>본인</th>\n",
              "      <th>부정</th>\n",
              "      <th>사고</th>\n",
              "      <th>사례</th>\n",
              "      <th>선량</th>\n",
              "      <th>센터</th>\n",
              "      <th>수리</th>\n",
              "      <th>수사</th>\n",
              "      <th>영수증</th>\n",
              "      <th>예정</th>\n",
              "      <th>외부</th>\n",
              "      <th>의뢰</th>\n",
              "      <th>이용자</th>\n",
              "      <th>인하</th>\n",
              "      <th>자체</th>\n",
              "      <th>접수</th>\n",
              "      <th>정보</th>\n",
              "      <th>정책</th>\n",
              "      <th>제출</th>\n",
              "      <th>조사</th>\n",
              "      <th>종이</th>\n",
              "      <th>지금</th>\n",
              "      <th>카카오</th>\n",
              "      <th>털리</th>\n",
              "      <th>파손</th>\n",
              "      <th>판명</th>\n",
              "      <th>피해</th>\n",
              "      <th>피해자</th>\n",
              "      <th>핵심</th>\n",
              "      <th>혜택</th>\n",
              "      <th>휴대폰</th>\n",
              "    </tr>\n",
              "  </thead>\n",
              "  <tbody>\n",
              "    <tr>\n",
              "      <th>doc_A</th>\n",
              "      <td>1</td>\n",
              "      <td>1</td>\n",
              "      <td>1</td>\n",
              "      <td>1</td>\n",
              "      <td>0</td>\n",
              "      <td>0</td>\n",
              "      <td>1</td>\n",
              "      <td>0</td>\n",
              "      <td>0</td>\n",
              "      <td>1</td>\n",
              "      <td>0</td>\n",
              "      <td>0</td>\n",
              "      <td>1</td>\n",
              "      <td>0</td>\n",
              "      <td>0</td>\n",
              "      <td>0</td>\n",
              "      <td>1</td>\n",
              "      <td>0</td>\n",
              "      <td>0</td>\n",
              "      <td>1</td>\n",
              "      <td>1</td>\n",
              "      <td>0</td>\n",
              "      <td>0</td>\n",
              "      <td>0</td>\n",
              "      <td>0</td>\n",
              "      <td>0</td>\n",
              "      <td>0</td>\n",
              "      <td>1</td>\n",
              "      <td>0</td>\n",
              "      <td>0</td>\n",
              "      <td>0</td>\n",
              "      <td>0</td>\n",
              "      <td>2</td>\n",
              "      <td>0</td>\n",
              "      <td>0</td>\n",
              "      <td>0</td>\n",
              "      <td>1</td>\n",
              "      <td>1</td>\n",
              "      <td>0</td>\n",
              "      <td>0</td>\n",
              "      <td>0</td>\n",
              "      <td>0</td>\n",
              "      <td>2</td>\n",
              "      <td>1</td>\n",
              "      <td>0</td>\n",
              "      <td>0</td>\n",
              "      <td>1</td>\n",
              "      <td>0</td>\n",
              "      <td>0</td>\n",
              "      <td>0</td>\n",
              "      <td>0</td>\n",
              "    </tr>\n",
              "    <tr>\n",
              "      <th>doc_B</th>\n",
              "      <td>0</td>\n",
              "      <td>1</td>\n",
              "      <td>0</td>\n",
              "      <td>1</td>\n",
              "      <td>0</td>\n",
              "      <td>1</td>\n",
              "      <td>0</td>\n",
              "      <td>1</td>\n",
              "      <td>1</td>\n",
              "      <td>1</td>\n",
              "      <td>0</td>\n",
              "      <td>0</td>\n",
              "      <td>0</td>\n",
              "      <td>0</td>\n",
              "      <td>0</td>\n",
              "      <td>1</td>\n",
              "      <td>1</td>\n",
              "      <td>0</td>\n",
              "      <td>0</td>\n",
              "      <td>0</td>\n",
              "      <td>0</td>\n",
              "      <td>1</td>\n",
              "      <td>1</td>\n",
              "      <td>1</td>\n",
              "      <td>1</td>\n",
              "      <td>0</td>\n",
              "      <td>0</td>\n",
              "      <td>1</td>\n",
              "      <td>0</td>\n",
              "      <td>1</td>\n",
              "      <td>1</td>\n",
              "      <td>1</td>\n",
              "      <td>0</td>\n",
              "      <td>1</td>\n",
              "      <td>1</td>\n",
              "      <td>1</td>\n",
              "      <td>1</td>\n",
              "      <td>1</td>\n",
              "      <td>0</td>\n",
              "      <td>1</td>\n",
              "      <td>0</td>\n",
              "      <td>0</td>\n",
              "      <td>1</td>\n",
              "      <td>0</td>\n",
              "      <td>0</td>\n",
              "      <td>1</td>\n",
              "      <td>1</td>\n",
              "      <td>1</td>\n",
              "      <td>1</td>\n",
              "      <td>0</td>\n",
              "      <td>0</td>\n",
              "    </tr>\n",
              "    <tr>\n",
              "      <th>doc_C</th>\n",
              "      <td>0</td>\n",
              "      <td>0</td>\n",
              "      <td>0</td>\n",
              "      <td>0</td>\n",
              "      <td>1</td>\n",
              "      <td>0</td>\n",
              "      <td>0</td>\n",
              "      <td>0</td>\n",
              "      <td>0</td>\n",
              "      <td>0</td>\n",
              "      <td>1</td>\n",
              "      <td>1</td>\n",
              "      <td>0</td>\n",
              "      <td>1</td>\n",
              "      <td>1</td>\n",
              "      <td>0</td>\n",
              "      <td>0</td>\n",
              "      <td>1</td>\n",
              "      <td>1</td>\n",
              "      <td>0</td>\n",
              "      <td>0</td>\n",
              "      <td>0</td>\n",
              "      <td>0</td>\n",
              "      <td>0</td>\n",
              "      <td>0</td>\n",
              "      <td>1</td>\n",
              "      <td>2</td>\n",
              "      <td>0</td>\n",
              "      <td>1</td>\n",
              "      <td>0</td>\n",
              "      <td>0</td>\n",
              "      <td>0</td>\n",
              "      <td>0</td>\n",
              "      <td>0</td>\n",
              "      <td>0</td>\n",
              "      <td>0</td>\n",
              "      <td>0</td>\n",
              "      <td>0</td>\n",
              "      <td>1</td>\n",
              "      <td>0</td>\n",
              "      <td>1</td>\n",
              "      <td>1</td>\n",
              "      <td>1</td>\n",
              "      <td>0</td>\n",
              "      <td>1</td>\n",
              "      <td>0</td>\n",
              "      <td>0</td>\n",
              "      <td>0</td>\n",
              "      <td>0</td>\n",
              "      <td>1</td>\n",
              "      <td>1</td>\n",
              "    </tr>\n",
              "  </tbody>\n",
              "</table>\n",
              "</div>"
            ],
            "text/plain": [
              "       강화  개인  결과  결제  고객  기관  나오  내달  ...  털리  파손  판명  피해  피해자  핵심  혜택  휴대폰\n",
              "doc_A   1   1   1   1   0   0   1   0  ...   1   0   0   1    0   0   0    0\n",
              "doc_B   0   1   0   1   0   1   0   1  ...   0   0   1   1    1   1   0    0\n",
              "doc_C   0   0   0   0   1   0   0   0  ...   0   1   0   0    0   0   1    1\n",
              "\n",
              "[3 rows x 51 columns]"
            ]
          },
          "metadata": {
            "tags": []
          },
          "execution_count": 9
        }
      ]
    },
    {
      "cell_type": "code",
      "metadata": {
        "id": "bCWDmTaZLEzy",
        "outputId": "c46eeca4-2085-4be6-d19d-c781c823b155",
        "colab": {
          "base_uri": "https://localhost:8080/",
          "height": 71
        }
      },
      "source": [
        "# Compute Cosine Similarity\n",
        "from sklearn.metrics.pairwise import cosine_similarity\n",
        "print(cosine_similarity(df, df))\n",
        "#> [[ 1.          0.48927489  0.37139068]\n",
        "#>  [ 0.48927489  1.          0.38829014]\n",
        "#>  [ 0.37139068  0.38829014  1.        ]]"
      ],
      "execution_count": 10,
      "outputs": [
        {
          "output_type": "stream",
          "text": [
            "[[1.         0.40128618 0.09325048]\n",
            " [0.40128618 1.         0.04303315]\n",
            " [0.09325048 0.04303315 1.        ]]\n"
          ],
          "name": "stdout"
        }
      ]
    },
    {
      "cell_type": "markdown",
      "metadata": {
        "id": "jhfJdioGLEz0"
      },
      "source": [
        "2. Jaccard 유사성\n",
        " - 비교 대상 2개 문서의 교집합의 크기를 2개 문서의 합집합 크기로 나눈 것으로 정의"
      ]
    },
    {
      "cell_type": "code",
      "metadata": {
        "id": "C2Rm7Jy_LEz0"
      },
      "source": [
        "# Jaccard 유사도 비교 함수 \n",
        "def get_jaccard_sim(str1, str2):     \n",
        "    a = set(str1.split())      \n",
        "    b = set(str2.split())\n",
        "    c = a.intersection(b) # a와 b의 교집합을 구함\n",
        "    return float(len(c)) / (len(a) + len(b) - len(c))"
      ],
      "execution_count": 11,
      "outputs": []
    },
    {
      "cell_type": "code",
      "metadata": {
        "id": "qZ98D4nmLEz2",
        "outputId": "16179201-7cda-4b09-a037-0e55019bcc8b",
        "colab": {
          "base_uri": "https://localhost:8080/",
          "height": 35
        }
      },
      "source": [
        "documents[0]"
      ],
      "execution_count": 12,
      "outputs": [
        {
          "output_type": "execute_result",
          "data": {
            "application/vnd.google.colaboratory.intrinsic+json": {
              "type": "string"
            },
            "text/plain": [
              "'카카오 이 개인 정보 털리 본인 모르 카카오 결제 되 피해 보 이용자 수사 결과 나오 전 보상 하 등 강화 이용자 보호 정책 도입'"
            ]
          },
          "metadata": {
            "tags": []
          },
          "execution_count": 12
        }
      ]
    },
    {
      "cell_type": "code",
      "metadata": {
        "id": "Mp8ytnZtLEz4",
        "outputId": "3a4c9fac-f695-4e2a-dada-e4d9677f6ecc",
        "colab": {
          "base_uri": "https://localhost:8080/",
          "height": 35
        }
      },
      "source": [
        "b=set(documents[0].split())  # 중복을 허용하지 않는 집햡자료형으로 변환 \n",
        "print(b)"
      ],
      "execution_count": 13,
      "outputs": [
        {
          "output_type": "stream",
          "text": [
            "{'피해', '결과', '나오', '하', '본인', '정책', '카카오', '모르', '수사', '도입', '보상', '강화', '보', '정보', '이용자', '결제', '이', '등', '털리', '보호', '개인', '되', '전'}\n"
          ],
          "name": "stdout"
        }
      ]
    },
    {
      "cell_type": "code",
      "metadata": {
        "id": "4eDEkn4LLEz6",
        "outputId": "c811fa08-2e69-465c-ccb9-ce442d3b527b",
        "colab": {
          "base_uri": "https://localhost:8080/",
          "height": 35
        }
      },
      "source": [
        "# 문서A와 문서B의 유사도 계산\n",
        "get_jaccard_sim(documents[0], documents[1])"
      ],
      "execution_count": 14,
      "outputs": [
        {
          "output_type": "execute_result",
          "data": {
            "text/plain": [
              "0.2619047619047619"
            ]
          },
          "metadata": {
            "tags": []
          },
          "execution_count": 14
        }
      ]
    },
    {
      "cell_type": "code",
      "metadata": {
        "id": "ToUkCMr1LEz8",
        "outputId": "00d5cbf0-0d4d-4a13-c8af-f6d58ea1a568",
        "colab": {
          "base_uri": "https://localhost:8080/",
          "height": 35
        }
      },
      "source": [
        "# 문서B와 문서C의 유사도 계산\n",
        "get_jaccard_sim(documents[1], documents[2])"
      ],
      "execution_count": 15,
      "outputs": [
        {
          "output_type": "execute_result",
          "data": {
            "text/plain": [
              "0.041666666666666664"
            ]
          },
          "metadata": {
            "tags": []
          },
          "execution_count": 15
        }
      ]
    },
    {
      "cell_type": "code",
      "metadata": {
        "id": "9eQhCfN7LEz-",
        "outputId": "1c82a300-2245-440b-ec83-c6f8ea2fa455",
        "colab": {
          "base_uri": "https://localhost:8080/",
          "height": 35
        }
      },
      "source": [
        "# 문서A와 문서C의 유사도 계산\n",
        "get_jaccard_sim(documents[0], documents[2])"
      ],
      "execution_count": 16,
      "outputs": [
        {
          "output_type": "execute_result",
          "data": {
            "text/plain": [
              "0.075"
            ]
          },
          "metadata": {
            "tags": []
          },
          "execution_count": 16
        }
      ]
    }
  ]
}