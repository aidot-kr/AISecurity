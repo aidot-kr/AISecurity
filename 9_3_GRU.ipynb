{
  "nbformat": 4,
  "nbformat_minor": 0,
  "metadata": {
    "kernelspec": {
      "display_name": "Python 3",
      "language": "python",
      "name": "python3"
    },
    "language_info": {
      "codemirror_mode": {
        "name": "ipython",
        "version": 3
      },
      "file_extension": ".py",
      "mimetype": "text/x-python",
      "name": "python",
      "nbconvert_exporter": "python",
      "pygments_lexer": "ipython3",
      "version": "3.7.3"
    },
    "colab": {
      "name": "9-3_GRU.ipynb",
      "provenance": [],
      "collapsed_sections": [],
      "include_colab_link": true
    }
  },
  "cells": [
    {
      "cell_type": "markdown",
      "metadata": {
        "id": "view-in-github",
        "colab_type": "text"
      },
      "source": [
        "<a href=\"https://colab.research.google.com/github/aidot-kr/AISecurity/blob/master/9_3_GRU.ipynb\" target=\"_parent\"><img src=\"https://colab.research.google.com/assets/colab-badge.svg\" alt=\"Open In Colab\"/></a>"
      ]
    },
    {
      "cell_type": "markdown",
      "metadata": {
        "id": "Ou7MRLopCEMC"
      },
      "source": [
        "### hihello에서 마지막 o를 추측하는 예제"
      ]
    },
    {
      "cell_type": "code",
      "source": [
        "!pip install tensorflow==1.14"
      ],
      "metadata": {
        "id": "1s9xGeErb5rj"
      },
      "execution_count": null,
      "outputs": []
    },
    {
      "cell_type": "code",
      "metadata": {
        "id": "W89AJTYnCEMD",
        "outputId": "008ae693-6ca4-4b8d-ae51-236b8c466463",
        "colab": {
          "base_uri": "https://localhost:8080/"
        }
      },
      "source": [
        "import tensorflow as tf\n",
        "import numpy as np"
      ],
      "execution_count": 2,
      "outputs": [
        {
          "output_type": "stream",
          "name": "stderr",
          "text": [
            "/usr/local/lib/python3.7/dist-packages/tensorflow/python/framework/dtypes.py:516: FutureWarning: Passing (type, 1) or '1type' as a synonym of type is deprecated; in a future version of numpy, it will be understood as (type, (1,)) / '(1,)type'.\n",
            "  _np_qint8 = np.dtype([(\"qint8\", np.int8, 1)])\n",
            "/usr/local/lib/python3.7/dist-packages/tensorflow/python/framework/dtypes.py:517: FutureWarning: Passing (type, 1) or '1type' as a synonym of type is deprecated; in a future version of numpy, it will be understood as (type, (1,)) / '(1,)type'.\n",
            "  _np_quint8 = np.dtype([(\"quint8\", np.uint8, 1)])\n",
            "/usr/local/lib/python3.7/dist-packages/tensorflow/python/framework/dtypes.py:518: FutureWarning: Passing (type, 1) or '1type' as a synonym of type is deprecated; in a future version of numpy, it will be understood as (type, (1,)) / '(1,)type'.\n",
            "  _np_qint16 = np.dtype([(\"qint16\", np.int16, 1)])\n",
            "/usr/local/lib/python3.7/dist-packages/tensorflow/python/framework/dtypes.py:519: FutureWarning: Passing (type, 1) or '1type' as a synonym of type is deprecated; in a future version of numpy, it will be understood as (type, (1,)) / '(1,)type'.\n",
            "  _np_quint16 = np.dtype([(\"quint16\", np.uint16, 1)])\n",
            "/usr/local/lib/python3.7/dist-packages/tensorflow/python/framework/dtypes.py:520: FutureWarning: Passing (type, 1) or '1type' as a synonym of type is deprecated; in a future version of numpy, it will be understood as (type, (1,)) / '(1,)type'.\n",
            "  _np_qint32 = np.dtype([(\"qint32\", np.int32, 1)])\n",
            "/usr/local/lib/python3.7/dist-packages/tensorflow/python/framework/dtypes.py:525: FutureWarning: Passing (type, 1) or '1type' as a synonym of type is deprecated; in a future version of numpy, it will be understood as (type, (1,)) / '(1,)type'.\n",
            "  np_resource = np.dtype([(\"resource\", np.ubyte, 1)])\n",
            "/usr/local/lib/python3.7/dist-packages/tensorboard/compat/tensorflow_stub/dtypes.py:541: FutureWarning: Passing (type, 1) or '1type' as a synonym of type is deprecated; in a future version of numpy, it will be understood as (type, (1,)) / '(1,)type'.\n",
            "  _np_qint8 = np.dtype([(\"qint8\", np.int8, 1)])\n",
            "/usr/local/lib/python3.7/dist-packages/tensorboard/compat/tensorflow_stub/dtypes.py:542: FutureWarning: Passing (type, 1) or '1type' as a synonym of type is deprecated; in a future version of numpy, it will be understood as (type, (1,)) / '(1,)type'.\n",
            "  _np_quint8 = np.dtype([(\"quint8\", np.uint8, 1)])\n",
            "/usr/local/lib/python3.7/dist-packages/tensorboard/compat/tensorflow_stub/dtypes.py:543: FutureWarning: Passing (type, 1) or '1type' as a synonym of type is deprecated; in a future version of numpy, it will be understood as (type, (1,)) / '(1,)type'.\n",
            "  _np_qint16 = np.dtype([(\"qint16\", np.int16, 1)])\n",
            "/usr/local/lib/python3.7/dist-packages/tensorboard/compat/tensorflow_stub/dtypes.py:544: FutureWarning: Passing (type, 1) or '1type' as a synonym of type is deprecated; in a future version of numpy, it will be understood as (type, (1,)) / '(1,)type'.\n",
            "  _np_quint16 = np.dtype([(\"quint16\", np.uint16, 1)])\n",
            "/usr/local/lib/python3.7/dist-packages/tensorboard/compat/tensorflow_stub/dtypes.py:545: FutureWarning: Passing (type, 1) or '1type' as a synonym of type is deprecated; in a future version of numpy, it will be understood as (type, (1,)) / '(1,)type'.\n",
            "  _np_qint32 = np.dtype([(\"qint32\", np.int32, 1)])\n",
            "/usr/local/lib/python3.7/dist-packages/tensorboard/compat/tensorflow_stub/dtypes.py:550: FutureWarning: Passing (type, 1) or '1type' as a synonym of type is deprecated; in a future version of numpy, it will be understood as (type, (1,)) / '(1,)type'.\n",
            "  np_resource = np.dtype([(\"resource\", np.ubyte, 1)])\n"
          ]
        }
      ]
    },
    {
      "cell_type": "markdown",
      "metadata": {
        "id": "0AmtXKpfCEMH"
      },
      "source": [
        "#### 1. 데이터 초기화\n",
        "##### 1) 학습 데이터 \"hihello\" 에서 중복되지 않는 문자를 숫자로 표현한다.\n",
        "##### 2) 숫자로 표현된 데이터를 one-hot encoding 한다.\n",
        "##### 3) 답안 데이터를 생성한다."
      ]
    },
    {
      "cell_type": "code",
      "metadata": {
        "id": "CpfbGlm_CEMI"
      },
      "source": [
        "# 1) 학습 데이터 \"hihello\" 에서 중복되지 않는 문자를 숫자로 표현한다.\n",
        "# h = 0, i = 1, e = 2, L = 3, o = 4\n",
        "idx2char = ['h', 'i', 'e', 'l', 'o']\n",
        "\n",
        "# hihell\n",
        "x_data = [[0, 1, 0, 2, 3, 3]]\n",
        "\n",
        "# 2) 숫자로 표현된 데이터를 one-hot encoding 한다.\n",
        "x_one_hot = [[[1, 0, 0, 0, 0],  # h = 0\n",
        "              [0, 1, 0, 0, 0],  # i = 1\n",
        "              [1, 0, 0, 0, 0],  # h = 0\n",
        "              [0, 0, 1, 0, 0],  # e = 2\n",
        "              [0, 0, 0, 1, 0],  # l = 3\n",
        "              [0, 0, 0, 1, 0]]] # l = 3\n",
        "\n",
        "# 3) 답안으로 사용할 데이터를 생성한다.\n",
        "# ihello\n",
        "y_data = [[1, 0, 2, 3, 3, 4]]"
      ],
      "execution_count": 3,
      "outputs": []
    },
    {
      "cell_type": "markdown",
      "metadata": {
        "id": "pJqXkw5sCEML"
      },
      "source": [
        "#### 2. 파라미터 초기화"
      ]
    },
    {
      "cell_type": "code",
      "metadata": {
        "id": "f2IvAviqCEMM"
      },
      "source": [
        "num_claases = 5      # 정답 크기 (one-hot으로 나타내는 크기)\n",
        "input_dim = 5        # one-hot size, 입력값은 0부터 4까지 총 5개.\n",
        "hidden_size = 5      # output size, one-hot size와 같음.\n",
        "sequence_length = 6  # 입력으로 들어가는 문장 길이, ihello = 6\n",
        "batch_size = 1       # 한문장씩 배치. (학습에 사용되는 문자가 하나밖에 없기때문)\n",
        "learning_rate = 0.1  # 학습율\n",
        "\n",
        "# placeholder 선언 (선언과 동시에 초기화 하는 것이 아니라 선언 후, 값을 전달한다.)\n",
        "X = tf.placeholder(tf.float32, [None, sequence_length, input_dim])\n",
        "Y = tf.placeholder(tf.int32, [None, sequence_length])"
      ],
      "execution_count": 4,
      "outputs": []
    },
    {
      "cell_type": "markdown",
      "metadata": {
        "id": "K6CsI7VNCEMO"
      },
      "source": [
        "#### 3. GRUCell 실행"
      ]
    },
    {
      "cell_type": "code",
      "metadata": {
        "id": "HJVsjRTXCEMQ",
        "outputId": "1808e1de-d55c-4b53-ab56-a7cf6c3f1272",
        "colab": {
          "base_uri": "https://localhost:8080/"
        }
      },
      "source": [
        "# 은닉층에서 표현되는 one-hot 값을 전달한다. (hidden_size = 5)\n",
        "# 기본적인 RNNCell을 생성한다.\n",
        "# basic_cell = tf.contrib.rnn.BasicRNNCell(num_units=hidden_size)\n",
        "# basic_cell = tf.contrib.rnn.BasicLSTMCell(num_units=hidden_size)  # BasicLSTMCell(rnn_size)\n",
        "basic_cell = tf.contrib.rnn.GRUCell(num_units=hidden_size)\n",
        "\n",
        "# cell을 0으로 초기화 한다.\n",
        "initial_state = basic_cell.zero_state(batch_size, tf.float32)"
      ],
      "execution_count": 5,
      "outputs": [
        {
          "output_type": "stream",
          "name": "stdout",
          "text": [
            "WARNING:tensorflow:\n",
            "The TensorFlow contrib module will not be included in TensorFlow 2.0.\n",
            "For more information, please see:\n",
            "  * https://github.com/tensorflow/community/blob/master/rfcs/20180907-contrib-sunset.md\n",
            "  * https://github.com/tensorflow/addons\n",
            "  * https://github.com/tensorflow/io (for I/O related ops)\n",
            "If you depend on functionality not listed there, please file an issue.\n",
            "\n",
            "WARNING:tensorflow:From <ipython-input-5-26c32be98886>:5: GRUCell.__init__ (from tensorflow.python.ops.rnn_cell_impl) is deprecated and will be removed in a future version.\n",
            "Instructions for updating:\n",
            "This class is equivalent as tf.keras.layers.GRUCell, and will be replaced by that in Tensorflow 2.0.\n"
          ]
        }
      ]
    },
    {
      "cell_type": "markdown",
      "metadata": {
        "id": "hfbH4-_TCEMT"
      },
      "source": [
        "#### 4. dynamic_rnn 실행"
      ]
    },
    {
      "cell_type": "code",
      "metadata": {
        "id": "U9Bqf7akCEMU",
        "outputId": "e1925e99-46a9-4847-a977-aeb672d3d1b1",
        "colab": {
          "base_uri": "https://localhost:8080/"
        }
      },
      "source": [
        "# RNNCell로 지정된 반복 신경망을 만든다.\n",
        "# 내부적으로 __call__() 함수를 호출하여 Time Step 마다 Cell의 복사본을 만들고 서로 연결한다.\n",
        "outputs, _states = tf.nn.dynamic_rnn(basic_cell, X, initial_state=initial_state, dtype=tf.float32)\n",
        "\n",
        "# 모든 요소가 1로 설정된 Tensor를 생성한다.\n",
        "weights = tf.ones([batch_size, sequence_length])"
      ],
      "execution_count": 6,
      "outputs": [
        {
          "output_type": "stream",
          "name": "stdout",
          "text": [
            "WARNING:tensorflow:From <ipython-input-6-b69f2c36e0d2>:3: dynamic_rnn (from tensorflow.python.ops.rnn) is deprecated and will be removed in a future version.\n",
            "Instructions for updating:\n",
            "Please use `keras.layers.RNN(cell)`, which is equivalent to this API\n",
            "WARNING:tensorflow:From /usr/local/lib/python3.7/dist-packages/tensorflow/python/ops/init_ops.py:1251: calling VarianceScaling.__init__ (from tensorflow.python.ops.init_ops) with dtype is deprecated and will be removed in a future version.\n",
            "Instructions for updating:\n",
            "Call initializer instance with the dtype argument instead of passing it to the constructor\n",
            "WARNING:tensorflow:From /usr/local/lib/python3.7/dist-packages/tensorflow/python/ops/rnn_cell_impl.py:564: calling Constant.__init__ (from tensorflow.python.ops.init_ops) with dtype is deprecated and will be removed in a future version.\n",
            "Instructions for updating:\n",
            "Call initializer instance with the dtype argument instead of passing it to the constructor\n",
            "WARNING:tensorflow:From /usr/local/lib/python3.7/dist-packages/tensorflow/python/ops/rnn_cell_impl.py:574: calling Zeros.__init__ (from tensorflow.python.ops.init_ops) with dtype is deprecated and will be removed in a future version.\n",
            "Instructions for updating:\n",
            "Call initializer instance with the dtype argument instead of passing it to the constructor\n",
            "WARNING:tensorflow:Entity <bound method GRUCell.call of <tensorflow.python.ops.rnn_cell_impl.GRUCell object at 0x7f6b8eebc8d0>> could not be transformed and will be executed as-is. Please report this to the AutgoGraph team. When filing the bug, set the verbosity to 10 (on Linux, `export AUTOGRAPH_VERBOSITY=10`) and attach the full output. Cause: converting <bound method GRUCell.call of <tensorflow.python.ops.rnn_cell_impl.GRUCell object at 0x7f6b8eebc8d0>>: AttributeError: module 'gast' has no attribute 'Str'\n",
            "WARNING: Entity <bound method GRUCell.call of <tensorflow.python.ops.rnn_cell_impl.GRUCell object at 0x7f6b8eebc8d0>> could not be transformed and will be executed as-is. Please report this to the AutgoGraph team. When filing the bug, set the verbosity to 10 (on Linux, `export AUTOGRAPH_VERBOSITY=10`) and attach the full output. Cause: converting <bound method GRUCell.call of <tensorflow.python.ops.rnn_cell_impl.GRUCell object at 0x7f6b8eebc8d0>>: AttributeError: module 'gast' has no attribute 'Str'\n"
          ]
        }
      ]
    },
    {
      "cell_type": "markdown",
      "metadata": {
        "id": "kBWmWqN8CEMX"
      },
      "source": [
        "#### 5. Cross Entropy 생성"
      ]
    },
    {
      "cell_type": "code",
      "metadata": {
        "scrolled": true,
        "id": "uA6OSC3CCEMY"
      },
      "source": [
        "# RNNCell에 대한 Cross Entropy 생성.\n",
        "# 예측값을 넣어준다. 예측값과 실제값이 얼마나 차이나는지 계산\n",
        "seq_loss = tf.contrib.seq2seq.sequence_loss(logits=outputs, targets=Y, weights=weights)"
      ],
      "execution_count": 7,
      "outputs": []
    },
    {
      "cell_type": "markdown",
      "metadata": {
        "id": "PndMpx6LCEMa"
      },
      "source": [
        "#### 6. Optimizer 실행"
      ]
    },
    {
      "cell_type": "code",
      "metadata": {
        "id": "sYp9cxPkCEMb"
      },
      "source": [
        "# Tensor의 차원에서 요소의 평균 계산.\n",
        "loss = tf.reduce_mean(seq_loss)\n",
        "\n",
        "# Adam 알고리즘을 이용한 최적화 (확률론적 최적화 방법)\n",
        "train = tf.train.AdamOptimizer(learning_rate=learning_rate).minimize(loss)"
      ],
      "execution_count": 8,
      "outputs": []
    },
    {
      "cell_type": "markdown",
      "metadata": {
        "id": "K3XEG4n-CEMd"
      },
      "source": [
        "#### 7. 학습 실행"
      ]
    },
    {
      "cell_type": "code",
      "metadata": {
        "id": "xx_JfsLZCEMd",
        "outputId": "adbe0f16-afcf-4150-b064-f9e4d7330e15",
        "colab": {
          "base_uri": "https://localhost:8080/"
        }
      },
      "source": [
        "# tf.argmax(a, 0), 1차원 배열에서 가장 큰 값을 찾아 인덱스를 리턴.\n",
        "y = prediction = tf.argmax(outputs, axis=2)\n",
        "\n",
        "# tf.Session(), 파이썬 객체와 데이터, 객체의 메모리가 할당되어 있는 실행 환경 사이를 연결.\n",
        "with tf.Session() as sess:\n",
        "    \n",
        "    # Tensor Flow 변수 초기화 \n",
        "    sess.run(tf.global_variables_initializer())\n",
        "    \n",
        "    for step in range(2001):\n",
        "        \n",
        "        # 학습 연산 수행\n",
        "        loss_val, _ = sess.run([loss, train], feed_dict={X: x_one_hot, Y: y_data})\n",
        "        result = sess.run(y, feed_dict={X: x_one_hot})\n",
        "        \n",
        "        if step % 400 ==0:\n",
        "            print(\"step = \", step, \", loss = \", loss_val, \", prediction = \", result, \", target = \", y_data)\n",
        "\n",
        "            # 예측된 문자열\n",
        "            result_str = [idx2char[c] for c in np.squeeze(result)]\n",
        "            \n",
        "            print(\"\\tPrediction = \", ''.join(result_str))"
      ],
      "execution_count": 9,
      "outputs": [
        {
          "output_type": "stream",
          "name": "stdout",
          "text": [
            "step =  0 , loss =  1.6258966 , prediction =  [[0 0 0 2 4 4]] , target =  [[1, 0, 2, 3, 3, 4]]\n",
            "\tPrediction =  hhheoo\n",
            "step =  400 , loss =  0.50886005 , prediction =  [[1 0 2 3 3 4]] , target =  [[1, 0, 2, 3, 3, 4]]\n",
            "\tPrediction =  ihello\n",
            "step =  800 , loss =  0.50702256 , prediction =  [[1 0 2 3 3 4]] , target =  [[1, 0, 2, 3, 3, 4]]\n",
            "\tPrediction =  ihello\n",
            "step =  1200 , loss =  0.446247 , prediction =  [[1 0 2 3 3 4]] , target =  [[1, 0, 2, 3, 3, 4]]\n",
            "\tPrediction =  ihello\n",
            "step =  1600 , loss =  0.44224057 , prediction =  [[1 0 2 3 3 4]] , target =  [[1, 0, 2, 3, 3, 4]]\n",
            "\tPrediction =  ihello\n",
            "step =  2000 , loss =  0.44053653 , prediction =  [[1 0 2 3 3 4]] , target =  [[1, 0, 2, 3, 3, 4]]\n",
            "\tPrediction =  ihello\n"
          ]
        }
      ]
    },
    {
      "cell_type": "code",
      "metadata": {
        "id": "HL-JXG0HDT9Z"
      },
      "source": [
        ""
      ],
      "execution_count": 9,
      "outputs": []
    }
  ]
}