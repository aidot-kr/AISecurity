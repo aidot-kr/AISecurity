{
  "nbformat": 4,
  "nbformat_minor": 0,
  "metadata": {
    "colab": {
      "name": "13_BERT Classification.ipynb",
      "provenance": [],
      "collapsed_sections": [],
      "toc_visible": true,
      "machine_shape": "hm",
      "include_colab_link": true
    },
    "kernelspec": {
      "name": "python3",
      "display_name": "Python 3"
    },
    "accelerator": "TPU",
    "widgets": {
      "application/vnd.jupyter.widget-state+json": {
        "b722aaa458b24fd0b0c5d4fe2c652843": {
          "model_module": "@jupyter-widgets/controls",
          "model_name": "HBoxModel",
          "state": {
            "_view_name": "HBoxView",
            "_dom_classes": [],
            "_model_name": "HBoxModel",
            "_view_module": "@jupyter-widgets/controls",
            "_model_module_version": "1.5.0",
            "_view_count": null,
            "_view_module_version": "1.5.0",
            "box_style": "",
            "layout": "IPY_MODEL_529eacfc847d4516bf367f02d1560b76",
            "_model_module": "@jupyter-widgets/controls",
            "children": [
              "IPY_MODEL_f331b8ad980244e3af67f3f2ff8f6c3e",
              "IPY_MODEL_d0afc95e1e8345f594d90d48a21bfc9c"
            ]
          }
        },
        "529eacfc847d4516bf367f02d1560b76": {
          "model_module": "@jupyter-widgets/base",
          "model_name": "LayoutModel",
          "state": {
            "_view_name": "LayoutView",
            "grid_template_rows": null,
            "right": null,
            "justify_content": null,
            "_view_module": "@jupyter-widgets/base",
            "overflow": null,
            "_model_module_version": "1.2.0",
            "_view_count": null,
            "flex_flow": null,
            "width": null,
            "min_width": null,
            "border": null,
            "align_items": null,
            "bottom": null,
            "_model_module": "@jupyter-widgets/base",
            "top": null,
            "grid_column": null,
            "overflow_y": null,
            "overflow_x": null,
            "grid_auto_flow": null,
            "grid_area": null,
            "grid_template_columns": null,
            "flex": null,
            "_model_name": "LayoutModel",
            "justify_items": null,
            "grid_row": null,
            "max_height": null,
            "align_content": null,
            "visibility": null,
            "align_self": null,
            "height": null,
            "min_height": null,
            "padding": null,
            "grid_auto_rows": null,
            "grid_gap": null,
            "max_width": null,
            "order": null,
            "_view_module_version": "1.2.0",
            "grid_template_areas": null,
            "object_position": null,
            "object_fit": null,
            "grid_auto_columns": null,
            "margin": null,
            "display": null,
            "left": null
          }
        },
        "f331b8ad980244e3af67f3f2ff8f6c3e": {
          "model_module": "@jupyter-widgets/controls",
          "model_name": "FloatProgressModel",
          "state": {
            "_view_name": "ProgressView",
            "style": "IPY_MODEL_7247fbc8a3a54978bfe62c960fd3210d",
            "_dom_classes": [],
            "description": "Downloading: 100%",
            "_model_name": "FloatProgressModel",
            "bar_style": "success",
            "max": 995526,
            "_view_module": "@jupyter-widgets/controls",
            "_model_module_version": "1.5.0",
            "value": 995526,
            "_view_count": null,
            "_view_module_version": "1.5.0",
            "orientation": "horizontal",
            "min": 0,
            "description_tooltip": null,
            "_model_module": "@jupyter-widgets/controls",
            "layout": "IPY_MODEL_371cf54f227f448fb351f6c0961e7dde"
          }
        },
        "d0afc95e1e8345f594d90d48a21bfc9c": {
          "model_module": "@jupyter-widgets/controls",
          "model_name": "HTMLModel",
          "state": {
            "_view_name": "HTMLView",
            "style": "IPY_MODEL_52dd3ef74a844bf1be2e12be07c16161",
            "_dom_classes": [],
            "description": "",
            "_model_name": "HTMLModel",
            "placeholder": "​",
            "_view_module": "@jupyter-widgets/controls",
            "_model_module_version": "1.5.0",
            "value": " 996k/996k [00:00&lt;00:00, 3.57MB/s]",
            "_view_count": null,
            "_view_module_version": "1.5.0",
            "description_tooltip": null,
            "_model_module": "@jupyter-widgets/controls",
            "layout": "IPY_MODEL_abc9fc0db3de4c7aad6d34da7e35cb40"
          }
        },
        "7247fbc8a3a54978bfe62c960fd3210d": {
          "model_module": "@jupyter-widgets/controls",
          "model_name": "ProgressStyleModel",
          "state": {
            "_view_name": "StyleView",
            "_model_name": "ProgressStyleModel",
            "description_width": "initial",
            "_view_module": "@jupyter-widgets/base",
            "_model_module_version": "1.5.0",
            "_view_count": null,
            "_view_module_version": "1.2.0",
            "bar_color": null,
            "_model_module": "@jupyter-widgets/controls"
          }
        },
        "371cf54f227f448fb351f6c0961e7dde": {
          "model_module": "@jupyter-widgets/base",
          "model_name": "LayoutModel",
          "state": {
            "_view_name": "LayoutView",
            "grid_template_rows": null,
            "right": null,
            "justify_content": null,
            "_view_module": "@jupyter-widgets/base",
            "overflow": null,
            "_model_module_version": "1.2.0",
            "_view_count": null,
            "flex_flow": null,
            "width": null,
            "min_width": null,
            "border": null,
            "align_items": null,
            "bottom": null,
            "_model_module": "@jupyter-widgets/base",
            "top": null,
            "grid_column": null,
            "overflow_y": null,
            "overflow_x": null,
            "grid_auto_flow": null,
            "grid_area": null,
            "grid_template_columns": null,
            "flex": null,
            "_model_name": "LayoutModel",
            "justify_items": null,
            "grid_row": null,
            "max_height": null,
            "align_content": null,
            "visibility": null,
            "align_self": null,
            "height": null,
            "min_height": null,
            "padding": null,
            "grid_auto_rows": null,
            "grid_gap": null,
            "max_width": null,
            "order": null,
            "_view_module_version": "1.2.0",
            "grid_template_areas": null,
            "object_position": null,
            "object_fit": null,
            "grid_auto_columns": null,
            "margin": null,
            "display": null,
            "left": null
          }
        },
        "52dd3ef74a844bf1be2e12be07c16161": {
          "model_module": "@jupyter-widgets/controls",
          "model_name": "DescriptionStyleModel",
          "state": {
            "_view_name": "StyleView",
            "_model_name": "DescriptionStyleModel",
            "description_width": "",
            "_view_module": "@jupyter-widgets/base",
            "_model_module_version": "1.5.0",
            "_view_count": null,
            "_view_module_version": "1.2.0",
            "_model_module": "@jupyter-widgets/controls"
          }
        },
        "abc9fc0db3de4c7aad6d34da7e35cb40": {
          "model_module": "@jupyter-widgets/base",
          "model_name": "LayoutModel",
          "state": {
            "_view_name": "LayoutView",
            "grid_template_rows": null,
            "right": null,
            "justify_content": null,
            "_view_module": "@jupyter-widgets/base",
            "overflow": null,
            "_model_module_version": "1.2.0",
            "_view_count": null,
            "flex_flow": null,
            "width": null,
            "min_width": null,
            "border": null,
            "align_items": null,
            "bottom": null,
            "_model_module": "@jupyter-widgets/base",
            "top": null,
            "grid_column": null,
            "overflow_y": null,
            "overflow_x": null,
            "grid_auto_flow": null,
            "grid_area": null,
            "grid_template_columns": null,
            "flex": null,
            "_model_name": "LayoutModel",
            "justify_items": null,
            "grid_row": null,
            "max_height": null,
            "align_content": null,
            "visibility": null,
            "align_self": null,
            "height": null,
            "min_height": null,
            "padding": null,
            "grid_auto_rows": null,
            "grid_gap": null,
            "max_width": null,
            "order": null,
            "_view_module_version": "1.2.0",
            "grid_template_areas": null,
            "object_position": null,
            "object_fit": null,
            "grid_auto_columns": null,
            "margin": null,
            "display": null,
            "left": null
          }
        }
      }
    }
  },
  "cells": [
    {
      "cell_type": "markdown",
      "metadata": {
        "id": "view-in-github",
        "colab_type": "text"
      },
      "source": [
        "<a href=\"https://colab.research.google.com/github/aidot-kr/AISecurity/blob/master/13_BERT_Classification.ipynb\" target=\"_parent\"><img src=\"https://colab.research.google.com/assets/colab-badge.svg\" alt=\"Open In Colab\"/></a>"
      ]
    },
    {
      "cell_type": "markdown",
      "metadata": {
        "id": "v-aNMtgXfju4"
      },
      "source": [
        "## 1. BERT Pre-trained Model 및 환경셋팅\n",
        "1) 아래의 BERT사이트에 접속하여 BERT-BASE 모델 다운로드\n",
        "* https://github.com/google-research/bert  \n",
        "* BERT-Base, Multilingual Cased: 104 languages, 12-layer, 768-hidden, 12-heads, 110M parameters"
      ]
    },
    {
      "cell_type": "markdown",
      "metadata": {
        "id": "qFqS1FOz2tuT"
      },
      "source": [
        "2) 다운로드된 파일을 구글 드라이브에 업로드\n",
        "\n",
        "  * 압축 풀기 후 폴더 업로드: multi_cased_L-12_H-768_A-12\n",
        "*   제공된 소스파일과 데이터 업로드: 13.BERT Classification.ipynb, spam_text.csv, spam_train.csv\n",
        "\n",
        "\n",
        "\n",
        "![image.png](data:image/png;base64,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)"
      ]
    },
    {
      "cell_type": "markdown",
      "metadata": {
        "id": "PMG424NB_OjB"
      },
      "source": [
        "3) 구글드라이브와 Colab 연동"
      ]
    },
    {
      "cell_type": "code",
      "metadata": {
        "id": "CfMWPIrwT5To",
        "outputId": "e9c31b57-99fd-4b9a-969c-2a213b0a3464",
        "colab": {
          "base_uri": "https://localhost:8080/",
          "height": 665
        }
      },
      "source": [
        "#HuggingFace는 자연어 처리 인공지능 모델에서, BERT 모델 같은 트랜스포머 모델들을 쉽게 다룰 수 있게 해주는 패키지임\n",
        "!pip install transformers"
      ],
      "execution_count": 1,
      "outputs": [
        {
          "output_type": "stream",
          "text": [
            "Collecting transformers\n",
            "\u001b[?25l  Downloading https://files.pythonhosted.org/packages/2c/4e/4f1ede0fd7a36278844a277f8d53c21f88f37f3754abf76a5d6224f76d4a/transformers-3.4.0-py3-none-any.whl (1.3MB)\n",
            "\u001b[K     |████████████████████████████████| 1.3MB 3.4MB/s \n",
            "\u001b[?25hRequirement already satisfied: packaging in /usr/local/lib/python3.6/dist-packages (from transformers) (20.4)\n",
            "Requirement already satisfied: protobuf in /usr/local/lib/python3.6/dist-packages (from transformers) (3.12.4)\n",
            "Collecting sacremoses\n",
            "\u001b[?25l  Downloading https://files.pythonhosted.org/packages/7d/34/09d19aff26edcc8eb2a01bed8e98f13a1537005d31e95233fd48216eed10/sacremoses-0.0.43.tar.gz (883kB)\n",
            "\u001b[K     |████████████████████████████████| 890kB 21.4MB/s \n",
            "\u001b[?25hCollecting sentencepiece!=0.1.92\n",
            "\u001b[?25l  Downloading https://files.pythonhosted.org/packages/d4/a4/d0a884c4300004a78cca907a6ff9a5e9fe4f090f5d95ab341c53d28cbc58/sentencepiece-0.1.91-cp36-cp36m-manylinux1_x86_64.whl (1.1MB)\n",
            "\u001b[K     |████████████████████████████████| 1.1MB 26.8MB/s \n",
            "\u001b[?25hRequirement already satisfied: filelock in /usr/local/lib/python3.6/dist-packages (from transformers) (3.0.12)\n",
            "Requirement already satisfied: requests in /usr/local/lib/python3.6/dist-packages (from transformers) (2.23.0)\n",
            "Requirement already satisfied: regex!=2019.12.17 in /usr/local/lib/python3.6/dist-packages (from transformers) (2019.12.20)\n",
            "Requirement already satisfied: tqdm>=4.27 in /usr/local/lib/python3.6/dist-packages (from transformers) (4.41.1)\n",
            "Requirement already satisfied: dataclasses; python_version < \"3.7\" in /usr/local/lib/python3.6/dist-packages (from transformers) (0.7)\n",
            "Collecting tokenizers==0.9.2\n",
            "\u001b[?25l  Downloading https://files.pythonhosted.org/packages/7c/a5/78be1a55b2ac8d6a956f0a211d372726e2b1dd2666bb537fea9b03abd62c/tokenizers-0.9.2-cp36-cp36m-manylinux1_x86_64.whl (2.9MB)\n",
            "\u001b[K     |████████████████████████████████| 2.9MB 37.2MB/s \n",
            "\u001b[?25hRequirement already satisfied: numpy in /usr/local/lib/python3.6/dist-packages (from transformers) (1.18.5)\n",
            "Requirement already satisfied: six in /usr/local/lib/python3.6/dist-packages (from packaging->transformers) (1.15.0)\n",
            "Requirement already satisfied: pyparsing>=2.0.2 in /usr/local/lib/python3.6/dist-packages (from packaging->transformers) (2.4.7)\n",
            "Requirement already satisfied: setuptools in /usr/local/lib/python3.6/dist-packages (from protobuf->transformers) (50.3.0)\n",
            "Requirement already satisfied: click in /usr/local/lib/python3.6/dist-packages (from sacremoses->transformers) (7.1.2)\n",
            "Requirement already satisfied: joblib in /usr/local/lib/python3.6/dist-packages (from sacremoses->transformers) (0.16.0)\n",
            "Requirement already satisfied: certifi>=2017.4.17 in /usr/local/lib/python3.6/dist-packages (from requests->transformers) (2020.6.20)\n",
            "Requirement already satisfied: urllib3!=1.25.0,!=1.25.1,<1.26,>=1.21.1 in /usr/local/lib/python3.6/dist-packages (from requests->transformers) (1.24.3)\n",
            "Requirement already satisfied: chardet<4,>=3.0.2 in /usr/local/lib/python3.6/dist-packages (from requests->transformers) (3.0.4)\n",
            "Requirement already satisfied: idna<3,>=2.5 in /usr/local/lib/python3.6/dist-packages (from requests->transformers) (2.10)\n",
            "Building wheels for collected packages: sacremoses\n",
            "  Building wheel for sacremoses (setup.py) ... \u001b[?25l\u001b[?25hdone\n",
            "  Created wheel for sacremoses: filename=sacremoses-0.0.43-cp36-none-any.whl size=893257 sha256=c2dfcfab5ce302b142f3a607ece99501ea597412136103ab1d8ec9897b11a54f\n",
            "  Stored in directory: /root/.cache/pip/wheels/29/3c/fd/7ce5c3f0666dab31a50123635e6fb5e19ceb42ce38d4e58f45\n",
            "Successfully built sacremoses\n",
            "Installing collected packages: sacremoses, sentencepiece, tokenizers, transformers\n",
            "Successfully installed sacremoses-0.0.43 sentencepiece-0.1.91 tokenizers-0.9.2 transformers-3.4.0\n"
          ],
          "name": "stdout"
        }
      ]
    },
    {
      "cell_type": "code",
      "metadata": {
        "id": "zXe3FH98e8O2",
        "outputId": "cd3d7595-4647-4685-e85a-860ce4b204ba",
        "colab": {
          "base_uri": "https://localhost:8080/",
          "height": 35
        }
      },
      "source": [
        "import os\n",
        "from google.colab import drive\n",
        "drive.mount('/content/drive')"
      ],
      "execution_count": 2,
      "outputs": [
        {
          "output_type": "stream",
          "text": [
            "Mounted at /content/drive\n"
          ],
          "name": "stdout"
        }
      ]
    },
    {
      "cell_type": "code",
      "metadata": {
        "id": "XOTJjsZA_vyL",
        "outputId": "7e4bded2-63a0-4844-e007-83d4e91e29b6",
        "colab": {
          "base_uri": "https://localhost:8080/",
          "height": 35
        }
      },
      "source": [
        "cd /content/drive/My\\ Drive/AISecurity"
      ],
      "execution_count": 3,
      "outputs": [
        {
          "output_type": "stream",
          "text": [
            "/content/drive/My Drive/AISecurity\n"
          ],
          "name": "stdout"
        }
      ]
    },
    {
      "cell_type": "code",
      "metadata": {
        "id": "Dh4U4_rnBCYq",
        "outputId": "62f738a3-6dc6-486f-f586-43968d49ce39",
        "colab": {
          "base_uri": "https://localhost:8080/",
          "height": 305
        }
      },
      "source": [
        "print(os.getcwd())\n",
        "!ls"
      ],
      "execution_count": 4,
      "outputs": [
        {
          "output_type": "stream",
          "text": [
            "/content/drive/My Drive/AISecurity\n",
            " 11_Attention.ipynb\t\t      '(bak)(11_attention.ipynb'\n",
            " 11_nmt_with_attention.ipynb\t      '(Bak)12_Transformer.ipynb'\n",
            "'11_nmt_with_attention.ipynb의 사본'  '(bak)13_BERT Classification.ipynb'\n",
            " 12_transformer.ipynb\t\t       deu.txt\n",
            "'13_BERT Classification.ipynb'\t       eng-fra.txt\n",
            " 2_TFIDF.ipynb\t\t\t       kor.txt\n",
            " 3_SimpleCrawling.ipynb\t\t       model.pt\n",
            " 4_MeCab.ipynb\t\t\t       multi_cased_L-12_H-768_A-12\n",
            " 4_Pre_Processing.ipynb\t\t       ratings.txt\n",
            " 5_OneHotEncode.ipynb\t\t       Sample.ipynb\n",
            " 5_Word2Vec-FastText.ipynb\t       spam.csv\n",
            " 6_Similarity.ipynb\t\t       spam_test.csv\n",
            " 6_TopicModeling_bak.ipynb\t       spam_train.csv\n",
            " 6_TopicModeling.ipynb\t\t       spa.txt\n",
            " 7_ngram.ipynb\t\t\t       training_checkpoints\n"
          ],
          "name": "stdout"
        }
      ]
    },
    {
      "cell_type": "markdown",
      "metadata": {
        "id": "Gak730gDfcaK"
      },
      "source": [
        "## 2. 관련 패키지 선언\n"
      ]
    },
    {
      "cell_type": "code",
      "metadata": {
        "id": "KdGt1QIjUfSX"
      },
      "source": [
        "import tensorflow as tf\n",
        "import numpy as np\n",
        "import pandas as pd\n",
        "from transformers import *\n",
        "import json\n",
        "import numpy as np\n",
        "import pandas as pd\n",
        "from tqdm import tqdm\n",
        "import os"
      ],
      "execution_count": 5,
      "outputs": []
    },
    {
      "cell_type": "markdown",
      "metadata": {
        "id": "xZGDLu15Pqzl"
      },
      "source": [
        "## 3. 스팸데이터셋 준비"
      ]
    },
    {
      "cell_type": "code",
      "metadata": {
        "id": "L1KTf4LIGDpd"
      },
      "source": [
        "# 제공된 Spam data 읽기\n",
        "train = pd.read_csv(\"spam_train.csv\")\n",
        "test = pd.read_csv(\"spam_test.csv\")"
      ],
      "execution_count": 6,
      "outputs": []
    },
    {
      "cell_type": "code",
      "metadata": {
        "id": "3rK-PlSdO4I-",
        "outputId": "fdc6cfdf-ce06-476a-afcd-d3e80c3e9c8a",
        "colab": {
          "base_uri": "https://localhost:8080/",
          "height": 669
        }
      },
      "source": [
        "# Label의 1은 spam document에 해당함, 0은 정상 \n",
        "train[50:70]"
      ],
      "execution_count": 7,
      "outputs": [
        {
          "output_type": "execute_result",
          "data": {
            "text/html": [
              "<div>\n",
              "<style scoped>\n",
              "    .dataframe tbody tr th:only-of-type {\n",
              "        vertical-align: middle;\n",
              "    }\n",
              "\n",
              "    .dataframe tbody tr th {\n",
              "        vertical-align: top;\n",
              "    }\n",
              "\n",
              "    .dataframe thead th {\n",
              "        text-align: right;\n",
              "    }\n",
              "</style>\n",
              "<table border=\"1\" class=\"dataframe\">\n",
              "  <thead>\n",
              "    <tr style=\"text-align: right;\">\n",
              "      <th></th>\n",
              "      <th>label</th>\n",
              "      <th>document</th>\n",
              "      <th>Unnamed: 2</th>\n",
              "      <th>Unnamed: 3</th>\n",
              "      <th>Unnamed: 4</th>\n",
              "    </tr>\n",
              "  </thead>\n",
              "  <tbody>\n",
              "    <tr>\n",
              "      <th>50</th>\n",
              "      <td>0</td>\n",
              "      <td>Rofl betta invest in some  anti aging products</td>\n",
              "      <td>NaN</td>\n",
              "      <td>NaN</td>\n",
              "      <td>NaN</td>\n",
              "    </tr>\n",
              "    <tr>\n",
              "      <th>51</th>\n",
              "      <td>1</td>\n",
              "      <td>You are a winner U have been specially selecte...</td>\n",
              "      <td>NaN</td>\n",
              "      <td>NaN</td>\n",
              "      <td>NaN</td>\n",
              "    </tr>\n",
              "    <tr>\n",
              "      <th>52</th>\n",
              "      <td>0</td>\n",
              "      <td>sir, you will receive the account no another 1...</td>\n",
              "      <td>NaN</td>\n",
              "      <td>NaN</td>\n",
              "      <td>NaN</td>\n",
              "    </tr>\n",
              "    <tr>\n",
              "      <th>53</th>\n",
              "      <td>1</td>\n",
              "      <td>Reply with your name and address and YOU WILL ...</td>\n",
              "      <td>NaN</td>\n",
              "      <td>NaN</td>\n",
              "      <td>NaN</td>\n",
              "    </tr>\n",
              "    <tr>\n",
              "      <th>54</th>\n",
              "      <td>0</td>\n",
              "      <td>So �_'ll be submitting da project tmr rite?</td>\n",
              "      <td>NaN</td>\n",
              "      <td>NaN</td>\n",
              "      <td>NaN</td>\n",
              "    </tr>\n",
              "    <tr>\n",
              "      <th>55</th>\n",
              "      <td>1</td>\n",
              "      <td>FREE entry into our �250 weekly comp just send...</td>\n",
              "      <td>NaN</td>\n",
              "      <td>NaN</td>\n",
              "      <td>NaN</td>\n",
              "    </tr>\n",
              "    <tr>\n",
              "      <th>56</th>\n",
              "      <td>0</td>\n",
              "      <td>Jus ans me lar. U'll noe later.</td>\n",
              "      <td>NaN</td>\n",
              "      <td>NaN</td>\n",
              "      <td>NaN</td>\n",
              "    </tr>\n",
              "    <tr>\n",
              "      <th>57</th>\n",
              "      <td>0</td>\n",
              "      <td>I want to send something that can sell fast.  ...</td>\n",
              "      <td>NaN</td>\n",
              "      <td>NaN</td>\n",
              "      <td>NaN</td>\n",
              "    </tr>\n",
              "    <tr>\n",
              "      <th>58</th>\n",
              "      <td>0</td>\n",
              "      <td>have got * few things to do. may be in * pub l...</td>\n",
              "      <td>NaN</td>\n",
              "      <td>NaN</td>\n",
              "      <td>NaN</td>\n",
              "    </tr>\n",
              "    <tr>\n",
              "      <th>59</th>\n",
              "      <td>0</td>\n",
              "      <td>1's finish meeting call me.</td>\n",
              "      <td>NaN</td>\n",
              "      <td>NaN</td>\n",
              "      <td>NaN</td>\n",
              "    </tr>\n",
              "    <tr>\n",
              "      <th>60</th>\n",
              "      <td>0</td>\n",
              "      <td>Lol ok. I'll snatch her purse too.</td>\n",
              "      <td>NaN</td>\n",
              "      <td>NaN</td>\n",
              "      <td>NaN</td>\n",
              "    </tr>\n",
              "    <tr>\n",
              "      <th>61</th>\n",
              "      <td>0</td>\n",
              "      <td>\\Hello-/@drivby-:0quit edrunk sorry iff pthis ...</td>\n",
              "      <td>NaN</td>\n",
              "      <td>NaN</td>\n",
              "      <td>NaN</td>\n",
              "    </tr>\n",
              "    <tr>\n",
              "      <th>62</th>\n",
              "      <td>0</td>\n",
              "      <td>Your opinion about me? 1. Over 2. Jada 3. Kusr...</td>\n",
              "      <td>NaN</td>\n",
              "      <td>NaN</td>\n",
              "      <td>NaN</td>\n",
              "    </tr>\n",
              "    <tr>\n",
              "      <th>63</th>\n",
              "      <td>0</td>\n",
              "      <td>How much are we getting?</td>\n",
              "      <td>NaN</td>\n",
              "      <td>NaN</td>\n",
              "      <td>NaN</td>\n",
              "    </tr>\n",
              "    <tr>\n",
              "      <th>64</th>\n",
              "      <td>0</td>\n",
              "      <td>Is ur paper in e morn or aft tmr?</td>\n",
              "      <td>NaN</td>\n",
              "      <td>NaN</td>\n",
              "      <td>NaN</td>\n",
              "    </tr>\n",
              "    <tr>\n",
              "      <th>65</th>\n",
              "      <td>0</td>\n",
              "      <td>Dear relieved of westonzoyland, all going to p...</td>\n",
              "      <td>NaN</td>\n",
              "      <td>NaN</td>\n",
              "      <td>NaN</td>\n",
              "    </tr>\n",
              "    <tr>\n",
              "      <th>66</th>\n",
              "      <td>0</td>\n",
              "      <td>Hope you are having a great new semester. Do w...</td>\n",
              "      <td>NaN</td>\n",
              "      <td>NaN</td>\n",
              "      <td>NaN</td>\n",
              "    </tr>\n",
              "    <tr>\n",
              "      <th>67</th>\n",
              "      <td>0</td>\n",
              "      <td>Oh yes I can speak txt 2 u no! Hmm. Did u get ...</td>\n",
              "      <td>NaN</td>\n",
              "      <td>NaN</td>\n",
              "      <td>NaN</td>\n",
              "    </tr>\n",
              "    <tr>\n",
              "      <th>68</th>\n",
              "      <td>0</td>\n",
              "      <td>I want to show you the world, princess :) how ...</td>\n",
              "      <td>NaN</td>\n",
              "      <td>NaN</td>\n",
              "      <td>NaN</td>\n",
              "    </tr>\n",
              "    <tr>\n",
              "      <th>69</th>\n",
              "      <td>0</td>\n",
              "      <td>Nobody can decide where to eat and dad wants C...</td>\n",
              "      <td>NaN</td>\n",
              "      <td>NaN</td>\n",
              "      <td>NaN</td>\n",
              "    </tr>\n",
              "  </tbody>\n",
              "</table>\n",
              "</div>"
            ],
            "text/plain": [
              "    label  ... Unnamed: 4\n",
              "50      0  ...        NaN\n",
              "51      1  ...        NaN\n",
              "52      0  ...        NaN\n",
              "53      1  ...        NaN\n",
              "54      0  ...        NaN\n",
              "55      1  ...        NaN\n",
              "56      0  ...        NaN\n",
              "57      0  ...        NaN\n",
              "58      0  ...        NaN\n",
              "59      0  ...        NaN\n",
              "60      0  ...        NaN\n",
              "61      0  ...        NaN\n",
              "62      0  ...        NaN\n",
              "63      0  ...        NaN\n",
              "64      0  ...        NaN\n",
              "65      0  ...        NaN\n",
              "66      0  ...        NaN\n",
              "67      0  ...        NaN\n",
              "68      0  ...        NaN\n",
              "69      0  ...        NaN\n",
              "\n",
              "[20 rows x 5 columns]"
            ]
          },
          "metadata": {
            "tags": []
          },
          "execution_count": 7
        }
      ]
    },
    {
      "cell_type": "code",
      "metadata": {
        "id": "kY0fFpQbPFW3"
      },
      "source": [
        "# 불필요한 컬럼 삭제\n",
        "del train['Unnamed: 2']\n",
        "del train['Unnamed: 3']\n",
        "del train['Unnamed: 4']\n",
        "\n",
        "del test['Unnamed: 2']\n",
        "del test['Unnamed: 3']\n",
        "del test['Unnamed: 4']"
      ],
      "execution_count": 8,
      "outputs": []
    },
    {
      "cell_type": "markdown",
      "metadata": {
        "id": "BQkoEWNCP3s-"
      },
      "source": [
        "## 4. 버트 인풋 만들기\n",
        "한글 데이터를 분석하려면, 100개가 넘는 언어에 대해 훈련된 버트를 사용해야 합니다.\n",
        "multilingual BERT를 사용하도록 하겠습니다.\n",
        "모델을 로드하기에 앞서, 토크나이저를 불러오도록 하겠습니다.\n",
        "huggingface에서는 아주 쉽게 토크나이저를 불러올 수 있습니다."
      ]
    },
    {
      "cell_type": "code",
      "metadata": {
        "id": "577lP5mdU3p0",
        "outputId": "b95e9fcf-febd-49d9-f350-8504b103b097",
        "colab": {
          "base_uri": "https://localhost:8080/",
          "height": 67,
          "referenced_widgets": [
            "b722aaa458b24fd0b0c5d4fe2c652843",
            "529eacfc847d4516bf367f02d1560b76",
            "f331b8ad980244e3af67f3f2ff8f6c3e",
            "d0afc95e1e8345f594d90d48a21bfc9c",
            "7247fbc8a3a54978bfe62c960fd3210d",
            "371cf54f227f448fb351f6c0961e7dde",
            "52dd3ef74a844bf1be2e12be07c16161",
            "abc9fc0db3de4c7aad6d34da7e35cb40"
          ]
        }
      },
      "source": [
        "tokenizer = BertTokenizer.from_pretrained('bert-base-multilingual-cased')"
      ],
      "execution_count": 9,
      "outputs": [
        {
          "output_type": "display_data",
          "data": {
            "application/vnd.jupyter.widget-view+json": {
              "model_id": "b722aaa458b24fd0b0c5d4fe2c652843",
              "version_minor": 0,
              "version_major": 2
            },
            "text/plain": [
              "HBox(children=(FloatProgress(value=0.0, description='Downloading', max=995526.0, style=ProgressStyle(descripti…"
            ]
          },
          "metadata": {
            "tags": []
          }
        },
        {
          "output_type": "stream",
          "text": [
            "\n"
          ],
          "name": "stdout"
        }
      ]
    },
    {
      "cell_type": "markdown",
      "metadata": {
        "id": "b25HAe01Yk77"
      },
      "source": [
        "토큰화가 잘 되었는지 확인해 봅니다. 버트 모형은 문장 앞에 꼭 [CLS]라는 문자가 위치하고, [SEP]라는 문자가 끝에 위치합니다.\n",
        "[CLS]는 문장의 시작, [SEP]는 문장의 끝을 의미합니다."
      ]
    },
    {
      "cell_type": "code",
      "metadata": {
        "id": "prKo4MdQRbxS",
        "outputId": "888906a0-50a9-4a42-ef6f-c942d4d5e473",
        "colab": {
          "base_uri": "https://localhost:8080/",
          "height": 359
        }
      },
      "source": [
        "tokenizer.tokenize(\"Even my brother is not like to speak with me. They treat me like aids patent.\")"
      ],
      "execution_count": 10,
      "outputs": [
        {
          "output_type": "execute_result",
          "data": {
            "text/plain": [
              "['Even',\n",
              " 'my',\n",
              " 'brother',\n",
              " 'is',\n",
              " 'not',\n",
              " 'like',\n",
              " 'to',\n",
              " 'speak',\n",
              " 'with',\n",
              " 'me',\n",
              " '.',\n",
              " 'They',\n",
              " 'treat',\n",
              " 'me',\n",
              " 'like',\n",
              " 'aid',\n",
              " '##s',\n",
              " 'patent',\n",
              " '.']"
            ]
          },
          "metadata": {
            "tags": []
          },
          "execution_count": 10
        }
      ]
    },
    {
      "cell_type": "code",
      "metadata": {
        "id": "6RlIe7dwRzTF",
        "outputId": "fa733866-aba4-4f66-f3e1-d5cf5de38e9a",
        "colab": {
          "base_uri": "https://localhost:8080/",
          "height": 269
        }
      },
      "source": [
        "tokenizer.tokenize(\"내일까지는 10만원 입금이 필요합니다\")"
      ],
      "execution_count": 11,
      "outputs": [
        {
          "output_type": "execute_result",
          "data": {
            "text/plain": [
              "['내',\n",
              " '##일',\n",
              " '##까지',\n",
              " '##는',\n",
              " '10',\n",
              " '##만',\n",
              " '##원',\n",
              " '입',\n",
              " '##금',\n",
              " '##이',\n",
              " '필',\n",
              " '##요',\n",
              " '##합',\n",
              " '##니다']"
            ]
          },
          "metadata": {
            "tags": []
          },
          "execution_count": 11
        }
      ]
    },
    {
      "cell_type": "code",
      "metadata": {
        "id": "ZbO_NN47SDhq",
        "outputId": "fb8017de-4e4f-40cf-a16a-e0e8b7d827ae",
        "colab": {
          "base_uri": "https://localhost:8080/",
          "height": 35
        }
      },
      "source": [
        "\n",
        "def convert_data(data_df):\n",
        "    global tokenizer\n",
        "    \n",
        "    SEQ_LEN = 128 #SEQ_LEN : 버트에 들어갈 인풋의 길이\n",
        "    \n",
        "    tokens, masks, segments, targets = [], [], [], []\n",
        "    \n",
        "    for i in tqdm(range(len(data_df))):\n",
        "        # token : 문장을 토큰화함\n",
        "        token = tokenizer.encode(data_df[DATA_COLUMN][i], max_length=SEQ_LEN, truncation=True, padding='max_length')\n",
        "       \n",
        "        # 마스크는 토큰화한 문장에서 패딩이 아닌 부분은 1, 패딩인 부분은 0으로 통일\n",
        "        num_zeros = token.count(0)\n",
        "        mask = [1]*(SEQ_LEN-num_zeros) + [0]*num_zeros\n",
        "        \n",
        "        # 문장의 전후관계를 구분해주는 세그먼트는 문장이 1개밖에 없으므로 모두 0\n",
        "        segment = [0]*SEQ_LEN\n",
        "\n",
        "        # 버트 인풋으로 들어가는 token, mask, segment를 tokens, segments에 각각 저장\n",
        "        tokens.append(token)\n",
        "        masks.append(mask)\n",
        "        segments.append(segment)\n",
        "        \n",
        "        # 정답(스팸 : 1 정상 0)을 targets 변수에 저장해 줌\n",
        "        targets.append(data_df[LABEL_COLUMN][i])\n",
        "\n",
        "    # tokens, masks, segments, 정답 변수 targets를 numpy array로 지정    \n",
        "    tokens = np.array(tokens)\n",
        "    masks = np.array(masks)\n",
        "    segments = np.array(segments)\n",
        "    targets = np.array(targets)\n",
        "\n",
        "    return [tokens, masks, segments], targets\n",
        "\n",
        "# 위에 정의한 convert_data 함수를 불러오는 함수를 정의\n",
        "def load_data(pandas_dataframe):\n",
        "    data_df = pandas_dataframe\n",
        "    data_df[DATA_COLUMN] = data_df[DATA_COLUMN].astype(str)\n",
        "    data_df[LABEL_COLUMN] = data_df[LABEL_COLUMN].astype(int)\n",
        "    data_x, data_y = convert_data(data_df)\n",
        "    return data_x, data_y\n",
        "\n",
        "SEQ_LEN = 128\n",
        "BATCH_SIZE = 20\n",
        "# 스팸 문장을 포함하고 있는 칼럼\n",
        "DATA_COLUMN = \"document\"\n",
        "# 스팸인지를 (1=스팸,0=정상) 포함하고 있는 칼럼\n",
        "LABEL_COLUMN = \"label\"\n",
        "\n",
        "# train 데이터를 버트 인풋에 맞게 변환\n",
        "train_x, train_y = load_data(train)"
      ],
      "execution_count": 12,
      "outputs": [
        {
          "output_type": "stream",
          "text": [
            "100%|██████████| 4399/4399 [00:01<00:00, 2407.27it/s]\n"
          ],
          "name": "stderr"
        }
      ]
    },
    {
      "cell_type": "code",
      "metadata": {
        "id": "R3mspxlCSHIT",
        "outputId": "a292dc3a-34c4-4b6d-b3d8-02036a5a931b",
        "colab": {
          "base_uri": "https://localhost:8080/",
          "height": 35
        }
      },
      "source": [
        "# 훈련 성능을 검증한 test 데이터를 버트 인풋에 맞게 변환\n",
        "test_x, test_y = load_data(test)"
      ],
      "execution_count": 13,
      "outputs": [
        {
          "output_type": "stream",
          "text": [
            "100%|██████████| 1173/1173 [00:00<00:00, 2350.29it/s]\n"
          ],
          "name": "stderr"
        }
      ]
    },
    {
      "cell_type": "markdown",
      "metadata": {
        "id": "4-D5PZXUSMdN"
      },
      "source": [
        "사전학습된 버트 모델의 인풋은 문장 토큰화가 숫자로 바뀐 것과, 앞문장인지 뒷문장인지 알려주는 문장 순서 벡터가 들어갑니다. 우리는 문장 하나를 가지고만 훈련할 것이므로 순서 벡터는 모두 0으로 통일합니다.\n",
        "\n",
        "그리고 파인튜닝 시에는 문장 안에 일부 단어를 가리는 마스킹은 사용하지 않습니다."
      ]
    },
    {
      "cell_type": "code",
      "metadata": {
        "id": "BOKHcNFJSVpx",
        "outputId": "001ad418-0c63-468a-f0de-017531c2d35d",
        "colab": {
          "base_uri": "https://localhost:8080/",
          "height": 395
        }
      },
      "source": [
        "train_x"
      ],
      "execution_count": 14,
      "outputs": [
        {
          "output_type": "execute_result",
          "data": {
            "text/plain": [
              "[array([[  101, 23145, 17367, ...,     0,     0,     0],\n",
              "        [  101, 25148, 10157, ...,     0,     0,     0],\n",
              "        [  101, 20220, 24874, ...,     0,     0,     0],\n",
              "        ...,\n",
              "        [  101, 79321, 10157, ...,     0,     0,     0],\n",
              "        [  101, 10117, 75980, ...,     0,     0,     0],\n",
              "        [  101,   155, 20324, ...,     0,     0,     0]]),\n",
              " array([[1, 1, 1, ..., 0, 0, 0],\n",
              "        [1, 1, 1, ..., 0, 0, 0],\n",
              "        [1, 1, 1, ..., 0, 0, 0],\n",
              "        ...,\n",
              "        [1, 1, 1, ..., 0, 0, 0],\n",
              "        [1, 1, 1, ..., 0, 0, 0],\n",
              "        [1, 1, 1, ..., 0, 0, 0]]),\n",
              " array([[0, 0, 0, ..., 0, 0, 0],\n",
              "        [0, 0, 0, ..., 0, 0, 0],\n",
              "        [0, 0, 0, ..., 0, 0, 0],\n",
              "        ...,\n",
              "        [0, 0, 0, ..., 0, 0, 0],\n",
              "        [0, 0, 0, ..., 0, 0, 0],\n",
              "        [0, 0, 0, ..., 0, 0, 0]])]"
            ]
          },
          "metadata": {
            "tags": []
          },
          "execution_count": 14
        }
      ]
    },
    {
      "cell_type": "markdown",
      "metadata": {
        "id": "1caRs1BlSbIL"
      },
      "source": [
        "버트 모형에 들어갈 인풋은 토큰, 세그먼트, 포지션으로 구성됩니다.\n",
        "버트에 인풋으로 들어가는 토큰은 문장을 토크나이징 한 후, 인덱스 번호를 매긴 것입니다.\n",
        "세그먼트는 예를 들어 문장이 두 개가 있다면, 앞의 문장과 뒤의 문장을 구분하는 것입니다.\n",
        "포지션 임베딩은 단순히 단어의 위치를 말합니다.\n",
        "\n",
        "토큰, 세그먼트, 포지션을 인풋으로 버트 모형에 넣으면 기하학적인 문장 공간으로 임베딩이 됩니다.\n",
        "\n",
        "![image.png](data:image/png;base64,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)\n",
        "\n",
        "이해가 안 가실 수 있는데, 버트 인풋을 문장으로 예를 들어 만들어 보겠습니다.\n",
        "인풋은 총 2개가 들어갑니다\n",
        "\n",
        "* (토큰) 첫번째 인풋은 토큰화 된 것이 인덱싱되어 숫자로 변환된 것\n",
        "\n",
        "* (세그멘트) 두번째 인풋은 앞문장인지 뒷문장인지 알려주는 숫자들입니다. 이번 튜토리얼에서는 파인튜닝 과정이라 앞문장 뒷문장 구분을 안하기 때문에 모두 0으로 하였습니다.\n",
        "\n",
        "* (포지션) 단어 순서에 따라서 자동으로 부여됩니다."
      ]
    },
    {
      "cell_type": "markdown",
      "metadata": {
        "id": "pl4_HmCBTJSQ"
      },
      "source": [
        "# 버트를 활용한 스팸분석 모델 만들기\n",
        "버트 훈련을 빠르게 하기 위해, TPU를 사용하도록 하겠습니다"
      ]
    },
    {
      "cell_type": "code",
      "metadata": {
        "id": "KKex1DjnTLEm",
        "outputId": "ca49c194-a264-4e88-9250-7fe22c87ddce",
        "colab": {
          "base_uri": "https://localhost:8080/",
          "height": 143
        }
      },
      "source": [
        "# TPU 객체 지정\n",
        "TPU = True\n",
        "if TPU:\n",
        "  resolver = tf.distribute.cluster_resolver.TPUClusterResolver(tpu='grpc://' + os.environ['COLAB_TPU_ADDR'])\n",
        "  tf.config.experimental_connect_to_cluster(resolver)\n",
        "  tf.tpu.experimental.initialize_tpu_system(resolver)\n",
        "else:\n",
        "  pass"
      ],
      "execution_count": 15,
      "outputs": [
        {
          "output_type": "stream",
          "text": [
            "INFO:absl:Entering into master device scope: /job:worker/replica:0/task:0/device:CPU:0\n"
          ],
          "name": "stderr"
        },
        {
          "output_type": "stream",
          "text": [
            "INFO:tensorflow:Initializing the TPU system: grpc://10.29.152.114:8470\n"
          ],
          "name": "stdout"
        },
        {
          "output_type": "stream",
          "text": [
            "INFO:tensorflow:Initializing the TPU system: grpc://10.29.152.114:8470\n"
          ],
          "name": "stderr"
        },
        {
          "output_type": "stream",
          "text": [
            "INFO:tensorflow:Clearing out eager caches\n"
          ],
          "name": "stdout"
        },
        {
          "output_type": "stream",
          "text": [
            "INFO:tensorflow:Clearing out eager caches\n"
          ],
          "name": "stderr"
        },
        {
          "output_type": "stream",
          "text": [
            "INFO:tensorflow:Finished initializing TPU system.\n"
          ],
          "name": "stdout"
        },
        {
          "output_type": "stream",
          "text": [
            "INFO:tensorflow:Finished initializing TPU system.\n"
          ],
          "name": "stderr"
        }
      ]
    },
    {
      "cell_type": "code",
      "metadata": {
        "id": "sB5aGQtLY6eH"
      },
      "source": [
        "# Rectified Adam 옵티마이저 사용\n",
        "import tensorflow_addons as tfa\n",
        "opt = tfa.optimizers.RectifiedAdam(lr=1.0e-5, weight_decay=0.0025)"
      ],
      "execution_count": 16,
      "outputs": []
    },
    {
      "cell_type": "code",
      "metadata": {
        "id": "P_WWoPhzY90O"
      },
      "source": [
        "def create_spam_bert():\n",
        "  # 버트 pretrained 모델 로드\n",
        "  model = TFBertModel.from_pretrained('bert-base-multilingual-cased')\n",
        "  # 토큰 인풋, 마스크 인풋, 세그먼트 인풋 정의\n",
        "  token_inputs = tf.keras.layers.Input((SEQ_LEN,), dtype=tf.int32, name='input_word_ids')\n",
        "  mask_inputs = tf.keras.layers.Input((SEQ_LEN,), dtype=tf.int32, name='input_masks')\n",
        "  segment_inputs = tf.keras.layers.Input((SEQ_LEN,), dtype=tf.int32, name='input_segment')\n",
        "  # 인풋이 [토큰, 마스크, 세그먼트]인 모델 정의\n",
        "  bert_outputs = model([token_inputs, mask_inputs, segment_inputs])\n",
        "\n",
        "  bert_outputs = bert_outputs[1]\n",
        "  spam_first = tf.keras.layers.Dense(1, activation='sigmoid', kernel_initializer=tf.keras.initializers.TruncatedNormal(stddev=0.02))(bert_outputs)\n",
        "  spam_model = tf.keras.Model([token_inputs, mask_inputs, segment_inputs], spam_first)\n",
        "\n",
        "  spam_model.compile(optimizer=opt, loss=tf.keras.losses.BinaryCrossentropy(), metrics = ['accuracy'])\n",
        "  return spam_model"
      ],
      "execution_count": 19,
      "outputs": []
    },
    {
      "cell_type": "code",
      "metadata": {
        "id": "LscyUQOjZQQv",
        "outputId": "b6685ed6-a342-4c34-da1a-93f0c45b8c1a",
        "colab": {
          "base_uri": "https://localhost:8080/",
          "height": 1000
        }
      },
      "source": [
        "# TPU 실행 시\n",
        "if TPU:\n",
        "  strategy = tf.distribute.experimental.TPUStrategy(resolver)\n",
        "# 함수를 strategy.scope로 묶어 줌\n",
        "  with strategy.scope():\n",
        "    spam_model = create_spam_bert()\n",
        "  \n",
        "  spam_model.fit(train_x, train_y, epochs=4, shuffle=True, batch_size=100, validation_data=(test_x, test_y))\n",
        "else:\n",
        "  # GPU 모드로 훈련시킬 때\n",
        "  spam_model = create_spam_bert()\n",
        "  \n",
        "  spam_model.fit(train_x, train_y, epochs=4, shuffle=True, batch_size=100, validation_data=(test_x, test_y))"
      ],
      "execution_count": 20,
      "outputs": [
        {
          "output_type": "stream",
          "text": [
            "WARNING:absl:`tf.distribute.experimental.TPUStrategy` is deprecated, please use  the non experimental symbol `tf.distribute.TPUStrategy` instead.\n"
          ],
          "name": "stderr"
        },
        {
          "output_type": "stream",
          "text": [
            "INFO:tensorflow:Found TPU system:\n"
          ],
          "name": "stdout"
        },
        {
          "output_type": "stream",
          "text": [
            "INFO:tensorflow:Found TPU system:\n"
          ],
          "name": "stderr"
        },
        {
          "output_type": "stream",
          "text": [
            "INFO:tensorflow:*** Num TPU Cores: 8\n"
          ],
          "name": "stdout"
        },
        {
          "output_type": "stream",
          "text": [
            "INFO:tensorflow:*** Num TPU Cores: 8\n"
          ],
          "name": "stderr"
        },
        {
          "output_type": "stream",
          "text": [
            "INFO:tensorflow:*** Num TPU Workers: 1\n"
          ],
          "name": "stdout"
        },
        {
          "output_type": "stream",
          "text": [
            "INFO:tensorflow:*** Num TPU Workers: 1\n"
          ],
          "name": "stderr"
        },
        {
          "output_type": "stream",
          "text": [
            "INFO:tensorflow:*** Num TPU Cores Per Worker: 8\n"
          ],
          "name": "stdout"
        },
        {
          "output_type": "stream",
          "text": [
            "INFO:tensorflow:*** Num TPU Cores Per Worker: 8\n"
          ],
          "name": "stderr"
        },
        {
          "output_type": "stream",
          "text": [
            "INFO:tensorflow:*** Available Device: _DeviceAttributes(/job:localhost/replica:0/task:0/device:CPU:0, CPU, 0, 0)\n"
          ],
          "name": "stdout"
        },
        {
          "output_type": "stream",
          "text": [
            "INFO:tensorflow:*** Available Device: _DeviceAttributes(/job:localhost/replica:0/task:0/device:CPU:0, CPU, 0, 0)\n"
          ],
          "name": "stderr"
        },
        {
          "output_type": "stream",
          "text": [
            "INFO:tensorflow:*** Available Device: _DeviceAttributes(/job:localhost/replica:0/task:0/device:XLA_CPU:0, XLA_CPU, 0, 0)\n"
          ],
          "name": "stdout"
        },
        {
          "output_type": "stream",
          "text": [
            "INFO:tensorflow:*** Available Device: _DeviceAttributes(/job:localhost/replica:0/task:0/device:XLA_CPU:0, XLA_CPU, 0, 0)\n"
          ],
          "name": "stderr"
        },
        {
          "output_type": "stream",
          "text": [
            "INFO:tensorflow:*** Available Device: _DeviceAttributes(/job:worker/replica:0/task:0/device:CPU:0, CPU, 0, 0)\n"
          ],
          "name": "stdout"
        },
        {
          "output_type": "stream",
          "text": [
            "INFO:tensorflow:*** Available Device: _DeviceAttributes(/job:worker/replica:0/task:0/device:CPU:0, CPU, 0, 0)\n"
          ],
          "name": "stderr"
        },
        {
          "output_type": "stream",
          "text": [
            "INFO:tensorflow:*** Available Device: _DeviceAttributes(/job:worker/replica:0/task:0/device:TPU:0, TPU, 0, 0)\n"
          ],
          "name": "stdout"
        },
        {
          "output_type": "stream",
          "text": [
            "INFO:tensorflow:*** Available Device: _DeviceAttributes(/job:worker/replica:0/task:0/device:TPU:0, TPU, 0, 0)\n"
          ],
          "name": "stderr"
        },
        {
          "output_type": "stream",
          "text": [
            "INFO:tensorflow:*** Available Device: _DeviceAttributes(/job:worker/replica:0/task:0/device:TPU:1, TPU, 0, 0)\n"
          ],
          "name": "stdout"
        },
        {
          "output_type": "stream",
          "text": [
            "INFO:tensorflow:*** Available Device: _DeviceAttributes(/job:worker/replica:0/task:0/device:TPU:1, TPU, 0, 0)\n"
          ],
          "name": "stderr"
        },
        {
          "output_type": "stream",
          "text": [
            "INFO:tensorflow:*** Available Device: _DeviceAttributes(/job:worker/replica:0/task:0/device:TPU:2, TPU, 0, 0)\n"
          ],
          "name": "stdout"
        },
        {
          "output_type": "stream",
          "text": [
            "INFO:tensorflow:*** Available Device: _DeviceAttributes(/job:worker/replica:0/task:0/device:TPU:2, TPU, 0, 0)\n"
          ],
          "name": "stderr"
        },
        {
          "output_type": "stream",
          "text": [
            "INFO:tensorflow:*** Available Device: _DeviceAttributes(/job:worker/replica:0/task:0/device:TPU:3, TPU, 0, 0)\n"
          ],
          "name": "stdout"
        },
        {
          "output_type": "stream",
          "text": [
            "INFO:tensorflow:*** Available Device: _DeviceAttributes(/job:worker/replica:0/task:0/device:TPU:3, TPU, 0, 0)\n"
          ],
          "name": "stderr"
        },
        {
          "output_type": "stream",
          "text": [
            "INFO:tensorflow:*** Available Device: _DeviceAttributes(/job:worker/replica:0/task:0/device:TPU:4, TPU, 0, 0)\n"
          ],
          "name": "stdout"
        },
        {
          "output_type": "stream",
          "text": [
            "INFO:tensorflow:*** Available Device: _DeviceAttributes(/job:worker/replica:0/task:0/device:TPU:4, TPU, 0, 0)\n"
          ],
          "name": "stderr"
        },
        {
          "output_type": "stream",
          "text": [
            "INFO:tensorflow:*** Available Device: _DeviceAttributes(/job:worker/replica:0/task:0/device:TPU:5, TPU, 0, 0)\n"
          ],
          "name": "stdout"
        },
        {
          "output_type": "stream",
          "text": [
            "INFO:tensorflow:*** Available Device: _DeviceAttributes(/job:worker/replica:0/task:0/device:TPU:5, TPU, 0, 0)\n"
          ],
          "name": "stderr"
        },
        {
          "output_type": "stream",
          "text": [
            "INFO:tensorflow:*** Available Device: _DeviceAttributes(/job:worker/replica:0/task:0/device:TPU:6, TPU, 0, 0)\n"
          ],
          "name": "stdout"
        },
        {
          "output_type": "stream",
          "text": [
            "INFO:tensorflow:*** Available Device: _DeviceAttributes(/job:worker/replica:0/task:0/device:TPU:6, TPU, 0, 0)\n"
          ],
          "name": "stderr"
        },
        {
          "output_type": "stream",
          "text": [
            "INFO:tensorflow:*** Available Device: _DeviceAttributes(/job:worker/replica:0/task:0/device:TPU:7, TPU, 0, 0)\n"
          ],
          "name": "stdout"
        },
        {
          "output_type": "stream",
          "text": [
            "INFO:tensorflow:*** Available Device: _DeviceAttributes(/job:worker/replica:0/task:0/device:TPU:7, TPU, 0, 0)\n"
          ],
          "name": "stderr"
        },
        {
          "output_type": "stream",
          "text": [
            "INFO:tensorflow:*** Available Device: _DeviceAttributes(/job:worker/replica:0/task:0/device:TPU_SYSTEM:0, TPU_SYSTEM, 0, 0)\n"
          ],
          "name": "stdout"
        },
        {
          "output_type": "stream",
          "text": [
            "INFO:tensorflow:*** Available Device: _DeviceAttributes(/job:worker/replica:0/task:0/device:TPU_SYSTEM:0, TPU_SYSTEM, 0, 0)\n"
          ],
          "name": "stderr"
        },
        {
          "output_type": "stream",
          "text": [
            "INFO:tensorflow:*** Available Device: _DeviceAttributes(/job:worker/replica:0/task:0/device:XLA_CPU:0, XLA_CPU, 0, 0)\n"
          ],
          "name": "stdout"
        },
        {
          "output_type": "stream",
          "text": [
            "INFO:tensorflow:*** Available Device: _DeviceAttributes(/job:worker/replica:0/task:0/device:XLA_CPU:0, XLA_CPU, 0, 0)\n",
            "Some layers from the model checkpoint at bert-base-multilingual-cased were not used when initializing TFBertModel: ['nsp___cls', 'mlm___cls']\n",
            "- This IS expected if you are initializing TFBertModel from the checkpoint of a model trained on another task or with another architecture (e.g. initializing a BertForSequenceClassification model from a BertForPretraining model).\n",
            "- This IS NOT expected if you are initializing TFBertModel from the checkpoint of a model that you expect to be exactly identical (initializing a BertForSequenceClassification model from a BertForSequenceClassification model).\n",
            "All the layers of TFBertModel were initialized from the model checkpoint at bert-base-multilingual-cased.\n",
            "If your task is similar to the task the model of the checkpoint was trained on, you can already use TFBertModel for predictions without further training.\n"
          ],
          "name": "stderr"
        },
        {
          "output_type": "stream",
          "text": [
            "Epoch 1/4\n",
            "WARNING:tensorflow:From /usr/local/lib/python3.6/dist-packages/tensorflow/python/data/ops/multi_device_iterator_ops.py:601: get_next_as_optional (from tensorflow.python.data.ops.iterator_ops) is deprecated and will be removed in a future version.\n",
            "Instructions for updating:\n",
            "Use `tf.data.Iterator.get_next_as_optional()` instead.\n"
          ],
          "name": "stdout"
        },
        {
          "output_type": "stream",
          "text": [
            "WARNING:tensorflow:From /usr/local/lib/python3.6/dist-packages/tensorflow/python/data/ops/multi_device_iterator_ops.py:601: get_next_as_optional (from tensorflow.python.data.ops.iterator_ops) is deprecated and will be removed in a future version.\n",
            "Instructions for updating:\n",
            "Use `tf.data.Iterator.get_next_as_optional()` instead.\n"
          ],
          "name": "stderr"
        },
        {
          "output_type": "stream",
          "text": [
            " 2/44 [>.............................] - ETA: 15:31 - loss: 0.6917 - accuracy: 0.5300WARNING:tensorflow:Callbacks method `on_train_batch_end` is slow compared to the batch time (batch time: 0.0088s vs `on_train_batch_end` time: 0.1468s). Check your callbacks.\n"
          ],
          "name": "stdout"
        },
        {
          "output_type": "stream",
          "text": [
            "WARNING:tensorflow:Callbacks method `on_train_batch_end` is slow compared to the batch time (batch time: 0.0088s vs `on_train_batch_end` time: 0.1468s). Check your callbacks.\n"
          ],
          "name": "stderr"
        },
        {
          "output_type": "stream",
          "text": [
            "44/44 [==============================] - ETA: 0s - loss: 0.6174 - accuracy: 0.7720WARNING:tensorflow:Callbacks method `on_test_batch_end` is slow compared to the batch time (batch time: 0.0043s vs `on_test_batch_end` time: 0.0439s). Check your callbacks.\n"
          ],
          "name": "stdout"
        },
        {
          "output_type": "stream",
          "text": [
            "WARNING:tensorflow:Callbacks method `on_test_batch_end` is slow compared to the batch time (batch time: 0.0043s vs `on_test_batch_end` time: 0.0439s). Check your callbacks.\n"
          ],
          "name": "stderr"
        },
        {
          "output_type": "stream",
          "text": [
            "44/44 [==============================] - 67s 2s/step - loss: 0.6174 - accuracy: 0.7720 - val_loss: 0.4916 - val_accuracy: 0.8474\n",
            "Epoch 2/4\n",
            "44/44 [==============================] - 7s 169ms/step - loss: 0.3547 - accuracy: 0.8709 - val_loss: 0.2423 - val_accuracy: 0.8474\n",
            "Epoch 3/4\n",
            "44/44 [==============================] - 8s 173ms/step - loss: 0.1927 - accuracy: 0.9329 - val_loss: 0.1594 - val_accuracy: 0.9855\n",
            "Epoch 4/4\n",
            "44/44 [==============================] - 8s 172ms/step - loss: 0.1305 - accuracy: 0.9852 - val_loss: 0.1113 - val_accuracy: 0.9812\n"
          ],
          "name": "stdout"
        }
      ]
    },
    {
      "cell_type": "markdown",
      "metadata": {
        "id": "1SWUqqnZbw9X"
      },
      "source": [
        "훈련 및 성능 검증"
      ]
    },
    {
      "cell_type": "code",
      "metadata": {
        "id": "z2L-ts2qcd5c"
      },
      "source": [
        "# 모델 저장\n",
        "spam_model.save_weights(\"/huggingface_bert.h5\")"
      ],
      "execution_count": 21,
      "outputs": []
    },
    {
      "cell_type": "code",
      "metadata": {
        "id": "c_6c3tptcqPc"
      },
      "source": [
        "def predict_convert_data(data_df):\n",
        "    global tokenizer\n",
        "    tokens, masks, segments = [], [], []\n",
        "    \n",
        "    for i in tqdm(range(len(data_df))):\n",
        "\n",
        "        token = tokenizer.encode(data_df[DATA_COLUMN][i], max_length=SEQ_LEN, truncation=True, padding='max_length')\n",
        "        num_zeros = token.count(0)\n",
        "        mask = [1]*(SEQ_LEN-num_zeros) + [0]*num_zeros\n",
        "        segment = [0]*SEQ_LEN\n",
        "\n",
        "        tokens.append(token)\n",
        "        segments.append(segment)\n",
        "        masks.append(mask)\n",
        "\n",
        "    tokens = np.array(tokens)\n",
        "    masks = np.array(masks)\n",
        "    segments = np.array(segments)\n",
        "    return [tokens, masks, segments]\n",
        "\n",
        "# 위에 정의한 convert_data 함수를 불러오는 함수를 정의\n",
        "def predict_load_data(pandas_dataframe):\n",
        "    data_df = pandas_dataframe\n",
        "    data_df[DATA_COLUMN] = data_df[DATA_COLUMN].astype(str)\n",
        "    data_x = predict_convert_data(data_df)\n",
        "    return data_x"
      ],
      "execution_count": 22,
      "outputs": []
    },
    {
      "cell_type": "code",
      "metadata": {
        "id": "pHO0tF9Zcx_H",
        "outputId": "d55eeb6f-a056-4fe9-b2b7-f3e5d9b9a9fd",
        "colab": {
          "base_uri": "https://localhost:8080/",
          "height": 35
        }
      },
      "source": [
        "test_set = predict_load_data(test)"
      ],
      "execution_count": 23,
      "outputs": [
        {
          "output_type": "stream",
          "text": [
            "100%|██████████| 1173/1173 [00:00<00:00, 2366.44it/s]\n"
          ],
          "name": "stderr"
        }
      ]
    },
    {
      "cell_type": "code",
      "metadata": {
        "id": "hSlMn8tPc3lg",
        "outputId": "3c3aa1c6-8b96-4453-8693-fff023da5727",
        "colab": {
          "base_uri": "https://localhost:8080/",
          "height": 395
        }
      },
      "source": [
        "test_set"
      ],
      "execution_count": 24,
      "outputs": [
        {
          "output_type": "execute_result",
          "data": {
            "text/plain": [
              "[array([[   101,  14439,  11444, ...,      0,      0,      0],\n",
              "        [   101,  84591,  37818, ...,      0,      0,      0],\n",
              "        [   101,  16122,  14722, ...,      0,      0,      0],\n",
              "        ...,\n",
              "        [   101, 103014,    117, ...,      0,      0,      0],\n",
              "        [   101,  24291,  12976, ...,      0,      0,      0],\n",
              "        [   101,  22678,  10751, ...,      0,      0,      0]]),\n",
              " array([[1, 1, 1, ..., 0, 0, 0],\n",
              "        [1, 1, 1, ..., 0, 0, 0],\n",
              "        [1, 1, 1, ..., 0, 0, 0],\n",
              "        ...,\n",
              "        [1, 1, 1, ..., 0, 0, 0],\n",
              "        [1, 1, 1, ..., 0, 0, 0],\n",
              "        [1, 1, 1, ..., 0, 0, 0]]),\n",
              " array([[0, 0, 0, ..., 0, 0, 0],\n",
              "        [0, 0, 0, ..., 0, 0, 0],\n",
              "        [0, 0, 0, ..., 0, 0, 0],\n",
              "        ...,\n",
              "        [0, 0, 0, ..., 0, 0, 0],\n",
              "        [0, 0, 0, ..., 0, 0, 0],\n",
              "        [0, 0, 0, ..., 0, 0, 0]])]"
            ]
          },
          "metadata": {
            "tags": []
          },
          "execution_count": 24
        }
      ]
    },
    {
      "cell_type": "code",
      "metadata": {
        "id": "FiTxYpyzc8HY"
      },
      "source": [
        "with strategy.scope():\n",
        "  preds = spam_model.predict(test_set)"
      ],
      "execution_count": 26,
      "outputs": []
    },
    {
      "cell_type": "code",
      "metadata": {
        "id": "Gt41X2fPdB0o",
        "outputId": "2f210194-4f9b-45d8-9132-28ee1a16f903",
        "colab": {
          "base_uri": "https://localhost:8080/",
          "height": 143
        }
      },
      "source": [
        "# 스팸이면 1, 정상이면 0 출력\n",
        "preds"
      ],
      "execution_count": 27,
      "outputs": [
        {
          "output_type": "execute_result",
          "data": {
            "text/plain": [
              "array([[0.03261872],\n",
              "       [0.03172199],\n",
              "       [0.6942089 ],\n",
              "       ...,\n",
              "       [0.03225451],\n",
              "       [0.6724198 ],\n",
              "       [0.03672339]], dtype=float32)"
            ]
          },
          "metadata": {
            "tags": []
          },
          "execution_count": 27
        }
      ]
    },
    {
      "cell_type": "markdown",
      "metadata": {
        "id": "I0JPVBJXdIS7"
      },
      "source": [
        "우리가 훈련한 모델을 F1 SCORE를 바탕으로 성능 측정\n",
        "F1 SCORE는 precision과 recall을 가중평균하여 계산합니다\n",
        "recall은 (모델이 TRUE라고 판정한 것의 숫자)/(전체 TRUE의 숫자)\n",
        "precision은 (진짜 TRUE) / (모델이 TRUE라고 판정한 것의 숫자)"
      ]
    },
    {
      "cell_type": "code",
      "metadata": {
        "id": "ye-6Gh9AdHhX",
        "outputId": "e94d24b2-ac32-47d1-88c7-d41cf061e52f",
        "colab": {
          "base_uri": "https://localhost:8080/",
          "height": 179
        }
      },
      "source": [
        "from sklearn.metrics import classification_report\n",
        "y_true = test['label']\n",
        "# F1 Score 확인\n",
        "print(classification_report(y_true, np.round(preds,0)))"
      ],
      "execution_count": 28,
      "outputs": [
        {
          "output_type": "stream",
          "text": [
            "              precision    recall  f1-score   support\n",
            "\n",
            "           0       0.99      0.98      0.99       994\n",
            "           1       0.92      0.96      0.94       179\n",
            "\n",
            "    accuracy                           0.98      1173\n",
            "   macro avg       0.96      0.97      0.96      1173\n",
            "weighted avg       0.98      0.98      0.98      1173\n",
            "\n"
          ],
          "name": "stdout"
        }
      ]
    },
    {
      "cell_type": "code",
      "metadata": {
        "id": "7dfmb46vdRnP"
      },
      "source": [
        "import logging\n",
        "tf.get_logger().setLevel(logging.ERROR)"
      ],
      "execution_count": 29,
      "outputs": []
    },
    {
      "cell_type": "markdown",
      "metadata": {
        "id": "jSJ5gSNLdVEp"
      },
      "source": [
        "실제 데이터로 실습하기"
      ]
    },
    {
      "cell_type": "code",
      "metadata": {
        "id": "hJd0UG08X_oO"
      },
      "source": [
        "def sentence_convert_data(data):\n",
        "    global tokenizer\n",
        "    tokens, masks, segments = [], [], []\n",
        "    token = tokenizer.encode(data, max_length=SEQ_LEN, truncation=True, padding='max_length')\n",
        "    \n",
        "    num_zeros = token.count(0) \n",
        "    mask = [1]*(SEQ_LEN-num_zeros) + [0]*num_zeros \n",
        "    segment = [0]*SEQ_LEN\n",
        "\n",
        "    tokens.append(token)\n",
        "    segments.append(segment)\n",
        "    masks.append(mask)\n",
        "\n",
        "    tokens = np.array(tokens)\n",
        "    masks = np.array(masks)\n",
        "    segments = np.array(segments)\n",
        "    return [tokens, masks, segments]\n",
        "\n",
        "def spam_evaluation_predict(sentence):\n",
        "    data_x = sentence_convert_data(sentence)\n",
        "    predict = spam_model.predict(data_x)\n",
        "    predict_value = np.ravel(predict)\n",
        "    predict_answer = np.round(predict_value,0).item()\n",
        "    \n",
        "    if predict_answer == 0:\n",
        "      print(\"(정상 확률 : %.2f) 정상입니다.\" % (1-predict_value))\n",
        "    elif predict_answer == 1:\n",
        "      print(\"(스팸 확률 : %.2f) 스팸입니다.\" % predict_value)"
      ],
      "execution_count": 39,
      "outputs": []
    },
    {
      "cell_type": "code",
      "metadata": {
        "id": "_59NDRsOYSiE",
        "outputId": "974e016b-b4e4-42e6-bb08-5ac54257c55c",
        "colab": {
          "base_uri": "https://localhost:8080/",
          "height": 35
        }
      },
      "source": [
        "spam_evaluation_predict(\"FREE entry into our �250 weekly comp just send\")"
      ],
      "execution_count": 45,
      "outputs": [
        {
          "output_type": "stream",
          "text": [
            "(스팸 확률 : 0.66) 스팸입니다.\n"
          ],
          "name": "stdout"
        }
      ]
    },
    {
      "cell_type": "code",
      "metadata": {
        "id": "1lrfiPjUd7Rl",
        "outputId": "606947a2-f125-4eb9-ea44-7cd05fed8b39",
        "colab": {
          "base_uri": "https://localhost:8080/",
          "height": 35
        }
      },
      "source": [
        "spam_evaluation_predict(\"How are you?\")"
      ],
      "execution_count": 41,
      "outputs": [
        {
          "output_type": "stream",
          "text": [
            "(정상 확률 : 0.97) 정상입니다.\n"
          ],
          "name": "stdout"
        }
      ]
    }
  ]
}