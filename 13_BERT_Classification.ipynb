{
  "nbformat": 4,
  "nbformat_minor": 0,
  "metadata": {
    "colab": {
      "name": "13_BERT Classification.ipynb",
      "provenance": [],
      "collapsed_sections": [],
      "toc_visible": true,
      "machine_shape": "hm",
      "include_colab_link": true
    },
    "kernelspec": {
      "name": "python3",
      "display_name": "Python 3"
    },
    "accelerator": "TPU"
  },
  "cells": [
    {
      "cell_type": "markdown",
      "metadata": {
        "id": "view-in-github",
        "colab_type": "text"
      },
      "source": [
        "<a href=\"https://colab.research.google.com/github/aidot-kr/AISecurity/blob/master/13_BERT_Classification.ipynb\" target=\"_parent\"><img src=\"https://colab.research.google.com/assets/colab-badge.svg\" alt=\"Open In Colab\"/></a>"
      ]
    },
    {
      "cell_type": "markdown",
      "metadata": {
        "id": "PMG424NB_OjB"
      },
      "source": [
        "## 1. 구글드라이브와 Colab 연동"
      ]
    },
    {
      "cell_type": "code",
      "metadata": {
        "id": "CfMWPIrwT5To",
        "colab": {
          "base_uri": "https://localhost:8080/"
        },
        "outputId": "eab08d7a-505b-4198-d317-0cc45a95c057"
      },
      "source": [
        "#HuggingFace는 자연어 처리 인공지능 모델에서, BERT 모델 같은 트랜스포머 모델들을 쉽게 다룰 수 있게 해주는 패키지임\n",
        "#!pip install transformers //2022.05.18 수정(에러 정정)\n",
        "!pip install transformers==3.1.0"
      ],
      "execution_count": 1,
      "outputs": [
        {
          "output_type": "stream",
          "name": "stdout",
          "text": [
            "Requirement already satisfied: transformers==3.1.0 in /usr/local/lib/python3.7/dist-packages (3.1.0)\n",
            "Requirement already satisfied: sentencepiece!=0.1.92 in /usr/local/lib/python3.7/dist-packages (from transformers==3.1.0) (0.1.96)\n",
            "Requirement already satisfied: packaging in /usr/local/lib/python3.7/dist-packages (from transformers==3.1.0) (21.3)\n",
            "Requirement already satisfied: sacremoses in /usr/local/lib/python3.7/dist-packages (from transformers==3.1.0) (0.0.53)\n",
            "Requirement already satisfied: requests in /usr/local/lib/python3.7/dist-packages (from transformers==3.1.0) (2.23.0)\n",
            "Requirement already satisfied: tqdm>=4.27 in /usr/local/lib/python3.7/dist-packages (from transformers==3.1.0) (4.64.0)\n",
            "Requirement already satisfied: filelock in /usr/local/lib/python3.7/dist-packages (from transformers==3.1.0) (3.6.0)\n",
            "Requirement already satisfied: tokenizers==0.8.1.rc2 in /usr/local/lib/python3.7/dist-packages (from transformers==3.1.0) (0.8.1rc2)\n",
            "Requirement already satisfied: numpy in /usr/local/lib/python3.7/dist-packages (from transformers==3.1.0) (1.21.6)\n",
            "Requirement already satisfied: regex!=2019.12.17 in /usr/local/lib/python3.7/dist-packages (from transformers==3.1.0) (2019.12.20)\n",
            "Requirement already satisfied: pyparsing!=3.0.5,>=2.0.2 in /usr/local/lib/python3.7/dist-packages (from packaging->transformers==3.1.0) (3.0.8)\n",
            "Requirement already satisfied: certifi>=2017.4.17 in /usr/local/lib/python3.7/dist-packages (from requests->transformers==3.1.0) (2021.10.8)\n",
            "Requirement already satisfied: idna<3,>=2.5 in /usr/local/lib/python3.7/dist-packages (from requests->transformers==3.1.0) (2.10)\n",
            "Requirement already satisfied: urllib3!=1.25.0,!=1.25.1,<1.26,>=1.21.1 in /usr/local/lib/python3.7/dist-packages (from requests->transformers==3.1.0) (1.24.3)\n",
            "Requirement already satisfied: chardet<4,>=3.0.2 in /usr/local/lib/python3.7/dist-packages (from requests->transformers==3.1.0) (3.0.4)\n",
            "Requirement already satisfied: six in /usr/local/lib/python3.7/dist-packages (from sacremoses->transformers==3.1.0) (1.16.0)\n",
            "Requirement already satisfied: joblib in /usr/local/lib/python3.7/dist-packages (from sacremoses->transformers==3.1.0) (1.1.0)\n",
            "Requirement already satisfied: click in /usr/local/lib/python3.7/dist-packages (from sacremoses->transformers==3.1.0) (7.1.2)\n"
          ]
        }
      ]
    },
    {
      "cell_type": "code",
      "metadata": {
        "id": "zXe3FH98e8O2",
        "colab": {
          "base_uri": "https://localhost:8080/"
        },
        "outputId": "8a0254ac-14f8-43e4-8fd7-1d49feb3a4f7"
      },
      "source": [
        "import os\n",
        "from google.colab import drive\n",
        "drive.mount('/content/drive')"
      ],
      "execution_count": 2,
      "outputs": [
        {
          "output_type": "stream",
          "name": "stdout",
          "text": [
            "Drive already mounted at /content/drive; to attempt to forcibly remount, call drive.mount(\"/content/drive\", force_remount=True).\n"
          ]
        }
      ]
    },
    {
      "cell_type": "code",
      "metadata": {
        "id": "XOTJjsZA_vyL",
        "colab": {
          "base_uri": "https://localhost:8080/"
        },
        "outputId": "1639f48a-de8a-435a-8c56-f2151f6cdd24"
      },
      "source": [
        "cd /content/drive/My\\ Drive/AISecurity"
      ],
      "execution_count": 3,
      "outputs": [
        {
          "output_type": "stream",
          "name": "stdout",
          "text": [
            "/content/drive/My Drive/AISecurity\n"
          ]
        }
      ]
    },
    {
      "cell_type": "code",
      "metadata": {
        "id": "Dh4U4_rnBCYq",
        "colab": {
          "base_uri": "https://localhost:8080/"
        },
        "outputId": "f5c513a2-9904-4d16-c887-f3c6fac3982a"
      },
      "source": [
        "print(os.getcwd())\n",
        "!ls"
      ],
      "execution_count": 4,
      "outputs": [
        {
          "output_type": "stream",
          "name": "stdout",
          "text": [
            "/content/drive/My Drive/AISecurity\n",
            " 11_Attention.ipynb\n",
            " 11_nmt_with_attention_사본.ipynb\n",
            " 11_nmt_with_attention.ipynb\n",
            " 12_transformer.ipynb\n",
            "'13_BERT Classification.ipynb'\n",
            " 2_TFIDF.ipynb\n",
            " 3_SimpleCrawling.ipynb\n",
            " 4_MeCab.ipynb\n",
            " 4_Pre_Processing.ipynb\n",
            " 5_OneHotEncode.ipynb\n",
            " 5_Word2Vec-FastText.ipynb\n",
            " 6_Similarity.ipynb\n",
            " 6_TopicModeling_bak.ipynb\n",
            " 6_TopicModeling.ipynb\n",
            " 7_ngram.ipynb\n",
            " 9-1_RNN.ipynb\n",
            " 9-1_rnn.py\n",
            " 9-2_LSTM.ipynb\n",
            " 9-3_GRU.ipynb\n",
            " 9-4_BLSTM.ipynb\n",
            "'(bak)(11_attention.ipynb'\n",
            "'(Bak)12_Transformer.ipynb'\n",
            "'(bak)13_BERT Classification.ipynb'\n",
            " convert_tensorflow_1_to_tensorflow_2_on_google_colab.ipynb\n",
            " deu.txt\n",
            " eng-fra.txt\n",
            " kor.txt\n",
            " model.pt\n",
            " multi_cased_L-12_H-768_A-12\n",
            " ratings.txt\n",
            " report.txt\n",
            " Sample.ipynb\n",
            " spam.csv\n",
            " spam_test.csv\n",
            " spam_train.csv\n",
            " spa.txt\n",
            " temp2.ipynb\n",
            " temp.py\n",
            " training_checkpoints\n"
          ]
        }
      ]
    },
    {
      "cell_type": "markdown",
      "metadata": {
        "id": "Gak730gDfcaK"
      },
      "source": [
        "## 2. 관련 패키지 선언\n"
      ]
    },
    {
      "cell_type": "code",
      "metadata": {
        "id": "KdGt1QIjUfSX"
      },
      "source": [
        "import tensorflow as tf\n",
        "\n",
        "#import tensorflow.compat.v1 as tf\n",
        "tf.config.experimental_run_functions_eagerly(True)\n",
        "\n",
        "import numpy as np\n",
        "import pandas as pd\n",
        "from transformers import *\n",
        "import json\n",
        "from tqdm import tqdm\n",
        "import os"
      ],
      "execution_count": 5,
      "outputs": []
    },
    {
      "cell_type": "markdown",
      "metadata": {
        "id": "xZGDLu15Pqzl"
      },
      "source": [
        "## 3. 스팸데이터셋 준비"
      ]
    },
    {
      "cell_type": "code",
      "metadata": {
        "id": "L1KTf4LIGDpd"
      },
      "source": [
        "# 제공된 Spam data 읽기\n",
        "train = pd.read_csv(\"spam_train.csv\")\n",
        "test = pd.read_csv(\"spam_test.csv\")"
      ],
      "execution_count": 6,
      "outputs": []
    },
    {
      "cell_type": "code",
      "metadata": {
        "colab": {
          "base_uri": "https://localhost:8080/",
          "height": 423
        },
        "id": "8eyAsM1EHycM",
        "outputId": "b6bde833-1f3a-4daa-92e9-8a7a723baf55"
      },
      "source": [
        "train.head(100)\n"
      ],
      "execution_count": 7,
      "outputs": [
        {
          "output_type": "execute_result",
          "data": {
            "text/plain": [
              "    label                                           document Unnamed: 2  \\\n",
              "0       0                         �� dun need to pick ur gf?        NaN   \n",
              "1       0  Yay! You better not have told that to 5 other ...        NaN   \n",
              "2       0  Horrible u eat macs eat until u forgot abt me ...        NaN   \n",
              "3       0  Did he say how fantastic I am by any chance, o...        NaN   \n",
              "4       0                         Just nw i came to hme da..        NaN   \n",
              "..    ...                                                ...        ...   \n",
              "95      1  Can U get 2 phone NOW? I wanna chat 2 set up m...        NaN   \n",
              "96      0           Tee hee. Off to lecture, cheery bye bye.        NaN   \n",
              "97      0  Sorry chikku, my cell got some problem thts y ...        NaN   \n",
              "98      0  If you still havent collected the dough pls le...        NaN   \n",
              "99      0                                              Ok...        NaN   \n",
              "\n",
              "   Unnamed: 3 Unnamed: 4  \n",
              "0         NaN        NaN  \n",
              "1         NaN        NaN  \n",
              "2         NaN        NaN  \n",
              "3         NaN        NaN  \n",
              "4         NaN        NaN  \n",
              "..        ...        ...  \n",
              "95        NaN        NaN  \n",
              "96        NaN        NaN  \n",
              "97        NaN        NaN  \n",
              "98        NaN        NaN  \n",
              "99        NaN        NaN  \n",
              "\n",
              "[100 rows x 5 columns]"
            ],
            "text/html": [
              "\n",
              "  <div id=\"df-02b99727-2c4b-4de6-a3a6-0a194165766a\">\n",
              "    <div class=\"colab-df-container\">\n",
              "      <div>\n",
              "<style scoped>\n",
              "    .dataframe tbody tr th:only-of-type {\n",
              "        vertical-align: middle;\n",
              "    }\n",
              "\n",
              "    .dataframe tbody tr th {\n",
              "        vertical-align: top;\n",
              "    }\n",
              "\n",
              "    .dataframe thead th {\n",
              "        text-align: right;\n",
              "    }\n",
              "</style>\n",
              "<table border=\"1\" class=\"dataframe\">\n",
              "  <thead>\n",
              "    <tr style=\"text-align: right;\">\n",
              "      <th></th>\n",
              "      <th>label</th>\n",
              "      <th>document</th>\n",
              "      <th>Unnamed: 2</th>\n",
              "      <th>Unnamed: 3</th>\n",
              "      <th>Unnamed: 4</th>\n",
              "    </tr>\n",
              "  </thead>\n",
              "  <tbody>\n",
              "    <tr>\n",
              "      <th>0</th>\n",
              "      <td>0</td>\n",
              "      <td>�� dun need to pick ur gf?</td>\n",
              "      <td>NaN</td>\n",
              "      <td>NaN</td>\n",
              "      <td>NaN</td>\n",
              "    </tr>\n",
              "    <tr>\n",
              "      <th>1</th>\n",
              "      <td>0</td>\n",
              "      <td>Yay! You better not have told that to 5 other ...</td>\n",
              "      <td>NaN</td>\n",
              "      <td>NaN</td>\n",
              "      <td>NaN</td>\n",
              "    </tr>\n",
              "    <tr>\n",
              "      <th>2</th>\n",
              "      <td>0</td>\n",
              "      <td>Horrible u eat macs eat until u forgot abt me ...</td>\n",
              "      <td>NaN</td>\n",
              "      <td>NaN</td>\n",
              "      <td>NaN</td>\n",
              "    </tr>\n",
              "    <tr>\n",
              "      <th>3</th>\n",
              "      <td>0</td>\n",
              "      <td>Did he say how fantastic I am by any chance, o...</td>\n",
              "      <td>NaN</td>\n",
              "      <td>NaN</td>\n",
              "      <td>NaN</td>\n",
              "    </tr>\n",
              "    <tr>\n",
              "      <th>4</th>\n",
              "      <td>0</td>\n",
              "      <td>Just nw i came to hme da..</td>\n",
              "      <td>NaN</td>\n",
              "      <td>NaN</td>\n",
              "      <td>NaN</td>\n",
              "    </tr>\n",
              "    <tr>\n",
              "      <th>...</th>\n",
              "      <td>...</td>\n",
              "      <td>...</td>\n",
              "      <td>...</td>\n",
              "      <td>...</td>\n",
              "      <td>...</td>\n",
              "    </tr>\n",
              "    <tr>\n",
              "      <th>95</th>\n",
              "      <td>1</td>\n",
              "      <td>Can U get 2 phone NOW? I wanna chat 2 set up m...</td>\n",
              "      <td>NaN</td>\n",
              "      <td>NaN</td>\n",
              "      <td>NaN</td>\n",
              "    </tr>\n",
              "    <tr>\n",
              "      <th>96</th>\n",
              "      <td>0</td>\n",
              "      <td>Tee hee. Off to lecture, cheery bye bye.</td>\n",
              "      <td>NaN</td>\n",
              "      <td>NaN</td>\n",
              "      <td>NaN</td>\n",
              "    </tr>\n",
              "    <tr>\n",
              "      <th>97</th>\n",
              "      <td>0</td>\n",
              "      <td>Sorry chikku, my cell got some problem thts y ...</td>\n",
              "      <td>NaN</td>\n",
              "      <td>NaN</td>\n",
              "      <td>NaN</td>\n",
              "    </tr>\n",
              "    <tr>\n",
              "      <th>98</th>\n",
              "      <td>0</td>\n",
              "      <td>If you still havent collected the dough pls le...</td>\n",
              "      <td>NaN</td>\n",
              "      <td>NaN</td>\n",
              "      <td>NaN</td>\n",
              "    </tr>\n",
              "    <tr>\n",
              "      <th>99</th>\n",
              "      <td>0</td>\n",
              "      <td>Ok...</td>\n",
              "      <td>NaN</td>\n",
              "      <td>NaN</td>\n",
              "      <td>NaN</td>\n",
              "    </tr>\n",
              "  </tbody>\n",
              "</table>\n",
              "<p>100 rows × 5 columns</p>\n",
              "</div>\n",
              "      <button class=\"colab-df-convert\" onclick=\"convertToInteractive('df-02b99727-2c4b-4de6-a3a6-0a194165766a')\"\n",
              "              title=\"Convert this dataframe to an interactive table.\"\n",
              "              style=\"display:none;\">\n",
              "        \n",
              "  <svg xmlns=\"http://www.w3.org/2000/svg\" height=\"24px\"viewBox=\"0 0 24 24\"\n",
              "       width=\"24px\">\n",
              "    <path d=\"M0 0h24v24H0V0z\" fill=\"none\"/>\n",
              "    <path d=\"M18.56 5.44l.94 2.06.94-2.06 2.06-.94-2.06-.94-.94-2.06-.94 2.06-2.06.94zm-11 1L8.5 8.5l.94-2.06 2.06-.94-2.06-.94L8.5 2.5l-.94 2.06-2.06.94zm10 10l.94 2.06.94-2.06 2.06-.94-2.06-.94-.94-2.06-.94 2.06-2.06.94z\"/><path d=\"M17.41 7.96l-1.37-1.37c-.4-.4-.92-.59-1.43-.59-.52 0-1.04.2-1.43.59L10.3 9.45l-7.72 7.72c-.78.78-.78 2.05 0 2.83L4 21.41c.39.39.9.59 1.41.59.51 0 1.02-.2 1.41-.59l7.78-7.78 2.81-2.81c.8-.78.8-2.07 0-2.86zM5.41 20L4 18.59l7.72-7.72 1.47 1.35L5.41 20z\"/>\n",
              "  </svg>\n",
              "      </button>\n",
              "      \n",
              "  <style>\n",
              "    .colab-df-container {\n",
              "      display:flex;\n",
              "      flex-wrap:wrap;\n",
              "      gap: 12px;\n",
              "    }\n",
              "\n",
              "    .colab-df-convert {\n",
              "      background-color: #E8F0FE;\n",
              "      border: none;\n",
              "      border-radius: 50%;\n",
              "      cursor: pointer;\n",
              "      display: none;\n",
              "      fill: #1967D2;\n",
              "      height: 32px;\n",
              "      padding: 0 0 0 0;\n",
              "      width: 32px;\n",
              "    }\n",
              "\n",
              "    .colab-df-convert:hover {\n",
              "      background-color: #E2EBFA;\n",
              "      box-shadow: 0px 1px 2px rgba(60, 64, 67, 0.3), 0px 1px 3px 1px rgba(60, 64, 67, 0.15);\n",
              "      fill: #174EA6;\n",
              "    }\n",
              "\n",
              "    [theme=dark] .colab-df-convert {\n",
              "      background-color: #3B4455;\n",
              "      fill: #D2E3FC;\n",
              "    }\n",
              "\n",
              "    [theme=dark] .colab-df-convert:hover {\n",
              "      background-color: #434B5C;\n",
              "      box-shadow: 0px 1px 3px 1px rgba(0, 0, 0, 0.15);\n",
              "      filter: drop-shadow(0px 1px 2px rgba(0, 0, 0, 0.3));\n",
              "      fill: #FFFFFF;\n",
              "    }\n",
              "  </style>\n",
              "\n",
              "      <script>\n",
              "        const buttonEl =\n",
              "          document.querySelector('#df-02b99727-2c4b-4de6-a3a6-0a194165766a button.colab-df-convert');\n",
              "        buttonEl.style.display =\n",
              "          google.colab.kernel.accessAllowed ? 'block' : 'none';\n",
              "\n",
              "        async function convertToInteractive(key) {\n",
              "          const element = document.querySelector('#df-02b99727-2c4b-4de6-a3a6-0a194165766a');\n",
              "          const dataTable =\n",
              "            await google.colab.kernel.invokeFunction('convertToInteractive',\n",
              "                                                     [key], {});\n",
              "          if (!dataTable) return;\n",
              "\n",
              "          const docLinkHtml = 'Like what you see? Visit the ' +\n",
              "            '<a target=\"_blank\" href=https://colab.research.google.com/notebooks/data_table.ipynb>data table notebook</a>'\n",
              "            + ' to learn more about interactive tables.';\n",
              "          element.innerHTML = '';\n",
              "          dataTable['output_type'] = 'display_data';\n",
              "          await google.colab.output.renderOutput(dataTable, element);\n",
              "          const docLink = document.createElement('div');\n",
              "          docLink.innerHTML = docLinkHtml;\n",
              "          element.appendChild(docLink);\n",
              "        }\n",
              "      </script>\n",
              "    </div>\n",
              "  </div>\n",
              "  "
            ]
          },
          "metadata": {},
          "execution_count": 7
        }
      ]
    },
    {
      "cell_type": "code",
      "metadata": {
        "id": "3rK-PlSdO4I-",
        "colab": {
          "base_uri": "https://localhost:8080/",
          "height": 676
        },
        "outputId": "9c89db60-7598-4253-8f9e-85cdd08daed7"
      },
      "source": [
        "# Label의 1은 spam document에 해당함, 0은 정상 \n",
        "train[50:70]"
      ],
      "execution_count": 8,
      "outputs": [
        {
          "output_type": "execute_result",
          "data": {
            "text/plain": [
              "    label                                           document Unnamed: 2  \\\n",
              "50      0     Rofl betta invest in some  anti aging products        NaN   \n",
              "51      1  You are a winner U have been specially selecte...        NaN   \n",
              "52      0  sir, you will receive the account no another 1...        NaN   \n",
              "53      1  Reply with your name and address and YOU WILL ...        NaN   \n",
              "54      0        So �_'ll be submitting da project tmr rite?        NaN   \n",
              "55      1  FREE entry into our �250 weekly comp just send...        NaN   \n",
              "56      0                    Jus ans me lar. U'll noe later.        NaN   \n",
              "57      0  I want to send something that can sell fast.  ...        NaN   \n",
              "58      0  have got * few things to do. may be in * pub l...        NaN   \n",
              "59      0                        1's finish meeting call me.        NaN   \n",
              "60      0                 Lol ok. I'll snatch her purse too.        NaN   \n",
              "61      0  \\Hello-/@drivby-:0quit edrunk sorry iff pthis ...        NaN   \n",
              "62      0  Your opinion about me? 1. Over 2. Jada 3. Kusr...        NaN   \n",
              "63      0                           How much are we getting?        NaN   \n",
              "64      0                  Is ur paper in e morn or aft tmr?        NaN   \n",
              "65      0  Dear relieved of westonzoyland, all going to p...        NaN   \n",
              "66      0  Hope you are having a great new semester. Do w...        NaN   \n",
              "67      0  Oh yes I can speak txt 2 u no! Hmm. Did u get ...        NaN   \n",
              "68      0  I want to show you the world, princess :) how ...        NaN   \n",
              "69      0  Nobody can decide where to eat and dad wants C...        NaN   \n",
              "\n",
              "   Unnamed: 3 Unnamed: 4  \n",
              "50        NaN        NaN  \n",
              "51        NaN        NaN  \n",
              "52        NaN        NaN  \n",
              "53        NaN        NaN  \n",
              "54        NaN        NaN  \n",
              "55        NaN        NaN  \n",
              "56        NaN        NaN  \n",
              "57        NaN        NaN  \n",
              "58        NaN        NaN  \n",
              "59        NaN        NaN  \n",
              "60        NaN        NaN  \n",
              "61        NaN        NaN  \n",
              "62        NaN        NaN  \n",
              "63        NaN        NaN  \n",
              "64        NaN        NaN  \n",
              "65        NaN        NaN  \n",
              "66        NaN        NaN  \n",
              "67        NaN        NaN  \n",
              "68        NaN        NaN  \n",
              "69        NaN        NaN  "
            ],
            "text/html": [
              "\n",
              "  <div id=\"df-cb598602-a5dc-4d29-a2e3-8772bdd502a2\">\n",
              "    <div class=\"colab-df-container\">\n",
              "      <div>\n",
              "<style scoped>\n",
              "    .dataframe tbody tr th:only-of-type {\n",
              "        vertical-align: middle;\n",
              "    }\n",
              "\n",
              "    .dataframe tbody tr th {\n",
              "        vertical-align: top;\n",
              "    }\n",
              "\n",
              "    .dataframe thead th {\n",
              "        text-align: right;\n",
              "    }\n",
              "</style>\n",
              "<table border=\"1\" class=\"dataframe\">\n",
              "  <thead>\n",
              "    <tr style=\"text-align: right;\">\n",
              "      <th></th>\n",
              "      <th>label</th>\n",
              "      <th>document</th>\n",
              "      <th>Unnamed: 2</th>\n",
              "      <th>Unnamed: 3</th>\n",
              "      <th>Unnamed: 4</th>\n",
              "    </tr>\n",
              "  </thead>\n",
              "  <tbody>\n",
              "    <tr>\n",
              "      <th>50</th>\n",
              "      <td>0</td>\n",
              "      <td>Rofl betta invest in some  anti aging products</td>\n",
              "      <td>NaN</td>\n",
              "      <td>NaN</td>\n",
              "      <td>NaN</td>\n",
              "    </tr>\n",
              "    <tr>\n",
              "      <th>51</th>\n",
              "      <td>1</td>\n",
              "      <td>You are a winner U have been specially selecte...</td>\n",
              "      <td>NaN</td>\n",
              "      <td>NaN</td>\n",
              "      <td>NaN</td>\n",
              "    </tr>\n",
              "    <tr>\n",
              "      <th>52</th>\n",
              "      <td>0</td>\n",
              "      <td>sir, you will receive the account no another 1...</td>\n",
              "      <td>NaN</td>\n",
              "      <td>NaN</td>\n",
              "      <td>NaN</td>\n",
              "    </tr>\n",
              "    <tr>\n",
              "      <th>53</th>\n",
              "      <td>1</td>\n",
              "      <td>Reply with your name and address and YOU WILL ...</td>\n",
              "      <td>NaN</td>\n",
              "      <td>NaN</td>\n",
              "      <td>NaN</td>\n",
              "    </tr>\n",
              "    <tr>\n",
              "      <th>54</th>\n",
              "      <td>0</td>\n",
              "      <td>So �_'ll be submitting da project tmr rite?</td>\n",
              "      <td>NaN</td>\n",
              "      <td>NaN</td>\n",
              "      <td>NaN</td>\n",
              "    </tr>\n",
              "    <tr>\n",
              "      <th>55</th>\n",
              "      <td>1</td>\n",
              "      <td>FREE entry into our �250 weekly comp just send...</td>\n",
              "      <td>NaN</td>\n",
              "      <td>NaN</td>\n",
              "      <td>NaN</td>\n",
              "    </tr>\n",
              "    <tr>\n",
              "      <th>56</th>\n",
              "      <td>0</td>\n",
              "      <td>Jus ans me lar. U'll noe later.</td>\n",
              "      <td>NaN</td>\n",
              "      <td>NaN</td>\n",
              "      <td>NaN</td>\n",
              "    </tr>\n",
              "    <tr>\n",
              "      <th>57</th>\n",
              "      <td>0</td>\n",
              "      <td>I want to send something that can sell fast.  ...</td>\n",
              "      <td>NaN</td>\n",
              "      <td>NaN</td>\n",
              "      <td>NaN</td>\n",
              "    </tr>\n",
              "    <tr>\n",
              "      <th>58</th>\n",
              "      <td>0</td>\n",
              "      <td>have got * few things to do. may be in * pub l...</td>\n",
              "      <td>NaN</td>\n",
              "      <td>NaN</td>\n",
              "      <td>NaN</td>\n",
              "    </tr>\n",
              "    <tr>\n",
              "      <th>59</th>\n",
              "      <td>0</td>\n",
              "      <td>1's finish meeting call me.</td>\n",
              "      <td>NaN</td>\n",
              "      <td>NaN</td>\n",
              "      <td>NaN</td>\n",
              "    </tr>\n",
              "    <tr>\n",
              "      <th>60</th>\n",
              "      <td>0</td>\n",
              "      <td>Lol ok. I'll snatch her purse too.</td>\n",
              "      <td>NaN</td>\n",
              "      <td>NaN</td>\n",
              "      <td>NaN</td>\n",
              "    </tr>\n",
              "    <tr>\n",
              "      <th>61</th>\n",
              "      <td>0</td>\n",
              "      <td>\\Hello-/@drivby-:0quit edrunk sorry iff pthis ...</td>\n",
              "      <td>NaN</td>\n",
              "      <td>NaN</td>\n",
              "      <td>NaN</td>\n",
              "    </tr>\n",
              "    <tr>\n",
              "      <th>62</th>\n",
              "      <td>0</td>\n",
              "      <td>Your opinion about me? 1. Over 2. Jada 3. Kusr...</td>\n",
              "      <td>NaN</td>\n",
              "      <td>NaN</td>\n",
              "      <td>NaN</td>\n",
              "    </tr>\n",
              "    <tr>\n",
              "      <th>63</th>\n",
              "      <td>0</td>\n",
              "      <td>How much are we getting?</td>\n",
              "      <td>NaN</td>\n",
              "      <td>NaN</td>\n",
              "      <td>NaN</td>\n",
              "    </tr>\n",
              "    <tr>\n",
              "      <th>64</th>\n",
              "      <td>0</td>\n",
              "      <td>Is ur paper in e morn or aft tmr?</td>\n",
              "      <td>NaN</td>\n",
              "      <td>NaN</td>\n",
              "      <td>NaN</td>\n",
              "    </tr>\n",
              "    <tr>\n",
              "      <th>65</th>\n",
              "      <td>0</td>\n",
              "      <td>Dear relieved of westonzoyland, all going to p...</td>\n",
              "      <td>NaN</td>\n",
              "      <td>NaN</td>\n",
              "      <td>NaN</td>\n",
              "    </tr>\n",
              "    <tr>\n",
              "      <th>66</th>\n",
              "      <td>0</td>\n",
              "      <td>Hope you are having a great new semester. Do w...</td>\n",
              "      <td>NaN</td>\n",
              "      <td>NaN</td>\n",
              "      <td>NaN</td>\n",
              "    </tr>\n",
              "    <tr>\n",
              "      <th>67</th>\n",
              "      <td>0</td>\n",
              "      <td>Oh yes I can speak txt 2 u no! Hmm. Did u get ...</td>\n",
              "      <td>NaN</td>\n",
              "      <td>NaN</td>\n",
              "      <td>NaN</td>\n",
              "    </tr>\n",
              "    <tr>\n",
              "      <th>68</th>\n",
              "      <td>0</td>\n",
              "      <td>I want to show you the world, princess :) how ...</td>\n",
              "      <td>NaN</td>\n",
              "      <td>NaN</td>\n",
              "      <td>NaN</td>\n",
              "    </tr>\n",
              "    <tr>\n",
              "      <th>69</th>\n",
              "      <td>0</td>\n",
              "      <td>Nobody can decide where to eat and dad wants C...</td>\n",
              "      <td>NaN</td>\n",
              "      <td>NaN</td>\n",
              "      <td>NaN</td>\n",
              "    </tr>\n",
              "  </tbody>\n",
              "</table>\n",
              "</div>\n",
              "      <button class=\"colab-df-convert\" onclick=\"convertToInteractive('df-cb598602-a5dc-4d29-a2e3-8772bdd502a2')\"\n",
              "              title=\"Convert this dataframe to an interactive table.\"\n",
              "              style=\"display:none;\">\n",
              "        \n",
              "  <svg xmlns=\"http://www.w3.org/2000/svg\" height=\"24px\"viewBox=\"0 0 24 24\"\n",
              "       width=\"24px\">\n",
              "    <path d=\"M0 0h24v24H0V0z\" fill=\"none\"/>\n",
              "    <path d=\"M18.56 5.44l.94 2.06.94-2.06 2.06-.94-2.06-.94-.94-2.06-.94 2.06-2.06.94zm-11 1L8.5 8.5l.94-2.06 2.06-.94-2.06-.94L8.5 2.5l-.94 2.06-2.06.94zm10 10l.94 2.06.94-2.06 2.06-.94-2.06-.94-.94-2.06-.94 2.06-2.06.94z\"/><path d=\"M17.41 7.96l-1.37-1.37c-.4-.4-.92-.59-1.43-.59-.52 0-1.04.2-1.43.59L10.3 9.45l-7.72 7.72c-.78.78-.78 2.05 0 2.83L4 21.41c.39.39.9.59 1.41.59.51 0 1.02-.2 1.41-.59l7.78-7.78 2.81-2.81c.8-.78.8-2.07 0-2.86zM5.41 20L4 18.59l7.72-7.72 1.47 1.35L5.41 20z\"/>\n",
              "  </svg>\n",
              "      </button>\n",
              "      \n",
              "  <style>\n",
              "    .colab-df-container {\n",
              "      display:flex;\n",
              "      flex-wrap:wrap;\n",
              "      gap: 12px;\n",
              "    }\n",
              "\n",
              "    .colab-df-convert {\n",
              "      background-color: #E8F0FE;\n",
              "      border: none;\n",
              "      border-radius: 50%;\n",
              "      cursor: pointer;\n",
              "      display: none;\n",
              "      fill: #1967D2;\n",
              "      height: 32px;\n",
              "      padding: 0 0 0 0;\n",
              "      width: 32px;\n",
              "    }\n",
              "\n",
              "    .colab-df-convert:hover {\n",
              "      background-color: #E2EBFA;\n",
              "      box-shadow: 0px 1px 2px rgba(60, 64, 67, 0.3), 0px 1px 3px 1px rgba(60, 64, 67, 0.15);\n",
              "      fill: #174EA6;\n",
              "    }\n",
              "\n",
              "    [theme=dark] .colab-df-convert {\n",
              "      background-color: #3B4455;\n",
              "      fill: #D2E3FC;\n",
              "    }\n",
              "\n",
              "    [theme=dark] .colab-df-convert:hover {\n",
              "      background-color: #434B5C;\n",
              "      box-shadow: 0px 1px 3px 1px rgba(0, 0, 0, 0.15);\n",
              "      filter: drop-shadow(0px 1px 2px rgba(0, 0, 0, 0.3));\n",
              "      fill: #FFFFFF;\n",
              "    }\n",
              "  </style>\n",
              "\n",
              "      <script>\n",
              "        const buttonEl =\n",
              "          document.querySelector('#df-cb598602-a5dc-4d29-a2e3-8772bdd502a2 button.colab-df-convert');\n",
              "        buttonEl.style.display =\n",
              "          google.colab.kernel.accessAllowed ? 'block' : 'none';\n",
              "\n",
              "        async function convertToInteractive(key) {\n",
              "          const element = document.querySelector('#df-cb598602-a5dc-4d29-a2e3-8772bdd502a2');\n",
              "          const dataTable =\n",
              "            await google.colab.kernel.invokeFunction('convertToInteractive',\n",
              "                                                     [key], {});\n",
              "          if (!dataTable) return;\n",
              "\n",
              "          const docLinkHtml = 'Like what you see? Visit the ' +\n",
              "            '<a target=\"_blank\" href=https://colab.research.google.com/notebooks/data_table.ipynb>data table notebook</a>'\n",
              "            + ' to learn more about interactive tables.';\n",
              "          element.innerHTML = '';\n",
              "          dataTable['output_type'] = 'display_data';\n",
              "          await google.colab.output.renderOutput(dataTable, element);\n",
              "          const docLink = document.createElement('div');\n",
              "          docLink.innerHTML = docLinkHtml;\n",
              "          element.appendChild(docLink);\n",
              "        }\n",
              "      </script>\n",
              "    </div>\n",
              "  </div>\n",
              "  "
            ]
          },
          "metadata": {},
          "execution_count": 8
        }
      ]
    },
    {
      "cell_type": "code",
      "metadata": {
        "id": "kY0fFpQbPFW3"
      },
      "source": [
        "# 불필요한 컬럼 삭제\n",
        "del train['Unnamed: 2']\n",
        "del train['Unnamed: 3']\n",
        "del train['Unnamed: 4']\n",
        "\n",
        "del test['Unnamed: 2']\n",
        "del test['Unnamed: 3']\n",
        "del test['Unnamed: 4']"
      ],
      "execution_count": 9,
      "outputs": []
    },
    {
      "cell_type": "markdown",
      "metadata": {
        "id": "BQkoEWNCP3s-"
      },
      "source": [
        "## 4. 버트 인풋 만들기\n"
      ]
    },
    {
      "cell_type": "code",
      "metadata": {
        "id": "577lP5mdU3p0"
      },
      "source": [
        "tokenizer = BertTokenizer.from_pretrained('bert-base-multilingual-cased')"
      ],
      "execution_count": 10,
      "outputs": []
    },
    {
      "cell_type": "markdown",
      "metadata": {
        "id": "b25HAe01Yk77"
      },
      "source": [
        "토큰화 확인"
      ]
    },
    {
      "cell_type": "code",
      "metadata": {
        "id": "prKo4MdQRbxS",
        "colab": {
          "base_uri": "https://localhost:8080/"
        },
        "outputId": "c2b0a4d5-4a3b-4ce7-cebe-41ab82d85a85"
      },
      "source": [
        "tokenizer.tokenize(\"Even my brother is not like to speak with me. They treat me like aids patent.\")"
      ],
      "execution_count": 11,
      "outputs": [
        {
          "output_type": "execute_result",
          "data": {
            "text/plain": [
              "['Even',\n",
              " 'my',\n",
              " 'brother',\n",
              " 'is',\n",
              " 'not',\n",
              " 'like',\n",
              " 'to',\n",
              " 'speak',\n",
              " 'with',\n",
              " 'me',\n",
              " '.',\n",
              " 'They',\n",
              " 'treat',\n",
              " 'me',\n",
              " 'like',\n",
              " 'aid',\n",
              " '##s',\n",
              " 'patent',\n",
              " '.']"
            ]
          },
          "metadata": {},
          "execution_count": 11
        }
      ]
    },
    {
      "cell_type": "code",
      "metadata": {
        "id": "6RlIe7dwRzTF",
        "colab": {
          "base_uri": "https://localhost:8080/"
        },
        "outputId": "3ae10064-1734-45df-8692-7fd29a422c61"
      },
      "source": [
        "tokenizer.tokenize(\"내일까지는 10만원 입금이 필요합니다\")"
      ],
      "execution_count": 12,
      "outputs": [
        {
          "output_type": "execute_result",
          "data": {
            "text/plain": [
              "['내',\n",
              " '##일',\n",
              " '##까지',\n",
              " '##는',\n",
              " '10',\n",
              " '##만',\n",
              " '##원',\n",
              " '입',\n",
              " '##금',\n",
              " '##이',\n",
              " '필',\n",
              " '##요',\n",
              " '##합',\n",
              " '##니다']"
            ]
          },
          "metadata": {},
          "execution_count": 12
        }
      ]
    },
    {
      "cell_type": "code",
      "metadata": {
        "id": "ZbO_NN47SDhq",
        "colab": {
          "base_uri": "https://localhost:8080/"
        },
        "outputId": "f8a7bf79-7f2c-4238-ada0-11ff4c0d19bb"
      },
      "source": [
        "\n",
        "def convert_data(data_df):\n",
        "    global tokenizer\n",
        "    \n",
        "    SEQ_LEN = 128 #SEQ_LEN : 버트에 들어갈 인풋의 길이\n",
        "    \n",
        "    tokens, masks, segments, targets = [], [], [], []\n",
        "    \n",
        "    for i in tqdm(range(len(data_df))):\n",
        "        # token : 문장을 토큰화함\n",
        "        token = tokenizer.encode(data_df[DATA_COLUMN][i], max_length=SEQ_LEN, truncation=True, padding='max_length')\n",
        "       \n",
        "        # 마스크는 토큰화한 문장에서 패딩이 아닌 부분은 1, 패딩인 부분은 0으로 통일\n",
        "        num_zeros = token.count(0)\n",
        "        mask = [1]*(SEQ_LEN-num_zeros) + [0]*num_zeros\n",
        "        \n",
        "        # 문장의 전후관계를 구분해주는 세그먼트는 문장이 1개밖에 없으므로 모두 0\n",
        "        segment = [0]*SEQ_LEN\n",
        "\n",
        "        # 버트 인풋으로 들어가는 token, mask, segment를 tokens, segments에 각각 저장\n",
        "        tokens.append(token)\n",
        "        masks.append(mask)\n",
        "        segments.append(segment)\n",
        "        \n",
        "        # 정답(스팸 : 1 정상 0)을 targets 변수에 저장해 줌\n",
        "        targets.append(data_df[LABEL_COLUMN][i])\n",
        "\n",
        "    # tokens, masks, segments, 정답 변수 targets를 numpy array로 지정    \n",
        "    tokens = np.array(tokens)\n",
        "    masks = np.array(masks)\n",
        "    segments = np.array(segments)\n",
        "    targets = np.array(targets)\n",
        "\n",
        "    return [tokens, masks, segments], targets\n",
        "\n",
        "# 위에 정의한 convert_data 함수를 불러오는 함수를 정의\n",
        "def load_data(pandas_dataframe):\n",
        "    data_df = pandas_dataframe\n",
        "    data_df[DATA_COLUMN] = data_df[DATA_COLUMN].astype(str)\n",
        "    data_df[LABEL_COLUMN] = data_df[LABEL_COLUMN].astype(int)\n",
        "    data_x, data_y = convert_data(data_df)\n",
        "    return data_x, data_y\n",
        "\n",
        "SEQ_LEN = 128\n",
        "BATCH_SIZE = 20\n",
        "# 스팸 문장을 포함하고 있는 칼럼\n",
        "DATA_COLUMN = \"document\"\n",
        "# 스팸인지를 (1=스팸,0=정상) 포함하고 있는 칼럼\n",
        "LABEL_COLUMN = \"label\"\n",
        "\n",
        "# train 데이터를 버트 인풋에 맞게 변환\n",
        "train_x, train_y = load_data(train)"
      ],
      "execution_count": 13,
      "outputs": [
        {
          "output_type": "stream",
          "name": "stderr",
          "text": [
            "100%|██████████| 4399/4399 [00:04<00:00, 896.96it/s]\n"
          ]
        }
      ]
    },
    {
      "cell_type": "code",
      "metadata": {
        "id": "R3mspxlCSHIT",
        "colab": {
          "base_uri": "https://localhost:8080/"
        },
        "outputId": "177e42d5-fc7e-457c-eaff-cf906ee7f84f"
      },
      "source": [
        "# 훈련 성능을 검증한 test 데이터를 버트 인풋에 맞게 변환\n",
        "test_x, test_y = load_data(test)"
      ],
      "execution_count": 14,
      "outputs": [
        {
          "output_type": "stream",
          "name": "stderr",
          "text": [
            "100%|██████████| 1173/1173 [00:01<00:00, 1002.73it/s]\n"
          ]
        }
      ]
    },
    {
      "cell_type": "markdown",
      "metadata": {
        "id": "4-D5PZXUSMdN"
      },
      "source": [
        "사전학습된 버트 모델의 인풋은 문장 토큰화가 숫자로 바뀐 것과, 앞문장인지 뒷문장인지 알려주는 문장 순서 벡터가 들어갑니다. 우리는 문장 하나를 가지고만 훈련할 것이므로 순서 벡터는 모두 0으로 통일합니다.\n",
        "\n",
        "그리고 파인튜닝 시에는 문장 안에 일부 단어를 가리는 마스킹은 사용하지 않습니다."
      ]
    },
    {
      "cell_type": "code",
      "metadata": {
        "id": "BOKHcNFJSVpx",
        "colab": {
          "base_uri": "https://localhost:8080/"
        },
        "outputId": "d7d7fc83-8f98-4d23-e826-712ba68ebbe9"
      },
      "source": [
        "train_x"
      ],
      "execution_count": 15,
      "outputs": [
        {
          "output_type": "execute_result",
          "data": {
            "text/plain": [
              "[array([[  101,   100, 23145, ...,     0,     0,     0],\n",
              "        [  101, 25148, 10157, ...,     0,     0,     0],\n",
              "        [  101, 20220, 24874, ...,     0,     0,     0],\n",
              "        ...,\n",
              "        [  101, 79321, 10157, ...,     0,     0,     0],\n",
              "        [  101, 10117, 75980, ...,     0,     0,     0],\n",
              "        [  101,   155, 20324, ...,     0,     0,     0]]),\n",
              " array([[1, 1, 1, ..., 0, 0, 0],\n",
              "        [1, 1, 1, ..., 0, 0, 0],\n",
              "        [1, 1, 1, ..., 0, 0, 0],\n",
              "        ...,\n",
              "        [1, 1, 1, ..., 0, 0, 0],\n",
              "        [1, 1, 1, ..., 0, 0, 0],\n",
              "        [1, 1, 1, ..., 0, 0, 0]]),\n",
              " array([[0, 0, 0, ..., 0, 0, 0],\n",
              "        [0, 0, 0, ..., 0, 0, 0],\n",
              "        [0, 0, 0, ..., 0, 0, 0],\n",
              "        ...,\n",
              "        [0, 0, 0, ..., 0, 0, 0],\n",
              "        [0, 0, 0, ..., 0, 0, 0],\n",
              "        [0, 0, 0, ..., 0, 0, 0]])]"
            ]
          },
          "metadata": {},
          "execution_count": 15
        }
      ]
    },
    {
      "cell_type": "markdown",
      "metadata": {
        "id": "1caRs1BlSbIL"
      },
      "source": [
        "버트 모형에 들어갈 인풋은 토큰, 세그먼트, 포지션으로 구성됩니다.\n",
        "버트에 인풋으로 들어가는 토큰은 문장을 토크나이징 한 후, 인덱스 번호를 매긴 것입니다.\n",
        "세그먼트는 예를 들어 문장이 두 개가 있다면, 앞의 문장과 뒤의 문장을 구분하는 것입니다.\n",
        "포지션 임베딩은 단순히 단어의 위치를 말합니다.\n",
        "\n",
        "토큰, 세그먼트, 포지션을 인풋으로 버트 모형에 넣으면 기하학적인 문장 공간으로 임베딩이 됩니다.\n",
        "\n",
        "![image.png](data:image/png;base64,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)\n",
        "\n",
        "이해가 안 가실 수 있는데, 버트 인풋을 문장으로 예를 들어 만들어 보겠습니다.\n",
        "인풋은 총 2개가 들어갑니다\n",
        "\n",
        "* (토큰) 첫번째 인풋은 토큰화 된 것이 인덱싱되어 숫자로 변환된 것\n",
        "\n",
        "* (세그멘트) 두번째 인풋은 앞문장인지 뒷문장인지 알려주는 숫자들입니다. 이번 튜토리얼에서는 파인튜닝 과정이라 앞문장 뒷문장 구분을 안하기 때문에 모두 0으로 하였습니다.\n",
        "\n",
        "* (포지션) 단어 순서에 따라서 자동으로 부여됩니다."
      ]
    },
    {
      "cell_type": "markdown",
      "metadata": {
        "id": "pl4_HmCBTJSQ"
      },
      "source": [
        "# 버트를 활용한 스팸분석 모델 만들기\n",
        "버트 훈련을 빠르게 하기 위해, TPU를 사용하도록 하겠습니다"
      ]
    },
    {
      "cell_type": "code",
      "metadata": {
        "id": "KKex1DjnTLEm"
      },
      "source": [
        "# TPU 객체 지정\n",
        "TPU = False\n",
        "if TPU:\n",
        "  resolver = tf.distribute.cluster_resolver.TPUClusterResolver(tpu='grpc://' + os.environ['COLAB_TPU_ADDR'])\n",
        "  tf.config.experimental_connect_to_cluster(resolver)\n",
        "\n",
        "  tf.tpu.experimental.initialize_tpu_system(resolver)\n",
        "else:\n",
        "  pass"
      ],
      "execution_count": 16,
      "outputs": []
    },
    {
      "cell_type": "code",
      "source": [
        "!pip install tensorflow-addons==0.6.0"
      ],
      "metadata": {
        "colab": {
          "base_uri": "https://localhost:8080/"
        },
        "id": "xDYHF-Ayl1St",
        "outputId": "0fd4ce94-16aa-43b3-9628-5b46207d4cd5"
      },
      "execution_count": 17,
      "outputs": [
        {
          "output_type": "stream",
          "name": "stdout",
          "text": [
            "Requirement already satisfied: tensorflow-addons==0.6.0 in /usr/local/lib/python3.7/dist-packages (0.6.0)\n",
            "Requirement already satisfied: tensorflow-gpu==2.0.0 in /usr/local/lib/python3.7/dist-packages (from tensorflow-addons==0.6.0) (2.0.0)\n",
            "Requirement already satisfied: six>=1.10.0 in /usr/local/lib/python3.7/dist-packages (from tensorflow-addons==0.6.0) (1.16.0)\n",
            "Requirement already satisfied: keras-applications>=1.0.8 in /usr/local/lib/python3.7/dist-packages (from tensorflow-gpu==2.0.0->tensorflow-addons==0.6.0) (1.0.8)\n",
            "Requirement already satisfied: astor>=0.6.0 in /usr/local/lib/python3.7/dist-packages (from tensorflow-gpu==2.0.0->tensorflow-addons==0.6.0) (0.8.1)\n",
            "Requirement already satisfied: gast==0.2.2 in /usr/local/lib/python3.7/dist-packages (from tensorflow-gpu==2.0.0->tensorflow-addons==0.6.0) (0.2.2)\n",
            "Requirement already satisfied: wheel>=0.26 in /usr/local/lib/python3.7/dist-packages (from tensorflow-gpu==2.0.0->tensorflow-addons==0.6.0) (0.37.1)\n",
            "Requirement already satisfied: protobuf>=3.6.1 in /usr/local/lib/python3.7/dist-packages (from tensorflow-gpu==2.0.0->tensorflow-addons==0.6.0) (3.17.3)\n",
            "Requirement already satisfied: grpcio>=1.8.6 in /usr/local/lib/python3.7/dist-packages (from tensorflow-gpu==2.0.0->tensorflow-addons==0.6.0) (1.44.0)\n",
            "Requirement already satisfied: opt-einsum>=2.3.2 in /usr/local/lib/python3.7/dist-packages (from tensorflow-gpu==2.0.0->tensorflow-addons==0.6.0) (3.3.0)\n",
            "Requirement already satisfied: tensorflow-estimator<2.1.0,>=2.0.0 in /usr/local/lib/python3.7/dist-packages (from tensorflow-gpu==2.0.0->tensorflow-addons==0.6.0) (2.0.1)\n",
            "Requirement already satisfied: tensorboard<2.1.0,>=2.0.0 in /usr/local/lib/python3.7/dist-packages (from tensorflow-gpu==2.0.0->tensorflow-addons==0.6.0) (2.0.2)\n",
            "Requirement already satisfied: absl-py>=0.7.0 in /usr/local/lib/python3.7/dist-packages (from tensorflow-gpu==2.0.0->tensorflow-addons==0.6.0) (1.0.0)\n",
            "Requirement already satisfied: termcolor>=1.1.0 in /usr/local/lib/python3.7/dist-packages (from tensorflow-gpu==2.0.0->tensorflow-addons==0.6.0) (1.1.0)\n",
            "Requirement already satisfied: wrapt>=1.11.1 in /usr/local/lib/python3.7/dist-packages (from tensorflow-gpu==2.0.0->tensorflow-addons==0.6.0) (1.14.0)\n",
            "Requirement already satisfied: keras-preprocessing>=1.0.5 in /usr/local/lib/python3.7/dist-packages (from tensorflow-gpu==2.0.0->tensorflow-addons==0.6.0) (1.1.2)\n",
            "Requirement already satisfied: numpy<2.0,>=1.16.0 in /usr/local/lib/python3.7/dist-packages (from tensorflow-gpu==2.0.0->tensorflow-addons==0.6.0) (1.21.6)\n",
            "Requirement already satisfied: google-pasta>=0.1.6 in /usr/local/lib/python3.7/dist-packages (from tensorflow-gpu==2.0.0->tensorflow-addons==0.6.0) (0.2.0)\n",
            "Requirement already satisfied: h5py in /usr/local/lib/python3.7/dist-packages (from keras-applications>=1.0.8->tensorflow-gpu==2.0.0->tensorflow-addons==0.6.0) (2.10.0)\n",
            "Requirement already satisfied: setuptools>=41.0.0 in /usr/local/lib/python3.7/dist-packages (from tensorboard<2.1.0,>=2.0.0->tensorflow-gpu==2.0.0->tensorflow-addons==0.6.0) (57.4.0)\n",
            "Requirement already satisfied: werkzeug>=0.11.15 in /usr/local/lib/python3.7/dist-packages (from tensorboard<2.1.0,>=2.0.0->tensorflow-gpu==2.0.0->tensorflow-addons==0.6.0) (1.0.1)\n",
            "Requirement already satisfied: requests<3,>=2.21.0 in /usr/local/lib/python3.7/dist-packages (from tensorboard<2.1.0,>=2.0.0->tensorflow-gpu==2.0.0->tensorflow-addons==0.6.0) (2.23.0)\n",
            "Requirement already satisfied: markdown>=2.6.8 in /usr/local/lib/python3.7/dist-packages (from tensorboard<2.1.0,>=2.0.0->tensorflow-gpu==2.0.0->tensorflow-addons==0.6.0) (3.3.6)\n",
            "Requirement already satisfied: google-auth<2,>=1.6.3 in /usr/local/lib/python3.7/dist-packages (from tensorboard<2.1.0,>=2.0.0->tensorflow-gpu==2.0.0->tensorflow-addons==0.6.0) (1.35.0)\n",
            "Requirement already satisfied: google-auth-oauthlib<0.5,>=0.4.1 in /usr/local/lib/python3.7/dist-packages (from tensorboard<2.1.0,>=2.0.0->tensorflow-gpu==2.0.0->tensorflow-addons==0.6.0) (0.4.6)\n",
            "Requirement already satisfied: cachetools<5.0,>=2.0.0 in /usr/local/lib/python3.7/dist-packages (from google-auth<2,>=1.6.3->tensorboard<2.1.0,>=2.0.0->tensorflow-gpu==2.0.0->tensorflow-addons==0.6.0) (4.2.4)\n",
            "Requirement already satisfied: pyasn1-modules>=0.2.1 in /usr/local/lib/python3.7/dist-packages (from google-auth<2,>=1.6.3->tensorboard<2.1.0,>=2.0.0->tensorflow-gpu==2.0.0->tensorflow-addons==0.6.0) (0.2.8)\n",
            "Requirement already satisfied: rsa<5,>=3.1.4 in /usr/local/lib/python3.7/dist-packages (from google-auth<2,>=1.6.3->tensorboard<2.1.0,>=2.0.0->tensorflow-gpu==2.0.0->tensorflow-addons==0.6.0) (4.8)\n",
            "Requirement already satisfied: requests-oauthlib>=0.7.0 in /usr/local/lib/python3.7/dist-packages (from google-auth-oauthlib<0.5,>=0.4.1->tensorboard<2.1.0,>=2.0.0->tensorflow-gpu==2.0.0->tensorflow-addons==0.6.0) (1.3.1)\n",
            "Requirement already satisfied: importlib-metadata>=4.4 in /usr/local/lib/python3.7/dist-packages (from markdown>=2.6.8->tensorboard<2.1.0,>=2.0.0->tensorflow-gpu==2.0.0->tensorflow-addons==0.6.0) (4.11.3)\n",
            "Requirement already satisfied: typing-extensions>=3.6.4 in /usr/local/lib/python3.7/dist-packages (from importlib-metadata>=4.4->markdown>=2.6.8->tensorboard<2.1.0,>=2.0.0->tensorflow-gpu==2.0.0->tensorflow-addons==0.6.0) (4.2.0)\n",
            "Requirement already satisfied: zipp>=0.5 in /usr/local/lib/python3.7/dist-packages (from importlib-metadata>=4.4->markdown>=2.6.8->tensorboard<2.1.0,>=2.0.0->tensorflow-gpu==2.0.0->tensorflow-addons==0.6.0) (3.8.0)\n",
            "Requirement already satisfied: pyasn1<0.5.0,>=0.4.6 in /usr/local/lib/python3.7/dist-packages (from pyasn1-modules>=0.2.1->google-auth<2,>=1.6.3->tensorboard<2.1.0,>=2.0.0->tensorflow-gpu==2.0.0->tensorflow-addons==0.6.0) (0.4.8)\n",
            "Requirement already satisfied: idna<3,>=2.5 in /usr/local/lib/python3.7/dist-packages (from requests<3,>=2.21.0->tensorboard<2.1.0,>=2.0.0->tensorflow-gpu==2.0.0->tensorflow-addons==0.6.0) (2.10)\n",
            "Requirement already satisfied: urllib3!=1.25.0,!=1.25.1,<1.26,>=1.21.1 in /usr/local/lib/python3.7/dist-packages (from requests<3,>=2.21.0->tensorboard<2.1.0,>=2.0.0->tensorflow-gpu==2.0.0->tensorflow-addons==0.6.0) (1.24.3)\n",
            "Requirement already satisfied: certifi>=2017.4.17 in /usr/local/lib/python3.7/dist-packages (from requests<3,>=2.21.0->tensorboard<2.1.0,>=2.0.0->tensorflow-gpu==2.0.0->tensorflow-addons==0.6.0) (2021.10.8)\n",
            "Requirement already satisfied: chardet<4,>=3.0.2 in /usr/local/lib/python3.7/dist-packages (from requests<3,>=2.21.0->tensorboard<2.1.0,>=2.0.0->tensorflow-gpu==2.0.0->tensorflow-addons==0.6.0) (3.0.4)\n",
            "Requirement already satisfied: oauthlib>=3.0.0 in /usr/local/lib/python3.7/dist-packages (from requests-oauthlib>=0.7.0->google-auth-oauthlib<0.5,>=0.4.1->tensorboard<2.1.0,>=2.0.0->tensorflow-gpu==2.0.0->tensorflow-addons==0.6.0) (3.2.0)\n"
          ]
        }
      ]
    },
    {
      "cell_type": "code",
      "metadata": {
        "id": "sB5aGQtLY6eH"
      },
      "source": [
        "# Rectified Adam 옵티마이저 사용\n",
        "import tensorflow_addons as tfa\n",
        "opt = tfa.optimizers.RectifiedAdam(lr=1.0e-5, weight_decay=0.0025)"
      ],
      "execution_count": 18,
      "outputs": []
    },
    {
      "cell_type": "code",
      "metadata": {
        "id": "P_WWoPhzY90O"
      },
      "source": [
        "def create_spam_bert():\n",
        "  # 버트 pretrained 모델 로드\n",
        "  model = TFBertModel.from_pretrained('bert-base-multilingual-cased')\n",
        "  # 토큰 인풋, 마스크 인풋, 세그먼트 인풋 정의\n",
        "  token_inputs = tf.keras.layers.Input((SEQ_LEN,), dtype=tf.int32, name='input_word_ids')\n",
        "  mask_inputs = tf.keras.layers.Input((SEQ_LEN,), dtype=tf.int32, name='input_masks')\n",
        "  segment_inputs = tf.keras.layers.Input((SEQ_LEN,), dtype=tf.int32, name='input_segment')\n",
        "  # 인풋이 [토큰, 마스크, 세그먼트]인 모델 정의\n",
        "  bert_outputs = model([token_inputs, mask_inputs, segment_inputs])\n",
        "\n",
        "  bert_outputs = bert_outputs[1]\n",
        "  spam_first = tf.keras.layers.Dense(1, activation='sigmoid', kernel_initializer=tf.keras.initializers.TruncatedNormal(stddev=0.02))(bert_outputs)\n",
        "  spam_model = tf.keras.Model([token_inputs, mask_inputs, segment_inputs], spam_first)\n",
        "\n",
        "  spam_model.compile(optimizer=opt, loss=tf.keras.losses.BinaryCrossentropy(), metrics = ['accuracy'])\n",
        "  return spam_model"
      ],
      "execution_count": 19,
      "outputs": []
    },
    {
      "cell_type": "code",
      "source": [
        "!pip install h5py==2.10.0 --force-reinstall"
      ],
      "metadata": {
        "colab": {
          "base_uri": "https://localhost:8080/",
          "height": 620
        },
        "id": "-VJx_YMhpPpW",
        "outputId": "7f0947f7-f836-4591-d7ff-f5b6edd56928"
      },
      "execution_count": 20,
      "outputs": [
        {
          "output_type": "stream",
          "name": "stdout",
          "text": [
            "Collecting h5py==2.10.0\n",
            "  Using cached h5py-2.10.0-cp37-cp37m-manylinux1_x86_64.whl (2.9 MB)\n",
            "Collecting numpy>=1.7\n",
            "  Using cached numpy-1.21.6-cp37-cp37m-manylinux_2_12_x86_64.manylinux2010_x86_64.whl (15.7 MB)\n",
            "Collecting six\n",
            "  Using cached six-1.16.0-py2.py3-none-any.whl (11 kB)\n",
            "Installing collected packages: six, numpy, h5py\n",
            "  Attempting uninstall: six\n",
            "    Found existing installation: six 1.16.0\n",
            "    Uninstalling six-1.16.0:\n",
            "      Successfully uninstalled six-1.16.0\n",
            "  Attempting uninstall: numpy\n",
            "    Found existing installation: numpy 1.21.6\n",
            "    Uninstalling numpy-1.21.6:\n",
            "      Successfully uninstalled numpy-1.21.6\n",
            "  Attempting uninstall: h5py\n",
            "    Found existing installation: h5py 2.10.0\n",
            "    Uninstalling h5py-2.10.0:\n",
            "      Successfully uninstalled h5py-2.10.0\n",
            "\u001b[31mERROR: pip's dependency resolver does not currently take into account all the packages that are installed. This behaviour is the source of the following dependency conflicts.\n",
            "tensorflow 1.14.0 requires tensorboard<1.15.0,>=1.14.0, but you have tensorboard 2.0.2 which is incompatible.\n",
            "tensorflow 1.14.0 requires tensorflow-estimator<1.15.0rc0,>=1.14.0rc0, but you have tensorflow-estimator 2.0.1 which is incompatible.\n",
            "tensorflow-probability 0.16.0 requires gast>=0.3.2, but you have gast 0.2.2 which is incompatible.\n",
            "kapre 0.3.7 requires tensorflow>=2.0.0, but you have tensorflow 1.14.0 which is incompatible.\n",
            "google-colab 1.0.0 requires six~=1.15.0, but you have six 1.16.0 which is incompatible.\n",
            "datascience 0.10.6 requires folium==0.2.1, but you have folium 0.8.3 which is incompatible.\n",
            "albumentations 0.1.12 requires imgaug<0.2.7,>=0.2.5, but you have imgaug 0.2.9 which is incompatible.\u001b[0m\n",
            "Successfully installed h5py-2.10.0 numpy-1.21.6 six-1.16.0\n"
          ]
        },
        {
          "output_type": "display_data",
          "data": {
            "application/vnd.colab-display-data+json": {
              "pip_warning": {
                "packages": [
                  "h5py",
                  "numpy",
                  "six"
                ]
              }
            }
          },
          "metadata": {}
        }
      ]
    },
    {
      "cell_type": "code",
      "metadata": {
        "id": "LscyUQOjZQQv",
        "colab": {
          "base_uri": "https://localhost:8080/"
        },
        "outputId": "958de8cf-9b32-48f1-baea-95aa90f7d10c"
      },
      "source": [
        "# TPU 실행 시\n",
        "if TPU:\n",
        "  strategy = tf.distribute.experimental.TPUStrategy(resolver)\n",
        "# 함수를 strategy.scope로 묶어 줌\n",
        "  with strategy.scope():\n",
        "    spam_model = create_spam_bert()\n",
        "  \n",
        "  spam_model.fit(train_x, train_y, epochs=4, shuffle=True, batch_size=100, validation_data=(test_x, test_y))\n",
        "else:\n",
        "  # GPU 모드로 훈련시킬 때\n",
        "  spam_model = create_spam_bert()\n",
        "  \n",
        "  spam_model.fit(train_x, train_y, epochs=4, shuffle=True, batch_size=100, validation_data=(test_x, test_y))"
      ],
      "execution_count": null,
      "outputs": [
        {
          "output_type": "stream",
          "name": "stderr",
          "text": [
            "Some weights of the model checkpoint at bert-base-multilingual-cased were not used when initializing TFBertModel: ['mlm___cls', 'nsp___cls']\n",
            "- This IS expected if you are initializing TFBertModel from the checkpoint of a model trained on another task or with another architecture (e.g. initializing a BertForSequenceClassification model from a BertForPretraining model).\n",
            "- This IS NOT expected if you are initializing TFBertModel from the checkpoint of a model that you expect to be exactly identical (initializing a BertForSequenceClassification model from a BertForSequenceClassification model).\n",
            "All the weights of TFBertModel were initialized from the model checkpoint at bert-base-multilingual-cased.\n",
            "If your task is similar to the task the model of the checkpoint was trained on, you can already use TFBertModel for predictions without further training.\n"
          ]
        },
        {
          "output_type": "stream",
          "name": "stdout",
          "text": [
            "Train on 4399 samples, validate on 1173 samples\n",
            "Epoch 1/4\n"
          ]
        }
      ]
    },
    {
      "cell_type": "markdown",
      "metadata": {
        "id": "1SWUqqnZbw9X"
      },
      "source": [
        "훈련 및 성능 검증"
      ]
    },
    {
      "cell_type": "code",
      "metadata": {
        "id": "z2L-ts2qcd5c"
      },
      "source": [
        "# 모델 저장\n",
        "spam_model.save_weights(\"/huggingface_bert.h5\")"
      ],
      "execution_count": null,
      "outputs": []
    },
    {
      "cell_type": "code",
      "metadata": {
        "id": "c_6c3tptcqPc"
      },
      "source": [
        "def predict_convert_data(data_df):\n",
        "    global tokenizer\n",
        "    tokens, masks, segments = [], [], []\n",
        "    \n",
        "    for i in tqdm(range(len(data_df))):\n",
        "\n",
        "        token = tokenizer.encode(data_df[DATA_COLUMN][i], max_length=SEQ_LEN, truncation=True, padding='max_length')\n",
        "        num_zeros = token.count(0)\n",
        "        mask = [1]*(SEQ_LEN-num_zeros) + [0]*num_zeros\n",
        "        segment = [0]*SEQ_LEN\n",
        "\n",
        "        tokens.append(token)\n",
        "        segments.append(segment)\n",
        "        masks.append(mask)\n",
        "\n",
        "    tokens = np.array(tokens)\n",
        "    masks = np.array(masks)\n",
        "    segments = np.array(segments)\n",
        "    return [tokens, masks, segments]\n",
        "\n",
        "# 위에 정의한 convert_data 함수를 불러오는 함수를 정의\n",
        "def predict_load_data(pandas_dataframe):\n",
        "    data_df = pandas_dataframe\n",
        "    data_df[DATA_COLUMN] = data_df[DATA_COLUMN].astype(str)\n",
        "    data_x = predict_convert_data(data_df)\n",
        "    return data_x"
      ],
      "execution_count": null,
      "outputs": []
    },
    {
      "cell_type": "code",
      "metadata": {
        "id": "pHO0tF9Zcx_H"
      },
      "source": [
        "test_set = predict_load_data(test)"
      ],
      "execution_count": null,
      "outputs": []
    },
    {
      "cell_type": "code",
      "metadata": {
        "id": "hSlMn8tPc3lg"
      },
      "source": [
        "test_set"
      ],
      "execution_count": null,
      "outputs": []
    },
    {
      "cell_type": "code",
      "metadata": {
        "id": "FiTxYpyzc8HY"
      },
      "source": [
        "with strategy.scope():\n",
        "  preds = spam_model.predict(test_set)"
      ],
      "execution_count": null,
      "outputs": []
    },
    {
      "cell_type": "code",
      "metadata": {
        "id": "Gt41X2fPdB0o"
      },
      "source": [
        "# 스팸이면 1, 정상이면 0 출력\n",
        "preds"
      ],
      "execution_count": null,
      "outputs": []
    },
    {
      "cell_type": "markdown",
      "metadata": {
        "id": "I0JPVBJXdIS7"
      },
      "source": [
        "우리가 훈련한 모델을 F1 SCORE를 바탕으로 성능 측정\n",
        "F1 SCORE는 precision과 recall을 가중평균하여 계산합니다\n",
        "recall은 (모델이 TRUE라고 판정한 것의 숫자)/(전체 TRUE의 숫자)\n",
        "precision은 (진짜 TRUE) / (모델이 TRUE라고 판정한 것의 숫자)"
      ]
    },
    {
      "cell_type": "code",
      "metadata": {
        "id": "ye-6Gh9AdHhX"
      },
      "source": [
        "from sklearn.metrics import classification_report\n",
        "y_true = test['label']\n",
        "# F1 Score 확인\n",
        "print(classification_report(y_true, np.round(preds,0)))"
      ],
      "execution_count": null,
      "outputs": []
    },
    {
      "cell_type": "code",
      "metadata": {
        "id": "7dfmb46vdRnP"
      },
      "source": [
        "import logging\n",
        "tf.get_logger().setLevel(logging.ERROR)"
      ],
      "execution_count": null,
      "outputs": []
    },
    {
      "cell_type": "markdown",
      "metadata": {
        "id": "jSJ5gSNLdVEp"
      },
      "source": [
        "실제 데이터로 실습하기"
      ]
    },
    {
      "cell_type": "code",
      "metadata": {
        "id": "hJd0UG08X_oO"
      },
      "source": [
        "def sentence_convert_data(data):\n",
        "    global tokenizer\n",
        "    tokens, masks, segments = [], [], []\n",
        "    token = tokenizer.encode(data, max_length=SEQ_LEN, truncation=True, padding='max_length')\n",
        "    \n",
        "    num_zeros = token.count(0) \n",
        "    mask = [1]*(SEQ_LEN-num_zeros) + [0]*num_zeros \n",
        "    segment = [0]*SEQ_LEN\n",
        "\n",
        "    tokens.append(token)\n",
        "    segments.append(segment)\n",
        "    masks.append(mask)\n",
        "\n",
        "    tokens = np.array(tokens)\n",
        "    masks = np.array(masks)\n",
        "    segments = np.array(segments)\n",
        "    return [tokens, masks, segments]\n",
        "\n",
        "def spam_evaluation_predict(sentence):\n",
        "    data_x = sentence_convert_data(sentence)\n",
        "    predict = spam_model.predict(data_x)\n",
        "    predict_value = np.ravel(predict)\n",
        "    predict_answer = np.round(predict_value,0).item()\n",
        "    \n",
        "    if predict_answer == 0:\n",
        "      print(\"(정상 확률 : %.2f) 정상입니다.\" % (1-predict_value))\n",
        "    elif predict_answer == 1:\n",
        "      print(\"(스팸 확률 : %.2f) 스팸입니다.\" % predict_value)"
      ],
      "execution_count": null,
      "outputs": []
    },
    {
      "cell_type": "code",
      "metadata": {
        "id": "_59NDRsOYSiE"
      },
      "source": [
        "spam_evaluation_predict(\"FREE entry into our �250 weekly comp just send\")"
      ],
      "execution_count": null,
      "outputs": []
    },
    {
      "cell_type": "code",
      "metadata": {
        "id": "1lrfiPjUd7Rl"
      },
      "source": [
        "spam_evaluation_predict(\"How are you?\")"
      ],
      "execution_count": null,
      "outputs": []
    }
  ]
}