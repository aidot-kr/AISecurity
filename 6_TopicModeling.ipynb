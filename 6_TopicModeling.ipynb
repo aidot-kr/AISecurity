{
  "nbformat": 4,
  "nbformat_minor": 0,
  "metadata": {
    "kernelspec": {
      "display_name": "Python 3",
      "language": "python",
      "name": "python3"
    },
    "language_info": {
      "codemirror_mode": {
        "name": "ipython",
        "version": 3
      },
      "file_extension": ".py",
      "mimetype": "text/x-python",
      "name": "python",
      "nbconvert_exporter": "python",
      "pygments_lexer": "ipython3",
      "version": "3.7.5"
    },
    "colab": {
      "name": "6.TopicModeling.ipynb",
      "provenance": [],
      "collapsed_sections": [],
      "machine_shape": "hm",
      "include_colab_link": true
    },
    "accelerator": "GPU"
  },
  "cells": [
    {
      "cell_type": "markdown",
      "metadata": {
        "id": "view-in-github",
        "colab_type": "text"
      },
      "source": [
        "<a href=\"https://colab.research.google.com/github/aidot-kr/AISecurity/blob/master/6_TopicModeling.ipynb\" target=\"_parent\"><img src=\"https://colab.research.google.com/assets/colab-badge.svg\" alt=\"Open In Colab\"/></a>"
      ]
    },
    {
      "cell_type": "markdown",
      "metadata": {
        "id": "GdsrjcOLsGuc"
      },
      "source": [
        "## Topic Modeling\n",
        "- 참고DataSet: 네이버 영화리뷰, 해당 폴더에서 ratings.txt 다운로드\n",
        "- 소스코드 출처: https://coredottoday.github.io/"
      ]
    },
    {
      "cell_type": "markdown",
      "metadata": {
        "id": "inS_Q7a6sGud"
      },
      "source": [
        "1) 다운로드된 파일읽기"
      ]
    },
    {
      "cell_type": "code",
      "metadata": {
        "id": "rNu8NF19zCb-",
        "outputId": "fdd9d8e8-5cc8-4868-f338-4407fd22c17e",
        "colab": {
          "base_uri": "https://localhost:8080/",
          "height": 35
        }
      },
      "source": [
        "from google.colab import drive\n",
        "drive.mount('/content/drive')"
      ],
      "execution_count": null,
      "outputs": [
        {
          "output_type": "stream",
          "text": [
            "Mounted at /content/drive\n"
          ],
          "name": "stdout"
        }
      ]
    },
    {
      "cell_type": "code",
      "metadata": {
        "id": "5S4rQAatzhD0",
        "outputId": "2d76925a-5de1-447a-dc15-a0dd8a1390d1",
        "colab": {
          "base_uri": "https://localhost:8080/",
          "height": 35
        }
      },
      "source": [
        "cd /content/drive/My\\ Drive/AISecurity"
      ],
      "execution_count": null,
      "outputs": [
        {
          "output_type": "stream",
          "text": [
            "/content/drive/My Drive/AISecurity\n"
          ],
          "name": "stdout"
        }
      ]
    },
    {
      "cell_type": "code",
      "metadata": {
        "id": "D2mRdMXv0Kkw",
        "outputId": "077c4493-eaca-4a93-becc-bd173a2c46f7",
        "colab": {
          "base_uri": "https://localhost:8080/",
          "height": 107
        }
      },
      "source": [
        "ls"
      ],
      "execution_count": null,
      "outputs": [
        {
          "output_type": "stream",
          "text": [
            "2.TFIDF.ipynb           5.Word2Vec-FastText.ipynb  ratings.txt\n",
            "3.SimpleCrawling.ipynb  6.Similarity.ipynb         Sample.ipynb\n",
            "4_MeCab.ipynb           6.TopicModeling2.ipynb     spam.csv\n",
            "4_Pre_Processing.ipynb  6.TopicModeling.ipynb\n",
            "5.OneHotEncode.ipynb    7.ngram.ipynb\n"
          ],
          "name": "stdout"
        }
      ]
    },
    {
      "cell_type": "code",
      "metadata": {
        "id": "mVUyYzLp2vtC",
        "outputId": "5d40c378-277c-4636-8fe2-88d76addbc7c",
        "colab": {
          "base_uri": "https://localhost:8080/",
          "height": 503
        }
      },
      "source": [
        "# Colab 서버스펙확인, GPU 할당을 위해서는 메뉴 > 런타임 > 런타임유형변경에서 GPU 선택\n",
        "from tensorflow.python.client import device_lib\n",
        "device_lib.list_local_devices()"
      ],
      "execution_count": null,
      "outputs": [
        {
          "output_type": "execute_result",
          "data": {
            "text/plain": [
              "[name: \"/device:CPU:0\"\n",
              " device_type: \"CPU\"\n",
              " memory_limit: 268435456\n",
              " locality {\n",
              " }\n",
              " incarnation: 12868769792360832107, name: \"/device:XLA_CPU:0\"\n",
              " device_type: \"XLA_CPU\"\n",
              " memory_limit: 17179869184\n",
              " locality {\n",
              " }\n",
              " incarnation: 9078734879070652370\n",
              " physical_device_desc: \"device: XLA_CPU device\", name: \"/device:XLA_GPU:0\"\n",
              " device_type: \"XLA_GPU\"\n",
              " memory_limit: 17179869184\n",
              " locality {\n",
              " }\n",
              " incarnation: 256433079731021294\n",
              " physical_device_desc: \"device: XLA_GPU device\", name: \"/device:GPU:0\"\n",
              " device_type: \"GPU\"\n",
              " memory_limit: 15473775744\n",
              " locality {\n",
              "   bus_id: 1\n",
              "   links {\n",
              "   }\n",
              " }\n",
              " incarnation: 13146161969386282878\n",
              " physical_device_desc: \"device: 0, name: Tesla V100-SXM2-16GB, pci bus id: 0000:00:04.0, compute capability: 7.0\"]"
            ]
          },
          "metadata": {
            "tags": []
          },
          "execution_count": 4
        }
      ]
    },
    {
      "cell_type": "code",
      "metadata": {
        "id": "lf6AcBrPsGug"
      },
      "source": [
        "import pandas as pd\n",
        "\n",
        "# ratings.txt는 탭구분자를 기준으로 읽기 실행\n",
        "doc = pd.read_csv('ratings.txt',sep = '\\t' ) "
      ],
      "execution_count": null,
      "outputs": []
    },
    {
      "cell_type": "code",
      "metadata": {
        "id": "YTfIt-sisGui"
      },
      "source": [
        "# ratings.txt를 file open Read도 가능\n",
        "f = open('ratings.txt', 'r',  encoding='utf-8')\n",
        "data = f.read()\n",
        "f.close()"
      ],
      "execution_count": null,
      "outputs": []
    },
    {
      "cell_type": "code",
      "metadata": {
        "id": "N1ri1lIPsGuk",
        "outputId": "c676fca9-6848-4355-d7ca-c58a8d042d2f",
        "colab": {
          "base_uri": "https://localhost:8080/",
          "height": 35
        }
      },
      "source": [
        "print(len(data))"
      ],
      "execution_count": null,
      "outputs": [
        {
          "output_type": "stream",
          "text": [
            "9248467\n"
          ],
          "name": "stdout"
        }
      ]
    },
    {
      "cell_type": "code",
      "metadata": {
        "scrolled": false,
        "id": "GKIurx60sGum",
        "outputId": "dd9bc5b8-810f-494f-f331-ec4408ead8fd",
        "colab": {
          "base_uri": "https://localhost:8080/"
        }
      },
      "source": [
        "doc.info()"
      ],
      "execution_count": null,
      "outputs": [
        {
          "output_type": "stream",
          "text": [
            "<class 'pandas.core.frame.DataFrame'>\n",
            "Int64Index: 10000 entries, 0 to 9999\n",
            "Data columns (total 5 columns):\n",
            " #   Column      Non-Null Count  Dtype \n",
            "---  ------      --------------  ----- \n",
            " 0   id          10000 non-null  int64 \n",
            " 1   document    10000 non-null  object\n",
            " 2   label       10000 non-null  int64 \n",
            " 3   clean_doc2  10000 non-null  object\n",
            " 4   clean_doc   10000 non-null  object\n",
            "dtypes: int64(2), object(3)\n",
            "memory usage: 468.8+ KB\n"
          ],
          "name": "stdout"
        }
      ]
    },
    {
      "cell_type": "code",
      "metadata": {
        "id": "457zMXzUsGuo",
        "outputId": "e6cad873-ee37-4f93-9963-a7324c899b06",
        "colab": {
          "base_uri": "https://localhost:8080/",
          "height": 204
        }
      },
      "source": [
        "doc.head(5)"
      ],
      "execution_count": null,
      "outputs": [
        {
          "output_type": "execute_result",
          "data": {
            "text/html": [
              "<div>\n",
              "<style scoped>\n",
              "    .dataframe tbody tr th:only-of-type {\n",
              "        vertical-align: middle;\n",
              "    }\n",
              "\n",
              "    .dataframe tbody tr th {\n",
              "        vertical-align: top;\n",
              "    }\n",
              "\n",
              "    .dataframe thead th {\n",
              "        text-align: right;\n",
              "    }\n",
              "</style>\n",
              "<table border=\"1\" class=\"dataframe\">\n",
              "  <thead>\n",
              "    <tr style=\"text-align: right;\">\n",
              "      <th></th>\n",
              "      <th>id</th>\n",
              "      <th>document</th>\n",
              "      <th>label</th>\n",
              "    </tr>\n",
              "  </thead>\n",
              "  <tbody>\n",
              "    <tr>\n",
              "      <th>0</th>\n",
              "      <td>8112052</td>\n",
              "      <td>어릴때보고 지금다시봐도 재밌어요ㅋㅋ</td>\n",
              "      <td>1</td>\n",
              "    </tr>\n",
              "    <tr>\n",
              "      <th>1</th>\n",
              "      <td>8132799</td>\n",
              "      <td>디자인을 배우는 학생으로, 외국디자이너와 그들이 일군 전통을 통해 발전해가는 문화산...</td>\n",
              "      <td>1</td>\n",
              "    </tr>\n",
              "    <tr>\n",
              "      <th>2</th>\n",
              "      <td>4655635</td>\n",
              "      <td>폴리스스토리 시리즈는 1부터 뉴까지 버릴께 하나도 없음.. 최고.</td>\n",
              "      <td>1</td>\n",
              "    </tr>\n",
              "    <tr>\n",
              "      <th>3</th>\n",
              "      <td>9251303</td>\n",
              "      <td>와.. 연기가 진짜 개쩔구나.. 지루할거라고 생각했는데 몰입해서 봤다.. 그래 이런...</td>\n",
              "      <td>1</td>\n",
              "    </tr>\n",
              "    <tr>\n",
              "      <th>4</th>\n",
              "      <td>10067386</td>\n",
              "      <td>안개 자욱한 밤하늘에 떠 있는 초승달 같은 영화.</td>\n",
              "      <td>1</td>\n",
              "    </tr>\n",
              "  </tbody>\n",
              "</table>\n",
              "</div>"
            ],
            "text/plain": [
              "         id                                           document  label\n",
              "0   8112052                                어릴때보고 지금다시봐도 재밌어요ㅋㅋ      1\n",
              "1   8132799  디자인을 배우는 학생으로, 외국디자이너와 그들이 일군 전통을 통해 발전해가는 문화산...      1\n",
              "2   4655635               폴리스스토리 시리즈는 1부터 뉴까지 버릴께 하나도 없음.. 최고.      1\n",
              "3   9251303  와.. 연기가 진짜 개쩔구나.. 지루할거라고 생각했는데 몰입해서 봤다.. 그래 이런...      1\n",
              "4  10067386                        안개 자욱한 밤하늘에 떠 있는 초승달 같은 영화.      1"
            ]
          },
          "metadata": {
            "tags": []
          },
          "execution_count": 10
        }
      ]
    },
    {
      "cell_type": "code",
      "metadata": {
        "id": "4ewakjJxsGuq"
      },
      "source": [
        "doc = doc[doc['document'].notnull()]  # Null값이 있는 필드는 제외\n",
        "doc = doc[:50000] # 빠른 실습을 위해서 50000개의 Row만 추출"
      ],
      "execution_count": null,
      "outputs": []
    },
    {
      "cell_type": "code",
      "metadata": {
        "id": "mZ8d4d65sGus",
        "outputId": "1d8d8f6f-37c3-49dc-f4da-ed61b215588a",
        "colab": {
          "base_uri": "https://localhost:8080/",
          "height": 89
        }
      },
      "source": [
        "doc.isnull().sum() #null 포함여부 체크"
      ],
      "execution_count": null,
      "outputs": [
        {
          "output_type": "execute_result",
          "data": {
            "text/plain": [
              "id          0\n",
              "document    0\n",
              "label       0\n",
              "dtype: int64"
            ]
          },
          "metadata": {
            "tags": []
          },
          "execution_count": 9
        }
      ]
    },
    {
      "cell_type": "markdown",
      "metadata": {
        "id": "TAKcr6mdsGut"
      },
      "source": [
        "2) 텍스트데이터 전처리\n",
        "- 형태소를 사용해서 명사만 추출한다.\n",
        "- 정확도 개선을 위해서는 불용어, 원형복원, 동철이의어 처리가 필요함"
      ]
    },
    {
      "cell_type": "code",
      "metadata": {
        "id": "u4Hup1yIsGuu"
      },
      "source": [
        "# 한글 불용어 처리를 위한 함수\n",
        "import re\n",
        "def clean_sentense(txt):\n",
        "    pattern = '(\\d\\d\\d-\\d\\d\\d\\d-\\d\\d\\d\\d)' # 전화번호 제거 (000-0000-0000),\\d: 숫자 1개\n",
        "    txt = re.sub(pattern=pattern, repl='', string=txt)          \n",
        "    pattern = '([a-zA-Z0-9_.+-]+@[a-zA-Z0-9-]+\\.[a-zA-Z0-9-.]+)' # E-mail제거, a-z 사이의 문자, \n",
        "    txt = re.sub(pattern=pattern, repl='', string=txt)\n",
        "    pattern = '(http|ftp|https)://(?:[-\\w.]|(?:%[\\da-fA-F]{2}))+' # URL제거\n",
        "    txt = re.sub(pattern=pattern, repl='', string=txt)\n",
        "    pattern = '([ㄱ-ㅎㅏ-ㅣ]+)'  # 한글 자음, 모음 제거\n",
        "    txt = re.sub(pattern=pattern, repl='', string=txt)\n",
        "    pattern = '<[^>]*>'         # HTML 태그 제거\n",
        "    txt = re.sub(pattern=pattern, repl='', string=txt)\n",
        "    pattern = '[^\\w\\s]'         # 특수기호제거\n",
        "    txt = re.sub(pattern=pattern, repl='', string=txt)\n",
        "    \n",
        "    return txt   "
      ],
      "execution_count": null,
      "outputs": []
    },
    {
      "cell_type": "code",
      "metadata": {
        "id": "EHimF-px1Iqj",
        "outputId": "137f15f2-53bd-4123-c930-24c42ca6b64f",
        "colab": {
          "base_uri": "https://localhost:8080/",
          "height": 611
        }
      },
      "source": [
        "!pip3 install konlpy"
      ],
      "execution_count": null,
      "outputs": [
        {
          "output_type": "stream",
          "text": [
            "Collecting konlpy\n",
            "\u001b[?25l  Downloading https://files.pythonhosted.org/packages/85/0e/f385566fec837c0b83f216b2da65db9997b35dd675e107752005b7d392b1/konlpy-0.5.2-py2.py3-none-any.whl (19.4MB)\n",
            "\u001b[K     |████████████████████████████████| 19.4MB 72.8MB/s \n",
            "\u001b[?25hRequirement already satisfied: lxml>=4.1.0 in /usr/local/lib/python3.6/dist-packages (from konlpy) (4.2.6)\n",
            "Collecting beautifulsoup4==4.6.0\n",
            "\u001b[?25l  Downloading https://files.pythonhosted.org/packages/9e/d4/10f46e5cfac773e22707237bfcd51bbffeaf0a576b0a847ec7ab15bd7ace/beautifulsoup4-4.6.0-py3-none-any.whl (86kB)\n",
            "\u001b[K     |████████████████████████████████| 92kB 11.0MB/s \n",
            "\u001b[?25hRequirement already satisfied: numpy>=1.6 in /usr/local/lib/python3.6/dist-packages (from konlpy) (1.18.5)\n",
            "Collecting tweepy>=3.7.0\n",
            "  Downloading https://files.pythonhosted.org/packages/bb/7c/99d51f80f3b77b107ebae2634108717362c059a41384a1810d13e2429a81/tweepy-3.9.0-py2.py3-none-any.whl\n",
            "Collecting colorama\n",
            "  Downloading https://files.pythonhosted.org/packages/c9/dc/45cdef1b4d119eb96316b3117e6d5708a08029992b2fee2c143c7a0a5cc5/colorama-0.4.3-py2.py3-none-any.whl\n",
            "Collecting JPype1>=0.7.0\n",
            "\u001b[?25l  Downloading https://files.pythonhosted.org/packages/8b/f7/a368401e630f0e390dd0e62c39fb928e5b23741b53c2360ee7d376660927/JPype1-1.0.2-cp36-cp36m-manylinux2010_x86_64.whl (3.8MB)\n",
            "\u001b[K     |████████████████████████████████| 3.8MB 59.2MB/s \n",
            "\u001b[?25hRequirement already satisfied: requests[socks]>=2.11.1 in /usr/local/lib/python3.6/dist-packages (from tweepy>=3.7.0->konlpy) (2.23.0)\n",
            "Requirement already satisfied: six>=1.10.0 in /usr/local/lib/python3.6/dist-packages (from tweepy>=3.7.0->konlpy) (1.15.0)\n",
            "Requirement already satisfied: requests-oauthlib>=0.7.0 in /usr/local/lib/python3.6/dist-packages (from tweepy>=3.7.0->konlpy) (1.3.0)\n",
            "Requirement already satisfied: typing-extensions; python_version < \"3.8\" in /usr/local/lib/python3.6/dist-packages (from JPype1>=0.7.0->konlpy) (3.7.4.3)\n",
            "Requirement already satisfied: idna<3,>=2.5 in /usr/local/lib/python3.6/dist-packages (from requests[socks]>=2.11.1->tweepy>=3.7.0->konlpy) (2.10)\n",
            "Requirement already satisfied: urllib3!=1.25.0,!=1.25.1,<1.26,>=1.21.1 in /usr/local/lib/python3.6/dist-packages (from requests[socks]>=2.11.1->tweepy>=3.7.0->konlpy) (1.24.3)\n",
            "Requirement already satisfied: certifi>=2017.4.17 in /usr/local/lib/python3.6/dist-packages (from requests[socks]>=2.11.1->tweepy>=3.7.0->konlpy) (2020.6.20)\n",
            "Requirement already satisfied: chardet<4,>=3.0.2 in /usr/local/lib/python3.6/dist-packages (from requests[socks]>=2.11.1->tweepy>=3.7.0->konlpy) (3.0.4)\n",
            "Requirement already satisfied: PySocks!=1.5.7,>=1.5.6; extra == \"socks\" in /usr/local/lib/python3.6/dist-packages (from requests[socks]>=2.11.1->tweepy>=3.7.0->konlpy) (1.7.1)\n",
            "Requirement already satisfied: oauthlib>=3.0.0 in /usr/local/lib/python3.6/dist-packages (from requests-oauthlib>=0.7.0->tweepy>=3.7.0->konlpy) (3.1.0)\n",
            "Installing collected packages: beautifulsoup4, tweepy, colorama, JPype1, konlpy\n",
            "  Found existing installation: beautifulsoup4 4.6.3\n",
            "    Uninstalling beautifulsoup4-4.6.3:\n",
            "      Successfully uninstalled beautifulsoup4-4.6.3\n",
            "  Found existing installation: tweepy 3.6.0\n",
            "    Uninstalling tweepy-3.6.0:\n",
            "      Successfully uninstalled tweepy-3.6.0\n",
            "Successfully installed JPype1-1.0.2 beautifulsoup4-4.6.0 colorama-0.4.3 konlpy-0.5.2 tweepy-3.9.0\n"
          ],
          "name": "stdout"
        }
      ]
    },
    {
      "cell_type": "code",
      "metadata": {
        "id": "VRraAvRmgmMc"
      },
      "source": [
        "from konlpy.tag import Okt\n",
        "okt = Okt()\n",
        "\n",
        "# 문장 추출하는 함수 (한 글자는 제외)\n",
        "def extWord(x):\n",
        "    texts = okt.morphs(x, norm=True, stem=True)\n",
        "    #texts = okt.nouns(x)\n",
        "    texts_out = []\n",
        "    for sent in texts:        \n",
        "        if len(sent) > 1:\n",
        "            texts_out.append(sent)\n",
        "    return texts_out"
      ],
      "execution_count": null,
      "outputs": []
    },
    {
      "cell_type": "code",
      "metadata": {
        "scrolled": true,
        "id": "eL02IEHusGux"
      },
      "source": [
        "doc['clean_doc2'] = doc['document'].apply(lambda x: clean_sentense(x))   \n",
        "doc['clean_doc'] = doc['clean_doc2'].apply(lambda x: extWord(x))   "
      ],
      "execution_count": null,
      "outputs": []
    },
    {
      "cell_type": "code",
      "metadata": {
        "id": "zDzbwZj3sGuz",
        "outputId": "2680535b-f69b-40b5-8034-18d0b720de75",
        "colab": {
          "base_uri": "https://localhost:8080/",
          "height": 669
        }
      },
      "source": [
        "doc.head(20)\n"
      ],
      "execution_count": null,
      "outputs": [
        {
          "output_type": "execute_result",
          "data": {
            "text/html": [
              "<div>\n",
              "<style scoped>\n",
              "    .dataframe tbody tr th:only-of-type {\n",
              "        vertical-align: middle;\n",
              "    }\n",
              "\n",
              "    .dataframe tbody tr th {\n",
              "        vertical-align: top;\n",
              "    }\n",
              "\n",
              "    .dataframe thead th {\n",
              "        text-align: right;\n",
              "    }\n",
              "</style>\n",
              "<table border=\"1\" class=\"dataframe\">\n",
              "  <thead>\n",
              "    <tr style=\"text-align: right;\">\n",
              "      <th></th>\n",
              "      <th>id</th>\n",
              "      <th>document</th>\n",
              "      <th>label</th>\n",
              "      <th>clean_doc2</th>\n",
              "      <th>clean_doc</th>\n",
              "    </tr>\n",
              "  </thead>\n",
              "  <tbody>\n",
              "    <tr>\n",
              "      <th>0</th>\n",
              "      <td>8112052</td>\n",
              "      <td>어릴때보고 지금다시봐도 재밌어요ㅋㅋ</td>\n",
              "      <td>1</td>\n",
              "      <td>어릴때보고 지금다시봐도 재밌어요</td>\n",
              "      <td>[어리다, 보고, 지금, 다시, 보다, 재밌다]</td>\n",
              "    </tr>\n",
              "    <tr>\n",
              "      <th>1</th>\n",
              "      <td>8132799</td>\n",
              "      <td>디자인을 배우는 학생으로, 외국디자이너와 그들이 일군 전통을 통해 발전해가는 문화산...</td>\n",
              "      <td>1</td>\n",
              "      <td>디자인을 배우는 학생으로 외국디자이너와 그들이 일군 전통을 통해 발전해가는 문화산업...</td>\n",
              "      <td>[디자인, 배우다, 학생, 으로, 외국, 디자이너, 일군, 전통, 통해, 발전, 하...</td>\n",
              "    </tr>\n",
              "    <tr>\n",
              "      <th>2</th>\n",
              "      <td>4655635</td>\n",
              "      <td>폴리스스토리 시리즈는 1부터 뉴까지 버릴께 하나도 없음.. 최고.</td>\n",
              "      <td>1</td>\n",
              "      <td>폴리스스토리 시리즈는 1부터 뉴까지 버릴께 하나도 없음 최고</td>\n",
              "      <td>[폴리스스토리, 시리즈, 부터, 까지, 버리다, 하나, 없다, 최고]</td>\n",
              "    </tr>\n",
              "    <tr>\n",
              "      <th>3</th>\n",
              "      <td>9251303</td>\n",
              "      <td>와.. 연기가 진짜 개쩔구나.. 지루할거라고 생각했는데 몰입해서 봤다.. 그래 이런...</td>\n",
              "      <td>1</td>\n",
              "      <td>와 연기가 진짜 개쩔구나 지루할거라고 생각했는데 몰입해서 봤다 그래 이런게 진짜 영화지</td>\n",
              "      <td>[오다, 연기, 진짜, 쩔다, 지루하다, 생각, 하다, 몰입, 하다, 보다, 그렇다...</td>\n",
              "    </tr>\n",
              "    <tr>\n",
              "      <th>4</th>\n",
              "      <td>10067386</td>\n",
              "      <td>안개 자욱한 밤하늘에 떠 있는 초승달 같은 영화.</td>\n",
              "      <td>1</td>\n",
              "      <td>안개 자욱한 밤하늘에 떠 있는 초승달 같은 영화</td>\n",
              "      <td>[안개, 자욱하다, 밤하늘, 뜨다, 있다, 초승달, 같다, 영화]</td>\n",
              "    </tr>\n",
              "    <tr>\n",
              "      <th>5</th>\n",
              "      <td>2190435</td>\n",
              "      <td>사랑을 해본사람이라면 처음부터 끝까지 웃을수 있는영화</td>\n",
              "      <td>1</td>\n",
              "      <td>사랑을 해본사람이라면 처음부터 끝까지 웃을수 있는영화</td>\n",
              "      <td>[사랑, 해보다, 사람, 라면, 처음, 부터, 까지, 웃다, 있다, 영화]</td>\n",
              "    </tr>\n",
              "    <tr>\n",
              "      <th>6</th>\n",
              "      <td>9279041</td>\n",
              "      <td>완전 감동입니다 다시봐도 감동</td>\n",
              "      <td>1</td>\n",
              "      <td>완전 감동입니다 다시봐도 감동</td>\n",
              "      <td>[완전, 감동, 이다, 다시, 보다, 감동]</td>\n",
              "    </tr>\n",
              "    <tr>\n",
              "      <th>7</th>\n",
              "      <td>7865729</td>\n",
              "      <td>개들의 전쟁2 나오나요? 나오면 1빠로 보고 싶음</td>\n",
              "      <td>1</td>\n",
              "      <td>개들의 전쟁2 나오나요 나오면 1빠로 보고 싶음</td>\n",
              "      <td>[전쟁, 나오다, 나오다, 보고, 싶다]</td>\n",
              "    </tr>\n",
              "    <tr>\n",
              "      <th>8</th>\n",
              "      <td>7477618</td>\n",
              "      <td>굿</td>\n",
              "      <td>1</td>\n",
              "      <td>굿</td>\n",
              "      <td>[]</td>\n",
              "    </tr>\n",
              "    <tr>\n",
              "      <th>9</th>\n",
              "      <td>9250537</td>\n",
              "      <td>바보가 아니라 병 쉰 인듯</td>\n",
              "      <td>1</td>\n",
              "      <td>바보가 아니라 병 쉰 인듯</td>\n",
              "      <td>[바보, 아니다, 이다]</td>\n",
              "    </tr>\n",
              "    <tr>\n",
              "      <th>10</th>\n",
              "      <td>9730759</td>\n",
              "      <td>내 나이와 같은 영화를 지금 본 나는 감동적이다..하지만 훗날 다시보면대사하나하나 ...</td>\n",
              "      <td>1</td>\n",
              "      <td>내 나이와 같은 영화를 지금 본 나는 감동적이다하지만 훗날 다시보면대사하나하나 그 ...</td>\n",
              "      <td>[나이, 같다, 영화, 지금, 보다, 감동, 이다, 하지만, 훗날, 다시, 보다, ...</td>\n",
              "    </tr>\n",
              "    <tr>\n",
              "      <th>11</th>\n",
              "      <td>640794</td>\n",
              "      <td>재밌다</td>\n",
              "      <td>1</td>\n",
              "      <td>재밌다</td>\n",
              "      <td>[재밌다]</td>\n",
              "    </tr>\n",
              "    <tr>\n",
              "      <th>12</th>\n",
              "      <td>9537008</td>\n",
              "      <td>고질라니무 귀엽다능ㅋㅋ</td>\n",
              "      <td>1</td>\n",
              "      <td>고질라니무 귀엽다능</td>\n",
              "      <td>[고질, 라니, 귀엽다]</td>\n",
              "    </tr>\n",
              "    <tr>\n",
              "      <th>13</th>\n",
              "      <td>4911311</td>\n",
              "      <td>영화의 오페라화라고 해야할 작품. 극단적 평갈림은 어쩔 수 없는 듯.</td>\n",
              "      <td>1</td>\n",
              "      <td>영화의 오페라화라고 해야할 작품 극단적 평갈림은 어쩔 수 없는 듯</td>\n",
              "      <td>[영화, 오페라, 라고, 하다, 하다, 작품, 극단, 갈림, 어쩔, 없다]</td>\n",
              "    </tr>\n",
              "    <tr>\n",
              "      <th>14</th>\n",
              "      <td>6686673</td>\n",
              "      <td>3도 반전 좋았제 ^^</td>\n",
              "      <td>1</td>\n",
              "      <td>3도 반전 좋았제</td>\n",
              "      <td>[반전, 좋다]</td>\n",
              "    </tr>\n",
              "    <tr>\n",
              "      <th>15</th>\n",
              "      <td>9034036</td>\n",
              "      <td>평점 왜 낮아? 긴장감 스릴감 진짜 최고인데 진짜 전장에서 느끼는 공포를 생생하게 ...</td>\n",
              "      <td>1</td>\n",
              "      <td>평점 왜 낮아 긴장감 스릴감 진짜 최고인데 진짜 전장에서 느끼는 공포를 생생하게 전해준다</td>\n",
              "      <td>[평점, 낮다, 긴장감, 스릴, 진짜, 최고, 인데, 진짜, 전장, 에서, 느끼다,...</td>\n",
              "    </tr>\n",
              "    <tr>\n",
              "      <th>16</th>\n",
              "      <td>979683</td>\n",
              "      <td>네고시에이터랑 소재만 같을 뿐.. 아무런 관련없음..</td>\n",
              "      <td>1</td>\n",
              "      <td>네고시에이터랑 소재만 같을 뿐 아무런 관련없음</td>\n",
              "      <td>[고시, 소재, 같다, 아무렇다, 관련, 없다]</td>\n",
              "    </tr>\n",
              "    <tr>\n",
              "      <th>17</th>\n",
              "      <td>165498</td>\n",
              "      <td>단연 최고</td>\n",
              "      <td>1</td>\n",
              "      <td>단연 최고</td>\n",
              "      <td>[단연, 최고]</td>\n",
              "    </tr>\n",
              "    <tr>\n",
              "      <th>18</th>\n",
              "      <td>8703997</td>\n",
              "      <td>가면 갈수록 더욱 빠져드네요 밀회 화이팅!!</td>\n",
              "      <td>1</td>\n",
              "      <td>가면 갈수록 더욱 빠져드네요 밀회 화이팅</td>\n",
              "      <td>[가면, 갈수록, 더욱, 빠지다, 밀회, 화이팅]</td>\n",
              "    </tr>\n",
              "    <tr>\n",
              "      <th>19</th>\n",
              "      <td>9468781</td>\n",
              "      <td>어?생각없이 봤는데 상당한 수작.일본영화 10년내 최고로 마음에 들었다.강렬한 임팩...</td>\n",
              "      <td>1</td>\n",
              "      <td>어생각없이 봤는데 상당한 수작일본영화 10년내 최고로 마음에 들었다강렬한 임팩트가 일품</td>\n",
              "      <td>[생각, 없이, 보다, 상당하다, 영화, 10년, 최고, 마음, 들다, 강렬하다, ...</td>\n",
              "    </tr>\n",
              "  </tbody>\n",
              "</table>\n",
              "</div>"
            ],
            "text/plain": [
              "          id  ...                                          clean_doc\n",
              "0    8112052  ...                         [어리다, 보고, 지금, 다시, 보다, 재밌다]\n",
              "1    8132799  ...  [디자인, 배우다, 학생, 으로, 외국, 디자이너, 일군, 전통, 통해, 발전, 하...\n",
              "2    4655635  ...             [폴리스스토리, 시리즈, 부터, 까지, 버리다, 하나, 없다, 최고]\n",
              "3    9251303  ...  [오다, 연기, 진짜, 쩔다, 지루하다, 생각, 하다, 몰입, 하다, 보다, 그렇다...\n",
              "4   10067386  ...               [안개, 자욱하다, 밤하늘, 뜨다, 있다, 초승달, 같다, 영화]\n",
              "5    2190435  ...          [사랑, 해보다, 사람, 라면, 처음, 부터, 까지, 웃다, 있다, 영화]\n",
              "6    9279041  ...                           [완전, 감동, 이다, 다시, 보다, 감동]\n",
              "7    7865729  ...                             [전쟁, 나오다, 나오다, 보고, 싶다]\n",
              "8    7477618  ...                                                 []\n",
              "9    9250537  ...                                      [바보, 아니다, 이다]\n",
              "10   9730759  ...  [나이, 같다, 영화, 지금, 보다, 감동, 이다, 하지만, 훗날, 다시, 보다, ...\n",
              "11    640794  ...                                              [재밌다]\n",
              "12   9537008  ...                                      [고질, 라니, 귀엽다]\n",
              "13   4911311  ...          [영화, 오페라, 라고, 하다, 하다, 작품, 극단, 갈림, 어쩔, 없다]\n",
              "14   6686673  ...                                           [반전, 좋다]\n",
              "15   9034036  ...  [평점, 낮다, 긴장감, 스릴, 진짜, 최고, 인데, 진짜, 전장, 에서, 느끼다,...\n",
              "16    979683  ...                         [고시, 소재, 같다, 아무렇다, 관련, 없다]\n",
              "17    165498  ...                                           [단연, 최고]\n",
              "18   8703997  ...                        [가면, 갈수록, 더욱, 빠지다, 밀회, 화이팅]\n",
              "19   9468781  ...  [생각, 없이, 보다, 상당하다, 영화, 10년, 최고, 마음, 들다, 강렬하다, ...\n",
              "\n",
              "[20 rows x 5 columns]"
            ]
          },
          "metadata": {
            "tags": []
          },
          "execution_count": 15
        }
      ]
    },
    {
      "cell_type": "markdown",
      "metadata": {
        "id": "dHMHzY29sGu1"
      },
      "source": [
        "3) gensim을 사용한 인코딩 처리\n",
        "- 토큰화된 문서를 기반으로 각 단어를 정수로 인코딩\n",
        "- 각 문서내의 단어의 빈도수를 구함\n",
        "- 예시) dictionary[1]은 정수인코딩 1번으로 처리된 단어를 의미, corpus[1] 1번 문서의 단어 빈도임"
      ]
    },
    {
      "cell_type": "code",
      "metadata": {
        "scrolled": false,
        "id": "XpbfG3aAsGu1",
        "outputId": "ac274b2b-ae4d-45f2-f2ee-6f84614616f5",
        "colab": {
          "base_uri": "https://localhost:8080/",
          "height": 55
        }
      },
      "source": [
        "from gensim import corpora\n",
        "dictionary = corpora.Dictionary(doc['clean_doc'])\n",
        "corpus = [dictionary.doc2bow(text) for text in doc['clean_doc']]\n",
        "print(dictionary[1], corpus[1])"
      ],
      "execution_count": null,
      "outputs": [
        {
          "output_type": "stream",
          "text": [
            "보고 [(6, 1), (7, 2), (8, 1), (9, 1), (10, 1), (11, 1), (12, 1), (13, 1), (14, 1), (15, 1), (16, 1), (17, 1), (18, 1), (19, 1), (20, 1), (21, 1), (22, 1), (23, 1), (24, 1), (25, 1), (26, 1), (27, 1), (28, 1), (29, 1), (30, 2), (31, 2), (32, 1), (33, 1), (34, 1), (35, 1)]\n"
          ],
          "name": "stdout"
        }
      ]
    },
    {
      "cell_type": "code",
      "metadata": {
        "id": "oynQ87cYsGu3",
        "outputId": "782931f6-98fe-43fc-ab14-465010b34581",
        "colab": {
          "base_uri": "https://localhost:8080/",
          "height": 1000
        }
      },
      "source": [
        "#  문서와 코퍼스의 빈도를 기준 출력\n",
        "[[(dictionary[id], freq) for id, freq in cp] for cp in corpus[:100]]"
      ],
      "execution_count": null,
      "outputs": [
        {
          "output_type": "execute_result",
          "data": {
            "text/plain": [
              "[[('다시', 1), ('보고', 1), ('보다', 1), ('어리다', 1), ('재밌다', 1), ('지금', 1)],\n",
              " [('감사하다', 1),\n",
              "  ('같다', 2),\n",
              "  ('까지', 1),\n",
              "  ('꾸다', 1),\n",
              "  ('나가다', 1),\n",
              "  ('노라노', 1),\n",
              "  ('디자이너', 1),\n",
              "  ('디자인', 1),\n",
              "  ('문화', 1),\n",
              "  ('발전', 1),\n",
              "  ('배우다', 1),\n",
              "  ('부럽다', 1),\n",
              "  ('사람', 1),\n",
              "  ('사실', 1),\n",
              "  ('산업', 1),\n",
              "  ('시절', 1),\n",
              "  ('어렵다', 1),\n",
              "  ('에서도', 1),\n",
              "  ('열정', 1),\n",
              "  ('외국', 1),\n",
              "  ('우리나라', 1),\n",
              "  ('으로', 1),\n",
              "  ('이루다', 1),\n",
              "  ('일군', 1),\n",
              "  ('있다', 2),\n",
              "  ('전통', 2),\n",
              "  ('지키다', 1),\n",
              "  ('통해', 1),\n",
              "  ('하다', 1),\n",
              "  ('학생', 1)],\n",
              " [('까지', 1),\n",
              "  ('버리다', 1),\n",
              "  ('부터', 1),\n",
              "  ('시리즈', 1),\n",
              "  ('없다', 1),\n",
              "  ('최고', 1),\n",
              "  ('폴리스스토리', 1),\n",
              "  ('하나', 1)],\n",
              " [('보다', 1),\n",
              "  ('하다', 2),\n",
              "  ('그렇다', 1),\n",
              "  ('몰입', 1),\n",
              "  ('생각', 1),\n",
              "  ('연기', 1),\n",
              "  ('영화', 1),\n",
              "  ('오다', 1),\n",
              "  ('이렇다', 1),\n",
              "  ('지루하다', 1),\n",
              "  ('진짜', 2),\n",
              "  ('쩔다', 1)],\n",
              " [('같다', 1),\n",
              "  ('있다', 1),\n",
              "  ('영화', 1),\n",
              "  ('뜨다', 1),\n",
              "  ('밤하늘', 1),\n",
              "  ('안개', 1),\n",
              "  ('자욱하다', 1),\n",
              "  ('초승달', 1)],\n",
              " [('까지', 1),\n",
              "  ('사람', 1),\n",
              "  ('있다', 1),\n",
              "  ('부터', 1),\n",
              "  ('영화', 1),\n",
              "  ('라면', 1),\n",
              "  ('사랑', 1),\n",
              "  ('웃다', 1),\n",
              "  ('처음', 1),\n",
              "  ('해보다', 1)],\n",
              " [('다시', 1), ('보다', 1), ('감동', 2), ('완전', 1), ('이다', 1)],\n",
              " [('보고', 1), ('나오다', 2), ('싶다', 1), ('전쟁', 1)],\n",
              " [],\n",
              " [('이다', 1), ('바보', 1), ('아니다', 1)],\n",
              " [('다시', 1),\n",
              "  ('보다', 2),\n",
              "  ('지금', 1),\n",
              "  ('같다', 2),\n",
              "  ('하다', 1),\n",
              "  ('영화', 1),\n",
              "  ('감동', 1),\n",
              "  ('이다', 1),\n",
              "  ('감정', 1),\n",
              "  ('나이', 1),\n",
              "  ('사하나', 1),\n",
              "  ('완벽하다', 1),\n",
              "  ('이해', 1),\n",
              "  ('하지만', 1),\n",
              "  ('훗날', 1)],\n",
              " [('재밌다', 1)],\n",
              " [('고질', 1), ('귀엽다', 1), ('라니', 1)],\n",
              " [('하다', 2),\n",
              "  ('없다', 1),\n",
              "  ('영화', 1),\n",
              "  ('갈림', 1),\n",
              "  ('극단', 1),\n",
              "  ('라고', 1),\n",
              "  ('어쩔', 1),\n",
              "  ('오페라', 1),\n",
              "  ('작품', 1)],\n",
              " [('반전', 1), ('좋다', 1)],\n",
              " [('최고', 1),\n",
              "  ('진짜', 2),\n",
              "  ('공포', 1),\n",
              "  ('긴장감', 1),\n",
              "  ('낮다', 1),\n",
              "  ('느끼다', 1),\n",
              "  ('생생하다', 1),\n",
              "  ('스릴', 1),\n",
              "  ('에서', 1),\n",
              "  ('인데', 1),\n",
              "  ('전장', 1),\n",
              "  ('평점', 1),\n",
              "  ('해주다', 1)],\n",
              " [('같다', 1), ('없다', 1), ('고시', 1), ('관련', 1), ('소재', 1), ('아무렇다', 1)],\n",
              " [('최고', 1), ('단연', 1)],\n",
              " [('가면', 1), ('갈수록', 1), ('더욱', 1), ('밀회', 1), ('빠지다', 1), ('화이팅', 1)],\n",
              " [('보다', 1),\n",
              "  ('최고', 1),\n",
              "  ('생각', 1),\n",
              "  ('영화', 1),\n",
              "  ('10년', 1),\n",
              "  ('강렬하다', 1),\n",
              "  ('들다', 1),\n",
              "  ('마음', 1),\n",
              "  ('상당하다', 1),\n",
              "  ('없이', 1),\n",
              "  ('일품', 1),\n",
              "  ('임팩트', 1)],\n",
              " [('보다', 1), ('되다', 1), ('범죄', 1), ('스릴러', 1), ('오랜', 1), ('제대로', 1)],\n",
              " [('있다', 1),\n",
              "  ('하다', 2),\n",
              "  ('그렇다', 1),\n",
              "  ('사랑', 1),\n",
              "  ('아니다', 1),\n",
              "  ('마음', 1),\n",
              "  ('교복', 1),\n",
              "  ('그저', 1),\n",
              "  ('꺼내다', 1),\n",
              "  ('남다', 1),\n",
              "  ('마디', 1),\n",
              "  ('미처', 1),\n",
              "  ('벅차다', 1),\n",
              "  ('볼펜', 1),\n",
              "  ('설치다', 1),\n",
              "  ('역시', 1),\n",
              "  ('이의', 1),\n",
              "  ('자국', 1),\n",
              "  ('전하', 1),\n",
              "  ('좋아하다', 1),\n",
              "  ('징텅', 1),\n",
              "  ('크다', 1),\n",
              "  ('형태', 1)],\n",
              " [('없다', 1), ('마지막', 1), ('잊다', 1)],\n",
              " [('강압', 1), ('대한', 1), ('비판', 1), ('세뇌', 1), ('용서', 2)],\n",
              " [('평점', 1), ('명작', 1), ('이래', 1), ('중세시대', 1)],\n",
              " [('보다', 1),\n",
              "  ('까지', 1),\n",
              "  ('하다', 1),\n",
              "  ('최고', 1),\n",
              "  ('웃다', 1),\n",
              "  ('이다', 1),\n",
              "  ('되다', 1),\n",
              "  ('마지막', 1),\n",
              "  ('명작', 1),\n",
              "  ('7시간', 1),\n",
              "  ('OST', 1),\n",
              "  ('가슴속', 1),\n",
              "  ('기억', 1),\n",
              "  ('눈부시다', 1),\n",
              "  ('드니', 1),\n",
              "  ('로버트', 1),\n",
              "  ('슬프다', 1),\n",
              "  ('아름답다', 1),\n",
              "  ('아역시절', 1),\n",
              "  ('영상', 1),\n",
              "  ('영원하다', 1),\n",
              "  ('장면', 1),\n",
              "  ('정말', 1),\n",
              "  ('제니퍼', 1),\n",
              "  ('존재', 1),\n",
              "  ('죽다', 1),\n",
              "  ('짜리', 1),\n",
              "  ('코넬', 1),\n",
              "  ('한번', 1)],\n",
              " [('보다', 1),\n",
              "  ('사람', 1),\n",
              "  ('있다', 1),\n",
              "  ('하다', 1),\n",
              "  ('수가', 1),\n",
              "  ('어떻다', 1),\n",
              "  ('저런', 1),\n",
              "  ('화나다', 1)],\n",
              " [('으로', 1),\n",
              "  ('하다', 1),\n",
              "  ('에서', 1),\n",
              "  ('되다', 1),\n",
              "  ('공간', 1),\n",
              "  ('그것', 1),\n",
              "  ('다큐', 1),\n",
              "  ('성은', 1),\n",
              "  ('시간', 1),\n",
              "  ('악마', 1),\n",
              "  ('엉뚱하다', 1),\n",
              "  ('여러', 1),\n",
              "  ('인간', 1),\n",
              "  ('잠재', 1),\n",
              "  ('재현', 1),\n",
              "  ('존속', 1),\n",
              "  ('해오다', 1)],\n",
              " [('보다', 1),\n",
              "  ('남다', 1),\n",
              "  ('동안', 1),\n",
              "  ('삼일', 1),\n",
              "  ('쉬다', 1),\n",
              "  ('여운', 1),\n",
              "  ('잠도', 1),\n",
              "  ('줄이다', 1),\n",
              "  ('최고다', 1),\n",
              "  ('틈틈이', 1)],\n",
              " [('에서도', 1),\n",
              "  ('영화', 1),\n",
              "  ('더욱', 1),\n",
              "  ('각심', 1),\n",
              "  ('깨우다', 1),\n",
              "  ('다시다', 1),\n",
              "  ('실화', 1),\n",
              "  ('안되다', 1),\n",
              "  ('어디', 1),\n",
              "  ('여서', 1),\n",
              "  ('일어나서', 1),\n",
              "  ('충격', 1)],\n",
              " [('보다', 1), ('있다', 1), ('라면', 1), ('작품', 1), ('한번', 1), ('그라샴', 1)],\n",
              " [('문화', 1), ('하다', 1), ('대한', 1), ('농아인', 1), ('알다', 1)],\n",
              " [('어리다', 1), ('재밌다', 1), ('연기', 1), ('되게', 1), ('이범수', 1), ('이정재', 1)],\n",
              " [('감동', 1), ('이다', 1), ('매우', 1), ('우정', 1), ('친구', 1)],\n",
              " [('하다', 1), ('굿굿굿', 1), ('또해', 1), ('제발', 1)],\n",
              " [('너무', 1), ('어울리다', 1), ('재미있다', 1)],\n",
              " [('하다', 1), ('연기', 1), ('대체', 1), ('제이크', 1), ('질렌할넌', 1)],\n",
              " [('보다', 1), ('영화', 1), ('미소', 1), ('샤방샤방했던', 1), ('입가', 1)],\n",
              " [('나오다', 1), ('재미있다', 1), ('많이', 1), ('원표', 1), ('이양', 1), ('조연', 1)],\n",
              " [('어리다', 1),\n",
              "  ('으로', 1),\n",
              "  ('영화', 1),\n",
              "  ('강추', 1),\n",
              "  ('느낌', 1),\n",
              "  ('들어가다', 1),\n",
              "  ('마치', 1),\n",
              "  ('바다', 1),\n",
              "  ('아쿠아리움', 1),\n",
              "  ('에게', 1),\n",
              "  ('자녀', 1)],\n",
              " [('노동자', 1), ('세우다', 1), ('이야기', 1), ('정의', 1), ('콜텍', 1), ('콜트', 1)],\n",
              " [('마음', 1), ('가다', 1), ('브라질', 1), ('사라지다', 1), ('화보', 1)],\n",
              " [('영화', 1),\n",
              "  ('마음', 1),\n",
              "  ('좋아하다', 1),\n",
              "  ('그리고', 1),\n",
              "  ('남자', 1),\n",
              "  ('내내', 1),\n",
              "  ('여배우', 1),\n",
              "  ('울리다', 1),\n",
              "  ('지만', 1)],\n",
              " [('되다', 1), ('기대', 1), ('도법', 1), ('멤버', 1), ('모두', 1)],\n",
              " [('보다', 1),\n",
              "  ('최고', 1),\n",
              "  ('영화', 1),\n",
              "  ('이다', 1),\n",
              "  ('정말', 1),\n",
              "  ('재미있다', 1),\n",
              "  ('액션', 1)],\n",
              " [('보다', 2),\n",
              "  ('재밌다', 2),\n",
              "  ('있다', 2),\n",
              "  ('하다', 1),\n",
              "  ('생각', 1),\n",
              "  ('영화', 1),\n",
              "  ('나오다', 1),\n",
              "  ('긴장감', 1),\n",
              "  ('에서', 1),\n",
              "  ('없이', 1),\n",
              "  ('좋아하다', 1),\n",
              "  ('이정재', 1),\n",
              "  ('너무', 1),\n",
              "  ('남자', 1),\n",
              "  ('겁나다', 1),\n",
              "  ('격투씬', 1),\n",
              "  ('그냥', 1),\n",
              "  ('런가', 2),\n",
              "  ('모르다', 1),\n",
              "  ('스마트', 1),\n",
              "  ('아무', 1),\n",
              "  ('암살', 1),\n",
              "  ('워낙', 1),\n",
              "  ('인지도', 1),\n",
              "  ('티비', 1),\n",
              "  ('하여튼', 1),\n",
              "  ('흥미진진', 1)],\n",
              " [('같다', 1),\n",
              "  ('하다', 2),\n",
              "  ('부터', 1),\n",
              "  ('오다', 1),\n",
              "  ('좋다', 2),\n",
              "  ('거려', 1),\n",
              "  ('걸다', 1),\n",
              "  ('그거', 1),\n",
              "  ('나불', 1),\n",
              "  ('납득', 1),\n",
              "  ('대한민국', 1),\n",
              "  ('목숨', 1),\n",
              "  ('박평', 1),\n",
              "  ('북한', 1),\n",
              "  ('시키다', 1),\n",
              "  ('인정', 2),\n",
              "  ('종북', 1),\n",
              "  ('틀다', 1),\n",
              "  ('파르', 1),\n",
              "  ('하고', 1)],\n",
              " [('하다', 1),\n",
              "  ('없다', 1),\n",
              "  ('되다', 1),\n",
              "  ('잊다', 1),\n",
              "  ('6월', 1),\n",
              "  ('그대', 2),\n",
              "  ('내다', 1),\n",
              "  ('보이다', 1),\n",
              "  ('시작', 1)],\n",
              " [('영화', 1),\n",
              "  ('이다', 1),\n",
              "  ('넘다', 1),\n",
              "  ('매력', 1),\n",
              "  ('반갑다', 1),\n",
              "  ('얼굴', 1),\n",
              "  ('유쾌하다', 1),\n",
              "  ('이구', 1),\n",
              "  ('주인공', 1)],\n",
              " [('좋다', 1), ('너무', 1), ('용이', 1)],\n",
              " [('하다', 2),\n",
              "  ('연기', 1),\n",
              "  ('정말', 1),\n",
              "  ('배우', 1),\n",
              "  ('아이돌', 1),\n",
              "  ('요즘', 1),\n",
              "  ('정도', 1),\n",
              "  ('해먹', 1)],\n",
              " [('재밌다', 1), ('정말', 1), ('받다', 1), ('봣는대', 1), ('어디서', 1), ('잇다', 1)],\n",
              " [('감동', 1), ('밀려오다', 1), ('음악', 1), ('탱고', 1)],\n",
              " [('보다', 1),\n",
              "  ('하다', 1),\n",
              "  ('명작', 1),\n",
              "  ('따뜻하다', 1),\n",
              "  ('뻔하다', 1),\n",
              "  ('평생', 1),\n",
              "  ('후회', 1)],\n",
              " [('있다', 2),\n",
              "  ('하다', 1),\n",
              "  ('생각', 1),\n",
              "  ('이렇다', 1),\n",
              "  ('이다', 1),\n",
              "  ('나오다', 1),\n",
              "  ('좋다', 1),\n",
              "  ('아름답다', 1),\n",
              "  ('영상', 1),\n",
              "  ('많이', 1),\n",
              "  ('매력', 2),\n",
              "  ('드라마', 2),\n",
              "  ('많다', 1),\n",
              "  ('미도', 1),\n",
              "  ('여러가지', 1),\n",
              "  ('캐릭터', 1)],\n",
              " [('최고', 1), ('이다', 2), ('마지막', 1), ('정말', 1), ('결말', 1), ('싫다', 1)],\n",
              " [('영화', 1), ('이다', 1), ('되다', 1), ('슬프다', 1), ('너무', 1), ('이제', 1)],\n",
              " [('있다', 1), ('좋다', 1), ('잔잔하다', 1), ('재미', 1)],\n",
              " [('보다', 1), ('영화', 1), ('순위', 1)],\n",
              " [('재밌다', 2)],\n",
              " [('영화', 1), ('상당하다', 1), ('훌륭하다', 1)],\n",
              " [('없다', 1),\n",
              "  ('역시', 1),\n",
              "  ('감탄', 1),\n",
              "  ('대박', 1),\n",
              "  ('미워하다', 1),\n",
              "  ('순간', 1),\n",
              "  ('신동엽', 1),\n",
              "  ('얄밉다', 1),\n",
              "  ('웃기다', 1),\n",
              "  ('이동욱', 1),\n",
              "  ('이영자', 1),\n",
              "  ('일텐데', 1),\n",
              "  ('캐치', 1)],\n",
              " [('영화', 1), ('인생', 1)],\n",
              " [('사실', 1),\n",
              "  ('없다', 1),\n",
              "  ('들다', 1),\n",
              "  ('너무하다', 1),\n",
              "  ('떨어지다', 1),\n",
              "  ('별로', 1),\n",
              "  ('비다', 1),\n",
              "  ('쓰레기', 1),\n",
              "  ('이지만', 1),\n",
              "  ('전작', 1),\n",
              "  ('한국영', 1),\n",
              "  ('헐다', 1)],\n",
              " [('지금', 1),\n",
              "  ('영화', 1),\n",
              "  ('해주다', 1),\n",
              "  ('눈물', 1),\n",
              "  ('다소', 1),\n",
              "  ('당시', 1),\n",
              "  ('사발', 1),\n",
              "  ('진부하다', 1),\n",
              "  ('흘리다', 1)],\n",
              " [('하다', 2),\n",
              "  ('우정', 1),\n",
              "  ('로서', 1),\n",
              "  ('로키', 1),\n",
              "  ('마저', 1),\n",
              "  ('명감', 1),\n",
              "  ('부정', 1),\n",
              "  ('신부', 1),\n",
              "  ('실천', 1),\n",
              "  ('자신', 1),\n",
              "  ('제리', 1),\n",
              "  ('처절하다', 1)],\n",
              " [('314', 1), ('메이커', 1), ('원주율', 1)],\n",
              " [('보다', 1),\n",
              "  ('영화', 1),\n",
              "  ('진짜', 1),\n",
              "  ('이다', 1),\n",
              "  ('좋다', 1),\n",
              "  ('해주다', 1),\n",
              "  ('가족', 1),\n",
              "  ('끼리', 1),\n",
              "  ('보기', 1),\n",
              "  ('추석', 1),\n",
              "  ('특선영화', 1)],\n",
              " [('같다', 1),\n",
              "  ('영화', 1),\n",
              "  ('너무', 2),\n",
              "  ('굳다', 1),\n",
              "  ('선택', 1),\n",
              "  ('애기', 1),\n",
              "  ('우리', 1),\n",
              "  ('자다', 1)],\n",
              " [('재미있다', 1)],\n",
              " [('보다', 1), ('같다', 1), ('생각', 1), ('괜찬', 1), ('인거', 1), ('조합', 1)],\n",
              " [('대의', 1), ('바로', 1), ('어머니', 1)],\n",
              " [('보다', 1),\n",
              "  ('재밌다', 1),\n",
              "  ('사람', 1),\n",
              "  ('되다', 1),\n",
              "  ('이지만', 1),\n",
              "  ('자다', 1),\n",
              "  ('나다', 1),\n",
              "  ('드래곤볼', 1),\n",
              "  ('만듬', 1),\n",
              "  ('보다는', 1),\n",
              "  ('에볼루션', 1),\n",
              "  ('원작', 1)],\n",
              " [('우리나라', 1), ('최고', 1), ('예능', 1)],\n",
              " [('보다', 1),\n",
              "  ('영화', 1),\n",
              "  ('되다', 1),\n",
              "  ('정말', 1),\n",
              "  ('티비', 1),\n",
              "  ('돌리다', 1),\n",
              "  ('방학', 1),\n",
              "  ('비비다', 1),\n",
              "  ('아침', 1),\n",
              "  ('우연히', 1),\n",
              "  ('졸리다', 1),\n",
              "  ('채널', 1)],\n",
              " [('다시', 1),\n",
              "  ('같다', 1),\n",
              "  ('없다', 1),\n",
              "  ('영화', 1),\n",
              "  ('마음', 1),\n",
              "  ('너무', 1),\n",
              "  ('아프다', 1)],\n",
              " [('엔트랩먼트', 1)],\n",
              " [('보다', 1),\n",
              "  ('사실', 1),\n",
              "  ('없다', 1),\n",
              "  ('정말', 1),\n",
              "  ('친구', 1),\n",
              "  ('재미있다', 1),\n",
              "  ('훌륭하다', 1),\n",
              "  ('권력', 1),\n",
              "  ('깨우치다', 1),\n",
              "  ('에는', 1),\n",
              "  ('역사', 1),\n",
              "  ('의리', 1)],\n",
              " [('보고', 1),\n",
              "  ('보다', 1),\n",
              "  ('재밌다', 1),\n",
              "  ('으로', 1),\n",
              "  ('있다', 1),\n",
              "  ('처음', 1),\n",
              "  ('완전', 1),\n",
              "  ('갈수록', 1),\n",
              "  ('너무', 1),\n",
              "  ('어울리다', 1),\n",
              "  ('하고', 1),\n",
              "  ('에는', 1),\n",
              "  ('내용', 1),\n",
              "  ('달달', 1),\n",
              "  ('배경음악', 1),\n",
              "  ('초롱', 1),\n",
              "  ('팬심', 1),\n",
              "  ('행복하다', 1)],\n",
              " [('보다', 3),\n",
              "  ('재밌다', 1),\n",
              "  ('하다', 2),\n",
              "  ('부터', 2),\n",
              "  ('없다', 1),\n",
              "  ('연기', 1),\n",
              "  ('어디', 1),\n",
              "  ('너무', 2),\n",
              "  ('흥미진진', 1),\n",
              "  ('배우', 1),\n",
              "  ('나빠지다', 1),\n",
              "  ('본방', 1),\n",
              "  ('사수', 1),\n",
              "  ('수백향', 1),\n",
              "  ('스토리', 1),\n",
              "  ('요새', 1),\n",
              "  ('중간', 1),\n",
              "  ('찾다', 1),\n",
              "  ('챙기다', 1),\n",
              "  ('탄탄하다', 1)],\n",
              " [('인생', 1), ('자다', 1), ('없어지다', 1), ('제목', 1), ('지다', 1), ('차다', 1)],\n",
              " [('없다', 1), ('좋다', 1), ('재미', 1), ('화질', 1)],\n",
              " [('감동', 1), ('가을', 1), ('가을로', 1), ('늘다', 1), ('이네', 1)],\n",
              " [('보다', 1),\n",
              "  ('오다', 1),\n",
              "  ('나오다', 2),\n",
              "  ('16년', 1),\n",
              "  ('ost', 1),\n",
              "  ('대단하다', 1),\n",
              "  ('때문', 1),\n",
              "  ('밖에', 1),\n",
              "  ('벌써', 1),\n",
              "  ('이런', 1),\n",
              "  ('전인데', 1),\n",
              "  ('퀄리티', 1)],\n",
              " [('하다', 1),\n",
              "  ('없다', 1),\n",
              "  ('인데', 1),\n",
              "  ('까지봣다', 1),\n",
              "  ('안타깝다', 1),\n",
              "  ('일단', 1),\n",
              "  ('자살', 1),\n",
              "  ('장국영', 1)],\n",
              " [('사실', 1), ('극적', 1), ('이어서', 1)],\n",
              " [('이다', 1), ('뀰잼', 2), ('이라', 1)],\n",
              " [('재미있다', 1)],\n",
              " [('보다', 1),\n",
              "  ('어리다', 1),\n",
              "  ('같다', 1),\n",
              "  ('사람', 1),\n",
              "  ('하다', 3),\n",
              "  ('그렇다', 1),\n",
              "  ('오다', 1),\n",
              "  ('싶다', 1),\n",
              "  ('감정', 1),\n",
              "  ('에서', 1),\n",
              "  ('해주다', 1),\n",
              "  ('되다', 1),\n",
              "  ('느낌', 1),\n",
              "  ('가다', 1),\n",
              "  ('걱정', 1),\n",
              "  ('경찰서', 1),\n",
              "  ('계속', 1),\n",
              "  ('냉장고', 1),\n",
              "  ('덕분', 1),\n",
              "  ('드리다', 1),\n",
              "  ('모든', 1),\n",
              "  ('목격', 1),\n",
              "  ('보호', 1),\n",
              "  ('부탁', 1),\n",
              "  ('비슷하다', 1),\n",
              "  ('상가', 1),\n",
              "  ('성추행', 1),\n",
              "  ('야하다', 1),\n",
              "  ('양심', 1),\n",
              "  ('연기자', 1),\n",
              "  ('예전', 1),\n",
              "  ('움찔', 1),\n",
              "  ('이나', 1),\n",
              "  ('저만', 1),\n",
              "  ('증언', 1),\n",
              "  ('청소년', 1),\n",
              "  ('폭력', 1),\n",
              "  ('한가지', 1)],\n",
              " [('남자', 1), ('넘다', 1), ('주인공', 1), ('멋있쪙', 1), ('섹시하다', 1)],\n",
              " [('재밌다', 1), ('하다', 1), ('사다', 1), ('어설프다', 1)],\n",
              " [('보다', 1),\n",
              "  ('사람', 1),\n",
              "  ('있다', 1),\n",
              "  ('하다', 1),\n",
              "  ('최고', 1),\n",
              "  ('영화', 1),\n",
              "  ('라고', 1),\n",
              "  ('낮다', 1),\n",
              "  ('평점', 1),\n",
              "  ('정말', 1),\n",
              "  ('모르다', 1),\n",
              "  ('21', 1),\n",
              "  ('SF', 1),\n",
              "  ('세기', 1)],\n",
              " [('보다', 2),\n",
              "  ('지금', 1),\n",
              "  ('까지', 1),\n",
              "  ('좋다', 1),\n",
              "  ('에서', 1),\n",
              "  ('정말', 1),\n",
              "  ('친구', 1),\n",
              "  ('느낌', 1),\n",
              "  ('95년', 1),\n",
              "  ('비디오', 1)],\n",
              " [('보다', 1), ('되다', 1), ('기다리다', 1), ('빨리', 1), ('오래', 1), ('허다', 1)],\n",
              " [('하나', 1), ('10', 1), ('감독', 1), ('남기남', 1), ('만으로도', 1), ('이름', 1)],\n",
              " [('최고', 1),\n",
              "  ('진짜', 1),\n",
              "  ('최고다', 1),\n",
              "  ('마이', 1),\n",
              "  ('성룡', 1),\n",
              "  ('우상', 1),\n",
              "  ('형님', 1)],\n",
              " [('영화', 1),\n",
              "  ('좋아하다', 1),\n",
              "  ('싫다', 1),\n",
              "  ('이런', 1),\n",
              "  ('6250', 1),\n",
              "  ('amy', 1),\n",
              "  ('당신', 1),\n",
              "  ('에도', 2),\n",
              "  ('이영화', 1),\n",
              "  ('장르', 2)],\n",
              " [('지금', 1), ('까지', 1), ('영화', 1), ('최고다', 1)],\n",
              " [('이루다', 1),\n",
              "  ('하다', 1),\n",
              "  ('생각', 1),\n",
              "  ('좋다', 1),\n",
              "  ('죽다', 1),\n",
              "  ('거슬리다', 1),\n",
              "  ('도잠', 1),\n",
              "  ('리타', 1),\n",
              "  ('매회', 1),\n",
              "  ('에나', 1),\n",
              "  ('자꾸', 1),\n",
              "  ('죄책감', 1)],\n",
              " [('다시', 1),\n",
              "  ('보고', 1),\n",
              "  ('보다', 2),\n",
              "  ('어리다', 1),\n",
              "  ('하다', 4),\n",
              "  ('생각', 1),\n",
              "  ('연기', 1),\n",
              "  ('영화', 2),\n",
              "  ('진짜', 1),\n",
              "  ('감동', 1),\n",
              "  ('이다', 2),\n",
              "  ('아니다', 1),\n",
              "  ('낮다', 1),\n",
              "  ('평점', 1),\n",
              "  ('대한', 1),\n",
              "  ('비판', 1),\n",
              "  ('기억', 1),\n",
              "  ('지만', 1),\n",
              "  ('자다', 3),\n",
              "  ('연기자', 1),\n",
              "  ('굉장하다', 1),\n",
              "  ('디테', 1),\n",
              "  ('따다', 1),\n",
              "  ('만들다', 1),\n",
              "  ('묘사', 1),\n",
              "  ('봉임', 1),\n",
              "  ('붙이다', 1),\n",
              "  ('안나', 1),\n",
              "  ('웃음', 1),\n",
              "  ('이랑', 1),\n",
              "  ('일만', 1),\n",
              "  ('절대', 1),\n",
              "  ('정치', 1),\n",
              "  ('커서', 1),\n",
              "  ('표현', 1),\n",
              "  ('흥행', 1)]]"
            ]
          },
          "metadata": {
            "tags": []
          },
          "execution_count": 17
        }
      ]
    },
    {
      "cell_type": "code",
      "metadata": {
        "id": "zJvgM27ssGu5",
        "outputId": "96722273-b9c6-4c99-f5d4-8b5d3778baad",
        "colab": {
          "base_uri": "https://localhost:8080/",
          "height": 35
        }
      },
      "source": [
        "len(dictionary)"
      ],
      "execution_count": null,
      "outputs": [
        {
          "output_type": "execute_result",
          "data": {
            "text/plain": [
              "25904"
            ]
          },
          "metadata": {
            "tags": []
          },
          "execution_count": 18
        }
      ]
    },
    {
      "cell_type": "markdown",
      "metadata": {
        "id": "WQTDlj5YsGu8"
      },
      "source": [
        "4) 토픽모델 구축(LDA Model 학습)\n",
        "- corpus : 문서 벡터\n",
        "- id2word : 단어ID와 매핑된 단어의 빈도\n",
        "- num_topics : 가설 토픽 개수\n",
        "- chunksize : 훈련 알고리즘에 사용되는 문서사이즈, 빠른 학습을 위해서 사이즈 상향 \n",
        "- Hoffman의 논문에 의하면 Chunksize는 모델 품질에 영향은 일부 있음\n",
        "- pass : epochs와 같은 용어로 전체 코퍼스에서 모델을 학습시키는 빈도\n",
        "- iteration : 각각 문서에 대한 반복횟수, passes & iteration 은 많을수록 좋음\n",
        "- per_word_topics : 각 단어에 대해 가장 가능성이 높은 주제의 내림차순으로 토픽목록 x 피처길이 = 토픽값 계산 "
      ]
    },
    {
      "cell_type": "code",
      "metadata": {
        "id": "FnN9SQN_sGu8",
        "outputId": "432e20f6-cd36-4482-a637-a230d5b39edb",
        "colab": {
          "base_uri": "https://localhost:8080/",
          "height": 53
        }
      },
      "source": [
        "import gensim\n",
        "from gensim.models.ldamodel import LdaModel\n",
        "\n",
        "num_topics = 10 # 가설 토픽개수\n",
        "chunksize = 2000 # 훈련알고리즘에 사용되는 문서의 개수\n",
        "passes = 20 # 모델 학습빈도\n",
        "iterations = 400 # 문서 반복횟수\n",
        "per_word_topics = True # 가능성 높은 주제로 정렬하여 계산\n",
        "\n",
        "%time lda_model = LdaModel(corpus = corpus, id2word = dictionary,\\\n",
        "                           iterations = iterations, num_topics = num_topics, chunksize = chunksize, passes = passes, per_word_topics = per_word_topics )"
      ],
      "execution_count": null,
      "outputs": [
        {
          "output_type": "stream",
          "text": [
            "CPU times: user 3min 38s, sys: 271 ms, total: 3min 38s\n",
            "Wall time: 3min 37s\n"
          ],
          "name": "stdout"
        }
      ]
    },
    {
      "cell_type": "markdown",
      "metadata": {
        "id": "-iGZep3msGvA"
      },
      "source": [
        "5) gensim의 CoherenceModel을 사용한 성능평가"
      ]
    },
    {
      "cell_type": "code",
      "metadata": {
        "scrolled": false,
        "id": "Jx56-_EnsGvA",
        "outputId": "8cfe2bf9-3ead-419e-e448-e01ad44f146a",
        "colab": {
          "base_uri": "https://localhost:8080/",
          "height": 71
        }
      },
      "source": [
        "from gensim.models.coherencemodel import CoherenceModel\n",
        "\n",
        "cm = CoherenceModel(model=lda_model, corpus=corpus, coherence='u_mass')\n",
        "coherence = cm.get_coherence()\n",
        "\n",
        "# 계산모델의 난이도로 해당 확률 모델의 예측정확도 판정, 수치가 낮을수록 정확성이 높음\n",
        "print(\"Perplexity: \", lda_model.log_perplexity(corpus)) \n",
        "# 추론된 토픽간의 일관성, 높을수록 의미론적 일관성 높음\n",
        "print(\"\\nCoherence: \",coherence)"
      ],
      "execution_count": null,
      "outputs": [
        {
          "output_type": "stream",
          "text": [
            "Perplexity:  -7.7981201030374\n",
            "\n",
            "Coherence:  -4.700033749361276\n"
          ],
          "name": "stdout"
        }
      ]
    },
    {
      "cell_type": "markdown",
      "metadata": {
        "id": "HXSL2MDxsGvB"
      },
      "source": [
        "6) epoch 반복에 따른 coherence 의 변화식별"
      ]
    },
    {
      "cell_type": "code",
      "metadata": {
        "id": "Hq9fpojasGvC"
      },
      "source": [
        "# import warnings\n",
        "# import time\n",
        "\n",
        "# cohrences=[]\n",
        "# perplexities=[]\n",
        "# passes=[]\n",
        "# warnings.filterwarnings('ignore')\n",
        "\n",
        "# for i in range(10):\n",
        "    \n",
        "#     ntopics, nwords = 200, 100\n",
        "#     if i==0:\n",
        "#         p=1\n",
        "#     else:\n",
        "#         p=i*20\n",
        "#     tic = time.time()\n",
        "#     lda4 = LdaMulticore(corpus, id2word=dictionary, num_topics=ntopics, iterations=400, passes=p)\n",
        "#     print('epoch',p,time.time() - tic)\n",
        "    \n",
        "#     cm = CoherenceModel(model=lda4, corpus=corpus, coherence='u_mass')\n",
        "#     coherence = cm.get_coherence()\n",
        "#     print(\"Coherence\",coherence)\n",
        "#     coherences.append(coherence)\n",
        "#     print('Perplexity: ', lda4.log_perplexity(corpus),'\\n\\n')\n",
        "#     perplexities.append(lda4.log_perplexity(corpus))"
      ],
      "execution_count": null,
      "outputs": []
    },
    {
      "cell_type": "markdown",
      "metadata": {
        "id": "Uy0ivsPvsGvD"
      },
      "source": [
        "7) 토픽결과 분석 및 추론"
      ]
    },
    {
      "cell_type": "code",
      "metadata": {
        "scrolled": false,
        "id": "nh2wl9-OsGvD",
        "outputId": "de6c91e2-bd8a-4fd1-ed29-1862f86be5e2",
        "colab": {
          "base_uri": "https://localhost:8080/",
          "height": 197
        }
      },
      "source": [
        "topics = lda_model.print_topics(num_words=10)\n",
        "for topic in topics:\n",
        "    print(topic)"
      ],
      "execution_count": null,
      "outputs": [
        {
          "output_type": "stream",
          "text": [
            "(0, '0.132*\"최고\" + 0.042*\"영화\" + 0.037*\"드라마\" + 0.030*\"이다\" + 0.028*\"인생\" + 0.017*\"하나\" + 0.015*\"정말\" + 0.015*\"최고다\" + 0.015*\"멋지다\" + 0.008*\"진짜\"')\n",
            "(1, '0.050*\"하다\" + 0.045*\"사랑\" + 0.015*\"되다\" + 0.012*\"우리\" + 0.011*\"남자\" + 0.011*\"예쁘다\" + 0.011*\"에게\" + 0.011*\"가족\" + 0.009*\"되어다\" + 0.009*\"있다\"')\n",
            "(2, '0.032*\"마지막\" + 0.024*\"장면\" + 0.023*\"감동\" + 0.019*\"슬프다\" + 0.016*\"울다\" + 0.015*\"반전\" + 0.015*\"이다\" + 0.013*\"눈물\" + 0.012*\"필요없다\" + 0.009*\"충격\"')\n",
            "(3, '0.129*\"보다\" + 0.086*\"재밌다\" + 0.041*\"너무\" + 0.035*\"재미있다\" + 0.026*\"정말\" + 0.026*\"영화\" + 0.024*\"진짜\" + 0.015*\"평점\" + 0.014*\"좋다\" + 0.013*\"다시\"')\n",
            "(4, '0.040*\"괜찮다\" + 0.034*\"명작\" + 0.016*\"이다\" + 0.011*\"스릴러\" + 0.010*\"굳다\" + 0.010*\"공포\" + 0.010*\"걸작\" + 0.009*\"이상\" + 0.009*\"꿀잼\" + 0.008*\"나름\"')\n",
            "(5, '0.093*\"하다\" + 0.054*\"영화\" + 0.041*\"있다\" + 0.038*\"생각\" + 0.021*\"사람\" + 0.021*\"보다\" + 0.019*\"없다\" + 0.016*\"되다\" + 0.013*\"10\" + 0.013*\"싶다\"')\n",
            "(6, '0.093*\"영화\" + 0.059*\"보다\" + 0.024*\"하다\" + 0.021*\"않다\" + 0.016*\"이다\" + 0.015*\"이렇다\" + 0.011*\"좋다\" + 0.011*\"정말\" + 0.010*\"아니다\" + 0.010*\"있다\"')\n",
            "(7, '0.023*\"대박\" + 0.021*\"역시\" + 0.016*\"무섭다\" + 0.015*\"진짜\" + 0.015*\"멋있다\" + 0.014*\"잇다\" + 0.010*\"웃기다\" + 0.010*\"소름\" + 0.010*\"그냥\" + 0.009*\"이쁘다\"')\n",
            "(8, '0.031*\"하다\" + 0.022*\"으로\" + 0.015*\"에서\" + 0.014*\"자다\" + 0.014*\"감독\" + 0.011*\"수작\" + 0.010*\"내다\" + 0.010*\"있다\" + 0.010*\"작품\" + 0.010*\"현실\"')\n",
            "(9, '0.058*\"영화\" + 0.051*\"좋다\" + 0.027*\"연기\" + 0.024*\"하다\" + 0.018*\"보다\" + 0.017*\"이다\" + 0.017*\"배우\" + 0.016*\"너무\" + 0.016*\"있다\" + 0.015*\"정말\"')\n"
          ],
          "name": "stdout"
        }
      ]
    },
    {
      "cell_type": "code",
      "metadata": {
        "id": "gvSBZrNPsGvF",
        "outputId": "b29fffe0-ee97-401e-ade3-613903a3fc35",
        "colab": {
          "base_uri": "https://localhost:8080/",
          "height": 937
        }
      },
      "source": [
        "for i, topic_list in enumerate(lda_model[corpus]):\n",
        "    if i==10:\n",
        "        break\n",
        "    print('\\n',doc['document'][i])\n",
        "    print(doc['clean_doc'][i])\n",
        "    print(i,'번째 문서의 topic 비율은','\\n',topic_list)"
      ],
      "execution_count": null,
      "outputs": [
        {
          "output_type": "stream",
          "text": [
            "\n",
            " 어릴때보고 지금다시봐도 재밌어요ㅋㅋ\n",
            "['어리다', '보고', '지금', '다시', '보다', '재밌다']\n",
            "0 번째 문서의 topic 비율은 \n",
            " ([(0, 0.014285714), (1, 0.014286031), (2, 0.014285925), (3, 0.8714243), (4, 0.014285714), (5, 0.014287285), (6, 0.014287584), (7, 0.014285714), (8, 0.014285714), (9, 0.014285953)], [(0, [3]), (1, [3]), (2, [3]), (3, [3]), (4, [3]), (5, [3])], [(0, [(3, 0.99999577)]), (1, [(3, 0.9999909)]), (2, [(3, 0.99999595)]), (3, [(3, 0.99999934)]), (4, [(3, 1.0)]), (5, [(3, 0.99998885)])])\n",
            "\n",
            " 디자인을 배우는 학생으로, 외국디자이너와 그들이 일군 전통을 통해 발전해가는 문화산업이 부러웠는데. 사실 우리나라에서도 그 어려운시절에 끝까지 열정을 지킨 노라노 같은 전통이있어 저와 같은 사람들이 꿈을 꾸고 이뤄나갈 수 있다는 것에 감사합니다.\n",
            "['디자인', '배우다', '학생', '으로', '외국', '디자이너', '일군', '전통', '통해', '발전', '하다', '문화', '산업', '부럽다', '사실', '우리나라', '에서도', '어렵다', '시절', '까지', '열정', '지키다', '노라노', '같다', '전통', '있다', '같다', '사람', '꾸다', '이루다', '나가다', '있다', '감사하다']\n",
            "1 번째 문서의 topic 비율은 \n",
            " ([(1, 0.118270226), (2, 0.032393932), (5, 0.7401984), (9, 0.09148866)], [(6, [5]), (7, [5, 9, 1]), (8, [5, 9]), (9, [2]), (10, [1]), (11, [5]), (12, [5]), (13, [5]), (14, [5]), (15, [5]), (16, [5, 9]), (17, [5]), (18, [5, 1]), (19, [5]), (20, [1]), (21, [1]), (22, [5]), (23, [5]), (24, [5, 1]), (25, [5]), (26, [5]), (27, [5, 9, 1]), (28, [5]), (29, [5]), (30, [5, 9, 1]), (31, [9]), (32, [5]), (33, [5, 1]), (34, [5, 1, 9]), (35, [5, 9])], [(6, [(5, 0.99999964)]), (7, [(1, 0.23808362), (5, 1.482352), (9, 0.27956066)]), (8, [(5, 0.5559096), (9, 0.444085)]), (9, [(2, 0.9999859)]), (10, [(1, 0.999963)]), (11, [(5, 0.9957828)]), (12, [(5, 0.9999983)]), (13, [(5, 0.9999982)]), (14, [(5, 0.99999994)]), (15, [(5, 0.9999997)]), (16, [(5, 0.95334685), (9, 0.046653077)]), (17, [(5, 0.99999994)]), (18, [(1, 0.050584942), (5, 0.949415)]), (19, [(5, 0.99999595)]), (20, [(1, 0.99994445)]), (21, [(1, 0.9999995)]), (22, [(5, 0.99999946)]), (23, [(5, 0.999993)]), (24, [(1, 0.24791954), (5, 0.7520805)]), (25, [(5, 0.9999997)]), (26, [(5, 0.9999972)]), (27, [(1, 0.051531818), (5, 0.8516772), (9, 0.09678691)]), (28, [(5, 1.0)]), (29, [(5, 0.9957828)]), (30, [(1, 0.05560398), (5, 1.8683814), (9, 0.076013416)]), (31, [(9, 1.999911)]), (32, [(5, 0.99999905)]), (33, [(1, 0.20250516), (5, 0.79749453)]), (34, [(1, 0.07024007), (5, 0.9050555), (9, 0.024703737)]), (35, [(5, 0.95883584), (9, 0.041163813)])])\n",
            "\n",
            " 폴리스스토리 시리즈는 1부터 뉴까지 버릴께 하나도 없음.. 최고.\n",
            "['폴리스스토리', '시리즈', '부터', '까지', '버리다', '하나', '없다', '최고']\n",
            "2 번째 문서의 topic 비율은 \n",
            " ([(0, 0.36250746), (1, 0.011111523), (2, 0.14407764), (3, 0.0111126155), (4, 0.01111151), (5, 0.011112733), (6, 0.011113399), (7, 0.011118821), (8, 0.011112908), (9, 0.4156214)], [(8, [9]), (36, [9]), (37, [9]), (38, [0, 2]), (39, [0, 9, 2]), (40, [0]), (41, [2]), (42, [0, 9])], [(8, [(9, 0.9999888)]), (36, [(9, 0.9999315)]), (37, [(9, 0.99997675)]), (38, [(0, 0.9375976), (2, 0.06239104)]), (39, [(0, 0.47796983), (2, 0.13439822), (9, 0.387603)]), (40, [(0, 1.0)]), (41, [(2, 0.9999638)]), (42, [(0, 0.74654925), (9, 0.25345078)])])\n",
            "\n",
            " 와.. 연기가 진짜 개쩔구나.. 지루할거라고 생각했는데 몰입해서 봤다.. 그래 이런게 진짜 영화지\n",
            "['오다', '연기', '진짜', '쩔다', '지루하다', '생각', '하다', '몰입', '하다', '보다', '그렇다', '이렇다', '진짜', '영화']\n",
            "3 번째 문서의 topic 비율은 \n",
            " ([(3, 0.38895485), (5, 0.25476253), (6, 0.15658115), (9, 0.15969847)], [(2, [3, 6, 5, 9]), (34, [5, 3, 9, 6]), (43, [5, 3, 6, 9]), (44, [3, 9, 5, 6]), (45, [5]), (46, [9]), (47, [5, 6, 3, 9]), (48, [3, 6, 9]), (49, [6, 5]), (50, [9, 6, 5]), (51, [3, 6]), (52, [3])], [(2, [(3, 0.7649513), (5, 0.07575397), (6, 0.12188333), (9, 0.037411347)]), (34, [(3, 0.2664546), (5, 1.3425461), (6, 0.19310026), (9, 0.19788857)]), (43, [(3, 0.36706126), (5, 0.44413584), (6, 0.119177595), (9, 0.0696219)]), (44, [(3, 0.5465278), (5, 0.08591068), (6, 0.0825172), (9, 0.2850443)]), (45, [(5, 1.0)]), (46, [(9, 0.9999966)]), (47, [(3, 0.2291693), (5, 0.29773432), (6, 0.2896192), (9, 0.18347515)]), (48, [(3, 0.7034486), (6, 0.24791367), (9, 0.04862184)]), (49, [(5, 0.29848307), (6, 0.70151687)]), (50, [(5, 0.17893575), (6, 0.3467693), (9, 0.47429487)]), (51, [(3, 1.8580724), (6, 0.14191778)]), (52, [(3, 0.99999976)])])\n",
            "\n",
            " 안개 자욱한 밤하늘에 떠 있는 초승달 같은 영화.\n",
            "['안개', '자욱하다', '밤하늘', '뜨다', '있다', '초승달', '같다', '영화']\n",
            "4 번째 문서의 topic 비율은 \n",
            " ([(0, 0.1637652), (1, 0.011112866), (2, 0.011111136), (3, 0.011112962), (4, 0.011111138), (5, 0.20242582), (6, 0.011115515), (7, 0.011111136), (8, 0.5560186), (9, 0.011115614)], [(7, [5, 8]), (30, [5, 8]), (47, [5, 0]), (53, [0]), (54, [8]), (55, [8]), (56, [8]), (57, [8])], [(7, [(5, 0.5295039), (8, 0.47044012)]), (30, [(5, 0.5566678), (8, 0.44332185)]), (47, [(0, 0.36610442), (5, 0.63384944)]), (53, [(0, 0.9999988)]), (54, [(8, 0.9999831)]), (55, [(8, 0.9999965)]), (56, [(8, 0.9944705)]), (57, [(8, 0.9944705)])])\n",
            "\n",
            " 사랑을 해본사람이라면 처음부터 끝까지 웃을수 있는영화\n",
            "['사랑', '해보다', '사람', '라면', '처음', '부터', '까지', '웃다', '있다', '영화']\n",
            "5 번째 문서의 topic 비율은 \n",
            " ([(1, 0.20510751), (3, 0.36792734), (5, 0.36332065)], [(8, [3, 5]), (18, [5, 1]), (30, [5, 1]), (37, [3, 1]), (47, [5, 3]), (58, [1, 5]), (59, [1]), (60, [3]), (61, [3]), (62, [5, 1])], [(8, [(3, 0.79049575), (5, 0.2094831)]), (18, [(1, 0.15870087), (5, 0.84129906)]), (30, [(1, 0.095322356), (5, 0.9046711)]), (37, [(1, 0.1707945), (3, 0.82919043)]), (47, [(3, 0.32761842), (5, 0.67236125)]), (58, [(1, 0.5751633), (5, 0.42483658)]), (59, [(1, 1.0)]), (60, [(3, 0.9999961)]), (61, [(3, 0.99997663)]), (62, [(1, 0.15449035), (5, 0.84550965)])])\n",
            "\n",
            " 완전 감동입니다 다시봐도 감동\n",
            "['완전', '감동', '이다', '다시', '보다', '감동']\n",
            "6 번째 문서의 topic 비율은 \n",
            " ([(0, 0.014289378), (1, 0.014286659), (2, 0.014296137), (3, 0.8714004), (4, 0.014287725), (5, 0.014287646), (6, 0.014289668), (7, 0.014286038), (8, 0.014286634), (9, 0.014289684)], [(0, [3]), (2, [3]), (63, [3]), (64, [3]), (65, [3])], [(0, [(3, 0.99999577)]), (2, [(3, 0.99999595)]), (63, [(3, 1.9999391)]), (64, [(3, 1.0000001)]), (65, [(3, 0.9998989)])])\n",
            "\n",
            " 개들의 전쟁2 나오나요? 나오면 1빠로 보고 싶음\n",
            "['전쟁', '나오다', '나오다', '보고', '싶다']\n",
            "7 번째 문서의 topic 비율은 \n",
            " ([(0, 0.016667845), (1, 0.18332599), (2, 0.016670587), (3, 0.68331575), (4, 0.01667211), (5, 0.016674032), (6, 0.016670335), (7, 0.016668046), (8, 0.016667554), (9, 0.01666774)], [(1, [3]), (66, [3]), (67, [3]), (68, [1])], [(1, [(3, 0.99998605)]), (66, [(3, 1.9999465)]), (67, [(3, 0.99996394)]), (68, [(1, 0.9999557)])])\n",
            "\n",
            " 굿\n",
            "[]\n",
            "8 번째 문서의 topic 비율은 \n",
            " ([(0, 0.1), (1, 0.1), (2, 0.1), (3, 0.1), (4, 0.1), (5, 0.1), (6, 0.1), (7, 0.1), (8, 0.1), (9, 0.1)], [], [])\n",
            "\n",
            " 바보가 아니라 병 쉰 인듯\n",
            "['바보', '아니다', '이다']\n",
            "9 번째 문서의 topic 비율은 \n",
            " ([(0, 0.025005745), (1, 0.025005784), (2, 0.77493995), (3, 0.025001189), (4, 0.025003152), (5, 0.025011156), (6, 0.025014982), (7, 0.025002938), (8, 0.025011024), (9, 0.025004068)], [(65, [2]), (69, [2]), (70, [2])], [(65, [(2, 0.99991596)]), (69, [(2, 1.0)]), (70, [(2, 0.9998444)])])\n"
          ],
          "name": "stdout"
        }
      ]
    },
    {
      "cell_type": "code",
      "metadata": {
        "id": "JsOWWVOXsGvG",
        "outputId": "1cd688cb-507b-409e-a0e9-9e09a7a43f4a",
        "colab": {
          "base_uri": "https://localhost:8080/",
          "height": 557
        }
      },
      "source": [
        "import pprint\n",
        "pprint.pprint(lda_model.print_topics())\n",
        "doc_lda = lda_model[corpus]"
      ],
      "execution_count": null,
      "outputs": [
        {
          "output_type": "stream",
          "text": [
            "[(0,\n",
            "  '0.132*\"최고\" + 0.042*\"영화\" + 0.037*\"드라마\" + 0.030*\"이다\" + 0.028*\"인생\" + '\n",
            "  '0.017*\"하나\" + 0.015*\"정말\" + 0.015*\"최고다\" + 0.015*\"멋지다\" + 0.008*\"진짜\"'),\n",
            " (1,\n",
            "  '0.050*\"하다\" + 0.045*\"사랑\" + 0.015*\"되다\" + 0.012*\"우리\" + 0.011*\"남자\" + '\n",
            "  '0.011*\"예쁘다\" + 0.011*\"에게\" + 0.011*\"가족\" + 0.009*\"되어다\" + 0.009*\"있다\"'),\n",
            " (2,\n",
            "  '0.032*\"마지막\" + 0.024*\"장면\" + 0.023*\"감동\" + 0.019*\"슬프다\" + 0.016*\"울다\" + '\n",
            "  '0.015*\"반전\" + 0.015*\"이다\" + 0.013*\"눈물\" + 0.012*\"필요없다\" + 0.009*\"충격\"'),\n",
            " (3,\n",
            "  '0.129*\"보다\" + 0.086*\"재밌다\" + 0.041*\"너무\" + 0.035*\"재미있다\" + 0.026*\"정말\" + '\n",
            "  '0.026*\"영화\" + 0.024*\"진짜\" + 0.015*\"평점\" + 0.014*\"좋다\" + 0.013*\"다시\"'),\n",
            " (4,\n",
            "  '0.040*\"괜찮다\" + 0.034*\"명작\" + 0.016*\"이다\" + 0.011*\"스릴러\" + 0.010*\"굳다\" + '\n",
            "  '0.010*\"공포\" + 0.010*\"걸작\" + 0.009*\"이상\" + 0.009*\"꿀잼\" + 0.008*\"나름\"'),\n",
            " (5,\n",
            "  '0.093*\"하다\" + 0.054*\"영화\" + 0.041*\"있다\" + 0.038*\"생각\" + 0.021*\"사람\" + 0.021*\"보다\" '\n",
            "  '+ 0.019*\"없다\" + 0.016*\"되다\" + 0.013*\"10\" + 0.013*\"싶다\"'),\n",
            " (6,\n",
            "  '0.093*\"영화\" + 0.059*\"보다\" + 0.024*\"하다\" + 0.021*\"않다\" + 0.016*\"이다\" + '\n",
            "  '0.015*\"이렇다\" + 0.011*\"좋다\" + 0.011*\"정말\" + 0.010*\"아니다\" + 0.010*\"있다\"'),\n",
            " (7,\n",
            "  '0.023*\"대박\" + 0.021*\"역시\" + 0.016*\"무섭다\" + 0.015*\"진짜\" + 0.015*\"멋있다\" + '\n",
            "  '0.014*\"잇다\" + 0.010*\"웃기다\" + 0.010*\"소름\" + 0.010*\"그냥\" + 0.009*\"이쁘다\"'),\n",
            " (8,\n",
            "  '0.031*\"하다\" + 0.022*\"으로\" + 0.015*\"에서\" + 0.014*\"자다\" + 0.014*\"감독\" + 0.011*\"수작\" '\n",
            "  '+ 0.010*\"내다\" + 0.010*\"있다\" + 0.010*\"작품\" + 0.010*\"현실\"'),\n",
            " (9,\n",
            "  '0.058*\"영화\" + 0.051*\"좋다\" + 0.027*\"연기\" + 0.024*\"하다\" + 0.018*\"보다\" + 0.017*\"이다\" '\n",
            "  '+ 0.017*\"배우\" + 0.016*\"너무\" + 0.016*\"있다\" + 0.015*\"정말\"')]\n"
          ],
          "name": "stdout"
        }
      ]
    },
    {
      "cell_type": "markdown",
      "metadata": {
        "id": "WCe6noLGsGvI"
      },
      "source": [
        "8) 토픽키워드 시각화\n",
        "- pyLDAvis 패키지를 사용하며, jupyter notebook에서 잘 동작함"
      ]
    },
    {
      "cell_type": "code",
      "metadata": {
        "id": "hvO6toew_9aB",
        "outputId": "275c245e-ab9a-480b-86cf-d96bf2a99917",
        "colab": {
          "base_uri": "https://localhost:8080/",
          "height": 575
        }
      },
      "source": [
        "!pip3 install pyLDAvis"
      ],
      "execution_count": null,
      "outputs": [
        {
          "output_type": "stream",
          "text": [
            "Collecting pyLDAvis\n",
            "\u001b[?25l  Downloading https://files.pythonhosted.org/packages/a5/3a/af82e070a8a96e13217c8f362f9a73e82d61ac8fff3a2561946a97f96266/pyLDAvis-2.1.2.tar.gz (1.6MB)\n",
            "\r\u001b[K     |▏                               | 10kB 22.5MB/s eta 0:00:01\r\u001b[K     |▍                               | 20kB 7.1MB/s eta 0:00:01\r\u001b[K     |▋                               | 30kB 6.3MB/s eta 0:00:01\r\u001b[K     |▉                               | 40kB 7.1MB/s eta 0:00:01\r\u001b[K     |█                               | 51kB 7.0MB/s eta 0:00:01\r\u001b[K     |█▏                              | 61kB 7.6MB/s eta 0:00:01\r\u001b[K     |█▍                              | 71kB 7.2MB/s eta 0:00:01\r\u001b[K     |█▋                              | 81kB 7.3MB/s eta 0:00:01\r\u001b[K     |█▉                              | 92kB 7.6MB/s eta 0:00:01\r\u001b[K     |██                              | 102kB 7.8MB/s eta 0:00:01\r\u001b[K     |██▎                             | 112kB 7.8MB/s eta 0:00:01\r\u001b[K     |██▍                             | 122kB 7.8MB/s eta 0:00:01\r\u001b[K     |██▋                             | 133kB 7.8MB/s eta 0:00:01\r\u001b[K     |██▉                             | 143kB 7.8MB/s eta 0:00:01\r\u001b[K     |███                             | 153kB 7.8MB/s eta 0:00:01\r\u001b[K     |███▎                            | 163kB 7.8MB/s eta 0:00:01\r\u001b[K     |███▌                            | 174kB 7.8MB/s eta 0:00:01\r\u001b[K     |███▋                            | 184kB 7.8MB/s eta 0:00:01\r\u001b[K     |███▉                            | 194kB 7.8MB/s eta 0:00:01\r\u001b[K     |████                            | 204kB 7.8MB/s eta 0:00:01\r\u001b[K     |████▎                           | 215kB 7.8MB/s eta 0:00:01\r\u001b[K     |████▌                           | 225kB 7.8MB/s eta 0:00:01\r\u001b[K     |████▊                           | 235kB 7.8MB/s eta 0:00:01\r\u001b[K     |████▉                           | 245kB 7.8MB/s eta 0:00:01\r\u001b[K     |█████                           | 256kB 7.8MB/s eta 0:00:01\r\u001b[K     |█████▎                          | 266kB 7.8MB/s eta 0:00:01\r\u001b[K     |█████▌                          | 276kB 7.8MB/s eta 0:00:01\r\u001b[K     |█████▊                          | 286kB 7.8MB/s eta 0:00:01\r\u001b[K     |█████▉                          | 296kB 7.8MB/s eta 0:00:01\r\u001b[K     |██████                          | 307kB 7.8MB/s eta 0:00:01\r\u001b[K     |██████▎                         | 317kB 7.8MB/s eta 0:00:01\r\u001b[K     |██████▌                         | 327kB 7.8MB/s eta 0:00:01\r\u001b[K     |██████▊                         | 337kB 7.8MB/s eta 0:00:01\r\u001b[K     |███████                         | 348kB 7.8MB/s eta 0:00:01\r\u001b[K     |███████                         | 358kB 7.8MB/s eta 0:00:01\r\u001b[K     |███████▎                        | 368kB 7.8MB/s eta 0:00:01\r\u001b[K     |███████▌                        | 378kB 7.8MB/s eta 0:00:01\r\u001b[K     |███████▊                        | 389kB 7.8MB/s eta 0:00:01\r\u001b[K     |████████                        | 399kB 7.8MB/s eta 0:00:01\r\u001b[K     |████████▏                       | 409kB 7.8MB/s eta 0:00:01\r\u001b[K     |████████▎                       | 419kB 7.8MB/s eta 0:00:01\r\u001b[K     |████████▌                       | 430kB 7.8MB/s eta 0:00:01\r\u001b[K     |████████▊                       | 440kB 7.8MB/s eta 0:00:01\r\u001b[K     |█████████                       | 450kB 7.8MB/s eta 0:00:01\r\u001b[K     |█████████▏                      | 460kB 7.8MB/s eta 0:00:01\r\u001b[K     |█████████▍                      | 471kB 7.8MB/s eta 0:00:01\r\u001b[K     |█████████▌                      | 481kB 7.8MB/s eta 0:00:01\r\u001b[K     |█████████▊                      | 491kB 7.8MB/s eta 0:00:01\r\u001b[K     |██████████                      | 501kB 7.8MB/s eta 0:00:01\r\u001b[K     |██████████▏                     | 512kB 7.8MB/s eta 0:00:01\r\u001b[K     |██████████▍                     | 522kB 7.8MB/s eta 0:00:01\r\u001b[K     |██████████▋                     | 532kB 7.8MB/s eta 0:00:01\r\u001b[K     |██████████▊                     | 542kB 7.8MB/s eta 0:00:01\r\u001b[K     |███████████                     | 552kB 7.8MB/s eta 0:00:01\r\u001b[K     |███████████▏                    | 563kB 7.8MB/s eta 0:00:01\r\u001b[K     |███████████▍                    | 573kB 7.8MB/s eta 0:00:01\r\u001b[K     |███████████▋                    | 583kB 7.8MB/s eta 0:00:01\r\u001b[K     |███████████▊                    | 593kB 7.8MB/s eta 0:00:01\r\u001b[K     |████████████                    | 604kB 7.8MB/s eta 0:00:01\r\u001b[K     |████████████▏                   | 614kB 7.8MB/s eta 0:00:01\r\u001b[K     |████████████▍                   | 624kB 7.8MB/s eta 0:00:01\r\u001b[K     |████████████▋                   | 634kB 7.8MB/s eta 0:00:01\r\u001b[K     |████████████▉                   | 645kB 7.8MB/s eta 0:00:01\r\u001b[K     |█████████████                   | 655kB 7.8MB/s eta 0:00:01\r\u001b[K     |█████████████▏                  | 665kB 7.8MB/s eta 0:00:01\r\u001b[K     |█████████████▍                  | 675kB 7.8MB/s eta 0:00:01\r\u001b[K     |█████████████▋                  | 686kB 7.8MB/s eta 0:00:01\r\u001b[K     |█████████████▉                  | 696kB 7.8MB/s eta 0:00:01\r\u001b[K     |██████████████                  | 706kB 7.8MB/s eta 0:00:01\r\u001b[K     |██████████████▏                 | 716kB 7.8MB/s eta 0:00:01\r\u001b[K     |██████████████▍                 | 727kB 7.8MB/s eta 0:00:01\r\u001b[K     |██████████████▋                 | 737kB 7.8MB/s eta 0:00:01\r\u001b[K     |██████████████▉                 | 747kB 7.8MB/s eta 0:00:01\r\u001b[K     |███████████████                 | 757kB 7.8MB/s eta 0:00:01\r\u001b[K     |███████████████▎                | 768kB 7.8MB/s eta 0:00:01\r\u001b[K     |███████████████▍                | 778kB 7.8MB/s eta 0:00:01\r\u001b[K     |███████████████▋                | 788kB 7.8MB/s eta 0:00:01\r\u001b[K     |███████████████▉                | 798kB 7.8MB/s eta 0:00:01\r\u001b[K     |████████████████                | 808kB 7.8MB/s eta 0:00:01\r\u001b[K     |████████████████▎               | 819kB 7.8MB/s eta 0:00:01\r\u001b[K     |████████████████▌               | 829kB 7.8MB/s eta 0:00:01\r\u001b[K     |████████████████▋               | 839kB 7.8MB/s eta 0:00:01\r\u001b[K     |████████████████▉               | 849kB 7.8MB/s eta 0:00:01\r\u001b[K     |█████████████████               | 860kB 7.8MB/s eta 0:00:01\r\u001b[K     |█████████████████▎              | 870kB 7.8MB/s eta 0:00:01\r\u001b[K     |█████████████████▌              | 880kB 7.8MB/s eta 0:00:01\r\u001b[K     |█████████████████▋              | 890kB 7.8MB/s eta 0:00:01\r\u001b[K     |█████████████████▉              | 901kB 7.8MB/s eta 0:00:01\r\u001b[K     |██████████████████              | 911kB 7.8MB/s eta 0:00:01\r\u001b[K     |██████████████████▎             | 921kB 7.8MB/s eta 0:00:01\r\u001b[K     |██████████████████▌             | 931kB 7.8MB/s eta 0:00:01\r\u001b[K     |██████████████████▊             | 942kB 7.8MB/s eta 0:00:01\r\u001b[K     |██████████████████▉             | 952kB 7.8MB/s eta 0:00:01\r\u001b[K     |███████████████████             | 962kB 7.8MB/s eta 0:00:01\r\u001b[K     |███████████████████▎            | 972kB 7.8MB/s eta 0:00:01\r\u001b[K     |███████████████████▌            | 983kB 7.8MB/s eta 0:00:01\r\u001b[K     |███████████████████▊            | 993kB 7.8MB/s eta 0:00:01\r\u001b[K     |████████████████████            | 1.0MB 7.8MB/s eta 0:00:01\r\u001b[K     |████████████████████            | 1.0MB 7.8MB/s eta 0:00:01\r\u001b[K     |████████████████████▎           | 1.0MB 7.8MB/s eta 0:00:01\r\u001b[K     |████████████████████▌           | 1.0MB 7.8MB/s eta 0:00:01\r\u001b[K     |████████████████████▊           | 1.0MB 7.8MB/s eta 0:00:01\r\u001b[K     |█████████████████████           | 1.1MB 7.8MB/s eta 0:00:01\r\u001b[K     |█████████████████████▏          | 1.1MB 7.8MB/s eta 0:00:01\r\u001b[K     |█████████████████████▎          | 1.1MB 7.8MB/s eta 0:00:01\r\u001b[K     |█████████████████████▌          | 1.1MB 7.8MB/s eta 0:00:01\r\u001b[K     |█████████████████████▊          | 1.1MB 7.8MB/s eta 0:00:01\r\u001b[K     |██████████████████████          | 1.1MB 7.8MB/s eta 0:00:01\r\u001b[K     |██████████████████████▏         | 1.1MB 7.8MB/s eta 0:00:01\r\u001b[K     |██████████████████████▍         | 1.1MB 7.8MB/s eta 0:00:01\r\u001b[K     |██████████████████████▌         | 1.1MB 7.8MB/s eta 0:00:01\r\u001b[K     |██████████████████████▊         | 1.1MB 7.8MB/s eta 0:00:01\r\u001b[K     |███████████████████████         | 1.2MB 7.8MB/s eta 0:00:01\r\u001b[K     |███████████████████████▏        | 1.2MB 7.8MB/s eta 0:00:01\r\u001b[K     |███████████████████████▍        | 1.2MB 7.8MB/s eta 0:00:01\r\u001b[K     |███████████████████████▌        | 1.2MB 7.8MB/s eta 0:00:01\r\u001b[K     |███████████████████████▊        | 1.2MB 7.8MB/s eta 0:00:01\r\u001b[K     |████████████████████████        | 1.2MB 7.8MB/s eta 0:00:01\r\u001b[K     |████████████████████████▏       | 1.2MB 7.8MB/s eta 0:00:01\r\u001b[K     |████████████████████████▍       | 1.2MB 7.8MB/s eta 0:00:01\r\u001b[K     |████████████████████████▋       | 1.2MB 7.8MB/s eta 0:00:01\r\u001b[K     |████████████████████████▊       | 1.2MB 7.8MB/s eta 0:00:01\r\u001b[K     |█████████████████████████       | 1.3MB 7.8MB/s eta 0:00:01\r\u001b[K     |█████████████████████████▏      | 1.3MB 7.8MB/s eta 0:00:01\r\u001b[K     |█████████████████████████▍      | 1.3MB 7.8MB/s eta 0:00:01\r\u001b[K     |█████████████████████████▋      | 1.3MB 7.8MB/s eta 0:00:01\r\u001b[K     |█████████████████████████▉      | 1.3MB 7.8MB/s eta 0:00:01\r\u001b[K     |██████████████████████████      | 1.3MB 7.8MB/s eta 0:00:01\r\u001b[K     |██████████████████████████▏     | 1.3MB 7.8MB/s eta 0:00:01\r\u001b[K     |██████████████████████████▍     | 1.3MB 7.8MB/s eta 0:00:01\r\u001b[K     |██████████████████████████▋     | 1.3MB 7.8MB/s eta 0:00:01\r\u001b[K     |██████████████████████████▉     | 1.4MB 7.8MB/s eta 0:00:01\r\u001b[K     |███████████████████████████     | 1.4MB 7.8MB/s eta 0:00:01\r\u001b[K     |███████████████████████████▏    | 1.4MB 7.8MB/s eta 0:00:01\r\u001b[K     |███████████████████████████▍    | 1.4MB 7.8MB/s eta 0:00:01\r\u001b[K     |███████████████████████████▋    | 1.4MB 7.8MB/s eta 0:00:01\r\u001b[K     |███████████████████████████▉    | 1.4MB 7.8MB/s eta 0:00:01\r\u001b[K     |████████████████████████████    | 1.4MB 7.8MB/s eta 0:00:01\r\u001b[K     |████████████████████████████▏   | 1.4MB 7.8MB/s eta 0:00:01\r\u001b[K     |████████████████████████████▍   | 1.4MB 7.8MB/s eta 0:00:01\r\u001b[K     |████████████████████████████▋   | 1.4MB 7.8MB/s eta 0:00:01\r\u001b[K     |████████████████████████████▉   | 1.5MB 7.8MB/s eta 0:00:01\r\u001b[K     |█████████████████████████████   | 1.5MB 7.8MB/s eta 0:00:01\r\u001b[K     |█████████████████████████████▎  | 1.5MB 7.8MB/s eta 0:00:01\r\u001b[K     |█████████████████████████████▍  | 1.5MB 7.8MB/s eta 0:00:01\r\u001b[K     |█████████████████████████████▋  | 1.5MB 7.8MB/s eta 0:00:01\r\u001b[K     |█████████████████████████████▉  | 1.5MB 7.8MB/s eta 0:00:01\r\u001b[K     |██████████████████████████████  | 1.5MB 7.8MB/s eta 0:00:01\r\u001b[K     |██████████████████████████████▎ | 1.5MB 7.8MB/s eta 0:00:01\r\u001b[K     |██████████████████████████████▌ | 1.5MB 7.8MB/s eta 0:00:01\r\u001b[K     |██████████████████████████████▋ | 1.5MB 7.8MB/s eta 0:00:01\r\u001b[K     |██████████████████████████████▉ | 1.6MB 7.8MB/s eta 0:00:01\r\u001b[K     |███████████████████████████████ | 1.6MB 7.8MB/s eta 0:00:01\r\u001b[K     |███████████████████████████████▎| 1.6MB 7.8MB/s eta 0:00:01\r\u001b[K     |███████████████████████████████▌| 1.6MB 7.8MB/s eta 0:00:01\r\u001b[K     |███████████████████████████████▊| 1.6MB 7.8MB/s eta 0:00:01\r\u001b[K     |███████████████████████████████▉| 1.6MB 7.8MB/s eta 0:00:01\r\u001b[K     |████████████████████████████████| 1.6MB 7.8MB/s \n",
            "\u001b[?25hRequirement already satisfied: wheel>=0.23.0 in /usr/local/lib/python3.6/dist-packages (from pyLDAvis) (0.35.1)\n",
            "Requirement already satisfied: numpy>=1.9.2 in /usr/local/lib/python3.6/dist-packages (from pyLDAvis) (1.18.5)\n",
            "Requirement already satisfied: scipy>=0.18.0 in /usr/local/lib/python3.6/dist-packages (from pyLDAvis) (1.4.1)\n",
            "Requirement already satisfied: pandas>=0.17.0 in /usr/local/lib/python3.6/dist-packages (from pyLDAvis) (1.1.2)\n",
            "Requirement already satisfied: joblib>=0.8.4 in /usr/local/lib/python3.6/dist-packages (from pyLDAvis) (0.16.0)\n",
            "Requirement already satisfied: jinja2>=2.7.2 in /usr/local/lib/python3.6/dist-packages (from pyLDAvis) (2.11.2)\n",
            "Requirement already satisfied: numexpr in /usr/local/lib/python3.6/dist-packages (from pyLDAvis) (2.7.1)\n",
            "Requirement already satisfied: pytest in /usr/local/lib/python3.6/dist-packages (from pyLDAvis) (3.6.4)\n",
            "Requirement already satisfied: future in /usr/local/lib/python3.6/dist-packages (from pyLDAvis) (0.16.0)\n",
            "Collecting funcy\n",
            "  Downloading https://files.pythonhosted.org/packages/66/89/479de0afbbfb98d1c4b887936808764627300208bb771fcd823403645a36/funcy-1.15-py2.py3-none-any.whl\n",
            "Requirement already satisfied: pytz>=2017.2 in /usr/local/lib/python3.6/dist-packages (from pandas>=0.17.0->pyLDAvis) (2018.9)\n",
            "Requirement already satisfied: python-dateutil>=2.7.3 in /usr/local/lib/python3.6/dist-packages (from pandas>=0.17.0->pyLDAvis) (2.8.1)\n",
            "Requirement already satisfied: MarkupSafe>=0.23 in /usr/local/lib/python3.6/dist-packages (from jinja2>=2.7.2->pyLDAvis) (1.1.1)\n",
            "Requirement already satisfied: atomicwrites>=1.0 in /usr/local/lib/python3.6/dist-packages (from pytest->pyLDAvis) (1.4.0)\n",
            "Requirement already satisfied: setuptools in /usr/local/lib/python3.6/dist-packages (from pytest->pyLDAvis) (50.3.0)\n",
            "Requirement already satisfied: py>=1.5.0 in /usr/local/lib/python3.6/dist-packages (from pytest->pyLDAvis) (1.9.0)\n",
            "Requirement already satisfied: more-itertools>=4.0.0 in /usr/local/lib/python3.6/dist-packages (from pytest->pyLDAvis) (8.5.0)\n",
            "Requirement already satisfied: six>=1.10.0 in /usr/local/lib/python3.6/dist-packages (from pytest->pyLDAvis) (1.15.0)\n",
            "Requirement already satisfied: attrs>=17.4.0 in /usr/local/lib/python3.6/dist-packages (from pytest->pyLDAvis) (20.2.0)\n",
            "Requirement already satisfied: pluggy<0.8,>=0.5 in /usr/local/lib/python3.6/dist-packages (from pytest->pyLDAvis) (0.7.1)\n",
            "Building wheels for collected packages: pyLDAvis\n",
            "  Building wheel for pyLDAvis (setup.py) ... \u001b[?25l\u001b[?25hdone\n",
            "  Created wheel for pyLDAvis: filename=pyLDAvis-2.1.2-py2.py3-none-any.whl size=97712 sha256=ae691c6619ee8dadc5ddd5d848e9d32f5bd8f1bab47f8e88eab7c484914ee6f5\n",
            "  Stored in directory: /root/.cache/pip/wheels/98/71/24/513a99e58bb6b8465bae4d2d5e9dba8f0bef8179e3051ac414\n",
            "Successfully built pyLDAvis\n",
            "Installing collected packages: funcy, pyLDAvis\n",
            "Successfully installed funcy-1.15 pyLDAvis-2.1.2\n"
          ],
          "name": "stdout"
        }
      ]
    },
    {
      "cell_type": "code",
      "metadata": {
        "id": "Mm2DmjYFsGvI",
        "outputId": "17dcf828-bfbe-4f39-f2b1-c5a7f979a827",
        "colab": {
          "base_uri": "https://localhost:8080/",
          "height": 860
        }
      },
      "source": [
        "import pyLDAvis.gensim\n",
        "pyLDAvis.enable_notebook()\n",
        "vis = pyLDAvis.gensim.prepare(lda_model, corpus, dictionary)\n",
        "pyLDAvis.display(vis)"
      ],
      "execution_count": null,
      "outputs": [
        {
          "output_type": "execute_result",
          "data": {
            "text/html": [
              "\n",
              "<link rel=\"stylesheet\" type=\"text/css\" href=\"https://cdn.rawgit.com/bmabey/pyLDAvis/files/ldavis.v1.0.0.css\">\n",
              "\n",
              "\n",
              "<div id=\"ldavis_el1131399876558154806184288841\"></div>\n",
              "<script type=\"text/javascript\">\n",
              "\n",
              "var ldavis_el1131399876558154806184288841_data = {\"mdsDat\": {\"x\": [-0.17740184790167388, -0.2096768609586131, -0.19573612129578363, -0.19542753102443008, 0.022674652327685126, 0.015312691229521502, 0.10572908615891141, 0.19475977094446537, 0.18683717956782547, 0.25292898095209154], \"y\": [0.04182714048525312, 0.05796155261061939, 0.1736084822203642, -0.08028585980935951, -0.2403844337662883, -0.268375511084024, 0.17738240711706554, 0.034589213707588565, 0.06489474298161417, 0.03878226553716654], \"topics\": [1, 2, 3, 4, 5, 6, 7, 8, 9, 10], \"cluster\": [1, 1, 1, 1, 1, 1, 1, 1, 1, 1], \"Freq\": [17.655280124175537, 15.900079356300484, 14.625496344531975, 13.126017094549141, 8.249711608396428, 8.094441539829402, 6.059659675339986, 5.7454973286734194, 5.66829624968466, 4.875520678518968]}, \"tinfo\": {\"Term\": [\"\\ubcf4\\ub2e4\", \"\\uc7ac\\ubc0c\\ub2e4\", \"\\ucd5c\\uace0\", \"\\uc601\\ud654\", \"\\ud558\\ub2e4\", \"\\uc88b\\ub2e4\", \"\\ub108\\ubb34\", \"\\uc0dd\\uac01\", \"\\uc7ac\\ubbf8\\uc788\\ub2e4\", \"\\uc0ac\\ub791\", \"\\ub4dc\\ub77c\\ub9c8\", \"\\uc5f0\\uae30\", \"\\uc788\\ub2e4\", \"\\uc815\\ub9d0\", \"\\uba85\\uc791\", \"\\ub9c8\\uc9c0\\ub9c9\", \"\\uc9c4\\uc9dc\", \"\\uad1c\\ucc2e\\ub2e4\", \"\\uc0ac\\ub78c\", \"\\uc54a\\ub2e4\", \"\\uac10\\ub3d9\", \"\\ubc30\\uc6b0\", \"\\uc778\\uc0dd\", \"\\uc7a5\\uba74\", \"\\uc73c\\ub85c\", \"\\uc774\\ub2e4\", \"\\uc5ed\\uc2dc\", \"\\uc774\\ub807\\ub2e4\", \"\\uc2ac\\ud504\\ub2e4\", \"10\", \"\\ubc30\\uc6b0\", \"\\uc544\\ub984\\ub2f5\\ub2e4\", \"\\uac00\\uc2b4\", \"\\ub0a8\\ub2e4\", \"\\uc74c\\uc545\", \"\\uc5ec\\uc6b4\", \"\\uae4a\\ub2e4\", \"\\ub530\\ub73b\\ud558\\ub2e4\", \"\\uacb0\\ub9d0\", \"\\uc601\\uc0c1\", \"\\uc778\\uc0c1\", \"\\ub300\\uc0ac\", \"\\uc644\\ubcbd\\ud558\\ub2e4\", \"\\ubed4\\ud558\\ub2e4\", \"\\ud0c4\\ud0c4\\ud558\\ub2e4\", \"\\ub2e4\\uc74c\", \"\\ub204\\uad6c\", \"\\uae30\\ub2e4\", \"\\uc5ec\\ub7ec\", \"\\uad6c\\uc131\", \"\\ub610\\ud55c\", \"\\uc608\\uc220\", \"\\ubc14\\ub77c\\ub2e4\", \"\\ud480\\ub2e4\", \"\\ud55c\\ud3b8\", \"ost\", \"\\uc624\\ub798\", \"\\ubd80\\ub974\\ub2e4\", \"\\ud758\\ub9ac\\ub2e4\", \"\\ud76c\\ub9dd\", \"\\uc5f0\\uae30\", \"\\uc794\\uc794\\ud558\\ub2e4\", \"\\uc2a4\\ud1a0\\ub9ac\", \"\\uc88b\\ub2e4\", \"\\ub9c8\\uc74c\", \"\\uc5f0\\ucd9c\", \"\\uc0ac\\ub791\\uc2a4\\ub7fd\\ub2e4\", \"\\uc544\\ud504\\ub2e4\", \"\\ub178\\ub798\", \"\\uba39\\ub2e4\", \"\\ud6cc\\ub96d\\ud558\\ub2e4\", \"\\uc0c8\\ub86d\\ub2e4\", \"\\uc601\\ud654\", \"\\ub0b4\\uc6a9\", \"\\ucc28\\ub2e4\", \"\\ub108\\ubb34\", \"\\uac19\\ub2e4\", \"\\uc815\\ub9d0\", \"\\uae4c\\uc9c0\", \"\\uc774\\ub2e4\", \"\\uc788\\ub2e4\", \"\\ud558\\ub2e4\", \"\\uc54a\\ub2e4\", \"\\ub9e4\\ub825\", \"\\uac10\\ub3d9\", \"\\ubcf4\\ub2e4\", \"\\uc73c\\ub85c\", \"\\ub418\\ub2e4\", \"\\uc548\\ub418\\ub2e4\", \"\\uae30\\ubd84\", \"\\ub0b4\\ub0b4\", \"\\uc560\\ub2c8\", \"\\uc6d0\\uc791\", \"\\uc560\\ub2c8\\uba54\\uc774\\uc158\", \"\\uc774\\uc720\", \"\\uc9c4\\uc2ec\", \"\\uc544\\uae5d\\ub2e4\", \"\\ud3c9\\uac00\", \"\\ubcf4\\uc9c0\", \"\\uc9dc\\ub2e4\", \"\\ub9cc\\ud654\", \"\\uc808\\ub300\", \"\\ub192\\ub2e4\", \"\\ud3c9\\ub860\\uac00\", \"\\ub6f0\\uc5b4\\ub098\\ub2e4\", \"\\uc218\\uc900\", \"\\uc9c0\\ub098\\ub2e4\", \"\\uc810\\uc218\", \"\\ud6c4\\ubc18\", \"\\ubb34\\uc870\\uac74\", \"\\uc77d\\ub2e4\", \"\\uc78a\\ud600\\uc9c0\\ub2e4\", \"\\ud3ec\\uc2a4\\ud130\", \"\\ucc0d\\ub2e4\", \"\\ubbf8\\uc18c\", \"\\ub9cc\\uc758\", \"20\", \"\\uac08\\uc218\\ub85d\", \"\\uadf8\\ub54c\", \"\\uac15\\ucd94\", \"\\uc774\\ub807\\ub2e4\", \"\\uc81c\\ubaa9\", \"\\uc77c\\ubcf8\", \"\\uc54a\\ub2e4\", \"\\uc601\\ud654\", \"\\uc774\\ub7f0\", \"\\uc2dc\\uac04\", \"\\uc88b\\uc544\\ud558\\ub2e4\", \"\\ubcf4\\ub2e4\", \"\\ud55c\\uad6d\", \"\\uc57c\\ud558\\ub2e4\", \"\\ub9cc\\ub4e4\\ub2e4\", \"\\uc544\\ub2c8\\ub2e4\", \"10\", \"\\uc774\\ub2e4\", \"\\uba85\\uc791\", \"\\ud558\\ub2e4\", \"\\uc5c6\\ub2e4\", \"\\uc9c0\\uae08\", \"\\uc791\\ud488\", \"\\uc815\\ub9d0\", \"\\uc73c\\ub85c\", \"\\ub098\\uc624\\ub2e4\", \"\\ud3c9\\uc810\", \"\\uc88b\\ub2e4\", \"\\uc788\\ub2e4\", \"\\ubaa8\\ub974\\ub2e4\", \"\\ub418\\ub2e4\", \"\\uac19\\ub2e4\", \"\\uac10\\ub3d9\", \"\\uc9c4\\uc9dc\", \"\\uc5d0\\uc11c\", \"\\uc7ac\\ubc0c\\ub2e4\", \"\\uc7ac\\ubbf8\\uc788\\ub2e4\", \"\\uc644\\uc804\", \"\\uc7ac\\ub2e4\", \"\\ub0ae\\ub2e4\", \"\\uadc0\\uc5fd\\ub2e4\", \"\\uc5c4\\uccad\", \"\\uc6c3\\uae30\", \"\\ud2f0\\ube44\", \"\\uc61b\\ub0a0\", \"\\uc5b8\\uc81c\", \"\\ud6e8\\uc52c\", \"\\uc6b0\\uc5f0\\ud788\", \"\\uca54\\ub2e4\", \"\\ub300\\uc548\", \"\\uc608\\uc804\", \"\\uc774\\ub9ac\", \"\\uc740\\uadfc\", \"\\ub3cc\\ub9ac\\ub2e4\", \"\\ubc29\\uc1a1\", \"\\uc2dc\\uc120\", \"\\uc911\\ubc18\", \"\\uc548\\ub098\", \"\\ucc59\\uae30\\ub2e4\", \"\\uc774\\uba70\", \"\\ub5bc\\ub2e4\", \"\\ucf00\\uc774\\ube14\", \"\\uae34\\uc7a5\", \"\\ub365\\ub2e4\", \"\\ud558\\ud558\", \"\\uc5b4\\ub9ac\\ub2e4\", \"\\ub118\\ub2e4\", \"\\ub108\\ubb34\", \"\\ubcf4\\ub2e4\", \"\\uc9c4\\uc9dc\", \"\\uc624\\ub298\", \"\\ud6c8\\ud6c8\\ud558\\ub2e4\", \"\\uc0dd\\uac01\\ub098\\ub2e4\", \"\\uc774\\ub791\", \"\\ub2e4\\uc2dc\", \"\\ud3c9\\uc810\", \"\\uae30\\ub300\", \"\\uc815\\ub9d0\", \"\\uc6c3\\ub2e4\", \"\\ubcf4\\uace0\", \"\\uc624\\ub79c\", \"\\ud558\\uace0\", \"\\ub4dc\\ub77c\\ub9c8\", \"\\uadfc\\ub370\", \"\\uc601\\ud654\", \"\\uc5d0\\uc11c\", \"\\uc88b\\ub2e4\", \"\\ub098\\uc624\\ub2e4\", \"\\uae30\\uc5b5\", \"\\uc544\\uc774\", \"\\uc790\\ub2e4\", \"\\uac10\\ub3d9\", \"\\ud558\\ub2e4\", \"\\uc9c0\\uae08\", \"\\uac19\\ub2e4\", \"\\uc774\\ub2e4\", \"\\uc88b\\uc544\\ud558\\ub2e4\", \"\\ub418\\ub2e4\", \"\\uc0dd\\uac01\", \"\\ub77c\\uace0\", \"\\uc194\\uc9c1\\ud558\\ub2e4\", \"\\uc778\\uc9c0\", \"\\uc758\\ubbf8\", \"\\ub9cc\\uc810\", \"\\uc774\\ub77c\\uace0\", \"\\uc5bc\\ub9c8\\ub098\", \"\\ud56d\\uc0c1\", \"\\ub5a0\\ub098\\ub2e4\", \"\\ud798\\ub4e4\\ub2e4\", \"\\ube44\\uad50\", \"\\ube44\\ub2e4\", \"\\uc800\\ub7f0\", \"\\uc5d0\\uac90\", \"\\uae4a\\uc774\", \"\\ud655\\uc2e4\\ud558\\ub2e4\", \"\\uad00\\uac1d\", \"\\ud0ac\\ub9c1\\ud0c0\\uc784\", \"\\uba5c\\ub85c\", \"\\uad00\\uc2ec\", \"\\ubcf5\\uc218\", \"\\uc9c4\\uc815\", \"\\ub204\\uad70\\uac00\", \"\\ubcf4\\uc2dc\", \"\\uc8fc\\uc81c\", \"\\ube60\\ub974\\ub2e4\", \"\\ubbf8\\ub4dc\", \"\\uc0dd\\uc0dd\\ud558\\ub2e4\", \"\\ub300\\uc758\", \"\\uc0ac\\ub78c\", \"\\ub9ce\\ub2e4\", \"\\ub290\\ub07c\\ub2e4\", \"\\uc2f6\\ub2e4\", \"\\uc0b4\\ub2e4\", \"\\ud558\\ub2e4\", \"\\ud574\\ubcf4\\ub2e4\", \"\\uc788\\ub2e4\", \"\\uc774\\ud574\", \"10\", \"\\ub098\\ub2e4\", \"\\uc790\\uc2e0\", \"\\uc7ac\\ubbf8\", \"\\uc8fc\\ub2e4\", \"\\uc5c6\\ub2e4\", \"\\ubc1b\\ub2e4\", \"\\ud558\\uace0\", \"\\uc601\\ud654\", \"\\ubcf4\\uace0\", \"\\ub418\\ub2e4\", \"\\ud55c\\ubc88\", \"\\ud574\\uc8fc\\ub2e4\", \"\\uc5b4\\ub5bb\\ub2e4\", \"\\uc544\\ub2c8\\ub2e4\", \"\\ubcf4\\ub2e4\", \"\\ub2e4\\uc2dc\", \"\\ub4e4\\ub2e4\", \"\\uc73c\\ub85c\", \"\\uac19\\ub2e4\", \"\\uc5d0\\uc11c\", \"\\uc774\\ub2e4\", \"\\uc218\\uc791\", \"\\ub0b4\\ub2e4\", \"\\uadf9\\uc7a5\", \"\\ud654\\uc774\\ud305\", \"\\uc0ac\\ud68c\", \"\\ub3c5\\ud2b9\\ud558\\ub2e4\", \"\\ucc9c\\uc7ac\", \"\\uac00\\uce58\", \"100\", \"\\uc5b4\\ub514\", \"\\uc774\\uc0c1\\ud558\\ub2e4\", \"\\uc694\\uc18c\", \"\\uc5ec\\uae30\", \"\\uac00\\uc9c0\\ub2e4\", \"\\uc2a4\\ub7fd\\ub2e4\", \"\\uc5bc\\uad74\", \"\\uc2dc\\uccad\\ub960\", \"\\uadf8\\ub7ec\\ub098\", \"\\uc18c\\ub9ac\", \"\\uc804\\uccb4\", \"\\uba54\\uc138\\uc9c0\", \"\\ud3c9\\ubc94\\ud558\\ub2e4\", \"\\ub9cc\\uc774\", \"\\uc790\\uc5f0\", \"\\ub2e4\\ub8e8\\ub2e4\", \"\\ub208\\ube5b\", \"\\ud654\\ubcf4\", \"\\uc720\\uba38\", \"\\ud574\\ub0b4\\ub2e4\", \"\\uc18c\\uc18c\\ud558\\ub2e4\", \"\\uadf8\\ub9ac\\ub2e4\", \"\\ub300\\ud55c\", \"\\uc774\\ub984\", \"\\uc5ed\\uc0ac\", \"\\uc778\\uac04\", \"\\uac10\\ub3c5\", \"\\ud45c\\ud604\", \"\\ud604\\uc2e4\", \"\\ubcf4\\uc5ec\\uc8fc\\ub2e4\", \"\\ub9cc\\uc73c\\ub85c\\ub3c4\", \"\\uc73c\\ub85c\", \"\\uc790\\ub2e4\", \"\\ucda9\\ubd84\\ud558\\ub2e4\", \"\\uc5d0\\uc11c\", \"\\uc774\\ub77c\\ub294\", \"\\ud558\\ub2e4\", \"\\uc791\\ud488\", \"\\uc0ac\\uc2e4\", \"\\ub9cc\\ub4e4\\ub2e4\", \"\\uac1c\\uc778\", \"\\ubaa8\\ub4e0\", \"\\uc544\\ub2c8\\ub2e4\", \"\\uc788\\ub2e4\", \"\\uc138\\uc0c1\", \"\\ub418\\ub2e4\", \"\\uc774\\ub2e4\", \"\\ub77c\\ub294\", \"\\uc5ed\\uc2dc\", \"\\uc6b0\\ub9ac\", \"\\uc0ac\\ub791\", \"\\ub0a8\\uc790\", \"\\uc608\\uc058\\ub2e4\", \"\\uac00\\uc871\", \"\\ub300\\ud574\", \"\\uc911\\uac04\", \"\\uc2dc\\uc808\", \"\\uc601\\ud654\\uc778\", \"\\uad50\\ud6c8\", \"\\uc5c4\\ub9c8\", \"\\uadf8\\ub140\", \"\\uc774\\uc5d0\\uc694\", \"\\uc544\\ubc84\\uc9c0\", \"\\uc624\\ube60\", \"\\uc0b4\\uc544\\uac00\\ub2e4\", \"\\uc544\\ub4e4\", \"\\ube68\\ub9ac\", \"\\uc0c1\\ubbf8\", \"\\uc18c\\uc911\\ud558\\ub2e4\", \"\\uc601\\uc6d0\\ud558\\ub2e4\", \"\\uc11c\\ub85c\", \"\\ubc15\\uc218\", \"\\ub2ff\\ub2e4\", \"\\uac16\\ub2e4\", \"\\uc774\\ub974\\ub2e4\", \"\\ub2e8\\uc21c\\ud558\\ub2e4\", \"OST\", \"\\uc911\\uc694\\ud558\\ub2e4\", \"\\uc790\\uadf9\", \"\\uc0c9\\ub2e4\\ub974\\ub2e4\", \"\\ud568\\uaed8\", \"\\uc6b0\\ub9ac\", \"\\uacf5\\uac10\", \"\\ubb34\\uc5c7\", \"\\uc5d0\\uac8c\", \"\\uc778\\uac00\", \"\\uc2dc\\uc98c\", \"\\ub418\\uc5b4\\ub2e4\", \"\\uc5ec\\uc790\", \"\\uc9c4\\uc815\\ud558\\ub2e4\", \"\\ud558\\ub2e4\", \"\\uc21c\\uc218\\ud558\\ub2e4\", \"\\ub418\\ub2e4\", \"\\uadf8\\ub9ac\\uace0\", \"\\uc8fc\\uc778\\uacf5\", \"\\ubaa8\\uc2b5\", \"\\uc0ac\\ub78c\", \"\\uac19\\ub2e4\", \"\\uc788\\ub2e4\", \"\\uc774\\ub2e4\", \"\\uac00\\ub2e4\", \"\\uc624\\ub2e4\", \"\\ucd5c\\uace0\", \"\\uc778\\uc0dd\", \"\\ucd5c\\uace0\\ub2e4\", \"\\ud544\\uc694\\ud558\\ub2e4\", \"\\uc5b4\\ub978\", \"\\ud55c\\uad6d\\uc601\", \"\\ub208\\ubb3c\\ub098\\ub2e4\", \"\\ucd5c\\uadfc\", \"\\uc7a5\\ub974\", \"\\uc2ec\\ub9ac\", \"\\ub728\\ub2e4\", \"\\ub300\\ud55c\\ubbfc\\uad6d\", \"\\uce90\\uc2a4\\ud305\", \"\\uc911\\uad6d\", \"\\ubb18\\uc0ac\", \"\\ubb50\\ub77c\\ub2e4\", \"\\uc9c4\\uc2e4\", \"\\ub514\\uc988\\ub2c8\", \"\\uc0c1\\uc601\", \"\\ubcf8\\ubc29\", \"\\ub77c\\ub3c4\", \"\\uc80a\\ub2e4\", \"90\\ub144\", \"\\ub2e8\\uc5f0\", \"\\uc73c\\ub85c\\ub294\", \"\\ud2c0\\ub2e4\", \"\\uc774\\uc5f0\\uac78\", \"\\uad6d\\ubbfc\", \"\\uc7a1\\ub2e4\", \"\\uac74\\uac00\", \"\\ub4dc\\ub77c\\ub9c8\", \"\\ud558\\ub098\", \"\\uc5d0\\uc694\", \"\\uba4b\\uc9c0\\ub2e4\", \"\\uc774\\ub2e4\", \"\\uc601\\ud654\", \"\\uc815\\ub9d0\", \"\\uc2dc\\ub9ac\\uc988\", \"\\ubb34\\uc2a8\", \"\\uc5d0\\ub3c4\", \"\\uc9c4\\uc9dc\", \"\\uc5c6\\ub2e4\", \"\\uce5c\\uad6c\", \"\\uac74\\uc9c0\\ub2e4\", \"\\uc561\\uc158\", \"\\uc791\\ud488\", \"\\uc6b8\\ub2e4\", \"\\ucda9\\uaca9\", \"\\uc801\\ub2e4\", \"\\uba87\\ubc88\", \"\\uc5c4\\uccad\\ub098\\ub2e4\", \"\\uc81c\\ubc1c\", \"\\ud658\\uc0c1\", \"\\ucee4\\ud50c\", \"\\ubd88\\uc30d\\ud558\\ub2e4\", \"\\uc815\\ub9d0\\ub85c\", \"\\ud391\\ud391\", \"\\uad00\\ub78c\", \"\\uae30\\uc5b5\\ub098\\ub2e4\", \"\\ubb49\\ud074\\ud558\\ub2e4\", \"\\uc5ed\\ub300\", \"\\ud55c\\ub9c8\\ub514\", \"\\ubd88\\ub2e4\", \"\\uc880\\ube44\", \"\\ud6a8\\uacfc\", \"\\ubc14\\ubcf4\", \"\\uc228\\ub2e4\", \"\\uc6b4\\uba85\", \"\\uc774\\ub77c\\ub3c4\", \"\\ubb34\\ube44\", \"\\ub9cc\\uc871\", \"\\ub2e4\\uc591\\ud558\\ub2e4\", \"\\uc6ec\\ub9cc\\ud558\\ub2e4\", \"\\ud14c\\ub7ec\", \"\\ud504\\ub85c\\uadf8\\ub7a8\", \"\\uc6b0\\uc815\", \"\\ubc18\\uc804\", \"\\ud544\\uc694\\uc5c6\\ub2e4\", \"\\uc7a5\\uba74\", \"\\ub9c8\\uc9c0\\ub9c9\", \"\\uc138\\uacc4\", \"\\uc2ac\\ud504\\ub2e4\", \"\\uc774\\uc9c0\\ub9cc\", \"\\ub208\\ubb3c\", \"\\ub9cc\\ub098\\ub2e4\", \"\\ub530\\ub2e4\", \"\\uac10\\ub3d9\", \"\\uc5d4\\ub529\", \"\\uc774\\ub2e4\", \"\\uc4f0\\ub2e4\", \"\\uc78a\\ub2e4\", \"\\uc774\\uace0\", \"\\uc5d0\\uc11c\", \"\\uc5c6\\ub2e4\", \"\\ub098\\ub2e4\", \"\\uc561\\uc158\", \"\\uadf8\\ub9ac\\uace0\", \"\\ub098\\uc624\\ub2e4\", \"\\uba4b\\uc9c0\\ub2e4\", \"\\ub300\\ubc15\", \"\\ubb34\\uc12d\\ub2e4\", \"\\uba4b\\uc788\\ub2e4\", \"\\uc787\\ub2e4\", \"\\uc18c\\ub984\", \"\\ubbf8\\uce58\\ub2e4\", \"\\ub3cb\\ub2e4\", \"\\ubcf4\\ub2e8\", \"\\uacf5\\ud3ec\\uc601\\ud654\", \"\\ube44\\ub514\\uc624\", \"\\ud544\\uc694\", \"\\ud0c0\\ub2e4\", \"\\uc131\\ub8e1\", \"\\uc794\\uc778\\ud558\\ub2e4\", \"\\uc5ec\\ubc30\\uc6b0\", \"\\uac00\\ubcf4\\ub2e4\", \"\\ub3d9\\ud654\", \"\\uc8fd\\uc774\\ub2e4\", \"OO\", \"\\uac08\\ub2e4\", \"\\uacfc\\uac70\", \"\\uca50\\ub2e4\", \"\\uadf9\\uc7a5\\ud310\", \"\\uc804\\uc124\", \"\\uc870\\uc5f0\", \"\\uacfc\\uc758\", \"\\ud574\\uc11d\", \"\\ud06c\\ub9ac\\uc2a4\\ub9c8\\uc2a4\", \"\\ub354\\ubd88\\ub2e4\", \"\\uc815\\uc11c\", \"\\uc5ed\\uc2dc\", \"\\uc774\\ud6c4\", \"\\uc6c3\\uae30\\ub2e4\", \"\\uc990\\uae30\\ub2e4\", \"\\uc774\\uc058\\ub2e4\", \"\\ubc84\\ub9ac\\ub2e4\", \"\\uadf8\\ub0e5\", \"\\ucf54\\ubbf9\", \"\\uc9c4\\uc9dc\", \"\\uc561\\uc158\", \"\\uc774\\uc57c\\uae30\", \"\\uc624\\ub2e4\", \"\\uc8fd\\ub2e4\", \"\\uc7ac\\ubbf8\", \"\\uc5c6\\ub2e4\", \"\\uadf8\\ub798\\ub3c4\", \"\\uad1c\\ucc2e\\ub2e4\", \"\\uc2a4\\ub9b4\\ub7ec\", \"\\uad73\\ub2e4\", \"\\uacf5\\ud3ec\", \"\\uafc0\\uc7bc\", \"\\ub85c\\ub9e8\\uc2a4\", \"\\ube44\\uc2b7\\ud558\\ub2e4\", \"\\ud3b8\\uc774\", \"\\uccad\\ucd98\", \"\\ud765\\ubbf8\\ub86d\\ub2e4\", \"\\uc124\\ub808\\ub2e4\", \"good\", \"\\ub9cc\\ud558\", \"\\uc62c\\ub9ac\\ub2e4\", \"\\ube5b\\ub098\\ub2e4\", \"\\uc624\\ud788\\ub824\", \"\\ub2e4\\uc18c\", \"\\uc0c1\\uc0c1\\ub825\", \"\\uc0ac\\uadf9\", \"\\uc2dc\\ud2b8\\ucf64\", \"\\uc801\\uc808\\ud558\\ub2e4\", \"\\uc6d0\\ud558\\ub2e4\", \"\\uc5b8\\ub2c8\", \"\\ub300\\ub85c\", \"\\ub204\\ub098\", \"\\ub9c8\\ub974\\ub2e4\", \"\\ud798\\ub0b4\\ub2e4\", \"\\uc624\\ub77d\", \"\\uc5b4\\ub5a4\", \"\\uc870\\ud654\", \"\\uc774\\uc9c0\", \"\\uba85\\uc791\", \"\\uac78\\uc791\", \"\\uc0c1\\ub2f9\\ud558\\ub2e4\", \"\\uc774\\uc0c1\", \"\\ub098\\ub984\", \"\\uc544\\uc8fc\", \"\\uc774\\ub2e4\", \"\\ubc14\\ub85c\", \"\\uc561\\uc158\", \"\\uc5f0\\uae30\", \"\\ud3c9\\uc810\"], \"Freq\": [14579.0, 5391.0, 3432.0, 16440.0, 12182.0, 5496.0, 3831.0, 2119.0, 2200.0, 1548.0, 1907.0, 2185.0, 4871.0, 3943.0, 1197.0, 1178.0, 2427.0, 825.0, 1480.0, 2426.0, 2375.0, 1258.0, 740.0, 812.0, 2510.0, 5190.0, 871.0, 1216.0, 758.0, 1277.0, 1257.2538258909356, 844.7507798649053, 762.4390420124518, 726.3946607119395, 637.2940298042366, 564.9421088922726, 415.3637486439736, 404.0977850628042, 374.79396664620367, 374.1269187606627, 292.1130468294465, 271.05585870081114, 264.4862642380114, 256.5412487156007, 204.094476713381, 201.52072788767651, 179.77324199865063, 169.22846454302018, 146.04298885472375, 143.23820209779245, 140.11835401634747, 136.17119055475106, 126.97056738910987, 125.7789101018718, 125.43423642729418, 120.74818103084867, 112.0343356196758, 112.02766514082039, 106.75243397940318, 104.10591709346734, 2061.256956055399, 437.9700542855815, 981.4336436684281, 3868.918850223696, 648.2422040286427, 420.50065097012936, 211.481090434616, 266.65323705499236, 261.15028560156793, 413.9396454088638, 256.62125926144955, 215.77202116007484, 4362.323083027278, 473.32855547792667, 430.8226801925301, 1245.9406937521605, 980.039355185775, 1164.7429082683523, 527.0253470573173, 1288.4111222185206, 1196.8532910628983, 1799.7651736168082, 719.9137712977712, 381.32015899592307, 660.023853706022, 1331.7490297398292, 608.109294395382, 594.0422929015984, 318.1657165038402, 290.95658840523566, 277.09388340141726, 265.3897763277709, 250.21390641797194, 241.53091711859378, 218.20265280395355, 217.35599929262602, 195.9576580002121, 182.0085361669683, 177.48330272661536, 177.2019091145851, 159.03013954783557, 148.49467268268242, 147.71389377573715, 144.51792933136775, 142.17722521020738, 135.08464160248104, 134.3161309688254, 133.8419162397812, 133.56324891070417, 128.17873704988264, 127.78428987294467, 124.04748319724023, 117.20334797411189, 115.8782872811754, 110.13392192100594, 107.22491460794936, 105.33015588067543, 105.23241388165641, 170.99159505188376, 240.5622465946256, 1015.6566158251312, 250.4777535461112, 212.70101380427673, 1437.9491592206698, 6354.950347583922, 317.16834075645136, 403.18494550411833, 495.5765508254422, 4003.329682263282, 297.01112392802634, 288.82067251521545, 593.6541362554336, 698.1896519824043, 527.94142869927, 1101.6454188268679, 481.8040667667979, 1620.8785608570306, 684.3970695122209, 399.8196662079657, 443.0693555765386, 757.7969756686025, 606.3530354478561, 485.0381674715484, 491.3638730452946, 767.7833501263906, 697.9841029281143, 372.2793581324694, 559.7529979374443, 520.081776851776, 481.7179669470182, 357.0057382984102, 331.1588957503918, 5391.071404706631, 2199.659687728323, 821.0461279620084, 713.7090293212733, 670.6611316816776, 459.3280294132383, 203.51543157133457, 182.97772382128537, 155.46197122009985, 149.17734522765383, 146.08604721432732, 145.15537004849935, 135.0807784290086, 129.57104363718645, 118.92098434838313, 118.24294725789969, 105.1456778071351, 97.74971541677469, 90.37251732563912, 83.3554421489201, 80.02089349979903, 76.74144948853373, 76.54903887713475, 74.19972528638198, 71.7371770958391, 71.26209186643575, 66.60393841814562, 65.33677960533946, 61.74577824354108, 60.88402379217368, 600.1960705561711, 687.0409214973489, 2585.1872763140545, 8091.427563677601, 1503.8368992352384, 181.9162651760114, 129.77201263525598, 258.08796230626297, 233.38739404418453, 837.5703751799484, 919.9877262965637, 299.03545398243057, 1624.790143210937, 225.2969922038784, 651.2154857346902, 255.14029064232582, 431.3289539532306, 561.7505729225687, 211.38776222010515, 1619.843016638609, 566.5503261176125, 858.6664629857192, 454.729216056514, 302.95426196553603, 274.3116308196034, 398.4857733181932, 467.0002221168188, 720.5782499848304, 309.9796330911742, 387.5884247681988, 389.4636883006787, 285.9950679142812, 332.21994949303445, 2118.91844462965, 405.3865837796361, 291.75839940043903, 275.9761001235462, 250.97845489062726, 221.78602307783075, 188.9043988265509, 174.97191017054948, 161.38726201406106, 158.7278779174569, 144.8143757025943, 124.63263930177749, 119.919094996918, 118.26062740068062, 115.90795741868301, 108.86349052339911, 108.30964517476885, 105.78463169432915, 103.50319030801671, 102.29008626146994, 92.52423819300314, 91.84480231229126, 85.95628386404043, 83.87493287378199, 81.24555939244449, 81.14628948500156, 79.07224650809668, 76.46501951306344, 72.30099594015853, 72.11315971510832, 1203.463278692537, 681.604234353508, 601.5325368732373, 734.2195228457723, 316.06023278360044, 5218.799909241255, 208.38506317820438, 2328.363359477683, 354.42684491229704, 748.7836279826636, 451.5078289786183, 177.13187628028555, 520.1738439383487, 509.24744147710055, 1042.5928770678513, 335.4397756899604, 517.9127956385386, 3026.2885008890325, 615.3721476800289, 876.9800785520131, 323.9533582680923, 360.05622657191014, 270.91382553419953, 492.3482265263773, 1152.8435161957486, 416.2591019096578, 329.73591379398465, 423.74894543970544, 411.649335319941, 379.20311687768555, 325.7364611860715, 373.93866844935536, 357.06224256415135, 245.97927342269463, 182.53544211191482, 156.32272840495276, 146.05701589872982, 144.21407170384705, 138.32849938816793, 126.91413560773206, 122.80289483591467, 120.46228481772056, 119.95051487161152, 118.05747842485664, 117.25250720412194, 115.69939245275869, 106.11020907406098, 105.92286684821187, 105.10033743379027, 101.85146302731691, 101.60759739855908, 101.17964623936199, 94.54304377666828, 91.41035773572594, 89.91103602647325, 89.88291002066096, 86.35462595118395, 81.15821479371067, 76.12794444600928, 75.63031974258946, 74.90921665263656, 216.63430954564052, 311.4337358460509, 122.16510887019695, 160.07536260266346, 328.03633614952224, 495.4639024633445, 292.0821227616258, 337.29900291746986, 306.37575891543094, 135.46922773004292, 759.697233273477, 497.43933494876404, 151.38454194236255, 538.7542005649166, 182.39500945833277, 1078.4535007169525, 338.6113524798973, 158.5054544875959, 329.9775897810951, 183.36270853784166, 203.6820371497323, 295.1760162968908, 349.1784079992705, 161.01406393465945, 246.50842063496782, 266.31812575908776, 168.58359449657712, 165.5728782779161, 160.11802860212376, 1547.5137538888227, 394.88627290446334, 388.27324682353145, 365.922680807676, 292.5541928769022, 277.1526541207008, 229.8495302520358, 209.6974157525796, 187.3709282073607, 183.6616656272122, 174.54525324256323, 163.30236653926244, 151.44346153658574, 146.53481031083416, 141.71759917531503, 134.835780220598, 134.46069994224678, 127.71947052972178, 117.65478277232845, 114.76481759084423, 109.32417256797504, 108.93522134759155, 108.90090307158037, 101.57926470650231, 100.28093162157425, 99.12205032268552, 91.80465635290064, 89.4460394331282, 88.20863682131571, 88.01642865423686, 236.64417771939125, 410.37973590245156, 254.7526723695308, 227.26028773934647, 371.8643500665692, 191.67329257997895, 178.87411684358986, 318.26473840320955, 252.65740968774966, 141.4296903843254, 1743.6627855130344, 169.01278887741069, 526.0085219420419, 275.18002702763766, 232.75177674461548, 216.06350840240538, 276.3638098548054, 284.73301500723346, 298.6763215584886, 268.0805416032753, 204.1113719487451, 183.74295467318834, 3431.437678847823, 739.3316812811188, 381.992127740627, 174.17054787389816, 154.52328517683333, 147.05382775318418, 116.74753918955737, 112.55561572386192, 103.62555139094478, 102.84597951571791, 97.98684226982101, 95.68673312722147, 94.9514218843737, 93.92587035165035, 88.73407461462685, 87.9094205639605, 87.12540873175278, 85.61758121878513, 85.3665212839813, 83.50344284572603, 81.76197090268349, 80.99010703440568, 77.49719589795542, 76.26838494687641, 72.53853716735188, 72.54120718229818, 71.85884318154169, 71.68052001137232, 71.3851934034316, 67.43184362617343, 967.0747742488992, 440.5343438665768, 147.09276647794405, 381.40187321476014, 776.9953712112592, 1076.9544188392704, 395.9920430329183, 145.7602961230674, 106.39929823013883, 119.09053167175828, 204.7500840757174, 184.57673178210618, 111.43673448317391, 90.80494303958557, 104.87082944777859, 106.82217543896458, 390.2045006562456, 224.14027873731894, 215.09591021841302, 167.96354320264822, 153.1946577929489, 117.92191153004705, 105.5950466298923, 104.5657669621728, 103.48495057085955, 96.44226656351111, 95.574550343128, 89.44980766498614, 87.76885019400211, 85.41193572756487, 82.04824523721786, 75.03385545242477, 74.11490034236954, 73.99423178350386, 70.87609963396983, 69.18252431434422, 68.80205866218122, 63.58331531850346, 63.3832912022482, 61.65369516083095, 59.84037914955707, 57.98733094762195, 57.27943699164873, 55.97096093269771, 55.67387159586639, 55.09392594711266, 374.0134468155864, 285.3585750701714, 579.9128870223445, 791.586662570865, 131.61846881519975, 455.93919639738084, 174.48514385379386, 316.5304002454719, 121.6191989229274, 130.39495560997065, 576.9799102032856, 139.3500426832909, 365.43722740088805, 113.93609179800698, 114.26605741772653, 129.28673849786693, 171.59016377004517, 162.54542868631265, 123.20097197043141, 119.304158760357, 114.88142812042862, 110.59714443345737, 107.5789642025091, 568.7869429831783, 392.5818669437746, 353.6420087840051, 334.11915604262384, 245.87555606631318, 198.0288818723952, 188.26551169009292, 159.55744840734457, 158.37998452358218, 129.71769122355022, 128.0205402644266, 124.61511793556375, 117.45529128616347, 112.67307397350079, 110.64532812440122, 104.95705727486917, 102.89222078792388, 101.66537052774898, 96.43864192368292, 95.62120133359853, 93.35422539088616, 93.13506628228676, 91.63689043444609, 83.77167489338935, 80.6828113264694, 66.46000392072766, 64.34933529429932, 62.44562609836115, 61.43483275906821, 60.437126244463066, 512.3905490301421, 149.24821750030543, 251.94072294636166, 91.13695225903469, 212.42890952109178, 184.00775057197825, 243.4918553664437, 128.01660743628207, 361.0995550444376, 207.52975837851145, 203.0383330227069, 181.05870582633412, 128.18149238636406, 152.06111632452132, 176.81406543659816, 114.87176223212334, 824.7791640455445, 225.37346741576775, 216.54632341692107, 203.2456117213798, 183.31004857488378, 152.718629417138, 133.12654455370748, 127.9176212991914, 119.61418569084809, 117.82364657267449, 107.73052726115432, 101.8612625116558, 99.25213012410306, 96.75343375675429, 95.25143194935565, 94.5865509225155, 93.40937351887847, 90.1013087552404, 80.66849691651532, 76.50099281740385, 73.77170378468422, 72.86134781565494, 72.42765727262088, 72.07272809334903, 71.52315798013176, 69.42897083967831, 66.09693015456915, 66.0583344131538, 64.28394611335612, 62.097383873879856, 148.27557476220207, 714.4759664610734, 198.38080831117676, 131.31528106311288, 194.22632984951565, 176.7263276112341, 161.72151259468967, 343.56654634015877, 86.00807995147076, 104.8481092233935, 123.15480668609953, 96.83008088458708], \"Total\": [14579.0, 5391.0, 3432.0, 16440.0, 12182.0, 5496.0, 3831.0, 2119.0, 2200.0, 1548.0, 1907.0, 2185.0, 4871.0, 3943.0, 1197.0, 1178.0, 2427.0, 825.0, 1480.0, 2426.0, 2375.0, 1258.0, 740.0, 812.0, 2510.0, 5190.0, 871.0, 1216.0, 758.0, 1277.0, 1258.1143747873878, 845.6113327970804, 763.2995815013014, 727.2551857827385, 638.1545709217086, 565.8026003310175, 416.22426911392836, 404.95827837074745, 375.6545053266218, 374.98744861010874, 292.97357291620153, 271.91641487487203, 265.346826746501, 257.40181967128234, 204.95502132188764, 202.38133607240593, 180.6339042505105, 170.0890363290439, 146.90355757317562, 144.09875205649598, 140.9790243837893, 137.03175367875926, 127.83116422137712, 126.63947272350467, 126.29492241831274, 121.60870923660538, 112.8948876688851, 112.88828031066835, 107.61299819896455, 104.96652901443373, 2185.175305713751, 480.6680349382822, 1165.1032415144593, 5496.04354845521, 780.9389447576584, 501.97084216601314, 232.68340850311574, 307.01400528649714, 299.6926428178572, 546.9105925097836, 314.8925910846027, 250.1408609958188, 16440.844126761665, 776.4049704143277, 699.8846494760115, 3831.897093872394, 2653.6732788764443, 3943.901224275751, 1067.5575826633942, 5190.263919004625, 4871.534736984802, 12182.52600679343, 2426.3957175872542, 605.1303635368215, 2375.4019400345824, 14579.929964489927, 2510.542528777002, 3135.900083415685, 319.02495998663835, 291.81580836438434, 277.9531330708877, 266.2489850826366, 251.07313955166308, 242.39016602242245, 219.06192209814088, 218.2153264562581, 196.81686465513945, 182.86775459999131, 178.34252324720947, 178.06114885125203, 159.8894114121462, 149.35391541759725, 148.57309691670807, 145.37715128196245, 143.03651133637692, 135.94388246834632, 135.17539010113708, 134.70110681023567, 134.42250874830341, 129.03798058841252, 128.6435050578804, 124.90670796122976, 118.06258010633451, 116.73752001523947, 110.99317936323283, 108.08427323447901, 106.18941640513182, 106.09164196837358, 176.57694662771323, 256.7869693658902, 1216.967215106338, 277.5236879864413, 233.46390582232345, 2426.3957175872542, 16440.844126761665, 401.7608359628329, 590.511810128287, 782.3394794662089, 14579.929964489927, 441.9686660971194, 427.7231951624065, 1377.065250322463, 1783.7630288202047, 1277.4895762406627, 5190.263919004625, 1197.0422686204947, 12182.52600679343, 2771.9250824323094, 928.736501455738, 1218.2388836724308, 3943.901224275751, 2510.542528777002, 1518.7172355441653, 1678.1124346817107, 5496.04354845521, 4871.534736984802, 875.9373540330868, 3135.900083415685, 2653.6732788764443, 2375.4019400345824, 2427.318143900697, 2254.4894132648737, 5391.933420918887, 2200.521710958813, 821.9081583059685, 714.5710512113658, 671.5231486349335, 460.19005158319726, 204.3774809425981, 183.83975937703107, 156.32399481824893, 150.03937334691332, 146.94809688256717, 146.01749740424896, 135.94281447943956, 130.43311892631124, 119.78303047185742, 119.10499527097986, 106.00769668400508, 98.61188841842213, 91.23463207661275, 84.21757354337193, 80.88319818896314, 77.60373281682143, 77.41111808130232, 75.06177643477169, 72.599622583701, 72.12428170559112, 67.46596498756821, 66.19887909433973, 62.6078860198547, 61.74604789869533, 689.8260407598204, 847.1405446666537, 3831.897093872394, 14579.929964489927, 2427.318143900697, 216.6480441727897, 145.61274517077726, 331.8699997390868, 294.25557538844026, 1477.6327591778088, 1678.1124346817107, 412.04535835990254, 3943.901224275751, 309.1016206228323, 1599.4222207903367, 407.7011269548426, 1085.8504813097047, 1907.0584188518935, 319.047505415371, 16440.844126761665, 2254.4894132648737, 5496.04354845521, 1518.7172355441653, 665.0994899016749, 537.4913067537408, 1524.4709321064097, 2375.4019400345824, 12182.52600679343, 928.736501455738, 2653.6732788764443, 5190.263919004625, 782.3394794662089, 3135.900083415685, 2119.777188185529, 406.245334563583, 292.6171968223038, 276.840943089694, 251.8372132718439, 222.64477806473587, 189.76314561742882, 175.83068525942394, 162.24604853924507, 159.5866512134591, 145.67313713504015, 125.4914454073291, 120.7778880589228, 119.11939873432182, 116.76678558255631, 109.7222808678727, 109.16842559340557, 106.64343411327758, 104.3619513181263, 103.14893522595187, 93.3830269746013, 92.7035660709796, 86.81507053767382, 84.73372079974013, 82.10434646695532, 82.00509984343404, 79.93103617085889, 77.32379916481239, 73.15974745936394, 72.97199570893483, 1480.5902724376006, 906.281784690663, 800.6366524960042, 1012.9152317415958, 409.8429571682343, 12182.52600679343, 255.81030645564633, 4871.534736984802, 493.38882709342806, 1277.4895762406627, 712.9358038727731, 210.94515082787288, 928.726063994086, 944.4125278888312, 2771.9250824323094, 560.2846594923731, 1085.8504813097047, 16440.844126761665, 1599.4222207903367, 3135.900083415685, 597.5988089771713, 720.441976966671, 444.5001299589864, 1783.7630288202047, 14579.929964489927, 1477.6327591778088, 936.9386613574892, 2510.542528777002, 2653.6732788764443, 2254.4894132648737, 5190.263919004625, 374.795407825312, 357.9189746233636, 246.83604226256742, 183.3922404844885, 157.17943785359003, 146.913732467406, 145.07081827242308, 139.18523257990088, 127.77090102837275, 123.65965141799242, 121.31902764030679, 120.80729738556082, 118.91425211725952, 118.10927568827708, 116.5561580638675, 106.96694809230625, 106.77964644788646, 105.95708648642251, 102.70819658742253, 102.46436419963675, 102.03644202316055, 95.39975752947335, 92.26712867883118, 90.76779911390429, 90.73963433350843, 87.21136392911977, 82.01499777496944, 76.98468518634938, 76.48706445860601, 75.76596093860091, 243.5405759034941, 420.58740408557446, 136.40271490476832, 196.08687862871815, 513.8012647219139, 899.6342857436796, 450.9243353500967, 591.2474114808645, 525.5297298233658, 160.80621465990674, 2510.542528777002, 1524.4709321064097, 202.53586159061683, 2254.4894132648737, 292.32979442309835, 12182.52600679343, 1218.2388836724308, 234.56543796159283, 1377.065250322463, 350.3352574378449, 525.8050684431337, 1783.7630288202047, 4871.534736984802, 309.63556989966696, 3135.900083415685, 5190.263919004625, 414.11049356179797, 871.0267986826858, 571.2588944690938, 1548.371611117167, 395.7441558741882, 389.13114088456445, 366.78053068169834, 293.4120896789407, 278.0105405271793, 230.7074660732846, 210.5553277956042, 188.22888155604878, 184.51951640707915, 175.40311540926112, 164.16027874808515, 152.30129270250154, 147.3926625482601, 142.57548301974148, 135.6936386478155, 135.31862393474125, 128.57741170398876, 118.51262151625804, 115.62268205471266, 110.1820387686014, 109.7931686403926, 109.75878604250524, 102.43718951825062, 101.1388421937222, 99.97991838882757, 92.66256930942897, 90.30391883392969, 89.0665868440274, 88.87434354517899, 283.2554382884154, 571.2588944690938, 349.10434727706445, 306.037070355861, 644.9430350255476, 260.0865495197094, 236.8651921801218, 588.3229397025943, 424.1369762486909, 170.4481200157829, 12182.52600679343, 250.35601540553148, 3135.900083415685, 765.5515358491349, 585.8817549054103, 494.036523909802, 1480.5902724376006, 2653.6732788764443, 4871.534736984802, 5190.263919004625, 989.1678740640335, 824.8816139092577, 3432.2953706722415, 740.1893991406221, 382.8498201066015, 175.0282908952907, 155.38106404140393, 147.9115490269229, 117.6052637776327, 113.41336959980086, 104.48336107924015, 103.70375889221378, 98.84461714789252, 96.54448061717952, 95.809149418706, 94.78365862004908, 89.59186176664875, 88.76718660411137, 87.98319371848378, 86.47530537871344, 86.22424548264502, 84.36112240960044, 82.61973526124719, 81.84789278305934, 78.35499109076002, 77.12606385144852, 73.39636130820558, 73.39907265954176, 72.71653360688997, 72.5383742115342, 72.24298386892526, 68.28955868128176, 1907.0584188518935, 813.6181211994161, 190.70039138524177, 745.8382037918673, 5190.263919004625, 16440.844126761665, 3943.901224275751, 364.27600818290006, 189.21714546204646, 269.95755661831413, 2427.318143900697, 2771.9250824323094, 291.85533310504024, 121.84151950189516, 723.062711951871, 1218.2388836724308, 391.05994926580144, 224.99575428882724, 215.95136191697426, 168.81902884583022, 154.05014091594194, 118.77739049311711, 106.45055330020621, 105.42128702733086, 104.34039386058664, 97.29779365239793, 96.42996577081024, 90.30533064417753, 88.62433407453348, 86.26743528722116, 82.90370570034392, 75.88928608591105, 74.97041789219634, 74.84968521720134, 71.7316643613463, 70.03800266533837, 69.65758142614393, 64.43880351643975, 64.23879189948279, 62.50917760436593, 60.695887285117784, 58.842879411964155, 58.134939052056254, 56.826526744120436, 56.52938089791938, 55.949375141695825, 455.47206985867234, 359.09311004436216, 812.3714816350716, 1178.4926806927613, 159.15851873124058, 758.9595469202701, 230.40065281566112, 639.8184487590677, 169.5051910837459, 196.01256585925546, 2375.4019400345824, 269.9696505629677, 5190.263919004625, 242.22281862139022, 325.3103150841576, 527.7496397100983, 2254.4894132648737, 2771.9250824323094, 712.9358038727731, 723.062711951871, 765.5515358491349, 1518.7172355441653, 745.8382037918673, 569.6433576215213, 393.43829796402196, 354.4984324512335, 334.97557192005723, 246.7319748656787, 198.8853292661952, 189.12191976369616, 160.4138890612304, 159.2364218130965, 130.57414337501967, 128.8769909367241, 125.4715872753463, 118.31168525028839, 113.52953780773858, 111.50177175750073, 105.8134942082751, 103.74871104713442, 102.52182562706038, 97.29511710124434, 96.47771754141048, 94.21074716049694, 93.99146402846392, 92.49331348229722, 84.6280919320172, 81.53933790578186, 67.31659024141507, 65.20582879228434, 63.30210864787642, 62.29133238811001, 61.29370774870047, 871.0267986826858, 188.75114330009154, 417.5125869738893, 108.7399698910661, 381.64592003388196, 346.9709875026655, 681.5085167309815, 199.78200187635096, 2427.318143900697, 723.062711951871, 744.7170546547376, 824.8816139092577, 256.97326909284453, 928.726063994086, 2771.9250824323094, 395.6883042130398, 825.6356026139622, 226.22990664858125, 217.4027040766947, 204.10210023017788, 184.1664740356578, 153.57511905527315, 133.98304472505586, 128.77407007803714, 120.47070903867059, 118.68011122032891, 108.58704745720145, 102.71762672098451, 100.10858818941094, 97.60989673938371, 96.10788039879573, 95.44312296663007, 94.2658852877264, 90.95782818064255, 81.52498436296814, 77.3574409240242, 74.62815100349448, 73.71785383324816, 73.2840987554401, 72.92921634184592, 72.37958457810011, 70.28549972120908, 66.95345493778713, 66.91477124050246, 65.14044302768004, 62.953893519674054, 174.94336463448872, 1197.0422686204947, 269.0693145012542, 174.04949736882867, 356.1985458424804, 325.6650374963301, 371.18552910516826, 5190.263919004625, 119.90014575891044, 723.062711951871, 2185.175305713751, 1678.1124346817107], \"Category\": [\"Default\", \"Default\", \"Default\", \"Default\", \"Default\", \"Default\", \"Default\", \"Default\", \"Default\", \"Default\", \"Default\", \"Default\", \"Default\", \"Default\", \"Default\", \"Default\", \"Default\", \"Default\", \"Default\", \"Default\", \"Default\", \"Default\", \"Default\", \"Default\", \"Default\", \"Default\", \"Default\", \"Default\", \"Default\", \"Default\", \"Topic1\", \"Topic1\", \"Topic1\", \"Topic1\", \"Topic1\", \"Topic1\", \"Topic1\", \"Topic1\", \"Topic1\", \"Topic1\", \"Topic1\", \"Topic1\", \"Topic1\", \"Topic1\", \"Topic1\", \"Topic1\", \"Topic1\", \"Topic1\", \"Topic1\", \"Topic1\", \"Topic1\", \"Topic1\", \"Topic1\", \"Topic1\", \"Topic1\", \"Topic1\", \"Topic1\", \"Topic1\", \"Topic1\", \"Topic1\", \"Topic1\", \"Topic1\", \"Topic1\", \"Topic1\", \"Topic1\", \"Topic1\", \"Topic1\", \"Topic1\", \"Topic1\", \"Topic1\", \"Topic1\", \"Topic1\", \"Topic1\", \"Topic1\", \"Topic1\", \"Topic1\", \"Topic1\", \"Topic1\", \"Topic1\", \"Topic1\", \"Topic1\", \"Topic1\", \"Topic1\", \"Topic1\", \"Topic1\", \"Topic1\", \"Topic1\", \"Topic1\", \"Topic2\", \"Topic2\", \"Topic2\", \"Topic2\", \"Topic2\", \"Topic2\", \"Topic2\", \"Topic2\", \"Topic2\", \"Topic2\", \"Topic2\", \"Topic2\", \"Topic2\", \"Topic2\", \"Topic2\", \"Topic2\", \"Topic2\", \"Topic2\", \"Topic2\", \"Topic2\", \"Topic2\", \"Topic2\", \"Topic2\", \"Topic2\", \"Topic2\", \"Topic2\", \"Topic2\", \"Topic2\", \"Topic2\", \"Topic2\", \"Topic2\", \"Topic2\", \"Topic2\", \"Topic2\", \"Topic2\", \"Topic2\", \"Topic2\", \"Topic2\", \"Topic2\", \"Topic2\", \"Topic2\", \"Topic2\", \"Topic2\", \"Topic2\", \"Topic2\", \"Topic2\", \"Topic2\", \"Topic2\", \"Topic2\", \"Topic2\", \"Topic2\", \"Topic2\", \"Topic2\", \"Topic2\", \"Topic2\", \"Topic2\", \"Topic2\", \"Topic2\", \"Topic2\", \"Topic2\", \"Topic2\", \"Topic2\", \"Topic2\", \"Topic2\", \"Topic3\", \"Topic3\", \"Topic3\", \"Topic3\", \"Topic3\", \"Topic3\", \"Topic3\", \"Topic3\", \"Topic3\", \"Topic3\", \"Topic3\", \"Topic3\", \"Topic3\", \"Topic3\", \"Topic3\", \"Topic3\", \"Topic3\", \"Topic3\", \"Topic3\", \"Topic3\", \"Topic3\", \"Topic3\", \"Topic3\", \"Topic3\", \"Topic3\", \"Topic3\", \"Topic3\", \"Topic3\", \"Topic3\", \"Topic3\", \"Topic3\", \"Topic3\", \"Topic3\", \"Topic3\", \"Topic3\", \"Topic3\", \"Topic3\", \"Topic3\", \"Topic3\", \"Topic3\", \"Topic3\", \"Topic3\", \"Topic3\", \"Topic3\", \"Topic3\", \"Topic3\", \"Topic3\", \"Topic3\", \"Topic3\", \"Topic3\", \"Topic3\", \"Topic3\", \"Topic3\", \"Topic3\", \"Topic3\", \"Topic3\", \"Topic3\", \"Topic3\", \"Topic3\", \"Topic3\", \"Topic3\", \"Topic3\", \"Topic3\", \"Topic4\", \"Topic4\", \"Topic4\", \"Topic4\", \"Topic4\", \"Topic4\", \"Topic4\", \"Topic4\", \"Topic4\", \"Topic4\", \"Topic4\", \"Topic4\", \"Topic4\", \"Topic4\", \"Topic4\", \"Topic4\", \"Topic4\", \"Topic4\", \"Topic4\", \"Topic4\", \"Topic4\", \"Topic4\", \"Topic4\", \"Topic4\", \"Topic4\", \"Topic4\", \"Topic4\", \"Topic4\", \"Topic4\", \"Topic4\", \"Topic4\", \"Topic4\", \"Topic4\", \"Topic4\", \"Topic4\", \"Topic4\", \"Topic4\", \"Topic4\", \"Topic4\", \"Topic4\", \"Topic4\", \"Topic4\", \"Topic4\", \"Topic4\", \"Topic4\", \"Topic4\", \"Topic4\", \"Topic4\", \"Topic4\", \"Topic4\", \"Topic4\", \"Topic4\", \"Topic4\", \"Topic4\", \"Topic4\", \"Topic4\", \"Topic4\", \"Topic4\", \"Topic4\", \"Topic4\", \"Topic4\", \"Topic5\", \"Topic5\", \"Topic5\", \"Topic5\", \"Topic5\", \"Topic5\", \"Topic5\", \"Topic5\", \"Topic5\", \"Topic5\", \"Topic5\", \"Topic5\", \"Topic5\", \"Topic5\", \"Topic5\", \"Topic5\", \"Topic5\", \"Topic5\", \"Topic5\", \"Topic5\", \"Topic5\", \"Topic5\", \"Topic5\", \"Topic5\", \"Topic5\", \"Topic5\", \"Topic5\", \"Topic5\", \"Topic5\", \"Topic5\", \"Topic5\", \"Topic5\", \"Topic5\", \"Topic5\", \"Topic5\", \"Topic5\", \"Topic5\", \"Topic5\", \"Topic5\", \"Topic5\", \"Topic5\", \"Topic5\", \"Topic5\", \"Topic5\", \"Topic5\", \"Topic5\", \"Topic5\", \"Topic5\", \"Topic5\", \"Topic5\", \"Topic5\", \"Topic5\", \"Topic5\", \"Topic5\", \"Topic5\", \"Topic5\", \"Topic5\", \"Topic5\", \"Topic5\", \"Topic6\", \"Topic6\", \"Topic6\", \"Topic6\", \"Topic6\", \"Topic6\", \"Topic6\", \"Topic6\", \"Topic6\", \"Topic6\", \"Topic6\", \"Topic6\", \"Topic6\", \"Topic6\", \"Topic6\", \"Topic6\", \"Topic6\", \"Topic6\", \"Topic6\", \"Topic6\", \"Topic6\", \"Topic6\", \"Topic6\", \"Topic6\", \"Topic6\", \"Topic6\", \"Topic6\", \"Topic6\", \"Topic6\", \"Topic6\", \"Topic6\", \"Topic6\", \"Topic6\", \"Topic6\", \"Topic6\", \"Topic6\", \"Topic6\", \"Topic6\", \"Topic6\", \"Topic6\", \"Topic6\", \"Topic6\", \"Topic6\", \"Topic6\", \"Topic6\", \"Topic6\", \"Topic6\", \"Topic6\", \"Topic6\", \"Topic6\", \"Topic6\", \"Topic6\", \"Topic7\", \"Topic7\", \"Topic7\", \"Topic7\", \"Topic7\", \"Topic7\", \"Topic7\", \"Topic7\", \"Topic7\", \"Topic7\", \"Topic7\", \"Topic7\", \"Topic7\", \"Topic7\", \"Topic7\", \"Topic7\", \"Topic7\", \"Topic7\", \"Topic7\", \"Topic7\", \"Topic7\", \"Topic7\", \"Topic7\", \"Topic7\", \"Topic7\", \"Topic7\", \"Topic7\", \"Topic7\", \"Topic7\", \"Topic7\", \"Topic7\", \"Topic7\", \"Topic7\", \"Topic7\", \"Topic7\", \"Topic7\", \"Topic7\", \"Topic7\", \"Topic7\", \"Topic7\", \"Topic7\", \"Topic7\", \"Topic7\", \"Topic7\", \"Topic7\", \"Topic7\", \"Topic8\", \"Topic8\", \"Topic8\", \"Topic8\", \"Topic8\", \"Topic8\", \"Topic8\", \"Topic8\", \"Topic8\", \"Topic8\", \"Topic8\", \"Topic8\", \"Topic8\", \"Topic8\", \"Topic8\", \"Topic8\", \"Topic8\", \"Topic8\", \"Topic8\", \"Topic8\", \"Topic8\", \"Topic8\", \"Topic8\", \"Topic8\", \"Topic8\", \"Topic8\", \"Topic8\", \"Topic8\", \"Topic8\", \"Topic8\", \"Topic8\", \"Topic8\", \"Topic8\", \"Topic8\", \"Topic8\", \"Topic8\", \"Topic8\", \"Topic8\", \"Topic8\", \"Topic8\", \"Topic8\", \"Topic8\", \"Topic8\", \"Topic8\", \"Topic8\", \"Topic8\", \"Topic8\", \"Topic8\", \"Topic8\", \"Topic8\", \"Topic8\", \"Topic8\", \"Topic8\", \"Topic9\", \"Topic9\", \"Topic9\", \"Topic9\", \"Topic9\", \"Topic9\", \"Topic9\", \"Topic9\", \"Topic9\", \"Topic9\", \"Topic9\", \"Topic9\", \"Topic9\", \"Topic9\", \"Topic9\", \"Topic9\", \"Topic9\", \"Topic9\", \"Topic9\", \"Topic9\", \"Topic9\", \"Topic9\", \"Topic9\", \"Topic9\", \"Topic9\", \"Topic9\", \"Topic9\", \"Topic9\", \"Topic9\", \"Topic9\", \"Topic9\", \"Topic9\", \"Topic9\", \"Topic9\", \"Topic9\", \"Topic9\", \"Topic9\", \"Topic9\", \"Topic9\", \"Topic9\", \"Topic9\", \"Topic9\", \"Topic9\", \"Topic9\", \"Topic9\", \"Topic9\", \"Topic10\", \"Topic10\", \"Topic10\", \"Topic10\", \"Topic10\", \"Topic10\", \"Topic10\", \"Topic10\", \"Topic10\", \"Topic10\", \"Topic10\", \"Topic10\", \"Topic10\", \"Topic10\", \"Topic10\", \"Topic10\", \"Topic10\", \"Topic10\", \"Topic10\", \"Topic10\", \"Topic10\", \"Topic10\", \"Topic10\", \"Topic10\", \"Topic10\", \"Topic10\", \"Topic10\", \"Topic10\", \"Topic10\", \"Topic10\", \"Topic10\", \"Topic10\", \"Topic10\", \"Topic10\", \"Topic10\", \"Topic10\", \"Topic10\", \"Topic10\", \"Topic10\", \"Topic10\", \"Topic10\", \"Topic10\"], \"logprob\": [30.0, 29.0, 28.0, 27.0, 26.0, 25.0, 24.0, 23.0, 22.0, 21.0, 20.0, 19.0, 18.0, 17.0, 16.0, 15.0, 14.0, 13.0, 12.0, 11.0, 10.0, 9.0, 8.0, 7.0, 6.0, 5.0, 4.0, 3.0, 2.0, 1.0, -4.096399784088135, -4.494100093841553, -4.59660005569458, -4.644999980926514, -4.775899887084961, -4.896399974822998, -5.203999996185303, -5.231500148773193, -5.306700229644775, -5.308499813079834, -5.556000232696533, -5.630799770355225, -5.655300140380859, -5.685800075531006, -5.9145002365112305, -5.927199840545654, -6.041399955749512, -6.101900100708008, -6.249199867248535, -6.268599987030029, -6.290599822998047, -6.319200038909912, -6.389200210571289, -6.398600101470947, -6.401299953460693, -6.4394001960754395, -6.5142998695373535, -6.514400005340576, -6.562600135803223, -6.587699890136719, -3.6019999980926514, -5.151000022888184, -4.344099998474121, -2.972399950027466, -4.758800029754639, -5.191699981689453, -5.879000186920166, -5.647200107574463, -5.668000221252441, -5.207399845123291, -5.685500144958496, -5.85890007019043, -2.852400064468384, -5.073299884796143, -5.167399883270264, -4.105500221252441, -4.3454999923706055, -4.172900199890137, -4.96589994430542, -4.071899890899658, -4.145699977874756, -3.7376999855041504, -4.6539998054504395, -5.2895002365112305, -4.740799903869629, -4.038899898529053, -4.822800159454346, -4.846199989318848, -5.365799903869629, -5.4552001953125, -5.504000186920166, -5.5472002029418945, -5.606100082397461, -5.64139986038208, -5.743000030517578, -5.7469000816345215, -5.850500106811523, -5.924300193786621, -5.94950008392334, -5.951099872589111, -6.059299945831299, -6.127799987792969, -6.1331000328063965, -6.15500020980835, -6.171299934387207, -6.222499847412109, -6.2281999588012695, -6.2316999435424805, -6.233799934387207, -6.275000095367432, -6.27810001373291, -6.307700157165527, -6.364500045776367, -6.375899791717529, -6.426700115203857, -6.453499794006348, -6.47130012512207, -6.4721999168396, -5.986800193786621, -5.645400047302246, -4.205100059509277, -5.605000019073486, -5.768499851226807, -3.8573999404907227, -2.3714001178741455, -5.36899995803833, -5.129000186920166, -4.922699928283691, -2.8334999084472656, -5.434599876403809, -5.462600231170654, -4.742099761962891, -4.579899787902832, -4.859399795532227, -4.123799800872803, -4.950900077819824, -3.7376999855041504, -4.599899768829346, -5.137400150299072, -5.0346999168396, -4.498000144958496, -4.720900058746338, -4.944200038909912, -4.93120002746582, -4.484899997711182, -4.5802001953125, -5.208799839019775, -4.800899982452393, -4.8744001388549805, -4.951000213623047, -5.2505998611450195, -5.325799942016602, -2.4523000717163086, -3.34879994392395, -4.3343000411987305, -4.474400043487549, -4.536600112915039, -4.91510009765625, -5.729100227355957, -5.8354997634887695, -5.9984002113342285, -6.039700031280518, -6.0605998039245605, -6.066999912261963, -6.138999938964844, -6.180600166320801, -6.26639986038208, -6.27209997177124, -6.389500141143799, -6.462399959564209, -6.540900230407715, -6.621699810028076, -6.662600040435791, -6.704400062561035, -6.706900119781494, -6.738100051879883, -6.7718000411987305, -6.778500080108643, -6.846099853515625, -6.865300178527832, -6.921800136566162, -6.9359002113342285, -4.647600173950195, -4.512400150299072, -3.187299966812134, -2.046299934387207, -3.729099988937378, -5.841300010681152, -6.179100036621094, -5.491499900817871, -5.592100143432617, -4.314300060272217, -4.2204999923706055, -5.344299793243408, -3.651700019836426, -5.627399921417236, -4.565999984741211, -5.502999782562256, -4.978000164031982, -4.713799953460693, -5.691100120544434, -3.6547999382019043, -4.7052998542785645, -4.2895002365112305, -4.925099849700928, -5.331299781799316, -5.430600166320801, -5.057199954986572, -4.898499965667725, -4.464799880981445, -5.308300018310547, -5.08489990234375, -5.080100059509277, -5.388899803161621, -5.238999843597412, -3.2780001163482666, -4.93179988861084, -5.260700225830078, -5.316400051116943, -5.411300182342529, -5.534999847412109, -5.695400238037109, -5.771999835968018, -5.85290002822876, -5.869500160217285, -5.96120023727417, -6.111299991607666, -6.149899959564209, -6.16379976272583, -6.183899879455566, -6.246600151062012, -6.251699924468994, -6.275300025939941, -6.297100067138672, -6.308899879455566, -6.409200191497803, -6.416600227355957, -6.482800006866455, -6.507299900054932, -6.5391998291015625, -6.54040002822876, -6.566299915313721, -6.599800109863281, -6.655799865722656, -6.658400058746338, -3.8436999320983887, -4.412199974060059, -4.537199974060059, -4.337900161743164, -5.180699825286865, -2.3766000270843506, -5.597300052642822, -3.183799982070923, -5.066199779510498, -4.31820011138916, -4.824100017547607, -5.759799957275391, -4.682499885559082, -4.703700065612793, -3.9872000217437744, -5.121200084686279, -4.6869001388549805, -2.921600103378296, -4.514400005340576, -4.160200119018555, -5.156099796295166, -5.0503997802734375, -5.33489990234375, -4.737500190734863, -3.886699914932251, -4.905399799346924, -5.138400077819824, -4.887499809265137, -4.916500091552734, -4.998600006103516, -5.150599956512451, -4.5482001304626465, -4.594299793243408, -4.9670000076293945, -5.2652997970581055, -5.420300006866455, -5.48829984664917, -5.500999927520752, -5.542600154876709, -5.628699779510498, -5.6616997718811035, -5.6809000968933105, -5.685200214385986, -5.701099872589111, -5.707900047302246, -5.72130012512207, -5.807799816131592, -5.809500217437744, -5.817299842834473, -5.848700046539307, -5.851099967956543, -5.855400085449219, -5.9232001304626465, -5.956900119781494, -5.973400115966797, -5.973700046539307, -6.013800144195557, -6.075900077819824, -6.139800071716309, -6.146399974822998, -6.156000137329102, -5.093999862670898, -4.731100082397461, -5.666900157928467, -5.396599769592285, -4.679100036621094, -4.2667999267578125, -4.795199871063232, -4.651299953460693, -4.747399806976318, -5.563499927520752, -3.8392999172210693, -4.262800216674805, -5.452400207519531, -4.183000087738037, -5.26609992980957, -3.489000082015991, -4.64739990234375, -5.406499862670898, -4.6732001304626465, -5.260799884796143, -5.155700206756592, -4.7846999168396, -4.616700172424316, -5.3907999992370605, -4.964900016784668, -4.887599945068359, -5.344799995422363, -5.362800121307373, -5.396299839019775, -3.108799934387207, -4.474699974060059, -4.491499900817871, -4.55079984664917, -4.774600028991699, -4.828700065612793, -5.0157999992370605, -5.107600212097168, -5.220200061798096, -5.240200042724609, -5.291100025177002, -5.357600212097168, -5.433000087738037, -5.466000080108643, -5.4994001388549805, -5.549200057983398, -5.552000045776367, -5.603400230407715, -5.685500144958496, -5.710400104522705, -5.758900165557861, -5.762499809265137, -5.762800216674805, -5.832399845123291, -5.845300197601318, -5.856900215148926, -5.933599948883057, -5.95959997177124, -5.973499774932861, -5.9756999015808105, -4.986700057983398, -4.436200141906738, -4.913000106811523, -5.027200222015381, -4.5346999168396, -5.197500228881836, -5.266600131988525, -4.690400123596191, -4.921199798583984, -5.501399993896484, -2.989500045776367, -5.323299884796143, -4.187900066375732, -4.8358001708984375, -5.003300189971924, -5.077700138092041, -4.831500053405762, -4.801700115203857, -4.753900051116943, -4.861999988555908, -5.1346001625061035, -5.239699840545654, -2.0230000019073486, -3.558000087738037, -4.218299865722656, -5.003699779510498, -5.1234002113342285, -5.172900199890137, -5.40369987487793, -5.440299987792969, -5.522900104522705, -5.5304999351501465, -5.57889986038208, -5.60260009765625, -5.610400199890137, -5.621200084686279, -5.678100109100342, -5.687399864196777, -5.696400165557861, -5.713799953460693, -5.716800212860107, -5.738800048828125, -5.759900093078613, -5.769400119781494, -5.813499927520752, -5.829500198364258, -5.8796000480651855, -5.8796000480651855, -5.888999938964844, -5.891499996185303, -5.895599842071533, -5.952600002288818, -3.2894999980926514, -4.075699806213379, -5.172699928283691, -4.219900131225586, -3.5083000659942627, -3.18179988861084, -4.182300090789795, -5.18179988861084, -5.496500015258789, -5.383800029754639, -4.841899871826172, -4.945700168609619, -5.450300216674805, -5.65500020980835, -5.511000156402588, -5.492599964141846, -4.143799781799316, -4.698200225830078, -4.7393999099731445, -4.986700057983398, -5.078800201416016, -5.3404998779296875, -5.450900077819824, -5.460700035095215, -5.471099853515625, -5.541500091552734, -5.550600051879883, -5.616799831390381, -5.635799884796143, -5.663000106811523, -5.703199863433838, -5.792600154876709, -5.804900169372559, -5.80649995803833, -5.849599838256836, -5.873700141906738, -5.879300117492676, -5.958099842071533, -5.961299896240234, -5.988999843597412, -6.018799781799316, -6.050300121307373, -6.0625, -6.085700035095215, -6.091000080108643, -6.101500034332275, -4.186200141906738, -4.456699848175049, -3.7476000785827637, -3.436500072479248, -5.230599880218506, -3.988100051879883, -4.948699951171875, -4.353099822998047, -5.309599876403809, -5.2399001121521, -3.752700090408325, -5.173500061035156, -4.209400177001953, -5.374899864196777, -5.372000217437744, -5.248499870300293, -4.965400218963623, -5.019499778747559, -5.2967000007629395, -5.328800201416016, -5.366600036621094, -5.404600143432617, -5.432300090789795, -3.753499984741211, -4.124199867248535, -4.228700160980225, -4.2855000495910645, -4.592100143432617, -4.808599948883057, -4.859099864959717, -5.024600028991699, -5.0320000648498535, -5.231599807739258, -5.244800090789795, -5.271699905395508, -5.330900192260742, -5.372499942779541, -5.390600204467773, -5.443399906158447, -5.4633002281188965, -5.475299835205078, -5.52810001373291, -5.536600112915039, -5.5605998039245605, -5.562900066375732, -5.579100131988525, -5.668900012969971, -5.706399917602539, -5.900400161743164, -5.932600021362305, -5.962699890136719, -5.979000091552734, -5.9953999519348145, -3.8578999042510986, -5.091400146484375, -4.567800045013428, -5.58459997177124, -4.738399982452393, -4.881999969482422, -4.601900100708008, -5.244800090789795, -4.207799911499023, -4.76170015335083, -4.783599853515625, -4.898099899291992, -5.243500232696533, -5.072700023651123, -4.921899795532227, -5.353099822998047, -3.2311999797821045, -4.528500080108643, -4.56850004196167, -4.631899833679199, -4.735099792480469, -4.917699813842773, -5.054999828338623, -5.094900131225586, -5.1620001792907715, -5.17710018157959, -5.26669979095459, -5.322700023651123, -5.348599910736084, -5.374100208282471, -5.389800071716309, -5.3968000411987305, -5.409299850463867, -5.445400238037109, -5.556000232696533, -5.609000205993652, -5.645299911499023, -5.657700061798096, -5.663700103759766, -5.668600082397461, -5.676300048828125, -5.705999851226807, -5.755199909210205, -5.755799770355225, -5.7829999923706055, -5.817599773406982, -4.947199821472168, -3.374799966812134, -4.656099796295166, -5.068699836730957, -4.677299976348877, -4.771699905395508, -4.860400199890137, -4.106900215148926, -5.4918999671936035, -5.293799877166748, -5.132900238037109, -5.373300075531006], \"loglift\": [30.0, 29.0, 28.0, 27.0, 26.0, 25.0, 24.0, 23.0, 22.0, 21.0, 20.0, 19.0, 18.0, 17.0, 16.0, 15.0, 14.0, 13.0, 12.0, 11.0, 10.0, 9.0, 8.0, 7.0, 6.0, 5.0, 4.0, 3.0, 2.0, 1.0, 1.7335, 1.7331, 1.733, 1.733, 1.7328, 1.7326, 1.7321, 1.732, 1.7318, 1.7318, 1.7312, 1.731, 1.7309, 1.7308, 1.7299, 1.7299, 1.7294, 1.7291, 1.7283, 1.7281, 1.728, 1.7278, 1.7274, 1.7273, 1.7273, 1.727, 1.7265, 1.7265, 1.7261, 1.7259, 1.6758, 1.6411, 1.5626, 1.3831, 1.5479, 1.557, 1.6386, 1.5932, 1.5965, 1.4556, 1.5295, 1.5863, 0.4074, 1.2393, 1.2489, 0.6107, 0.738, 0.5145, 1.0283, 0.3408, 0.3304, -0.1782, 0.5191, 1.2723, 0.4535, -0.659, 0.3162, 0.0704, 1.8361, 1.8359, 1.8357, 1.8356, 1.8354, 1.8353, 1.8349, 1.8349, 1.8345, 1.8341, 1.834, 1.834, 1.8335, 1.8331, 1.833, 1.8329, 1.8328, 1.8325, 1.8325, 1.8324, 1.8324, 1.8322, 1.8321, 1.8319, 1.8315, 1.8315, 1.8311, 1.8309, 1.8307, 1.8307, 1.8067, 1.7736, 1.658, 1.7363, 1.7457, 1.3157, 0.8883, 1.6024, 1.4573, 1.3823, 0.5463, 1.4414, 1.4462, 0.9974, 0.9009, 0.9552, 0.2889, 0.9288, -0.1782, 0.4401, 0.996, 0.8274, 0.1893, 0.4181, 0.6975, 0.6106, -0.1294, -0.1041, 0.9832, 0.1157, 0.2091, 0.2433, -0.0779, -0.0792, 1.9222, 1.922, 1.9214, 1.9212, 1.9211, 1.9205, 1.9182, 1.9177, 1.9169, 1.9166, 1.9165, 1.9165, 1.916, 1.9158, 1.9152, 1.9151, 1.9142, 1.9136, 1.9129, 1.9121, 1.9117, 1.9112, 1.9112, 1.9109, 1.9105, 1.9104, 1.9095, 1.9093, 1.9085, 1.9083, 1.7832, 1.7129, 1.5288, 1.3336, 1.4436, 1.7477, 1.8072, 1.671, 1.6907, 1.3547, 1.3213, 1.6018, 1.0356, 1.6062, 1.0238, 1.4537, 0.9992, 0.7001, 1.5108, -0.395, 0.5413, 0.066, 0.7165, 1.136, 1.2498, 0.5807, 0.2958, -0.9053, 0.8251, -0.0014, -0.6674, 0.9161, -0.3225, 2.0302, 2.0285, 2.0276, 2.0274, 2.0272, 2.0267, 2.026, 2.0257, 2.0253, 2.0252, 2.0247, 2.0237, 2.0234, 2.0233, 2.0232, 2.0227, 2.0227, 2.0225, 2.0223, 2.0222, 2.0213, 2.0213, 2.0206, 2.0204, 2.0201, 2.02, 2.0198, 2.0194, 2.0188, 2.0187, 1.8233, 1.7457, 1.7446, 1.7088, 1.7707, 1.1828, 1.8255, 1.2923, 1.6998, 1.4964, 1.5738, 1.8559, 1.4509, 1.4129, 1.0527, 1.5176, 1.2903, 0.3381, 1.0754, 0.7564, 1.4183, 1.337, 1.5354, 0.7433, -0.5068, 0.7637, 0.9862, 0.2515, 0.167, 0.248, -0.7379, 2.4927, 2.4926, 2.4915, 2.4903, 2.4895, 2.4891, 2.4891, 2.4888, 2.4883, 2.488, 2.4879, 2.4879, 2.4878, 2.4877, 2.4876, 2.487, 2.4869, 2.4869, 2.4866, 2.4866, 2.4866, 2.486, 2.4857, 2.4855, 2.4855, 2.4851, 2.4845, 2.4838, 2.4837, 2.4836, 2.3779, 2.1945, 2.3848, 2.2921, 2.0463, 1.8985, 2.0607, 1.9337, 1.9554, 2.3235, 1.2997, 1.3751, 2.2039, 1.0636, 2.0233, 0.0705, 1.2147, 2.103, 1.0663, 1.8476, 1.5466, 0.6961, -0.1406, 1.8411, -0.0483, -0.4749, 1.5963, 0.8347, 1.2231, 2.5134, 2.5118, 2.5118, 2.5117, 2.5111, 2.5109, 2.5103, 2.5099, 2.5094, 2.5093, 2.5091, 2.5088, 2.5083, 2.5082, 2.508, 2.5077, 2.5076, 2.5073, 2.5067, 2.5065, 2.5062, 2.5061, 2.5061, 2.5056, 2.5055, 2.5054, 2.5047, 2.5044, 2.5043, 2.5043, 2.3342, 2.1832, 2.1989, 2.2164, 1.9634, 2.2088, 2.2332, 1.8996, 1.996, 2.3274, 0.57, 2.1211, 0.7286, 1.4908, 1.5908, 1.687, 0.8355, 0.2818, -0.2778, -0.4493, 0.9358, 1.0123, 2.8033, 2.8024, 2.8013, 2.7986, 2.798, 2.7977, 2.7962, 2.7959, 2.7953, 2.7952, 2.7948, 2.7946, 2.7945, 2.7944, 2.7939, 2.7938, 2.7937, 2.7935, 2.7935, 2.7933, 2.7931, 2.793, 2.7925, 2.7923, 2.7918, 2.7918, 2.7917, 2.7916, 2.7916, 2.7909, 2.1245, 2.19, 2.5439, 2.1329, 0.9044, 0.0779, 0.505, 1.8876, 2.2278, 1.9851, 0.3308, 0.0943, 1.8407, 2.5095, 0.8727, 0.3695, 2.8546, 2.8529, 2.8528, 2.8517, 2.8512, 2.8495, 2.8487, 2.8486, 2.8485, 2.8479, 2.8478, 2.8472, 2.8471, 2.8468, 2.8464, 2.8454, 2.8453, 2.8453, 2.8448, 2.8445, 2.8444, 2.8434, 2.8433, 2.843, 2.8426, 2.8421, 2.8419, 2.8416, 2.8415, 2.8413, 2.6597, 2.6269, 2.5197, 2.4588, 2.6668, 2.3472, 2.5788, 2.153, 2.5248, 2.4491, 1.4416, 2.1954, 0.2033, 2.1025, 1.8105, 1.4502, 0.2812, 0.0204, 1.1012, 1.0549, 0.9601, 0.237, 0.9205, 2.8688, 2.8681, 2.8679, 2.8677, 2.8668, 2.866, 2.8657, 2.8649, 2.8649, 2.8637, 2.8636, 2.8634, 2.863, 2.8627, 2.8626, 2.8622, 2.862, 2.8619, 2.8614, 2.8614, 2.8611, 2.8611, 2.861, 2.8601, 2.8597, 2.8575, 2.8571, 2.8567, 2.8564, 2.8562, 2.3397, 2.6355, 2.3652, 2.6937, 2.2844, 2.236, 1.8411, 2.4252, 0.9649, 1.6221, 1.5707, 1.3539, 2.1748, 1.0608, 0.1181, 1.6335, 3.0199, 3.0172, 3.017, 3.0167, 3.0163, 3.0154, 3.0145, 3.0143, 3.0138, 3.0137, 3.013, 3.0126, 3.0124, 3.0121, 3.012, 3.0119, 3.0118, 3.0115, 3.0104, 3.0098, 3.0094, 3.0093, 3.0092, 3.0091, 3.009, 3.0087, 3.0081, 3.0081, 3.0077, 3.0072, 2.8556, 2.5049, 2.7162, 2.7392, 2.4145, 2.4097, 2.1901, 0.3058, 2.6887, 1.09, 0.1449, 0.1685]}, \"token.table\": {\"Topic\": [2, 4, 5, 2, 7, 9, 6, 10, 1, 1, 2, 3, 4, 6, 7, 9, 1, 6, 5, 5, 9, 2, 1, 2, 5, 10, 1, 2, 3, 4, 8, 2, 10, 6, 1, 2, 3, 4, 5, 6, 1, 4, 5, 7, 1, 7, 9, 10, 1, 1, 6, 10, 9, 9, 9, 4, 8, 4, 10, 6, 1, 7, 10, 3, 2, 3, 4, 9, 6, 2, 8, 1, 2, 8, 9, 5, 1, 4, 5, 6, 8, 5, 7, 5, 9, 2, 3, 4, 1, 1, 3, 2, 1, 3, 8, 3, 1, 4, 1, 2, 3, 4, 10, 3, 4, 8, 3, 10, 1, 2, 3, 5, 7, 8, 9, 1, 6, 3, 2, 5, 1, 2, 3, 4, 1, 3, 3, 7, 9, 1, 6, 2, 1, 4, 10, 1, 2, 6, 8, 7, 5, 2, 4, 5, 10, 2, 3, 4, 8, 1, 6, 7, 6, 10, 9, 1, 3, 4, 5, 6, 7, 6, 9, 3, 5, 9, 3, 9, 1, 2, 3, 4, 5, 6, 1, 2, 6, 1, 3, 7, 1, 2, 3, 4, 7, 2, 8, 1, 4, 3, 1, 2, 7, 4, 1, 4, 5, 6, 7, 10, 10, 1, 6, 1, 8, 1, 8, 1, 2, 4, 5, 5, 7, 2, 5, 4, 8, 10, 2, 1, 2, 4, 6, 1, 2, 3, 5, 9, 10, 1, 2, 4, 8, 9, 1, 7, 8, 5, 4, 2, 10, 8, 1, 5, 6, 2, 3, 4, 6, 1, 4, 5, 6, 7, 8, 9, 2, 5, 7, 1, 6, 2, 8, 7, 4, 2, 9, 1, 4, 10, 8, 6, 4, 8, 2, 3, 4, 3, 1, 1, 5, 9, 2, 3, 4, 8, 1, 2, 3, 4, 9, 4, 4, 5, 6, 2, 4, 7, 1, 8, 8, 4, 4, 9, 10, 10, 4, 6, 1, 10, 4, 6, 6, 1, 9, 4, 5, 5, 4, 5, 8, 6, 1, 10, 6, 10, 7, 1, 5, 6, 4, 1, 3, 4, 6, 10, 9, 8, 9, 4, 5, 9, 5, 5, 6, 4, 5, 2, 1, 6, 8, 5, 10, 1, 2, 9, 1, 8, 2, 3, 6, 2, 7, 8, 9, 10, 3, 6, 6, 7, 5, 10, 7, 2, 3, 4, 2, 3, 4, 8, 2, 1, 2, 4, 5, 6, 8, 9, 6, 1, 6, 1, 2, 3, 3, 5, 10, 1, 6, 3, 2, 1, 2, 4, 2, 2, 2, 5, 7, 8, 9, 10, 2, 4, 5, 10, 2, 4, 6, 7, 2, 3, 10, 3, 5, 4, 6, 3, 8, 1, 2, 4, 5, 7, 8, 9, 4, 5, 6, 4, 2, 7, 10, 1, 2, 3, 4, 5, 6, 8, 2, 7, 1, 8, 5, 1, 9, 1, 5, 6, 9, 8, 5, 6, 3, 5, 9, 1, 10, 1, 5, 1, 6, 1, 2, 3, 4, 7, 6, 6, 1, 3, 3, 3, 6, 1, 2, 3, 6, 9, 10, 1, 1, 3, 6, 10, 10, 1, 3, 5, 5, 6, 3, 8, 8, 8, 3, 3, 9, 1, 3, 9, 2, 10, 8, 5, 1, 2, 3, 4, 5, 6, 7, 3, 1, 4, 1, 2, 3, 5, 6, 8, 1, 2, 3, 4, 5, 6, 7, 8, 9, 10, 4, 1, 5, 6, 8, 3, 4, 2, 5, 7, 2, 4, 6, 1, 5, 3, 3, 3, 9, 2, 10, 5, 1, 4, 9, 6, 7, 2, 1, 10, 8, 9, 2, 4, 1, 9, 2, 6, 4, 5, 6, 1, 7, 4, 2, 7, 2, 9, 1, 2, 4, 5, 6, 2, 4, 8, 2, 6, 1, 2, 3, 4, 5, 4, 5, 5, 1, 2, 5, 7, 9, 1, 2, 7, 7, 1, 8, 3, 2, 3, 4, 9, 3, 3, 4, 8, 10, 9, 5, 2, 7, 2, 1, 2, 3, 7, 8, 9, 2, 5, 8, 9, 10, 8, 1, 2, 3, 2, 3, 1, 2, 4, 1, 6, 4, 2, 4, 8, 9, 9, 6, 7, 3, 6, 7, 9, 1, 2, 3, 4, 6, 2, 7, 2, 4, 6, 10, 2, 3, 7, 9, 2, 9, 3, 2, 1, 2, 3, 4, 3, 5, 10, 7, 7, 7, 8, 4, 5, 3, 7, 7, 8, 3, 5, 9, 9, 4, 9, 1, 8, 7, 3, 8, 10, 2, 2, 5, 2, 3, 4, 10, 2, 1, 5, 1, 8, 9, 8, 10, 7, 1, 3, 4, 1, 7, 1, 2, 3, 4, 5, 6, 3, 2, 4, 5, 9, 7, 8, 2, 3, 4, 1, 1, 6, 4, 5, 4, 6, 9, 2, 3, 4, 6, 1, 4, 5, 5, 5, 4, 8, 8, 2, 3, 9, 1, 2, 3, 1, 10, 1, 10, 4], \"Freq\": [0.41331061311182987, 0.586306153827198, 0.9939665368079266, 0.9887991059241348, 0.9827070225917005, 0.9866887759650194, 0.992849655320732, 0.9930135971410844, 0.9949945259642461, 0.16377402081854608, 0.24667198197361262, 0.25475958793996056, 0.09401841935879497, 0.20623395214187284, 0.0353832761027723, 0.992311999387584, 0.9982974162009295, 0.9978719408027257, 0.9906080561258815, 0.9914844947417788, 0.9950484158043494, 0.9897103867173721, 0.15561879112273883, 0.2123084936031651, 0.5502235828982551, 0.0800325211488371, 0.2778477144758042, 0.20291302784445095, 0.19659830706090994, 0.07956548187261665, 0.24290625947354397, 0.9385211430125348, 0.05841417902567644, 0.9957321211143466, 0.36929941896047147, 0.19595479373412772, 0.146212423017003, 0.15525649042011658, 0.026001693783951563, 0.10739830041197385, 0.3111305462007013, 0.1627012948022016, 0.5223567885754894, 0.9811163125639699, 0.24622148609639893, 0.7468718411590768, 0.26015601269788685, 0.7358698644883085, 0.9982576933928884, 0.2692604682043604, 0.7304406318309776, 0.994600250419104, 0.9922353077328768, 0.9871485239530654, 0.980441816249257, 0.9939664910584732, 0.9855453644334595, 0.9958983234211772, 0.9992301656905905, 0.9934713443235179, 0.9923750064395755, 0.9925780772262112, 0.9981476583816886, 0.9974139997613961, 0.2670546229899026, 0.21569796472261366, 0.15847197408192024, 0.35656194168432054, 0.9977017773696861, 0.9684163378389853, 0.028316267188274423, 0.2779965918345053, 0.3057962510179558, 0.12383484545355236, 0.29063280055425555, 0.9909672253347099, 0.2547183185828369, 0.05878115044219312, 0.17634345132657936, 0.3592181415911802, 0.15021849557449354, 0.8910219547398495, 0.10675839089048889, 0.9966129652100073, 0.9946664957311574, 0.21940306321739245, 0.6613435191267115, 0.11597019055776457, 0.9935972573391673, 0.2718147352655607, 0.7256482664678808, 0.9972043722752482, 0.5427759387597313, 0.4555709402886387, 0.992955274857034, 0.981889737247194, 0.9970586311160216, 0.993417190545442, 0.49365018670488475, 0.2538504755161741, 0.2032677239373055, 0.04964603395703775, 0.9936661977063644, 0.193565815113175, 0.6339981770373558, 0.17252605260087336, 0.45445467876381357, 0.54350323068375, 0.14156684007274353, 0.31934845318735167, 0.2995949406190619, 0.05465138477226843, 0.05333448393438244, 0.07308799650267224, 0.058602087285926384, 0.9982740779202728, 0.9981196036299149, 0.9992209521950257, 0.9965708856728569, 0.9974324506703489, 0.6092181503521081, 0.17903028097028126, 0.11205492406053574, 0.09917504773173853, 0.32516530832534224, 0.6746005794711154, 0.8109634278811808, 0.057841641872165735, 0.12984858379465777, 0.8708922499596587, 0.12679657279106143, 0.996142660221794, 0.996490668498028, 0.9913408641469409, 0.9947556402773973, 0.2969592395600757, 0.10471720552907933, 0.10315426216297366, 0.4954530470554947, 0.9948534295303556, 0.9861100219679594, 0.24730319225672492, 0.7519016249421637, 0.9918488283654533, 0.9865711197230836, 0.15091706556646908, 0.5671233226219781, 0.281531386886328, 0.9856757619547629, 0.9981157547439578, 0.9901988478824656, 0.9853996976480296, 0.9930867853967391, 0.9872586545083614, 0.9988705957632726, 0.9966297920068793, 0.9934629265199515, 0.9866798804186219, 0.7394420207998493, 0.2567837242648995, 0.9943603133633448, 0.9985955259055903, 0.9792694691443702, 0.9902905838465473, 0.9937804829265453, 0.994067743363128, 0.986467506378762, 0.9927834183231995, 0.18941930042394825, 0.1785771182447997, 0.10587072010227411, 0.27966452267980235, 0.07876526465440273, 0.16773493606565115, 0.26346074500911815, 0.1937711285873514, 0.5405194639541908, 0.19821102293634368, 0.2946946954767861, 0.5070636486228687, 0.39063389642788215, 0.1761054451109305, 0.08111523532382253, 0.352210890221861, 0.9945035709717142, 0.3316113929485138, 0.6632227858970275, 0.9976336367919114, 0.9963239330545609, 0.9844118835015869, 0.9930555315723842, 0.9927535191770767, 0.9914551022375979, 0.9969345258698888, 0.23906662965358103, 0.34531846505517255, 0.4081036405197494, 0.007244443322835788, 0.9924989439957952, 0.9962551287030671, 0.9817103139864115, 0.8297703736635748, 0.16902729833887634, 0.32753703635485887, 0.6720449036089332, 0.2772776438261359, 0.7197419690806081, 0.1336174883193903, 0.43135210903107524, 0.19534295846693475, 0.23964006057281959, 0.8395197927239008, 0.15546662828220384, 0.9899682608576478, 0.9862667377106544, 0.9971040054460725, 0.9885348527512438, 0.9889261430066976, 0.9944373338778917, 0.12137505338645396, 0.09930686186164416, 0.7525253309960146, 0.026481829829771774, 0.629616398313182, 0.10410979814627418, 0.03305072957024577, 0.04957609435536866, 0.08097428744710214, 0.1008047251892496, 0.7569793046065277, 0.069481192210261, 0.12067786015466384, 0.05119666794440284, 0.9985939784055263, 0.34323798204287087, 0.5108346529622414, 0.14480352367433616, 0.9898424327366757, 0.9888613951909917, 0.4026591312898837, 0.5964701654377115, 0.9951484802902274, 0.3689580257840008, 0.3879764807213204, 0.24153437770395927, 0.4246879052334015, 0.2660007578478025, 0.30253305077110587, 0.005708170769266149, 0.26516258142873084, 0.04453112054528304, 0.25099358852795894, 0.4372146380809608, 0.9933937998945673, 0.9918543544503396, 0.9988859804287227, 0.3118110668878806, 0.1215534667529026, 0.5602029337307686, 0.254871084438566, 0.7417402072763395, 0.9919560071873464, 0.9853080680676164, 0.9913573175690144, 0.9828797966588428, 0.9910518883328625, 0.9955485441311246, 0.9934979531287244, 0.2752290232103207, 0.717263515032957, 0.9851794365082305, 0.9927757924266629, 0.1778374687719784, 0.8211260903792582, 0.2552274055291114, 0.14635417659711283, 0.597910355610156, 0.9855425240582967, 0.9991142500159605, 0.2795622789621707, 0.1873355477581556, 0.5303037044230866, 0.1631839276754763, 0.40702198052388916, 0.38451385256865106, 0.04501625591047622, 0.09135846353474575, 0.2745555026498403, 0.5549409372820029, 0.07908131265432572, 0.9974198676707325, 0.9865494761912539, 0.17696429853979517, 0.5822696274535196, 0.237855239972843, 0.9924722201818994, 0.9924105824533124, 0.9957193266366576, 0.9921313327811904, 0.987055989289112, 0.9871536438478697, 0.9960838333980939, 0.9935593503792408, 0.9956029320952872, 0.9926629169603277, 0.9884725332178941, 0.9883520067365482, 0.9902554142482474, 0.9984389400518011, 0.9935604481611332, 0.8125137807500356, 0.18641213922444705, 0.999759998753207, 0.9068115400122077, 0.08595370047509077, 0.31974019979993945, 0.6778492235758716, 0.9924962331606717, 0.7710270348022275, 0.17079712796251872, 0.05611905633054187, 0.9959636607391903, 0.24131066527010825, 0.7526594559615281, 0.9955092290602483, 0.9894695355001188, 0.985801609793252, 0.86351345853731, 0.13592341476976175, 0.9901620252785944, 0.99963336326579, 0.21996564937292298, 0.7774128429892346, 0.9841477383446667, 0.9892719468453124, 0.9945937616783178, 0.9889133076964163, 0.8293618277693248, 0.16964219204372552, 0.4779812605120184, 0.5199661009623984, 0.9970333197953886, 0.9931047704958996, 0.9898904345815447, 0.9956745407392097, 0.9978907705049248, 0.9978777546130375, 0.9930568227771037, 0.3235392601563603, 0.6750387032891962, 0.9905598010628441, 0.9952284111529933, 0.9945634656938097, 0.8419854696523265, 0.12101931826807139, 0.036048307569212755, 0.39791317103192797, 0.60082253639258, 0.6824588316234511, 0.18289219309015564, 0.13378225235298422, 0.17294578447331674, 0.4007949925889563, 0.0851003066456003, 0.22510403693352338, 0.11529718964887783, 0.989080572866323, 0.9969334929409702, 0.7557041131813121, 0.24064320922533403, 0.9926985481426278, 0.9953793595062786, 0.9932137571508353, 0.07404370834768255, 0.20041163726106076, 0.7246410923626532, 0.14862348727049662, 0.1362381966646219, 0.23944895171357788, 0.4706410430232393, 0.9958496206279337, 0.029712466927321973, 0.391307583306995, 0.2758213910989134, 0.16538071214264116, 0.07344024844300337, 0.03475798017913136, 0.029151854343787593, 0.9948882006943907, 0.9992770522657752, 0.9914558000171185, 0.26232982418188416, 0.22698041524957355, 0.5097756867080586, 0.44990978070344917, 0.1131509628116459, 0.436439427987777, 0.8696671663263141, 0.13028721592903583, 0.9946891597551848, 0.9967872106725403, 0.2967364287618961, 0.5926485896661202, 0.1104518929280391, 0.9953089583336856, 0.9983903388952406, 0.22128094473035143, 0.037341159423246804, 0.14521561997929314, 0.16457770264319888, 0.2876652281494569, 0.14521561997929314, 0.6756706282675802, 0.32263856989939815, 0.9946655888931574, 0.9824925503316668, 0.20472434959332067, 0.6096736125251637, 0.18447688644672852, 0.9975475516031839, 0.1290180346076374, 0.8697845029728364, 0.9824777983594323, 0.9935480832846386, 0.990960309613846, 0.9952756524937707, 0.9971844907400851, 0.9981530208667944, 0.993183122652806, 0.13420276123537125, 0.24675991581987616, 0.3762727956142264, 0.05375325651631806, 0.06674062050683785, 0.058803898068186866, 0.06385453962005568, 0.2852965145870772, 0.13644615915034128, 0.5767951273173518, 0.9934331875393266, 0.45933146511368206, 0.44081003506877553, 0.09631143623351397, 0.08250205075509369, 0.14681816559105382, 0.2514981869792372, 0.16810901739881992, 0.23907852342470698, 0.03592831242560531, 0.07629221897782858, 0.22548459228452195, 0.7708426759494121, 0.48153560864679057, 0.5148726892454145, 0.992311669114666, 0.9938493145564189, 0.9954998763733368, 0.9985814834881495, 0.20983787074441543, 0.5965054078464843, 0.19333376855103443, 0.989099332862027, 0.8159648474131354, 0.17849231037162336, 0.22042949802506065, 0.19057967016750035, 0.5878119947334951, 0.9431737557215386, 0.056288390079451356, 0.8386941324786465, 0.16136395422985836, 0.9973667155693645, 0.9946145337260209, 0.26531484432114605, 0.3865373305045583, 0.09853508661170488, 0.1840538099302586, 0.06550758535852232, 0.9973625564291431, 0.9970931627779952, 0.9924706963819643, 0.9907225111048799, 0.9930726627036083, 0.840072204182209, 0.1569365656164566, 0.05576557802276376, 0.26185575767210806, 0.23882214935835783, 0.22306231209105504, 0.21942542656783132, 0.9863293078113556, 0.99207326666988, 0.3728221237338784, 0.6254581681061776, 0.9973359423632671, 0.9953572038209081, 0.9937516915829536, 0.9949242779232944, 0.9988950610882847, 0.9933174783060968, 0.28008316640513387, 0.7177131139131555, 0.9930646243933536, 0.9830315327152186, 0.9931903838604359, 0.9972895478869891, 0.995432112292375, 0.39519766624501523, 0.6035746175378415, 0.2232275581763909, 0.7279159505751877, 0.04529254803578946, 0.9957257890924558, 0.9902621441629057, 0.9804775050845072, 0.9872093367146225, 0.24217872950998526, 0.24138208895238664, 0.0007966405575986357, 0.16888779821091077, 0.3027234118874816, 0.04421355094672428, 0.9945997144662092, 0.9937949832597688, 0.9981907660395803, 0.99667557760441, 0.20843216503269396, 0.2576979494949671, 0.05873997378194103, 0.09663673106061266, 0.13074381261141713, 0.24443408444743203, 0.24815693770096556, 0.2123206097410435, 0.074948019228009, 0.0628099081448096, 0.051249802351286365, 0.05163513921107047, 0.14970337002612596, 0.07032397691059972, 0.01252344794298351, 0.06627793988286658, 0.9959784308225615, 0.1299901711181768, 0.622584503776531, 0.24287637235238296, 0.9807158281958169, 0.7918286669417287, 0.20390437775323486, 0.789026633818847, 0.13938640849796666, 0.06969320424898333, 0.8348622603701139, 0.16516467946298513, 0.9887398138141541, 0.0953060209181038, 0.8944103501545128, 0.9904941177336501, 0.9917406928250944, 0.44019860080014794, 0.55548871053352, 0.45199510744549215, 0.54464006735668, 0.9891276111755734, 0.48474786194787123, 0.2417025350432599, 0.2725867478543431, 0.9929320371716371, 0.9901462078656885, 0.995152411300102, 0.1486195264068581, 0.8459880733928845, 0.7552061935311176, 0.23871460140351417, 0.27969826721241975, 0.7174868593709898, 0.2066212650060334, 0.7893991919461276, 0.26145142886309447, 0.738215799142855, 0.19657405875531372, 0.638379121502405, 0.16348733599451834, 0.9966769258178791, 0.9983931151378241, 0.9969623601180208, 0.91234659700289, 0.0856663471364216, 0.9949977648883955, 0.9970876326459708, 0.24571312012051333, 0.14328133487395012, 0.47787814840480786, 0.07164066743697506, 0.061376961500445686, 0.32584272642131823, 0.32276873843621146, 0.3504346303021724, 0.9927409185941304, 0.9880248375757882, 0.2328676739736095, 0.1436563960569591, 0.2610741809619622, 0.0354221250551406, 0.3260147435630533, 0.8390806771587205, 0.15643877031772754, 0.9915410627843826, 0.27006197586487807, 0.36363968178766254, 0.27827054655985917, 0.08783170643629773, 0.9953356825195981, 0.9112318027476889, 0.08737839204429894, 0.9827944001983572, 0.9953737985240197, 0.2855836341436436, 0.713959085359109, 0.9992008475428752, 0.17227900260697201, 0.10336740156418321, 0.559906758472659, 0.1636650524766234, 0.9997629148777698, 0.9998268856742062, 0.9906027167177155, 0.995594554678752, 0.9915829215242775, 0.9925782099338627, 0.9954680419552304, 0.9909348515316009, 0.9896406278252428, 0.9947950924321403, 0.295392793518539, 0.19219548282150434, 0.4120285746503226, 0.10040819419170939, 0.9866616332839533, 0.9788933024902887, 0.90082400466015, 0.09368569648465559, 0.9934550633762058, 0.9933855496054547, 0.9848477438591475, 0.9886481123502965, 0.7039609431565498, 0.13973688403831228, 0.1562942492043102, 0.6339958713810805, 0.3655702000302198, 0.157770037563012, 0.3017749040634793, 0.538959390064249, 0.6008038261181727, 0.397691168992995, 0.9877434471105699, 0.1478753028832372, 0.12063511551000929, 0.2295958650029209, 0.49810628339616736, 0.9949101020795454, 0.9963650999517392, 0.9917321336667276, 0.9922203121562915, 0.9855607724363811, 0.1563362581121764, 0.8368587934240032, 0.07214102158683498, 0.43069266619005964, 0.33378681629729623, 0.08506180157253677, 0.07752467991421073, 0.9913047034651968, 0.9888252099414615, 0.9944306090869299, 0.9906114165129877, 0.8272311832300872, 0.16427285908115208, 0.14707589975259752, 0.6196138745879739, 0.08445534859742995, 0.14872380899352297, 0.9940405368711931, 0.9894515524498727, 0.9966793792107668, 0.993682236738084, 0.6158157638157664, 0.0885860263493678, 0.1343078464006544, 0.16145517705610582, 0.9858546322082536, 0.9926186514615762, 0.9960927511556399, 0.9996225934739446, 0.9977802781613823, 0.9963551951479838, 0.9955743418715849, 0.24686986100794517, 0.7455469802439945, 0.6167439124205315, 0.3803254126593278, 0.9915545704808437, 0.9960037764742746, 0.9930933325024837, 0.3553873688979416, 0.640698355196289, 0.9794302484437049, 0.9965317693512364, 0.9962414815530196, 0.9953403370372285, 0.9854552654987673, 0.9945629740937895, 0.9915304440640205, 0.9955411601842505, 0.9939889290012496, 0.9952547424126825, 0.9974057045509789, 0.9958096588521219, 0.2925906452109262, 0.5482350175031612, 0.10070838908481981, 0.05780303988892025, 0.99099985697943, 0.350391379691959, 0.6475587523421015, 0.9949504470466263, 0.9906352963802074, 0.9931951318047557, 0.7936660215084362, 0.20328989322847665, 0.994125001792391, 0.12524744644028968, 0.3969238927629768, 0.47704542100051506, 0.4572169551135447, 0.5420233258200893, 0.14775260885930003, 0.13305943275606963, 0.05918312832641962, 0.42840048090927046, 0.08848739575018079, 0.1431558610281218, 0.9879174793515636, 0.6719933397602815, 0.10181717269095175, 0.1606448724679461, 0.06335290745214776, 0.9938372018079739, 0.9882817966569836, 0.17235643453890262, 0.2844717851612956, 0.5421697552485869, 0.9897468370579167, 0.1623975881203101, 0.8367006170546412, 0.992320006863257, 0.9936320675652337, 0.8131025011537761, 0.1837298920876321, 0.9815073465882084, 0.1415797569562201, 0.10965490979942538, 0.49969325984548274, 0.24845859308983725, 0.21480009473852946, 0.21310875540987964, 0.5699813537549955, 0.9876242418764143, 0.9978611936718137, 0.9892970372426425, 0.9957674874743433, 0.9897999806938736, 0.9968568601178651, 0.892778992989478, 0.10301296072955515, 0.8161513077040018, 0.18418978928728444, 0.9930316748174911, 0.9943036788378372, 0.9942693749328707, 0.9907920265297062, 0.9857594363327019, 0.9953791265275207], \"Term\": [\"10\", \"10\", \"100\", \"20\", \"90\\ub144\", \"OO\", \"OST\", \"good\", \"ost\", \"\\uac00\\ub2e4\", \"\\uac00\\ub2e4\", \"\\uac00\\ub2e4\", \"\\uac00\\ub2e4\", \"\\uac00\\ub2e4\", \"\\uac00\\ub2e4\", \"\\uac00\\ubcf4\\ub2e4\", \"\\uac00\\uc2b4\", \"\\uac00\\uc871\", \"\\uac00\\uc9c0\\ub2e4\", \"\\uac00\\uce58\", \"\\uac08\\ub2e4\", \"\\uac08\\uc218\\ub85d\", \"\\uac10\\ub3c5\", \"\\uac10\\ub3c5\", \"\\uac10\\ub3c5\", \"\\uac10\\ub3c5\", \"\\uac10\\ub3d9\", \"\\uac10\\ub3d9\", \"\\uac10\\ub3d9\", \"\\uac10\\ub3d9\", \"\\uac10\\ub3d9\", \"\\uac15\\ucd94\", \"\\uac15\\ucd94\", \"\\uac16\\ub2e4\", \"\\uac19\\ub2e4\", \"\\uac19\\ub2e4\", \"\\uac19\\ub2e4\", \"\\uac19\\ub2e4\", \"\\uac19\\ub2e4\", \"\\uac19\\ub2e4\", \"\\uac1c\\uc778\", \"\\uac1c\\uc778\", \"\\uac1c\\uc778\", \"\\uac74\\uac00\", \"\\uac74\\uc9c0\\ub2e4\", \"\\uac74\\uc9c0\\ub2e4\", \"\\uac78\\uc791\", \"\\uac78\\uc791\", \"\\uacb0\\ub9d0\", \"\\uacf5\\uac10\", \"\\uacf5\\uac10\", \"\\uacf5\\ud3ec\", \"\\uacf5\\ud3ec\\uc601\\ud654\", \"\\uacfc\\uac70\", \"\\uacfc\\uc758\", \"\\uad00\\uac1d\", \"\\uad00\\ub78c\", \"\\uad00\\uc2ec\", \"\\uad1c\\ucc2e\\ub2e4\", \"\\uad50\\ud6c8\", \"\\uad6c\\uc131\", \"\\uad6d\\ubbfc\", \"\\uad73\\ub2e4\", \"\\uadc0\\uc5fd\\ub2e4\", \"\\uadf8\\ub0e5\", \"\\uadf8\\ub0e5\", \"\\uadf8\\ub0e5\", \"\\uadf8\\ub0e5\", \"\\uadf8\\ub140\", \"\\uadf8\\ub54c\", \"\\uadf8\\ub54c\", \"\\uadf8\\ub798\\ub3c4\", \"\\uadf8\\ub798\\ub3c4\", \"\\uadf8\\ub798\\ub3c4\", \"\\uadf8\\ub798\\ub3c4\", \"\\uadf8\\ub7ec\\ub098\", \"\\uadf8\\ub9ac\\uace0\", \"\\uadf8\\ub9ac\\uace0\", \"\\uadf8\\ub9ac\\uace0\", \"\\uadf8\\ub9ac\\uace0\", \"\\uadf8\\ub9ac\\uace0\", \"\\uadf8\\ub9ac\\ub2e4\", \"\\uadf8\\ub9ac\\ub2e4\", \"\\uadf9\\uc7a5\", \"\\uadf9\\uc7a5\\ud310\", \"\\uadfc\\ub370\", \"\\uadfc\\ub370\", \"\\uadfc\\ub370\", \"\\uae30\\ub2e4\", \"\\uae30\\ub300\", \"\\uae30\\ub300\", \"\\uae30\\ubd84\", \"\\uae30\\uc5b5\", \"\\uae30\\uc5b5\", \"\\uae30\\uc5b5\\ub098\\ub2e4\", \"\\uae34\\uc7a5\", \"\\uae4a\\ub2e4\", \"\\uae4a\\uc774\", \"\\uae4c\\uc9c0\", \"\\uae4c\\uc9c0\", \"\\uae4c\\uc9c0\", \"\\uae4c\\uc9c0\", \"\\uafc0\\uc7bc\", \"\\ub098\\ub2e4\", \"\\ub098\\ub2e4\", \"\\ub098\\ub2e4\", \"\\ub098\\ub984\", \"\\ub098\\ub984\", \"\\ub098\\uc624\\ub2e4\", \"\\ub098\\uc624\\ub2e4\", \"\\ub098\\uc624\\ub2e4\", \"\\ub098\\uc624\\ub2e4\", \"\\ub098\\uc624\\ub2e4\", \"\\ub098\\uc624\\ub2e4\", \"\\ub098\\uc624\\ub2e4\", \"\\ub0a8\\ub2e4\", \"\\ub0a8\\uc790\", \"\\ub0ae\\ub2e4\", \"\\ub0b4\\ub0b4\", \"\\ub0b4\\ub2e4\", \"\\ub0b4\\uc6a9\", \"\\ub0b4\\uc6a9\", \"\\ub0b4\\uc6a9\", \"\\ub0b4\\uc6a9\", \"\\ub108\\ubb34\", \"\\ub108\\ubb34\", \"\\ub118\\ub2e4\", \"\\ub118\\ub2e4\", \"\\ub118\\ub2e4\", \"\\ub178\\ub798\", \"\\ub178\\ub798\", \"\\ub192\\ub2e4\", \"\\ub204\\uad6c\", \"\\ub204\\uad70\\uac00\", \"\\ub204\\ub098\", \"\\ub208\\ubb3c\", \"\\ub208\\ubb3c\", \"\\ub208\\ubb3c\", \"\\ub208\\ubb3c\", \"\\ub208\\ubb3c\\ub098\\ub2e4\", \"\\ub208\\ube5b\", \"\\ub290\\ub07c\\ub2e4\", \"\\ub290\\ub07c\\ub2e4\", \"\\ub2e4\\ub8e8\\ub2e4\", \"\\ub2e4\\uc18c\", \"\\ub2e4\\uc2dc\", \"\\ub2e4\\uc2dc\", \"\\ub2e4\\uc2dc\", \"\\ub2e4\\uc591\\ud558\\ub2e4\", \"\\ub2e4\\uc74c\", \"\\ub2e8\\uc21c\\ud558\\ub2e4\", \"\\ub2e8\\uc5f0\", \"\\ub2ff\\ub2e4\", \"\\ub300\\ub85c\", \"\\ub300\\ubc15\", \"\\ub300\\uc0ac\", \"\\ub300\\uc548\", \"\\ub300\\uc758\", \"\\ub300\\ud55c\", \"\\ub300\\ud55c\", \"\\ub300\\ud55c\\ubbfc\\uad6d\", \"\\ub300\\ud574\", \"\\ub354\\ubd88\\ub2e4\", \"\\ub365\\ub2e4\", \"\\ub3c5\\ud2b9\\ud558\\ub2e4\", \"\\ub3cb\\ub2e4\", \"\\ub3cc\\ub9ac\\ub2e4\", \"\\ub3d9\\ud654\", \"\\ub418\\ub2e4\", \"\\ub418\\ub2e4\", \"\\ub418\\ub2e4\", \"\\ub418\\ub2e4\", \"\\ub418\\ub2e4\", \"\\ub418\\ub2e4\", \"\\ub418\\uc5b4\\ub2e4\", \"\\ub418\\uc5b4\\ub2e4\", \"\\ub418\\uc5b4\\ub2e4\", \"\\ub4dc\\ub77c\\ub9c8\", \"\\ub4dc\\ub77c\\ub9c8\", \"\\ub4dc\\ub77c\\ub9c8\", \"\\ub4e4\\ub2e4\", \"\\ub4e4\\ub2e4\", \"\\ub4e4\\ub2e4\", \"\\ub4e4\\ub2e4\", \"\\ub514\\uc988\\ub2c8\", \"\\ub530\\ub2e4\", \"\\ub530\\ub2e4\", \"\\ub530\\ub73b\\ud558\\ub2e4\", \"\\ub5a0\\ub098\\ub2e4\", \"\\ub5bc\\ub2e4\", \"\\ub610\\ud55c\", \"\\ub6f0\\uc5b4\\ub098\\ub2e4\", \"\\ub728\\ub2e4\", \"\\ub77c\\uace0\", \"\\ub77c\\ub294\", \"\\ub77c\\ub294\", \"\\ub77c\\ub294\", \"\\ub77c\\ub294\", \"\\ub77c\\ub3c4\", \"\\ub85c\\ub9e8\\uc2a4\", \"\\ub9c8\\ub974\\ub2e4\", \"\\ub9c8\\uc74c\", \"\\ub9c8\\uc74c\", \"\\ub9c8\\uc9c0\\ub9c9\", \"\\ub9c8\\uc9c0\\ub9c9\", \"\\ub9cc\\ub098\\ub2e4\", \"\\ub9cc\\ub098\\ub2e4\", \"\\ub9cc\\ub4e4\\ub2e4\", \"\\ub9cc\\ub4e4\\ub2e4\", \"\\ub9cc\\ub4e4\\ub2e4\", \"\\ub9cc\\ub4e4\\ub2e4\", \"\\ub9cc\\uc73c\\ub85c\\ub3c4\", \"\\ub9cc\\uc73c\\ub85c\\ub3c4\", \"\\ub9cc\\uc758\", \"\\ub9cc\\uc774\", \"\\ub9cc\\uc810\", \"\\ub9cc\\uc871\", \"\\ub9cc\\ud558\", \"\\ub9cc\\ud654\", \"\\ub9ce\\ub2e4\", \"\\ub9ce\\ub2e4\", \"\\ub9ce\\ub2e4\", \"\\ub9ce\\ub2e4\", \"\\ub9e4\\ub825\", \"\\ub9e4\\ub825\", \"\\ub9e4\\ub825\", \"\\ub9e4\\ub825\", \"\\ub9e4\\ub825\", \"\\ub9e4\\ub825\", \"\\uba39\\ub2e4\", \"\\uba39\\ub2e4\", \"\\uba39\\ub2e4\", \"\\uba39\\ub2e4\", \"\\uba4b\\uc788\\ub2e4\", \"\\uba4b\\uc9c0\\ub2e4\", \"\\uba4b\\uc9c0\\ub2e4\", \"\\uba4b\\uc9c0\\ub2e4\", \"\\uba54\\uc138\\uc9c0\", \"\\uba5c\\ub85c\", \"\\uba85\\uc791\", \"\\uba85\\uc791\", \"\\uba87\\ubc88\", \"\\ubaa8\\ub4e0\", \"\\ubaa8\\ub4e0\", \"\\ubaa8\\ub4e0\", \"\\ubaa8\\ub974\\ub2e4\", \"\\ubaa8\\ub974\\ub2e4\", \"\\ubaa8\\ub974\\ub2e4\", \"\\ubaa8\\ub974\\ub2e4\", \"\\ubaa8\\uc2b5\", \"\\ubaa8\\uc2b5\", \"\\ubaa8\\uc2b5\", \"\\ubaa8\\uc2b5\", \"\\ubb18\\uc0ac\", \"\\ubb34\\ube44\", \"\\ubb34\\uc12d\\ub2e4\", \"\\ubb34\\uc2a8\", \"\\ubb34\\uc2a8\", \"\\ubb34\\uc2a8\", \"\\ubb34\\uc5c7\", \"\\ubb34\\uc5c7\", \"\\ubb34\\uc870\\uac74\", \"\\ubb49\\ud074\\ud558\\ub2e4\", \"\\ubb50\\ub77c\\ub2e4\", \"\\ubbf8\\ub4dc\", \"\\ubbf8\\uc18c\", \"\\ubbf8\\uce58\\ub2e4\", \"\\ubc14\\ub77c\\ub2e4\", \"\\ubc14\\ub85c\", \"\\ubc14\\ub85c\", \"\\ubc14\\ubcf4\", \"\\ubc15\\uc218\", \"\\ubc18\\uc804\", \"\\ubc18\\uc804\", \"\\ubc1b\\ub2e4\", \"\\ubc1b\\ub2e4\", \"\\ubc1b\\ub2e4\", \"\\ubc29\\uc1a1\", \"\\ubc30\\uc6b0\", \"\\ubc84\\ub9ac\\ub2e4\", \"\\ubc84\\ub9ac\\ub2e4\", \"\\ubc84\\ub9ac\\ub2e4\", \"\\ubcf4\\uace0\", \"\\ubcf4\\uace0\", \"\\ubcf4\\uace0\", \"\\ubcf4\\uace0\", \"\\ubcf4\\ub2e4\", \"\\ubcf4\\ub2e4\", \"\\ubcf4\\ub2e4\", \"\\ubcf4\\ub2e4\", \"\\ubcf4\\ub2e8\", \"\\ubcf4\\uc2dc\", \"\\ubcf4\\uc5ec\\uc8fc\\ub2e4\", \"\\ubcf4\\uc5ec\\uc8fc\\ub2e4\", \"\\ubcf4\\uc5ec\\uc8fc\\ub2e4\", \"\\ubcf4\\uc9c0\", \"\\ubcf5\\uc218\", \"\\ubcf8\\ubc29\", \"\\ubd80\\ub974\\ub2e4\", \"\\ubd88\\ub2e4\", \"\\ubd88\\uc30d\\ud558\\ub2e4\", \"\\ube44\\uad50\", \"\\ube44\\ub2e4\", \"\\ube44\\ub514\\uc624\", \"\\ube44\\uc2b7\\ud558\\ub2e4\", \"\\ube5b\\ub098\\ub2e4\", \"\\ube60\\ub974\\ub2e4\", \"\\ube68\\ub9ac\", \"\\ubed4\\ud558\\ub2e4\", \"\\uc0ac\\uadf9\", \"\\uc0ac\\ub78c\", \"\\uc0ac\\ub78c\", \"\\uc0ac\\ub791\", \"\\uc0ac\\ub791\\uc2a4\\ub7fd\\ub2e4\", \"\\uc0ac\\ub791\\uc2a4\\ub7fd\\ub2e4\", \"\\uc0ac\\uc2e4\", \"\\uc0ac\\uc2e4\", \"\\uc0ac\\ud68c\", \"\\uc0b4\\ub2e4\", \"\\uc0b4\\ub2e4\", \"\\uc0b4\\ub2e4\", \"\\uc0b4\\uc544\\uac00\\ub2e4\", \"\\uc0c1\\ub2f9\\ud558\\ub2e4\", \"\\uc0c1\\ub2f9\\ud558\\ub2e4\", \"\\uc0c1\\ubbf8\", \"\\uc0c1\\uc0c1\\ub825\", \"\\uc0c1\\uc601\", \"\\uc0c8\\ub86d\\ub2e4\", \"\\uc0c8\\ub86d\\ub2e4\", \"\\uc0c9\\ub2e4\\ub974\\ub2e4\", \"\\uc0dd\\uac01\", \"\\uc0dd\\uac01\\ub098\\ub2e4\", \"\\uc0dd\\uac01\\ub098\\ub2e4\", \"\\uc0dd\\uc0dd\\ud558\\ub2e4\", \"\\uc11c\\ub85c\", \"\\uc124\\ub808\\ub2e4\", \"\\uc131\\ub8e1\", \"\\uc138\\uacc4\", \"\\uc138\\uacc4\", \"\\uc138\\uc0c1\", \"\\uc138\\uc0c1\", \"\\uc18c\\ub984\", \"\\uc18c\\ub9ac\", \"\\uc18c\\uc18c\\ud558\\ub2e4\", \"\\uc18c\\uc911\\ud558\\ub2e4\", \"\\uc194\\uc9c1\\ud558\\ub2e4\", \"\\uc218\\uc791\", \"\\uc218\\uc900\", \"\\uc21c\\uc218\\ud558\\ub2e4\", \"\\uc21c\\uc218\\ud558\\ub2e4\", \"\\uc228\\ub2e4\", \"\\uc2a4\\ub7fd\\ub2e4\", \"\\uc2a4\\ub9b4\\ub7ec\", \"\\uc2a4\\ud1a0\\ub9ac\", \"\\uc2a4\\ud1a0\\ub9ac\", \"\\uc2a4\\ud1a0\\ub9ac\", \"\\uc2ac\\ud504\\ub2e4\", \"\\uc2ac\\ud504\\ub2e4\", \"\\uc2dc\\uac04\", \"\\uc2dc\\uac04\", \"\\uc2dc\\uac04\", \"\\uc2dc\\ub9ac\\uc988\", \"\\uc2dc\\ub9ac\\uc988\", \"\\uc2dc\\ub9ac\\uc988\", \"\\uc2dc\\ub9ac\\uc988\", \"\\uc2dc\\ub9ac\\uc988\", \"\\uc2dc\\uc120\", \"\\uc2dc\\uc808\", \"\\uc2dc\\uc98c\", \"\\uc2dc\\uc98c\", \"\\uc2dc\\uccad\\ub960\", \"\\uc2dc\\ud2b8\\ucf64\", \"\\uc2ec\\ub9ac\", \"\\uc2f6\\ub2e4\", \"\\uc2f6\\ub2e4\", \"\\uc2f6\\ub2e4\", \"\\uc4f0\\ub2e4\", \"\\uc4f0\\ub2e4\", \"\\uc4f0\\ub2e4\", \"\\uc4f0\\ub2e4\", \"\\uc544\\uae5d\\ub2e4\", \"\\uc544\\ub2c8\\ub2e4\", \"\\uc544\\ub2c8\\ub2e4\", \"\\uc544\\ub2c8\\ub2e4\", \"\\uc544\\ub2c8\\ub2e4\", \"\\uc544\\ub2c8\\ub2e4\", \"\\uc544\\ub2c8\\ub2e4\", \"\\uc544\\ub2c8\\ub2e4\", \"\\uc544\\ub4e4\", \"\\uc544\\ub984\\ub2f5\\ub2e4\", \"\\uc544\\ubc84\\uc9c0\", \"\\uc544\\uc774\", \"\\uc544\\uc774\", \"\\uc544\\uc774\", \"\\uc544\\uc8fc\", \"\\uc544\\uc8fc\", \"\\uc544\\uc8fc\", \"\\uc544\\ud504\\ub2e4\", \"\\uc544\\ud504\\ub2e4\", \"\\uc548\\ub098\", \"\\uc548\\ub418\\ub2e4\", \"\\uc54a\\ub2e4\", \"\\uc54a\\ub2e4\", \"\\uc54a\\ub2e4\", \"\\uc560\\ub2c8\", \"\\uc560\\ub2c8\\uba54\\uc774\\uc158\", \"\\uc561\\uc158\", \"\\uc561\\uc158\", \"\\uc561\\uc158\", \"\\uc561\\uc158\", \"\\uc561\\uc158\", \"\\uc561\\uc158\", \"\\uc57c\\ud558\\ub2e4\", \"\\uc57c\\ud558\\ub2e4\", \"\\uc5b4\\ub514\", \"\\uc5b4\\ub5a4\", \"\\uc5b4\\ub5bb\\ub2e4\", \"\\uc5b4\\ub5bb\\ub2e4\", \"\\uc5b4\\ub5bb\\ub2e4\", \"\\uc5b4\\ub978\", \"\\uc5b4\\ub9ac\\ub2e4\", \"\\uc5b4\\ub9ac\\ub2e4\", \"\\uc5b8\\ub2c8\", \"\\uc5b8\\uc81c\", \"\\uc5bc\\uad74\", \"\\uc5bc\\ub9c8\\ub098\", \"\\uc5c4\\ub9c8\", \"\\uc5c4\\uccad\", \"\\uc5c4\\uccad\\ub098\\ub2e4\", \"\\uc5c6\\ub2e4\", \"\\uc5c6\\ub2e4\", \"\\uc5c6\\ub2e4\", \"\\uc5c6\\ub2e4\", \"\\uc5c6\\ub2e4\", \"\\uc5c6\\ub2e4\", \"\\uc5c6\\ub2e4\", \"\\uc5d0\\uac8c\", \"\\uc5d0\\uac8c\", \"\\uc5d0\\uac8c\", \"\\uc5d0\\uac90\", \"\\uc5d0\\ub3c4\", \"\\uc5d0\\ub3c4\", \"\\uc5d0\\ub3c4\", \"\\uc5d0\\uc11c\", \"\\uc5d0\\uc11c\", \"\\uc5d0\\uc11c\", \"\\uc5d0\\uc11c\", \"\\uc5d0\\uc11c\", \"\\uc5d0\\uc11c\", \"\\uc5d0\\uc11c\", \"\\uc5d0\\uc694\", \"\\uc5d0\\uc694\", \"\\uc5d4\\ub529\", \"\\uc5d4\\ub529\", \"\\uc5ec\\uae30\", \"\\uc5ec\\ub7ec\", \"\\uc5ec\\ubc30\\uc6b0\", \"\\uc5ec\\uc6b4\", \"\\uc5ec\\uc790\", \"\\uc5ec\\uc790\", \"\\uc5ec\\uc790\", \"\\uc5ed\\ub300\", \"\\uc5ed\\uc0ac\", \"\\uc5ed\\uc0ac\", \"\\uc5ed\\uc2dc\", \"\\uc5ed\\uc2dc\", \"\\uc5ed\\uc2dc\", \"\\uc5f0\\uae30\", \"\\uc5f0\\uae30\", \"\\uc5f0\\ucd9c\", \"\\uc5f0\\ucd9c\", \"\\uc601\\uc0c1\", \"\\uc601\\uc6d0\\ud558\\ub2e4\", \"\\uc601\\ud654\", \"\\uc601\\ud654\", \"\\uc601\\ud654\", \"\\uc601\\ud654\", \"\\uc601\\ud654\", \"\\uc601\\ud654\\uc778\", \"\\uc608\\uc058\\ub2e4\", \"\\uc608\\uc220\", \"\\uc608\\uc804\", \"\\uc61b\\ub0a0\", \"\\uc624\\ub298\", \"\\uc624\\ub298\", \"\\uc624\\ub2e4\", \"\\uc624\\ub2e4\", \"\\uc624\\ub2e4\", \"\\uc624\\ub2e4\", \"\\uc624\\ub2e4\", \"\\uc624\\ub77d\", \"\\uc624\\ub798\", \"\\uc624\\ub79c\", \"\\uc624\\ub79c\", \"\\uc624\\ube60\", \"\\uc624\\ud788\\ub824\", \"\\uc62c\\ub9ac\\ub2e4\", \"\\uc644\\ubcbd\\ud558\\ub2e4\", \"\\uc644\\uc804\", \"\\uc694\\uc18c\", \"\\uc6b0\\ub9ac\", \"\\uc6b0\\ub9ac\", \"\\uc6b0\\uc5f0\\ud788\", \"\\uc6b0\\uc815\", \"\\uc6b4\\uba85\", \"\\uc6b8\\ub2e4\", \"\\uc6c3\\uae30\", \"\\uc6c3\\uae30\\ub2e4\", \"\\uc6c3\\uae30\\ub2e4\", \"\\uc6c3\\ub2e4\", \"\\uc6c3\\ub2e4\", \"\\uc6c3\\ub2e4\", \"\\uc6d0\\uc791\", \"\\uc6d0\\ud558\\ub2e4\", \"\\uc6ec\\ub9cc\\ud558\\ub2e4\", \"\\uc720\\uba38\", \"\\uc73c\\ub85c\", \"\\uc73c\\ub85c\", \"\\uc73c\\ub85c\", \"\\uc73c\\ub85c\", \"\\uc73c\\ub85c\", \"\\uc73c\\ub85c\", \"\\uc73c\\ub85c\\ub294\", \"\\uc740\\uadfc\", \"\\uc74c\\uc545\", \"\\uc758\\ubbf8\", \"\\uc774\\uace0\", \"\\uc774\\uace0\", \"\\uc774\\uace0\", \"\\uc774\\uace0\", \"\\uc774\\uace0\", \"\\uc774\\uace0\", \"\\uc774\\ub2e4\", \"\\uc774\\ub2e4\", \"\\uc774\\ub2e4\", \"\\uc774\\ub2e4\", \"\\uc774\\ub2e4\", \"\\uc774\\ub2e4\", \"\\uc774\\ub2e4\", \"\\uc774\\ub2e4\", \"\\uc774\\ub2e4\", \"\\uc774\\ub2e4\", \"\\uc774\\ub77c\\uace0\", \"\\uc774\\ub77c\\ub294\", \"\\uc774\\ub77c\\ub294\", \"\\uc774\\ub77c\\ub294\", \"\\uc774\\ub77c\\ub3c4\", \"\\uc774\\ub791\", \"\\uc774\\ub791\", \"\\uc774\\ub7f0\", \"\\uc774\\ub7f0\", \"\\uc774\\ub7f0\", \"\\uc774\\ub807\\ub2e4\", \"\\uc774\\ub807\\ub2e4\", \"\\uc774\\ub974\\ub2e4\", \"\\uc774\\ub984\", \"\\uc774\\ub984\", \"\\uc774\\ub9ac\", \"\\uc774\\uba70\", \"\\uc774\\uc058\\ub2e4\", \"\\uc774\\uc058\\ub2e4\", \"\\uc774\\uc0c1\", \"\\uc774\\uc0c1\", \"\\uc774\\uc0c1\\ud558\\ub2e4\", \"\\uc774\\uc57c\\uae30\", \"\\uc774\\uc57c\\uae30\", \"\\uc774\\uc57c\\uae30\", \"\\uc774\\uc5d0\\uc694\", \"\\uc774\\uc5f0\\uac78\", \"\\uc774\\uc720\", \"\\uc774\\uc9c0\", \"\\uc774\\uc9c0\", \"\\uc774\\uc9c0\\ub9cc\", \"\\uc774\\uc9c0\\ub9cc\", \"\\uc774\\ud574\", \"\\uc774\\ud574\", \"\\uc774\\ud6c4\", \"\\uc774\\ud6c4\", \"\\uc778\\uac00\", \"\\uc778\\uac00\", \"\\uc778\\uac04\", \"\\uc778\\uac04\", \"\\uc778\\uac04\", \"\\uc778\\uc0c1\", \"\\uc778\\uc0dd\", \"\\uc778\\uc9c0\", \"\\uc77c\\ubcf8\", \"\\uc77c\\ubcf8\", \"\\uc77d\\ub2e4\", \"\\uc787\\ub2e4\", \"\\uc788\\ub2e4\", \"\\uc788\\ub2e4\", \"\\uc788\\ub2e4\", \"\\uc788\\ub2e4\", \"\\uc788\\ub2e4\", \"\\uc78a\\ub2e4\", \"\\uc78a\\ub2e4\", \"\\uc78a\\ub2e4\", \"\\uc78a\\ud600\\uc9c0\\ub2e4\", \"\\uc790\\uadf9\", \"\\uc790\\ub2e4\", \"\\uc790\\ub2e4\", \"\\uc790\\ub2e4\", \"\\uc790\\ub2e4\", \"\\uc790\\ub2e4\", \"\\uc790\\uc2e0\", \"\\uc790\\uc2e0\", \"\\uc790\\uc5f0\", \"\\uc791\\ud488\", \"\\uc791\\ud488\", \"\\uc791\\ud488\", \"\\uc791\\ud488\", \"\\uc794\\uc778\\ud558\\ub2e4\", \"\\uc794\\uc794\\ud558\\ub2e4\", \"\\uc794\\uc794\\ud558\\ub2e4\", \"\\uc7a1\\ub2e4\", \"\\uc7a5\\ub974\", \"\\uc7a5\\uba74\", \"\\uc7a5\\uba74\", \"\\uc7ac\\ub2e4\", \"\\uc7ac\\ubbf8\", \"\\uc7ac\\ubbf8\", \"\\uc7ac\\ubbf8\", \"\\uc7ac\\ubbf8\", \"\\uc7ac\\ubbf8\\uc788\\ub2e4\", \"\\uc7ac\\ubc0c\\ub2e4\", \"\\uc800\\ub7f0\", \"\\uc801\\ub2e4\", \"\\uc801\\uc808\\ud558\\ub2e4\", \"\\uc804\\uc124\", \"\\uc804\\uccb4\", \"\\uc808\\ub300\", \"\\uc80a\\ub2e4\", \"\\uc810\\uc218\", \"\\uc815\\ub9d0\", \"\\uc815\\ub9d0\", \"\\uc815\\ub9d0\", \"\\uc815\\ub9d0\", \"\\uc815\\ub9d0\\ub85c\", \"\\uc815\\uc11c\", \"\\uc81c\\ubaa9\", \"\\uc81c\\ubaa9\", \"\\uc81c\\ubc1c\", \"\\uc870\\uc5f0\", \"\\uc870\\ud654\", \"\\uc880\\ube44\", \"\\uc88b\\ub2e4\", \"\\uc88b\\ub2e4\", \"\\uc88b\\ub2e4\", \"\\uc88b\\uc544\\ud558\\ub2e4\", \"\\uc88b\\uc544\\ud558\\ub2e4\", \"\\uc8fc\\ub2e4\", \"\\uc8fc\\ub2e4\", \"\\uc8fc\\ub2e4\", \"\\uc8fc\\uc778\\uacf5\", \"\\uc8fc\\uc778\\uacf5\", \"\\uc8fc\\uc81c\", \"\\uc8fd\\ub2e4\", \"\\uc8fd\\ub2e4\", \"\\uc8fd\\ub2e4\", \"\\uc8fd\\ub2e4\", \"\\uc8fd\\uc774\\ub2e4\", \"\\uc911\\uac04\", \"\\uc911\\uad6d\", \"\\uc911\\ubc18\", \"\\uc911\\uc694\\ud558\\ub2e4\", \"\\uc990\\uae30\\ub2e4\", \"\\uc990\\uae30\\ub2e4\", \"\\uc9c0\\uae08\", \"\\uc9c0\\uae08\", \"\\uc9c0\\uae08\", \"\\uc9c0\\uae08\", \"\\uc9c0\\uae08\", \"\\uc9c0\\ub098\\ub2e4\", \"\\uc9c4\\uc2e4\", \"\\uc9c4\\uc2ec\", \"\\uc9c4\\uc815\", \"\\uc9c4\\uc815\\ud558\\ub2e4\", \"\\uc9c4\\uc815\\ud558\\ub2e4\", \"\\uc9c4\\uc9dc\", \"\\uc9c4\\uc9dc\", \"\\uc9c4\\uc9dc\", \"\\uc9c4\\uc9dc\", \"\\uc9dc\\ub2e4\", \"\\uca50\\ub2e4\", \"\\uca54\\ub2e4\", \"\\ucc0d\\ub2e4\", \"\\ucc28\\ub2e4\", \"\\ucc28\\ub2e4\", \"\\ucc28\\ub2e4\", \"\\ucc28\\ub2e4\", \"\\ucc59\\uae30\\ub2e4\", \"\\ucc9c\\uc7ac\", \"\\uccad\\ucd98\", \"\\ucd5c\\uace0\", \"\\ucd5c\\uace0\\ub2e4\", \"\\ucd5c\\uadfc\", \"\\ucda9\\uaca9\", \"\\ucda9\\ubd84\\ud558\\ub2e4\", \"\\ucda9\\ubd84\\ud558\\ub2e4\", \"\\uce5c\\uad6c\", \"\\uce5c\\uad6c\", \"\\uce90\\uc2a4\\ud305\", \"\\ucee4\\ud50c\", \"\\ucf00\\uc774\\ube14\", \"\\ucf54\\ubbf9\", \"\\ucf54\\ubbf9\", \"\\ud06c\\ub9ac\\uc2a4\\ub9c8\\uc2a4\", \"\\ud0ac\\ub9c1\\ud0c0\\uc784\", \"\\ud0c0\\ub2e4\", \"\\ud0c4\\ud0c4\\ud558\\ub2e4\", \"\\ud14c\\ub7ec\", \"\\ud2c0\\ub2e4\", \"\\ud2f0\\ube44\", \"\\ud391\\ud391\", \"\\ud3b8\\uc774\", \"\\ud3c9\\uac00\", \"\\ud3c9\\ub860\\uac00\", \"\\ud3c9\\ubc94\\ud558\\ub2e4\", \"\\ud3c9\\uc810\", \"\\ud3c9\\uc810\", \"\\ud3c9\\uc810\", \"\\ud3c9\\uc810\", \"\\ud3ec\\uc2a4\\ud130\", \"\\ud45c\\ud604\", \"\\ud45c\\ud604\", \"\\ud480\\ub2e4\", \"\\ud504\\ub85c\\uadf8\\ub7a8\", \"\\ud544\\uc694\", \"\\ud544\\uc694\\uc5c6\\ub2e4\", \"\\ud544\\uc694\\uc5c6\\ub2e4\", \"\\ud544\\uc694\\ud558\\ub2e4\", \"\\ud558\\uace0\", \"\\ud558\\uace0\", \"\\ud558\\uace0\", \"\\ud558\\ub098\", \"\\ud558\\ub098\", \"\\ud558\\ub2e4\", \"\\ud558\\ub2e4\", \"\\ud558\\ub2e4\", \"\\ud558\\ub2e4\", \"\\ud558\\ub2e4\", \"\\ud558\\ub2e4\", \"\\ud558\\ud558\", \"\\ud55c\\uad6d\", \"\\ud55c\\uad6d\", \"\\ud55c\\uad6d\", \"\\ud55c\\uad6d\", \"\\ud55c\\uad6d\\uc601\", \"\\ud55c\\ub9c8\\ub514\", \"\\ud55c\\ubc88\", \"\\ud55c\\ubc88\", \"\\ud55c\\ubc88\", \"\\ud55c\\ud3b8\", \"\\ud568\\uaed8\", \"\\ud568\\uaed8\", \"\\ud56d\\uc0c1\", \"\\ud574\\ub0b4\\ub2e4\", \"\\ud574\\ubcf4\\ub2e4\", \"\\ud574\\ubcf4\\ub2e4\", \"\\ud574\\uc11d\", \"\\ud574\\uc8fc\\ub2e4\", \"\\ud574\\uc8fc\\ub2e4\", \"\\ud574\\uc8fc\\ub2e4\", \"\\ud574\\uc8fc\\ub2e4\", \"\\ud604\\uc2e4\", \"\\ud604\\uc2e4\", \"\\ud604\\uc2e4\", \"\\ud654\\ubcf4\", \"\\ud654\\uc774\\ud305\", \"\\ud655\\uc2e4\\ud558\\ub2e4\", \"\\ud658\\uc0c1\", \"\\ud6a8\\uacfc\", \"\\ud6c4\\ubc18\", \"\\ud6c8\\ud6c8\\ud558\\ub2e4\", \"\\ud6c8\\ud6c8\\ud558\\ub2e4\", \"\\ud6cc\\ub96d\\ud558\\ub2e4\", \"\\ud6cc\\ub96d\\ud558\\ub2e4\", \"\\ud6e8\\uc52c\", \"\\ud758\\ub9ac\\ub2e4\", \"\\ud765\\ubbf8\\ub86d\\ub2e4\", \"\\ud76c\\ub9dd\", \"\\ud798\\ub0b4\\ub2e4\", \"\\ud798\\ub4e4\\ub2e4\"]}, \"R\": 30, \"lambda.step\": 0.01, \"plot.opts\": {\"xlab\": \"PC1\", \"ylab\": \"PC2\"}, \"topic.order\": [10, 7, 4, 6, 9, 2, 1, 3, 8, 5]};\n",
              "\n",
              "function LDAvis_load_lib(url, callback){\n",
              "  var s = document.createElement('script');\n",
              "  s.src = url;\n",
              "  s.async = true;\n",
              "  s.onreadystatechange = s.onload = callback;\n",
              "  s.onerror = function(){console.warn(\"failed to load library \" + url);};\n",
              "  document.getElementsByTagName(\"head\")[0].appendChild(s);\n",
              "}\n",
              "\n",
              "if(typeof(LDAvis) !== \"undefined\"){\n",
              "   // already loaded: just create the visualization\n",
              "   !function(LDAvis){\n",
              "       new LDAvis(\"#\" + \"ldavis_el1131399876558154806184288841\", ldavis_el1131399876558154806184288841_data);\n",
              "   }(LDAvis);\n",
              "}else if(typeof define === \"function\" && define.amd){\n",
              "   // require.js is available: use it to load d3/LDAvis\n",
              "   require.config({paths: {d3: \"https://cdnjs.cloudflare.com/ajax/libs/d3/3.5.5/d3.min\"}});\n",
              "   require([\"d3\"], function(d3){\n",
              "      window.d3 = d3;\n",
              "      LDAvis_load_lib(\"https://cdn.rawgit.com/bmabey/pyLDAvis/files/ldavis.v1.0.0.js\", function(){\n",
              "        new LDAvis(\"#\" + \"ldavis_el1131399876558154806184288841\", ldavis_el1131399876558154806184288841_data);\n",
              "      });\n",
              "    });\n",
              "}else{\n",
              "    // require.js not available: dynamically load d3 & LDAvis\n",
              "    LDAvis_load_lib(\"https://cdnjs.cloudflare.com/ajax/libs/d3/3.5.5/d3.min.js\", function(){\n",
              "         LDAvis_load_lib(\"https://cdn.rawgit.com/bmabey/pyLDAvis/files/ldavis.v1.0.0.js\", function(){\n",
              "                 new LDAvis(\"#\" + \"ldavis_el1131399876558154806184288841\", ldavis_el1131399876558154806184288841_data);\n",
              "            })\n",
              "         });\n",
              "}\n",
              "</script>"
            ],
            "text/plain": [
              "<IPython.core.display.HTML object>"
            ]
          },
          "metadata": {
            "tags": []
          },
          "execution_count": 32
        }
      ]
    }
  ]
}