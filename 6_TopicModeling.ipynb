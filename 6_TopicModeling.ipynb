{
  "nbformat": 4,
  "nbformat_minor": 0,
  "metadata": {
    "kernelspec": {
      "display_name": "Python 3",
      "language": "python",
      "name": "python3"
    },
    "language_info": {
      "codemirror_mode": {
        "name": "ipython",
        "version": 3
      },
      "file_extension": ".py",
      "mimetype": "text/x-python",
      "name": "python",
      "nbconvert_exporter": "python",
      "pygments_lexer": "ipython3",
      "version": "3.7.5"
    },
    "colab": {
      "name": "6.TopicModeling.ipynb",
      "provenance": [],
      "collapsed_sections": [],
      "machine_shape": "hm",
      "include_colab_link": true
    },
    "accelerator": "GPU"
  },
  "cells": [
    {
      "cell_type": "markdown",
      "metadata": {
        "id": "view-in-github",
        "colab_type": "text"
      },
      "source": [
        "<a href=\"https://colab.research.google.com/github/aidot-kr/AISecurity/blob/master/6_TopicModeling.ipynb\" target=\"_parent\"><img src=\"https://colab.research.google.com/assets/colab-badge.svg\" alt=\"Open In Colab\"/></a>"
      ]
    },
    {
      "cell_type": "markdown",
      "metadata": {
        "id": "GdsrjcOLsGuc"
      },
      "source": [
        "## Topic Modeling\n",
        "- 참고DataSet: 네이버 영화리뷰, 해당 폴더에서 ratings.txt 다운로드"
      ]
    },
    {
      "cell_type": "markdown",
      "metadata": {
        "id": "inS_Q7a6sGud"
      },
      "source": [
        "1) 다운로드된 파일읽기"
      ]
    },
    {
      "cell_type": "code",
      "metadata": {
        "id": "airFyIDqsGue"
      },
      "source": [
        "# ratings.txt가 있는 파일경로 구성  // Local PC 환경에서의 개발에 적용\n",
        "#import os\n",
        "#os.getcwd()\n",
        "#str_path = '/temp'\n",
        "#os.chdir(str_path)"
      ],
      "execution_count": 38,
      "outputs": []
    },
    {
      "cell_type": "code",
      "metadata": {
        "id": "rNu8NF19zCb-",
        "outputId": "89a43233-df65-40ee-d188-794bdc2ec919",
        "colab": {
          "base_uri": "https://localhost:8080/",
          "height": 35
        }
      },
      "source": [
        "from google.colab import drive\n",
        "drive.mount('/content/drive')"
      ],
      "execution_count": 1,
      "outputs": [
        {
          "output_type": "stream",
          "text": [
            "Mounted at /content/drive\n"
          ],
          "name": "stdout"
        }
      ]
    },
    {
      "cell_type": "code",
      "metadata": {
        "id": "5S4rQAatzhD0",
        "outputId": "73cd8954-0b9e-4fc0-fc7c-a7742cd4a0fa",
        "colab": {
          "base_uri": "https://localhost:8080/",
          "height": 35
        }
      },
      "source": [
        "cd /content/drive/My\\ Drive/AISecurity"
      ],
      "execution_count": 2,
      "outputs": [
        {
          "output_type": "stream",
          "text": [
            "/content/drive/My Drive/AISecurity\n"
          ],
          "name": "stdout"
        }
      ]
    },
    {
      "cell_type": "code",
      "metadata": {
        "id": "D2mRdMXv0Kkw",
        "outputId": "39097fdf-1a33-4830-e340-06ccbda2d5ce",
        "colab": {
          "base_uri": "https://localhost:8080/",
          "height": 89
        }
      },
      "source": [
        "ls"
      ],
      "execution_count": 3,
      "outputs": [
        {
          "output_type": "stream",
          "text": [
            "2.TFIDF.ipynb           5.OneHotEncode.ipynb       7.ngram.ipynb\n",
            "3.SimpleCrawling.ipynb  5.Word2Vec-FastText.ipynb  ratings.txt\n",
            "4_MeCab.ipynb           6.Similarity.ipynb         Sample.ipynb\n",
            "4_Pre_Processing.ipynb  6.TopicModeling.ipynb      spam.csv\n"
          ],
          "name": "stdout"
        }
      ]
    },
    {
      "cell_type": "code",
      "metadata": {
        "id": "mVUyYzLp2vtC",
        "outputId": "1aca6e3d-f030-4d6a-f516-b191457b9477",
        "colab": {
          "base_uri": "https://localhost:8080/",
          "height": 503
        }
      },
      "source": [
        "# Colab 서버스펙확인, GPU 할당을 위해서는 메뉴 > 런타임 > 런타임유형변경에서 GPU 선택\n",
        "from tensorflow.python.client import device_lib\n",
        "device_lib.list_local_devices()"
      ],
      "execution_count": 4,
      "outputs": [
        {
          "output_type": "execute_result",
          "data": {
            "text/plain": [
              "[name: \"/device:CPU:0\"\n",
              " device_type: \"CPU\"\n",
              " memory_limit: 268435456\n",
              " locality {\n",
              " }\n",
              " incarnation: 5284498670908342251, name: \"/device:XLA_CPU:0\"\n",
              " device_type: \"XLA_CPU\"\n",
              " memory_limit: 17179869184\n",
              " locality {\n",
              " }\n",
              " incarnation: 15400733537229074150\n",
              " physical_device_desc: \"device: XLA_CPU device\", name: \"/device:XLA_GPU:0\"\n",
              " device_type: \"XLA_GPU\"\n",
              " memory_limit: 17179869184\n",
              " locality {\n",
              " }\n",
              " incarnation: 17057333170779152453\n",
              " physical_device_desc: \"device: XLA_GPU device\", name: \"/device:GPU:0\"\n",
              " device_type: \"GPU\"\n",
              " memory_limit: 15695549568\n",
              " locality {\n",
              "   bus_id: 1\n",
              "   links {\n",
              "   }\n",
              " }\n",
              " incarnation: 15424137426899416007\n",
              " physical_device_desc: \"device: 0, name: Tesla P100-PCIE-16GB, pci bus id: 0000:00:04.0, compute capability: 6.0\"]"
            ]
          },
          "metadata": {
            "tags": []
          },
          "execution_count": 4
        }
      ]
    },
    {
      "cell_type": "code",
      "metadata": {
        "id": "lf6AcBrPsGug"
      },
      "source": [
        "import pandas as pd\n",
        "\n",
        "# ratings.txt는 탭구분자를 기준으로 읽기 실행\n",
        "doc = pd.read_csv('ratings.txt',sep = '\\t' ) "
      ],
      "execution_count": 6,
      "outputs": []
    },
    {
      "cell_type": "code",
      "metadata": {
        "id": "YTfIt-sisGui"
      },
      "source": [
        "# ratings.txt를 file open Read도 가능\n",
        "f = open('ratings.txt', 'r',  encoding='utf-8')\n",
        "data = f.read()\n",
        "f.close()"
      ],
      "execution_count": 7,
      "outputs": []
    },
    {
      "cell_type": "code",
      "metadata": {
        "id": "N1ri1lIPsGuk",
        "outputId": "5f9e30a0-60a7-4ad3-b5ca-4d61acee42fb",
        "colab": {
          "base_uri": "https://localhost:8080/",
          "height": 35
        }
      },
      "source": [
        "print(len(data))"
      ],
      "execution_count": 8,
      "outputs": [
        {
          "output_type": "stream",
          "text": [
            "9248467\n"
          ],
          "name": "stdout"
        }
      ]
    },
    {
      "cell_type": "code",
      "metadata": {
        "scrolled": false,
        "id": "GKIurx60sGum",
        "outputId": "50a7e632-7f1e-44cb-c909-06e7bfd5587d",
        "colab": {
          "base_uri": "https://localhost:8080/",
          "height": 197
        }
      },
      "source": [
        "doc.info()"
      ],
      "execution_count": 9,
      "outputs": [
        {
          "output_type": "stream",
          "text": [
            "<class 'pandas.core.frame.DataFrame'>\n",
            "RangeIndex: 200000 entries, 0 to 199999\n",
            "Data columns (total 3 columns):\n",
            " #   Column    Non-Null Count   Dtype \n",
            "---  ------    --------------   ----- \n",
            " 0   id        200000 non-null  int64 \n",
            " 1   document  199992 non-null  object\n",
            " 2   label     200000 non-null  int64 \n",
            "dtypes: int64(2), object(1)\n",
            "memory usage: 4.6+ MB\n"
          ],
          "name": "stdout"
        }
      ]
    },
    {
      "cell_type": "code",
      "metadata": {
        "id": "457zMXzUsGuo",
        "outputId": "e6c44f06-b51a-4529-ecc7-a63afd234658",
        "colab": {
          "base_uri": "https://localhost:8080/",
          "height": 204
        }
      },
      "source": [
        "doc.head(5)"
      ],
      "execution_count": 10,
      "outputs": [
        {
          "output_type": "execute_result",
          "data": {
            "text/html": [
              "<div>\n",
              "<style scoped>\n",
              "    .dataframe tbody tr th:only-of-type {\n",
              "        vertical-align: middle;\n",
              "    }\n",
              "\n",
              "    .dataframe tbody tr th {\n",
              "        vertical-align: top;\n",
              "    }\n",
              "\n",
              "    .dataframe thead th {\n",
              "        text-align: right;\n",
              "    }\n",
              "</style>\n",
              "<table border=\"1\" class=\"dataframe\">\n",
              "  <thead>\n",
              "    <tr style=\"text-align: right;\">\n",
              "      <th></th>\n",
              "      <th>id</th>\n",
              "      <th>document</th>\n",
              "      <th>label</th>\n",
              "    </tr>\n",
              "  </thead>\n",
              "  <tbody>\n",
              "    <tr>\n",
              "      <th>0</th>\n",
              "      <td>8112052</td>\n",
              "      <td>어릴때보고 지금다시봐도 재밌어요ㅋㅋ</td>\n",
              "      <td>1</td>\n",
              "    </tr>\n",
              "    <tr>\n",
              "      <th>1</th>\n",
              "      <td>8132799</td>\n",
              "      <td>디자인을 배우는 학생으로, 외국디자이너와 그들이 일군 전통을 통해 발전해가는 문화산...</td>\n",
              "      <td>1</td>\n",
              "    </tr>\n",
              "    <tr>\n",
              "      <th>2</th>\n",
              "      <td>4655635</td>\n",
              "      <td>폴리스스토리 시리즈는 1부터 뉴까지 버릴께 하나도 없음.. 최고.</td>\n",
              "      <td>1</td>\n",
              "    </tr>\n",
              "    <tr>\n",
              "      <th>3</th>\n",
              "      <td>9251303</td>\n",
              "      <td>와.. 연기가 진짜 개쩔구나.. 지루할거라고 생각했는데 몰입해서 봤다.. 그래 이런...</td>\n",
              "      <td>1</td>\n",
              "    </tr>\n",
              "    <tr>\n",
              "      <th>4</th>\n",
              "      <td>10067386</td>\n",
              "      <td>안개 자욱한 밤하늘에 떠 있는 초승달 같은 영화.</td>\n",
              "      <td>1</td>\n",
              "    </tr>\n",
              "  </tbody>\n",
              "</table>\n",
              "</div>"
            ],
            "text/plain": [
              "         id                                           document  label\n",
              "0   8112052                                어릴때보고 지금다시봐도 재밌어요ㅋㅋ      1\n",
              "1   8132799  디자인을 배우는 학생으로, 외국디자이너와 그들이 일군 전통을 통해 발전해가는 문화산...      1\n",
              "2   4655635               폴리스스토리 시리즈는 1부터 뉴까지 버릴께 하나도 없음.. 최고.      1\n",
              "3   9251303  와.. 연기가 진짜 개쩔구나.. 지루할거라고 생각했는데 몰입해서 봤다.. 그래 이런...      1\n",
              "4  10067386                        안개 자욱한 밤하늘에 떠 있는 초승달 같은 영화.      1"
            ]
          },
          "metadata": {
            "tags": []
          },
          "execution_count": 10
        }
      ]
    },
    {
      "cell_type": "code",
      "metadata": {
        "id": "4ewakjJxsGuq"
      },
      "source": [
        "doc = doc[doc['document'].notnull()]  # Null값이 있는 필드는 제외\n",
        "doc = doc[:10000] # 빠른 실습을 위해서 50000개의 Row만 추출"
      ],
      "execution_count": 11,
      "outputs": []
    },
    {
      "cell_type": "code",
      "metadata": {
        "id": "mZ8d4d65sGus",
        "outputId": "1582e7ed-665f-4d38-ebbd-bb33d2509c91",
        "colab": {
          "base_uri": "https://localhost:8080/",
          "height": 89
        }
      },
      "source": [
        "doc.isnull().sum() #null 포함여부 체크"
      ],
      "execution_count": 12,
      "outputs": [
        {
          "output_type": "execute_result",
          "data": {
            "text/plain": [
              "id          0\n",
              "document    0\n",
              "label       0\n",
              "dtype: int64"
            ]
          },
          "metadata": {
            "tags": []
          },
          "execution_count": 12
        }
      ]
    },
    {
      "cell_type": "markdown",
      "metadata": {
        "id": "TAKcr6mdsGut"
      },
      "source": [
        "2) 텍스트데이터 전처리\n",
        "- 형태소를 사용해서 명사만 추출한다.\n",
        "- 정확도 개선을 위해서는 불용어, 원형복원, 동철이의어 처리가 필요함"
      ]
    },
    {
      "cell_type": "code",
      "metadata": {
        "id": "u4Hup1yIsGuu"
      },
      "source": [
        "# 한글 불용어 처리를 위한 함수\n",
        "import re\n",
        "def clean_sentense(txt):\n",
        "    pattern = '(\\d\\d\\d-\\d\\d\\d\\d-\\d\\d\\d\\d)' # 전화번호 제거 (000-0000-0000),\\d: 숫자 1개\n",
        "    txt = re.sub(pattern=pattern, repl='', string=txt)          \n",
        "    pattern = '([a-zA-Z0-9_.+-]+@[a-zA-Z0-9-]+\\.[a-zA-Z0-9-.]+)' # E-mail제거, a-z 사이의 문자, \n",
        "    txt = re.sub(pattern=pattern, repl='', string=txt)\n",
        "    pattern = '(http|ftp|https)://(?:[-\\w.]|(?:%[\\da-fA-F]{2}))+' # URL제거\n",
        "    txt = re.sub(pattern=pattern, repl='', string=txt)\n",
        "    pattern = '([ㄱ-ㅎㅏ-ㅣ]+)'  # 한글 자음, 모음 제거\n",
        "    txt = re.sub(pattern=pattern, repl='', string=txt)\n",
        "    pattern = '<[^>]*>'         # HTML 태그 제거\n",
        "    txt = re.sub(pattern=pattern, repl='', string=txt)\n",
        "    pattern = '[^\\w\\s]'         # 특수기호제거\n",
        "    txt = re.sub(pattern=pattern, repl='', string=txt)\n",
        "    \n",
        "    return txt   "
      ],
      "execution_count": 13,
      "outputs": []
    },
    {
      "cell_type": "code",
      "metadata": {
        "id": "EHimF-px1Iqj",
        "outputId": "2e747473-d447-46dd-9d79-3bf8999810d4",
        "colab": {
          "base_uri": "https://localhost:8080/",
          "height": 611
        }
      },
      "source": [
        "!pip3 install konlpy"
      ],
      "execution_count": 14,
      "outputs": [
        {
          "output_type": "stream",
          "text": [
            "Collecting konlpy\n",
            "\u001b[?25l  Downloading https://files.pythonhosted.org/packages/85/0e/f385566fec837c0b83f216b2da65db9997b35dd675e107752005b7d392b1/konlpy-0.5.2-py2.py3-none-any.whl (19.4MB)\n",
            "\u001b[K     |████████████████████████████████| 19.4MB 162kB/s \n",
            "\u001b[?25hCollecting colorama\n",
            "  Downloading https://files.pythonhosted.org/packages/c9/dc/45cdef1b4d119eb96316b3117e6d5708a08029992b2fee2c143c7a0a5cc5/colorama-0.4.3-py2.py3-none-any.whl\n",
            "Requirement already satisfied: lxml>=4.1.0 in /usr/local/lib/python3.6/dist-packages (from konlpy) (4.2.6)\n",
            "Collecting tweepy>=3.7.0\n",
            "  Downloading https://files.pythonhosted.org/packages/bb/7c/99d51f80f3b77b107ebae2634108717362c059a41384a1810d13e2429a81/tweepy-3.9.0-py2.py3-none-any.whl\n",
            "Requirement already satisfied: numpy>=1.6 in /usr/local/lib/python3.6/dist-packages (from konlpy) (1.18.5)\n",
            "Collecting beautifulsoup4==4.6.0\n",
            "\u001b[?25l  Downloading https://files.pythonhosted.org/packages/9e/d4/10f46e5cfac773e22707237bfcd51bbffeaf0a576b0a847ec7ab15bd7ace/beautifulsoup4-4.6.0-py3-none-any.whl (86kB)\n",
            "\u001b[K     |████████████████████████████████| 92kB 9.6MB/s \n",
            "\u001b[?25hCollecting JPype1>=0.7.0\n",
            "\u001b[?25l  Downloading https://files.pythonhosted.org/packages/8b/f7/a368401e630f0e390dd0e62c39fb928e5b23741b53c2360ee7d376660927/JPype1-1.0.2-cp36-cp36m-manylinux2010_x86_64.whl (3.8MB)\n",
            "\u001b[K     |████████████████████████████████| 3.8MB 47.6MB/s \n",
            "\u001b[?25hRequirement already satisfied: six>=1.10.0 in /usr/local/lib/python3.6/dist-packages (from tweepy>=3.7.0->konlpy) (1.15.0)\n",
            "Requirement already satisfied: requests[socks]>=2.11.1 in /usr/local/lib/python3.6/dist-packages (from tweepy>=3.7.0->konlpy) (2.23.0)\n",
            "Requirement already satisfied: requests-oauthlib>=0.7.0 in /usr/local/lib/python3.6/dist-packages (from tweepy>=3.7.0->konlpy) (1.3.0)\n",
            "Requirement already satisfied: typing-extensions; python_version < \"3.8\" in /usr/local/lib/python3.6/dist-packages (from JPype1>=0.7.0->konlpy) (3.7.4.3)\n",
            "Requirement already satisfied: chardet<4,>=3.0.2 in /usr/local/lib/python3.6/dist-packages (from requests[socks]>=2.11.1->tweepy>=3.7.0->konlpy) (3.0.4)\n",
            "Requirement already satisfied: certifi>=2017.4.17 in /usr/local/lib/python3.6/dist-packages (from requests[socks]>=2.11.1->tweepy>=3.7.0->konlpy) (2020.6.20)\n",
            "Requirement already satisfied: urllib3!=1.25.0,!=1.25.1,<1.26,>=1.21.1 in /usr/local/lib/python3.6/dist-packages (from requests[socks]>=2.11.1->tweepy>=3.7.0->konlpy) (1.24.3)\n",
            "Requirement already satisfied: idna<3,>=2.5 in /usr/local/lib/python3.6/dist-packages (from requests[socks]>=2.11.1->tweepy>=3.7.0->konlpy) (2.10)\n",
            "Requirement already satisfied: PySocks!=1.5.7,>=1.5.6; extra == \"socks\" in /usr/local/lib/python3.6/dist-packages (from requests[socks]>=2.11.1->tweepy>=3.7.0->konlpy) (1.7.1)\n",
            "Requirement already satisfied: oauthlib>=3.0.0 in /usr/local/lib/python3.6/dist-packages (from requests-oauthlib>=0.7.0->tweepy>=3.7.0->konlpy) (3.1.0)\n",
            "Installing collected packages: colorama, tweepy, beautifulsoup4, JPype1, konlpy\n",
            "  Found existing installation: tweepy 3.6.0\n",
            "    Uninstalling tweepy-3.6.0:\n",
            "      Successfully uninstalled tweepy-3.6.0\n",
            "  Found existing installation: beautifulsoup4 4.6.3\n",
            "    Uninstalling beautifulsoup4-4.6.3:\n",
            "      Successfully uninstalled beautifulsoup4-4.6.3\n",
            "Successfully installed JPype1-1.0.2 beautifulsoup4-4.6.0 colorama-0.4.3 konlpy-0.5.2 tweepy-3.9.0\n"
          ],
          "name": "stdout"
        }
      ]
    },
    {
      "cell_type": "code",
      "metadata": {
        "id": "sRSFai5SsGuv"
      },
      "source": [
        "# 형태소 분석기를 사용하여 영화리뷰 문서 처리 (특정 POS 만추출, 1글자 제외)\n",
        "from konlpy.tag import Kkma\n",
        "kkma = Kkma()\n",
        "\n",
        "# 명사와 동사만 추출하는 함수(미사용)\n",
        "def extPOS(x):\n",
        "    allowed_postags=['NNP', 'VV', 'MAG', 'VA']\n",
        "    texts = kkma.pos(x) \n",
        "    texts_out = []\n",
        "    \n",
        "    for sent in texts:         \n",
        "        if sent[1] in allowed_postags:\n",
        "            texts_out.append(sent[0])\n",
        "    \n",
        "    return texts_out\n",
        "\n",
        "\n",
        "# 문장 추출하는 함수 (한 글자는 제외)\n",
        "def extWord(x):\n",
        "    texts = kkma.morphs(x)\n",
        "    texts_out = []\n",
        "    for sent in texts:        \n",
        "        if len(sent) > 1:\n",
        "            texts_out.append(sent)\n",
        "    return texts_out"
      ],
      "execution_count": 15,
      "outputs": []
    },
    {
      "cell_type": "code",
      "metadata": {
        "scrolled": true,
        "id": "eL02IEHusGux"
      },
      "source": [
        "doc['clean_doc2'] = doc['document'].apply(lambda x: clean_sentense(x))   \n",
        "doc['clean_doc'] = doc['clean_doc2'].apply(lambda x: extWord(x))   "
      ],
      "execution_count": 16,
      "outputs": []
    },
    {
      "cell_type": "code",
      "metadata": {
        "id": "zDzbwZj3sGuz",
        "outputId": "17ca7495-848f-4307-dc17-2a91653eb3a4",
        "colab": {
          "base_uri": "https://localhost:8080/",
          "height": 669
        }
      },
      "source": [
        "doc.head(20)"
      ],
      "execution_count": 17,
      "outputs": [
        {
          "output_type": "execute_result",
          "data": {
            "text/html": [
              "<div>\n",
              "<style scoped>\n",
              "    .dataframe tbody tr th:only-of-type {\n",
              "        vertical-align: middle;\n",
              "    }\n",
              "\n",
              "    .dataframe tbody tr th {\n",
              "        vertical-align: top;\n",
              "    }\n",
              "\n",
              "    .dataframe thead th {\n",
              "        text-align: right;\n",
              "    }\n",
              "</style>\n",
              "<table border=\"1\" class=\"dataframe\">\n",
              "  <thead>\n",
              "    <tr style=\"text-align: right;\">\n",
              "      <th></th>\n",
              "      <th>id</th>\n",
              "      <th>document</th>\n",
              "      <th>label</th>\n",
              "      <th>clean_doc2</th>\n",
              "      <th>clean_doc</th>\n",
              "    </tr>\n",
              "  </thead>\n",
              "  <tbody>\n",
              "    <tr>\n",
              "      <th>0</th>\n",
              "      <td>8112052</td>\n",
              "      <td>어릴때보고 지금다시봐도 재밌어요ㅋㅋ</td>\n",
              "      <td>1</td>\n",
              "      <td>어릴때보고 지금다시봐도 재밌어요</td>\n",
              "      <td>[어리, 보고, 지금, 다시, 아도, 재밌, 어요]</td>\n",
              "    </tr>\n",
              "    <tr>\n",
              "      <th>1</th>\n",
              "      <td>8132799</td>\n",
              "      <td>디자인을 배우는 학생으로, 외국디자이너와 그들이 일군 전통을 통해 발전해가는 문화산...</td>\n",
              "      <td>1</td>\n",
              "      <td>디자인을 배우는 학생으로 외국디자이너와 그들이 일군 전통을 통해 발전해가는 문화산업...</td>\n",
              "      <td>[디자인, 배우, 학생, 으로, 외국, 디자이너, 일구, 전통, 통하, 발전, 문화...</td>\n",
              "    </tr>\n",
              "    <tr>\n",
              "      <th>2</th>\n",
              "      <td>4655635</td>\n",
              "      <td>폴리스스토리 시리즈는 1부터 뉴까지 버릴께 하나도 없음.. 최고.</td>\n",
              "      <td>1</td>\n",
              "      <td>폴리스스토리 시리즈는 1부터 뉴까지 버릴께 하나도 없음 최고</td>\n",
              "      <td>[폴리스, 스토리, 시리즈, 부터, 버리, ㄹ게, 하나, 최고]</td>\n",
              "    </tr>\n",
              "    <tr>\n",
              "      <th>3</th>\n",
              "      <td>9251303</td>\n",
              "      <td>와.. 연기가 진짜 개쩔구나.. 지루할거라고 생각했는데 몰입해서 봤다.. 그래 이런...</td>\n",
              "      <td>1</td>\n",
              "      <td>와 연기가 진짜 개쩔구나 지루할거라고 생각했는데 몰입해서 봤다 그래 이런게 진짜 영화지</td>\n",
              "      <td>[연기, 진짜, 지루, 라고, 생각, 는데, 몰입, 어서, 그리하, 이렇, 진짜, 영화]</td>\n",
              "    </tr>\n",
              "    <tr>\n",
              "      <th>4</th>\n",
              "      <td>10067386</td>\n",
              "      <td>안개 자욱한 밤하늘에 떠 있는 초승달 같은 영화.</td>\n",
              "      <td>1</td>\n",
              "      <td>안개 자욱한 밤하늘에 떠 있는 초승달 같은 영화</td>\n",
              "      <td>[안개, 자욱, 밤하늘, 초승달, 영화]</td>\n",
              "    </tr>\n",
              "    <tr>\n",
              "      <th>5</th>\n",
              "      <td>2190435</td>\n",
              "      <td>사랑을 해본사람이라면 처음부터 끝까지 웃을수 있는영화</td>\n",
              "      <td>1</td>\n",
              "      <td>사랑을 해본사람이라면 처음부터 끝까지 웃을수 있는영화</td>\n",
              "      <td>[사랑, 해보, 사람, 라면, 처음, 부터, 까지, 영화]</td>\n",
              "    </tr>\n",
              "    <tr>\n",
              "      <th>6</th>\n",
              "      <td>9279041</td>\n",
              "      <td>완전 감동입니다 다시봐도 감동</td>\n",
              "      <td>1</td>\n",
              "      <td>완전 감동입니다 다시봐도 감동</td>\n",
              "      <td>[완전, 감동, ㅂ니다, 다시, 아도, 감동]</td>\n",
              "    </tr>\n",
              "    <tr>\n",
              "      <th>7</th>\n",
              "      <td>7865729</td>\n",
              "      <td>개들의 전쟁2 나오나요? 나오면 1빠로 보고 싶음</td>\n",
              "      <td>1</td>\n",
              "      <td>개들의 전쟁2 나오나요 나오면 1빠로 보고 싶음</td>\n",
              "      <td>[전쟁, 나오, 나요, 나오, 빠로]</td>\n",
              "    </tr>\n",
              "    <tr>\n",
              "      <th>8</th>\n",
              "      <td>7477618</td>\n",
              "      <td>굿</td>\n",
              "      <td>1</td>\n",
              "      <td>굿</td>\n",
              "      <td>[]</td>\n",
              "    </tr>\n",
              "    <tr>\n",
              "      <th>9</th>\n",
              "      <td>9250537</td>\n",
              "      <td>바보가 아니라 병 쉰 인듯</td>\n",
              "      <td>1</td>\n",
              "      <td>바보가 아니라 병 쉰 인듯</td>\n",
              "      <td>[바보, 아니]</td>\n",
              "    </tr>\n",
              "    <tr>\n",
              "      <th>10</th>\n",
              "      <td>9730759</td>\n",
              "      <td>내 나이와 같은 영화를 지금 본 나는 감동적이다..하지만 훗날 다시보면대사하나하나 ...</td>\n",
              "      <td>1</td>\n",
              "      <td>내 나이와 같은 영화를 지금 본 나는 감동적이다하지만 훗날 다시보면대사하나하나 그 ...</td>\n",
              "      <td>[나이, 영화, 지금, 감동적, 다하, 지만, 훗날, 다시, 대사, 하나하나, 감정...</td>\n",
              "    </tr>\n",
              "    <tr>\n",
              "      <th>11</th>\n",
              "      <td>640794</td>\n",
              "      <td>재밌다</td>\n",
              "      <td>1</td>\n",
              "      <td>재밌다</td>\n",
              "      <td>[재밌]</td>\n",
              "    </tr>\n",
              "    <tr>\n",
              "      <th>12</th>\n",
              "      <td>9537008</td>\n",
              "      <td>고질라니무 귀엽다능ㅋㅋ</td>\n",
              "      <td>1</td>\n",
              "      <td>고질라니무 귀엽다능</td>\n",
              "      <td>[고질, 라니, 귀엽]</td>\n",
              "    </tr>\n",
              "    <tr>\n",
              "      <th>13</th>\n",
              "      <td>4911311</td>\n",
              "      <td>영화의 오페라화라고 해야할 작품. 극단적 평갈림은 어쩔 수 없는 듯.</td>\n",
              "      <td>1</td>\n",
              "      <td>영화의 오페라화라고 해야할 작품 극단적 평갈림은 어쩔 수 없는 듯</td>\n",
              "      <td>[영화, 오페라, 라고, 어야, 작품, 극단적, 갈리, 어쩌]</td>\n",
              "    </tr>\n",
              "    <tr>\n",
              "      <th>14</th>\n",
              "      <td>6686673</td>\n",
              "      <td>3도 반전 좋았제 ^^</td>\n",
              "      <td>1</td>\n",
              "      <td>3도 반전 좋았제</td>\n",
              "      <td>[반전, 좋았]</td>\n",
              "    </tr>\n",
              "    <tr>\n",
              "      <th>15</th>\n",
              "      <td>9034036</td>\n",
              "      <td>평점 왜 낮아? 긴장감 스릴감 진짜 최고인데 진짜 전장에서 느끼는 공포를 생생하게 ...</td>\n",
              "      <td>1</td>\n",
              "      <td>평점 왜 낮아 긴장감 스릴감 진짜 최고인데 진짜 전장에서 느끼는 공포를 생생하게 전해준다</td>\n",
              "      <td>[평점, 긴장감, 스릴, 진짜, 최고, ㄴ데, 진짜, 전장, 에서, 느끼, 공포, ...</td>\n",
              "    </tr>\n",
              "    <tr>\n",
              "      <th>16</th>\n",
              "      <td>979683</td>\n",
              "      <td>네고시에이터랑 소재만 같을 뿐.. 아무런 관련없음..</td>\n",
              "      <td>1</td>\n",
              "      <td>네고시에이터랑 소재만 같을 뿐 아무런 관련없음</td>\n",
              "      <td>[네고시에이터, 소재, 아무런, 관련]</td>\n",
              "    </tr>\n",
              "    <tr>\n",
              "      <th>17</th>\n",
              "      <td>165498</td>\n",
              "      <td>단연 최고</td>\n",
              "      <td>1</td>\n",
              "      <td>단연 최고</td>\n",
              "      <td>[단연, 최고]</td>\n",
              "    </tr>\n",
              "    <tr>\n",
              "      <th>18</th>\n",
              "      <td>8703997</td>\n",
              "      <td>가면 갈수록 더욱 빠져드네요 밀회 화이팅!!</td>\n",
              "      <td>1</td>\n",
              "      <td>가면 갈수록 더욱 빠져드네요 밀회 화이팅</td>\n",
              "      <td>[가면, ㄹ수록, 더욱, 빠져들, 네요, 밀회, 화이]</td>\n",
              "    </tr>\n",
              "    <tr>\n",
              "      <th>19</th>\n",
              "      <td>9468781</td>\n",
              "      <td>어?생각없이 봤는데 상당한 수작.일본영화 10년내 최고로 마음에 들었다.강렬한 임팩...</td>\n",
              "      <td>1</td>\n",
              "      <td>어생각없이 봤는데 상당한 수작일본영화 10년내 최고로 마음에 들었다강렬한 임팩트가 일품</td>\n",
              "      <td>[생각, 없이, 는데, 상당, 수작, 일본, 영화, 10, 최고, 마음, 강렬, 임...</td>\n",
              "    </tr>\n",
              "  </tbody>\n",
              "</table>\n",
              "</div>"
            ],
            "text/plain": [
              "          id  ...                                          clean_doc\n",
              "0    8112052  ...                       [어리, 보고, 지금, 다시, 아도, 재밌, 어요]\n",
              "1    8132799  ...  [디자인, 배우, 학생, 으로, 외국, 디자이너, 일구, 전통, 통하, 발전, 문화...\n",
              "2    4655635  ...                [폴리스, 스토리, 시리즈, 부터, 버리, ㄹ게, 하나, 최고]\n",
              "3    9251303  ...  [연기, 진짜, 지루, 라고, 생각, 는데, 몰입, 어서, 그리하, 이렇, 진짜, 영화]\n",
              "4   10067386  ...                             [안개, 자욱, 밤하늘, 초승달, 영화]\n",
              "5    2190435  ...                   [사랑, 해보, 사람, 라면, 처음, 부터, 까지, 영화]\n",
              "6    9279041  ...                          [완전, 감동, ㅂ니다, 다시, 아도, 감동]\n",
              "7    7865729  ...                               [전쟁, 나오, 나요, 나오, 빠로]\n",
              "8    7477618  ...                                                 []\n",
              "9    9250537  ...                                           [바보, 아니]\n",
              "10   9730759  ...  [나이, 영화, 지금, 감동적, 다하, 지만, 훗날, 다시, 대사, 하나하나, 감정...\n",
              "11    640794  ...                                               [재밌]\n",
              "12   9537008  ...                                       [고질, 라니, 귀엽]\n",
              "13   4911311  ...                 [영화, 오페라, 라고, 어야, 작품, 극단적, 갈리, 어쩌]\n",
              "14   6686673  ...                                           [반전, 좋았]\n",
              "15   9034036  ...  [평점, 긴장감, 스릴, 진짜, 최고, ㄴ데, 진짜, 전장, 에서, 느끼, 공포, ...\n",
              "16    979683  ...                              [네고시에이터, 소재, 아무런, 관련]\n",
              "17    165498  ...                                           [단연, 최고]\n",
              "18   8703997  ...                     [가면, ㄹ수록, 더욱, 빠져들, 네요, 밀회, 화이]\n",
              "19   9468781  ...  [생각, 없이, 는데, 상당, 수작, 일본, 영화, 10, 최고, 마음, 강렬, 임...\n",
              "\n",
              "[20 rows x 5 columns]"
            ]
          },
          "metadata": {
            "tags": []
          },
          "execution_count": 17
        }
      ]
    },
    {
      "cell_type": "markdown",
      "metadata": {
        "id": "dHMHzY29sGu1"
      },
      "source": [
        "3) gensim을 사용한 인코딩 처리\n",
        "- 토큰화된 문서를 기반으로 각 단어를 정수로 인코딩\n",
        "- 각 문서내의 단어의 빈도수를 구함\n",
        "- 예시) dictionary[1]은 정수인코딩 1번으로 처리된 단어를 의미, corpus[1] 1번 문서의 단어 빈도임"
      ]
    },
    {
      "cell_type": "code",
      "metadata": {
        "scrolled": false,
        "id": "XpbfG3aAsGu1",
        "outputId": "677c5485-d497-4fa9-83d3-8c063fb42166",
        "colab": {
          "base_uri": "https://localhost:8080/",
          "height": 35
        }
      },
      "source": [
        "from gensim import corpora\n",
        "dictionary = corpora.Dictionary(doc['clean_doc'])\n",
        "corpus = [dictionary.doc2bow(text) for text in doc['clean_doc']]\n",
        "print(dictionary[1], corpus[1])"
      ],
      "execution_count": 18,
      "outputs": [
        {
          "output_type": "stream",
          "text": [
            "보고 [(7, 1), (8, 1), (9, 1), (10, 1), (11, 1), (12, 1), (13, 1), (14, 1), (15, 1), (16, 1), (17, 1), (18, 1), (19, 1), (20, 1), (21, 1), (22, 1), (23, 1), (24, 1), (25, 1), (26, 1), (27, 1), (28, 1), (29, 1), (30, 1), (31, 2), (32, 1), (33, 1), (34, 1)]\n"
          ],
          "name": "stdout"
        }
      ]
    },
    {
      "cell_type": "code",
      "metadata": {
        "id": "oynQ87cYsGu3",
        "outputId": "aa9470df-b923-4a6d-8251-8adc81a1fb85",
        "colab": {
          "base_uri": "https://localhost:8080/",
          "height": 1000
        }
      },
      "source": [
        "#  문서와 코퍼스의 빈도를 기준 출력\n",
        "[[(dictionary[id], freq) for id, freq in cp] for cp in corpus[:100]]"
      ],
      "execution_count": 19,
      "outputs": [
        {
          "output_type": "execute_result",
          "data": {
            "text/plain": [
              "[[('다시', 1), ('보고', 1), ('아도', 1), ('어리', 1), ('어요', 1), ('재밌', 1), ('지금', 1)],\n",
              " [('ㅂ니다', 1),\n",
              "  ('감사', 1),\n",
              "  ('까지', 1),\n",
              "  ('나가', 1),\n",
              "  ('는데', 1),\n",
              "  ('다는', 1),\n",
              "  ('디자이너', 1),\n",
              "  ('디자인', 1),\n",
              "  ('문화', 1),\n",
              "  ('발전', 1),\n",
              "  ('배우', 1),\n",
              "  ('부럽', 1),\n",
              "  ('사람', 1),\n",
              "  ('사실', 1),\n",
              "  ('산업', 1),\n",
              "  ('시절', 1),\n",
              "  ('어렵', 1),\n",
              "  ('에서', 1),\n",
              "  ('열정', 1),\n",
              "  ('외국', 1),\n",
              "  ('우리나라', 1),\n",
              "  ('으로', 1),\n",
              "  ('이루', 1),\n",
              "  ('일구', 1),\n",
              "  ('전통', 2),\n",
              "  ('지키', 1),\n",
              "  ('통하', 1),\n",
              "  ('학생', 1)],\n",
              " [('ㄹ게', 1),\n",
              "  ('버리', 1),\n",
              "  ('부터', 1),\n",
              "  ('스토리', 1),\n",
              "  ('시리즈', 1),\n",
              "  ('최고', 1),\n",
              "  ('폴리스', 1),\n",
              "  ('하나', 1)],\n",
              " [('는데', 1),\n",
              "  ('그리하', 1),\n",
              "  ('라고', 1),\n",
              "  ('몰입', 1),\n",
              "  ('생각', 1),\n",
              "  ('어서', 1),\n",
              "  ('연기', 1),\n",
              "  ('영화', 1),\n",
              "  ('이렇', 1),\n",
              "  ('지루', 1),\n",
              "  ('진짜', 2)],\n",
              " [('영화', 1), ('밤하늘', 1), ('안개', 1), ('자욱', 1), ('초승달', 1)],\n",
              " [('까지', 1),\n",
              "  ('사람', 1),\n",
              "  ('부터', 1),\n",
              "  ('영화', 1),\n",
              "  ('라면', 1),\n",
              "  ('사랑', 1),\n",
              "  ('처음', 1),\n",
              "  ('해보', 1)],\n",
              " [('다시', 1), ('아도', 1), ('ㅂ니다', 1), ('감동', 2), ('완전', 1)],\n",
              " [('나오', 2), ('나요', 1), ('빠로', 1), ('전쟁', 1)],\n",
              " [],\n",
              " [('바보', 1), ('아니', 1)],\n",
              " [('다시', 1),\n",
              "  ('지금', 1),\n",
              "  ('영화', 1),\n",
              "  ('감동적', 1),\n",
              "  ('감정', 1),\n",
              "  ('나이', 1),\n",
              "  ('다하', 1),\n",
              "  ('대사', 1),\n",
              "  ('완벽', 1),\n",
              "  ('이해', 1),\n",
              "  ('지만', 1),\n",
              "  ('하나하나', 1),\n",
              "  ('훗날', 1)],\n",
              " [('재밌', 1)],\n",
              " [('고질', 1), ('귀엽', 1), ('라니', 1)],\n",
              " [('라고', 1),\n",
              "  ('영화', 1),\n",
              "  ('갈리', 1),\n",
              "  ('극단적', 1),\n",
              "  ('어야', 1),\n",
              "  ('어쩌', 1),\n",
              "  ('오페라', 1),\n",
              "  ('작품', 1)],\n",
              " [('반전', 1), ('좋았', 1)],\n",
              " [('에서', 1),\n",
              "  ('최고', 1),\n",
              "  ('진짜', 2),\n",
              "  ('ㄴ다', 1),\n",
              "  ('ㄴ데', 1),\n",
              "  ('공포', 1),\n",
              "  ('긴장감', 1),\n",
              "  ('느끼', 1),\n",
              "  ('생생', 1),\n",
              "  ('스릴', 1),\n",
              "  ('전장', 1),\n",
              "  ('전하', 1),\n",
              "  ('평점', 1)],\n",
              " [('관련', 1), ('네고시에이터', 1), ('소재', 1), ('아무런', 1)],\n",
              " [('최고', 1), ('단연', 1)],\n",
              " [('ㄹ수록', 1),\n",
              "  ('가면', 1),\n",
              "  ('네요', 1),\n",
              "  ('더욱', 1),\n",
              "  ('밀회', 1),\n",
              "  ('빠져들', 1),\n",
              "  ('화이', 1)],\n",
              " [('는데', 1),\n",
              "  ('최고', 1),\n",
              "  ('생각', 1),\n",
              "  ('영화', 1),\n",
              "  ('10', 1),\n",
              "  ('강렬', 1),\n",
              "  ('마음', 1),\n",
              "  ('상당', 1),\n",
              "  ('수작', 1),\n",
              "  ('없이', 1),\n",
              "  ('일본', 1),\n",
              "  ('일품', 1),\n",
              "  ('임팩트', 1)],\n",
              " [('범죄', 1), ('스릴러', 1), ('오랜만', 1), ('제대', 1)],\n",
              " [('사랑', 1),\n",
              "  ('아니', 1),\n",
              "  ('전하', 1),\n",
              "  ('마음', 1),\n",
              "  ('ㄴ다는', 1),\n",
              "  ('교복', 1),\n",
              "  ('그러', 1),\n",
              "  ('그저', 1),\n",
              "  ('꺼내', 1),\n",
              "  ('마디', 1),\n",
              "  ('못하', 1),\n",
              "  ('미처', 1),\n",
              "  ('벅차', 1),\n",
              "  ('볼펜', 1),\n",
              "  ('설치', 1),\n",
              "  ('션자이', 1),\n",
              "  ('어도', 1),\n",
              "  ('역시', 1),\n",
              "  ('자국', 1),\n",
              "  ('좋아하', 1),\n",
              "  ('형태', 1)],\n",
              " [('마지막', 1)],\n",
              " [('강압', 1), ('대하', 1), ('비판', 1), ('세뇌', 1), ('용서', 1), ('적용', 1)],\n",
              " [('평점', 1), ('명작', 1), ('시대', 1), ('이래', 1), ('중세', 1)],\n",
              " [('까지', 1),\n",
              "  ('시절', 1),\n",
              "  ('최고', 1),\n",
              "  ('마지막', 1),\n",
              "  ('명작', 1),\n",
              "  ('OST', 1),\n",
              "  ('ㄴ다면', 1),\n",
              "  ('가슴속', 1),\n",
              "  ('기억', 1),\n",
              "  ('눈부시', 1),\n",
              "  ('로버트', 1),\n",
              "  ('슬프', 1),\n",
              "  ('시간', 1),\n",
              "  ('아름답', 1),\n",
              "  ('아역', 1),\n",
              "  ('영상', 1),\n",
              "  ('영원히', 1),\n",
              "  ('장면', 1),\n",
              "  ('정말', 1),\n",
              "  ('제니퍼코넬리', 1),\n",
              "  ('존재', 1),\n",
              "  ('짜리', 1),\n",
              "  ('한번', 1)],\n",
              " [('사람', 1), ('내가', 1), ('는지', 1), ('더라', 1), ('어떻', 1), ('저러', 1), ('화나', 1)],\n",
              " [('에서', 1),\n",
              "  ('으로', 1),\n",
              "  ('시간', 1),\n",
              "  ('공간', 1),\n",
              "  ('그것', 1),\n",
              "  ('다큐', 1),\n",
              "  ('면서', 1),\n",
              "  ('악마', 1),\n",
              "  ('엉뚱', 1),\n",
              "  ('여러', 1),\n",
              "  ('인간', 1),\n",
              "  ('잠재', 1),\n",
              "  ('존속', 1),\n",
              "  ('현하', 1)],\n",
              " [('최고', 1),\n",
              "  ('면서', 1),\n",
              "  ('동안', 1),\n",
              "  ('삼일', 1),\n",
              "  ('여운', 1),\n",
              "  ('줄이', 1),\n",
              "  ('틈틈이', 1)],\n",
              " [('다시', 1),\n",
              "  ('에서', 1),\n",
              "  ('영화', 1),\n",
              "  ('더욱', 1),\n",
              "  ('경각심', 1),\n",
              "  ('나서', 1),\n",
              "  ('실화', 1),\n",
              "  ('어디', 1),\n",
              "  ('일깨우', 1),\n",
              "  ('일어', 1),\n",
              "  ('충격', 1)],\n",
              " [('라면', 1), ('작품', 1), ('가치', 1), ('그라샴', 1), ('한번쯤', 1)],\n",
              " [('ㅂ니다', 1), ('문화', 1), ('대하', 1), ('농아', 1), ('아야', 1)],\n",
              " [('어리', 1), ('재밌', 1), ('연기', 1), ('되게', 1), ('범수', 1), ('이거', 1), ('정재', 1)],\n",
              " [('감동적', 1), ('매우', 1), ('우정', 1), ('친구', 1)],\n",
              " [('제발', 1)],\n",
              " [('ㄴ다', 1), ('너무', 1), ('어울리', 1), ('재미있', 1)],\n",
              " [('연기', 1), ('못하', 1), ('대체', 1), ('이크', 1)],\n",
              " [('영화', 1), ('내내', 1), ('미소', 1), ('샤방샤', 1), ('입가', 1)],\n",
              " [('나오', 1), ('재미있', 1), ('많이', 1), ('원표', 1), ('이양', 1), ('조연', 1)],\n",
              " [('어리', 1),\n",
              "  ('으로', 1),\n",
              "  ('영화', 1),\n",
              "  ('강추', 1),\n",
              "  ('느낌', 1),\n",
              "  ('들어가', 1),\n",
              "  ('듯하', 1),\n",
              "  ('마치', 1),\n",
              "  ('바다', 1),\n",
              "  ('아쿠아', 1),\n",
              "  ('에게', 1),\n",
              "  ('자녀', 1)],\n",
              " [('노동자', 1), ('세우', 1), ('이야기', 1), ('정의', 1), ('콜텍', 1), ('콜트', 1)],\n",
              " [('영화', 1), ('마음', 1), ('브라질', 1), ('사라지', 1)],\n",
              " [('영화', 1),\n",
              "  ('지만', 1),\n",
              "  ('마음', 1),\n",
              "  ('좋아하', 1),\n",
              "  ('내내', 1),\n",
              "  ('그리', 1),\n",
              "  ('남자', 1),\n",
              "  ('여배우', 1),\n",
              "  ('울리', 1)],\n",
              " [('기대', 1), ('도법', 1), ('멤버', 1), ('모두', 1)],\n",
              " [('최고', 1), ('영화', 1), ('정말', 1), ('재미있', 1), ('액션', 1)],\n",
              " [('재밌', 2),\n",
              "  ('에서', 1),\n",
              "  ('생각', 1),\n",
              "  ('어서', 1),\n",
              "  ('영화', 1),\n",
              "  ('나오', 1),\n",
              "  ('긴장감', 1),\n",
              "  ('없이', 1),\n",
              "  ('좋아하', 1),\n",
              "  ('내가', 1),\n",
              "  ('이거', 2),\n",
              "  ('너무', 1),\n",
              "  ('남자', 1),\n",
              "  ('ㄴ가', 2),\n",
              "  ('ㄴ지', 1),\n",
              "  ('격투', 1),\n",
              "  ('그냥', 1),\n",
              "  ('그렇', 2),\n",
              "  ('길래', 1),\n",
              "  ('던데', 1),\n",
              "  ('모르', 1),\n",
              "  ('스마트', 1),\n",
              "  ('아무', 1),\n",
              "  ('아서', 1),\n",
              "  ('암살', 1),\n",
              "  ('워낙에', 1),\n",
              "  ('이정재', 1),\n",
              "  ('티비', 1),\n",
              "  ('하여튼', 1),\n",
              "  ('흥미진진', 1)],\n",
              " [('부터', 1),\n",
              "  ('ㄴ데', 1),\n",
              "  ('그거', 1),\n",
              "  ('나불거리', 1),\n",
              "  ('납득', 1),\n",
              "  ('대한민국', 1),\n",
              "  ('만하', 1),\n",
              "  ('목숨', 1),\n",
              "  ('북한', 1),\n",
              "  ('시키', 1),\n",
              "  ('으면', 1),\n",
              "  ('인정', 2),\n",
              "  ('좋가튼년들', 1)],\n",
              " [('ㅂ니다', 1),\n",
              "  ('어야', 1),\n",
              "  ('그대', 1),\n",
              "  ('내리', 1),\n",
              "  ('대여', 1),\n",
              "  ('보이', 1),\n",
              "  ('시작', 1)],\n",
              " [('어요', 1),\n",
              "  ('영화', 1),\n",
              "  ('매력적', 1),\n",
              "  ('반갑', 1),\n",
              "  ('얼굴', 1),\n",
              "  ('여주인공', 1),\n",
              "  ('유쾌', 1)],\n",
              " [('너무', 1), ('내용', 1), ('아요', 1)],\n",
              " [('배우', 1),\n",
              "  ('연기', 1),\n",
              "  ('ㄴ다', 1),\n",
              "  ('정말', 1),\n",
              "  ('아이', 1),\n",
              "  ('요즘', 1),\n",
              "  ('잘하', 1),\n",
              "  ('정도', 1),\n",
              "  ('해먹', 1)],\n",
              " [('정말', 1), ('어디', 1), ('받으', 1), ('봣는대', 1), ('잇조', 1)],\n",
              " [('감동', 1), ('ㄴ다', 1), ('밀려오', 1), ('음악', 1), ('탱고', 1)],\n",
              " [('명작', 1), ('으면', 1), ('따뜻', 1), ('평생', 1), ('후회', 1)],\n",
              " [('어요', 3),\n",
              "  ('생각', 1),\n",
              "  ('나오', 1),\n",
              "  ('아름답', 1),\n",
              "  ('여러', 1),\n",
              "  ('많이', 1),\n",
              "  ('으면', 1),\n",
              "  ('가지', 1),\n",
              "  ('드라마', 2),\n",
              "  ('매력', 2),\n",
              "  ('영상미', 1),\n",
              "  ('이런', 1),\n",
              "  ('캐릭터', 1)],\n",
              " [('는데', 1), ('최고', 1), ('마지막', 1), ('정말', 1), ('결말', 1)],\n",
              " [('영화', 1), ('네요', 1), ('슬프', 1), ('는지', 1), ('너무', 1), ('이제', 1)],\n",
              " [('어서', 1), ('잔잔', 1), ('재미', 1)],\n",
              " [('영화', 1), ('내가', 1), ('순위', 1)],\n",
              " [('재밌', 2), ('습니다', 2)],\n",
              " [('영화', 1), ('상당히', 1), ('훌륭', 1)],\n",
              " [('ㄴ데', 1),\n",
              "  ('감탄', 1),\n",
              "  ('대박', 1),\n",
              "  ('미워하', 1),\n",
              "  ('순간', 1),\n",
              "  ('신동엽', 1),\n",
              "  ('얄밉', 1),\n",
              "  ('영자', 1),\n",
              "  ('웃기', 1),\n",
              "  ('이동', 1),\n",
              "  ('캐치', 1)],\n",
              " [('영화', 1), ('인생', 1)],\n",
              " [('는데', 1),\n",
              "  ('사실', 1),\n",
              "  ('영화', 1),\n",
              "  ('지만', 1),\n",
              "  ('너무하', 1),\n",
              "  ('니들', 1),\n",
              "  ('떨어지', 1),\n",
              "  ('별로', 1),\n",
              "  ('비하', 1),\n",
              "  ('쓰레기', 1),\n",
              "  ('전작', 1),\n",
              "  ('한국', 1)],\n",
              " [('지금', 1),\n",
              "  ('영화', 1),\n",
              "  ('어도', 1),\n",
              "  ('눈물', 1),\n",
              "  ('다소', 1),\n",
              "  ('당시', 1),\n",
              "  ('사발', 1),\n",
              "  ('진부', 1),\n",
              "  ('흘리', 1)],\n",
              " [('우정', 1),\n",
              "  ('로서', 1),\n",
              "  ('마저', 1),\n",
              "  ('부정', 1),\n",
              "  ('사명감', 1),\n",
              "  ('신부', 1),\n",
              "  ('실천', 1),\n",
              "  ('자신', 1),\n",
              "  ('제리', 1),\n",
              "  ('처절', 1)],\n",
              " [('314', 1), ('메이커', 1), ('원주율', 1)],\n",
              " [('는데', 1), ('영화', 2), ('진짜', 1), ('가족', 1), ('추석', 1), ('특선', 1)],\n",
              " [('영화', 1), ('아요', 1), ('너무너무', 1), ('선택', 1), ('애기', 1), ('우리', 1)],\n",
              " [('어요', 1), ('재미있', 1)],\n",
              " [('생각', 1), ('괜찮', 1), ('보다', 1), ('조합', 1)],\n",
              " [('시대', 1), ('바로', 1), ('어머니', 1)],\n",
              " [('사람', 1),\n",
              "  ('지만', 1),\n",
              "  ('나도', 1),\n",
              "  ('드래곤', 1),\n",
              "  ('만듬', 1),\n",
              "  ('밌으', 1),\n",
              "  ('에볼루션보다', 1),\n",
              "  ('원작', 1)],\n",
              " [('우리나라', 1), ('최고', 1), ('예능', 1)],\n",
              " [('영화', 1),\n",
              "  ('정말', 1),\n",
              "  ('면서', 1),\n",
              "  ('티비', 1),\n",
              "  ('돌리', 1),\n",
              "  ('방학', 1),\n",
              "  ('비비', 1),\n",
              "  ('아침', 1),\n",
              "  ('우연히', 1),\n",
              "  ('졸리', 1),\n",
              "  ('채널', 1)],\n",
              " [('다시', 1), ('영화', 1), ('마음', 1), ('너무', 1), ('아프', 1)],\n",
              " [('트랩', 1)],\n",
              " [('다는', 1),\n",
              "  ('사실', 1),\n",
              "  ('정말', 1),\n",
              "  ('친구', 1),\n",
              "  ('재미있', 1),\n",
              "  ('훌륭', 1),\n",
              "  ('권력', 1),\n",
              "  ('깨우치', 1),\n",
              "  ('역사적', 1),\n",
              "  ('의리', 1)],\n",
              " [('재밌', 1),\n",
              "  ('는데', 1),\n",
              "  ('으로', 1),\n",
              "  ('처음', 1),\n",
              "  ('완전', 1),\n",
              "  ('너무', 1),\n",
              "  ('어울리', 1),\n",
              "  ('으면', 1),\n",
              "  ('내용', 1),\n",
              "  ('음악', 1),\n",
              "  ('습니다', 1),\n",
              "  ('갈수록', 1),\n",
              "  ('달달', 1),\n",
              "  ('배경', 1),\n",
              "  ('지네', 1),\n",
              "  ('초롱', 1),\n",
              "  ('행복', 1)],\n",
              " [('어요', 1),\n",
              "  ('재밌', 1),\n",
              "  ('배우', 1),\n",
              "  ('부터', 2),\n",
              "  ('스토리', 1),\n",
              "  ('하나', 1),\n",
              "  ('어서', 1),\n",
              "  ('연기', 1),\n",
              "  ('지만', 1),\n",
              "  ('네요', 2),\n",
              "  ('어디', 1),\n",
              "  ('아서', 1),\n",
              "  ('흥미진진', 1),\n",
              "  ('아요', 1),\n",
              "  ('너무너무', 1),\n",
              "  ('본방', 1),\n",
              "  ('빠지', 1),\n",
              "  ('사수', 1),\n",
              "  ('요새', 1),\n",
              "  ('중간', 1),\n",
              "  ('챙기', 1),\n",
              "  ('탄탄', 1)],\n",
              " [('인생', 1), ('제목', 1)],\n",
              " [('재미', 1), ('은데', 1), ('화질', 1)],\n",
              " [('감동', 1), ('네요', 1), ('가을', 2)],\n",
              " [('는데', 1),\n",
              "  ('나오', 2),\n",
              "  ('ㄴ데', 1),\n",
              "  ('이런', 1),\n",
              "  ('16', 1),\n",
              "  ('ost', 1),\n",
              "  ('다니', 1),\n",
              "  ('대단', 1),\n",
              "  ('때문', 1),\n",
              "  ('라는', 1),\n",
              "  ('밖에', 1),\n",
              "  ('벌써', 1),\n",
              "  ('퀄리티', 1)],\n",
              " [('까지', 1), ('ㄴ데', 1), ('안타깝', 1), ('일단', 1), ('자살', 1), ('장국', 1)],\n",
              " [('어서', 1), ('극적', 1), ('사실적', 1)],\n",
              " [('뀰잼이다뀰잼이라구', 1)],\n",
              " [('어요', 1), ('재미있', 1)],\n",
              " [('어리', 1),\n",
              "  ('어요', 1),\n",
              "  ('는데', 1),\n",
              "  ('사람', 1),\n",
              "  ('에서', 1),\n",
              "  ('감정', 1),\n",
              "  ('어야', 1),\n",
              "  ('면서', 1),\n",
              "  ('느낌', 1),\n",
              "  ('거든요', 1),\n",
              "  ('걱정되', 1),\n",
              "  ('경찰서', 1),\n",
              "  ('계속', 1),\n",
              "  ('그런', 1),\n",
              "  ('기자', 1),\n",
              "  ('냉장고', 1),\n",
              "  ('덕분', 1),\n",
              "  ('드리', 1),\n",
              "  ('라고요', 1),\n",
              "  ('모든', 1),\n",
              "  ('목격', 1),\n",
              "  ('보호', 1),\n",
              "  ('부탁', 1),\n",
              "  ('비슷', 1),\n",
              "  ('상가', 1),\n",
              "  ('세요', 1),\n",
              "  ('양심', 1),\n",
              "  ('예전', 1),\n",
              "  ('왔다갔다하', 1),\n",
              "  ('움찔', 1),\n",
              "  ('이나', 1),\n",
              "  ('저만', 1),\n",
              "  ('증언', 1),\n",
              "  ('청소년', 1),\n",
              "  ('추행', 1),\n",
              "  ('폭력', 1),\n",
              "  ('한가지', 1),\n",
              "  ('해지', 1)],\n",
              " [('남자', 1), ('섹시하', 1), ('있쪙', 1), ('주인공', 1)],\n",
              " [('사실', 1), ('어설프', 1)],\n",
              " [('사람', 1),\n",
              "  ('최고', 1),\n",
              "  ('라고', 1),\n",
              "  ('영화', 1),\n",
              "  ('정말', 1),\n",
              "  ('모르', 1),\n",
              "  ('21', 1),\n",
              "  ('SF', 1),\n",
              "  ('세기', 1),\n",
              "  ('이것', 1)],\n",
              " [('지금', 1),\n",
              "  ('까지', 1),\n",
              "  ('는데', 1),\n",
              "  ('다는', 1),\n",
              "  ('에서', 1),\n",
              "  ('네요', 1),\n",
              "  ('정말', 1),\n",
              "  ('친구', 1),\n",
              "  ('느낌', 1),\n",
              "  ('95', 1),\n",
              "  ('비디오방', 1)],\n",
              " [('어야', 1), ('거가', 1), ('기다리', 1), ('빨리', 1), ('오래', 1), ('헌데', 1)],\n",
              " [('으로', 1), ('하나', 1), ('10', 1), ('감독', 1), ('남기', 1), ('이름', 1)],\n",
              " [('최고', 2), ('진짜', 1), ('마이', 1), ('우상', 1), ('형님', 1)],\n",
              " [('영화', 2),\n",
              "  ('좋아하', 1),\n",
              "  ('이런', 1),\n",
              "  ('다니', 1),\n",
              "  ('6250', 1),\n",
              "  ('amy', 1),\n",
              "  ('당신', 1),\n",
              "  ('장르', 2)],\n",
              " [('지금', 1), ('까지', 1), ('최고', 1), ('영화', 1)],\n",
              " [('아도', 1),\n",
              "  ('는데', 1),\n",
              "  ('이루', 1),\n",
              "  ('생각', 1),\n",
              "  ('어서', 1),\n",
              "  ('ㄴ다', 1),\n",
              "  ('으면', 1),\n",
              "  ('거슬리', 1),\n",
              "  ('다고', 1),\n",
              "  ('매회', 1),\n",
              "  ('자꾸', 1),\n",
              "  ('죄책감', 1)],\n",
              " [('다시', 1),\n",
              "  ('보고', 1),\n",
              "  ('아도', 1),\n",
              "  ('어리', 1),\n",
              "  ('는데', 1),\n",
              "  ('라고', 1),\n",
              "  ('생각', 1),\n",
              "  ('어서', 1),\n",
              "  ('연기', 1),\n",
              "  ('영화', 2),\n",
              "  ('진짜', 1),\n",
              "  ('감동', 1),\n",
              "  ('아니', 1),\n",
              "  ('ㄴ다', 1),\n",
              "  ('평점', 1),\n",
              "  ('대하', 1),\n",
              "  ('비판', 1),\n",
              "  ('기억', 1),\n",
              "  ('는지', 1),\n",
              "  ('기자', 1),\n",
              "  ('굉장히', 1),\n",
              "  ('나지', 1),\n",
              "  ('디테일', 1),\n",
              "  ('만들', 1),\n",
              "  ('묘사', 1),\n",
              "  ('붙이', 1),\n",
              "  ('웃음', 1),\n",
              "  ('이랑', 1),\n",
              "  ('절대', 1),\n",
              "  ('정치', 1),\n",
              "  ('표현', 1),\n",
              "  ('흥행', 1)]]"
            ]
          },
          "metadata": {
            "tags": []
          },
          "execution_count": 19
        }
      ]
    },
    {
      "cell_type": "code",
      "metadata": {
        "id": "zJvgM27ssGu5",
        "outputId": "5a7d0aac-c286-4971-a6ff-02ab377b51d6",
        "colab": {
          "base_uri": "https://localhost:8080/",
          "height": 35
        }
      },
      "source": [
        "len(dictionary)"
      ],
      "execution_count": 20,
      "outputs": [
        {
          "output_type": "execute_result",
          "data": {
            "text/plain": [
              "10139"
            ]
          },
          "metadata": {
            "tags": []
          },
          "execution_count": 20
        }
      ]
    },
    {
      "cell_type": "markdown",
      "metadata": {
        "id": "WQTDlj5YsGu8"
      },
      "source": [
        "4) 토픽모델 구축(LDA Model 학습)\n",
        "- corpus : 문서 벡터\n",
        "- id2word : 단어ID와 매핑된 단어의 빈도\n",
        "- num_topics : 가설 토픽 개수\n",
        "- chunksize : 훈련 알고리즘에 사용되는 문서사이즈, 빠른 학습을 위해서 사이즈 상향 \n",
        "- Hoffman의 논문에 의하면 Chunksize는 모델 품질에 영향은 일부 있음\n",
        "- pass : epochs와 같은 용어로 전체 코퍼스에서 모델을 학습시키는 빈도\n",
        "- iteration : 각각 문서에 대한 반복횟수, passes & iteration 은 많을수록 좋음\n",
        "- per_word_topics : 각 단어에 대해 가장 가능성이 높은 주제의 내림차순으로 토픽목록 x 피처길이 = 토픽값 계산 "
      ]
    },
    {
      "cell_type": "code",
      "metadata": {
        "id": "FnN9SQN_sGu8",
        "outputId": "60d35f94-8b18-4131-a7a7-d020e822adb8",
        "colab": {
          "base_uri": "https://localhost:8080/",
          "height": 53
        }
      },
      "source": [
        "import gensim\n",
        "from gensim.models.ldamodel import LdaModel\n",
        "\n",
        "num_topics = 10 # 가설 토픽개수\n",
        "chunksize = 2000 # 훈련알고리즘에 사용되는 문서의 개수\n",
        "passes = 20 # 모델 학습빈도\n",
        "iterations = 400 # 문서 반복횟수\n",
        "per_word_topics = True # 가능성 높은 주제로 정렬하여 계산\n",
        "\n",
        "%time lda_model = LdaModel(corpus = corpus, id2word = dictionary,\\\n",
        "                           iterations = iterations, num_topics = num_topics)"
      ],
      "execution_count": 21,
      "outputs": [
        {
          "output_type": "stream",
          "text": [
            "CPU times: user 3.9 s, sys: 5.91 ms, total: 3.9 s\n",
            "Wall time: 3.9 s\n"
          ],
          "name": "stdout"
        }
      ]
    },
    {
      "cell_type": "code",
      "metadata": {
        "scrolled": true,
        "id": "Pl52sMi3sGu-"
      },
      "source": [
        "# gensim의 멀티코어로 사용 (상위 모델과 동일하나 성능향상), workers는 코어개수를 의미함\n",
        "# from gensim.models.ldamulticore import LdaMulticore\n",
        "# from gensim.test.utils import common_corpus, common_dictionary\n",
        "\n",
        "# %time lda_model = LdaMulticore(corpus, id2word=dictionary, num_topics=5, workers=4)"
      ],
      "execution_count": 23,
      "outputs": []
    },
    {
      "cell_type": "markdown",
      "metadata": {
        "id": "-iGZep3msGvA"
      },
      "source": [
        "5) gensim을 CoherenceModel을 사용한 성능평가"
      ]
    },
    {
      "cell_type": "code",
      "metadata": {
        "scrolled": false,
        "id": "Jx56-_EnsGvA",
        "outputId": "fc101fc6-1dd5-442f-ed2f-af07ac076b63",
        "colab": {
          "base_uri": "https://localhost:8080/",
          "height": 71
        }
      },
      "source": [
        "from gensim.models.coherencemodel import CoherenceModel\n",
        "\n",
        "cm = CoherenceModel(model=lda_model, corpus=corpus, coherence='u_mass')\n",
        "coherence = cm.get_coherence()\n",
        "\n",
        "# 계산모델의 난이도로 해당 확률 모델의 예측정확도 판정, 수치가 낮을수록 정확성이 높음\n",
        "print(\"Perplexity: \", lda_model.log_perplexity(corpus)) \n",
        "# 추론된 토픽간의 일관성, 높을수록 의미론적 일관성 높음\n",
        "print(\"\\nCoherence: \",coherence)"
      ],
      "execution_count": 24,
      "outputs": [
        {
          "output_type": "stream",
          "text": [
            "Perplexity:  -8.088956090832205\n",
            "\n",
            "Coherence:  -4.098857600096797\n"
          ],
          "name": "stdout"
        }
      ]
    },
    {
      "cell_type": "markdown",
      "metadata": {
        "id": "HXSL2MDxsGvB"
      },
      "source": [
        "6) epoch 반복에 따른 coherence 의 변화식별"
      ]
    },
    {
      "cell_type": "code",
      "metadata": {
        "id": "Hq9fpojasGvC"
      },
      "source": [
        "# import warnings\n",
        "# import time\n",
        "\n",
        "# cohrences=[]\n",
        "# perplexities=[]\n",
        "# passes=[]\n",
        "# warnings.filterwarnings('ignore')\n",
        "\n",
        "# for i in range(10):\n",
        "    \n",
        "#     ntopics, nwords = 200, 100\n",
        "#     if i==0:\n",
        "#         p=1\n",
        "#     else:\n",
        "#         p=i*20\n",
        "#     tic = time.time()\n",
        "#     lda4 = LdaMulticore(corpus, id2word=dictionary, num_topics=ntopics, iterations=400, passes=p)\n",
        "#     print('epoch',p,time.time() - tic)\n",
        "    \n",
        "#     cm = CoherenceModel(model=lda4, corpus=corpus, coherence='u_mass')\n",
        "#     coherence = cm.get_coherence()\n",
        "#     print(\"Coherence\",coherence)\n",
        "#     coherences.append(coherence)\n",
        "#     print('Perplexity: ', lda4.log_perplexity(corpus),'\\n\\n')\n",
        "#     perplexities.append(lda4.log_perplexity(corpus))"
      ],
      "execution_count": 37,
      "outputs": []
    },
    {
      "cell_type": "markdown",
      "metadata": {
        "id": "Uy0ivsPvsGvD"
      },
      "source": [
        "7) 토픽결과 분석 및 추론"
      ]
    },
    {
      "cell_type": "code",
      "metadata": {
        "scrolled": false,
        "id": "nh2wl9-OsGvD",
        "outputId": "8220cf99-4341-4a72-ce2d-b4c7c19015e0",
        "colab": {
          "base_uri": "https://localhost:8080/",
          "height": 197
        }
      },
      "source": [
        "topics = lda_model.print_topics(num_words=10)\n",
        "for topic in topics:\n",
        "    print(topic)"
      ],
      "execution_count": 27,
      "outputs": [
        {
          "output_type": "stream",
          "text": [
            "(0, '0.022*\"영화\" + 0.017*\"으로\" + 0.015*\"재밌\" + 0.011*\"에서\" + 0.010*\"연기\" + 0.009*\"주인공\" + 0.008*\"작품\" + 0.008*\"남자\" + 0.008*\"보다\" + 0.007*\"멋지\"')\n",
            "(1, '0.077*\"영화\" + 0.017*\"ㄴ다\" + 0.012*\"생각\" + 0.012*\"최고\" + 0.011*\"너무\" + 0.009*\"평점\" + 0.008*\"지만\" + 0.008*\"한국\" + 0.008*\"으로\" + 0.008*\"아니\"')\n",
            "(2, '0.066*\"영화\" + 0.024*\"네요\" + 0.023*\"정말\" + 0.020*\"ㅂ니다\" + 0.020*\"습니다\" + 0.019*\"에서\" + 0.017*\"는데\" + 0.012*\"좋아하\" + 0.012*\"평점\" + 0.011*\"괜찮\"')\n",
            "(3, '0.061*\"영화\" + 0.019*\"감동\" + 0.017*\"정말\" + 0.014*\"재미\" + 0.012*\"시간\" + 0.010*\"에서\" + 0.010*\"어요\" + 0.008*\"재밌\" + 0.007*\"는데\" + 0.007*\"까지\"')\n",
            "(4, '0.053*\"재밌\" + 0.032*\"어요\" + 0.031*\"영화\" + 0.027*\"는데\" + 0.022*\"진짜\" + 0.019*\"너무\" + 0.019*\"지만\" + 0.013*\"연기\" + 0.013*\"어서\" + 0.012*\"스토리\"')\n",
            "(5, '0.030*\"영화\" + 0.022*\"사랑\" + 0.010*\"아니\" + 0.010*\"지만\" + 0.010*\"배우\" + 0.010*\"감독\" + 0.010*\"까지\" + 0.010*\"가슴\" + 0.009*\"어서\" + 0.007*\"사람\"')\n",
            "(6, '0.026*\"재미있\" + 0.023*\"어요\" + 0.020*\"영화\" + 0.020*\"완전\" + 0.016*\"너무\" + 0.014*\"다시\" + 0.013*\"아도\" + 0.009*\"기억\" + 0.009*\"네요\" + 0.009*\"대박\"')\n",
            "(7, '0.033*\"영화\" + 0.014*\"장면\" + 0.012*\"10\" + 0.011*\"지만\" + 0.011*\"지금\" + 0.010*\"평점\" + 0.010*\"ㄴ다\" + 0.009*\"ㄴ데\" + 0.009*\"마지막\" + 0.008*\"아야\"')\n",
            "(8, '0.062*\"최고\" + 0.037*\"영화\" + 0.026*\"드라마\" + 0.023*\"ㅂ니다\" + 0.021*\"정말\" + 0.012*\"명작\" + 0.010*\"ㄴ다\" + 0.010*\"감동적\" + 0.009*\"아니\" + 0.009*\"작품\"')\n",
            "(9, '0.070*\"영화\" + 0.017*\"진짜\" + 0.013*\"너무\" + 0.013*\"만들\" + 0.012*\"는데\" + 0.011*\"이거\" + 0.011*\"정말\" + 0.011*\"네요\" + 0.010*\"ㅂ니다\" + 0.010*\"에서\"')\n"
          ],
          "name": "stdout"
        }
      ]
    },
    {
      "cell_type": "code",
      "metadata": {
        "id": "gvSBZrNPsGvF",
        "outputId": "1a8c8bfc-a1be-45e5-fefa-9d29ea045fe9",
        "colab": {
          "base_uri": "https://localhost:8080/",
          "height": 737
        }
      },
      "source": [
        "for i, topic_list in enumerate(lda_model[corpus]):\n",
        "    if i==10:\n",
        "        break\n",
        "    print('\\n',doc['document'][i])\n",
        "    print(doc['clean_doc'][i])\n",
        "    print(i,'번째 문서의 topic 비율은',topic_list)"
      ],
      "execution_count": 28,
      "outputs": [
        {
          "output_type": "stream",
          "text": [
            "\n",
            " 어릴때보고 지금다시봐도 재밌어요ㅋㅋ\n",
            "['어리', '보고', '지금', '다시', '아도', '재밌', '어요']\n",
            "0 번째 문서의 topic 비율은 [(0, 0.012500554), (1, 0.01250132), (2, 0.012502824), (3, 0.012501694), (4, 0.5364981), (5, 0.012500852), (6, 0.012505846), (7, 0.36348382), (8, 0.012502842), (9, 0.012502163)]\n",
            "\n",
            " 디자인을 배우는 학생으로, 외국디자이너와 그들이 일군 전통을 통해 발전해가는 문화산업이 부러웠는데. 사실 우리나라에서도 그 어려운시절에 끝까지 열정을 지킨 노라노 같은 전통이있어 저와 같은 사람들이 꿈을 꾸고 이뤄나갈 수 있다는 것에 감사합니다.\n",
            "['디자인', '배우', '학생', '으로', '외국', '디자이너', '일구', '전통', '통하', '발전', '문화', '산업', '부럽', '는데', '사실', '우리나라', '에서', '어렵', '시절', '까지', '열정', '지키', '전통', '사람', '이루', '나가', '다는', '감사', 'ㅂ니다']\n",
            "1 번째 문서의 topic 비율은 [(2, 0.120916195), (7, 0.8524055)]\n",
            "\n",
            " 폴리스스토리 시리즈는 1부터 뉴까지 버릴께 하나도 없음.. 최고.\n",
            "['폴리스', '스토리', '시리즈', '부터', '버리', 'ㄹ게', '하나', '최고']\n",
            "2 번째 문서의 topic 비율은 [(0, 0.0111113), (1, 0.011112534), (2, 0.011112139), (3, 0.011113836), (4, 0.7557553), (5, 0.011114351), (6, 0.0111114485), (7, 0.011113696), (8, 0.15534303), (9, 0.011112378)]\n",
            "\n",
            " 와.. 연기가 진짜 개쩔구나.. 지루할거라고 생각했는데 몰입해서 봤다.. 그래 이런게 진짜 영화지\n",
            "['연기', '진짜', '지루', '라고', '생각', '는데', '몰입', '어서', '그리하', '이렇', '진짜', '영화']\n",
            "3 번째 문서의 topic 비율은 [(4, 0.9307565)]\n",
            "\n",
            " 안개 자욱한 밤하늘에 떠 있는 초승달 같은 영화.\n",
            "['안개', '자욱', '밤하늘', '초승달', '영화']\n",
            "4 번째 문서의 topic 비율은 [(0, 0.016667027), (1, 0.01666793), (2, 0.84999156), (3, 0.01666766), (4, 0.01666717), (5, 0.016669344), (6, 0.016667003), (7, 0.016667208), (8, 0.016667273), (9, 0.016667807)]\n",
            "\n",
            " 사랑을 해본사람이라면 처음부터 끝까지 웃을수 있는영화\n",
            "['사랑', '해보', '사람', '라면', '처음', '부터', '까지', '영화']\n",
            "5 번째 문서의 topic 비율은 [(0, 0.011115626), (1, 0.31414494), (2, 0.011113261), (3, 0.011113448), (4, 0.01111261), (5, 0.5969465), (6, 0.011111956), (7, 0.01111561), (8, 0.011112683), (9, 0.011113325)]\n",
            "\n",
            " 완전 감동입니다 다시봐도 감동\n",
            "['완전', '감동', 'ㅂ니다', '다시', '아도', '감동']\n",
            "6 번째 문서의 topic 비율은 [(0, 0.014287374), (1, 0.014287526), (2, 0.014291578), (3, 0.37382776), (4, 0.014287122), (5, 0.014286312), (6, 0.51186436), (7, 0.014286974), (8, 0.014292344), (9, 0.014288625)]\n",
            "\n",
            " 개들의 전쟁2 나오나요? 나오면 1빠로 보고 싶음\n",
            "['전쟁', '나오', '나요', '나오', '빠로']\n",
            "7 번째 문서의 topic 비율은 [(0, 0.8499689), (1, 0.016672691), (2, 0.016670022), (3, 0.016673166), (4, 0.01666801), (5, 0.016668512), (6, 0.016670782), (7, 0.016669283), (8, 0.016668843), (9, 0.016669808)]\n",
            "\n",
            " 굿\n",
            "[]\n",
            "8 번째 문서의 topic 비율은 [(0, 0.1), (1, 0.1), (2, 0.1), (3, 0.1), (4, 0.1), (5, 0.1), (6, 0.1), (7, 0.1), (8, 0.1), (9, 0.1)]\n",
            "\n",
            " 바보가 아니라 병 쉰 인듯\n",
            "['바보', '아니']\n",
            "9 번째 문서의 topic 비율은 [(0, 0.6999636), (1, 0.033340465), (2, 0.033335634), (3, 0.03333355), (4, 0.0333354), (5, 0.033343136), (6, 0.033333335), (7, 0.033337805), (8, 0.0333428), (9, 0.03333422)]\n"
          ],
          "name": "stdout"
        }
      ]
    },
    {
      "cell_type": "code",
      "metadata": {
        "id": "JsOWWVOXsGvG",
        "outputId": "73de4aec-fb7d-4552-96ff-b84260eba668",
        "colab": {
          "base_uri": "https://localhost:8080/",
          "height": 557
        }
      },
      "source": [
        "import pprint\n",
        "pprint.pprint(lda_model.print_topics())\n",
        "doc_lda = lda_model[corpus]"
      ],
      "execution_count": 29,
      "outputs": [
        {
          "output_type": "stream",
          "text": [
            "[(0,\n",
            "  '0.022*\"영화\" + 0.017*\"으로\" + 0.015*\"재밌\" + 0.011*\"에서\" + 0.010*\"연기\" + '\n",
            "  '0.009*\"주인공\" + 0.008*\"작품\" + 0.008*\"남자\" + 0.008*\"보다\" + 0.007*\"멋지\"'),\n",
            " (1,\n",
            "  '0.077*\"영화\" + 0.017*\"ㄴ다\" + 0.012*\"생각\" + 0.012*\"최고\" + 0.011*\"너무\" + 0.009*\"평점\" '\n",
            "  '+ 0.008*\"지만\" + 0.008*\"한국\" + 0.008*\"으로\" + 0.008*\"아니\"'),\n",
            " (2,\n",
            "  '0.066*\"영화\" + 0.024*\"네요\" + 0.023*\"정말\" + 0.020*\"ㅂ니다\" + 0.020*\"습니다\" + '\n",
            "  '0.019*\"에서\" + 0.017*\"는데\" + 0.012*\"좋아하\" + 0.012*\"평점\" + 0.011*\"괜찮\"'),\n",
            " (3,\n",
            "  '0.061*\"영화\" + 0.019*\"감동\" + 0.017*\"정말\" + 0.014*\"재미\" + 0.012*\"시간\" + 0.010*\"에서\" '\n",
            "  '+ 0.010*\"어요\" + 0.008*\"재밌\" + 0.007*\"는데\" + 0.007*\"까지\"'),\n",
            " (4,\n",
            "  '0.053*\"재밌\" + 0.032*\"어요\" + 0.031*\"영화\" + 0.027*\"는데\" + 0.022*\"진짜\" + 0.019*\"너무\" '\n",
            "  '+ 0.019*\"지만\" + 0.013*\"연기\" + 0.013*\"어서\" + 0.012*\"스토리\"'),\n",
            " (5,\n",
            "  '0.030*\"영화\" + 0.022*\"사랑\" + 0.010*\"아니\" + 0.010*\"지만\" + 0.010*\"배우\" + 0.010*\"감독\" '\n",
            "  '+ 0.010*\"까지\" + 0.010*\"가슴\" + 0.009*\"어서\" + 0.007*\"사람\"'),\n",
            " (6,\n",
            "  '0.026*\"재미있\" + 0.023*\"어요\" + 0.020*\"영화\" + 0.020*\"완전\" + 0.016*\"너무\" + '\n",
            "  '0.014*\"다시\" + 0.013*\"아도\" + 0.009*\"기억\" + 0.009*\"네요\" + 0.009*\"대박\"'),\n",
            " (7,\n",
            "  '0.033*\"영화\" + 0.014*\"장면\" + 0.012*\"10\" + 0.011*\"지만\" + 0.011*\"지금\" + 0.010*\"평점\" '\n",
            "  '+ 0.010*\"ㄴ다\" + 0.009*\"ㄴ데\" + 0.009*\"마지막\" + 0.008*\"아야\"'),\n",
            " (8,\n",
            "  '0.062*\"최고\" + 0.037*\"영화\" + 0.026*\"드라마\" + 0.023*\"ㅂ니다\" + 0.021*\"정말\" + '\n",
            "  '0.012*\"명작\" + 0.010*\"ㄴ다\" + 0.010*\"감동적\" + 0.009*\"아니\" + 0.009*\"작품\"'),\n",
            " (9,\n",
            "  '0.070*\"영화\" + 0.017*\"진짜\" + 0.013*\"너무\" + 0.013*\"만들\" + 0.012*\"는데\" + 0.011*\"이거\" '\n",
            "  '+ 0.011*\"정말\" + 0.011*\"네요\" + 0.010*\"ㅂ니다\" + 0.010*\"에서\"')]\n"
          ],
          "name": "stdout"
        }
      ]
    },
    {
      "cell_type": "markdown",
      "metadata": {
        "id": "WCe6noLGsGvI"
      },
      "source": [
        "8) 토픽키워드 시각화\n",
        "- pyLDAvis 패키지를 사용하며, jupyter notebook에서 잘 동작함"
      ]
    },
    {
      "cell_type": "code",
      "metadata": {
        "id": "hvO6toew_9aB",
        "outputId": "a50c9062-a080-4382-949e-64327d89ef9a",
        "colab": {
          "base_uri": "https://localhost:8080/",
          "height": 575
        }
      },
      "source": [
        "!pip3 install pyLDAvis"
      ],
      "execution_count": 31,
      "outputs": [
        {
          "output_type": "stream",
          "text": [
            "Collecting pyLDAvis\n",
            "\u001b[?25l  Downloading https://files.pythonhosted.org/packages/a5/3a/af82e070a8a96e13217c8f362f9a73e82d61ac8fff3a2561946a97f96266/pyLDAvis-2.1.2.tar.gz (1.6MB)\n",
            "\r\u001b[K     |▏                               | 10kB 26.3MB/s eta 0:00:01\r\u001b[K     |▍                               | 20kB 4.4MB/s eta 0:00:01\r\u001b[K     |▋                               | 30kB 5.8MB/s eta 0:00:01\r\u001b[K     |▉                               | 40kB 6.6MB/s eta 0:00:01\r\u001b[K     |█                               | 51kB 5.1MB/s eta 0:00:01\r\u001b[K     |█▏                              | 61kB 5.6MB/s eta 0:00:01\r\u001b[K     |█▍                              | 71kB 5.9MB/s eta 0:00:01\r\u001b[K     |█▋                              | 81kB 6.6MB/s eta 0:00:01\r\u001b[K     |█▉                              | 92kB 7.1MB/s eta 0:00:01\r\u001b[K     |██                              | 102kB 6.7MB/s eta 0:00:01\r\u001b[K     |██▎                             | 112kB 6.7MB/s eta 0:00:01\r\u001b[K     |██▍                             | 122kB 6.7MB/s eta 0:00:01\r\u001b[K     |██▋                             | 133kB 6.7MB/s eta 0:00:01\r\u001b[K     |██▉                             | 143kB 6.7MB/s eta 0:00:01\r\u001b[K     |███                             | 153kB 6.7MB/s eta 0:00:01\r\u001b[K     |███▎                            | 163kB 6.7MB/s eta 0:00:01\r\u001b[K     |███▌                            | 174kB 6.7MB/s eta 0:00:01\r\u001b[K     |███▋                            | 184kB 6.7MB/s eta 0:00:01\r\u001b[K     |███▉                            | 194kB 6.7MB/s eta 0:00:01\r\u001b[K     |████                            | 204kB 6.7MB/s eta 0:00:01\r\u001b[K     |████▎                           | 215kB 6.7MB/s eta 0:00:01\r\u001b[K     |████▌                           | 225kB 6.7MB/s eta 0:00:01\r\u001b[K     |████▊                           | 235kB 6.7MB/s eta 0:00:01\r\u001b[K     |████▉                           | 245kB 6.7MB/s eta 0:00:01\r\u001b[K     |█████                           | 256kB 6.7MB/s eta 0:00:01\r\u001b[K     |█████▎                          | 266kB 6.7MB/s eta 0:00:01\r\u001b[K     |█████▌                          | 276kB 6.7MB/s eta 0:00:01\r\u001b[K     |█████▊                          | 286kB 6.7MB/s eta 0:00:01\r\u001b[K     |█████▉                          | 296kB 6.7MB/s eta 0:00:01\r\u001b[K     |██████                          | 307kB 6.7MB/s eta 0:00:01\r\u001b[K     |██████▎                         | 317kB 6.7MB/s eta 0:00:01\r\u001b[K     |██████▌                         | 327kB 6.7MB/s eta 0:00:01\r\u001b[K     |██████▊                         | 337kB 6.7MB/s eta 0:00:01\r\u001b[K     |███████                         | 348kB 6.7MB/s eta 0:00:01\r\u001b[K     |███████                         | 358kB 6.7MB/s eta 0:00:01\r\u001b[K     |███████▎                        | 368kB 6.7MB/s eta 0:00:01\r\u001b[K     |███████▌                        | 378kB 6.7MB/s eta 0:00:01\r\u001b[K     |███████▊                        | 389kB 6.7MB/s eta 0:00:01\r\u001b[K     |████████                        | 399kB 6.7MB/s eta 0:00:01\r\u001b[K     |████████▏                       | 409kB 6.7MB/s eta 0:00:01\r\u001b[K     |████████▎                       | 419kB 6.7MB/s eta 0:00:01\r\u001b[K     |████████▌                       | 430kB 6.7MB/s eta 0:00:01\r\u001b[K     |████████▊                       | 440kB 6.7MB/s eta 0:00:01\r\u001b[K     |█████████                       | 450kB 6.7MB/s eta 0:00:01\r\u001b[K     |█████████▏                      | 460kB 6.7MB/s eta 0:00:01\r\u001b[K     |█████████▍                      | 471kB 6.7MB/s eta 0:00:01\r\u001b[K     |█████████▌                      | 481kB 6.7MB/s eta 0:00:01\r\u001b[K     |█████████▊                      | 491kB 6.7MB/s eta 0:00:01\r\u001b[K     |██████████                      | 501kB 6.7MB/s eta 0:00:01\r\u001b[K     |██████████▏                     | 512kB 6.7MB/s eta 0:00:01\r\u001b[K     |██████████▍                     | 522kB 6.7MB/s eta 0:00:01\r\u001b[K     |██████████▋                     | 532kB 6.7MB/s eta 0:00:01\r\u001b[K     |██████████▊                     | 542kB 6.7MB/s eta 0:00:01\r\u001b[K     |███████████                     | 552kB 6.7MB/s eta 0:00:01\r\u001b[K     |███████████▏                    | 563kB 6.7MB/s eta 0:00:01\r\u001b[K     |███████████▍                    | 573kB 6.7MB/s eta 0:00:01\r\u001b[K     |███████████▋                    | 583kB 6.7MB/s eta 0:00:01\r\u001b[K     |███████████▊                    | 593kB 6.7MB/s eta 0:00:01\r\u001b[K     |████████████                    | 604kB 6.7MB/s eta 0:00:01\r\u001b[K     |████████████▏                   | 614kB 6.7MB/s eta 0:00:01\r\u001b[K     |████████████▍                   | 624kB 6.7MB/s eta 0:00:01\r\u001b[K     |████████████▋                   | 634kB 6.7MB/s eta 0:00:01\r\u001b[K     |████████████▉                   | 645kB 6.7MB/s eta 0:00:01\r\u001b[K     |█████████████                   | 655kB 6.7MB/s eta 0:00:01\r\u001b[K     |█████████████▏                  | 665kB 6.7MB/s eta 0:00:01\r\u001b[K     |█████████████▍                  | 675kB 6.7MB/s eta 0:00:01\r\u001b[K     |█████████████▋                  | 686kB 6.7MB/s eta 0:00:01\r\u001b[K     |█████████████▉                  | 696kB 6.7MB/s eta 0:00:01\r\u001b[K     |██████████████                  | 706kB 6.7MB/s eta 0:00:01\r\u001b[K     |██████████████▏                 | 716kB 6.7MB/s eta 0:00:01\r\u001b[K     |██████████████▍                 | 727kB 6.7MB/s eta 0:00:01\r\u001b[K     |██████████████▋                 | 737kB 6.7MB/s eta 0:00:01\r\u001b[K     |██████████████▉                 | 747kB 6.7MB/s eta 0:00:01\r\u001b[K     |███████████████                 | 757kB 6.7MB/s eta 0:00:01\r\u001b[K     |███████████████▎                | 768kB 6.7MB/s eta 0:00:01\r\u001b[K     |███████████████▍                | 778kB 6.7MB/s eta 0:00:01\r\u001b[K     |███████████████▋                | 788kB 6.7MB/s eta 0:00:01\r\u001b[K     |███████████████▉                | 798kB 6.7MB/s eta 0:00:01\r\u001b[K     |████████████████                | 808kB 6.7MB/s eta 0:00:01\r\u001b[K     |████████████████▎               | 819kB 6.7MB/s eta 0:00:01\r\u001b[K     |████████████████▌               | 829kB 6.7MB/s eta 0:00:01\r\u001b[K     |████████████████▋               | 839kB 6.7MB/s eta 0:00:01\r\u001b[K     |████████████████▉               | 849kB 6.7MB/s eta 0:00:01\r\u001b[K     |█████████████████               | 860kB 6.7MB/s eta 0:00:01\r\u001b[K     |█████████████████▎              | 870kB 6.7MB/s eta 0:00:01\r\u001b[K     |█████████████████▌              | 880kB 6.7MB/s eta 0:00:01\r\u001b[K     |█████████████████▋              | 890kB 6.7MB/s eta 0:00:01\r\u001b[K     |█████████████████▉              | 901kB 6.7MB/s eta 0:00:01\r\u001b[K     |██████████████████              | 911kB 6.7MB/s eta 0:00:01\r\u001b[K     |██████████████████▎             | 921kB 6.7MB/s eta 0:00:01\r\u001b[K     |██████████████████▌             | 931kB 6.7MB/s eta 0:00:01\r\u001b[K     |██████████████████▊             | 942kB 6.7MB/s eta 0:00:01\r\u001b[K     |██████████████████▉             | 952kB 6.7MB/s eta 0:00:01\r\u001b[K     |███████████████████             | 962kB 6.7MB/s eta 0:00:01\r\u001b[K     |███████████████████▎            | 972kB 6.7MB/s eta 0:00:01\r\u001b[K     |███████████████████▌            | 983kB 6.7MB/s eta 0:00:01\r\u001b[K     |███████████████████▊            | 993kB 6.7MB/s eta 0:00:01\r\u001b[K     |████████████████████            | 1.0MB 6.7MB/s eta 0:00:01\r\u001b[K     |████████████████████            | 1.0MB 6.7MB/s eta 0:00:01\r\u001b[K     |████████████████████▎           | 1.0MB 6.7MB/s eta 0:00:01\r\u001b[K     |████████████████████▌           | 1.0MB 6.7MB/s eta 0:00:01\r\u001b[K     |████████████████████▊           | 1.0MB 6.7MB/s eta 0:00:01\r\u001b[K     |█████████████████████           | 1.1MB 6.7MB/s eta 0:00:01\r\u001b[K     |█████████████████████▏          | 1.1MB 6.7MB/s eta 0:00:01\r\u001b[K     |█████████████████████▎          | 1.1MB 6.7MB/s eta 0:00:01\r\u001b[K     |█████████████████████▌          | 1.1MB 6.7MB/s eta 0:00:01\r\u001b[K     |█████████████████████▊          | 1.1MB 6.7MB/s eta 0:00:01\r\u001b[K     |██████████████████████          | 1.1MB 6.7MB/s eta 0:00:01\r\u001b[K     |██████████████████████▏         | 1.1MB 6.7MB/s eta 0:00:01\r\u001b[K     |██████████████████████▍         | 1.1MB 6.7MB/s eta 0:00:01\r\u001b[K     |██████████████████████▌         | 1.1MB 6.7MB/s eta 0:00:01\r\u001b[K     |██████████████████████▊         | 1.1MB 6.7MB/s eta 0:00:01\r\u001b[K     |███████████████████████         | 1.2MB 6.7MB/s eta 0:00:01\r\u001b[K     |███████████████████████▏        | 1.2MB 6.7MB/s eta 0:00:01\r\u001b[K     |███████████████████████▍        | 1.2MB 6.7MB/s eta 0:00:01\r\u001b[K     |███████████████████████▌        | 1.2MB 6.7MB/s eta 0:00:01\r\u001b[K     |███████████████████████▊        | 1.2MB 6.7MB/s eta 0:00:01\r\u001b[K     |████████████████████████        | 1.2MB 6.7MB/s eta 0:00:01\r\u001b[K     |████████████████████████▏       | 1.2MB 6.7MB/s eta 0:00:01\r\u001b[K     |████████████████████████▍       | 1.2MB 6.7MB/s eta 0:00:01\r\u001b[K     |████████████████████████▋       | 1.2MB 6.7MB/s eta 0:00:01\r\u001b[K     |████████████████████████▊       | 1.2MB 6.7MB/s eta 0:00:01\r\u001b[K     |█████████████████████████       | 1.3MB 6.7MB/s eta 0:00:01\r\u001b[K     |█████████████████████████▏      | 1.3MB 6.7MB/s eta 0:00:01\r\u001b[K     |█████████████████████████▍      | 1.3MB 6.7MB/s eta 0:00:01\r\u001b[K     |█████████████████████████▋      | 1.3MB 6.7MB/s eta 0:00:01\r\u001b[K     |█████████████████████████▉      | 1.3MB 6.7MB/s eta 0:00:01\r\u001b[K     |██████████████████████████      | 1.3MB 6.7MB/s eta 0:00:01\r\u001b[K     |██████████████████████████▏     | 1.3MB 6.7MB/s eta 0:00:01\r\u001b[K     |██████████████████████████▍     | 1.3MB 6.7MB/s eta 0:00:01\r\u001b[K     |██████████████████████████▋     | 1.3MB 6.7MB/s eta 0:00:01\r\u001b[K     |██████████████████████████▉     | 1.4MB 6.7MB/s eta 0:00:01\r\u001b[K     |███████████████████████████     | 1.4MB 6.7MB/s eta 0:00:01\r\u001b[K     |███████████████████████████▏    | 1.4MB 6.7MB/s eta 0:00:01\r\u001b[K     |███████████████████████████▍    | 1.4MB 6.7MB/s eta 0:00:01\r\u001b[K     |███████████████████████████▋    | 1.4MB 6.7MB/s eta 0:00:01\r\u001b[K     |███████████████████████████▉    | 1.4MB 6.7MB/s eta 0:00:01\r\u001b[K     |████████████████████████████    | 1.4MB 6.7MB/s eta 0:00:01\r\u001b[K     |████████████████████████████▏   | 1.4MB 6.7MB/s eta 0:00:01\r\u001b[K     |████████████████████████████▍   | 1.4MB 6.7MB/s eta 0:00:01\r\u001b[K     |████████████████████████████▋   | 1.4MB 6.7MB/s eta 0:00:01\r\u001b[K     |████████████████████████████▉   | 1.5MB 6.7MB/s eta 0:00:01\r\u001b[K     |█████████████████████████████   | 1.5MB 6.7MB/s eta 0:00:01\r\u001b[K     |█████████████████████████████▎  | 1.5MB 6.7MB/s eta 0:00:01\r\u001b[K     |█████████████████████████████▍  | 1.5MB 6.7MB/s eta 0:00:01\r\u001b[K     |█████████████████████████████▋  | 1.5MB 6.7MB/s eta 0:00:01\r\u001b[K     |█████████████████████████████▉  | 1.5MB 6.7MB/s eta 0:00:01\r\u001b[K     |██████████████████████████████  | 1.5MB 6.7MB/s eta 0:00:01\r\u001b[K     |██████████████████████████████▎ | 1.5MB 6.7MB/s eta 0:00:01\r\u001b[K     |██████████████████████████████▌ | 1.5MB 6.7MB/s eta 0:00:01\r\u001b[K     |██████████████████████████████▋ | 1.5MB 6.7MB/s eta 0:00:01\r\u001b[K     |██████████████████████████████▉ | 1.6MB 6.7MB/s eta 0:00:01\r\u001b[K     |███████████████████████████████ | 1.6MB 6.7MB/s eta 0:00:01\r\u001b[K     |███████████████████████████████▎| 1.6MB 6.7MB/s eta 0:00:01\r\u001b[K     |███████████████████████████████▌| 1.6MB 6.7MB/s eta 0:00:01\r\u001b[K     |███████████████████████████████▊| 1.6MB 6.7MB/s eta 0:00:01\r\u001b[K     |███████████████████████████████▉| 1.6MB 6.7MB/s eta 0:00:01\r\u001b[K     |████████████████████████████████| 1.6MB 6.7MB/s \n",
            "\u001b[?25hRequirement already satisfied: wheel>=0.23.0 in /usr/local/lib/python3.6/dist-packages (from pyLDAvis) (0.35.1)\n",
            "Requirement already satisfied: numpy>=1.9.2 in /usr/local/lib/python3.6/dist-packages (from pyLDAvis) (1.18.5)\n",
            "Requirement already satisfied: scipy>=0.18.0 in /usr/local/lib/python3.6/dist-packages (from pyLDAvis) (1.4.1)\n",
            "Requirement already satisfied: pandas>=0.17.0 in /usr/local/lib/python3.6/dist-packages (from pyLDAvis) (1.1.2)\n",
            "Requirement already satisfied: joblib>=0.8.4 in /usr/local/lib/python3.6/dist-packages (from pyLDAvis) (0.16.0)\n",
            "Requirement already satisfied: jinja2>=2.7.2 in /usr/local/lib/python3.6/dist-packages (from pyLDAvis) (2.11.2)\n",
            "Requirement already satisfied: numexpr in /usr/local/lib/python3.6/dist-packages (from pyLDAvis) (2.7.1)\n",
            "Requirement already satisfied: pytest in /usr/local/lib/python3.6/dist-packages (from pyLDAvis) (3.6.4)\n",
            "Requirement already satisfied: future in /usr/local/lib/python3.6/dist-packages (from pyLDAvis) (0.16.0)\n",
            "Collecting funcy\n",
            "  Downloading https://files.pythonhosted.org/packages/66/89/479de0afbbfb98d1c4b887936808764627300208bb771fcd823403645a36/funcy-1.15-py2.py3-none-any.whl\n",
            "Requirement already satisfied: pytz>=2017.2 in /usr/local/lib/python3.6/dist-packages (from pandas>=0.17.0->pyLDAvis) (2018.9)\n",
            "Requirement already satisfied: python-dateutil>=2.7.3 in /usr/local/lib/python3.6/dist-packages (from pandas>=0.17.0->pyLDAvis) (2.8.1)\n",
            "Requirement already satisfied: MarkupSafe>=0.23 in /usr/local/lib/python3.6/dist-packages (from jinja2>=2.7.2->pyLDAvis) (1.1.1)\n",
            "Requirement already satisfied: py>=1.5.0 in /usr/local/lib/python3.6/dist-packages (from pytest->pyLDAvis) (1.9.0)\n",
            "Requirement already satisfied: atomicwrites>=1.0 in /usr/local/lib/python3.6/dist-packages (from pytest->pyLDAvis) (1.4.0)\n",
            "Requirement already satisfied: setuptools in /usr/local/lib/python3.6/dist-packages (from pytest->pyLDAvis) (50.3.0)\n",
            "Requirement already satisfied: six>=1.10.0 in /usr/local/lib/python3.6/dist-packages (from pytest->pyLDAvis) (1.15.0)\n",
            "Requirement already satisfied: pluggy<0.8,>=0.5 in /usr/local/lib/python3.6/dist-packages (from pytest->pyLDAvis) (0.7.1)\n",
            "Requirement already satisfied: attrs>=17.4.0 in /usr/local/lib/python3.6/dist-packages (from pytest->pyLDAvis) (20.2.0)\n",
            "Requirement already satisfied: more-itertools>=4.0.0 in /usr/local/lib/python3.6/dist-packages (from pytest->pyLDAvis) (8.5.0)\n",
            "Building wheels for collected packages: pyLDAvis\n",
            "  Building wheel for pyLDAvis (setup.py) ... \u001b[?25l\u001b[?25hdone\n",
            "  Created wheel for pyLDAvis: filename=pyLDAvis-2.1.2-py2.py3-none-any.whl size=97712 sha256=1fd099bb3a1f15bb11dd661849ed73d4dc0a79b43a2b1c749a9c7fd640655625\n",
            "  Stored in directory: /root/.cache/pip/wheels/98/71/24/513a99e58bb6b8465bae4d2d5e9dba8f0bef8179e3051ac414\n",
            "Successfully built pyLDAvis\n",
            "Installing collected packages: funcy, pyLDAvis\n",
            "Successfully installed funcy-1.15 pyLDAvis-2.1.2\n"
          ],
          "name": "stdout"
        }
      ]
    },
    {
      "cell_type": "code",
      "metadata": {
        "id": "Mm2DmjYFsGvI",
        "outputId": "8a9a72c5-263f-49af-a9e7-f5b3f3beea8b",
        "colab": {
          "base_uri": "https://localhost:8080/",
          "height": 860
        }
      },
      "source": [
        "import pyLDAvis.gensim\n",
        "pyLDAvis.enable_notebook()\n",
        "vis = pyLDAvis.gensim.prepare(lda_model, corpus, dictionary)\n",
        "pyLDAvis.display(vis)"
      ],
      "execution_count": 32,
      "outputs": [
        {
          "output_type": "execute_result",
          "data": {
            "text/html": [
              "\n",
              "<link rel=\"stylesheet\" type=\"text/css\" href=\"https://cdn.rawgit.com/bmabey/pyLDAvis/files/ldavis.v1.0.0.css\">\n",
              "\n",
              "\n",
              "<div id=\"ldavis_el1121401753582481843121402438\"></div>\n",
              "<script type=\"text/javascript\">\n",
              "\n",
              "var ldavis_el1121401753582481843121402438_data = {\"mdsDat\": {\"x\": [-0.014134220103942805, 0.06084390997701614, 0.04888603405295696, 0.012591544868510933, 0.12541704722791058, 0.07846071342922702, -0.051342733007039794, 0.009255861222221305, -0.07835454154350074, -0.19162361612335932], \"y\": [0.07329521226829744, 0.01864920746929239, 0.05132476975299011, 0.042100146445748395, 0.03841235610271474, -0.14190153664824176, -0.0508393821342014, 0.06683400915426514, -0.16602693876734131, 0.06815215635647644], \"topics\": [1, 2, 3, 4, 5, 6, 7, 8, 9, 10], \"cluster\": [1, 1, 1, 1, 1, 1, 1, 1, 1, 1], \"Freq\": [13.327468949723672, 13.056119696127617, 11.859112570566511, 10.293968243689054, 9.632333570867925, 9.309695786228053, 8.832785771490654, 8.189174287022018, 7.940101552635974, 7.559239571648526]}, \"tinfo\": {\"Term\": [\"\\ucd5c\\uace0\", \"\\uc7ac\\ubc0c\", \"\\ub4dc\\ub77c\\ub9c8\", \"\\uc5b4\\uc694\", \"\\uc7ac\\ubbf8\\uc788\", \"\\uc9c4\\uc9dc\", \"\\uc601\\ud654\", \"\\u3142\\ub2c8\\ub2e4\", \"\\uc0ac\\ub791\", \"\\uc644\\uc804\", \"\\uc815\\ub9d0\", \"\\uac10\\ub3d9\", \"\\uc7a5\\uba74\", \"\\ub294\\ub370\", \"\\uc774\\uac70\", \"\\uc88b\\uc544\\ud558\", \"\\uc2dc\\uac04\", \"\\ud3c9\\uc810\", \"\\uc5ec\\uc6b4\", \"\\uc7ac\\ubbf8\", \"\\uc5ed\\uc2dc\", \"\\uc544\\uc774\", \"\\uba85\\uc791\", \"\\ub2e4\\uc2dc\", \"\\uac10\\ub3d9\\uc801\", \"\\uadf8\\ub9ac\\ud558\", \"\\uc544\\ub2c8\", \"\\uadf9\\uc7a5\", \"\\uad1c\\ucc2e\", \"\\uc5d0\\uc11c\", \"\\uc694\\uc18c\", \"OOO\", \"\\uc18c\\uc18c\", \"\\ub2ec\\ub2ec\", \"\\uc0ac\\uac74\", \"\\uc2dc\\uc791\\ud558\", \"\\ub4e4\\uc5b4\\uc624\", \"\\ubd88\\uc30d\", \"\\ucd08\\ub4f1\\ud559\\uad50\", \"\\ub2e4\\uc591\", \"\\ub354\\ub77c\\uba74\", \"\\uace0\\uc804\", \"\\uc9c4\\uc9c0\", \"\\uc0c1\\uc6b0\", \"\\ud754\\ud558\", \"\\uac78\\ub9ac\", \"\\uc6e8\\uc774\", \"\\uce90\\ub9ac\", \"\\uae09\\ud558\", \"\\uc2ec\\ud558\", \"\\uc6b0\\ub4dc\", \"\\uac16\\ucd94\", \"\\uc678\\ub85c\\uc6c0\", \"\\uc2dc\\ud5d8\", \"\\ub0b4\\uc694\", \"14\", \"\\uac70\\uae30\", \"\\ubd80\\ud65c\", \"\\uc70c\\ub9ac\\uc2a4\", \"\\uc7ac\\ubc1c\\uacac\", \"\\uc5ec\\ub3c4\", \"\\uadf8\\ub9ac\\ud558\", \"\\uc774\\uc720\", \"\\uc544\\uc26c\\uc6c0\", \"\\ucda9\\ubd84\\ud788\", \"\\ub108\\ubb34\\ub108\\ubb34\", \"\\uad6c\\uc694\", \"\\uc7ac\\ubc0c\", \"\\uba4b\\uc788\", \"\\uc911\\uac04\", \"\\uc544\\uc27d\", \"\\uc9c4\\uc9dc\", \"\\uc5b4\\uc694\", \"\\uc2dc\\ub9ac\\uc988\", \"\\uc2a4\\ud1a0\\ub9ac\", \"\\ub294\\ub370\", \"\\uc2e0\\uc120\", \"\\uc9c0\\ub9cc\", \"\\uc6d0\\uc791\", \"\\uadf8\\ub0e5\", \"\\uc5b4\\uc11c\", \"\\uae30\\ub300\", \"\\ub0b4\\uc6a9\", \"\\ub108\\ubb34\", \"\\uc5f0\\uae30\", \"\\uadf8\\ub807\", \"\\ubaa8\\ub974\", \"\\uc544\\uc11c\", \"\\uc9c0\\ub8e8\", \"\\uc601\\ud654\", \"\\uc774\\uac70\", \"\\uc2b5\\ub2c8\\ub2e4\", \"\\ub124\\uc694\", \"\\ubc30\\uc6b0\", \"\\uc815\\ub9d0\", \"\\uc7ac\\ubbf8\\uc788\", \"\\ub2e4\\uc2dc\", \"\\uc73c\\ub85c\", \"\\uc7ac\\ubbf8\", \"\\uc5b4\\uc57c\\uc9c0\", \"\\ud558\\ud558\", \"\\uc0b4\\uc9dd\", \"\\uc54c\\ub824\\uc8fc\", \"\\uc774\\uc815\", \"\\ubcf5\\uc218\", \"\\uc624\\ub798\\ub418\", \"\\ucd5c\\uadfc\", \"\\uc9c4\\ubd80\", \"\\ub9c8\\ub2c8\", \"\\uc62c\\ub77c\\uac00\", \"\\ubc29\\ubc95\", \"\\uc5d1\\uc2a4\", \"\\uc870\\ud3ed\", \"\\uc778\\ub3c4\", \"\\uae30\\uc220\", \"\\ub2e8\\uc5f0\", \"\\uc804\\ubd80\", \"\\uae30\\ubc1c\", \"\\ubb34\\uc2a8\", \"\\ub2e4\\ud050\\uba58\\ud130\\ub9ac\", \"\\ub9c8\\ub9ac\", \"\\uc124\\ub808\\uc774\", \"\\uc544\\ubc14\", \"\\ubb50\\ud558\", \"\\ub05d\\ub0b4\\uc8fc\", \"\\ub9ac\\ubdf0\", \"\\ub77c\\uc778\", \"\\ubcf8\\uc9c0\", \"\\uc804\\ud615\\uc801\", \"\\ubd80\\uc871\", \"\\ub0a8\\ud3b8\", \"\\uc9dc\\ub9ac\", \"\\uc990\\uae30\", \"\\ud544\\uc694\", \"\\uc9c4\\uc2e4\", \"\\ub530\\ub974\", \"\\ubcfc\\ub9cc\", \"\\ubb34\\uac81\", \"\\uc9dc\\uc784\\uc0c8\", \"\\uc720\\uba38\", \"\\uc62c\\ub9ac\", \"\\uc544\\uc8fc\", \"\\ud55c\\uad6d\", \"\\uc21c\\uc218\", \"\\ud3c9\\uac00\", \"\\uacf5\\ud3ec\", \"\\uc774\\ub807\\uac8c\", \"\\uc601\\ud654\", \"\\ub290\\uaef4\\uc9c0\", \"\\u3134\\ub2e4\", \"\\uc561\\uc158\", \"\\ud568\\uaed8\", \"\\ub530\\ub73b\", \"\\uc0dd\\uac01\", \"\\uc544\\uc694\", \"\\ud3c9\\uc810\", \"\\ubcf4\\ub2e4\", \"\\u3134\\uc9c0\", \"\\ucd5c\\uace0\", \"\\uadf8\\ub9ac\\uace0\", \"\\uc544\\ub2c8\", \"\\ub108\\ubb34\", \"\\ub9cc\\ub4e4\", \"\\ub9c8\\uc74c\", \"\\uc9c0\\ub9cc\", \"\\uc73c\\ub85c\", \"\\uba74\\uc11c\", \"\\ub124\\uc694\", \"\\uc2b5\\ub2c8\\ub2e4\", \"\\ub098\\uc624\", \"\\ud55c\\ubc88\", \"\\uc774\\ub807\", \"10\", \"\\uc5f0\\uae30\", \"\\ub2e4\\uc2dc\", \"\\uac10\\ub3d9\", \"\\uc2a4\\ud1a0\\ub9ac\", \"\\uc815\\ub9d0\", \"\\uc5b4\\uc694\", \"\\uc778\\uc0c1\", \"\\ub77c\\uc774\", \"\\ub4f1\\uc7a5\", \"\\ud790\\ub9c1\", \"\\uc88b\\uc544\", \"\\uc6b8\\ucee5\", \"\\uc2a4\\ud06c\\ub9b0\", \"\\uac10\\uac01\", \"\\ucd5c\\ucd08\", \"\\ub2a5\\ub825\", \"\\ud604\\ub300\", \"\\ud655\\uc2e4\\ud788\", \"\\uc8fc\\ub9d0\", \"\\uc9c0\\uc6d0\", \"\\uc9c4\\ud558\", \"\\ub3cc\\ub9ac\", \"\\uc678\\ub86d\", \"\\ubcf4\\uc601\", \"\\uc544\\uc5ed\", \"\\ube5b\\ub098\", \"\\uc624\\ub798\\uc804\", \"\\ud658\\uc0c1\\uc801\", \"\\ub4dc\\ubb3c\", \"\\ub294\\ub370\\uc694\", \"19\", \"\\uc555\\ub3c4\", \"\\uba54\\uc774\", \"\\ub7ec\\uc2dc\\uc544\", \"\\uaf64\\ub098\", \"\\ub2e8\\uc21c\\ud788\", \"\\uadf8\\ub9bc\", \"\\uc911\\uad6d\", \"\\uc5f0\\uc560\", \"\\uadf8\\ub54c\", \"\\uc88b\\uc544\\ud558\", \"\\uc5ec\\ubc30\\uc6b0\", \"\\ucee8\\uc149\", \"\\uc544\\uc774\", \"\\uad1c\\ucc2e\", \"\\uadf9\\uc7a5\", \"\\uba85\\ud488\", \"\\uc18c\\uc124\", \"\\uc2b5\\ub2c8\\ub2e4\", \"\\uc778\\uc0dd\", \"\\ub124\\uc694\", \"\\uc624\\ub79c\\ub9cc\", \"\\u3142\\ub2c8\\ub2e4\", \"\\uc5d0\\uc11c\", \"\\uc815\\ub9d0\", \"\\uc601\\ud654\", \"\\ucd94\\ucc9c\", \"\\ud3c9\\uc810\", \"\\ub294\\ub370\", \"\\uae68\\ub2eb\", \"\\uc5f0\\uae30\", \"\\uc7ac\\ubbf8\\uc788\", \"\\ubc30\\uc6b0\", \"\\ub9cc\\ub4e4\", \"\\ubcf4\\uace0\", \"20\", \"\\uc73c\\ub85c\", \"\\uc544\\uc694\", \"\\uc0dd\\uac01\", \"\\ub9c8\\uc74c\", \"\\ub108\\ubb34\", \"\\u3134\\ub2e4\", \"\\uc5b4\\uc11c\", \"\\uc5b4\\uc694\", \"\\ub2e4\\uc2dc\", \"\\uc774\\ub7f0\", \"\\ubcf4\\ub2e4\", \"\\uc7ac\\ubc0c\", \"\\uc0ac\\uc0c1\", \"\\uc774\\uc81c\\uc57c\", \"\\uacbd\\ud5d8\", \"\\ud559\\ub144\", \"\\uc9c0\\uc6b0\", \"90\", \"\\uc880\\ube44\", \"\\ub3c4\\ub85c\", \"\\uc804\\uc124\", \"\\ub354\\ud558\", \"\\ubd80\\ud0c1\", \"\\uc9c0\\uad6c\", \"\\ud615\\ub2d8\", \"\\ud6c4\\ubc18\", \"\\uace0\\uc0dd\", \"2014\", \"\\ubd80\\uc791\", \"\\uc2a4\\ud15d\", \"\\ub3d9\\ub124\", \"\\ubc88\\uc9f8\", \"\\ub9c9\\ud788\", \"\\ub2f9\\uc5f0\\ud788\", \"\\uc0c1\\uc601\", \"\\ubd88\\ub95c\", \"\\ub2c8\\ud2b8\", \"\\uc778\\ud53c\", \"\\ucc28\\ub77c\\ub9ac\", \"\\uc74c\\uc2dd\", \"\\uc774\\ubbfc\", \"\\ud0c4\\uc0dd\", \"\\uc2ac\\ud514\", \"\\ucd9c\\uc5f0\\uc9c4\", \"\\ubc14\\uafb8\", \"\\uc720\\ucf8c\", \"\\uae30\\uac00\", \"\\ub098\\uc774\", \"\\ud55c\\ud3b8\", \"\\uadf8\\ub7ec\\ub098\", \"\\uc2dc\\uac04\", \"\\ud55c\\ub9c8\\ub514\", \"\\uc5b8\\uc81c\", \"\\ucc3e\\uc544\\ubcf4\", \"\\uac10\\ub3d9\", \"\\uc7ac\\ubbf8\", \"\\uc990\\uac81\", \"\\uc218\\uc791\", \"\\uc5b4\\ub978\", \"\\uc0c8\\ub86d\", \"\\uc794\\uc794\", \"\\uc601\\ud654\", \"\\uac15\\ucd94\", \"\\ub294\\uc9c0\", \"\\ub0b4\\ub0b4\", \"\\uc815\\ub9d0\", \"\\uc704\\ud558\", \"\\ud55c\\ud14c\", \"\\uc77c\\ubcf8\", \"\\ud574\\uc9c0\", \"\\uae4c\\uc9c0\", \"\\uc5d0\\uc11c\", \"\\uc774\\uac83\", \"\\uc5b4\\uc694\", \"\\uc774\\uc57c\\uae30\", \"\\uc0ac\\ub78c\", \"\\ubcf4\\ub2e4\", \"\\uc2b5\\ub2c8\\ub2e4\", \"\\uc7ac\\ubc0c\", \"\\ub294\\ub370\", \"\\uc544\\ub3c4\", \"\\uc5b4\\uc11c\", \"\\ub108\\ubb34\", \"\\ub4dc\\ub77c\\ub9c8\", \"\\u3142\\ub2c8\\ub2e4\", \"\\ub098\\uc624\", \"\\ucd5c\\uace0\", \"\\ub144\\ub300\", \"\\uc2dc\\uccad\\ub960\", \"\\ub514\\ud14c\\uc77c\", \"\\uc874\\ub098\", \"\\uc0c9\\ub2e4\\ub974\", \"\\uc81c\\uc791\\uc9c4\", \"\\ub530\\uc9c0\", \"\\uc758\\uc678\", \"\\uc774\\uac74\", \"\\uc5ec\\uc804\\ud788\", \"\\uc0dd\\ud65c\", \"\\ub098\\uc9c0\", \"\\uc9c4\\uc9dc\\ub85c\", \"\\uc678\\uacc4\\uc778\", \"\\ub0b4\\ub9ac\", \"\\uc774\\uc6a9\", \"\\uc815\\ub9d0\\ub85c\", \"CG\", \"\\uc73c\\ub85c\\uc368\", \"\\uc790\\uaca9\", \"\\uc2a4\\ud53c\", \"\\uc6cc\\uc2f1\\ud134\", \"\\uc7ac\\ubc29\\uc1a1\", \"\\uc5b4\\ub461\", \"\\uc5d0\\uc694\", \"\\uc18c\\ub144\", \"\\uc55e\\uc11c\", \"\\ud3ec\\uc2a4\", \"\\uc774\\uc5f0\", \"\\ub2e4\\ub77c\", \"\\uc0c1\\ub2f9\", \"\\uc62c\\ud574\", \"\\ud544\\uc694\\uc5c6\", \"\\ub4dc\\ub77c\\ub9c8\", \"13\", \"\\ud3c9\\uc0dd\", \"\\ucd5c\\uace0\", \"\\uc874\\uacbd\", \"\\uba38\\ub9ac\", \"\\ucd94\\uc5b5\", \"\\uac10\\ub3d9\\uc801\", \"\\uc2dc\\uc808\", \"\\ud45c\\uc815\", \"\\uba85\\uc791\", \"\\uc2dc\\uc98c\", \"\\u3142\\ub2c8\\ub2e4\", \"\\uc5ed\\uc2dc\", \"\\uc815\\ub9d0\", \"\\ub2e4\\ub978\", \"\\ub178\\ub798\", \"\\ubc18\\uc804\", \"\\uc5b4\\ub9ac\", \"\\uc791\\ud488\", \"\\uc601\\ud654\", \"\\ud0c0\\uc784\", \"\\uae30\\uc5b5\", \"\\uc544\\ub2c8\", \"\\uc2ac\\ud504\", \"\\u3134\\ub2e4\", \"\\ub208\\ubb3c\", \"\\uacb0\\ub9d0\", \"\\ud558\\ub098\", \"\\ub9c8\\uc9c0\\ub9c9\", \"\\uc73c\\ub85c\", \"\\ub124\\uc694\", \"\\ub108\\ubb34\", \"\\uc544\\uc694\", \"\\uc9c0\\ub9cc\", \"\\uc544\\ub3c4\", \"\\ub294\\ub370\", \"\\uce90\\uc2a4\\ud305\", \"good\", \"\\ub9cc\\uc871\", \"\\ubd84\\uba85\", \"\\ub098\\uc058\", \"\\ub9de\\ucd94\", \"\\uc6c0\\uc9c1\\uc774\", \"\\uc73c\\uba70\", \"\\ud504\\ub85c\\uadf8\\ub7a8\", \"\\uc870\\uc5f0\", \"\\ud53c\\uc544\\ub178\", \"\\ubbf8\\uc2a4\", \"\\ub098\\ub8e8\\ud1a0\", \"\\uad50\\uacfc\\uc11c\", \"\\uc774\\ubbf8\", \"\\uc2f8\\uc6b0\", \"\\uaf2c\\ub9c8\", \"\\uba48\\ucd94\", \"\\uc6b4\\uba85\", \"\\ubb34\\uc5b8\\uac00\", \"\\uac78\\uc791\", \"\\ud76c\\uc0dd\", \"\\uc120\\ubb3c\", \"\\ub354\\ubd88\", \"\\ucc98\\uc808\", \"\\uc624\\ube0c\", \"\\uc5b4\\uc6b0\\ub7ec\\uc9c0\", \"\\uad73\\uad73\", \"\\uc545\\ub2f9\", \"\\uc608\\uc220\\uac00\", \"\\u3139\\uc218\\ub85d\", \"\\uc774\\ub54c\", \"\\uad50\\ud6c8\", \"\\uc2dc\\ub9ac\", \"\\ub2e8\\uc21c\", \"\\ub108\\ubb34\\ub098\", \"\\uc870\\uae08\", \"\\uc544\\ud504\", \"\\uc0ac\\ub791\", \"\\ucc9c\\uc7ac\", \"\\ub2e4\\uac00\", \"\\uac00\\uc2b4\", \"\\uc544\\ub4e4\", \"\\uac10\\ub3c5\", \"\\u3134\\ub2e4\\uba74\", \"\\uc810\\uc218\", \"\\uc911\\uc694\", \"\\uce5c\\uad6c\", \"\\uae4c\\uc9c0\", \"\\ubc30\\uc6b0\", \"\\uc2a4\\ub7fd\", \"\\uc544\\ub2c8\", \"\\uc790\\uc2e0\", \"\\ubd80\\ud130\", \"\\ub290\\ub07c\", \"\\uc601\\ud654\", \"\\uc774\\uc0c1\", \"\\uc5ed\\uc2dc\", \"\\uc9c0\\ub9cc\", \"\\uc5b4\\uc11c\", \"\\uc0ac\\ub78c\", \"\\uc5f0\\uae30\", \"\\uadf8\\ub9ac\", \"\\u3134\\ub2e4\", \"\\ucc98\\uc74c\", \"\\ub77c\\ub294\", \"\\ub294\\ub370\", \"\\uba85\\uc791\", \"\\uc5b4\\ub3c4\", \"\\ub124\\uc694\", \"\\uc73c\\ub85c\", \"\\uc0dd\\uac01\", \"\\ud391\\ud391\", \"\\uc0ac\\uc774\", \"\\uc8fc\\uc778\", \"\\uc9c0\\ub9ac\", \"\\uc804\\ubb38\\uac00\", \"\\uc54c\\ubc14\", \"\\ub2f5\\ub2f5\", \"\\ubca0\\uc2a4\\ud2b8\", \"\\ubcf8\\uc801\", \"\\uc5f4\\uc815\", \"\\ud6c4\\uc18d\", \"\\uc7a5\\uc560\\uc778\", \"\\ub144\\ub3c4\", \"\\ud558\\ub298\", \"\\uc81c\\ubc1c\", \"\\uc8fc\\uc758\", \"\\uc704\\ud5d8\", \"\\ubd81\\ud55c\", \"\\uc0dd\\uc560\", \"\\u3134\\ub4e4\\ub370\", \"\\uc81c\\uc678\", \"\\uc678\\uad6d\", \"\\uac00\\uce58\", \"\\ub85c\\ubd07\", \"\\uc544\\ub984\", \"\\uc885\\uc601\", \"\\ub098\\uc911\", \"\\uc774\\ub8e8\\uc5b4\\uc9c0\", \"\\ubb34\\ub9ac\", \"\\ud14c\\ub7ec\", \"\\uad1c\\ud788\", \"\\uc5ed\\ud560\", \"\\uac70\\ub9ac\", \"\\ub204\\uad70\\uac00\", \"\\uc800\\ub7ec\", \"\\ub2e4\\uba74\", \"\\ud765\\ud589\", \"\\ubc14\\ub77c\", \"\\uc7a5\\uba74\", \"\\uc5c4\\uccad\", \"\\uc774\\ub8e8\", \"\\uc544\\uc57c\", \"\\ub300\\ud55c\\ubbfc\\uad6d\", \"\\uc5c4\\uccad\\ub098\", \"\\uad00\\uac1d\", \"\\ub77c\\uace0\", \"\\uc9c0\\uae08\", \"10\", \"\\ub9d0\\ud558\", \"\\uc544\\uc9c1\", \"\\ud2b9\\ubcc4\", \"\\u3134\\ub370\", \"\\ub9c8\\uc9c0\\ub9c9\", \"\\uc601\\ud654\", \"\\ud3c9\\uc810\", \"\\ub9cc\\uc810\", \"\\uc138\\uc0c1\", \"\\uc9c0\\ub9cc\", \"\\uc0ac\\ub78c\", \"\\uc774\\uac83\", \"\\u3134\\ub2e4\", \"\\uc774\\ud574\", \"\\uc0dd\\uac01\", \"\\u3134\\uc9c0\", \"\\uc5d0\\uc11c\", \"\\ub294\\ub370\", \"\\uc5b4\\ub9ac\", \"\\ubcf4\\ub2e4\", \"\\ubaa8\\ub974\", \"\\uc544\\ub2c8\", \"\\ub124\\uc694\", \"\\uc791\\ud488\", \"\\uc7ac\\ubc0c\", \"\\uc73c\\uba74\", \"\\uc798\\uc0dd\\uae30\", \"12\", \"\\uc9c4\\uc601\", \"\\ucde8\\ud5a5\", \"\\ub3d9\\uc6d0\", \"\\ub9cc\\uc774\", \"\\ud558\\ub098\\ud558\\ub098\", \"\\uc8fc\\uc131\", \"30\", \"\\uc6d0\\ub798\", \"\\uc5ed\\uc2dc\\ub098\", \"\\ub370\\ub9ac\", \"\\uac00\\uac8c\", \"tv\", \"\\uc2e4\\ub9dd\", \"\\ud22c\\ud45c\", \"\\uc774\\ud1a0\\ub85d\", \"\\ubc1c\\ub808\", \"\\ud328\\ub2dd\", \"\\uac00\\ub974\\uce58\", \"\\ub354\\ub2c8\", \"\\ucd5c\\uac15\", \"\\uc139\\uc2a4\", \"\\ub9c8\\uc774\", \"\\ubc18\\uac11\", \"\\ub054\\ucc0d\", \"\\ub294\\uad6c\\ub098\", \"\\uc678\\ubaa8\", \"\\uadfc\\ub798\", \"\\uc624\\ube60\", \"\\uc2a4\\ud0c0\\uc77c\", \"\\uc81c\\ub300\", \"\\ud0c4\\ud0c4\", \"\\uac1c\\uadf8\", \"\\ud654\\uba74\", \"\\ub418\\uac8c\", \"\\ub9cc\\ud654\", \"\\ub77c\\ub3c4\", \"\\uadf8\\ub7f0\\ub370\", \"\\ub300\\uc0ac\", \"\\uc5ec\\uc6b4\", \"\\uadc0\\uc5fd\", \"\\uc774\\uac70\", \"\\uc774\\uc058\", \"\\uc5f0\\uae30\\ub825\", \"\\uc5c4\\ub9c8\", \"\\ub85c\\ub9e8\\uc2a4\", \"\\uc601\\ud654\", \"\\uc9c4\\uc9dc\", \"\\ub208\\ubb3c\", \"\\ub9cc\\ub4e4\", \"\\uc544\\ub984\\ub2f5\", \"\\ub108\\ubb34\", \"\\ub294\\ub370\", \"\\uc774\\ub7f0\", \"\\ub124\\uc694\", \"\\u3142\\ub2c8\\ub2e4\", \"\\uc5d0\\uc11c\", \"\\uc815\\ub9d0\", \"\\ub9c8\\uc9c0\\ub9c9\", \"\\ud558\\ub2e4\", \"10\", \"\\uc0ac\\ub78c\", \"\\ucd5c\\uace0\", \"\\uc7ac\\ubc0c\", \"\\u3134\\ub370\", \"\\uba85\\uc791\", \"\\uc2b5\\ub2c8\\ub2e4\", \"\\uc73c\\ub85c\", \"\\uc5b4\\uc694\", \"\\ubc14\\ub78c\", \"\\ub2e4\\uac00\\uc624\", \"\\uc124\\uba85\", \"\\uc5f4\\uc2ec\\ud788\", \"\\uc6b0\\uc8fc\", \"80\", \"\\ub77c\\ub9c8\", \"\\ud55c\\ub370\", \"\\ub0b4\\uc77c\", \"\\uc218\\ub9ce\", \"\\uc800\\ub7f0\", \"\\ub4f1\\uc7a5\\uc778\\ubb3c\", \"\\ud5e4\\uc5b4\\uc9c0\", \"\\uad70\\uc694\", \"\\uacf5\\ubd80\", \"\\ubcf4\\uc138\", \"\\uacbd\\ucc30\", \"\\ubc18\\uc9c0\", \"\\uc624\\ub798\\uc624\\ub798\", \"\\uc2e0\\uc758\", \"\\uc791\\uc804\", \"\\ud589\\ub3d9\", \"\\ub0b4\\uba74\", \"\\uc2e0\\uc774\", \"\\uc6a9\\uc11c\", \"\\uc2f8\\uc6c0\", \"\\uc18c\\ud1b5\", \"\\uc2ec\\uc7a5\", \"\\ubcf4\\uc11d\", \"\\ubc40\\ud30c\\uc774\\uc5b4\", \"\\ubba4\\uc9c0\\uceec\", \"\\uc0c1\\ucc98\", \"\\uc2ec\\ub9ac\", \"\\uc5ec\\uc131\", \"\\u3139\\uac8c\\uc694\", \"\\uc5ed\\uc0ac\", \"\\ud48d\\ubd80\", \"\\ub098\\ub77c\", \"\\uadf8\\ub798\\uc11c\", \"\\uc8fc\\uc778\\uacf5\", \"\\uc2e4\\uc801\", \"\\ub3c4\\ub85d\", \"\\uc774\\ub4dc\", \"\\uc9c1\\uc811\", \"\\uc5ec\\uc790\", \"\\ub3cb\\ubcf4\\uc774\", \"\\ubcf4\\uc2dc\", \"\\uc790\\uae30\", \"\\ub0a8\\uc790\", \"\\ud604\\uc2e4\", \"\\ud504\\ub791\\uc2a4\", \"\\uba4b\\uc9c0\", \"\\uc73c\\ub85c\", \"\\uce90\\ub9ad\\ud130\", \"\\ub9e4\\ub825\", \"\\uc778\\uac04\", \"\\ub77c\\ub294\", \"\\ub9cc\\ub098\", \"\\uc791\\ud488\", \"\\uc7ac\\ubc0c\", \"\\uc5f0\\uae30\", \"\\uc5d0\\uc11c\", \"\\ubcf4\\ub2e4\", \"\\uc601\\ud654\", \"\\ub358\\ub370\", \"\\uc0dd\\uac01\", \"\\uc544\\ub2c8\", \"\\uadf9\\uc7a5\", \"\\u3142\\ub2c8\\ub2e4\", \"\\uc744\\uae4c\", \"\\ub108\\ubb34\", \"\\uc0ac\\ub78c\", \"\\u3134\\ub2e4\", \"\\uba74\\uc11c\", \"\\uc5b4\\uc694\", \"\\ub294\\uac00\", \"\\ube14\\ub799\", \"\\uace0\\ubc31\", \"\\uc695\\ud558\", \"\\ubb34\\uc870\\uac74\", \"\\ud654\\ub048\\ud558\", \"\\ubc14\\ud0d5\", \"\\uc885\\uad50\", \"\\uc2dc\\uccad\", \"\\ub9d0\\ub9ac\", \"\\uc7ac\\ubbf8\\ub098\", \"\\uc2dc\\uc120\", \"\\uadf8\\ub798\\ud53d\", \"\\ub2e5\\uce58\", \"\\ub9e4\\uc8fc\", \"\\uc0ac\\uc218\", \"\\uc2e0\\ube44\", \"\\ubbf8\\uad6d\", \"\\ud560\\uba38\\ub2c8\", \"\\uace0\\ub9d9\", \"\\uc8fc\\uc6d0\", \"\\ubcf8\\ubc29\", \"love\", \"\\uc2eb\\uc5b4\\ud558\", \"\\uc785\\ub3c4\", \"\\ucc9c\\uad6d\", \"\\uac08\\ub9ac\", \"the\", \"\\uc11c\\ub85c\", \"\\ubca0\\ub9ac\", \"\\ud0dc\\uc5b4\\ub098\", \"\\ub07c\\uce58\", \"\\uace0\\uc591\\uc774\", \"\\uc624\\ub798\", \"\\uc644\\uc804\", \"\\ud63c\\uc790\", \"\\uc2dc\\ub300\", \"\\ub180\\ub78d\", \"\\uc544\\ube60\", \"\\uad6c\\ud558\", \"\\uc5b4\\uca4c\", \"\\uc608\\uc058\", \"\\uc7ac\\ubbf8\\uc788\", \"\\ub300\\ubc15\", \"\\uc138\\uc694\", \"\\ub9cc\\ud07c\", \"\\uc544\\ub3c4\", \"\\ucda9\\uaca9\", \"\\uc740\\ub370\", \"\\ub2e4\\uc2dc\", \"\\uc5b4\\uc694\", \"\\uae30\\uc5b5\", \"\\uc6c3\\uae30\", \"\\ub108\\ubb34\", \"\\ucf54\\ubbf8\\ub514\", \"\\uc774\\uc57c\\uae30\", \"\\uc7a5\\uba74\", \"\\uc9c0\\uae08\", \"\\uc601\\ud654\", \"\\uc218\\uc791\", \"\\uc18c\\ub984\", \"\\ub124\\uc694\", \"\\uc2ac\\ud504\", \"\\uc7ac\\ubc0c\", \"\\ub098\\uc624\", \"\\uc73c\\ub85c\", \"\\uba74\\uc11c\", \"\\uc73c\\uba74\", \"\\ub9c8\\uc9c0\\ub9c9\"], \"Freq\": [735.0, 919.0, 267.0, 725.0, 385.0, 443.0, 3505.0, 556.0, 285.0, 146.0, 742.0, 303.0, 160.0, 728.0, 141.0, 136.0, 140.0, 340.0, 114.0, 222.0, 152.0, 124.0, 192.0, 309.0, 127.0, 102.0, 339.0, 95.0, 146.0, 566.0, 22.758607693338885, 16.422789690206873, 15.613510299377664, 15.26055576579225, 15.157327095030992, 12.830425391878528, 12.322761310252643, 12.282591592411107, 12.07291135480787, 11.58860478230023, 15.568664865246118, 10.881879747614592, 13.689248176146195, 10.674029290822894, 10.480297296339037, 9.694549846707998, 9.460329122692812, 13.099564725718517, 9.120468701952603, 8.898937033737973, 15.54381707399538, 8.06162441750051, 7.984247400463373, 7.945006621248806, 12.451893730224977, 7.369258420910795, 16.535818165941507, 7.1324750672113755, 7.082088195158256, 7.081914933763433, 70.87613711762467, 87.85190928036943, 39.43146976915956, 17.69275591096304, 33.292916888143665, 15.266104813166972, 26.59359413730366, 534.7266217764974, 45.46577080063666, 46.77172154000132, 73.13798970318715, 217.53250957496175, 317.1424147475129, 41.20930494143414, 117.50276862905348, 269.93033298297854, 38.67000466987589, 186.8198950333241, 36.07961335917677, 65.26882708683682, 130.9300022608792, 68.09383071571713, 65.72780120446227, 194.5233588805988, 130.93702637148013, 47.810737345569585, 61.09550796618754, 65.83134127746017, 46.42613529843627, 309.1014377031238, 51.13492578389536, 79.84998629092141, 83.52672420578794, 57.14547595606057, 73.01924477210846, 59.92303405920189, 55.66437667749187, 59.679714185245764, 49.709991293691594, 20.111685241817863, 16.836247872976656, 15.39937240261742, 14.549041782249306, 14.249880283648425, 13.711585697478721, 13.173624844594148, 13.050198577884965, 13.037364182029634, 12.636280996889646, 12.51311506507986, 11.736841122217077, 11.259993600253683, 11.061325960219442, 10.974573655681805, 10.824178069614748, 15.908034684246864, 10.36114550006609, 10.26256229322807, 32.704602701786236, 10.16182415565891, 10.137195556696062, 10.1239723787663, 9.587140026062377, 9.437034019564033, 9.00073394489428, 8.785967401114243, 8.76156473155748, 8.712207757701176, 8.68705160784087, 29.19236379097302, 12.910288639329774, 23.79949079760555, 22.752848166645325, 48.86223203726847, 20.49167097845864, 19.05636554544423, 42.07832201228199, 14.574244952950473, 14.04451160036669, 13.919223996469302, 28.36359279956428, 47.55726837511905, 77.6028746380442, 30.3813602973634, 28.859607621852057, 46.853345744143084, 33.167907074732064, 760.1456109517054, 34.06434449668823, 167.6234900200065, 73.99574308297561, 37.70458789852075, 50.05185013623803, 121.68188067384588, 71.46499426728656, 84.68480045870426, 74.00054150244293, 41.155208864510875, 120.36484756464245, 36.53773935502539, 74.95318832567347, 109.07845118882076, 69.68430355540595, 46.768955950146236, 77.93039658478256, 76.34999171797165, 50.04630397071606, 73.51669016889089, 63.07265495433637, 52.529990658952755, 38.889116278179614, 39.66461151004376, 46.92931307337703, 50.7605620118831, 47.10467557909118, 45.68879778130054, 43.37270254468849, 47.77350001948931, 42.943725679270294, 15.229423024446712, 18.775980468889266, 17.709587417936344, 14.626978140608283, 13.945837678930411, 13.053496807840162, 12.476800779558491, 15.476815378539422, 11.573531384977427, 11.408376404536645, 10.880672787683485, 14.24402980202065, 13.15518384902588, 10.050839404160326, 9.97648877641908, 14.09737028765359, 9.64980811454066, 9.146564764591307, 10.880744665304386, 8.971025030487391, 15.339034312910538, 8.707939916683749, 11.893833689279424, 8.46983592210928, 8.368524936302473, 8.229536014131067, 8.274627762494918, 8.155039547738719, 8.103410060986883, 8.103307453078786, 25.96336754525619, 21.40205330769278, 9.423668618732156, 35.173982562002315, 105.69119552402046, 21.2423912358753, 10.705394521446904, 89.76058964041582, 96.10594601350418, 64.01392999706042, 16.660361659627462, 12.13394973638678, 174.6487182811415, 61.70368742449331, 218.49238363567716, 35.2067587571329, 177.00638758304706, 173.19156514842513, 202.75004295018977, 590.8519444541038, 45.58110787421483, 104.03120999535102, 153.5051473152531, 18.3960520320841, 93.74327652927511, 75.98306226531325, 61.27942195434375, 68.55657480387343, 36.41804459136525, 22.279758228440265, 78.270253997369, 48.07164452091178, 65.44107370219855, 42.10397275281092, 82.45395654927046, 70.10404789662677, 61.593654245645936, 70.74819638445254, 50.534571827545776, 43.36298949413973, 46.15276621880557, 44.17809004878761, 17.794688875676762, 17.556155020715465, 15.272876047332556, 15.40070053509885, 13.651408259895174, 13.227387658142257, 18.277878170883987, 12.789699735624595, 12.541414746880502, 12.316084346620288, 11.118838802519054, 11.129392885745393, 14.107158023780736, 10.457334147948929, 10.19616489499201, 9.644668835298482, 9.546316570688399, 9.421261715968908, 9.23354515687124, 19.916236831750773, 10.95638531155544, 8.934205061786436, 10.545205571342727, 8.672651514332328, 8.572415754574843, 8.572415754574843, 8.385031949300625, 8.384993971962079, 8.360559171497261, 8.31118320605368, 18.62532741590517, 11.99389907395551, 17.10581612335033, 42.184670655676875, 12.851908424607261, 30.531631758504854, 17.460341812453873, 14.878217353609598, 90.98113808194229, 19.190093842753402, 21.702508184029874, 14.71166050163835, 146.35384102235986, 105.72400600941945, 37.23781125760309, 45.940734327645785, 26.102804959531696, 17.238912227395716, 39.891041953317895, 471.41014261096825, 38.31079042887083, 34.20261534146308, 44.24183074691358, 134.45763141803457, 35.664305231859636, 21.089819781270954, 30.598236776535366, 34.7795019646415, 55.78490535610397, 78.58684664036575, 37.10361381073988, 75.8858332189816, 36.90772308163141, 48.54953877104081, 45.108090222253225, 54.29764405775327, 63.11011185660889, 56.599041838511894, 41.529619435992494, 43.32140111925012, 50.134994999313335, 38.52975329536821, 43.61210498670515, 36.56232822978109, 37.66920850525735, 23.34947456951524, 20.41136030813881, 19.305936826376676, 17.495764267809996, 11.920211615748748, 13.33951781092934, 10.362272069683996, 10.337541285773243, 12.042542228106363, 9.759627480861052, 9.031447236420238, 8.80430037165412, 8.56623283810234, 8.516715427394038, 12.07555975797565, 7.924625144175211, 10.775884256186606, 11.531640733451644, 7.637581706696165, 7.273257636624264, 7.2485886183307215, 7.221452359766087, 6.983416132075086, 6.783107274091861, 50.59987261033993, 6.758208961520724, 6.617713758024581, 9.60879838194276, 13.784171027550455, 6.129106266765957, 8.040920494237318, 18.121207984323224, 60.00249820813389, 188.2122158432761, 12.183100466376237, 13.824305987172975, 450.74060571313294, 15.712448753373982, 24.674778571925476, 33.54449380883301, 69.76485014498702, 32.60671913427073, 15.496467081549337, 85.35213637475945, 22.816801117845518, 170.37490124995415, 64.10022893459326, 154.35101164030243, 32.078161134136884, 28.761283185930505, 32.39358883408998, 47.80979953406381, 64.20209989777554, 268.1874335604059, 19.622188631962164, 45.815883571439684, 66.07467772843916, 38.879158015455026, 71.27353541879489, 33.34958182741671, 28.945710242299004, 32.00276308371247, 44.207733655207775, 57.23037608164909, 53.88578652392323, 45.96458810234676, 33.163069969941226, 38.74722327267314, 33.44545221858164, 34.402474074792345, 21.30157854778399, 23.537310531664197, 19.345731143650404, 15.741885167294935, 25.08577743177479, 15.053033621681823, 13.811316478886205, 18.99849389877274, 13.49143588764285, 13.159319913872473, 12.629716426793141, 12.532799963432117, 14.406020509489883, 18.574962558971862, 13.496669576198721, 12.454258653485223, 12.923996103359915, 9.666408508569395, 13.81365037687659, 15.035800066583944, 38.31684140258222, 8.95324893290577, 8.7200349530923, 10.235665364097821, 8.154752429810989, 7.612390191349047, 7.502728878590639, 7.478412670901758, 6.874855529000288, 6.789573800628117, 15.069025811275358, 14.703065045589065, 13.491767081996777, 10.807095018140771, 20.08490951131124, 40.6794036509756, 43.842556695649954, 40.08590009768443, 152.8136048125348, 23.07908964990393, 51.60382242902611, 67.22445284564755, 23.17957974123201, 69.45967618042123, 29.642813842951377, 16.788503484949054, 19.78257567871528, 24.275877211975068, 67.52261608267554, 70.13791642248731, 45.890096687754735, 73.38552484517669, 24.239949575566683, 40.379555820443684, 42.70043828160024, 209.94940333456364, 33.30941501614709, 42.16872169276648, 71.5321448853287, 61.57551035553182, 51.669992607649064, 44.11139819254368, 28.234114231253006, 42.5279620752415, 30.590278295386835, 29.81100823786035, 35.33425715519613, 29.25966204588672, 27.244701765042237, 31.68770428022475, 30.86505675773613, 29.953044003156005, 19.155736326774775, 17.271146213488013, 13.58943780217147, 13.411381372980808, 13.308719534669885, 12.328778390142132, 14.537767591643208, 11.590159057879992, 11.220797408321369, 13.652902584364044, 10.559784678162117, 10.265930120930923, 20.506050082146228, 9.1713639669068, 14.463921641381285, 8.877435701830569, 8.699337375549042, 12.06365282329, 8.49613182963193, 8.266628100477853, 8.232584386535633, 7.450731911735355, 24.56248141890773, 10.942358652911542, 23.888366537389203, 6.9031237443330795, 10.105309088515627, 6.608957286536573, 6.559059403063032, 6.458591730918037, 12.510060119457183, 12.237017554176079, 11.461293692722572, 18.815185910032834, 16.1684784034863, 43.33303140973057, 17.212778910683753, 20.457803254401504, 92.36246577689053, 38.59645976908683, 15.731324157423384, 56.12403945481704, 18.121978369033698, 23.461959671004657, 13.177451293764276, 54.11461152820006, 70.47065234527057, 80.8507031588634, 31.68607153472136, 41.62739773721597, 17.95126944818509, 62.20995501076597, 57.83162832490523, 219.107732618051, 65.78696104027216, 27.139247163363116, 27.102986007093378, 75.52874846817221, 54.26531691577782, 34.99441790017393, 63.8546982445599, 30.215226055913927, 53.07432227951669, 30.13331258804475, 52.825037692370984, 53.75697796059482, 32.44478750490071, 33.42106110223386, 28.77735203587145, 32.08983535111069, 33.38278267862628, 29.893006392296535, 29.692803471224593, 27.96339087202917, 26.325506157705707, 15.940948474845625, 15.045093107844922, 14.20663941146621, 12.773601719381329, 12.224088515856561, 26.134565288888176, 11.172620369057942, 31.381367732766087, 16.97212411897192, 9.535585837808036, 9.36828454769737, 9.045551750765512, 8.795461941244772, 14.409093991654649, 8.316114327782543, 8.125885602802146, 7.803249916393534, 7.683247925138458, 7.683199010208231, 12.87567566937081, 7.56341641680197, 7.409491921434111, 7.240552700498032, 7.146296507298444, 7.012798311323828, 6.966769361979734, 6.942773711354301, 8.3055098586441, 15.643424850411169, 20.433225171894314, 12.92916270690018, 23.839416338287485, 11.64774763111363, 12.629148737047379, 13.883419623243704, 24.161541295277544, 24.607495836812983, 12.7272505069675, 42.38025234037681, 61.144111650815255, 56.025020335063715, 67.82227716975497, 35.85555022165385, 36.50658492419141, 25.73612440869668, 19.90015889432134, 430.0349300408933, 105.82458570779224, 41.8721269225222, 79.12007228393954, 37.811131726615116, 80.17946033341177, 77.16596110423394, 41.739860951187, 66.7375051488435, 61.64310148611267, 61.16288347462727, 67.43110159537667, 38.17556522090314, 24.825204681860317, 33.493143241990325, 33.236118302435415, 38.859177266972225, 39.90076315919047, 30.425095233562306, 28.274711457644372, 29.174006695179607, 27.930689876005406, 26.138553294376138, 19.665102075393857, 14.155761768540723, 13.452140367870413, 12.696252810437823, 12.610313349764539, 12.213283614927185, 15.759968289249107, 10.38225307741231, 10.160385899273908, 9.577632688768663, 9.181531968861085, 9.008637547711398, 8.898198456829293, 10.683783983237433, 14.458733623949113, 8.649953392321502, 8.600856487692022, 8.476935520989706, 8.46319070325619, 8.032034316381441, 8.00273896045406, 9.744807948939265, 7.610684895668513, 7.598019046475806, 7.500321827779909, 7.992248484809375, 7.400185596164028, 16.898692297869733, 7.3513334995227995, 7.239239339250039, 15.411287783362017, 8.773591888268143, 13.80245292701251, 12.879218534579946, 12.98461569683793, 26.870802720253497, 10.345625338634548, 21.56985190047049, 26.54543825723602, 51.89669338336203, 31.621400073936435, 16.23030790341715, 16.505405126180403, 13.038167967361849, 43.79672938372217, 22.543974271361105, 23.724809438712857, 18.630051111233616, 47.91009782111542, 43.10577104240995, 16.56699351533859, 44.74026261287855, 99.21610509921902, 26.433604946500598, 33.79363505800489, 31.765495032263146, 41.854853834387406, 19.292540585125806, 48.61616032708169, 90.31606395662061, 62.06305720077639, 66.48734991717359, 47.75926820200651, 130.619778109599, 20.008035521955623, 42.590240292085944, 39.29625744308357, 25.59503645523549, 40.58806525718925, 23.131559475435022, 37.421103578615046, 29.254546226501645, 31.52919324978046, 23.821929161641595, 23.56142277396157, 15.351539219339864, 11.474884896540177, 11.10906465587528, 11.013784768205628, 29.215218713836755, 13.125286095201758, 10.481275022401624, 9.913431645949675, 12.581101835762887, 9.536359862027878, 9.161770788064036, 10.662919883620704, 8.483805712500821, 14.928706954149702, 8.923955195049492, 10.887302017111475, 7.214119022240667, 31.52701676691395, 13.740396577392412, 16.740708069336396, 6.982525808208738, 12.006993584089408, 6.765679453084596, 8.411900084242758, 6.377471662555455, 6.306715424759339, 6.25696162504028, 8.035319663083435, 20.85328690251884, 5.965996517215749, 10.034755088037862, 17.578926461854056, 8.73943254165128, 17.22887166182348, 111.69534015037902, 21.239264304508595, 34.229031221812825, 20.901237268098875, 16.946125592206908, 17.427350345683394, 15.698591394489492, 31.109727604887468, 148.39781183803308, 49.38156453832872, 41.32295760032273, 27.287329027117067, 76.59752113218538, 17.62518361791476, 30.997274588669388, 80.35214883294356, 129.19823420077398, 51.773141311927006, 38.84315597871868, 88.69427208489648, 26.553599590043028, 35.816249809257705, 35.95500534135022, 40.09766619965575, 115.63901236995763, 27.818776366948157, 25.567458429894064, 49.480288613361814, 29.837108674142073, 47.863242978227355, 31.775492275859225, 36.40701393057156, 28.35693014448327, 26.006771267739065, 26.627689126579163], \"Total\": [735.0, 919.0, 267.0, 725.0, 385.0, 443.0, 3505.0, 556.0, 285.0, 146.0, 742.0, 303.0, 160.0, 728.0, 141.0, 136.0, 140.0, 340.0, 114.0, 222.0, 152.0, 124.0, 192.0, 309.0, 127.0, 102.0, 339.0, 95.0, 146.0, 566.0, 23.542065569056113, 17.206132807577166, 16.396934250989133, 16.043855200687833, 15.940707264601254, 13.613934415703055, 13.106199150462627, 13.065857517767371, 12.856319544825038, 12.372123532852443, 16.670519329460237, 11.665983184311088, 14.679350600896989, 11.457516946196579, 11.263631528208558, 10.47798036530662, 10.243675269741198, 14.208480405097305, 9.905178209100386, 9.68216458275948, 17.037768307741565, 8.844944278786517, 8.767555821076105, 8.72837060838454, 13.746828665173577, 8.153389675206684, 18.330985165734056, 7.916866923086733, 7.865343149723624, 7.865334181797038, 81.48807097804082, 102.35837600519484, 45.539754628035425, 20.19896043234807, 39.46118730488437, 17.488538725566293, 32.50265322816203, 919.3234199891712, 60.099564151200525, 64.43641868261554, 113.08729539033855, 443.61727590971077, 725.8202531690333, 62.73158735350964, 241.02958113748315, 728.2868334502379, 61.10217199863709, 544.8225960997509, 58.720419258175625, 136.06503376123862, 392.1082503627733, 153.89156727555093, 147.2711454024597, 733.1130065479751, 449.239119960615, 95.00548714493857, 146.7574228082588, 169.7273698545172, 103.57403491468237, 3505.0474257533715, 141.9122588139395, 472.04843456793725, 657.8444612438288, 259.1485885074908, 742.5017684889419, 385.81743447756156, 309.72531700052946, 518.6083087218856, 222.7524504279365, 20.89898592130021, 17.62348421641054, 16.186701055464702, 15.336466984671501, 15.037358796594498, 14.49902479327899, 13.96092980225625, 13.837569967833362, 13.82472130153877, 13.42371790888115, 13.300408767883868, 12.524149579734653, 12.048106649483195, 11.848731455819438, 11.761854632840594, 11.611739810453354, 17.100082685588063, 11.148557573482822, 11.049886175554205, 35.21839575489267, 10.949167545169518, 10.924470092549823, 10.911625697229447, 10.374467596890332, 10.224353805587965, 9.787975483496087, 9.573510014995433, 9.548874251201804, 9.499539344721333, 9.474842067672633, 32.79681596389777, 14.235079528815518, 26.80183264171612, 25.94539996003542, 59.047571077468156, 23.439500693232393, 21.873808547400916, 52.7855251620194, 16.57898805082451, 15.93325214814543, 15.772998754226016, 36.66537050886787, 69.09377667285969, 124.93377236024453, 40.51073821594298, 38.71613829793676, 70.49649931944325, 50.79362582263965, 3505.0474257533715, 53.90546325783816, 513.0712603156999, 163.3048126732879, 63.013477983992516, 99.37407667496831, 415.6001138617445, 184.82623524563635, 340.12044751238795, 273.5566942350067, 101.30335105467654, 735.8463063287014, 84.23321565689186, 339.08534758808474, 733.1130065479751, 328.3847845179444, 154.53799737909185, 544.8225960997509, 518.6083087218856, 199.31883555906484, 657.8444612438288, 472.04843456793725, 265.4005874620102, 105.54190668615342, 116.70398479064906, 273.38477041346016, 449.239119960615, 309.72531700052946, 303.9779384067668, 241.02958113748315, 742.5017684889419, 725.8202531690333, 16.016262167477098, 19.75591233887091, 18.65246666477079, 15.413808420071504, 14.732693505722654, 13.840365998311125, 13.263675003719207, 16.463763520318885, 12.360615322894272, 12.195631567368475, 11.667586848059923, 15.293914529468097, 14.153965739359418, 10.837699475158772, 10.763342316490021, 15.245394263147508, 10.43672815946837, 9.933454131483815, 11.818436028223664, 9.757796948745707, 16.715489525135382, 9.494807247702857, 12.98320000980147, 9.256646636214576, 9.155342433827217, 9.01636215287511, 9.065916348271433, 8.941944844074643, 8.890232952608736, 8.890232744946248, 28.520427624755023, 23.923834196137562, 10.367402413376329, 40.44077485720313, 136.11237434666285, 24.880885957466333, 11.939744881856841, 124.44233866194408, 146.8152970689563, 95.45804387712533, 20.323469496381385, 13.927643227565639, 472.04843456793725, 120.08676113406611, 657.8444612438288, 59.693874814063925, 556.0078676692636, 566.4177475594026, 742.5017684889419, 3505.0474257533715, 94.61526181643612, 340.12044751238795, 728.2868334502379, 25.242208392116257, 449.239119960615, 385.81743447756156, 259.1485885074908, 328.3847845179444, 95.82246594269208, 37.01339802595278, 518.6083087218856, 184.82623524563635, 415.6001138617445, 154.53799737909185, 733.1130065479751, 513.0712603156999, 392.1082503627733, 725.8202531690333, 309.72531700052946, 198.6507951300929, 273.5566942350067, 919.3234199891712, 18.58221750061664, 18.34357675279237, 16.060402311355702, 16.250485321614345, 14.438809785399947, 14.014934389713865, 19.394468715517984, 13.577184036542976, 13.328817142363553, 13.10406212702592, 11.90627689350056, 11.920249973431261, 15.164406508469416, 11.244756029744988, 10.983565765915182, 10.432376368977646, 10.333878320194993, 10.208670347863006, 10.02132820245861, 21.618306203070937, 11.899392316609147, 9.721605333096646, 11.483449017267604, 9.460417531171359, 9.359805888579526, 9.35980599470788, 9.17252373046294, 9.172523539990024, 9.147929182862057, 9.098676255473592, 20.42706105000265, 13.204260762812773, 18.981614377239488, 48.7317065345927, 14.346115352648356, 36.43666991996138, 20.128745277883638, 17.10009501837654, 140.10594217690453, 23.7975667281845, 27.822190079295705, 17.485758791467845, 303.9779384067668, 222.7524504279365, 58.82957267631325, 84.63604785586513, 39.789424519832075, 22.414022627657168, 79.83855750889755, 3505.0474257533715, 76.39592217262556, 67.3259978089832, 105.04482706071632, 742.5017684889419, 78.95486433049813, 32.07965637172325, 64.50468947023992, 86.80891721686059, 237.8554436211572, 566.4177475594026, 117.9971231330069, 725.8202531690333, 133.80551592029985, 286.2940426824882, 273.5566942350067, 472.04843456793725, 919.3234199891712, 728.2868334502379, 270.05588190557427, 392.1082503627733, 733.1130065479751, 267.22671016325677, 556.0078676692636, 265.4005874620102, 735.8463063287014, 24.13638068603861, 21.198209969953833, 20.092833357812715, 18.282736043094683, 12.707080428385666, 14.289019969236778, 11.149160773837542, 11.124401685658183, 13.00618392108758, 10.546889885465314, 9.818603261506302, 9.591238323949742, 9.35315284681598, 9.303578639595942, 13.222214772179411, 8.71203441250039, 11.849937049345195, 12.69952473352995, 8.424439381930211, 8.06019651609805, 8.035442175323993, 8.008498485936878, 7.770411206457542, 7.569992760013828, 56.484148558063666, 7.545173648798792, 7.406213130305593, 10.75584677003866, 15.48635089102236, 6.916032654119889, 9.080691649228317, 20.78793426180119, 75.63889176977281, 267.22671016325677, 14.155929841333071, 16.27961006982204, 735.8463063287014, 18.94936470689775, 32.8863624805301, 50.11940282169599, 127.15301783729238, 49.98903433905963, 20.143062830090336, 192.14446157974092, 35.01026922803396, 556.0078676692636, 152.94786696329797, 742.5017684889419, 64.07018334145731, 55.58083962095179, 71.1197146045977, 137.98584354795568, 228.37614173657215, 3505.0474257533715, 32.53935548222584, 165.28062064748286, 339.08534758808474, 139.69341375103124, 513.0712603156999, 105.56331914891229, 83.01764512623315, 106.12030979128033, 238.56637737514154, 518.6083087218856, 657.8444612438288, 733.1130065479751, 184.82623524563635, 544.8225960997509, 270.05588190557427, 728.2868334502379, 22.090281000905044, 24.47460693187538, 20.134470635146947, 16.53065019152102, 26.34600498407352, 15.84177188704548, 14.600054644748216, 20.102651297980053, 14.28034992906574, 13.948057191460018, 13.418547221238708, 13.321458227809735, 15.339560555051357, 19.86920010292597, 14.517981727904955, 13.431706310501507, 13.958153433002968, 10.455120473390902, 14.948996774320308, 16.28955279281161, 41.591328580517434, 9.741998312797065, 9.508815774197819, 11.179473226693261, 8.943395703649491, 8.401122494565456, 8.291396685958205, 8.267096626008092, 7.66364179906948, 7.578217175355535, 16.830726633229702, 16.599102746974058, 15.33219084734454, 12.177221706629378, 23.650828691208147, 54.44862729900166, 59.97267251410449, 54.88520739704059, 285.0065097914626, 31.045447428159186, 88.61277971074563, 141.82089170951548, 32.36090957044003, 155.72950352409836, 47.799955262481745, 21.0672987620309, 27.662189094085132, 39.349169011776645, 237.8554436211572, 259.1485885074908, 128.85505618953195, 339.08534758808474, 42.13662969517685, 116.0307953124112, 131.38991421820842, 3505.0474257533715, 82.0670105739666, 152.94786696329797, 544.8225960997509, 392.1082503627733, 286.2940426824882, 449.239119960615, 86.33275829378628, 513.0712603156999, 134.93761429608983, 136.59749524250466, 728.2868334502379, 192.14446157974092, 107.89051216333459, 657.8444612438288, 518.6083087218856, 415.6001138617445, 19.94136646971512, 18.056839792845626, 14.375055740391543, 14.196989794090445, 14.094299031790158, 13.114381746002962, 15.482746140871681, 12.375761988299606, 12.0064810635097, 14.651823713133714, 11.345506164608217, 11.051667062073083, 22.170904238459002, 9.95697944387482, 15.738652610463538, 9.663077430832208, 9.484949030116594, 13.162595990185903, 9.281721133347597, 9.052371797468705, 9.024842054820025, 8.236294671646071, 27.17217589378266, 12.145847062576836, 26.535732452153894, 7.688887596232454, 11.301694405074318, 7.3950300973456216, 7.344773754519382, 7.244234238152827, 14.151999932757066, 14.048458679748302, 13.191653025013421, 22.509632121807094, 19.570277497837523, 61.59587630518752, 21.320659986260846, 26.288987082336362, 160.48046359903088, 60.08637222830082, 19.692969767280836, 105.96945758330018, 24.23949901790372, 36.3914622163416, 15.954785335866728, 133.35280640814858, 213.6751950342714, 273.38477041346016, 62.98680081398379, 101.1451638540328, 26.16335570764971, 243.39709866222464, 238.56637737514154, 3505.0474257533715, 340.12044751238795, 58.69728945856605, 58.66189343077447, 544.8225960997509, 286.2940426824882, 117.9971231330069, 513.0712603156999, 88.94660400638429, 415.6001138617445, 101.30335105467654, 566.4177475594026, 728.2868334502379, 137.98584354795568, 273.5566942350067, 146.7574228082588, 339.08534758808474, 657.8444612438288, 228.37614173657215, 919.3234199891712, 134.96142045264196, 27.116663652627523, 16.732133532331243, 15.836238892095059, 14.997832039628417, 13.564730262396932, 13.015367824551973, 27.941142733596337, 11.963732295226002, 33.75542798615294, 18.36728021361847, 10.326723974117213, 10.159609076233208, 9.83674645112122, 9.58662247818256, 15.728317919695384, 9.108011604742515, 8.917309496802998, 8.594440073764487, 8.474484487509635, 8.474486021661761, 14.217135250238059, 8.354578528687982, 8.200809492373079, 8.031718397555595, 7.937388661640929, 7.805197569988332, 7.757988778620563, 7.734456021249708, 9.3207864502292, 17.604670685539546, 23.71193014146132, 14.885029941249964, 29.239740596982568, 13.630403781814916, 14.934189447104254, 16.78405428070321, 32.19763039473489, 34.90945085648646, 15.626246443908638, 68.2747083550521, 114.38189222028663, 104.20354629693868, 141.9122588139395, 64.71429673403836, 68.01149006044174, 43.37735533331223, 30.012261972581936, 3505.0474257533715, 443.61727590971077, 105.56331914891229, 328.3847845179444, 145.57237300675934, 733.1130065479751, 728.2868334502379, 198.6507951300929, 657.8444612438288, 556.0078676692636, 566.4177475594026, 742.5017684889419, 238.56637737514154, 76.3699645871387, 273.38477041346016, 286.2940426824882, 735.8463063287014, 919.3234199891712, 243.39709866222464, 192.14446157974092, 472.04843456793725, 518.6083087218856, 725.8202531690333, 20.45323560946961, 14.94403555703013, 14.240322367440271, 13.48451185749229, 13.39850270706454, 13.001550153811506, 16.77852789814151, 11.170450510818183, 10.948540209054052, 10.365800365197472, 9.969896277229925, 9.796825659539747, 9.686483843629095, 11.64718528438988, 15.767279127271179, 9.43808866985948, 9.389187172610539, 9.265016695719533, 9.252310193331754, 8.820274230022033, 8.793763480425417, 10.74043056723097, 8.398804229663085, 8.386147389998285, 8.288462108411528, 8.843251098971296, 8.188628267537972, 18.704463261873503, 8.13978579746532, 8.027350376942826, 17.123594796173037, 9.731455285846138, 15.422447700787705, 14.419571934838833, 14.648343880705337, 32.03322329923569, 11.616272674388268, 25.469585639528198, 33.71972879690733, 77.43094939444018, 43.661444280102316, 20.040239222792422, 20.500744120131145, 15.53109600500675, 72.58830357448295, 31.445617753492918, 34.0598706676687, 25.17728011611001, 90.78541636129714, 79.62048038286603, 22.436447414914255, 119.53784540390438, 518.6083087218856, 55.65559641705041, 89.04063553180144, 79.84418136531048, 136.59749524250466, 32.07344331105275, 228.37614173657215, 919.3234199891712, 449.239119960615, 566.4177475594026, 273.5566942350067, 3505.0474257533715, 36.97307859345605, 415.6001138617445, 339.08534758808474, 95.45804387712533, 556.0078676692636, 72.4317600913954, 733.1130065479751, 286.2940426824882, 513.0712603156999, 199.31883555906484, 725.8202531690333, 16.386620410625465, 12.264901216793493, 11.899522369374505, 11.803966021505214, 31.33279715365735, 14.109613828871076, 11.27139585534358, 10.703493154017174, 13.603232611878997, 10.32662218590672, 9.951841513635557, 11.609965667449817, 9.273921095337117, 16.354882999899605, 9.858771094509969, 12.067923222173222, 8.004179861704644, 34.99097067852151, 15.26034366020046, 18.609109334902904, 7.772723001434941, 13.391985763589208, 7.555674139796702, 9.427480247336764, 7.168468244620792, 7.096839311203441, 7.047023259995743, 9.063019058910252, 23.58793667956668, 6.756320754316856, 11.390411378620035, 20.173086489585533, 9.920508288539885, 20.038609072584123, 146.43879090726682, 26.89852078191314, 47.65543854927187, 27.29597415752463, 21.919746867465935, 22.703944177173845, 20.027938977298476, 47.865171845610014, 385.81743447756156, 97.18837225241296, 85.03948032440479, 48.67530980667609, 270.05588190557427, 26.04672276643735, 64.91670379718458, 309.72531700052946, 725.8202531690333, 165.28062064748286, 104.25714915597536, 733.1130065479751, 63.06344513961105, 133.80551592029985, 160.48046359903088, 213.6751950342714, 3505.0474257533715, 84.63604785586513, 72.1062250961921, 657.8444612438288, 139.69341375103124, 919.3234199891712, 265.4005874620102, 518.6083087218856, 199.31883555906484, 134.96142045264196, 238.56637737514154], \"Category\": [\"Default\", \"Default\", \"Default\", \"Default\", \"Default\", \"Default\", \"Default\", \"Default\", \"Default\", \"Default\", \"Default\", \"Default\", \"Default\", \"Default\", \"Default\", \"Default\", \"Default\", \"Default\", \"Default\", \"Default\", \"Default\", \"Default\", \"Default\", \"Default\", \"Default\", \"Default\", \"Default\", \"Default\", \"Default\", \"Default\", \"Topic1\", \"Topic1\", \"Topic1\", \"Topic1\", \"Topic1\", \"Topic1\", \"Topic1\", \"Topic1\", \"Topic1\", \"Topic1\", \"Topic1\", \"Topic1\", \"Topic1\", \"Topic1\", \"Topic1\", \"Topic1\", \"Topic1\", \"Topic1\", \"Topic1\", \"Topic1\", \"Topic1\", \"Topic1\", \"Topic1\", \"Topic1\", \"Topic1\", \"Topic1\", \"Topic1\", \"Topic1\", \"Topic1\", \"Topic1\", \"Topic1\", \"Topic1\", \"Topic1\", \"Topic1\", \"Topic1\", \"Topic1\", \"Topic1\", \"Topic1\", \"Topic1\", \"Topic1\", \"Topic1\", \"Topic1\", \"Topic1\", \"Topic1\", \"Topic1\", \"Topic1\", \"Topic1\", \"Topic1\", \"Topic1\", \"Topic1\", \"Topic1\", \"Topic1\", \"Topic1\", \"Topic1\", \"Topic1\", \"Topic1\", \"Topic1\", \"Topic1\", \"Topic1\", \"Topic1\", \"Topic1\", \"Topic1\", \"Topic1\", \"Topic1\", \"Topic1\", \"Topic1\", \"Topic1\", \"Topic1\", \"Topic1\", \"Topic2\", \"Topic2\", \"Topic2\", \"Topic2\", \"Topic2\", \"Topic2\", \"Topic2\", \"Topic2\", \"Topic2\", \"Topic2\", \"Topic2\", \"Topic2\", \"Topic2\", \"Topic2\", \"Topic2\", \"Topic2\", \"Topic2\", \"Topic2\", \"Topic2\", \"Topic2\", \"Topic2\", \"Topic2\", \"Topic2\", \"Topic2\", \"Topic2\", \"Topic2\", \"Topic2\", \"Topic2\", \"Topic2\", \"Topic2\", \"Topic2\", \"Topic2\", \"Topic2\", \"Topic2\", \"Topic2\", \"Topic2\", \"Topic2\", \"Topic2\", \"Topic2\", \"Topic2\", \"Topic2\", \"Topic2\", \"Topic2\", \"Topic2\", \"Topic2\", \"Topic2\", \"Topic2\", \"Topic2\", \"Topic2\", \"Topic2\", \"Topic2\", \"Topic2\", \"Topic2\", \"Topic2\", \"Topic2\", \"Topic2\", \"Topic2\", \"Topic2\", \"Topic2\", \"Topic2\", \"Topic2\", \"Topic2\", \"Topic2\", \"Topic2\", \"Topic2\", \"Topic2\", \"Topic2\", \"Topic2\", \"Topic2\", \"Topic2\", \"Topic2\", \"Topic2\", \"Topic2\", \"Topic2\", \"Topic2\", \"Topic2\", \"Topic2\", \"Topic2\", \"Topic2\", \"Topic2\", \"Topic3\", \"Topic3\", \"Topic3\", \"Topic3\", \"Topic3\", \"Topic3\", \"Topic3\", \"Topic3\", \"Topic3\", \"Topic3\", \"Topic3\", \"Topic3\", \"Topic3\", \"Topic3\", \"Topic3\", \"Topic3\", \"Topic3\", \"Topic3\", \"Topic3\", \"Topic3\", \"Topic3\", \"Topic3\", \"Topic3\", \"Topic3\", \"Topic3\", \"Topic3\", \"Topic3\", \"Topic3\", \"Topic3\", \"Topic3\", \"Topic3\", \"Topic3\", \"Topic3\", \"Topic3\", \"Topic3\", \"Topic3\", \"Topic3\", \"Topic3\", \"Topic3\", \"Topic3\", \"Topic3\", \"Topic3\", \"Topic3\", \"Topic3\", \"Topic3\", \"Topic3\", \"Topic3\", \"Topic3\", \"Topic3\", \"Topic3\", \"Topic3\", \"Topic3\", \"Topic3\", \"Topic3\", \"Topic3\", \"Topic3\", \"Topic3\", \"Topic3\", \"Topic3\", \"Topic3\", \"Topic3\", \"Topic3\", \"Topic3\", \"Topic3\", \"Topic3\", \"Topic3\", \"Topic3\", \"Topic3\", \"Topic3\", \"Topic3\", \"Topic3\", \"Topic3\", \"Topic4\", \"Topic4\", \"Topic4\", \"Topic4\", \"Topic4\", \"Topic4\", \"Topic4\", \"Topic4\", \"Topic4\", \"Topic4\", \"Topic4\", \"Topic4\", \"Topic4\", \"Topic4\", \"Topic4\", \"Topic4\", \"Topic4\", \"Topic4\", \"Topic4\", \"Topic4\", \"Topic4\", \"Topic4\", \"Topic4\", \"Topic4\", \"Topic4\", \"Topic4\", \"Topic4\", \"Topic4\", \"Topic4\", \"Topic4\", \"Topic4\", \"Topic4\", \"Topic4\", \"Topic4\", \"Topic4\", \"Topic4\", \"Topic4\", \"Topic4\", \"Topic4\", \"Topic4\", \"Topic4\", \"Topic4\", \"Topic4\", \"Topic4\", \"Topic4\", \"Topic4\", \"Topic4\", \"Topic4\", \"Topic4\", \"Topic4\", \"Topic4\", \"Topic4\", \"Topic4\", \"Topic4\", \"Topic4\", \"Topic4\", \"Topic4\", \"Topic4\", \"Topic4\", \"Topic4\", \"Topic4\", \"Topic4\", \"Topic4\", \"Topic4\", \"Topic4\", \"Topic4\", \"Topic4\", \"Topic4\", \"Topic4\", \"Topic4\", \"Topic4\", \"Topic4\", \"Topic4\", \"Topic4\", \"Topic4\", \"Topic5\", \"Topic5\", \"Topic5\", \"Topic5\", \"Topic5\", \"Topic5\", \"Topic5\", \"Topic5\", \"Topic5\", \"Topic5\", \"Topic5\", \"Topic5\", \"Topic5\", \"Topic5\", \"Topic5\", \"Topic5\", \"Topic5\", \"Topic5\", \"Topic5\", \"Topic5\", \"Topic5\", \"Topic5\", \"Topic5\", \"Topic5\", \"Topic5\", \"Topic5\", \"Topic5\", \"Topic5\", \"Topic5\", \"Topic5\", \"Topic5\", \"Topic5\", \"Topic5\", \"Topic5\", \"Topic5\", \"Topic5\", \"Topic5\", \"Topic5\", \"Topic5\", \"Topic5\", \"Topic5\", \"Topic5\", \"Topic5\", \"Topic5\", \"Topic5\", \"Topic5\", \"Topic5\", \"Topic5\", \"Topic5\", \"Topic5\", \"Topic5\", \"Topic5\", \"Topic5\", \"Topic5\", \"Topic5\", \"Topic5\", \"Topic5\", \"Topic5\", \"Topic5\", \"Topic5\", \"Topic5\", \"Topic5\", \"Topic5\", \"Topic5\", \"Topic5\", \"Topic5\", \"Topic5\", \"Topic5\", \"Topic5\", \"Topic5\", \"Topic6\", \"Topic6\", \"Topic6\", \"Topic6\", \"Topic6\", \"Topic6\", \"Topic6\", \"Topic6\", \"Topic6\", \"Topic6\", \"Topic6\", \"Topic6\", \"Topic6\", \"Topic6\", \"Topic6\", \"Topic6\", \"Topic6\", \"Topic6\", \"Topic6\", \"Topic6\", \"Topic6\", \"Topic6\", \"Topic6\", \"Topic6\", \"Topic6\", \"Topic6\", \"Topic6\", \"Topic6\", \"Topic6\", \"Topic6\", \"Topic6\", \"Topic6\", \"Topic6\", \"Topic6\", \"Topic6\", \"Topic6\", \"Topic6\", \"Topic6\", \"Topic6\", \"Topic6\", \"Topic6\", \"Topic6\", \"Topic6\", \"Topic6\", \"Topic6\", \"Topic6\", \"Topic6\", \"Topic6\", \"Topic6\", \"Topic6\", \"Topic6\", \"Topic6\", \"Topic6\", \"Topic6\", \"Topic6\", \"Topic6\", \"Topic6\", \"Topic6\", \"Topic6\", \"Topic6\", \"Topic6\", \"Topic6\", \"Topic6\", \"Topic6\", \"Topic6\", \"Topic6\", \"Topic6\", \"Topic6\", \"Topic6\", \"Topic6\", \"Topic6\", \"Topic6\", \"Topic7\", \"Topic7\", \"Topic7\", \"Topic7\", \"Topic7\", \"Topic7\", \"Topic7\", \"Topic7\", \"Topic7\", \"Topic7\", \"Topic7\", \"Topic7\", \"Topic7\", \"Topic7\", \"Topic7\", \"Topic7\", \"Topic7\", \"Topic7\", \"Topic7\", \"Topic7\", \"Topic7\", \"Topic7\", \"Topic7\", \"Topic7\", \"Topic7\", \"Topic7\", \"Topic7\", \"Topic7\", \"Topic7\", \"Topic7\", \"Topic7\", \"Topic7\", \"Topic7\", \"Topic7\", \"Topic7\", \"Topic7\", \"Topic7\", \"Topic7\", \"Topic7\", \"Topic7\", \"Topic7\", \"Topic7\", \"Topic7\", \"Topic7\", \"Topic7\", \"Topic7\", \"Topic7\", \"Topic7\", \"Topic7\", \"Topic7\", \"Topic7\", \"Topic7\", \"Topic7\", \"Topic7\", \"Topic7\", \"Topic7\", \"Topic7\", \"Topic7\", \"Topic7\", \"Topic7\", \"Topic7\", \"Topic7\", \"Topic7\", \"Topic7\", \"Topic7\", \"Topic7\", \"Topic7\", \"Topic7\", \"Topic7\", \"Topic7\", \"Topic7\", \"Topic7\", \"Topic7\", \"Topic7\", \"Topic8\", \"Topic8\", \"Topic8\", \"Topic8\", \"Topic8\", \"Topic8\", \"Topic8\", \"Topic8\", \"Topic8\", \"Topic8\", \"Topic8\", \"Topic8\", \"Topic8\", \"Topic8\", \"Topic8\", \"Topic8\", \"Topic8\", \"Topic8\", \"Topic8\", \"Topic8\", \"Topic8\", \"Topic8\", \"Topic8\", \"Topic8\", \"Topic8\", \"Topic8\", \"Topic8\", \"Topic8\", \"Topic8\", \"Topic8\", \"Topic8\", \"Topic8\", \"Topic8\", \"Topic8\", \"Topic8\", \"Topic8\", \"Topic8\", \"Topic8\", \"Topic8\", \"Topic8\", \"Topic8\", \"Topic8\", \"Topic8\", \"Topic8\", \"Topic8\", \"Topic8\", \"Topic8\", \"Topic8\", \"Topic8\", \"Topic8\", \"Topic8\", \"Topic8\", \"Topic8\", \"Topic8\", \"Topic8\", \"Topic8\", \"Topic8\", \"Topic8\", \"Topic8\", \"Topic8\", \"Topic8\", \"Topic8\", \"Topic8\", \"Topic8\", \"Topic8\", \"Topic8\", \"Topic8\", \"Topic8\", \"Topic8\", \"Topic8\", \"Topic9\", \"Topic9\", \"Topic9\", \"Topic9\", \"Topic9\", \"Topic9\", \"Topic9\", \"Topic9\", \"Topic9\", \"Topic9\", \"Topic9\", \"Topic9\", \"Topic9\", \"Topic9\", \"Topic9\", \"Topic9\", \"Topic9\", \"Topic9\", \"Topic9\", \"Topic9\", \"Topic9\", \"Topic9\", \"Topic9\", \"Topic9\", \"Topic9\", \"Topic9\", \"Topic9\", \"Topic9\", \"Topic9\", \"Topic9\", \"Topic9\", \"Topic9\", \"Topic9\", \"Topic9\", \"Topic9\", \"Topic9\", \"Topic9\", \"Topic9\", \"Topic9\", \"Topic9\", \"Topic9\", \"Topic9\", \"Topic9\", \"Topic9\", \"Topic9\", \"Topic9\", \"Topic9\", \"Topic9\", \"Topic9\", \"Topic9\", \"Topic9\", \"Topic9\", \"Topic9\", \"Topic9\", \"Topic9\", \"Topic9\", \"Topic9\", \"Topic9\", \"Topic9\", \"Topic9\", \"Topic9\", \"Topic9\", \"Topic9\", \"Topic9\", \"Topic9\", \"Topic9\", \"Topic9\", \"Topic9\", \"Topic9\", \"Topic9\", \"Topic9\", \"Topic9\", \"Topic9\", \"Topic9\", \"Topic9\", \"Topic10\", \"Topic10\", \"Topic10\", \"Topic10\", \"Topic10\", \"Topic10\", \"Topic10\", \"Topic10\", \"Topic10\", \"Topic10\", \"Topic10\", \"Topic10\", \"Topic10\", \"Topic10\", \"Topic10\", \"Topic10\", \"Topic10\", \"Topic10\", \"Topic10\", \"Topic10\", \"Topic10\", \"Topic10\", \"Topic10\", \"Topic10\", \"Topic10\", \"Topic10\", \"Topic10\", \"Topic10\", \"Topic10\", \"Topic10\", \"Topic10\", \"Topic10\", \"Topic10\", \"Topic10\", \"Topic10\", \"Topic10\", \"Topic10\", \"Topic10\", \"Topic10\", \"Topic10\", \"Topic10\", \"Topic10\", \"Topic10\", \"Topic10\", \"Topic10\", \"Topic10\", \"Topic10\", \"Topic10\", \"Topic10\", \"Topic10\", \"Topic10\", \"Topic10\", \"Topic10\", \"Topic10\", \"Topic10\", \"Topic10\", \"Topic10\", \"Topic10\", \"Topic10\", \"Topic10\", \"Topic10\", \"Topic10\", \"Topic10\", \"Topic10\", \"Topic10\", \"Topic10\", \"Topic10\", \"Topic10\", \"Topic10\"], \"logprob\": [30.0, 29.0, 28.0, 27.0, 26.0, 25.0, 24.0, 23.0, 22.0, 21.0, 20.0, 19.0, 18.0, 17.0, 16.0, 15.0, 14.0, 13.0, 12.0, 11.0, 10.0, 9.0, 8.0, 7.0, 6.0, 5.0, 4.0, 3.0, 2.0, 1.0, -6.091000080108643, -6.417300224304199, -6.467800140380859, -6.490699768066406, -6.497499942779541, -6.664100170135498, -6.704500198364258, -6.707799911499023, -6.724999904632568, -6.765900135040283, -6.470699787139893, -6.828800201416016, -6.599299907684326, -6.848100185394287, -6.866399765014648, -6.944399833679199, -6.968800067901611, -6.643400192260742, -7.00540018081665, -7.03000020980835, -6.472300052642822, -7.128799915313721, -7.138500213623047, -7.143400192260742, -6.6940999031066895, -7.218599796295166, -6.410399913787842, -7.251299858093262, -7.258399963378906, -7.258399963378906, -4.954999923706055, -4.740300178527832, -5.541399955749512, -6.342800140380859, -5.710599899291992, -6.490300178527832, -5.935299873352051, -2.9342000484466553, -5.39900016784668, -5.370699882507324, -4.923600196838379, -3.8336000442504883, -3.4565999507904053, -5.497300148010254, -4.44950008392334, -3.617799997329712, -5.5609002113342285, -3.98580002784729, -5.630199909210205, -5.037399768829346, -4.341300010681152, -4.994999885559082, -5.030399799346924, -3.9453999996185303, -4.34119987487793, -5.348700046539307, -5.103499889373779, -5.028800010681152, -5.3780999183654785, -3.482300043106079, -5.281499862670898, -4.8358001708984375, -4.790800094604492, -5.170300006866455, -4.92519998550415, -5.122900009155273, -5.196599960327148, -5.1269001960754395, -5.309700012207031, -6.1940999031066895, -6.371799945831299, -6.460999965667725, -6.5177998542785645, -6.538599967956543, -6.577099800109863, -6.617099761962891, -6.6265997886657715, -6.627500057220459, -6.65880012512207, -6.668600082397461, -6.732600212097168, -6.774099826812744, -6.791900157928467, -6.799799919128418, -6.813600063323975, -6.428500175476074, -6.8572998046875, -6.8668999671936035, -5.707799911499023, -6.876699924468994, -6.879199981689453, -6.880499839782715, -6.934899806976318, -6.950699806213379, -6.9980998039245605, -7.022200107574463, -7.025000095367432, -7.030600070953369, -7.0335001945495605, -5.821499824523926, -6.63730001449585, -6.025700092315674, -6.070700168609619, -5.306399822235107, -6.175300121307373, -6.248000144958496, -5.4558000564575195, -6.51609992980957, -6.553100109100342, -6.562099933624268, -5.850299835205078, -5.333399772644043, -4.843800067901611, -5.781499862670898, -5.832900047302246, -5.348299980163574, -5.69379997253418, -2.5618999004364014, -5.667099952697754, -4.073599815368652, -4.89139986038208, -5.5655999183654785, -5.282299995422363, -4.394000053405762, -4.926199913024902, -4.756400108337402, -4.891300201416016, -5.478000164031982, -4.404799938201904, -5.5970001220703125, -4.878499984741211, -4.503300189971924, -4.951399803161621, -5.350100040435791, -4.8394999504089355, -4.860000133514404, -5.282400131225586, -4.897900104522705, -5.05109977722168, -5.234000205993652, -5.5346999168396, -5.514900207519531, -5.346700191497803, -5.268199920654297, -5.3429999351501465, -5.373499870300293, -5.42549991607666, -5.32889986038208, -5.435500144958496, -6.375999927520752, -6.166600227355957, -6.225100040435791, -6.416299819946289, -6.464000225067139, -6.530099868774414, -6.575300216674805, -6.359899997711182, -6.6504998207092285, -6.664899826049805, -6.712200164794922, -6.44290018081665, -6.52239990234375, -6.791500091552734, -6.798999786376953, -6.453199863433838, -6.832300186157227, -6.885799884796143, -6.712200164794922, -6.905200004577637, -6.368800163269043, -6.934999942779541, -6.623199939727783, -6.962699890136719, -6.974699974060059, -6.991499900817871, -6.986000061035156, -7.0005998611450195, -7.006899833679199, -7.006899833679199, -5.84250020980835, -6.035699844360352, -6.855999946594238, -5.538899898529053, -4.438700199127197, -6.0432000160217285, -6.728499889373779, -4.602099895477295, -4.53380012512207, -4.940100193023682, -6.286200046539307, -6.6031999588012695, -3.9363999366760254, -4.976900100708008, -3.7125000953674316, -5.538000106811523, -3.9230000972747803, -3.9447999000549316, -3.7871999740600586, -2.717600107192993, -5.279699802398682, -4.454500198364258, -4.065499782562256, -6.187099933624268, -4.558599948883057, -4.768700122833252, -4.983799934387207, -4.871500015258789, -5.5040998458862305, -5.995500087738037, -4.738999843597412, -5.226500034332275, -4.918099880218506, -5.359099864959717, -4.686999797821045, -4.8491997718811035, -4.978600025177002, -4.840099811553955, -5.176499843597412, -5.329599857330322, -5.267199993133545, -5.310999870300293, -6.078800201416016, -6.092299938201904, -6.231599807739258, -6.223299980163574, -6.343800067901611, -6.375400066375732, -6.052000045776367, -6.408999919891357, -6.428599834442139, -6.446800231933594, -6.548999786376953, -6.548099994659424, -6.310999870300293, -6.610400199890137, -6.635700225830078, -6.691299915313721, -6.701499938964844, -6.714700222015381, -6.734799861907959, -5.966100215911865, -6.563700199127197, -6.7677998542785645, -6.6020002365112305, -6.797500133514404, -6.809100151062012, -6.809100151062012, -6.831200122833252, -6.831200122833252, -6.834099769592285, -6.840099811553955, -6.033100128173828, -6.473299980163574, -6.118199825286865, -5.21560001373291, -6.404200077056885, -5.538899898529053, -6.097700119018555, -6.257800102233887, -4.447000026702881, -6.003300189971924, -5.880199909210205, -6.269000053405762, -3.97160005569458, -4.296800136566162, -5.3403000831604, -5.130300045013428, -5.6956000328063965, -6.110499858856201, -5.271500110626221, -2.8018999099731445, -5.3119001388549805, -5.4253997802734375, -5.168000221252441, -4.056399822235107, -5.383500099182129, -5.908899784088135, -5.5366997718811035, -5.408599853515625, -4.936200141906738, -4.593500137329102, -5.343999862670898, -4.628399848937988, -5.3491997718811035, -5.075099945068359, -5.148600101470947, -4.963200092315674, -4.81279993057251, -4.9217000007629395, -5.231299877166748, -5.189000129699707, -5.042900085449219, -5.30620002746582, -5.182300090789795, -5.35860013961792, -5.328800201416016, -5.740699768066406, -5.875100135803223, -5.930799961090088, -6.029300212860107, -6.413000106811523, -6.30049991607666, -6.553100109100342, -6.555500030517578, -6.4028000831604, -6.61299991607666, -6.690499782562256, -6.716000080108643, -6.7434000968933105, -6.749199867248535, -6.400000095367432, -6.821300029754639, -6.513899803161621, -6.446100234985352, -6.8582000732421875, -6.9070000648498535, -6.910399913787842, -6.9141998291015625, -6.947700023651123, -6.976799964904785, -4.967299938201904, -6.980500221252441, -7.001500129699707, -6.628600120544434, -6.2677001953125, -7.078199863433838, -6.806700229644775, -5.994200229644775, -4.796800136566162, -3.653700113296509, -6.391200065612793, -6.264800071716309, -2.7802999019622803, -6.1367998123168945, -5.685500144958496, -5.378399848937988, -4.646100044250488, -5.406700134277344, -6.150599956512451, -4.444399833679199, -5.763700008392334, -3.753200054168701, -4.730800151824951, -3.8519999980926514, -5.423099994659424, -5.532199859619141, -5.413300037384033, -5.02400016784668, -4.7291998863220215, -3.299499988555908, -5.914599895477295, -5.0665998458862305, -4.700399875640869, -5.230800151824951, -4.62470006942749, -5.384200096130371, -5.5258002281188965, -5.4253997802734375, -5.10230016708374, -4.844099998474121, -4.904399871826172, -5.063399791717529, -5.389800071716309, -5.2342000007629395, -5.38129997253418, -5.353099822998047, -5.798399925231934, -5.698599815368652, -5.894700050354004, -6.100800037384033, -5.634900093078613, -6.145599842071533, -6.2316999435424805, -5.912799835205078, -6.255099773406982, -6.28000020980835, -6.321100234985352, -6.328800201416016, -6.189499855041504, -5.935400009155273, -6.254700183868408, -6.335100173950195, -6.298099994659424, -6.588500022888184, -6.231500148773193, -6.146699905395508, -5.211299896240234, -6.66510009765625, -6.691500186920166, -6.531300067901611, -6.758600234985352, -6.827400207519531, -6.841899871826172, -6.845099925994873, -6.929299831390381, -6.941800117492676, -6.144499778747559, -6.169099807739258, -6.255099773406982, -6.4770002365112305, -5.8572001457214355, -5.151400089263916, -5.076600074768066, -5.166100025177002, -3.827899932861328, -5.718200206756592, -4.913599967956543, -4.649099826812744, -5.713900089263916, -4.616399765014648, -5.467899799346924, -6.036499977111816, -5.872399806976318, -5.667699813842773, -4.644700050354004, -4.6066999435424805, -5.030900001525879, -4.561399936676025, -5.6691999435424805, -5.15880012512207, -5.103000164031982, -3.5102999210357666, -5.35129976272583, -5.115499973297119, -4.586999893188477, -4.7368998527526855, -4.912300109863281, -5.070400238037109, -5.516600131988525, -5.10699987411499, -5.436500072479248, -5.462299823760986, -5.292300224304199, -5.480999946594238, -5.552299976348877, -5.401199817657471, -5.427499771118164, -5.457499980926514, -5.8520002365112305, -5.95550012588501, -6.195300102233887, -6.208499908447266, -6.21619987487793, -6.292600154876709, -6.127799987792969, -6.354400157928467, -6.3867998123168945, -6.1905999183654785, -6.447500228881836, -6.4756999015808105, -5.783899784088135, -6.588500022888184, -6.132900238037109, -6.621099948883057, -6.641300201416016, -6.3144001960754395, -6.664999961853027, -6.692399978637695, -6.696499824523926, -6.796299934387207, -5.603400230407715, -6.411900043487549, -5.631199836730957, -6.872600078582764, -6.491499900817871, -6.916200160980225, -6.923699855804443, -6.939199924468994, -6.2779998779296875, -6.300099849700928, -6.365600109100342, -5.869900226593018, -6.021500110626221, -5.035699844360352, -5.958899974822998, -5.786200046539307, -4.278900146484375, -5.151400089263916, -6.048900127410889, -4.7769999504089355, -5.90749979019165, -5.649199962615967, -6.226099967956543, -4.813499927520752, -4.5493998527526855, -4.4120001792907715, -5.348700046539307, -5.075799942016602, -5.916900157928467, -4.674099922180176, -4.747000217437744, -3.4149999618530273, -4.618199825286865, -5.503600120544434, -5.504899978637695, -4.480100154876709, -4.810699939727783, -5.2494001388549805, -4.6479997634887695, -5.396200180053711, -4.832900047302246, -5.398900032043457, -4.837600231170654, -4.820099830627441, -5.324999809265137, -5.295400142669678, -5.445000171661377, -5.335999965667725, -5.296500205993652, -5.4070000648498535, -5.413700103759766, -5.473700046539307, -5.458399772644043, -5.960000038146973, -6.017899990081787, -6.075200080871582, -6.18149995803833, -6.225500106811523, -5.465700149536133, -6.315499782562256, -5.282700061798096, -5.897299766540527, -6.473899841308594, -6.491600036621094, -6.526599884033203, -6.554699897766113, -6.061100006103516, -6.6107001304626465, -6.633900165557861, -6.6743998527526855, -6.689899921417236, -6.689899921417236, -6.173600196838379, -6.705599784851074, -6.726200103759766, -6.749199867248535, -6.76230001449585, -6.781199932098389, -6.787799835205078, -6.791200160980225, -6.611999988555908, -5.978899955749512, -5.7118000984191895, -6.169400215148926, -5.557600021362305, -6.273799896240234, -6.19290018081665, -6.098199844360352, -5.5441999435424805, -5.525899887084961, -6.185200214385986, -4.9822001457214355, -4.615699768066406, -4.703100204467773, -4.51200008392334, -5.149400234222412, -5.131400108337402, -5.480999946594238, -5.7382001876831055, -2.66510009765625, -4.0671000480651855, -4.99429988861084, -4.357999801635742, -5.09630012512207, -4.344699859619141, -4.382999897003174, -4.997499942779541, -4.528200149536133, -4.607600212097168, -4.6153998374938965, -4.5177998542785645, -5.086699962615967, -5.517099857330322, -5.217599868774414, -5.225299835205078, -5.068999767303467, -5.042500019073486, -5.313700199127197, -5.38700008392334, -5.355599880218506, -5.399199962615967, -5.4654998779296875, -5.719200134277344, -6.047900199890137, -6.098899841308594, -6.156700134277344, -6.16349983215332, -6.195499897003174, -5.9405999183654785, -6.357900142669678, -6.379499912261963, -6.438600063323975, -6.480800151824951, -6.499899864196777, -6.512199878692627, -6.3292999267578125, -6.026700019836426, -6.540500164031982, -6.546199798583984, -6.560699939727783, -6.562300205230713, -6.61460018157959, -6.618199825286865, -6.421299934387207, -6.668499946594238, -6.670100212097168, -6.68310022354126, -6.61959981918335, -6.696499824523926, -5.870800018310547, -6.703199863433838, -6.718500137329102, -5.962900161743164, -6.526299953460693, -6.073200225830078, -6.142399787902832, -6.134300231933594, -5.4070000648498535, -6.361499786376953, -5.626699924468994, -5.4191999435424805, -4.748799800872803, -5.244200229644775, -5.911200046539307, -5.8942999839782715, -6.130199909210205, -4.918499946594238, -5.582600116729736, -5.531499862670898, -5.7733001708984375, -4.828700065612793, -4.9344000816345215, -5.890600204467773, -4.897200107574463, -4.1006999015808105, -5.423399925231934, -5.177800178527832, -5.239699840545654, -4.963799953460693, -5.73829984664917, -4.8140997886657715, -4.194699764251709, -4.569900035858154, -4.500999927520752, -4.831900119781494, -3.825700044631958, -5.701900005340576, -4.946400165557861, -5.026899814605713, -5.455599784851074, -4.99459981918335, -5.55679988861084, -5.075799942016602, -5.322000026702881, -5.247099876403809, -5.527400016784668, -5.538400173187256, -5.917699813842773, -6.208700180053711, -6.241099834442139, -6.24970006942749, -5.274199962615967, -6.0742998123168945, -6.299300193786621, -6.355000019073486, -6.116700172424316, -6.393799781799316, -6.433800220489502, -6.282100200653076, -6.510700225830078, -5.9456000328063965, -6.460100173950195, -6.261300086975098, -6.672800064086914, -5.197999954223633, -6.028500080108643, -5.830999851226807, -6.70550012588501, -6.163400173187256, -6.736999988555908, -6.519199848175049, -6.79610013961792, -6.807300090789795, -6.815199851989746, -6.565000057220459, -5.611400127410889, -6.862800121307373, -6.342800140380859, -5.782199859619141, -6.480999946594238, -5.802299976348877, -3.9330999851226807, -5.5929999351501465, -5.115799903869629, -5.609099864959717, -5.81879997253418, -5.790800094604492, -5.895299911499023, -5.211400032043457, -3.6489999294281006, -4.749300003051758, -4.927499771118164, -5.34250020980835, -4.310299873352051, -5.779600143432617, -5.215000152587891, -4.262499809265137, -3.7874999046325684, -4.702000141143799, -4.989299774169922, -4.163700103759766, -5.369699954986572, -5.070499897003174, -5.0665998458862305, -4.957600116729736, -3.898400068283081, -5.323200225830078, -5.407599925994873, -4.747300148010254, -5.2530999183654785, -4.7804999351501465, -5.190199851989746, -5.054100036621094, -5.303999900817871, -5.390500068664551, -5.3668999671936035], \"loglift\": [30.0, 29.0, 28.0, 27.0, 26.0, 25.0, 24.0, 23.0, 22.0, 21.0, 20.0, 19.0, 18.0, 17.0, 16.0, 15.0, 14.0, 13.0, 12.0, 11.0, 10.0, 9.0, 8.0, 7.0, 6.0, 5.0, 4.0, 3.0, 2.0, 1.0, 1.9815, 1.9687, 1.9664, 1.9653, 1.965, 1.9561, 1.9537, 1.9535, 1.9525, 1.9499, 1.947, 1.9458, 1.9455, 1.9445, 1.9433, 1.9376, 1.9358, 1.9341, 1.9328, 1.931, 1.9236, 1.9226, 1.9218, 1.9213, 1.9164, 1.9142, 1.9123, 1.911, 1.9104, 1.9104, 1.8758, 1.8625, 1.8713, 1.8829, 1.8454, 1.8794, 1.8147, 1.4735, 1.7363, 1.6949, 1.5795, 1.3027, 1.1874, 1.5951, 1.2969, 1.0228, 1.5579, 0.945, 1.5283, 1.2807, 0.9185, 1.2, 1.2086, 0.6886, 0.7825, 1.3287, 1.139, 1.0682, 1.2129, -0.4129, 0.9946, 0.2384, -0.0485, 0.5035, -0.304, 0.153, 0.299, -0.1468, 0.5155, 1.9975, 1.9902, 1.986, 1.9832, 1.9821, 1.9801, 1.9779, 1.9773, 1.9773, 1.9755, 1.9749, 1.971, 1.9683, 1.9671, 1.9666, 1.9657, 1.9637, 1.9627, 1.962, 1.9619, 1.9613, 1.9611, 1.961, 1.957, 1.9558, 1.9521, 1.9501, 1.9499, 1.9494, 1.9491, 1.9195, 1.9382, 1.9171, 1.9046, 1.8466, 1.9015, 1.898, 1.8092, 1.907, 1.9097, 1.9109, 1.7792, 1.6624, 1.5597, 1.7482, 1.7421, 1.6274, 1.6097, 0.5075, 1.5769, 0.9172, 1.2443, 1.5223, 1.3501, 0.8076, 1.0857, 0.6455, 0.7285, 1.1351, 0.2254, 1.2007, 0.5265, 0.1307, 0.4857, 0.8407, 0.0913, 0.1201, 0.654, -0.1555, 0.0231, 0.4161, 1.0375, 0.9567, 0.2737, -0.1445, 0.1526, 0.1408, 0.3208, -0.7076, -0.7915, 2.0817, 2.0812, 2.0802, 2.0797, 2.0772, 2.0735, 2.0709, 2.0703, 2.0663, 2.0653, 2.0622, 2.061, 2.0589, 2.0567, 2.0562, 2.0538, 2.0537, 2.0495, 2.0494, 2.048, 2.0461, 2.0456, 2.0444, 2.0432, 2.0422, 2.0408, 2.0407, 2.04, 2.0394, 2.0394, 2.0381, 2.0207, 2.0366, 1.9925, 1.8791, 1.974, 2.0229, 1.8054, 1.7083, 1.7325, 1.9333, 1.9942, 1.1378, 1.4662, 1.0299, 1.6041, 0.9875, 0.9471, 0.834, 0.3517, 1.4017, 0.9475, 0.5751, 1.8157, 0.5651, 0.5072, 0.6901, 0.5655, 1.1646, 1.6245, 0.2411, 0.7853, 0.2835, 0.8318, -0.053, 0.1416, 0.2811, -0.1961, 0.319, 0.6101, 0.3525, -0.9033, 2.2303, 2.2297, 2.2233, 2.2199, 2.2175, 2.2158, 2.2143, 2.2139, 2.2127, 2.2116, 2.2052, 2.205, 2.2013, 2.201, 2.1992, 2.1951, 2.1943, 2.1933, 2.1917, 2.1916, 2.191, 2.1891, 2.1884, 2.1867, 2.1857, 2.1857, 2.1838, 2.1838, 2.1836, 2.1831, 2.1813, 2.1775, 2.1696, 2.1293, 2.1636, 2.0968, 2.1314, 2.1344, 1.8419, 2.0584, 2.0252, 2.1009, 1.5427, 1.5284, 1.8163, 1.6626, 1.8521, 2.0111, 1.5798, 0.2674, 1.5834, 1.5964, 1.4089, 0.5648, 1.4789, 1.8542, 1.5278, 1.3589, 0.8235, 0.2985, 1.1167, 0.0155, 0.9856, 0.4992, 0.4712, 0.111, -0.4051, -0.2811, 0.4014, 0.0707, -0.409, 0.3369, -0.2718, 0.2914, -0.6986, 2.3069, 2.3022, 2.3001, 2.296, 2.2761, 2.2713, 2.2669, 2.2667, 2.2631, 2.2625, 2.2565, 2.2544, 2.2522, 2.2517, 2.2493, 2.2453, 2.245, 2.2436, 2.242, 2.2373, 2.237, 2.2366, 2.2333, 2.2303, 2.23, 2.2299, 2.2275, 2.2273, 2.2236, 2.2193, 2.2184, 2.2028, 2.1085, 1.9895, 2.19, 2.1766, 1.8499, 2.1527, 2.0528, 1.9385, 1.7398, 1.9128, 2.0778, 1.5286, 1.9119, 1.1573, 1.4704, 0.7692, 1.6482, 1.6812, 1.5536, 1.2801, 1.0711, -0.2302, 1.8343, 1.057, 0.7046, 1.0611, 0.3662, 1.1878, 1.2864, 1.1413, 0.6543, 0.136, -0.1621, -0.4294, 0.6221, -0.3034, 0.2513, -0.7125, 2.3378, 2.3351, 2.3342, 2.3252, 2.3251, 2.323, 2.3186, 2.3176, 2.3173, 2.3159, 2.3135, 2.3131, 2.3113, 2.3068, 2.3012, 2.2986, 2.2971, 2.2957, 2.2951, 2.294, 2.2921, 2.2897, 2.2875, 2.2859, 2.2818, 2.2755, 2.2742, 2.2739, 2.2655, 2.2642, 2.2635, 2.2528, 2.2462, 2.2547, 2.2107, 2.0826, 2.0608, 2.0599, 1.7508, 2.0776, 1.8334, 1.6276, 2.0404, 1.5667, 1.8963, 2.1471, 2.0388, 1.8911, 1.1149, 1.0672, 1.3417, 0.8436, 1.8212, 1.3186, 1.2502, -0.441, 1.4724, 1.0857, 0.3438, 0.5228, 0.662, 0.0533, 1.2564, -0.1161, 0.89, 0.852, -0.6517, 0.4921, 0.9979, -0.6589, -0.4474, -0.256, 2.3865, 2.3822, 2.3705, 2.3698, 2.3693, 2.3649, 2.3637, 2.3611, 2.359, 2.3561, 2.3549, 2.3529, 2.3486, 2.3445, 2.3422, 2.3419, 2.3402, 2.3395, 2.3383, 2.3359, 2.3348, 2.3265, 2.3257, 2.3224, 2.3216, 2.3189, 2.3148, 2.3143, 2.3136, 2.3119, 2.3034, 2.2887, 2.2861, 2.2474, 2.2358, 2.075, 2.2127, 2.1759, 1.8742, 1.9841, 2.2021, 1.7911, 2.1358, 1.9877, 2.2354, 1.5248, 1.3174, 1.2084, 1.7397, 1.5389, 2.05, 1.0625, 1.0096, -0.3457, 0.7838, 1.6553, 1.6546, 0.4508, 0.7636, 1.2112, 0.3429, 1.347, 0.3687, 1.2142, 0.0544, -0.1795, 0.9791, 0.3244, 0.7975, 0.069, -0.5542, 0.3933, -1.006, 0.8526, 2.4727, 2.4539, 2.4511, 2.4482, 2.4423, 2.4396, 2.4355, 2.4339, 2.4294, 2.4234, 2.4227, 2.4213, 2.4185, 2.4162, 2.4148, 2.4114, 2.4094, 2.4058, 2.4043, 2.4043, 2.4032, 2.4029, 2.4009, 2.3987, 2.3974, 2.3953, 2.3948, 2.3944, 2.387, 2.3842, 2.3535, 2.3615, 2.2982, 2.3452, 2.3347, 2.3126, 2.2152, 2.1527, 2.2972, 2.0255, 1.876, 1.8818, 1.764, 1.9119, 1.8802, 1.9803, 2.0915, 0.4043, 1.0692, 1.5777, 1.0791, 1.1543, 0.2893, 0.2576, 0.9423, 0.2142, 0.3029, 0.2766, 0.1034, 0.6699, 1.3786, 0.4028, 0.349, -0.4387, -0.6349, 0.4229, 0.5861, -0.2814, -0.4191, -0.8215, 2.4939, 2.4791, 2.4763, 2.473, 2.4726, 2.4707, 2.4706, 2.4601, 2.4585, 2.4542, 2.4509, 2.4494, 2.4484, 2.4469, 2.4466, 2.446, 2.4455, 2.4443, 2.4441, 2.4396, 2.439, 2.436, 2.4347, 2.4346, 2.4333, 2.4321, 2.432, 2.4317, 2.4314, 2.4299, 2.4279, 2.4296, 2.4223, 2.4203, 2.4127, 2.3575, 2.4174, 2.3671, 2.294, 2.1331, 2.2106, 2.3224, 2.3165, 2.3583, 2.028, 2.2005, 2.1716, 2.2321, 1.8941, 1.9196, 2.23, 1.5505, 0.8794, 1.7887, 1.5644, 1.6115, 1.3504, 2.0249, 0.9862, 0.2129, 0.5538, 0.3909, 0.7879, -0.7564, 1.9192, 0.2551, 0.3781, 1.217, -0.0841, 1.3918, -0.4418, 0.2523, -0.2563, 0.4089, -0.8944, 2.5172, 2.5158, 2.5137, 2.5131, 2.5124, 2.5101, 2.5097, 2.5057, 2.5043, 2.5028, 2.4997, 2.4973, 2.4934, 2.4912, 2.4828, 2.4794, 2.4785, 2.4782, 2.4775, 2.4766, 2.4752, 2.4732, 2.472, 2.4684, 2.4655, 2.4644, 2.4635, 2.462, 2.4592, 2.458, 2.4557, 2.4448, 2.4556, 2.4313, 2.3116, 2.3462, 2.2515, 2.3155, 2.3251, 2.3179, 2.3388, 2.1515, 1.6269, 1.9053, 1.8607, 2.0037, 1.3223, 2.1918, 1.8432, 1.2331, 0.8564, 1.4216, 1.5951, 0.4703, 1.7174, 1.2644, 1.0865, 0.9093, -0.8291, 1.4698, 1.5456, -0.005, 1.0387, -0.3729, 0.4599, -0.074, 0.6324, 0.9358, 0.3897]}, \"token.table\": {\"Topic\": [1, 2, 3, 4, 5, 6, 7, 8, 9, 10, 8, 4, 5, 1, 3, 3, 4, 5, 7, 8, 4, 4, 5, 8, 9, 4, 5, 1, 6, 10, 10, 8, 1, 2, 3, 4, 5, 6, 7, 8, 9, 10, 5, 6, 1, 2, 3, 4, 6, 7, 8, 9, 10, 7, 1, 2, 3, 4, 6, 7, 9, 7, 9, 2, 6, 1, 2, 3, 4, 5, 6, 7, 8, 9, 10, 8, 8, 1, 2, 3, 4, 5, 6, 7, 8, 10, 2, 3, 7, 10, 3, 1, 2, 3, 4, 5, 6, 8, 10, 1, 2, 3, 4, 5, 7, 8, 9, 10, 1, 2, 5, 6, 7, 8, 1, 2, 3, 4, 10, 1, 7, 8, 1, 7, 7, 10, 1, 3, 6, 7, 1, 2, 4, 5, 6, 7, 8, 9, 10, 9, 4, 5, 10, 10, 4, 10, 1, 8, 9, 1, 2, 4, 6, 7, 3, 7, 1, 2, 3, 5, 6, 7, 8, 9, 7, 9, 6, 2, 6, 1, 2, 5, 1, 7, 10, 9, 6, 2, 3, 4, 5, 8, 9, 1, 2, 3, 4, 5, 6, 7, 9, 10, 2, 3, 2, 9, 10, 3, 4, 4, 8, 1, 2, 3, 4, 5, 6, 7, 8, 10, 1, 2, 3, 4, 6, 7, 8, 10, 1, 2, 3, 6, 9, 10, 1, 3, 4, 5, 6, 7, 8, 3, 6, 1, 2, 3, 4, 9, 8, 1, 2, 4, 1, 4, 5, 6, 7, 8, 9, 10, 2, 2, 2, 3, 4, 5, 7, 8, 9, 10, 1, 2, 3, 4, 5, 6, 7, 8, 9, 10, 1, 3, 5, 6, 3, 8, 2, 5, 10, 7, 9, 10, 6, 6, 8, 1, 2, 3, 4, 5, 6, 7, 8, 9, 10, 1, 4, 7, 8, 7, 5, 1, 2, 3, 4, 5, 6, 7, 9, 1, 2, 1, 2, 3, 4, 5, 6, 7, 8, 9, 10, 5, 9, 1, 4, 1, 2, 3, 4, 6, 7, 8, 9, 10, 9, 1, 2, 3, 4, 5, 6, 7, 8, 9, 10, 2, 4, 5, 6, 7, 8, 1, 4, 6, 1, 2, 3, 4, 5, 6, 7, 8, 9, 10, 5, 5, 7, 2, 3, 5, 6, 7, 9, 2, 5, 7, 8, 10, 5, 7, 1, 2, 4, 5, 6, 7, 8, 10, 1, 2, 3, 5, 8, 1, 2, 3, 4, 5, 6, 9, 10, 8, 1, 2, 3, 4, 5, 6, 7, 8, 9, 10, 3, 1, 2, 4, 5, 6, 7, 9, 3, 4, 1, 2, 5, 6, 7, 8, 9, 5, 2, 5, 6, 7, 8, 9, 1, 2, 3, 6, 7, 1, 2, 3, 4, 5, 6, 7, 8, 9, 10, 1, 2, 9, 10, 1, 3, 6, 3, 2, 1, 7, 4, 1, 2, 3, 4, 5, 6, 7, 8, 10, 1, 3, 7, 8, 2, 4, 7, 8, 9, 1, 6, 4, 1, 3, 6, 8, 9, 8, 4, 3, 9, 2, 4, 7, 9, 3, 4, 8, 1, 8, 1, 2, 4, 5, 6, 7, 10, 3, 1, 3, 9, 5, 1, 2, 3, 4, 5, 7, 10, 2, 7, 5, 1, 3, 4, 5, 6, 7, 8, 9, 10, 1, 2, 3, 4, 5, 6, 8, 9, 10, 3, 7, 8, 9, 9, 3, 2, 3, 2, 8, 7, 2, 2, 2, 1, 2, 3, 4, 5, 6, 9, 10, 8, 1, 2, 3, 4, 5, 6, 7, 8, 9, 10, 4, 2, 9, 10, 1, 2, 3, 4, 5, 6, 7, 8, 9, 10, 8, 2, 4, 7, 9, 6, 1, 2, 8, 10, 1, 3, 6, 8, 9, 10, 2, 3, 5, 6, 7, 9, 6, 1, 2, 3, 6, 7, 9, 10, 2, 5, 7, 6, 1, 2, 6, 8, 9, 1, 2, 3, 4, 5, 6, 7, 8, 9, 3, 1, 2, 3, 4, 5, 6, 7, 8, 9, 10, 2, 3, 4, 5, 6, 7, 8, 9, 10, 3, 6, 1, 2, 3, 4, 5, 6, 7, 10, 2, 5, 7, 2, 6, 7, 6, 2, 10, 2, 5, 9, 1, 4, 7, 10, 6, 4, 3, 7, 8, 10, 9, 10, 8, 2, 5, 7, 8, 9, 10, 9, 8, 2, 1, 2, 3, 4, 5, 6, 7, 8, 9, 10, 9, 1, 4, 10, 7, 1, 2, 3, 5, 6, 7, 8, 1, 2, 3, 4, 5, 6, 7, 9, 9, 9, 2, 3, 5, 9, 3, 2, 10, 7, 2, 1, 2, 3, 4, 7, 4, 2, 7, 9, 4, 1, 3, 4, 5, 6, 7, 8, 9, 1, 7, 6, 4, 1, 10, 3, 1, 1, 2, 3, 4, 5, 6, 7, 8, 9, 10, 1, 2, 3, 4, 5, 6, 8, 10, 4, 10, 7, 2, 5, 4, 1, 9, 1, 4, 6, 5, 1, 2, 3, 4, 5, 6, 7, 8, 9, 10, 7, 5, 2, 5, 10, 6, 2, 9, 1, 2, 3, 4, 5, 7, 8, 9, 1, 2, 3, 4, 6, 9, 10, 8, 5, 2, 3, 4, 5, 6, 7, 8, 10, 2, 3, 1, 9, 9, 2, 3, 4, 7, 10, 2, 3, 5, 1, 2, 3, 4, 5, 6, 8, 9, 10, 3, 8, 9, 4, 1, 2, 3, 4, 5, 6, 7, 8, 9, 10, 5, 1, 2, 3, 4, 5, 6, 7, 9, 10, 2, 4, 1, 2, 3, 4, 5, 6, 7, 8, 9, 10, 1, 2, 3, 4, 5, 6, 8, 9, 10, 2, 4, 7, 9, 10, 3, 6, 1, 2, 4, 5, 9, 10, 10, 1, 2, 3, 4, 5, 6, 7, 9, 5, 6, 10, 5, 1, 10, 1, 2, 3, 4, 9, 9, 8, 2, 4, 7, 9, 10, 9, 2, 9, 1, 6, 9, 1, 2, 3, 4, 5, 6, 7, 8, 9, 1, 2, 3, 4, 5, 6, 7, 8, 9, 10, 1, 3, 6, 1, 7, 1, 2, 3, 4, 5, 6, 7, 8, 9, 10, 2, 6, 9, 10, 1, 2, 3, 4, 5, 6, 7, 8, 9, 10, 1, 2, 1, 2, 3, 4, 5, 7, 8, 9, 2, 4, 5, 6, 7, 9, 10, 3, 1, 2, 3, 4, 5, 6, 7, 8, 9, 2, 3, 4, 5, 9, 1, 2, 3, 5, 6, 8, 10, 2, 3, 4, 5, 7, 8, 10, 2, 3, 5, 6, 7, 8, 10, 6, 2, 7, 3, 5, 1, 2, 3, 4, 5, 6, 8, 9, 10, 1, 2, 3, 4, 6, 7, 8, 10, 5, 2, 4, 6, 1, 2, 3, 4, 5, 7, 1, 2, 3, 4, 5, 6, 7, 8, 9, 10, 2, 1, 2, 3, 4, 5, 6, 7, 8, 9, 10, 6, 4, 5, 10, 2, 4, 1, 2, 3, 5, 6, 8, 10, 6, 7, 8, 9, 10, 1, 7, 9, 1, 2, 3, 4, 5, 6, 7, 8, 9, 10, 2, 5, 6, 7, 9, 2, 1, 3, 5, 7, 2, 3, 8, 10, 4, 9, 2, 4, 5, 7, 8, 2, 3, 4, 6, 7, 9, 5, 3, 4, 9, 1, 2, 3, 4, 5, 6, 8, 5, 7, 9, 1, 2, 3, 4, 5, 6, 7, 9, 10, 1, 2, 3, 4, 6, 7, 8, 9, 3, 9, 7, 1, 2, 3, 4, 5, 6, 7, 8, 9, 10, 5, 6, 9, 10, 6, 7, 10, 2, 9, 3, 5, 1, 3, 6, 10, 6, 5, 8, 2, 2, 3, 10, 4, 5, 6, 1, 2, 3, 4, 5, 6, 7, 8, 9, 10, 5, 7, 1, 3, 8, 1, 10, 9, 1, 8, 9, 6, 3, 6, 1, 2, 3, 4, 6, 8, 9, 10, 5, 8, 1, 3, 4, 6, 1, 4, 6, 7, 8, 9, 10, 7, 1, 2, 7, 2, 4, 7, 8, 1, 2, 3, 4, 5, 6, 7, 8, 9, 10, 5, 6, 1, 2, 3, 4, 5, 6, 7, 9, 10, 1, 2, 3, 4, 8, 9, 10, 1, 4, 5, 7, 9, 4, 5, 1, 2, 3, 4, 6, 8, 9, 10, 5, 1, 2, 3, 4, 5, 6, 7, 8, 10, 2, 5, 9, 2, 6, 2, 3, 4, 5, 6, 7, 8, 9, 10, 1, 2, 3, 4, 6, 8, 9, 2, 7, 10, 3, 5, 7, 7, 6, 4, 1, 2, 3, 5, 7, 8, 9, 1, 2, 3, 4, 6, 7, 8, 9, 10, 1, 2, 3, 4, 5, 10, 5, 8, 5, 1, 2, 3, 2, 4, 8, 1, 2, 3, 4, 5, 6, 7, 8, 9, 10, 1, 2, 3, 6, 7, 8, 9, 2, 3, 2, 3, 4, 5, 7, 9, 10, 4, 2, 3, 4, 10, 10, 5, 3, 5, 9, 1, 3, 4, 5, 6, 7, 9, 10, 9, 1, 2, 3, 5, 6, 7, 8, 9, 10, 1, 2, 3, 4, 6, 8, 10, 8, 1, 2, 4, 5, 6, 7, 9, 10, 7, 1, 2, 3, 4, 5, 6, 7, 8, 9, 10, 10, 1, 2, 3, 4, 5, 6, 7, 8, 9, 10, 1, 2, 3, 4, 5, 6, 7, 8, 9, 10, 1, 5, 2, 4, 7, 9, 7, 2, 4, 2, 1, 6, 1, 2, 3, 4, 5, 6, 7, 8, 9, 10, 5, 3, 8, 7, 7, 5, 2, 4, 6, 10, 6, 2, 3, 5, 6, 5, 4, 10, 7, 3, 1, 2, 3, 4, 5, 6, 8, 9, 3, 8, 10, 7, 7, 1, 3, 4, 5, 6, 7, 9, 1, 2, 4, 5, 6, 7, 10, 2, 3, 7, 1, 6, 9, 1, 3, 4, 9, 2, 7, 4, 1, 2, 3, 4, 5, 6, 7, 8, 9, 10, 1, 2, 4, 5, 6, 7, 9, 7, 1, 2, 3, 4, 5, 6, 7, 8, 9, 10, 4, 3, 2, 9, 2, 1, 2, 7, 8, 1, 1, 2, 3, 4, 5, 6, 8, 9, 10, 5, 3, 1, 2, 8, 1, 2, 4, 4, 7, 1, 2, 3, 4, 5, 6, 7, 8, 9, 6, 10, 4, 6, 7, 8, 1, 8, 1, 2, 3, 4, 5, 6, 7, 8, 9, 10, 2, 3, 2, 3, 4, 5, 7, 9, 1, 2, 3, 4, 5, 8, 9, 2, 4, 2, 9, 10, 1, 3, 4, 5, 8, 1, 2, 3, 4, 5, 6, 8, 9, 1, 1, 2, 5, 6, 8, 9, 6, 3, 2, 3, 4, 5, 6, 7, 9, 10, 2, 4, 5, 7, 4, 1, 4, 6, 8, 6, 10, 7, 8, 4, 7, 8, 7, 2, 4, 7, 8, 5, 10, 1, 2, 3, 4, 5, 7, 8, 9, 10, 5, 1, 2, 3, 5, 9, 1, 9, 3, 6, 9, 6, 6, 2, 4, 7, 1, 2, 3, 5, 6, 9, 1, 2, 3, 4, 5, 6, 7, 9, 3, 5, 8, 7, 1, 4, 5, 6, 7, 8, 2, 4, 1, 2, 3, 4, 5, 6, 7, 8, 9, 9, 1, 4, 9, 10, 1, 2, 3, 4, 5, 6, 7, 8, 9, 10, 1, 2, 4, 5, 2, 4, 10, 10, 1, 2, 3, 5, 6, 9, 10, 2, 3, 4, 5, 6, 8, 9, 10, 9, 9, 3, 1, 2, 3, 5, 6, 7, 9, 10, 4, 2, 3, 4, 7, 10, 10, 6, 8, 3, 3, 4, 7, 1, 5, 7, 6, 3], \"Freq\": [0.13899823293934688, 0.1719188670565606, 0.07681481294016537, 0.025604937646721792, 0.032920634117213736, 0.0073156964704919406, 0.2962857070549236, 0.12070899176311702, 0.040236330587705676, 0.08413050941065732, 0.9562438626899222, 0.07064177423938331, 0.8477012908725997, 0.8585386298027702, 0.8738067481169847, 0.5943793645904708, 0.1080689753800856, 0.0270172438450214, 0.1080689753800856, 0.135086219225107, 0.9585543740289713, 0.029624865085704655, 0.029624865085704655, 0.9183708176568444, 0.9229668661072777, 0.9275819378463329, 0.9449172509831782, 0.9299009939615244, 0.9806081898190873, 0.9264560475325563, 0.8827080631740313, 0.9388082216111453, 0.019490469986268303, 0.3274398957693075, 0.13643328990387812, 0.06236950395605857, 0.13838233690250495, 0.0838090209409537, 0.12473900791211714, 0.013643328990387813, 0.06236950395605857, 0.033133798976656116, 0.35564886842777704, 0.6276156501666654, 0.18488305837387545, 0.11092983502432527, 0.08217024816616687, 0.0657361985329335, 0.04519363649139178, 0.2547277693151173, 0.1232553722492503, 0.06984471094124184, 0.06162768612462515, 0.8837462909153845, 0.15794146820833505, 0.4047250122838586, 0.02961402528906282, 0.049356708815104705, 0.049356708815104705, 0.29614025289062823, 0.00987134176302094, 0.06826710296699075, 0.8874723385708797, 0.05941514123493947, 0.8912271185240921, 0.007194142803711843, 0.03417217831763126, 0.31834081906424905, 0.07913557084083028, 0.30575106915775335, 0.01978389271020757, 0.028776571214847373, 0.11150921345753358, 0.0737399637380464, 0.02338096411206349, 0.9149366657686042, 0.944010053182114, 0.021153441949474886, 0.10576720974737444, 0.10576720974737444, 0.16217638827930747, 0.028204589265966515, 0.4724268702049392, 0.08461376779789954, 0.007051147316491629, 0.014102294632983257, 0.03680235266800303, 0.03680235266800303, 0.9200588167000758, 0.8514233284939695, 0.9110918036138961, 0.07063529871395118, 0.12200642505137022, 0.012842781584354758, 0.16053476980443449, 0.08347808029830593, 0.4430759646602392, 0.025685563168709517, 0.07705668950612855, 0.09540166023888803, 0.1513267714134086, 0.11185022234904116, 0.48029801361647084, 0.08553252297279618, 0.003289712422030622, 0.009869137266091866, 0.006579424844061244, 0.0592148235965512, 0.1966135010023161, 0.08650994044101908, 0.550517802806485, 0.015729080080185285, 0.007864540040092642, 0.13369718068157493, 0.23561467010407813, 0.026179407789342017, 0.10471763115736807, 0.4974087479974983, 0.11780733505203907, 0.9044714978235635, 0.07336539812079199, 0.8803847774495038, 0.9273915093105822, 0.0545524417241519, 0.8338606222542613, 0.07580551111402375, 0.9543823954004297, 0.024043473342383888, 0.9136519870105877, 0.024043473342383888, 0.36136895902531635, 0.012045631967510545, 0.012045631967510545, 0.3493233270578058, 0.08431942377257381, 0.02409126393502109, 0.08431942377257381, 0.04818252787004218, 0.012045631967510545, 0.9585494286719677, 0.9339741128025211, 0.05373712314777034, 0.9135310935120958, 0.9244068508422167, 0.9104511424725622, 0.9072115801159855, 0.942912382626547, 0.063422483481655, 0.88791476874317, 0.1418510152495183, 0.666699771672736, 0.12766591372456645, 0.056740406099807315, 0.014185101524951829, 0.1253542406179514, 0.8148025640166839, 0.08854663144463858, 0.0544902347351622, 0.6538828168219464, 0.0544902347351622, 0.0272451173675811, 0.10216919012842912, 0.006811279341895275, 0.006811279341895275, 0.918598082374875, 0.07066139095191346, 0.9562538955557668, 0.06522225101138726, 0.8478892631480345, 0.8307014141419619, 0.12306687616917952, 0.03076671904229488, 0.04404521047956869, 0.13213563143870607, 0.7487685781526677, 0.9444341900135074, 0.8467301540879738, 0.0863694213856559, 0.11515922851420786, 0.18233544514749578, 0.009596602376183988, 0.5374097330663034, 0.06717621663328792, 0.4777127392924427, 0.1322896816502149, 0.007349426758345272, 0.007349426758345272, 0.1543379619252507, 0.080843694341798, 0.022048280275035817, 0.007349426758345272, 0.11024140137517908, 0.12363759145701488, 0.8654631401991042, 0.1779373741745604, 0.8007181837855218, 0.8626340377235214, 0.05847920721641339, 0.8771881082462009, 0.12798978994598106, 0.8319336346488768, 0.505233975873121, 0.11578278613759023, 0.02105141566138004, 0.1999884487831104, 0.02105141566138004, 0.01052570783069002, 0.08420566264552017, 0.01052570783069002, 0.02105141566138004, 0.09266470987497445, 0.1505801535468335, 0.09266470987497445, 0.034749266203115414, 0.3243264845624106, 0.10424779860934626, 0.06949853240623083, 0.11583088734371806, 0.0474872052409022, 0.43925664847834534, 0.0474872052409022, 0.24930782751473654, 0.10684621179202994, 0.10684621179202994, 0.8597244645180172, 0.029308788563114224, 0.00976959618770474, 0.00976959618770474, 0.029308788563114224, 0.05861757712622845, 0.00976959618770474, 0.9116272849090329, 0.0701251757622333, 0.01047580653640055, 0.0419032261456022, 0.6704516183296352, 0.01047580653640055, 0.2723709699464143, 0.8582966730026604, 0.9086156563777164, 0.06970528086653058, 0.9061686512648975, 0.441869565719884, 0.04548657294175276, 0.0844750640346837, 0.14295780067408012, 0.025992327395287295, 0.09097314588350552, 0.07147890033704006, 0.10396930958114918, 0.9049866977022007, 0.9473171272833171, 0.08470442538971197, 0.04840252879412112, 0.09075474148897711, 0.2783145405661965, 0.12705663808456796, 0.03630189659559085, 0.018150948297795424, 0.31461643716178733, 0.021021171194903234, 0.11771855869145811, 0.008408468477961294, 0.23543711738291623, 0.06726774782369035, 0.285887928250684, 0.05465504510674841, 0.09249315325757423, 0.02522540543388388, 0.09669738749655488, 0.03961618510020398, 0.7130913318036717, 0.2376971106012239, 0.9313552872446946, 0.8998639341225015, 0.8968382846470938, 0.9194955601569778, 0.099141993022858, 0.892277937205722, 0.11778754638803667, 0.8637753401789355, 0.039262515462678886, 0.9126728206949686, 0.9489104710605195, 0.037956418842420785, 0.06782200511359661, 0.19969812616781224, 0.11680456436230527, 0.1394118994001708, 0.07912567263252937, 0.052750448421686254, 0.08289356180550697, 0.07912567263252937, 0.06782200511359661, 0.12057245353528286, 0.027444879079143353, 0.8507912514534439, 0.05488975815828671, 0.08233463723743005, 0.8848230753355113, 0.9383564140541275, 0.1872547451051543, 0.13217982007422657, 0.03304495501855664, 0.022029970012371093, 0.03304495501855664, 0.055074925030927736, 0.011014985006185547, 0.5287192802969063, 0.07024899284726431, 0.913236907014436, 0.038078981249481086, 0.104717198436073, 0.08567770781133245, 0.418868793744292, 0.038078981249481086, 0.019039490624740543, 0.038078981249481086, 0.14279617968555408, 0.028559235937110815, 0.07615796249896217, 0.9075635365755026, 0.9525165465514032, 0.872928607192216, 0.07274405059935132, 0.4481529618014207, 0.09506274947302865, 0.04753137473651432, 0.1901254989460573, 0.10185294586395927, 0.0407411783455837, 0.006790196390930617, 0.006790196390930617, 0.07469216030023679, 0.913363773531229, 0.2659890061399956, 0.14868103420133089, 0.11185178719733148, 0.06820230926666554, 0.06274612452533229, 0.031373062262666146, 0.028644969891999526, 0.10912369482666487, 0.0504697088573325, 0.12140011049466466, 0.01836593592173692, 0.01836593592173692, 0.1836593592173692, 0.7530033727912137, 0.01836593592173692, 0.01836593592173692, 0.8577045935845785, 0.0571803062389719, 0.0571803062389719, 0.12768975791203865, 0.11248859625584358, 0.33138532410505267, 0.04864371729982425, 0.08208627294345341, 0.04864371729982425, 0.05016383346544376, 0.10184778309650702, 0.024321858649912126, 0.07448569211535588, 0.9529183475840711, 0.045104159453512004, 0.9471873485237521, 0.23389355196245562, 0.017991811689419664, 0.5217625389931703, 0.017991811689419664, 0.1439344935153573, 0.05397543506825899, 0.036635439139450235, 0.036635439139450235, 0.036635439139450235, 0.1099063174183507, 0.769344221928455, 0.13327627851783644, 0.8440830972796308, 0.028418962421672887, 0.05683792484334577, 0.037891949895563846, 0.31260858663840174, 0.06631091231723674, 0.009472987473890962, 0.3978654739034204, 0.07578389979112769, 0.07420398153091426, 0.6307338430127712, 0.018550995382728565, 0.018550995382728565, 0.24116293997547136, 0.06088747410789721, 0.08372027689835866, 0.15221868526974303, 0.21310615937764021, 0.07610934263487151, 0.32727017332994746, 0.08372027689835866, 0.9153809403111365, 0.9022957108794195, 0.3707330513183697, 0.030207878255570864, 0.21145514778899605, 0.0782658663894336, 0.046684902758609516, 0.048057988133862736, 0.07414661026367395, 0.10572757389449802, 0.017850109878291876, 0.017850109878291876, 0.8642438578892895, 0.1485310329654812, 0.16338413626202933, 0.5050055120826361, 0.05941241318619248, 0.01485310329654812, 0.05941241318619248, 0.04455930988964436, 0.9019623083262376, 0.9615584027208783, 0.15799075534815088, 0.056425269767196744, 0.011285053953439348, 0.5868228055788461, 0.0677103237206361, 0.11285053953439349, 0.9368286060731416, 0.8675494029696046, 0.04682365249388661, 0.49945229326812385, 0.3277655674572063, 0.03121576832925774, 0.06243153665851548, 0.01560788416462887, 0.09740911827070944, 0.01623485304511824, 0.11364397131582768, 0.06493941218047296, 0.6980986809400843, 0.18080536826088475, 0.15174736264752828, 0.16466203180902006, 0.003228667290372942, 0.06457334580745884, 0.009686001871118826, 0.07425934767857767, 0.08071668225932356, 0.009686001871118826, 0.25829338322983536, 0.9699224202001927, 0.913311442056774, 0.061143818638515396, 0.9171572795777309, 0.08456363310193317, 0.042281816550966585, 0.8456363310193317, 0.8998639551419719, 0.9356679902773095, 0.9349373833389446, 0.9688203800230686, 0.9257730273579424, 0.030867890164973072, 0.09260367049491922, 0.030867890164973072, 0.061735780329946144, 0.07202507705160384, 0.09260367049491922, 0.020578593443315384, 0.10289296721657691, 0.5041755393612268, 0.14646712144117177, 0.07323356072058589, 0.16111383358528894, 0.6151619100529214, 0.04125497805302751, 0.20627489026513757, 0.7425896049544952, 0.914389556769696, 0.07033765821305354, 0.9597781379086798, 0.8944965292392284, 0.915746574129186, 0.1893269445309038, 0.027046706361557683, 0.1352335318077884, 0.08114011908467306, 0.5409341272311536, 0.8858608566991097, 0.9574886784336513, 0.14969881180799485, 0.7983936629759726, 0.031800933530362015, 0.09540280059108605, 0.12720373412144806, 0.7314214711983263, 0.9183101308073098, 0.8980845470954598, 0.958367748457009, 0.1191607204404373, 0.834125043083061, 0.014968563574937104, 0.10477994502455973, 0.14594349485563676, 0.7035224880220439, 0.007484281787468552, 0.011226422681202828, 0.011226422681202828, 0.9242713653753144, 0.9155972576211326, 0.9650198187458436, 0.918664913796457, 0.9456107887647519, 0.04025194632080113, 0.5031493290100141, 0.04025194632080113, 0.2415116779248068, 0.1207558389624034, 0.010062986580200283, 0.04025194632080113, 0.8686187391110549, 0.0914335514853742, 0.8969284955927673, 0.08998685759392264, 0.2399649535837937, 0.014997809598987106, 0.04499342879696132, 0.05249233359645487, 0.4049408591726519, 0.05249233359645487, 0.07498904799493553, 0.02999561919797421, 0.02928311381477902, 0.12445323371281085, 0.05856622762955804, 0.05856622762955804, 0.12445323371281085, 0.21962335361084268, 0.03660389226847378, 0.3074726950551797, 0.03660389226847378, 0.08593661390816681, 0.17187322781633363, 0.7161384492347235, 0.028645537969388936, 0.9535997494614684, 0.9617374117730008, 0.942519480646347, 0.8946599581523006, 0.2998774303723611, 0.666394289716358, 0.9056593536314679, 0.9400940706076332, 0.9684351301362779, 0.9153762072926278, 0.03235450235410177, 0.3041323221285566, 0.27177781977445487, 0.12941800941640708, 0.15530161129968847, 0.045296303295742475, 0.006470900470820353, 0.05823810423738318, 0.8715445006302023, 0.025150233096615716, 0.05868387722543667, 0.025150233096615716, 0.14251798754748907, 0.18443504270851527, 0.020958527580513097, 0.24311891993395193, 0.15928480961189956, 0.029341938612718336, 0.11317604893477073, 0.9244169540192589, 0.03117844224899272, 0.5923904027308617, 0.3429628647389199, 0.1096274909717469, 0.21316456577839674, 0.21011935769584822, 0.05481374548587345, 0.024361664660388197, 0.03349728890803377, 0.042632913155679346, 0.24057143852133347, 0.042632913155679346, 0.03045208082548525, 0.9219870050359545, 0.4770237307084679, 0.01703656181101671, 0.45998716889745117, 0.01703656181101671, 0.9436553035982678, 0.08217718625493736, 0.2054429656373434, 0.12326577938240604, 0.5546960072208271, 0.15529093100023983, 0.031058186200047966, 0.031058186200047966, 0.7453964688011512, 0.031058186200047966, 0.9683708593161782, 0.015876342139573923, 0.07938171069786962, 0.17463976353531316, 0.206392447814461, 0.5080429484663656, 0.015876342139573923, 0.9468637793141161, 0.11230827296182579, 0.3369248188854774, 0.10107744566564321, 0.05615413648091289, 0.011230827296182579, 0.3818481280702077, 0.9128926834513694, 0.1520387061037893, 0.7601935305189466, 0.060815482441515724, 0.9564691316040576, 0.7487575099011945, 0.0166390557755821, 0.0332781115511642, 0.16639055775582098, 0.0332781115511642, 0.008365551483892963, 0.016731102967785925, 0.08365551483892963, 0.10875216929060853, 0.07528996335503667, 0.17567658116175225, 0.016731102967785925, 0.15057992671007334, 0.37644981677518335, 0.8824259669597914, 0.04013669845883347, 0.2508543653677092, 0.06522213499560439, 0.1555297065279797, 0.015051261922062553, 0.055187960380896024, 0.0953246588397295, 0.06020504768825021, 0.12041009537650042, 0.14047844460591716, 0.05204417508464042, 0.03122650505078425, 0.124906020203137, 0.44237548821944356, 0.1509281077454572, 0.010408835016928084, 0.14572369023699316, 0.020817670033856168, 0.020817670033856168, 0.8364713516571011, 0.14761259146890018, 0.41565188889762383, 0.19760499636116544, 0.013627930783528652, 0.14309327322705084, 0.006813965391764326, 0.013627930783528652, 0.19760499636116544, 0.006813965391764326, 0.904759684608978, 0.060317312307265204, 0.9530586283468246, 0.9370103121581147, 0.028394251883579233, 0.028394251883579233, 0.9208355926517102, 0.03191543975777069, 0.92554775297535, 0.8802512286968383, 0.05839895255075123, 0.8759842882612685, 0.028578801348138345, 0.028578801348138345, 0.028578801348138345, 0.914521643140427, 0.9758691411771526, 0.8956034856752961, 0.07607748422318657, 0.7607748422318656, 0.038038742111593284, 0.11411622633477984, 0.977840395616439, 0.8872015612209351, 0.8819021341148313, 0.09842559181961999, 0.4499455626039771, 0.07030399415687143, 0.15466878714511711, 0.05624319532549714, 0.15466878714511711, 0.8634630959376496, 0.9308343453834668, 0.9581488885614413, 0.21995103399281063, 0.13505765245172582, 0.23538619427300786, 0.003858790070049309, 0.007717580140098618, 0.27011530490345165, 0.003858790070049309, 0.03472911063044378, 0.06174064112078895, 0.019293950350246548, 0.8720187448284664, 0.04625709297511696, 0.9251418595023392, 0.8880573048824517, 0.9696372644646154, 0.15653949053002825, 0.02087193207067043, 0.3756947772720678, 0.0626157962120113, 0.010435966035335215, 0.21915528674203955, 0.14610352449469302, 0.040211043018929506, 0.27051065303643484, 0.16815527080643247, 0.16449972144107525, 0.018277746826786137, 0.040211043018929506, 0.12063312905678851, 0.17546636953714692, 0.8599734899878763, 0.9535829037865987, 0.05872012901970583, 0.11744025803941166, 0.11744025803941166, 0.70464154823647, 0.9060292503364709, 0.9655821822230202, 0.8960583002280508, 0.916171852669754, 0.9474143612027972, 0.11366752498120757, 0.795672674868453, 0.018944587496867928, 0.037889174993735855, 0.018944587496867928, 0.9676908988232897, 0.8842321776578176, 0.06098152949364259, 0.030490764746821296, 0.9238824275962134, 0.2585520500762357, 0.008618401669207859, 0.2240784433994043, 0.008618401669207859, 0.3447360667683143, 0.06032881168445501, 0.06894721335366287, 0.025855205007623575, 0.8841881602919185, 0.9116742631124787, 0.9678990127204311, 0.9513322187256199, 0.9184242200469441, 0.8968682099892048, 0.9223393402500433, 0.9409871062189168, 0.06636533482141567, 0.031436211231196894, 0.07335115953945942, 0.171152705592072, 0.034929123590218776, 0.1816314426691376, 0.18861726738718138, 0.11526610784772195, 0.10129445841163444, 0.03842203594924065, 0.03157822607836306, 0.14034767145939137, 0.10526075359454352, 0.021052150718908706, 0.0912259864486044, 0.536829843332172, 0.06315645215672612, 0.010526075359454353, 0.968668028958475, 0.9115072906487295, 0.9414714975062048, 0.9266866638607583, 0.8809901612152908, 0.9579003645559235, 0.9600684032722766, 0.9248359814271562, 0.08922985548931119, 0.7584537716591451, 0.13384478323396679, 0.9443553983646663, 0.09624636439177346, 0.29355141139490903, 0.15640034213663187, 0.021655431988149027, 0.07459093240362442, 0.07218477329383009, 0.12752643281909984, 0.04812318219588673, 0.10346484172115647, 0.00721847732938301, 0.8619091098586664, 0.9166273206377912, 0.042394551655137405, 0.042394551655137405, 0.8902855847578856, 0.9464901007359412, 0.9164537235307736, 0.912900681920221, 0.1193278905710832, 0.03409368302030948, 0.25570262265232113, 0.03409368302030948, 0.06818736604061897, 0.460264720774178, 0.01704684151015474, 0.01704684151015474, 0.023518488028977713, 0.22342563627528828, 0.05879622007244429, 0.03527773204346657, 0.15287017218835514, 0.011759244014488857, 0.4821290045940432, 0.8535742729434386, 0.9277453807990775, 0.013868428123452126, 0.18028956560487763, 0.08321056874071275, 0.110947424987617, 0.013868428123452126, 0.221894849975234, 0.0554737124938085, 0.36057913120975527, 0.07179965652916759, 0.8615958783500111, 0.9757921666993823, 0.8548440314173219, 0.9647108421626925, 0.023630592999876274, 0.023630592999876274, 0.5435036389971544, 0.08270707549956696, 0.33082830199826785, 0.7405443919605867, 0.19747850452282315, 0.049369626130705786, 0.09312789388993234, 0.24058039254899186, 0.05432460476912719, 0.05432460476912719, 0.10088855171409336, 0.35699025991140726, 0.04656394694496617, 0.03880328912080514, 0.007760657824161027, 0.904726630940153, 0.8434572757545852, 0.12651859136318777, 0.8816035480941925, 0.4895664650086782, 0.17840133894384036, 0.053935288517905224, 0.04978642017037405, 0.012446605042593513, 0.09542397199321694, 0.012446605042593513, 0.07882849860309225, 0.0041488683475311705, 0.024893210085187027, 0.8711406102200911, 0.15748773982436656, 0.10021947079732418, 0.05010973539866209, 0.007158533628380299, 0.27918281150683166, 0.10737800442570448, 0.07158533628380298, 0.007158533628380299, 0.21475600885140897, 0.048954668395621716, 0.9301386995168126, 0.16947413473200787, 0.1334608811014562, 0.3707246697262672, 0.11439504094410531, 0.010592133420750492, 0.03813168031470177, 0.02330269352565108, 0.06143437384035286, 0.031776400262251474, 0.048723813735452266, 0.18557385644051516, 0.049962192118600236, 0.042824736101657344, 0.6495084975418031, 0.014274912033885782, 0.007137456016942891, 0.007137456016942891, 0.014274912033885782, 0.021412368050828672, 0.04196792770949242, 0.06295189156423862, 0.10491981927373104, 0.06295189156423862, 0.7134547710613711, 0.08212053817297191, 0.903325919902691, 0.6535782327482612, 0.01594093250605515, 0.07970466253027575, 0.09564559503633091, 0.01594093250605515, 0.1275274600484412, 0.9474618887840519, 0.954903968466683, 0.04000877445310585, 0.020004387226552924, 0.10002193613276462, 0.6601447784762465, 0.020004387226552924, 0.12002632335931755, 0.020004387226552924, 0.6569501037022327, 0.3141935278575896, 0.9556552012973574, 0.9434758891598788, 0.9165513655338076, 0.8745430663659793, 0.6382751827687878, 0.0981961819644289, 0.11456221229183372, 0.14729427294664335, 0.9070012781201267, 0.9539541374554396, 0.8901142557952022, 0.18322802032560828, 0.0687105076221031, 0.022903502540701035, 0.7329120813024331, 0.8485830561416426, 0.9077677079290694, 0.053463175392921516, 0.9088739816796658, 0.9295442070904089, 0.8934084562746778, 0.904644673148613, 0.06782953071726361, 0.22118325233890304, 0.06488042068607823, 0.005898220062370748, 0.19464126205823468, 0.2152850322765323, 0.09437152099793197, 0.017694660187112243, 0.11501529121622958, 0.1258998684275582, 0.04813818498700755, 0.05184112229370044, 0.15552336688110133, 0.12219693112086533, 0.05924699690708622, 0.099979307280708, 0.04813818498700755, 0.007405874613385778, 0.28512617261535245, 0.0927044400117956, 0.15450740001965935, 0.710734040090433, 0.07537006953194769, 0.9044408343833724, 0.05495548251884674, 0.21982193007538697, 0.034347176574279215, 0.08930265909312596, 0.13738870629711686, 0.15112757692682854, 0.006869435314855843, 0.26103854196452203, 0.006869435314855843, 0.0480860472039909, 0.9639048853935814, 0.09124192957576854, 0.09124192957576854, 0.7755564013940326, 0.38885890977143095, 0.141403239916884, 0.12961963659047698, 0.070701619958442, 0.0176754049896105, 0.041242611642424494, 0.058918016632035, 0.011783603326406999, 0.0765934216216455, 0.053026214968831496, 0.8911349700538798, 0.09901499667265332, 0.6455190191615162, 0.08842726289883784, 0.04421363144941892, 0.06189908402918649, 0.017685452579767568, 0.026528178869651354, 0.07958453660895405, 0.035370905159535136, 0.15098690098911532, 0.12267685705365619, 0.018873362623639416, 0.018873362623639416, 0.5284541534619036, 0.1321135383654759, 0.028310043935459123, 0.9307492102788261, 0.04869438577287953, 0.3841445988749385, 0.2597033907886908, 0.021641949232390902, 0.17854608116722495, 0.016231461924293176, 0.03246292384858635, 0.04869438577287953, 0.0054104873080977256, 0.06428680211268396, 0.7232265237676946, 0.10446605343311144, 0.07232265237676946, 0.03214340105634198, 0.043419250538354374, 0.69470800861367, 0.10131158458949353, 0.014473083512784791, 0.07236541756392395, 0.043419250538354374, 0.028946167025569583, 0.04943390083598785, 0.0988678016719757, 0.11864136200637083, 0.14830170250796354, 0.4152447670222979, 0.05932068100318542, 0.10875458183917326, 0.07287938207218435, 0.054659536554138265, 0.10931907310827653, 0.7287938207218435, 0.018219845518046087, 0.018219845518046087, 0.018219845518046087, 0.9134038598789861, 0.9780609846447821, 0.9150259792961566, 0.8872758064014746, 0.9451523844698172, 0.18370554736815273, 0.4531403501747768, 0.055111664210445825, 0.055111664210445825, 0.09797629192968146, 0.07348221894726109, 0.06123518245605091, 0.0061235182456050915, 0.012247036491210183, 0.22244773445570998, 0.29659697927427997, 0.055611933613927494, 0.027805966806963747, 0.2502537012626737, 0.07414924481856999, 0.018537311204642498, 0.046343278011606245, 0.9247036584995642, 0.07539691855821445, 0.6534399608378586, 0.25132306186071485, 0.24640208825613055, 0.12320104412806528, 0.02174136072848211, 0.02174136072848211, 0.34786177165571375, 0.23190784777047582, 0.33409141449791113, 0.056106955106519425, 0.15811960075473658, 0.10966359407183343, 0.07650948423616286, 0.15811960075473658, 0.007650948423616286, 0.06375790353013572, 0.028053477553259713, 0.010201264564821714, 0.9569842324079484, 0.43674725059811076, 0.059243317904475595, 0.09782036212134342, 0.10470912001721268, 0.03444378947934627, 0.006888757895869255, 0.01239976421256466, 0.035821541058520125, 0.03306603790017242, 0.17772995371342679, 0.9648555367696138, 0.049930249993945595, 0.14979074998183678, 0.7988839999031295, 0.17971266768538197, 0.7907357378156806, 0.04610700640073538, 0.02305350320036769, 0.09221401280147076, 0.09221401280147076, 0.02305350320036769, 0.5993910832095599, 0.11526751600183845, 0.11649896208416763, 0.6490656458975054, 0.016642708869166804, 0.11649896208416763, 0.09985625321500083, 0.3022687006805801, 0.6320163741503039, 0.054957945578287294, 0.07591570035592927, 0.03177866526527272, 0.30542828282734336, 0.1394730308864747, 0.04237155368703029, 0.04590251649428281, 0.0935705143921919, 0.10769436562120199, 0.1165217726393333, 0.04060607228340403, 0.0177040820394422, 0.9029081840115523, 0.0531122461183266, 0.0177040820394422, 0.0177040820394422, 0.9130065262554633, 0.8712931739313461, 0.0368152045323104, 0.012271734844103465, 0.0736304090646208, 0.08038298971423218, 0.8440213919994378, 0.04019149485711609, 0.04019149485711609, 0.06935018629671803, 0.9015524218573344, 0.29724984733177723, 0.1049117108229802, 0.017485285137163367, 0.034970570274326734, 0.5333011966834827, 0.08265794493796638, 0.01377632415632773, 0.01377632415632773, 0.19286853818858823, 0.08265794493796638, 0.6061582628784201, 0.948146809969166, 0.06243517804365695, 0.09365276706548542, 0.8428749035893688, 0.013076351045025875, 0.12422533492774582, 0.03269087761256469, 0.13076351045025875, 0.418443233440828, 0.2746033719455434, 0.9683613143010203, 0.07118218608861057, 0.8541862330633269, 0.07118218608861057, 0.2916041684247908, 0.11352528694400255, 0.20924268573992624, 0.07123155259231533, 0.04451972037019707, 0.09794338481443357, 0.013355916111059123, 0.13801113314761093, 0.022259860185098537, 0.13233058108272158, 0.04411019369424053, 0.07351698949040089, 0.11762718318464142, 0.014703397898080178, 0.014703397898080178, 0.5440257222289665, 0.07351698949040089, 0.8681055910772726, 0.9640690102383584, 0.9555124518356423, 0.08815857889100712, 0.21683016167367444, 0.16861398098571265, 0.13437763966881666, 0.07646116227440099, 0.05991359730456794, 0.06248132290333514, 0.12268022305221055, 0.0373746726042781, 0.0330951299396661, 0.0417840346724553, 0.0417840346724553, 0.2507042080347318, 0.6476525374230572, 0.9237001049223154, 0.09980732658417422, 0.8483622759654809, 0.9311700713443204, 0.8646489182524049, 0.8973712661806422, 0.05982475107870948, 0.28478633784374113, 0.5863248132077024, 0.03350427504044014, 0.08376068760110034, 0.9522537024278678, 0.05680310741747636, 0.9088497186796217, 0.9774135687762276, 0.7636633589514098, 0.16364214834673066, 0.027273691391121777, 0.04810482789709159, 0.8658869021476486, 0.09620965579418318, 0.054630333605158246, 0.0341439585032239, 0.006828791700644781, 0.054630333605158246, 0.006828791700644781, 0.02048637510193434, 0.0341439585032239, 0.013657583401289562, 0.006828791700644781, 0.7648246704722154, 0.9673696916685462, 0.849896741079203, 0.912454983265576, 0.9581546867183502, 0.9050410243161435, 0.9769745960707624, 0.9318901782637719, 0.9651971494061868, 0.9390901267702985, 0.058693132923143654, 0.9702576686531977, 0.9365176948896989, 0.9392815191149084, 0.9589005206248279, 0.2973417194980271, 0.08632501533813691, 0.08632501533813691, 0.0383666734836164, 0.0095916683709041, 0.047958341854520505, 0.05755001022542461, 0.37407506646525995, 0.8740714644938966, 0.9255589179390481, 0.6130746417480276, 0.017029851159667434, 0.3065373208740138, 0.03405970231933487, 0.8785909122466141, 0.45595670773756464, 0.2533092820764248, 0.10132371283056991, 0.01266546410382124, 0.07599278462292744, 0.10132371283056991, 0.9488717305093802, 0.8899802420249101, 0.8875927918430234, 0.06339948513164453, 0.04104104170003321, 0.8618618757006974, 0.020520520850016606, 0.06156156255004981, 0.11569425130860415, 0.14654605165756526, 0.1504025267011854, 0.06170360069792222, 0.10990953874317395, 0.05977536317611215, 0.040492987958011456, 0.053990650610681944, 0.19089551465919685, 0.0694165507851625, 0.9496180858229448, 0.9451489616152846, 0.17041907178259666, 0.09632382318146768, 0.14819049720225796, 0.03704762430056449, 0.014819049720225796, 0.05186667402079029, 0.20746669608316115, 0.07409524860112898, 0.19264764636293535, 0.12323484607280627, 0.16944791335010861, 0.15404355759100782, 0.015404355759100784, 0.030808711518201568, 0.030808711518201568, 0.47753502853212426, 0.1242548847169208, 0.2347036711319615, 0.027612196603760176, 0.27612196603760175, 0.317540260943242, 0.8721700157128951, 0.8989247496242619, 0.3593769870639989, 0.007046607589490174, 0.028186430357960698, 0.07751268348439191, 0.014093215178980349, 0.47916931608533186, 0.007046607589490174, 0.03523303794745087, 0.9226380368605889, 0.05084869732999145, 0.24576870376162535, 0.04237391444165954, 0.3135669668682806, 0.008474782888331908, 0.008474782888331908, 0.2966174010916168, 0.025424348664995725, 0.016949565776663816, 0.048778717208514816, 0.09755743441702963, 0.8292381925447518, 0.06024422013908526, 0.9036633020862789, 0.1862564908223466, 0.21646024609083522, 0.12081502107395455, 0.010067918422829546, 0.015101877634244318, 0.06040751053697727, 0.21142628687942047, 0.10067918422829546, 0.08054334738263637, 0.20564850500223028, 0.3427475083370505, 0.2656293189612141, 0.11996162791796766, 0.04284343854213131, 0.017137375416852525, 0.008568687708426262, 0.649687819397435, 0.09843754839355076, 0.23625011614452182, 0.10155908548252221, 0.050779542741261105, 0.8124726838601777, 0.9465816782155607, 0.8954412702567845, 0.8745148590554664, 0.26269311200068035, 0.0772626800002001, 0.01545253600004002, 0.03090507200008004, 0.01545253600004002, 0.5562912960014407, 0.03090507200008004, 0.04874065683670565, 0.2558884483927047, 0.03655549262752924, 0.012185164209176412, 0.4021104189028216, 0.10966647788258771, 0.024370328418352825, 0.06092582104588206, 0.03655549262752924, 0.1718912695176166, 0.1419971356884659, 0.014947066914575357, 0.2765207379196441, 0.11957653531660285, 0.2690472044623564, 0.9040218769752908, 0.06457299121252076, 0.9182700183692188, 0.8563946011248513, 0.08783534370511295, 0.043917671852556475, 0.9310145610923756, 0.9812699149450193, 0.8971315846857318, 0.05621350085092756, 0.14615510221241165, 0.044970800680742044, 0.06745620102111308, 0.05621350085092756, 0.14615510221241165, 0.33728100510556536, 0.011242700170185511, 0.022485400340371022, 0.11242700170185511, 0.07514636505004973, 0.15029273010009947, 0.05009757670003316, 0.05009757670003316, 0.2504878835001658, 0.01252439417500829, 0.4007806136002653, 0.9352266579869641, 0.9365481061154994, 0.016654625215240665, 0.5162933816724606, 0.09992775129144399, 0.19985550258288798, 0.10825506389906432, 0.049963875645721995, 0.016654625215240665, 0.9615583918180229, 0.2015357349483516, 0.17053023726398983, 0.4805852141076077, 0.13952473957962802, 0.8369988950571681, 0.8684651777434215, 0.039718349058687125, 0.19859174529343562, 0.7546486321150554, 0.047464640966026976, 0.09492928193205395, 0.09492928193205395, 0.023732320483013488, 0.5695756915923237, 0.09492928193205395, 0.047464640966026976, 0.023732320483013488, 0.9097356345559777, 0.10071104549322886, 0.12260475103523513, 0.017514964433605017, 0.2802394309376803, 0.048166152192413804, 0.13136223325203764, 0.07881733995122259, 0.21455831431166147, 0.004378741108401254, 0.07515165838675547, 0.037575829193377736, 0.13777804037571836, 0.5010110559117031, 0.13777804037571836, 0.07515165838675547, 0.037575829193377736, 0.9588200205256696, 0.012462576161277227, 0.04361901656447029, 0.06231288080638613, 0.04361901656447029, 0.024925152322554454, 0.5732785034187524, 0.012462576161277227, 0.22432637090299007, 0.904840866435239, 0.22446442184561147, 0.00897857687382446, 0.0763179034275079, 0.47586457431269635, 0.049382172806034526, 0.013467865310736689, 0.08978576873824459, 0.00897857687382446, 0.00448928843691223, 0.049382172806034526, 0.9043552379394921, 0.1555139675874069, 0.1010840789318145, 0.19698435894404875, 0.06220558703496277, 0.0336946929772715, 0.04665419027622207, 0.00518379891958023, 0.00518379891958023, 0.012959497298950576, 0.38360112004893704, 0.5819497125465397, 0.03372045063353782, 0.047861284770182706, 0.06852865773912524, 0.016316347080744104, 0.025018398857140963, 0.03263269416148821, 0.04351025888198428, 0.09789808248446463, 0.05221231065838114, 0.8899812567659611, 0.9008532256546092, 0.05109789578152369, 0.10219579156304738, 0.817566332504379, 0.9027175157834837, 0.9223587473685687, 0.8969770245242576, 0.975330358361774, 0.9498839068470857, 0.18986772083040404, 0.8069378135292172, 0.09831626414649702, 0.06464631067166927, 0.27340002221560133, 0.18047095062507673, 0.20740691340493894, 0.02828276091885531, 0.03232315533583464, 0.09023547531253837, 0.01750837580691043, 0.00538719255597244, 0.9282749734613855, 0.06718159143427463, 0.8733606886455701, 0.8895297676684453, 0.8864421062889767, 0.9097894766742615, 0.01667426109391437, 0.1000455665634862, 0.7336674881322321, 0.1500683498452293, 0.9320294447860104, 0.9283694242726221, 0.052772217721683855, 0.8443554835469417, 0.052772217721683855, 0.929838945326831, 0.9280996692421775, 0.9342744332252744, 0.9104047773347593, 0.9502675118139088, 0.03673435294917099, 0.09550931766784457, 0.7787682825224249, 0.007346870589834198, 0.007346870589834198, 0.029387482359336792, 0.03673435294917099, 0.014693741179668396, 0.9184705007339063, 0.9194455148741025, 0.9005852902139588, 0.9313803045066666, 0.9739092670550349, 0.09040312762202327, 0.012914732517431894, 0.07748839510459136, 0.012914732517431894, 0.07748839510459136, 0.06457366258715948, 0.6715660909064585, 0.7294011827612674, 0.015519174101303561, 0.07759587050651781, 0.10863421870912493, 0.015519174101303561, 0.046557522303910685, 0.015519174101303561, 0.041799319950204604, 0.8777857189542967, 0.041799319950204604, 0.2169025733861009, 0.7230085779536696, 0.03615042889768348, 0.1699825367595494, 0.01699825367595494, 0.6289353860103328, 0.1699825367595494, 0.8864769876520571, 0.07708495544800496, 0.9227994399880554, 0.01872000163312564, 0.00468000040828141, 0.0982800085739096, 0.07956000694078397, 0.0982800085739096, 0.07488000653250255, 0.32760002857969867, 0.09360000816562819, 0.014040001224844228, 0.18720001633125638, 0.44412675472083174, 0.009654929450452864, 0.22206337736041587, 0.019309858900905728, 0.17378873010815155, 0.1062042239549815, 0.009654929450452864, 0.9156870708895841, 0.3432309917736276, 0.1431658682264329, 0.05322833562264812, 0.02019005833962515, 0.07158293411321645, 0.13215310913209188, 0.13949494852831923, 0.02019005833962515, 0.03670919698113664, 0.04221557652830713, 0.9696090057337236, 0.9227050466679877, 0.1287739126302008, 0.8370304320963052, 0.9403444537108337, 0.042663024826664786, 0.8532604965332957, 0.08532604965332957, 0.947194602342575, 0.9537206638517458, 0.49141458603692756, 0.04057551627827842, 0.07213425116138386, 0.06311746976621088, 0.018033562790345965, 0.006762586046379737, 0.23894470697208406, 0.029304539534312196, 0.04057551627827842, 0.9622423740315329, 0.9290794351750256, 0.03731088143739599, 0.8954611544975039, 0.03731088143739599, 0.06276182606677672, 0.8786655649348741, 0.8721699976017656, 0.8578409538234756, 0.11437879384313009, 0.2593791225862381, 0.05187582451724762, 0.17785996977342042, 0.1333949773300653, 0.044464992443355104, 0.22973579429066804, 0.014821664147785034, 0.02964332829557007, 0.05187582451724762, 0.8945148202192905, 0.8454467879141757, 0.12884336775162325, 0.7408493645718337, 0.09663252581371744, 0.03221084193790581, 0.9333931035364063, 0.9575587772057645, 0.023102650449951606, 0.16307753258789368, 0.03669244483227608, 0.051641218652833, 0.6128997266428338, 0.014948773820556921, 0.023102650449951606, 0.053000198091065445, 0.008153876629394685, 0.013589794382324473, 0.9394713110914441, 0.9708254554102705, 0.039904705311736635, 0.09976176327934158, 0.019952352655868318, 0.6783799902995228, 0.11971411593520989, 0.059857057967604946, 0.26422798521133634, 0.010569119408453455, 0.4861794927888589, 0.02113823881690691, 0.0951220746760811, 0.116260313492988, 0.010569119408453455, 0.07573313023446986, 0.9087975628136383, 0.038392545924762385, 0.2687478214733367, 0.6910658266457229, 0.8362647516162134, 0.025341356109582224, 0.025341356109582224, 0.1013654244383289, 0.9334682481446739, 0.07624049186660442, 0.05082699457773628, 0.15248098373320884, 0.05082699457773628, 0.02541349728886814, 0.6099239349328354, 0.02541349728886814, 0.02541349728886814, 0.9149465410344824, 0.16170880521267397, 0.2695146753544566, 0.035935290047260884, 0.035935290047260884, 0.017967645023630442, 0.4671587706143915, 0.9506443127246604, 0.9212927167912239, 0.30128388891436936, 0.015857046784966806, 0.09514228070980084, 0.015857046784966806, 0.06342818713986723, 0.06342818713986723, 0.015857046784966806, 0.4281402631941038, 0.33805217826175427, 0.030732016205614027, 0.6146403241122805, 0.030732016205614027, 0.8792487803033272, 0.03420002980817129, 0.13680011923268515, 0.03420002980817129, 0.820800715396111, 0.08779314168380382, 0.8779314168380382, 0.828244891420009, 0.8783475853098851, 0.2675497775674594, 0.6879851423163242, 0.9440102240780583, 0.9527932816868507, 0.74904164709902, 0.05165804462751862, 0.18080315619631518, 0.02582902231375931, 0.8599714575444398, 0.0614265326817457, 0.11760539624287984, 0.24991146701611966, 0.3057740302314876, 0.02352107924857597, 0.005880269812143992, 0.19404890380075174, 0.06174283302751191, 0.011760539624287985, 0.02940134906071996, 0.9297268930844071, 0.04964488312602435, 0.04964488312602435, 0.04964488312602435, 0.7446732468903652, 0.04964488312602435, 0.08608613348107909, 0.8608613348107909, 0.1782813440126473, 0.04457033600316183, 0.7576957120537511, 0.9103418378803338, 0.968808305821942, 0.82983938383704, 0.033870995258654696, 0.13548398103461878, 0.013220711945962499, 0.013220711945962499, 0.026441423891924998, 0.7932427167577499, 0.15864854335155, 0.013220711945962499, 0.1319257362472414, 0.047116334374014794, 0.1319257362472414, 0.08480940187322662, 0.3015445399936947, 0.08480940187322662, 0.19788860437086211, 0.018846533749605918, 0.0357895168975177, 0.0357895168975177, 0.9305274393354602, 0.9038885789340944, 0.3142596717144712, 0.013094152988102967, 0.026188305976205934, 0.2487889067739564, 0.06547076494051483, 0.3273538247025742, 0.9646219664196728, 0.9230493553351845, 0.09605088978981753, 0.624330783633814, 0.024012722447454383, 0.19210177957963506, 0.016008481631636255, 0.008004240815818128, 0.016008481631636255, 0.024012722447454383, 0.008004240815818128, 0.8952190415521162, 0.04202110288929903, 0.7984009548966815, 0.08404220577859806, 0.04202110288929903, 0.10422400300868494, 0.36952146521261026, 0.04737454682212952, 0.01894981872885181, 0.04737454682212952, 0.01894981872885181, 0.16107345919524035, 0.03789963745770362, 0.09474909364425904, 0.11369891237311085, 0.21820682612330533, 0.06234480746380153, 0.654620478369916, 0.031172403731900764, 0.049680195471435824, 0.8445633230144091, 0.049680195471435824, 0.9174105322747428, 0.015869620785794947, 0.6030455898602081, 0.047608862357384846, 0.06347848314317979, 0.031739241571589895, 0.06347848314317979, 0.17456582864374443, 0.3571061705856524, 0.03455866166957927, 0.40318438614509144, 0.0806368772290183, 0.09215643111887804, 0.011519553889859755, 0.011519553889859755, 0.011519553889859755, 0.931061370156796, 0.929129717789123, 0.9427827830421568, 0.03767874779923566, 0.21351290419566876, 0.012559582599745222, 0.1632745737966879, 0.012559582599745222, 0.012559582599745222, 0.5400620517890445, 0.012559582599745222, 0.9232145018125776, 0.03717676552208071, 0.03717676552208071, 0.03717676552208071, 0.07435353104416143, 0.780712075963695, 0.921357604656721, 0.133920893871331, 0.8704858101636515, 0.9153967725545347, 0.9478865410540515, 0.8893034205053165, 0.9695468708407203, 0.8878131333536676, 0.14070858978724002, 0.7973486754610268, 0.923835101488123, 0.9731533953975545], \"Term\": [\"10\", \"10\", \"10\", \"10\", \"10\", \"10\", \"10\", \"10\", \"10\", \"10\", \"12\", \"13\", \"13\", \"14\", \"19\", \"20\", \"20\", \"20\", \"20\", \"20\", \"2014\", \"30\", \"30\", \"30\", \"80\", \"90\", \"CG\", \"OOO\", \"good\", \"love\", \"the\", \"tv\", \"\\u3134\\ub2e4\", \"\\u3134\\ub2e4\", \"\\u3134\\ub2e4\", \"\\u3134\\ub2e4\", \"\\u3134\\ub2e4\", \"\\u3134\\ub2e4\", \"\\u3134\\ub2e4\", \"\\u3134\\ub2e4\", \"\\u3134\\ub2e4\", \"\\u3134\\ub2e4\", \"\\u3134\\ub2e4\\uba74\", \"\\u3134\\ub2e4\\uba74\", \"\\u3134\\ub370\", \"\\u3134\\ub370\", \"\\u3134\\ub370\", \"\\u3134\\ub370\", \"\\u3134\\ub370\", \"\\u3134\\ub370\", \"\\u3134\\ub370\", \"\\u3134\\ub370\", \"\\u3134\\ub370\", \"\\u3134\\ub4e4\\ub370\", \"\\u3134\\uc9c0\", \"\\u3134\\uc9c0\", \"\\u3134\\uc9c0\", \"\\u3134\\uc9c0\", \"\\u3134\\uc9c0\", \"\\u3134\\uc9c0\", \"\\u3134\\uc9c0\", \"\\u3139\\uac8c\\uc694\", \"\\u3139\\uac8c\\uc694\", \"\\u3139\\uc218\\ub85d\", \"\\u3139\\uc218\\ub85d\", \"\\u3142\\ub2c8\\ub2e4\", \"\\u3142\\ub2c8\\ub2e4\", \"\\u3142\\ub2c8\\ub2e4\", \"\\u3142\\ub2c8\\ub2e4\", \"\\u3142\\ub2c8\\ub2e4\", \"\\u3142\\ub2c8\\ub2e4\", \"\\u3142\\ub2c8\\ub2e4\", \"\\u3142\\ub2c8\\ub2e4\", \"\\u3142\\ub2c8\\ub2e4\", \"\\u3142\\ub2c8\\ub2e4\", \"\\uac00\\uac8c\", \"\\uac00\\ub974\\uce58\", \"\\uac00\\uc2b4\", \"\\uac00\\uc2b4\", \"\\uac00\\uc2b4\", \"\\uac00\\uc2b4\", \"\\uac00\\uc2b4\", \"\\uac00\\uc2b4\", \"\\uac00\\uc2b4\", \"\\uac00\\uc2b4\", \"\\uac00\\uc2b4\", \"\\uac00\\uce58\", \"\\uac00\\uce58\", \"\\uac00\\uce58\", \"\\uac08\\ub9ac\", \"\\uac10\\uac01\", \"\\uac10\\ub3c5\", \"\\uac10\\ub3c5\", \"\\uac10\\ub3c5\", \"\\uac10\\ub3c5\", \"\\uac10\\ub3c5\", \"\\uac10\\ub3c5\", \"\\uac10\\ub3c5\", \"\\uac10\\ub3c5\", \"\\uac10\\ub3d9\", \"\\uac10\\ub3d9\", \"\\uac10\\ub3d9\", \"\\uac10\\ub3d9\", \"\\uac10\\ub3d9\", \"\\uac10\\ub3d9\", \"\\uac10\\ub3d9\", \"\\uac10\\ub3d9\", \"\\uac10\\ub3d9\", \"\\uac10\\ub3d9\\uc801\", \"\\uac10\\ub3d9\\uc801\", \"\\uac10\\ub3d9\\uc801\", \"\\uac10\\ub3d9\\uc801\", \"\\uac10\\ub3d9\\uc801\", \"\\uac10\\ub3d9\\uc801\", \"\\uac15\\ucd94\", \"\\uac15\\ucd94\", \"\\uac15\\ucd94\", \"\\uac15\\ucd94\", \"\\uac15\\ucd94\", \"\\uac16\\ucd94\", \"\\uac1c\\uadf8\", \"\\uac1c\\uadf8\", \"\\uac70\\uae30\", \"\\uac70\\uae30\", \"\\uac70\\ub9ac\", \"\\uac70\\ub9ac\", \"\\uac78\\ub9ac\", \"\\uac78\\uc791\", \"\\uac78\\uc791\", \"\\uac78\\uc791\", \"\\uacb0\\ub9d0\", \"\\uacb0\\ub9d0\", \"\\uacb0\\ub9d0\", \"\\uacb0\\ub9d0\", \"\\uacb0\\ub9d0\", \"\\uacb0\\ub9d0\", \"\\uacb0\\ub9d0\", \"\\uacb0\\ub9d0\", \"\\uacb0\\ub9d0\", \"\\uacbd\\ucc30\", \"\\uacbd\\ud5d8\", \"\\uace0\\ub9d9\", \"\\uace0\\ub9d9\", \"\\uace0\\ubc31\", \"\\uace0\\uc0dd\", \"\\uace0\\uc591\\uc774\", \"\\uace0\\uc804\", \"\\uacf5\\ubd80\", \"\\uacf5\\ubd80\", \"\\uacf5\\ud3ec\", \"\\uacf5\\ud3ec\", \"\\uacf5\\ud3ec\", \"\\uacf5\\ud3ec\", \"\\uacf5\\ud3ec\", \"\\uad00\\uac1d\", \"\\uad00\\uac1d\", \"\\uad1c\\ucc2e\", \"\\uad1c\\ucc2e\", \"\\uad1c\\ucc2e\", \"\\uad1c\\ucc2e\", \"\\uad1c\\ucc2e\", \"\\uad1c\\ucc2e\", \"\\uad1c\\ucc2e\", \"\\uad1c\\ucc2e\", \"\\uad1c\\ud788\", \"\\uad1c\\ud788\", \"\\uad50\\uacfc\\uc11c\", \"\\uad50\\ud6c8\", \"\\uad50\\ud6c8\", \"\\uad6c\\uc694\", \"\\uad6c\\uc694\", \"\\uad6c\\uc694\", \"\\uad6c\\ud558\", \"\\uad6c\\ud558\", \"\\uad6c\\ud558\", \"\\uad70\\uc694\", \"\\uad73\\uad73\", \"\\uadc0\\uc5fd\", \"\\uadc0\\uc5fd\", \"\\uadc0\\uc5fd\", \"\\uadc0\\uc5fd\", \"\\uadc0\\uc5fd\", \"\\uadc0\\uc5fd\", \"\\uadf8\\ub0e5\", \"\\uadf8\\ub0e5\", \"\\uadf8\\ub0e5\", \"\\uadf8\\ub0e5\", \"\\uadf8\\ub0e5\", \"\\uadf8\\ub0e5\", \"\\uadf8\\ub0e5\", \"\\uadf8\\ub0e5\", \"\\uadf8\\ub0e5\", \"\\uadf8\\ub54c\", \"\\uadf8\\ub54c\", \"\\uadf8\\ub798\\uc11c\", \"\\uadf8\\ub798\\uc11c\", \"\\uadf8\\ub798\\ud53d\", \"\\uadf8\\ub7ec\\ub098\", \"\\uadf8\\ub7ec\\ub098\", \"\\uadf8\\ub7f0\\ub370\", \"\\uadf8\\ub7f0\\ub370\", \"\\uadf8\\ub807\", \"\\uadf8\\ub807\", \"\\uadf8\\ub807\", \"\\uadf8\\ub807\", \"\\uadf8\\ub807\", \"\\uadf8\\ub807\", \"\\uadf8\\ub807\", \"\\uadf8\\ub807\", \"\\uadf8\\ub807\", \"\\uadf8\\ub9ac\", \"\\uadf8\\ub9ac\", \"\\uadf8\\ub9ac\", \"\\uadf8\\ub9ac\", \"\\uadf8\\ub9ac\", \"\\uadf8\\ub9ac\", \"\\uadf8\\ub9ac\", \"\\uadf8\\ub9ac\", \"\\uadf8\\ub9ac\\uace0\", \"\\uadf8\\ub9ac\\uace0\", \"\\uadf8\\ub9ac\\uace0\", \"\\uadf8\\ub9ac\\uace0\", \"\\uadf8\\ub9ac\\uace0\", \"\\uadf8\\ub9ac\\uace0\", \"\\uadf8\\ub9ac\\ud558\", \"\\uadf8\\ub9ac\\ud558\", \"\\uadf8\\ub9ac\\ud558\", \"\\uadf8\\ub9ac\\ud558\", \"\\uadf8\\ub9ac\\ud558\", \"\\uadf8\\ub9ac\\ud558\", \"\\uadf8\\ub9ac\\ud558\", \"\\uadf8\\ub9bc\", \"\\uadf8\\ub9bc\", \"\\uadf9\\uc7a5\", \"\\uadf9\\uc7a5\", \"\\uadf9\\uc7a5\", \"\\uadf9\\uc7a5\", \"\\uadf9\\uc7a5\", \"\\uadfc\\ub798\", \"\\uae09\\ud558\", \"\\uae30\\uac00\", \"\\uae30\\uac00\", \"\\uae30\\ub300\", \"\\uae30\\ub300\", \"\\uae30\\ub300\", \"\\uae30\\ub300\", \"\\uae30\\ub300\", \"\\uae30\\ub300\", \"\\uae30\\ub300\", \"\\uae30\\ub300\", \"\\uae30\\ubc1c\", \"\\uae30\\uc220\", \"\\uae30\\uc5b5\", \"\\uae30\\uc5b5\", \"\\uae30\\uc5b5\", \"\\uae30\\uc5b5\", \"\\uae30\\uc5b5\", \"\\uae30\\uc5b5\", \"\\uae30\\uc5b5\", \"\\uae30\\uc5b5\", \"\\uae4c\\uc9c0\", \"\\uae4c\\uc9c0\", \"\\uae4c\\uc9c0\", \"\\uae4c\\uc9c0\", \"\\uae4c\\uc9c0\", \"\\uae4c\\uc9c0\", \"\\uae4c\\uc9c0\", \"\\uae4c\\uc9c0\", \"\\uae4c\\uc9c0\", \"\\uae4c\\uc9c0\", \"\\uae68\\ub2eb\", \"\\uae68\\ub2eb\", \"\\uae68\\ub2eb\", \"\\uaf2c\\ub9c8\", \"\\uaf64\\ub098\", \"\\ub054\\ucc0d\", \"\\ub05d\\ub0b4\\uc8fc\", \"\\ub07c\\uce58\", \"\\ub07c\\uce58\", \"\\ub098\\ub77c\", \"\\ub098\\ub77c\", \"\\ub098\\ub77c\", \"\\ub098\\ub8e8\\ud1a0\", \"\\ub098\\uc058\", \"\\ub098\\uc058\", \"\\ub098\\uc624\", \"\\ub098\\uc624\", \"\\ub098\\uc624\", \"\\ub098\\uc624\", \"\\ub098\\uc624\", \"\\ub098\\uc624\", \"\\ub098\\uc624\", \"\\ub098\\uc624\", \"\\ub098\\uc624\", \"\\ub098\\uc624\", \"\\ub098\\uc774\", \"\\ub098\\uc774\", \"\\ub098\\uc774\", \"\\ub098\\uc774\", \"\\ub098\\uc911\", \"\\ub098\\uc9c0\", \"\\ub0a8\\uc790\", \"\\ub0a8\\uc790\", \"\\ub0a8\\uc790\", \"\\ub0a8\\uc790\", \"\\ub0a8\\uc790\", \"\\ub0a8\\uc790\", \"\\ub0a8\\uc790\", \"\\ub0a8\\uc790\", \"\\ub0a8\\ud3b8\", \"\\ub0a8\\ud3b8\", \"\\ub0b4\\ub0b4\", \"\\ub0b4\\ub0b4\", \"\\ub0b4\\ub0b4\", \"\\ub0b4\\ub0b4\", \"\\ub0b4\\ub0b4\", \"\\ub0b4\\ub0b4\", \"\\ub0b4\\ub0b4\", \"\\ub0b4\\ub0b4\", \"\\ub0b4\\ub0b4\", \"\\ub0b4\\ub0b4\", \"\\ub0b4\\ub9ac\", \"\\ub0b4\\uba74\", \"\\ub0b4\\uc694\", \"\\ub0b4\\uc694\", \"\\ub0b4\\uc6a9\", \"\\ub0b4\\uc6a9\", \"\\ub0b4\\uc6a9\", \"\\ub0b4\\uc6a9\", \"\\ub0b4\\uc6a9\", \"\\ub0b4\\uc6a9\", \"\\ub0b4\\uc6a9\", \"\\ub0b4\\uc6a9\", \"\\ub0b4\\uc6a9\", \"\\ub0b4\\uc77c\", \"\\ub108\\ubb34\", \"\\ub108\\ubb34\", \"\\ub108\\ubb34\", \"\\ub108\\ubb34\", \"\\ub108\\ubb34\", \"\\ub108\\ubb34\", \"\\ub108\\ubb34\", \"\\ub108\\ubb34\", \"\\ub108\\ubb34\", \"\\ub108\\ubb34\", \"\\ub108\\ubb34\\ub098\", \"\\ub108\\ubb34\\ub098\", \"\\ub108\\ubb34\\ub098\", \"\\ub108\\ubb34\\ub098\", \"\\ub108\\ubb34\\ub098\", \"\\ub108\\ubb34\\ub098\", \"\\ub108\\ubb34\\ub108\\ubb34\", \"\\ub108\\ubb34\\ub108\\ubb34\", \"\\ub108\\ubb34\\ub108\\ubb34\", \"\\ub124\\uc694\", \"\\ub124\\uc694\", \"\\ub124\\uc694\", \"\\ub124\\uc694\", \"\\ub124\\uc694\", \"\\ub124\\uc694\", \"\\ub124\\uc694\", \"\\ub124\\uc694\", \"\\ub124\\uc694\", \"\\ub124\\uc694\", \"\\ub144\\ub300\", \"\\ub144\\ub3c4\", \"\\ub144\\ub3c4\", \"\\ub178\\ub798\", \"\\ub178\\ub798\", \"\\ub178\\ub798\", \"\\ub178\\ub798\", \"\\ub178\\ub798\", \"\\ub178\\ub798\", \"\\ub180\\ub78d\", \"\\ub180\\ub78d\", \"\\ub180\\ub78d\", \"\\ub180\\ub78d\", \"\\ub180\\ub78d\", \"\\ub204\\uad70\\uac00\", \"\\ub204\\uad70\\uac00\", \"\\ub208\\ubb3c\", \"\\ub208\\ubb3c\", \"\\ub208\\ubb3c\", \"\\ub208\\ubb3c\", \"\\ub208\\ubb3c\", \"\\ub208\\ubb3c\", \"\\ub208\\ubb3c\", \"\\ub208\\ubb3c\", \"\\ub290\\uaef4\\uc9c0\", \"\\ub290\\uaef4\\uc9c0\", \"\\ub290\\uaef4\\uc9c0\", \"\\ub290\\uaef4\\uc9c0\", \"\\ub290\\uaef4\\uc9c0\", \"\\ub290\\ub07c\", \"\\ub290\\ub07c\", \"\\ub290\\ub07c\", \"\\ub290\\ub07c\", \"\\ub290\\ub07c\", \"\\ub290\\ub07c\", \"\\ub290\\ub07c\", \"\\ub294\\uac00\", \"\\ub294\\uad6c\\ub098\", \"\\ub294\\ub370\", \"\\ub294\\ub370\", \"\\ub294\\ub370\", \"\\ub294\\ub370\", \"\\ub294\\ub370\", \"\\ub294\\ub370\", \"\\ub294\\ub370\", \"\\ub294\\ub370\", \"\\ub294\\ub370\", \"\\ub294\\ub370\", \"\\ub294\\ub370\\uc694\", \"\\ub294\\uc9c0\", \"\\ub294\\uc9c0\", \"\\ub294\\uc9c0\", \"\\ub294\\uc9c0\", \"\\ub294\\uc9c0\", \"\\ub294\\uc9c0\", \"\\ub294\\uc9c0\", \"\\ub2a5\\ub825\", \"\\ub2c8\\ud2b8\", \"\\ub2e4\\uac00\", \"\\ub2e4\\uac00\", \"\\ub2e4\\uac00\", \"\\ub2e4\\uac00\", \"\\ub2e4\\uac00\", \"\\ub2e4\\uac00\", \"\\ub2e4\\uac00\\uc624\", \"\\ub2e4\\ub77c\", \"\\ub2e4\\ub978\", \"\\ub2e4\\ub978\", \"\\ub2e4\\ub978\", \"\\ub2e4\\ub978\", \"\\ub2e4\\ub978\", \"\\ub2e4\\ub978\", \"\\ub2e4\\uba74\", \"\\ub2e4\\uba74\", \"\\ub2e4\\uba74\", \"\\ub2e4\\uba74\", \"\\ub2e4\\uba74\", \"\\ub2e4\\uc2dc\", \"\\ub2e4\\uc2dc\", \"\\ub2e4\\uc2dc\", \"\\ub2e4\\uc2dc\", \"\\ub2e4\\uc2dc\", \"\\ub2e4\\uc2dc\", \"\\ub2e4\\uc2dc\", \"\\ub2e4\\uc2dc\", \"\\ub2e4\\uc2dc\", \"\\ub2e4\\uc2dc\", \"\\ub2e4\\uc591\", \"\\ub2e4\\ud050\\uba58\\ud130\\ub9ac\", \"\\ub2e5\\uce58\", \"\\ub2e5\\uce58\", \"\\ub2e8\\uc21c\", \"\\ub2e8\\uc21c\", \"\\ub2e8\\uc21c\", \"\\ub2e8\\uc21c\\ud788\", \"\\ub2e8\\uc5f0\", \"\\ub2ec\\ub2ec\", \"\\ub2f5\\ub2f5\", \"\\ub2f9\\uc5f0\\ud788\", \"\\ub300\\ubc15\", \"\\ub300\\ubc15\", \"\\ub300\\ubc15\", \"\\ub300\\ubc15\", \"\\ub300\\ubc15\", \"\\ub300\\ubc15\", \"\\ub300\\ubc15\", \"\\ub300\\ubc15\", \"\\ub300\\ubc15\", \"\\ub300\\uc0ac\", \"\\ub300\\uc0ac\", \"\\ub300\\uc0ac\", \"\\ub300\\uc0ac\", \"\\ub300\\ud55c\\ubbfc\\uad6d\", \"\\ub300\\ud55c\\ubbfc\\uad6d\", \"\\ub300\\ud55c\\ubbfc\\uad6d\", \"\\ub354\\ub2c8\", \"\\ub354\\ub2c8\", \"\\ub354\\ub77c\\uba74\", \"\\ub354\\ubd88\", \"\\ub354\\ud558\", \"\\ub358\\ub370\", \"\\ub358\\ub370\", \"\\ub358\\ub370\", \"\\ub358\\ub370\", \"\\ub358\\ub370\", \"\\ub370\\ub9ac\", \"\\ub3c4\\ub85c\", \"\\ub3c4\\ub85d\", \"\\ub3c4\\ub85d\", \"\\ub3cb\\ubcf4\\uc774\", \"\\ub3cb\\ubcf4\\uc774\", \"\\ub3cb\\ubcf4\\uc774\", \"\\ub3cb\\ubcf4\\uc774\", \"\\ub3cc\\ub9ac\", \"\\ub3d9\\ub124\", \"\\ub3d9\\uc6d0\", \"\\ub418\\uac8c\", \"\\ub418\\uac8c\", \"\\ub4dc\\ub77c\\ub9c8\", \"\\ub4dc\\ub77c\\ub9c8\", \"\\ub4dc\\ub77c\\ub9c8\", \"\\ub4dc\\ub77c\\ub9c8\", \"\\ub4dc\\ub77c\\ub9c8\", \"\\ub4dc\\ub77c\\ub9c8\", \"\\ub4dc\\ub77c\\ub9c8\", \"\\ub4dc\\ubb3c\", \"\\ub4e4\\uc5b4\\uc624\", \"\\ub4f1\\uc7a5\", \"\\ub4f1\\uc7a5\\uc778\\ubb3c\", \"\\ub514\\ud14c\\uc77c\", \"\\ub530\\ub73b\", \"\\ub530\\ub73b\", \"\\ub530\\ub73b\", \"\\ub530\\ub73b\", \"\\ub530\\ub73b\", \"\\ub530\\ub73b\", \"\\ub530\\ub73b\", \"\\ub530\\ub974\", \"\\ub530\\ub974\", \"\\ub530\\uc9c0\", \"\\ub77c\\uace0\", \"\\ub77c\\uace0\", \"\\ub77c\\uace0\", \"\\ub77c\\uace0\", \"\\ub77c\\uace0\", \"\\ub77c\\uace0\", \"\\ub77c\\uace0\", \"\\ub77c\\uace0\", \"\\ub77c\\uace0\", \"\\ub77c\\ub294\", \"\\ub77c\\ub294\", \"\\ub77c\\ub294\", \"\\ub77c\\ub294\", \"\\ub77c\\ub294\", \"\\ub77c\\ub294\", \"\\ub77c\\ub294\", \"\\ub77c\\ub294\", \"\\ub77c\\ub294\", \"\\ub77c\\ub3c4\", \"\\ub77c\\ub3c4\", \"\\ub77c\\ub3c4\", \"\\ub77c\\ub3c4\", \"\\ub77c\\ub9c8\", \"\\ub77c\\uc774\", \"\\ub77c\\uc778\", \"\\ub7ec\\uc2dc\\uc544\", \"\\ub85c\\ub9e8\\uc2a4\", \"\\ub85c\\ub9e8\\uc2a4\", \"\\ub85c\\ubd07\", \"\\ub9ac\\ubdf0\", \"\\ub9c8\\ub2c8\", \"\\ub9c8\\ub9ac\", \"\\ub9c8\\uc74c\", \"\\ub9c8\\uc74c\", \"\\ub9c8\\uc74c\", \"\\ub9c8\\uc74c\", \"\\ub9c8\\uc74c\", \"\\ub9c8\\uc74c\", \"\\ub9c8\\uc74c\", \"\\ub9c8\\uc74c\", \"\\ub9c8\\uc774\", \"\\ub9c8\\uc9c0\\ub9c9\", \"\\ub9c8\\uc9c0\\ub9c9\", \"\\ub9c8\\uc9c0\\ub9c9\", \"\\ub9c8\\uc9c0\\ub9c9\", \"\\ub9c8\\uc9c0\\ub9c9\", \"\\ub9c8\\uc9c0\\ub9c9\", \"\\ub9c8\\uc9c0\\ub9c9\", \"\\ub9c8\\uc9c0\\ub9c9\", \"\\ub9c8\\uc9c0\\ub9c9\", \"\\ub9c8\\uc9c0\\ub9c9\", \"\\ub9c9\\ud788\", \"\\ub9cc\\ub098\", \"\\ub9cc\\ub098\", \"\\ub9cc\\ub098\", \"\\ub9cc\\ub4e4\", \"\\ub9cc\\ub4e4\", \"\\ub9cc\\ub4e4\", \"\\ub9cc\\ub4e4\", \"\\ub9cc\\ub4e4\", \"\\ub9cc\\ub4e4\", \"\\ub9cc\\ub4e4\", \"\\ub9cc\\ub4e4\", \"\\ub9cc\\ub4e4\", \"\\ub9cc\\ub4e4\", \"\\ub9cc\\uc774\", \"\\ub9cc\\uc810\", \"\\ub9cc\\uc810\", \"\\ub9cc\\uc810\", \"\\ub9cc\\uc810\", \"\\ub9cc\\uc871\", \"\\ub9cc\\ud07c\", \"\\ub9cc\\ud07c\", \"\\ub9cc\\ud07c\", \"\\ub9cc\\ud07c\", \"\\ub9cc\\ud654\", \"\\ub9cc\\ud654\", \"\\ub9cc\\ud654\", \"\\ub9cc\\ud654\", \"\\ub9cc\\ud654\", \"\\ub9d0\\ub9ac\", \"\\ub9d0\\ud558\", \"\\ub9d0\\ud558\", \"\\ub9d0\\ud558\", \"\\ub9d0\\ud558\", \"\\ub9d0\\ud558\", \"\\ub9d0\\ud558\", \"\\ub9de\\ucd94\", \"\\ub9e4\\ub825\", \"\\ub9e4\\ub825\", \"\\ub9e4\\ub825\", \"\\ub9e4\\ub825\", \"\\ub9e4\\ub825\", \"\\ub9e4\\ub825\", \"\\ub9e4\\uc8fc\", \"\\uba38\\ub9ac\", \"\\uba38\\ub9ac\", \"\\uba38\\ub9ac\", \"\\uba48\\ucd94\", \"\\uba4b\\uc788\", \"\\uba4b\\uc788\", \"\\uba4b\\uc788\", \"\\uba4b\\uc788\", \"\\uba4b\\uc788\", \"\\uba4b\\uc9c0\", \"\\uba4b\\uc9c0\", \"\\uba4b\\uc9c0\", \"\\uba4b\\uc9c0\", \"\\uba4b\\uc9c0\", \"\\uba4b\\uc9c0\", \"\\uba4b\\uc9c0\", \"\\uba4b\\uc9c0\", \"\\uba4b\\uc9c0\", \"\\uba54\\uc774\", \"\\uba74\\uc11c\", \"\\uba74\\uc11c\", \"\\uba74\\uc11c\", \"\\uba74\\uc11c\", \"\\uba74\\uc11c\", \"\\uba74\\uc11c\", \"\\uba74\\uc11c\", \"\\uba74\\uc11c\", \"\\uba74\\uc11c\", \"\\uba74\\uc11c\", \"\\uba85\\uc791\", \"\\uba85\\uc791\", \"\\uba85\\uc791\", \"\\uba85\\uc791\", \"\\uba85\\uc791\", \"\\uba85\\uc791\", \"\\uba85\\uc791\", \"\\uba85\\uc791\", \"\\uba85\\uc791\", \"\\uba85\\ud488\", \"\\uba85\\ud488\", \"\\ubaa8\\ub974\", \"\\ubaa8\\ub974\", \"\\ubaa8\\ub974\", \"\\ubaa8\\ub974\", \"\\ubaa8\\ub974\", \"\\ubaa8\\ub974\", \"\\ubaa8\\ub974\", \"\\ubaa8\\ub974\", \"\\ubb34\\uac81\", \"\\ubb34\\uac81\", \"\\ubb34\\ub9ac\", \"\\ubb34\\uc2a8\", \"\\ubb34\\uc2a8\", \"\\ubb34\\uc2a8\", \"\\ubb34\\uc5b8\\uac00\", \"\\ubb34\\uc870\\uac74\", \"\\ubb34\\uc870\\uac74\", \"\\ubb50\\ud558\", \"\\ubba4\\uc9c0\\uceec\", \"\\ubba4\\uc9c0\\uceec\", \"\\ubbf8\\uad6d\", \"\\ubbf8\\uad6d\", \"\\ubbf8\\uad6d\", \"\\ubbf8\\uad6d\", \"\\ubbf8\\uc2a4\", \"\\ubc14\\uafb8\", \"\\ubc14\\ub77c\", \"\\ubc14\\ub77c\", \"\\ubc14\\ub77c\", \"\\ubc14\\ub77c\", \"\\ubc14\\ub78c\", \"\\ubc14\\ud0d5\", \"\\ubc18\\uac11\", \"\\ubc18\\uc804\", \"\\ubc18\\uc804\", \"\\ubc18\\uc804\", \"\\ubc18\\uc804\", \"\\ubc18\\uc804\", \"\\ubc18\\uc804\", \"\\ubc18\\uc9c0\", \"\\ubc1c\\ub808\", \"\\ubc29\\ubc95\", \"\\ubc30\\uc6b0\", \"\\ubc30\\uc6b0\", \"\\ubc30\\uc6b0\", \"\\ubc30\\uc6b0\", \"\\ubc30\\uc6b0\", \"\\ubc30\\uc6b0\", \"\\ubc30\\uc6b0\", \"\\ubc30\\uc6b0\", \"\\ubc30\\uc6b0\", \"\\ubc30\\uc6b0\", \"\\ubc40\\ud30c\\uc774\\uc5b4\", \"\\ubc88\\uc9f8\", \"\\ubc88\\uc9f8\", \"\\ubca0\\ub9ac\", \"\\ubca0\\uc2a4\\ud2b8\", \"\\ubcf4\\uace0\", \"\\ubcf4\\uace0\", \"\\ubcf4\\uace0\", \"\\ubcf4\\uace0\", \"\\ubcf4\\uace0\", \"\\ubcf4\\uace0\", \"\\ubcf4\\uace0\", \"\\ubcf4\\ub2e4\", \"\\ubcf4\\ub2e4\", \"\\ubcf4\\ub2e4\", \"\\ubcf4\\ub2e4\", \"\\ubcf4\\ub2e4\", \"\\ubcf4\\ub2e4\", \"\\ubcf4\\ub2e4\", \"\\ubcf4\\ub2e4\", \"\\ubcf4\\uc11d\", \"\\ubcf4\\uc138\", \"\\ubcf4\\uc2dc\", \"\\ubcf4\\uc2dc\", \"\\ubcf4\\uc2dc\", \"\\ubcf4\\uc2dc\", \"\\ubcf4\\uc601\", \"\\ubcf5\\uc218\", \"\\ubcf8\\ubc29\", \"\\ubcf8\\uc801\", \"\\ubcf8\\uc9c0\", \"\\ubcfc\\ub9cc\", \"\\ubcfc\\ub9cc\", \"\\ubcfc\\ub9cc\", \"\\ubcfc\\ub9cc\", \"\\ubcfc\\ub9cc\", \"\\ubd80\\uc791\", \"\\ubd80\\uc871\", \"\\ubd80\\uc871\", \"\\ubd80\\uc871\", \"\\ubd80\\ud0c1\", \"\\ubd80\\ud130\", \"\\ubd80\\ud130\", \"\\ubd80\\ud130\", \"\\ubd80\\ud130\", \"\\ubd80\\ud130\", \"\\ubd80\\ud130\", \"\\ubd80\\ud130\", \"\\ubd80\\ud130\", \"\\ubd80\\ud65c\", \"\\ubd81\\ud55c\", \"\\ubd84\\uba85\", \"\\ubd88\\ub95c\", \"\\ubd88\\uc30d\", \"\\ube14\\ub799\", \"\\ube5b\\ub098\", \"\\uc0ac\\uac74\", \"\\uc0ac\\ub78c\", \"\\uc0ac\\ub78c\", \"\\uc0ac\\ub78c\", \"\\uc0ac\\ub78c\", \"\\uc0ac\\ub78c\", \"\\uc0ac\\ub78c\", \"\\uc0ac\\ub78c\", \"\\uc0ac\\ub78c\", \"\\uc0ac\\ub78c\", \"\\uc0ac\\ub78c\", \"\\uc0ac\\ub791\", \"\\uc0ac\\ub791\", \"\\uc0ac\\ub791\", \"\\uc0ac\\ub791\", \"\\uc0ac\\ub791\", \"\\uc0ac\\ub791\", \"\\uc0ac\\ub791\", \"\\uc0ac\\ub791\", \"\\uc0ac\\uc0c1\", \"\\uc0ac\\uc218\", \"\\uc0ac\\uc774\", \"\\uc0b4\\uc9dd\", \"\\uc0c1\\ub2f9\", \"\\uc0c1\\uc601\", \"\\uc0c1\\uc6b0\", \"\\uc0c1\\ucc98\", \"\\uc0c8\\ub86d\", \"\\uc0c8\\ub86d\", \"\\uc0c8\\ub86d\", \"\\uc0c9\\ub2e4\\ub974\", \"\\uc0dd\\uac01\", \"\\uc0dd\\uac01\", \"\\uc0dd\\uac01\", \"\\uc0dd\\uac01\", \"\\uc0dd\\uac01\", \"\\uc0dd\\uac01\", \"\\uc0dd\\uac01\", \"\\uc0dd\\uac01\", \"\\uc0dd\\uac01\", \"\\uc0dd\\uac01\", \"\\uc0dd\\uc560\", \"\\uc0dd\\ud65c\", \"\\uc11c\\ub85c\", \"\\uc11c\\ub85c\", \"\\uc11c\\ub85c\", \"\\uc120\\ubb3c\", \"\\uc124\\ub808\\uc774\", \"\\uc124\\uba85\", \"\\uc138\\uc0c1\", \"\\uc138\\uc0c1\", \"\\uc138\\uc0c1\", \"\\uc138\\uc0c1\", \"\\uc138\\uc0c1\", \"\\uc138\\uc0c1\", \"\\uc138\\uc0c1\", \"\\uc138\\uc0c1\", \"\\uc138\\uc694\", \"\\uc138\\uc694\", \"\\uc138\\uc694\", \"\\uc138\\uc694\", \"\\uc138\\uc694\", \"\\uc138\\uc694\", \"\\uc138\\uc694\", \"\\uc139\\uc2a4\", \"\\uc18c\\ub144\", \"\\uc18c\\ub984\", \"\\uc18c\\ub984\", \"\\uc18c\\ub984\", \"\\uc18c\\ub984\", \"\\uc18c\\ub984\", \"\\uc18c\\ub984\", \"\\uc18c\\ub984\", \"\\uc18c\\ub984\", \"\\uc18c\\uc124\", \"\\uc18c\\uc124\", \"\\uc18c\\uc18c\", \"\\uc18c\\ud1b5\", \"\\uc218\\ub9ce\", \"\\uc218\\uc791\", \"\\uc218\\uc791\", \"\\uc218\\uc791\", \"\\uc218\\uc791\", \"\\uc218\\uc791\", \"\\uc21c\\uc218\", \"\\uc21c\\uc218\", \"\\uc21c\\uc218\", \"\\uc2a4\\ub7fd\", \"\\uc2a4\\ub7fd\", \"\\uc2a4\\ub7fd\", \"\\uc2a4\\ub7fd\", \"\\uc2a4\\ub7fd\", \"\\uc2a4\\ub7fd\", \"\\uc2a4\\ub7fd\", \"\\uc2a4\\ub7fd\", \"\\uc2a4\\ub7fd\", \"\\uc2a4\\ud06c\\ub9b0\", \"\\uc2a4\\ud0c0\\uc77c\", \"\\uc2a4\\ud0c0\\uc77c\", \"\\uc2a4\\ud15d\", \"\\uc2a4\\ud1a0\\ub9ac\", \"\\uc2a4\\ud1a0\\ub9ac\", \"\\uc2a4\\ud1a0\\ub9ac\", \"\\uc2a4\\ud1a0\\ub9ac\", \"\\uc2a4\\ud1a0\\ub9ac\", \"\\uc2a4\\ud1a0\\ub9ac\", \"\\uc2a4\\ud1a0\\ub9ac\", \"\\uc2a4\\ud1a0\\ub9ac\", \"\\uc2a4\\ud1a0\\ub9ac\", \"\\uc2a4\\ud1a0\\ub9ac\", \"\\uc2a4\\ud53c\", \"\\uc2ac\\ud504\", \"\\uc2ac\\ud504\", \"\\uc2ac\\ud504\", \"\\uc2ac\\ud504\", \"\\uc2ac\\ud504\", \"\\uc2ac\\ud504\", \"\\uc2ac\\ud504\", \"\\uc2ac\\ud504\", \"\\uc2ac\\ud504\", \"\\uc2ac\\ud514\", \"\\uc2ac\\ud514\", \"\\uc2b5\\ub2c8\\ub2e4\", \"\\uc2b5\\ub2c8\\ub2e4\", \"\\uc2b5\\ub2c8\\ub2e4\", \"\\uc2b5\\ub2c8\\ub2e4\", \"\\uc2b5\\ub2c8\\ub2e4\", \"\\uc2b5\\ub2c8\\ub2e4\", \"\\uc2b5\\ub2c8\\ub2e4\", \"\\uc2b5\\ub2c8\\ub2e4\", \"\\uc2b5\\ub2c8\\ub2e4\", \"\\uc2b5\\ub2c8\\ub2e4\", \"\\uc2dc\\uac04\", \"\\uc2dc\\uac04\", \"\\uc2dc\\uac04\", \"\\uc2dc\\uac04\", \"\\uc2dc\\uac04\", \"\\uc2dc\\uac04\", \"\\uc2dc\\uac04\", \"\\uc2dc\\uac04\", \"\\uc2dc\\uac04\", \"\\uc2dc\\ub300\", \"\\uc2dc\\ub300\", \"\\uc2dc\\ub300\", \"\\uc2dc\\ub300\", \"\\uc2dc\\ub300\", \"\\uc2dc\\ub9ac\", \"\\uc2dc\\ub9ac\", \"\\uc2dc\\ub9ac\\uc988\", \"\\uc2dc\\ub9ac\\uc988\", \"\\uc2dc\\ub9ac\\uc988\", \"\\uc2dc\\ub9ac\\uc988\", \"\\uc2dc\\ub9ac\\uc988\", \"\\uc2dc\\ub9ac\\uc988\", \"\\uc2dc\\uc120\", \"\\uc2dc\\uc791\\ud558\", \"\\uc2dc\\uc808\", \"\\uc2dc\\uc808\", \"\\uc2dc\\uc808\", \"\\uc2dc\\uc808\", \"\\uc2dc\\uc808\", \"\\uc2dc\\uc808\", \"\\uc2dc\\uc808\", \"\\uc2dc\\uc98c\", \"\\uc2dc\\uc98c\", \"\\uc2dc\\uccad\", \"\\uc2dc\\uccad\\ub960\", \"\\uc2dc\\ud5d8\", \"\\uc2e0\\ube44\", \"\\uc2e0\\uc120\", \"\\uc2e0\\uc120\", \"\\uc2e0\\uc120\", \"\\uc2e0\\uc120\", \"\\uc2e0\\uc758\", \"\\uc2e0\\uc774\", \"\\uc2e4\\ub9dd\", \"\\uc2e4\\uc801\", \"\\uc2e4\\uc801\", \"\\uc2e4\\uc801\", \"\\uc2e4\\uc801\", \"\\uc2eb\\uc5b4\\ud558\", \"\\uc2ec\\ub9ac\", \"\\uc2ec\\uc7a5\", \"\\uc2ec\\uc7a5\", \"\\uc2ec\\ud558\", \"\\uc2f8\\uc6b0\", \"\\uc2f8\\uc6c0\", \"\\uc544\\ub2c8\", \"\\uc544\\ub2c8\", \"\\uc544\\ub2c8\", \"\\uc544\\ub2c8\", \"\\uc544\\ub2c8\", \"\\uc544\\ub2c8\", \"\\uc544\\ub2c8\", \"\\uc544\\ub2c8\", \"\\uc544\\ub2c8\", \"\\uc544\\ub3c4\", \"\\uc544\\ub3c4\", \"\\uc544\\ub3c4\", \"\\uc544\\ub3c4\", \"\\uc544\\ub3c4\", \"\\uc544\\ub3c4\", \"\\uc544\\ub3c4\", \"\\uc544\\ub3c4\", \"\\uc544\\ub3c4\", \"\\uc544\\ub3c4\", \"\\uc544\\ub4e4\", \"\\uc544\\ub4e4\", \"\\uc544\\ub4e4\", \"\\uc544\\ub984\", \"\\uc544\\ub984\", \"\\uc544\\ub984\\ub2f5\", \"\\uc544\\ub984\\ub2f5\", \"\\uc544\\ub984\\ub2f5\", \"\\uc544\\ub984\\ub2f5\", \"\\uc544\\ub984\\ub2f5\", \"\\uc544\\ub984\\ub2f5\", \"\\uc544\\ub984\\ub2f5\", \"\\uc544\\ub984\\ub2f5\", \"\\uc544\\ub984\\ub2f5\", \"\\uc544\\ub984\\ub2f5\", \"\\uc544\\ubc14\", \"\\uc544\\ube60\", \"\\uc544\\ube60\", \"\\uc544\\ube60\", \"\\uc544\\uc11c\", \"\\uc544\\uc11c\", \"\\uc544\\uc11c\", \"\\uc544\\uc11c\", \"\\uc544\\uc11c\", \"\\uc544\\uc11c\", \"\\uc544\\uc11c\", \"\\uc544\\uc11c\", \"\\uc544\\uc11c\", \"\\uc544\\uc11c\", \"\\uc544\\uc26c\\uc6c0\", \"\\uc544\\uc26c\\uc6c0\", \"\\uc544\\uc27d\", \"\\uc544\\uc27d\", \"\\uc544\\uc27d\", \"\\uc544\\uc27d\", \"\\uc544\\uc27d\", \"\\uc544\\uc27d\", \"\\uc544\\uc27d\", \"\\uc544\\uc27d\", \"\\uc544\\uc57c\", \"\\uc544\\uc57c\", \"\\uc544\\uc57c\", \"\\uc544\\uc57c\", \"\\uc544\\uc57c\", \"\\uc544\\uc57c\", \"\\uc544\\uc57c\", \"\\uc544\\uc5ed\", \"\\uc544\\uc694\", \"\\uc544\\uc694\", \"\\uc544\\uc694\", \"\\uc544\\uc694\", \"\\uc544\\uc694\", \"\\uc544\\uc694\", \"\\uc544\\uc694\", \"\\uc544\\uc694\", \"\\uc544\\uc694\", \"\\uc544\\uc774\", \"\\uc544\\uc774\", \"\\uc544\\uc774\", \"\\uc544\\uc774\", \"\\uc544\\uc774\", \"\\uc544\\uc8fc\", \"\\uc544\\uc8fc\", \"\\uc544\\uc8fc\", \"\\uc544\\uc8fc\", \"\\uc544\\uc8fc\", \"\\uc544\\uc8fc\", \"\\uc544\\uc8fc\", \"\\uc544\\uc9c1\", \"\\uc544\\uc9c1\", \"\\uc544\\uc9c1\", \"\\uc544\\uc9c1\", \"\\uc544\\uc9c1\", \"\\uc544\\uc9c1\", \"\\uc544\\uc9c1\", \"\\uc544\\ud504\", \"\\uc544\\ud504\", \"\\uc544\\ud504\", \"\\uc544\\ud504\", \"\\uc544\\ud504\", \"\\uc544\\ud504\", \"\\uc544\\ud504\", \"\\uc545\\ub2f9\", \"\\uc54c\\ub824\\uc8fc\", \"\\uc54c\\ubc14\", \"\\uc555\\ub3c4\", \"\\uc55e\\uc11c\", \"\\uc561\\uc158\", \"\\uc561\\uc158\", \"\\uc561\\uc158\", \"\\uc561\\uc158\", \"\\uc561\\uc158\", \"\\uc561\\uc158\", \"\\uc561\\uc158\", \"\\uc561\\uc158\", \"\\uc561\\uc158\", \"\\uc5b4\\ub3c4\", \"\\uc5b4\\ub3c4\", \"\\uc5b4\\ub3c4\", \"\\uc5b4\\ub3c4\", \"\\uc5b4\\ub3c4\", \"\\uc5b4\\ub3c4\", \"\\uc5b4\\ub3c4\", \"\\uc5b4\\ub3c4\", \"\\uc5b4\\ub461\", \"\\uc5b4\\ub978\", \"\\uc5b4\\ub978\", \"\\uc5b4\\ub978\", \"\\uc5b4\\ub9ac\", \"\\uc5b4\\ub9ac\", \"\\uc5b4\\ub9ac\", \"\\uc5b4\\ub9ac\", \"\\uc5b4\\ub9ac\", \"\\uc5b4\\ub9ac\", \"\\uc5b4\\uc11c\", \"\\uc5b4\\uc11c\", \"\\uc5b4\\uc11c\", \"\\uc5b4\\uc11c\", \"\\uc5b4\\uc11c\", \"\\uc5b4\\uc11c\", \"\\uc5b4\\uc11c\", \"\\uc5b4\\uc11c\", \"\\uc5b4\\uc11c\", \"\\uc5b4\\uc11c\", \"\\uc5b4\\uc57c\\uc9c0\", \"\\uc5b4\\uc694\", \"\\uc5b4\\uc694\", \"\\uc5b4\\uc694\", \"\\uc5b4\\uc694\", \"\\uc5b4\\uc694\", \"\\uc5b4\\uc694\", \"\\uc5b4\\uc694\", \"\\uc5b4\\uc694\", \"\\uc5b4\\uc694\", \"\\uc5b4\\uc694\", \"\\uc5b4\\uc6b0\\ub7ec\\uc9c0\", \"\\uc5b4\\uca4c\", \"\\uc5b4\\uca4c\", \"\\uc5b4\\uca4c\", \"\\uc5b8\\uc81c\", \"\\uc5b8\\uc81c\", \"\\uc5c4\\ub9c8\", \"\\uc5c4\\ub9c8\", \"\\uc5c4\\ub9c8\", \"\\uc5c4\\ub9c8\", \"\\uc5c4\\ub9c8\", \"\\uc5c4\\ub9c8\", \"\\uc5c4\\ub9c8\", \"\\uc5c4\\uccad\", \"\\uc5c4\\uccad\", \"\\uc5c4\\uccad\", \"\\uc5c4\\uccad\", \"\\uc5c4\\uccad\", \"\\uc5c4\\uccad\\ub098\", \"\\uc5c4\\uccad\\ub098\", \"\\uc5c4\\uccad\\ub098\", \"\\uc5d0\\uc11c\", \"\\uc5d0\\uc11c\", \"\\uc5d0\\uc11c\", \"\\uc5d0\\uc11c\", \"\\uc5d0\\uc11c\", \"\\uc5d0\\uc11c\", \"\\uc5d0\\uc11c\", \"\\uc5d0\\uc11c\", \"\\uc5d0\\uc11c\", \"\\uc5d0\\uc11c\", \"\\uc5d0\\uc694\", \"\\uc5d0\\uc694\", \"\\uc5d0\\uc694\", \"\\uc5d0\\uc694\", \"\\uc5d0\\uc694\", \"\\uc5d1\\uc2a4\", \"\\uc5ec\\ub3c4\", \"\\uc5ec\\ub3c4\", \"\\uc5ec\\ub3c4\", \"\\uc5ec\\ub3c4\", \"\\uc5ec\\ubc30\\uc6b0\", \"\\uc5ec\\ubc30\\uc6b0\", \"\\uc5ec\\ubc30\\uc6b0\", \"\\uc5ec\\ubc30\\uc6b0\", \"\\uc5ec\\uc131\", \"\\uc5ec\\uc131\", \"\\uc5ec\\uc6b4\", \"\\uc5ec\\uc6b4\", \"\\uc5ec\\uc6b4\", \"\\uc5ec\\uc6b4\", \"\\uc5ec\\uc6b4\", \"\\uc5ec\\uc790\", \"\\uc5ec\\uc790\", \"\\uc5ec\\uc790\", \"\\uc5ec\\uc790\", \"\\uc5ec\\uc790\", \"\\uc5ec\\uc790\", \"\\uc5ec\\uc804\\ud788\", \"\\uc5ed\\uc0ac\", \"\\uc5ed\\uc0ac\", \"\\uc5ed\\uc0ac\", \"\\uc5ed\\uc2dc\", \"\\uc5ed\\uc2dc\", \"\\uc5ed\\uc2dc\", \"\\uc5ed\\uc2dc\", \"\\uc5ed\\uc2dc\", \"\\uc5ed\\uc2dc\", \"\\uc5ed\\uc2dc\\ub098\", \"\\uc5ed\\ud560\", \"\\uc5ed\\ud560\", \"\\uc5ed\\ud560\", \"\\uc5f0\\uae30\", \"\\uc5f0\\uae30\", \"\\uc5f0\\uae30\", \"\\uc5f0\\uae30\", \"\\uc5f0\\uae30\", \"\\uc5f0\\uae30\", \"\\uc5f0\\uae30\", \"\\uc5f0\\uae30\", \"\\uc5f0\\uae30\", \"\\uc5f0\\uae30\\ub825\", \"\\uc5f0\\uae30\\ub825\", \"\\uc5f0\\uae30\\ub825\", \"\\uc5f0\\uae30\\ub825\", \"\\uc5f0\\uae30\\ub825\", \"\\uc5f0\\uae30\\ub825\", \"\\uc5f0\\uae30\\ub825\", \"\\uc5f0\\uae30\\ub825\", \"\\uc5f0\\uc560\", \"\\uc5f4\\uc2ec\\ud788\", \"\\uc5f4\\uc815\", \"\\uc601\\ud654\", \"\\uc601\\ud654\", \"\\uc601\\ud654\", \"\\uc601\\ud654\", \"\\uc601\\ud654\", \"\\uc601\\ud654\", \"\\uc601\\ud654\", \"\\uc601\\ud654\", \"\\uc601\\ud654\", \"\\uc601\\ud654\", \"\\uc608\\uc058\", \"\\uc608\\uc058\", \"\\uc608\\uc058\", \"\\uc608\\uc058\", \"\\uc608\\uc220\\uac00\", \"\\uc624\\ub798\", \"\\uc624\\ub798\", \"\\uc624\\ub798\\ub418\", \"\\uc624\\ub798\\uc624\\ub798\", \"\\uc624\\ub798\\uc804\", \"\\uc624\\ub798\\uc804\", \"\\uc624\\ub79c\\ub9cc\", \"\\uc624\\ub79c\\ub9cc\", \"\\uc624\\ub79c\\ub9cc\", \"\\uc624\\ub79c\\ub9cc\", \"\\uc624\\ube0c\", \"\\uc624\\ube60\", \"\\uc624\\ube60\", \"\\uc62c\\ub77c\\uac00\", \"\\uc62c\\ub9ac\", \"\\uc62c\\ub9ac\", \"\\uc62c\\ub9ac\", \"\\uc62c\\ud574\", \"\\uc62c\\ud574\", \"\\uc62c\\ud574\", \"\\uc644\\uc804\", \"\\uc644\\uc804\", \"\\uc644\\uc804\", \"\\uc644\\uc804\", \"\\uc644\\uc804\", \"\\uc644\\uc804\", \"\\uc644\\uc804\", \"\\uc644\\uc804\", \"\\uc644\\uc804\", \"\\uc644\\uc804\", \"\\uc678\\uacc4\\uc778\", \"\\uc678\\uad6d\", \"\\uc678\\ub85c\\uc6c0\", \"\\uc678\\ub86d\", \"\\uc678\\ubaa8\", \"\\uc694\\uc18c\", \"\\uc695\\ud558\", \"\\uc6a9\\uc11c\", \"\\uc6b0\\ub4dc\", \"\\uc6b0\\ub4dc\", \"\\uc6b0\\uc8fc\", \"\\uc6b4\\uba85\", \"\\uc6b8\\ucee5\", \"\\uc6c0\\uc9c1\\uc774\", \"\\uc6c3\\uae30\", \"\\uc6c3\\uae30\", \"\\uc6c3\\uae30\", \"\\uc6c3\\uae30\", \"\\uc6c3\\uae30\", \"\\uc6c3\\uae30\", \"\\uc6c3\\uae30\", \"\\uc6c3\\uae30\", \"\\uc6cc\\uc2f1\\ud134\", \"\\uc6d0\\ub798\", \"\\uc6d0\\uc791\", \"\\uc6d0\\uc791\", \"\\uc6d0\\uc791\", \"\\uc6d0\\uc791\", \"\\uc6e8\\uc774\", \"\\uc704\\ud558\", \"\\uc704\\ud558\", \"\\uc704\\ud558\", \"\\uc704\\ud558\", \"\\uc704\\ud558\", \"\\uc704\\ud558\", \"\\uc704\\ud5d8\", \"\\uc70c\\ub9ac\\uc2a4\", \"\\uc720\\uba38\", \"\\uc720\\uba38\", \"\\uc720\\ucf8c\", \"\\uc720\\ucf8c\", \"\\uc720\\ucf8c\", \"\\uc720\\ucf8c\", \"\\uc73c\\ub85c\", \"\\uc73c\\ub85c\", \"\\uc73c\\ub85c\", \"\\uc73c\\ub85c\", \"\\uc73c\\ub85c\", \"\\uc73c\\ub85c\", \"\\uc73c\\ub85c\", \"\\uc73c\\ub85c\", \"\\uc73c\\ub85c\", \"\\uc73c\\ub85c\", \"\\uc73c\\ub85c\\uc368\", \"\\uc73c\\uba70\", \"\\uc73c\\uba74\", \"\\uc73c\\uba74\", \"\\uc73c\\uba74\", \"\\uc73c\\uba74\", \"\\uc73c\\uba74\", \"\\uc73c\\uba74\", \"\\uc73c\\uba74\", \"\\uc73c\\uba74\", \"\\uc73c\\uba74\", \"\\uc740\\ub370\", \"\\uc740\\ub370\", \"\\uc740\\ub370\", \"\\uc740\\ub370\", \"\\uc740\\ub370\", \"\\uc740\\ub370\", \"\\uc740\\ub370\", \"\\uc744\\uae4c\", \"\\uc744\\uae4c\", \"\\uc744\\uae4c\", \"\\uc744\\uae4c\", \"\\uc744\\uae4c\", \"\\uc74c\\uc2dd\", \"\\uc758\\uc678\", \"\\uc774\\uac70\", \"\\uc774\\uac70\", \"\\uc774\\uac70\", \"\\uc774\\uac70\", \"\\uc774\\uac70\", \"\\uc774\\uac70\", \"\\uc774\\uac70\", \"\\uc774\\uac70\", \"\\uc774\\uac74\", \"\\uc774\\uac83\", \"\\uc774\\uac83\", \"\\uc774\\uac83\", \"\\uc774\\uac83\", \"\\uc774\\uac83\", \"\\uc774\\uac83\", \"\\uc774\\uac83\", \"\\uc774\\uac83\", \"\\uc774\\uac83\", \"\\uc774\\ub4dc\", \"\\uc774\\ub4dc\", \"\\uc774\\ub4dc\", \"\\uc774\\ub54c\", \"\\uc774\\ub54c\", \"\\uc774\\ub7f0\", \"\\uc774\\ub7f0\", \"\\uc774\\ub7f0\", \"\\uc774\\ub7f0\", \"\\uc774\\ub7f0\", \"\\uc774\\ub7f0\", \"\\uc774\\ub7f0\", \"\\uc774\\ub7f0\", \"\\uc774\\ub7f0\", \"\\uc774\\ub807\", \"\\uc774\\ub807\", \"\\uc774\\ub807\", \"\\uc774\\ub807\", \"\\uc774\\ub807\", \"\\uc774\\ub807\", \"\\uc774\\ub807\", \"\\uc774\\ub807\\uac8c\", \"\\uc774\\ub807\\uac8c\", \"\\uc774\\ub807\\uac8c\", \"\\uc774\\ub8e8\", \"\\uc774\\ub8e8\", \"\\uc774\\ub8e8\", \"\\uc774\\ub8e8\\uc5b4\\uc9c0\", \"\\uc774\\ubbf8\", \"\\uc774\\ubbfc\", \"\\uc774\\uc058\", \"\\uc774\\uc058\", \"\\uc774\\uc058\", \"\\uc774\\uc058\", \"\\uc774\\uc058\", \"\\uc774\\uc058\", \"\\uc774\\uc058\", \"\\uc774\\uc0c1\", \"\\uc774\\uc0c1\", \"\\uc774\\uc0c1\", \"\\uc774\\uc0c1\", \"\\uc774\\uc0c1\", \"\\uc774\\uc0c1\", \"\\uc774\\uc0c1\", \"\\uc774\\uc0c1\", \"\\uc774\\uc0c1\", \"\\uc774\\uc57c\\uae30\", \"\\uc774\\uc57c\\uae30\", \"\\uc774\\uc57c\\uae30\", \"\\uc774\\uc57c\\uae30\", \"\\uc774\\uc57c\\uae30\", \"\\uc774\\uc57c\\uae30\", \"\\uc774\\uc5f0\", \"\\uc774\\uc5f0\", \"\\uc774\\uc6a9\", \"\\uc774\\uc720\", \"\\uc774\\uc720\", \"\\uc774\\uc720\", \"\\uc774\\uc815\", \"\\uc774\\uc81c\\uc57c\", \"\\uc774\\ud1a0\\ub85d\", \"\\uc774\\ud574\", \"\\uc774\\ud574\", \"\\uc774\\ud574\", \"\\uc774\\ud574\", \"\\uc774\\ud574\", \"\\uc774\\ud574\", \"\\uc774\\ud574\", \"\\uc774\\ud574\", \"\\uc774\\ud574\", \"\\uc774\\ud574\", \"\\uc778\\uac04\", \"\\uc778\\uac04\", \"\\uc778\\uac04\", \"\\uc778\\uac04\", \"\\uc778\\uac04\", \"\\uc778\\uac04\", \"\\uc778\\uac04\", \"\\uc778\\ub3c4\", \"\\uc778\\uc0c1\", \"\\uc778\\uc0dd\", \"\\uc778\\uc0dd\", \"\\uc778\\uc0dd\", \"\\uc778\\uc0dd\", \"\\uc778\\uc0dd\", \"\\uc778\\uc0dd\", \"\\uc778\\uc0dd\", \"\\uc778\\ud53c\", \"\\uc77c\\ubcf8\", \"\\uc77c\\ubcf8\", \"\\uc77c\\ubcf8\", \"\\uc77c\\ubcf8\", \"\\uc785\\ub3c4\", \"\\uc790\\uaca9\", \"\\uc790\\uae30\", \"\\uc790\\uae30\", \"\\uc790\\uae30\", \"\\uc790\\uc2e0\", \"\\uc790\\uc2e0\", \"\\uc790\\uc2e0\", \"\\uc790\\uc2e0\", \"\\uc790\\uc2e0\", \"\\uc790\\uc2e0\", \"\\uc790\\uc2e0\", \"\\uc790\\uc2e0\", \"\\uc791\\uc804\", \"\\uc791\\ud488\", \"\\uc791\\ud488\", \"\\uc791\\ud488\", \"\\uc791\\ud488\", \"\\uc791\\ud488\", \"\\uc791\\ud488\", \"\\uc791\\ud488\", \"\\uc791\\ud488\", \"\\uc791\\ud488\", \"\\uc794\\uc794\", \"\\uc794\\uc794\", \"\\uc794\\uc794\", \"\\uc794\\uc794\", \"\\uc794\\uc794\", \"\\uc794\\uc794\", \"\\uc794\\uc794\", \"\\uc798\\uc0dd\\uae30\", \"\\uc7a5\\uba74\", \"\\uc7a5\\uba74\", \"\\uc7a5\\uba74\", \"\\uc7a5\\uba74\", \"\\uc7a5\\uba74\", \"\\uc7a5\\uba74\", \"\\uc7a5\\uba74\", \"\\uc7a5\\uba74\", \"\\uc7a5\\uc560\\uc778\", \"\\uc7ac\\ubbf8\", \"\\uc7ac\\ubbf8\", \"\\uc7ac\\ubbf8\", \"\\uc7ac\\ubbf8\", \"\\uc7ac\\ubbf8\", \"\\uc7ac\\ubbf8\", \"\\uc7ac\\ubbf8\", \"\\uc7ac\\ubbf8\", \"\\uc7ac\\ubbf8\", \"\\uc7ac\\ubbf8\", \"\\uc7ac\\ubbf8\\ub098\", \"\\uc7ac\\ubbf8\\uc788\", \"\\uc7ac\\ubbf8\\uc788\", \"\\uc7ac\\ubbf8\\uc788\", \"\\uc7ac\\ubbf8\\uc788\", \"\\uc7ac\\ubbf8\\uc788\", \"\\uc7ac\\ubbf8\\uc788\", \"\\uc7ac\\ubbf8\\uc788\", \"\\uc7ac\\ubbf8\\uc788\", \"\\uc7ac\\ubbf8\\uc788\", \"\\uc7ac\\ubbf8\\uc788\", \"\\uc7ac\\ubc0c\", \"\\uc7ac\\ubc0c\", \"\\uc7ac\\ubc0c\", \"\\uc7ac\\ubc0c\", \"\\uc7ac\\ubc0c\", \"\\uc7ac\\ubc0c\", \"\\uc7ac\\ubc0c\", \"\\uc7ac\\ubc0c\", \"\\uc7ac\\ubc0c\", \"\\uc7ac\\ubc0c\", \"\\uc7ac\\ubc1c\\uacac\", \"\\uc7ac\\ubc29\\uc1a1\", \"\\uc800\\ub7ec\", \"\\uc800\\ub7ec\", \"\\uc800\\ub7ec\", \"\\uc800\\ub7f0\", \"\\uc804\\ubb38\\uac00\", \"\\uc804\\ubd80\", \"\\uc804\\uc124\", \"\\uc804\\ud615\\uc801\", \"\\uc810\\uc218\", \"\\uc810\\uc218\", \"\\uc815\\ub9d0\", \"\\uc815\\ub9d0\", \"\\uc815\\ub9d0\", \"\\uc815\\ub9d0\", \"\\uc815\\ub9d0\", \"\\uc815\\ub9d0\", \"\\uc815\\ub9d0\", \"\\uc815\\ub9d0\", \"\\uc815\\ub9d0\", \"\\uc815\\ub9d0\", \"\\uc815\\ub9d0\\ub85c\", \"\\uc81c\\ub300\", \"\\uc81c\\ub300\", \"\\uc81c\\ubc1c\", \"\\uc81c\\uc678\", \"\\uc81c\\uc791\\uc9c4\", \"\\uc870\\uae08\", \"\\uc870\\uae08\", \"\\uc870\\uae08\", \"\\uc870\\uae08\", \"\\uc870\\uc5f0\", \"\\uc870\\ud3ed\", \"\\uc874\\uacbd\", \"\\uc874\\uacbd\", \"\\uc874\\uacbd\", \"\\uc874\\ub098\", \"\\uc880\\ube44\", \"\\uc885\\uad50\", \"\\uc885\\uc601\", \"\\uc88b\\uc544\", \"\\uc88b\\uc544\\ud558\", \"\\uc88b\\uc544\\ud558\", \"\\uc88b\\uc544\\ud558\", \"\\uc88b\\uc544\\ud558\", \"\\uc88b\\uc544\\ud558\", \"\\uc88b\\uc544\\ud558\", \"\\uc88b\\uc544\\ud558\", \"\\uc88b\\uc544\\ud558\", \"\\uc8fc\\ub9d0\", \"\\uc8fc\\uc131\", \"\\uc8fc\\uc6d0\", \"\\uc8fc\\uc758\", \"\\uc8fc\\uc778\", \"\\uc8fc\\uc778\\uacf5\", \"\\uc8fc\\uc778\\uacf5\", \"\\uc8fc\\uc778\\uacf5\", \"\\uc8fc\\uc778\\uacf5\", \"\\uc8fc\\uc778\\uacf5\", \"\\uc8fc\\uc778\\uacf5\", \"\\uc8fc\\uc778\\uacf5\", \"\\uc911\\uac04\", \"\\uc911\\uac04\", \"\\uc911\\uac04\", \"\\uc911\\uac04\", \"\\uc911\\uac04\", \"\\uc911\\uac04\", \"\\uc911\\uac04\", \"\\uc911\\uad6d\", \"\\uc911\\uad6d\", \"\\uc911\\uad6d\", \"\\uc911\\uc694\", \"\\uc911\\uc694\", \"\\uc911\\uc694\", \"\\uc990\\uac81\", \"\\uc990\\uac81\", \"\\uc990\\uac81\", \"\\uc990\\uac81\", \"\\uc990\\uae30\", \"\\uc990\\uae30\", \"\\uc9c0\\uad6c\", \"\\uc9c0\\uae08\", \"\\uc9c0\\uae08\", \"\\uc9c0\\uae08\", \"\\uc9c0\\uae08\", \"\\uc9c0\\uae08\", \"\\uc9c0\\uae08\", \"\\uc9c0\\uae08\", \"\\uc9c0\\uae08\", \"\\uc9c0\\uae08\", \"\\uc9c0\\uae08\", \"\\uc9c0\\ub8e8\", \"\\uc9c0\\ub8e8\", \"\\uc9c0\\ub8e8\", \"\\uc9c0\\ub8e8\", \"\\uc9c0\\ub8e8\", \"\\uc9c0\\ub8e8\", \"\\uc9c0\\ub8e8\", \"\\uc9c0\\ub9ac\", \"\\uc9c0\\ub9cc\", \"\\uc9c0\\ub9cc\", \"\\uc9c0\\ub9cc\", \"\\uc9c0\\ub9cc\", \"\\uc9c0\\ub9cc\", \"\\uc9c0\\ub9cc\", \"\\uc9c0\\ub9cc\", \"\\uc9c0\\ub9cc\", \"\\uc9c0\\ub9cc\", \"\\uc9c0\\ub9cc\", \"\\uc9c0\\uc6b0\", \"\\uc9c0\\uc6d0\", \"\\uc9c1\\uc811\", \"\\uc9c1\\uc811\", \"\\uc9c4\\ubd80\", \"\\uc9c4\\uc2e4\", \"\\uc9c4\\uc2e4\", \"\\uc9c4\\uc2e4\", \"\\uc9c4\\uc601\", \"\\uc9c4\\uc9c0\", \"\\uc9c4\\uc9dc\", \"\\uc9c4\\uc9dc\", \"\\uc9c4\\uc9dc\", \"\\uc9c4\\uc9dc\", \"\\uc9c4\\uc9dc\", \"\\uc9c4\\uc9dc\", \"\\uc9c4\\uc9dc\", \"\\uc9c4\\uc9dc\", \"\\uc9c4\\uc9dc\", \"\\uc9c4\\uc9dc\\ub85c\", \"\\uc9c4\\ud558\", \"\\uc9dc\\ub9ac\", \"\\uc9dc\\ub9ac\", \"\\uc9dc\\ub9ac\", \"\\uc9dc\\uc784\\uc0c8\", \"\\uc9dc\\uc784\\uc0c8\", \"\\ucc28\\ub77c\\ub9ac\", \"\\ucc3e\\uc544\\ubcf4\", \"\\ucc3e\\uc544\\ubcf4\", \"\\ucc98\\uc74c\", \"\\ucc98\\uc74c\", \"\\ucc98\\uc74c\", \"\\ucc98\\uc74c\", \"\\ucc98\\uc74c\", \"\\ucc98\\uc74c\", \"\\ucc98\\uc74c\", \"\\ucc98\\uc74c\", \"\\ucc98\\uc74c\", \"\\ucc98\\uc808\", \"\\ucc9c\\uad6d\", \"\\ucc9c\\uc7ac\", \"\\ucc9c\\uc7ac\", \"\\ucc9c\\uc7ac\", \"\\ucc9c\\uc7ac\", \"\\ucd08\\ub4f1\\ud559\\uad50\", \"\\ucd5c\\uac15\", \"\\ucd5c\\uace0\", \"\\ucd5c\\uace0\", \"\\ucd5c\\uace0\", \"\\ucd5c\\uace0\", \"\\ucd5c\\uace0\", \"\\ucd5c\\uace0\", \"\\ucd5c\\uace0\", \"\\ucd5c\\uace0\", \"\\ucd5c\\uace0\", \"\\ucd5c\\uace0\", \"\\ucd5c\\uadfc\", \"\\ucd5c\\ucd08\", \"\\ucd94\\uc5b5\", \"\\ucd94\\uc5b5\", \"\\ucd94\\uc5b5\", \"\\ucd94\\uc5b5\", \"\\ucd94\\uc5b5\", \"\\ucd94\\uc5b5\", \"\\ucd94\\ucc9c\", \"\\ucd94\\ucc9c\", \"\\ucd94\\ucc9c\", \"\\ucd94\\ucc9c\", \"\\ucd94\\ucc9c\", \"\\ucd94\\ucc9c\", \"\\ucd94\\ucc9c\", \"\\ucd9c\\uc5f0\\uc9c4\", \"\\ucd9c\\uc5f0\\uc9c4\", \"\\ucda9\\uaca9\", \"\\ucda9\\uaca9\", \"\\ucda9\\uaca9\", \"\\ucda9\\ubd84\\ud788\", \"\\ucda9\\ubd84\\ud788\", \"\\ucda9\\ubd84\\ud788\", \"\\ucda9\\ubd84\\ud788\", \"\\ucde8\\ud5a5\", \"\\uce5c\\uad6c\", \"\\uce5c\\uad6c\", \"\\uce5c\\uad6c\", \"\\uce5c\\uad6c\", \"\\uce5c\\uad6c\", \"\\uce5c\\uad6c\", \"\\uce5c\\uad6c\", \"\\uce5c\\uad6c\", \"\\uce90\\ub9ac\", \"\\uce90\\ub9ad\\ud130\", \"\\uce90\\ub9ad\\ud130\", \"\\uce90\\ub9ad\\ud130\", \"\\uce90\\ub9ad\\ud130\", \"\\uce90\\ub9ad\\ud130\", \"\\uce90\\ub9ad\\ud130\", \"\\uce90\\uc2a4\\ud305\", \"\\ucee8\\uc149\", \"\\ucf54\\ubbf8\\ub514\", \"\\ucf54\\ubbf8\\ub514\", \"\\ucf54\\ubbf8\\ub514\", \"\\ucf54\\ubbf8\\ub514\", \"\\ucf54\\ubbf8\\ub514\", \"\\ucf54\\ubbf8\\ub514\", \"\\ucf54\\ubbf8\\ub514\", \"\\ucf54\\ubbf8\\ub514\", \"\\ud0c0\\uc784\", \"\\ud0c0\\uc784\", \"\\ud0c0\\uc784\", \"\\ud0c0\\uc784\", \"\\ud0c4\\uc0dd\", \"\\ud0c4\\ud0c4\", \"\\ud0c4\\ud0c4\", \"\\ud0c4\\ud0c4\", \"\\ud0c4\\ud0c4\", \"\\ud0dc\\uc5b4\\ub098\", \"\\ud0dc\\uc5b4\\ub098\", \"\\ud14c\\ub7ec\", \"\\ud22c\\ud45c\", \"\\ud2b9\\ubcc4\", \"\\ud2b9\\ubcc4\", \"\\ud328\\ub2dd\", \"\\ud391\\ud391\", \"\\ud3c9\\uac00\", \"\\ud3c9\\uac00\", \"\\ud3c9\\uac00\", \"\\ud3c9\\uac00\", \"\\ud3c9\\uc0dd\", \"\\ud3c9\\uc0dd\", \"\\ud3c9\\uc810\", \"\\ud3c9\\uc810\", \"\\ud3c9\\uc810\", \"\\ud3c9\\uc810\", \"\\ud3c9\\uc810\", \"\\ud3c9\\uc810\", \"\\ud3c9\\uc810\", \"\\ud3c9\\uc810\", \"\\ud3c9\\uc810\", \"\\ud3ec\\uc2a4\", \"\\ud45c\\uc815\", \"\\ud45c\\uc815\", \"\\ud45c\\uc815\", \"\\ud45c\\uc815\", \"\\ud45c\\uc815\", \"\\ud48d\\ubd80\", \"\\ud48d\\ubd80\", \"\\ud504\\ub791\\uc2a4\", \"\\ud504\\ub791\\uc2a4\", \"\\ud504\\ub791\\uc2a4\", \"\\ud504\\ub85c\\uadf8\\ub7a8\", \"\\ud53c\\uc544\\ub178\", \"\\ud544\\uc694\", \"\\ud544\\uc694\", \"\\ud544\\uc694\", \"\\ud544\\uc694\\uc5c6\", \"\\ud544\\uc694\\uc5c6\", \"\\ud544\\uc694\\uc5c6\", \"\\ud544\\uc694\\uc5c6\", \"\\ud544\\uc694\\uc5c6\", \"\\ud544\\uc694\\uc5c6\", \"\\ud558\\ub098\", \"\\ud558\\ub098\", \"\\ud558\\ub098\", \"\\ud558\\ub098\", \"\\ud558\\ub098\", \"\\ud558\\ub098\", \"\\ud558\\ub098\", \"\\ud558\\ub098\", \"\\ud558\\ub098\\ud558\\ub098\", \"\\ud558\\ub098\\ud558\\ub098\", \"\\ud558\\ub098\\ud558\\ub098\", \"\\ud558\\ub298\", \"\\ud558\\ub2e4\", \"\\ud558\\ub2e4\", \"\\ud558\\ub2e4\", \"\\ud558\\ub2e4\", \"\\ud558\\ub2e4\", \"\\ud558\\ub2e4\", \"\\ud558\\ud558\", \"\\ud559\\ub144\", \"\\ud55c\\uad6d\", \"\\ud55c\\uad6d\", \"\\ud55c\\uad6d\", \"\\ud55c\\uad6d\", \"\\ud55c\\uad6d\", \"\\ud55c\\uad6d\", \"\\ud55c\\uad6d\", \"\\ud55c\\uad6d\", \"\\ud55c\\uad6d\", \"\\ud55c\\ub370\", \"\\ud55c\\ub9c8\\ub514\", \"\\ud55c\\ub9c8\\ub514\", \"\\ud55c\\ub9c8\\ub514\", \"\\ud55c\\ub9c8\\ub514\", \"\\ud55c\\ubc88\", \"\\ud55c\\ubc88\", \"\\ud55c\\ubc88\", \"\\ud55c\\ubc88\", \"\\ud55c\\ubc88\", \"\\ud55c\\ubc88\", \"\\ud55c\\ubc88\", \"\\ud55c\\ubc88\", \"\\ud55c\\ubc88\", \"\\ud55c\\ubc88\", \"\\ud55c\\ud14c\", \"\\ud55c\\ud14c\", \"\\ud55c\\ud14c\", \"\\ud55c\\ud14c\", \"\\ud55c\\ud3b8\", \"\\ud55c\\ud3b8\", \"\\ud55c\\ud3b8\", \"\\ud560\\uba38\\ub2c8\", \"\\ud568\\uaed8\", \"\\ud568\\uaed8\", \"\\ud568\\uaed8\", \"\\ud568\\uaed8\", \"\\ud568\\uaed8\", \"\\ud568\\uaed8\", \"\\ud568\\uaed8\", \"\\ud574\\uc9c0\", \"\\ud574\\uc9c0\", \"\\ud574\\uc9c0\", \"\\ud574\\uc9c0\", \"\\ud574\\uc9c0\", \"\\ud574\\uc9c0\", \"\\ud574\\uc9c0\", \"\\ud574\\uc9c0\", \"\\ud589\\ub3d9\", \"\\ud5e4\\uc5b4\\uc9c0\", \"\\ud604\\ub300\", \"\\ud604\\uc2e4\", \"\\ud604\\uc2e4\", \"\\ud604\\uc2e4\", \"\\ud604\\uc2e4\", \"\\ud604\\uc2e4\", \"\\ud604\\uc2e4\", \"\\ud604\\uc2e4\", \"\\ud604\\uc2e4\", \"\\ud615\\ub2d8\", \"\\ud63c\\uc790\", \"\\ud63c\\uc790\", \"\\ud63c\\uc790\", \"\\ud63c\\uc790\", \"\\ud63c\\uc790\", \"\\ud654\\ub048\\ud558\", \"\\ud654\\uba74\", \"\\ud654\\uba74\", \"\\ud655\\uc2e4\\ud788\", \"\\ud658\\uc0c1\\uc801\", \"\\ud6c4\\ubc18\", \"\\ud6c4\\uc18d\", \"\\ud754\\ud558\", \"\\ud765\\ud589\", \"\\ud765\\ud589\", \"\\ud76c\\uc0dd\", \"\\ud790\\ub9c1\"]}, \"R\": 30, \"lambda.step\": 0.01, \"plot.opts\": {\"xlab\": \"PC1\", \"ylab\": \"PC2\"}, \"topic.order\": [5, 2, 3, 4, 9, 6, 8, 10, 1, 7]};\n",
              "\n",
              "function LDAvis_load_lib(url, callback){\n",
              "  var s = document.createElement('script');\n",
              "  s.src = url;\n",
              "  s.async = true;\n",
              "  s.onreadystatechange = s.onload = callback;\n",
              "  s.onerror = function(){console.warn(\"failed to load library \" + url);};\n",
              "  document.getElementsByTagName(\"head\")[0].appendChild(s);\n",
              "}\n",
              "\n",
              "if(typeof(LDAvis) !== \"undefined\"){\n",
              "   // already loaded: just create the visualization\n",
              "   !function(LDAvis){\n",
              "       new LDAvis(\"#\" + \"ldavis_el1121401753582481843121402438\", ldavis_el1121401753582481843121402438_data);\n",
              "   }(LDAvis);\n",
              "}else if(typeof define === \"function\" && define.amd){\n",
              "   // require.js is available: use it to load d3/LDAvis\n",
              "   require.config({paths: {d3: \"https://cdnjs.cloudflare.com/ajax/libs/d3/3.5.5/d3.min\"}});\n",
              "   require([\"d3\"], function(d3){\n",
              "      window.d3 = d3;\n",
              "      LDAvis_load_lib(\"https://cdn.rawgit.com/bmabey/pyLDAvis/files/ldavis.v1.0.0.js\", function(){\n",
              "        new LDAvis(\"#\" + \"ldavis_el1121401753582481843121402438\", ldavis_el1121401753582481843121402438_data);\n",
              "      });\n",
              "    });\n",
              "}else{\n",
              "    // require.js not available: dynamically load d3 & LDAvis\n",
              "    LDAvis_load_lib(\"https://cdnjs.cloudflare.com/ajax/libs/d3/3.5.5/d3.min.js\", function(){\n",
              "         LDAvis_load_lib(\"https://cdn.rawgit.com/bmabey/pyLDAvis/files/ldavis.v1.0.0.js\", function(){\n",
              "                 new LDAvis(\"#\" + \"ldavis_el1121401753582481843121402438\", ldavis_el1121401753582481843121402438_data);\n",
              "            })\n",
              "         });\n",
              "}\n",
              "</script>"
            ],
            "text/plain": [
              "<IPython.core.display.HTML object>"
            ]
          },
          "metadata": {
            "tags": []
          },
          "execution_count": 32
        }
      ]
    },
    {
      "cell_type": "code",
      "metadata": {
        "id": "62yZYke-sGvK",
        "outputId": "9daf1107-90df-4711-a30c-a77871ab0222",
        "colab": {
          "base_uri": "https://localhost:8080/",
          "height": 359
        }
      },
      "source": [
        "# 참고용) 문서의 주요 토픽 분석\n",
        "def format_topics_sentences(ldamodel=lda_model, corpus=corpus, texts=data):\n",
        "    # Init output\n",
        "    sent_topics_df = pd.DataFrame()\n",
        "\n",
        "    # Get main topic in each document\n",
        "    for i, row in enumerate(ldamodel[corpus]):\n",
        "        row = sorted(row, key=lambda x: (x[1]), reverse=True)\n",
        "        # Get the Dominant topic, Perc Contribution and Keywords for each document\n",
        "        for j, (topic_num, prop_topic) in enumerate(row):\n",
        "            if j == 0:  # => dominant topic\n",
        "                wp = ldamodel.show_topic(topic_num)\n",
        "                topic_keywords = \", \".join([word for word, prop in wp])\n",
        "                sent_topics_df = sent_topics_df.append(pd.Series([int(topic_num), round(prop_topic,4), topic_keywords]), ignore_index=True)\n",
        "            else:\n",
        "                break\n",
        "    sent_topics_df.columns = ['Dominant_Topic', 'Perc_Contribution', 'Topic_Keywords']\n",
        "\n",
        "    # Add original text to the end of the output\n",
        "    contents = pd.Series(texts)\n",
        "    sent_topics_df = pd.concat([sent_topics_df, contents], axis=1)\n",
        "    return(sent_topics_df)\n",
        "\n",
        "\n",
        "df_topic_sents_keywords = format_topics_sentences(ldamodel=lda_model, corpus=corpus, texts=doc['clean_doc'])\n",
        "\n",
        "# Format\n",
        "df_dominant_topic = df_topic_sents_keywords.reset_index()\n",
        "df_dominant_topic.columns = ['Document_No', 'Dominant_Topic', 'Topic_Perc_Contrib', 'Keywords', 'Text']\n",
        "\n",
        "# Show\n",
        "df_dominant_topic.head(10)"
      ],
      "execution_count": 34,
      "outputs": [
        {
          "output_type": "execute_result",
          "data": {
            "text/html": [
              "<div>\n",
              "<style scoped>\n",
              "    .dataframe tbody tr th:only-of-type {\n",
              "        vertical-align: middle;\n",
              "    }\n",
              "\n",
              "    .dataframe tbody tr th {\n",
              "        vertical-align: top;\n",
              "    }\n",
              "\n",
              "    .dataframe thead th {\n",
              "        text-align: right;\n",
              "    }\n",
              "</style>\n",
              "<table border=\"1\" class=\"dataframe\">\n",
              "  <thead>\n",
              "    <tr style=\"text-align: right;\">\n",
              "      <th></th>\n",
              "      <th>Document_No</th>\n",
              "      <th>Dominant_Topic</th>\n",
              "      <th>Topic_Perc_Contrib</th>\n",
              "      <th>Keywords</th>\n",
              "      <th>Text</th>\n",
              "    </tr>\n",
              "  </thead>\n",
              "  <tbody>\n",
              "    <tr>\n",
              "      <th>0</th>\n",
              "      <td>0</td>\n",
              "      <td>4.0</td>\n",
              "      <td>0.5362</td>\n",
              "      <td>재밌, 어요, 영화, 는데, 진짜, 너무, 지만, 연기, 어서, 스토리</td>\n",
              "      <td>[어리, 보고, 지금, 다시, 아도, 재밌, 어요]</td>\n",
              "    </tr>\n",
              "    <tr>\n",
              "      <th>1</th>\n",
              "      <td>1</td>\n",
              "      <td>7.0</td>\n",
              "      <td>0.8523</td>\n",
              "      <td>영화, 장면, 10, 지만, 지금, 평점, ㄴ다, ㄴ데, 마지막, 아야</td>\n",
              "      <td>[디자인, 배우, 학생, 으로, 외국, 디자이너, 일구, 전통, 통하, 발전, 문화...</td>\n",
              "    </tr>\n",
              "    <tr>\n",
              "      <th>2</th>\n",
              "      <td>2</td>\n",
              "      <td>4.0</td>\n",
              "      <td>0.7559</td>\n",
              "      <td>재밌, 어요, 영화, 는데, 진짜, 너무, 지만, 연기, 어서, 스토리</td>\n",
              "      <td>[폴리스, 스토리, 시리즈, 부터, 버리, ㄹ게, 하나, 최고]</td>\n",
              "    </tr>\n",
              "    <tr>\n",
              "      <th>3</th>\n",
              "      <td>3</td>\n",
              "      <td>4.0</td>\n",
              "      <td>0.9308</td>\n",
              "      <td>재밌, 어요, 영화, 는데, 진짜, 너무, 지만, 연기, 어서, 스토리</td>\n",
              "      <td>[연기, 진짜, 지루, 라고, 생각, 는데, 몰입, 어서, 그리하, 이렇, 진짜, 영화]</td>\n",
              "    </tr>\n",
              "    <tr>\n",
              "      <th>4</th>\n",
              "      <td>4</td>\n",
              "      <td>2.0</td>\n",
              "      <td>0.8500</td>\n",
              "      <td>영화, 네요, 정말, ㅂ니다, 습니다, 에서, 는데, 좋아하, 평점, 괜찮</td>\n",
              "      <td>[안개, 자욱, 밤하늘, 초승달, 영화]</td>\n",
              "    </tr>\n",
              "    <tr>\n",
              "      <th>5</th>\n",
              "      <td>5</td>\n",
              "      <td>5.0</td>\n",
              "      <td>0.5971</td>\n",
              "      <td>영화, 사랑, 아니, 지만, 배우, 감독, 까지, 가슴, 어서, 사람</td>\n",
              "      <td>[사랑, 해보, 사람, 라면, 처음, 부터, 까지, 영화]</td>\n",
              "    </tr>\n",
              "    <tr>\n",
              "      <th>6</th>\n",
              "      <td>6</td>\n",
              "      <td>6.0</td>\n",
              "      <td>0.5118</td>\n",
              "      <td>재미있, 어요, 영화, 완전, 너무, 다시, 아도, 기억, 네요, 대박</td>\n",
              "      <td>[완전, 감동, ㅂ니다, 다시, 아도, 감동]</td>\n",
              "    </tr>\n",
              "    <tr>\n",
              "      <th>7</th>\n",
              "      <td>7</td>\n",
              "      <td>0.0</td>\n",
              "      <td>0.8500</td>\n",
              "      <td>영화, 으로, 재밌, 에서, 연기, 주인공, 작품, 남자, 보다, 멋지</td>\n",
              "      <td>[전쟁, 나오, 나요, 나오, 빠로]</td>\n",
              "    </tr>\n",
              "    <tr>\n",
              "      <th>8</th>\n",
              "      <td>8</td>\n",
              "      <td>0.0</td>\n",
              "      <td>0.1000</td>\n",
              "      <td>영화, 으로, 재밌, 에서, 연기, 주인공, 작품, 남자, 보다, 멋지</td>\n",
              "      <td>[]</td>\n",
              "    </tr>\n",
              "    <tr>\n",
              "      <th>9</th>\n",
              "      <td>9</td>\n",
              "      <td>0.0</td>\n",
              "      <td>0.7000</td>\n",
              "      <td>영화, 으로, 재밌, 에서, 연기, 주인공, 작품, 남자, 보다, 멋지</td>\n",
              "      <td>[바보, 아니]</td>\n",
              "    </tr>\n",
              "  </tbody>\n",
              "</table>\n",
              "</div>"
            ],
            "text/plain": [
              "   Document_No  ...                                               Text\n",
              "0            0  ...                       [어리, 보고, 지금, 다시, 아도, 재밌, 어요]\n",
              "1            1  ...  [디자인, 배우, 학생, 으로, 외국, 디자이너, 일구, 전통, 통하, 발전, 문화...\n",
              "2            2  ...                [폴리스, 스토리, 시리즈, 부터, 버리, ㄹ게, 하나, 최고]\n",
              "3            3  ...  [연기, 진짜, 지루, 라고, 생각, 는데, 몰입, 어서, 그리하, 이렇, 진짜, 영화]\n",
              "4            4  ...                             [안개, 자욱, 밤하늘, 초승달, 영화]\n",
              "5            5  ...                   [사랑, 해보, 사람, 라면, 처음, 부터, 까지, 영화]\n",
              "6            6  ...                          [완전, 감동, ㅂ니다, 다시, 아도, 감동]\n",
              "7            7  ...                               [전쟁, 나오, 나요, 나오, 빠로]\n",
              "8            8  ...                                                 []\n",
              "9            9  ...                                           [바보, 아니]\n",
              "\n",
              "[10 rows x 5 columns]"
            ]
          },
          "metadata": {
            "tags": []
          },
          "execution_count": 34
        }
      ]
    },
    {
      "cell_type": "code",
      "metadata": {
        "scrolled": true,
        "id": "yD3PV10GsGvM",
        "outputId": "9304e3a5-243f-4ae4-801c-321e4c3de6e5",
        "colab": {
          "base_uri": "https://localhost:8080/",
          "height": 419
        }
      },
      "source": [
        "df_dominant_topic.head(1000)"
      ],
      "execution_count": 35,
      "outputs": [
        {
          "output_type": "execute_result",
          "data": {
            "text/html": [
              "<div>\n",
              "<style scoped>\n",
              "    .dataframe tbody tr th:only-of-type {\n",
              "        vertical-align: middle;\n",
              "    }\n",
              "\n",
              "    .dataframe tbody tr th {\n",
              "        vertical-align: top;\n",
              "    }\n",
              "\n",
              "    .dataframe thead th {\n",
              "        text-align: right;\n",
              "    }\n",
              "</style>\n",
              "<table border=\"1\" class=\"dataframe\">\n",
              "  <thead>\n",
              "    <tr style=\"text-align: right;\">\n",
              "      <th></th>\n",
              "      <th>Document_No</th>\n",
              "      <th>Dominant_Topic</th>\n",
              "      <th>Topic_Perc_Contrib</th>\n",
              "      <th>Keywords</th>\n",
              "      <th>Text</th>\n",
              "    </tr>\n",
              "  </thead>\n",
              "  <tbody>\n",
              "    <tr>\n",
              "      <th>0</th>\n",
              "      <td>0</td>\n",
              "      <td>4.0</td>\n",
              "      <td>0.5362</td>\n",
              "      <td>재밌, 어요, 영화, 는데, 진짜, 너무, 지만, 연기, 어서, 스토리</td>\n",
              "      <td>[어리, 보고, 지금, 다시, 아도, 재밌, 어요]</td>\n",
              "    </tr>\n",
              "    <tr>\n",
              "      <th>1</th>\n",
              "      <td>1</td>\n",
              "      <td>7.0</td>\n",
              "      <td>0.8523</td>\n",
              "      <td>영화, 장면, 10, 지만, 지금, 평점, ㄴ다, ㄴ데, 마지막, 아야</td>\n",
              "      <td>[디자인, 배우, 학생, 으로, 외국, 디자이너, 일구, 전통, 통하, 발전, 문화...</td>\n",
              "    </tr>\n",
              "    <tr>\n",
              "      <th>2</th>\n",
              "      <td>2</td>\n",
              "      <td>4.0</td>\n",
              "      <td>0.7559</td>\n",
              "      <td>재밌, 어요, 영화, 는데, 진짜, 너무, 지만, 연기, 어서, 스토리</td>\n",
              "      <td>[폴리스, 스토리, 시리즈, 부터, 버리, ㄹ게, 하나, 최고]</td>\n",
              "    </tr>\n",
              "    <tr>\n",
              "      <th>3</th>\n",
              "      <td>3</td>\n",
              "      <td>4.0</td>\n",
              "      <td>0.9308</td>\n",
              "      <td>재밌, 어요, 영화, 는데, 진짜, 너무, 지만, 연기, 어서, 스토리</td>\n",
              "      <td>[연기, 진짜, 지루, 라고, 생각, 는데, 몰입, 어서, 그리하, 이렇, 진짜, 영화]</td>\n",
              "    </tr>\n",
              "    <tr>\n",
              "      <th>4</th>\n",
              "      <td>4</td>\n",
              "      <td>2.0</td>\n",
              "      <td>0.8500</td>\n",
              "      <td>영화, 네요, 정말, ㅂ니다, 습니다, 에서, 는데, 좋아하, 평점, 괜찮</td>\n",
              "      <td>[안개, 자욱, 밤하늘, 초승달, 영화]</td>\n",
              "    </tr>\n",
              "    <tr>\n",
              "      <th>...</th>\n",
              "      <td>...</td>\n",
              "      <td>...</td>\n",
              "      <td>...</td>\n",
              "      <td>...</td>\n",
              "      <td>...</td>\n",
              "    </tr>\n",
              "    <tr>\n",
              "      <th>995</th>\n",
              "      <td>995</td>\n",
              "      <td>0.0</td>\n",
              "      <td>0.8200</td>\n",
              "      <td>영화, 으로, 재밌, 에서, 연기, 주인공, 작품, 남자, 보다, 멋지</td>\n",
              "      <td>[준기, 연기, 돋보이, 재밌]</td>\n",
              "    </tr>\n",
              "    <tr>\n",
              "      <th>996</th>\n",
              "      <td>996</td>\n",
              "      <td>4.0</td>\n",
              "      <td>0.9250</td>\n",
              "      <td>재밌, 어요, 영화, 는데, 진짜, 너무, 지만, 연기, 어서, 스토리</td>\n",
              "      <td>[평점, 이리, 은지, 공감, 많이, 깨우치, 영화, 10, 그렇게, 어렵, ㄴ지]</td>\n",
              "    </tr>\n",
              "    <tr>\n",
              "      <th>997</th>\n",
              "      <td>997</td>\n",
              "      <td>6.0</td>\n",
              "      <td>0.4620</td>\n",
              "      <td>재미있, 어요, 영화, 완전, 너무, 다시, 아도, 기억, 네요, 대박</td>\n",
              "      <td>[다시, 아도, 최고]</td>\n",
              "    </tr>\n",
              "    <tr>\n",
              "      <th>998</th>\n",
              "      <td>998</td>\n",
              "      <td>1.0</td>\n",
              "      <td>0.3937</td>\n",
              "      <td>영화, ㄴ다, 생각, 최고, 너무, 평점, 지만, 한국, 으로, 아니</td>\n",
              "      <td>[진짜, 거치, 없이, 하이, 정말, 최고]</td>\n",
              "    </tr>\n",
              "    <tr>\n",
              "      <th>999</th>\n",
              "      <td>999</td>\n",
              "      <td>8.0</td>\n",
              "      <td>0.9000</td>\n",
              "      <td>최고, 영화, 드라마, ㅂ니다, 정말, 명작, ㄴ다, 감동적, 아니, 작품</td>\n",
              "      <td>[준용, 선생님, 대박, 에요, 정말, 대단, 요부, ㅂ니다]</td>\n",
              "    </tr>\n",
              "  </tbody>\n",
              "</table>\n",
              "<p>1000 rows × 5 columns</p>\n",
              "</div>"
            ],
            "text/plain": [
              "     Document_No  ...                                               Text\n",
              "0              0  ...                       [어리, 보고, 지금, 다시, 아도, 재밌, 어요]\n",
              "1              1  ...  [디자인, 배우, 학생, 으로, 외국, 디자이너, 일구, 전통, 통하, 발전, 문화...\n",
              "2              2  ...                [폴리스, 스토리, 시리즈, 부터, 버리, ㄹ게, 하나, 최고]\n",
              "3              3  ...  [연기, 진짜, 지루, 라고, 생각, 는데, 몰입, 어서, 그리하, 이렇, 진짜, 영화]\n",
              "4              4  ...                             [안개, 자욱, 밤하늘, 초승달, 영화]\n",
              "..           ...  ...                                                ...\n",
              "995          995  ...                                  [준기, 연기, 돋보이, 재밌]\n",
              "996          996  ...     [평점, 이리, 은지, 공감, 많이, 깨우치, 영화, 10, 그렇게, 어렵, ㄴ지]\n",
              "997          997  ...                                       [다시, 아도, 최고]\n",
              "998          998  ...                           [진짜, 거치, 없이, 하이, 정말, 최고]\n",
              "999          999  ...                 [준용, 선생님, 대박, 에요, 정말, 대단, 요부, ㅂ니다]\n",
              "\n",
              "[1000 rows x 5 columns]"
            ]
          },
          "metadata": {
            "tags": []
          },
          "execution_count": 35
        }
      ]
    },
    {
      "cell_type": "code",
      "metadata": {
        "id": "6SxDIgZ5sGvO",
        "outputId": "3bb028ef-c1b0-4e61-f82b-bb4ccf227c74",
        "colab": {
          "base_uri": "https://localhost:8080/",
          "height": 359
        }
      },
      "source": [
        "# 참고용) Group top 5 sentences under each topic\n",
        "sent_topics_sorteddf_mallet = pd.DataFrame()\n",
        "\n",
        "sent_topics_outdf_grpd = df_topic_sents_keywords.groupby('Dominant_Topic')\n",
        "\n",
        "for i, grp in sent_topics_outdf_grpd:\n",
        "    sent_topics_sorteddf_mallet = pd.concat([sent_topics_sorteddf_mallet, \n",
        "                                             grp.sort_values(['Perc_Contribution'], ascending=[0]).head(1)], \n",
        "                                            axis=0)\n",
        "\n",
        "# Reset Index    \n",
        "sent_topics_sorteddf_mallet.reset_index(drop=True, inplace=True)\n",
        "\n",
        "# Format\n",
        "sent_topics_sorteddf_mallet.columns = ['Topic_Num', \"Topic_Perc_Contrib\", \"Keywords\", \"Text\"]\n",
        "\n",
        "# Show\n",
        "sent_topics_sorteddf_mallet.head(100)"
      ],
      "execution_count": 36,
      "outputs": [
        {
          "output_type": "execute_result",
          "data": {
            "text/html": [
              "<div>\n",
              "<style scoped>\n",
              "    .dataframe tbody tr th:only-of-type {\n",
              "        vertical-align: middle;\n",
              "    }\n",
              "\n",
              "    .dataframe tbody tr th {\n",
              "        vertical-align: top;\n",
              "    }\n",
              "\n",
              "    .dataframe thead th {\n",
              "        text-align: right;\n",
              "    }\n",
              "</style>\n",
              "<table border=\"1\" class=\"dataframe\">\n",
              "  <thead>\n",
              "    <tr style=\"text-align: right;\">\n",
              "      <th></th>\n",
              "      <th>Topic_Num</th>\n",
              "      <th>Topic_Perc_Contrib</th>\n",
              "      <th>Keywords</th>\n",
              "      <th>Text</th>\n",
              "    </tr>\n",
              "  </thead>\n",
              "  <tbody>\n",
              "    <tr>\n",
              "      <th>0</th>\n",
              "      <td>0.0</td>\n",
              "      <td>0.9735</td>\n",
              "      <td>영화, 으로, 재밌, 에서, 연기, 주인공, 작품, 남자, 보다, 멋지</td>\n",
              "      <td>[질풍, 노도, 시기, 바람, wind, 처럼, 그저, 흘러가, 하루하루, 재미있,...</td>\n",
              "    </tr>\n",
              "    <tr>\n",
              "      <th>1</th>\n",
              "      <td>1.0</td>\n",
              "      <td>0.9591</td>\n",
              "      <td>영화, ㄴ다, 생각, 최고, 너무, 평점, 지만, 한국, 으로, 아니</td>\n",
              "      <td>[격투기, 주제, 영화, 대체로, 스토리, 형편없, 는데, 영화, 스토리, 신경, ...</td>\n",
              "    </tr>\n",
              "    <tr>\n",
              "      <th>2</th>\n",
              "      <td>2.0</td>\n",
              "      <td>0.9700</td>\n",
              "      <td>영화, 네요, 정말, ㅂ니다, 습니다, 에서, 는데, 좋아하, 평점, 괜찮</td>\n",
              "      <td>[엄정, 연기, 안주, 엄정, 연기, 잘하, 뻔히, 당연, 사실, 는데, 영화, 보...</td>\n",
              "    </tr>\n",
              "    <tr>\n",
              "      <th>3</th>\n",
              "      <td>3.0</td>\n",
              "      <td>0.9654</td>\n",
              "      <td>영화, 감동, 정말, 재미, 시간, 에서, 어요, 재밌, 는데, 까지</td>\n",
              "      <td>[영화, 다만, 엔딩, 에서, 주인공, 배심원, 상대, 늘어놓, 일장, 연설, 너무...</td>\n",
              "    </tr>\n",
              "    <tr>\n",
              "      <th>4</th>\n",
              "      <td>4.0</td>\n",
              "      <td>0.9743</td>\n",
              "      <td>재밌, 어요, 영화, 는데, 진짜, 너무, 지만, 연기, 어서, 스토리</td>\n",
              "      <td>[내가, 남자, 그렇, ㄴ가, 이거, 긴장감, 흥미진진, 던데, 그렇, ㄴ가, 워낙...</td>\n",
              "    </tr>\n",
              "    <tr>\n",
              "      <th>5</th>\n",
              "      <td>5.0</td>\n",
              "      <td>0.9757</td>\n",
              "      <td>영화, 사랑, 아니, 지만, 배우, 감독, 까지, 가슴, 어서, 사람</td>\n",
              "      <td>[안개, 에서, 균형, 고는, 자신, 감당, 못하, 탐욕, 부리, 압도적, 운명, ...</td>\n",
              "    </tr>\n",
              "    <tr>\n",
              "      <th>6</th>\n",
              "      <td>6.0</td>\n",
              "      <td>0.9526</td>\n",
              "      <td>재미있, 어요, 영화, 완전, 너무, 다시, 아도, 기억, 네요, 대박</td>\n",
              "      <td>[독교, 보여주, 유럽, 마녀, 사냥, 다르, 미국, 아주, 그냥, 종교, 전체, ...</td>\n",
              "    </tr>\n",
              "    <tr>\n",
              "      <th>7</th>\n",
              "      <td>7.0</td>\n",
              "      <td>0.9654</td>\n",
              "      <td>영화, 장면, 10, 지만, 지금, 평점, ㄴ다, ㄴ데, 마지막, 아야</td>\n",
              "      <td>[97, 년도, 영화, 그렇, ㄴ지, 많이, 부족, 장면, 하지만, 97, 년도, ...</td>\n",
              "    </tr>\n",
              "    <tr>\n",
              "      <th>8</th>\n",
              "      <td>8.0</td>\n",
              "      <td>0.9700</td>\n",
              "      <td>최고, 영화, 드라마, ㅂ니다, 정말, 명작, ㄴ다, 감동적, 아니, 작품</td>\n",
              "      <td>[만약, 시즌, 하면, 성규, 오빠, 주세, 당하, 비장, 머리, 자기, 아니, 라...</td>\n",
              "    </tr>\n",
              "    <tr>\n",
              "      <th>9</th>\n",
              "      <td>9.0</td>\n",
              "      <td>0.9640</td>\n",
              "      <td>영화, 진짜, 너무, 만들, 는데, 이거, 정말, 네요, ㅂ니다, 에서</td>\n",
              "      <td>[만듬, ost, 부터, 좋앙, 스토리, 구성, 꼼꼼, 하구, 대사, 하나하나, 신...</td>\n",
              "    </tr>\n",
              "  </tbody>\n",
              "</table>\n",
              "</div>"
            ],
            "text/plain": [
              "   Topic_Num  ...                                               Text\n",
              "0        0.0  ...  [질풍, 노도, 시기, 바람, wind, 처럼, 그저, 흘러가, 하루하루, 재미있,...\n",
              "1        1.0  ...  [격투기, 주제, 영화, 대체로, 스토리, 형편없, 는데, 영화, 스토리, 신경, ...\n",
              "2        2.0  ...  [엄정, 연기, 안주, 엄정, 연기, 잘하, 뻔히, 당연, 사실, 는데, 영화, 보...\n",
              "3        3.0  ...  [영화, 다만, 엔딩, 에서, 주인공, 배심원, 상대, 늘어놓, 일장, 연설, 너무...\n",
              "4        4.0  ...  [내가, 남자, 그렇, ㄴ가, 이거, 긴장감, 흥미진진, 던데, 그렇, ㄴ가, 워낙...\n",
              "5        5.0  ...  [안개, 에서, 균형, 고는, 자신, 감당, 못하, 탐욕, 부리, 압도적, 운명, ...\n",
              "6        6.0  ...  [독교, 보여주, 유럽, 마녀, 사냥, 다르, 미국, 아주, 그냥, 종교, 전체, ...\n",
              "7        7.0  ...  [97, 년도, 영화, 그렇, ㄴ지, 많이, 부족, 장면, 하지만, 97, 년도, ...\n",
              "8        8.0  ...  [만약, 시즌, 하면, 성규, 오빠, 주세, 당하, 비장, 머리, 자기, 아니, 라...\n",
              "9        9.0  ...  [만듬, ost, 부터, 좋앙, 스토리, 구성, 꼼꼼, 하구, 대사, 하나하나, 신...\n",
              "\n",
              "[10 rows x 4 columns]"
            ]
          },
          "metadata": {
            "tags": []
          },
          "execution_count": 36
        }
      ]
    },
    {
      "cell_type": "code",
      "metadata": {
        "id": "55BPQRSysGvP"
      },
      "source": [
        ""
      ],
      "execution_count": null,
      "outputs": []
    }
  ]
}